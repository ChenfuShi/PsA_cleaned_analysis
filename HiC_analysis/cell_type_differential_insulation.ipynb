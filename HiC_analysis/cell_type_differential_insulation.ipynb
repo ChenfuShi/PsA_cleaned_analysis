{
 "cells": [
  {
   "attachments": {},
   "cell_type": "markdown",
   "metadata": {},
   "source": [
    "# script to identify the bins that have a differential insulation score"
   ]
  },
  {
   "cell_type": "code",
   "execution_count": 2,
   "metadata": {},
   "outputs": [
    {
     "name": "stdout",
     "output_type": "stream",
     "text": [
      "INFO: Pandarallel will run on 28 workers.\n",
      "INFO: Pandarallel will use Memory file system to transfer data between the main process and workers.\n"
     ]
    }
   ],
   "source": [
    "import pandas as pd\n",
    "import numpy as np\n",
    "import hicstraw \n",
    "from multiprocessing import Pool\n",
    "from functools import partial\n",
    "import glob\n",
    "import os\n",
    "import plotly.express as px\n",
    "import math\n",
    "import matplotlib.pyplot as plt\n",
    "from matplotlib import colors\n",
    "from pandarallel import pandarallel\n",
    "import cooler\n",
    "import cooltools\n",
    "import pybedtools as pbed\n",
    "pandarallel.initialize()\n",
    "from scipy import stats, special\n",
    "from statsmodels.stats import multitest\n",
    "import statsmodels.api as sm\n",
    "import statsmodels.formula.api as smf\n",
    "import plotly.io as pio\n",
    "import seaborn as sns\n",
    "os.makedirs(\"/mnt/iusers01/jw01/mdefscs4/scratch/temp_pybedtools/\", exist_ok = True)\n",
    "pbed.helpers.set_tempdir(\"/mnt/iusers01/jw01/mdefscs4/scratch/temp_pybedtools/\")\n",
    "bed_genome_file = \"/mnt/iusers01/jw01/mdefscs4/hg38.genome\"\n",
    "\n",
    "plt.rcParams['svg.fonttype'] = 'none'\n",
    "\n",
    "base_dir = \"/mnt/jw01-aruk-home01/projects/psa_functional_genomics/PsA_cleaned_analysis\""
   ]
  },
  {
   "cell_type": "code",
   "execution_count": 3,
   "metadata": {},
   "outputs": [],
   "source": [
    "import sys\n",
    "sys.path.append(f\"{base_dir}/data_functions\")\n",
    "from quantile_norm import quantile_normalize"
   ]
  },
  {
   "cell_type": "code",
   "execution_count": 4,
   "metadata": {},
   "outputs": [],
   "source": [
    "metadata_hic = pd.read_csv(f\"{base_dir}/metadata/cleaned_HiC_metadata.csv\", index_col = 0)"
   ]
  },
  {
   "attachments": {},
   "cell_type": "markdown",
   "metadata": {},
   "source": [
    "## read the tables from the precomputed folder"
   ]
  },
  {
   "cell_type": "code",
   "execution_count": 5,
   "metadata": {},
   "outputs": [],
   "source": [
    "all_df = {}\n",
    "for key, row in metadata_hic.iterrows():\n",
    "    sample = row[\"folder_name\"]\n",
    "    insulation_table = pd.read_csv(f\"{base_dir}/HiC_analysis/insulation_score/ins_tables/{sample}.csv.gz\", dtype = {1:str,4:str},index_col = 0)\n",
    "    all_df[sample] = insulation_table"
   ]
  },
  {
   "cell_type": "code",
   "execution_count": 6,
   "metadata": {},
   "outputs": [],
   "source": [
    "def merge_dfs(dataframes_dict):\n",
    "    first_df = list(dataframes_dict.values())[0]\n",
    "    merged_df = first_df[['chrom', 'start', 'end', 'region']]\n",
    "    for key, df in dataframes_dict.items():\n",
    "        merged_df = pd.merge(merged_df, df[['chrom', 'start', 'end', 'region', 'log2_insulation_score_100000']], on=['chrom', 'start', 'end', 'region'])\n",
    "        col = df['log2_insulation_score_100000'].name\n",
    "        merged_df = merged_df.rename(columns={col: key})\n",
    "    return merged_df\n",
    "\n",
    "merged_df = merge_dfs(all_df)"
   ]
  },
  {
   "cell_type": "code",
   "execution_count": 7,
   "metadata": {},
   "outputs": [],
   "source": [
    "# apply quantile normalization to the insulation scores across samples\n",
    "merged_df.iloc[:,4:] = quantile_normalize(merged_df.iloc[:,4:])"
   ]
  },
  {
   "cell_type": "code",
   "execution_count": 8,
   "metadata": {},
   "outputs": [],
   "source": [
    "merged_df[\"chrom\"] = \"chr\" + merged_df[\"chrom\"] \n",
    "merged_df = merged_df.drop(columns = [\"region\"])\n",
    "merged_df.to_csv(f\"{base_dir}/HiC_analysis/insulation_score/aggregated_norm_ins_scores.csv.gz\")"
   ]
  },
  {
   "attachments": {},
   "cell_type": "markdown",
   "metadata": {},
   "source": [
    "## run differential analysis test\n",
    "CD4 vs CD8"
   ]
  },
  {
   "cell_type": "code",
   "execution_count": 15,
   "metadata": {},
   "outputs": [],
   "source": [
    "melted_df = merged_df.melt(id_vars=['chrom', 'start', 'end'], value_vars=list(merged_df.columns[4:]), var_name='sample', value_name='log2_insulation_score_100000')"
   ]
  },
  {
   "cell_type": "code",
   "execution_count": 16,
   "metadata": {},
   "outputs": [],
   "source": [
    "melted_df = melted_df.merge(metadata_hic, left_on = \"sample\", right_on = \"folder_name\")"
   ]
  },
  {
   "cell_type": "code",
   "execution_count": 26,
   "metadata": {},
   "outputs": [],
   "source": [
    "def calculate_ols_test_CD4_CD8(df, formula = \"log2_insulation_score_100000 ~ cell_type + female_sex\"):\n",
    "    if len(df[~df[\"log2_insulation_score_100000\"].isnull()]) < 8:\n",
    "        return pd.Series({\"p_value\":None, \n",
    "                    \"base_mean\":None,})\n",
    "    s = smf.ols(formula, data = df)\n",
    "    r = s.fit()\n",
    "    return pd.Series({\"p_value\":r.pvalues[\"cell_type[T.CD8]\"], \n",
    "                    \"base_mean\":df[\"log2_insulation_score_100000\"].mean(),})"
   ]
  },
  {
   "cell_type": "code",
   "execution_count": 27,
   "metadata": {},
   "outputs": [],
   "source": [
    "melted_df_subset = melted_df[(melted_df[\"cell_type\"].isin([\"CD4\",\"CD8\"]))]\n",
    "melted_df_test_p_val = melted_df_subset.groupby(['chrom', 'start', 'end']).parallel_apply(calculate_ols_test_CD4_CD8)"
   ]
  },
  {
   "cell_type": "code",
   "execution_count": 28,
   "metadata": {},
   "outputs": [],
   "source": [
    "melted_df_test_p_val = melted_df_test_p_val.reset_index()\n",
    "melted_df_test_p_val = melted_df_test_p_val.fillna(1)\n",
    "\n",
    "melted_df_test_p_val[\"FDR\"] = multitest.fdrcorrection(melted_df_test_p_val[\"p_value\"], alpha = 0.1)[1]"
   ]
  },
  {
   "cell_type": "code",
   "execution_count": 31,
   "metadata": {},
   "outputs": [],
   "source": [
    "melted_df_test_p_val.to_csv(f\"{base_dir}/HiC_analysis/output_results/DE_ins_CD4_vs_CD8.csv\")"
   ]
  },
  {
   "cell_type": "code",
   "execution_count": 32,
   "metadata": {},
   "outputs": [],
   "source": [
    "melted_df_test_p_val[\"log_pval\"] = -np.log(melted_df_test_p_val[\"p_value\"])\n",
    "melted_df_test_p_val[\"chrom start end log_pval\".split()].to_csv(\n",
    "    f\"{base_dir}/HiC_analysis/output_results/DE_ins_CD4_vs_CD8.bed\", \n",
    "    sep =\"\\t\", index = False)"
   ]
  },
  {
   "attachments": {},
   "cell_type": "markdown",
   "metadata": {},
   "source": [
    "## CD8 vs CD8SF"
   ]
  },
  {
   "cell_type": "code",
   "execution_count": 34,
   "metadata": {},
   "outputs": [],
   "source": [
    "def calculate_ols_test_CD8_CD8SF(df, formula = \"log2_insulation_score_100000 ~ cell_type + female_sex\"):\n",
    "    if len(df[~df[\"log2_insulation_score_100000\"].isnull()]) < 8:\n",
    "        return pd.Series({\"p_value\":None, \n",
    "                    \"base_mean\":None,})\n",
    "    s = smf.ols(formula, data = df)\n",
    "    r = s.fit()\n",
    "    return pd.Series({\"p_value\":r.pvalues[\"cell_type[T.CD8_SF]\"], \n",
    "                    \"base_mean\":df[\"log2_insulation_score_100000\"].mean(),})"
   ]
  },
  {
   "cell_type": "code",
   "execution_count": 35,
   "metadata": {},
   "outputs": [],
   "source": [
    "melted_df_subset = melted_df[(melted_df[\"cell_type\"].isin([\"CD8\",\"CD8_SF\"]))]\n",
    "melted_df_test_p_val = melted_df_subset.groupby(['chrom', 'start', 'end']).parallel_apply(calculate_ols_test_CD8_CD8SF)"
   ]
  },
  {
   "cell_type": "code",
   "execution_count": 36,
   "metadata": {},
   "outputs": [],
   "source": [
    "melted_df_test_p_val = melted_df_test_p_val.reset_index()\n",
    "melted_df_test_p_val = melted_df_test_p_val.fillna(1)\n",
    "\n",
    "melted_df_test_p_val[\"FDR\"] = multitest.fdrcorrection(melted_df_test_p_val[\"p_value\"], alpha = 0.1)[1]"
   ]
  },
  {
   "cell_type": "code",
   "execution_count": 38,
   "metadata": {},
   "outputs": [],
   "source": [
    "melted_df_test_p_val.to_csv(f\"{base_dir}/HiC_analysis/output_results/DE_ins_CD8_vs_CD8SF.csv\")"
   ]
  },
  {
   "cell_type": "code",
   "execution_count": 39,
   "metadata": {},
   "outputs": [],
   "source": [
    "melted_df_test_p_val[\"log_pval\"] = -np.log(melted_df_test_p_val[\"p_value\"])\n",
    "melted_df_test_p_val[\"chrom start end log_pval\".split()].to_csv(\n",
    "    f\"{base_dir}/HiC_analysis/output_results/DE_ins_CD8_vs_CD8SF.bed\", \n",
    "    sep =\"\\t\", index = False)"
   ]
  },
  {
   "cell_type": "code",
   "execution_count": null,
   "metadata": {},
   "outputs": [],
   "source": []
  }
 ],
 "metadata": {
  "kernelspec": {
   "display_name": "Python 3",
   "language": "python",
   "name": "python3"
  },
  "language_info": {
   "codemirror_mode": {
    "name": "ipython",
    "version": 3
   },
   "file_extension": ".py",
   "mimetype": "text/x-python",
   "name": "python",
   "nbconvert_exporter": "python",
   "pygments_lexer": "ipython3",
   "version": "3.9.10"
  },
  "orig_nbformat": 4
 },
 "nbformat": 4,
 "nbformat_minor": 2
}
