{
 "cells": [
  {
   "cell_type": "code",
   "execution_count": 1,
   "metadata": {},
   "outputs": [],
   "source": [
    "import pandas as pd\n",
    "import numpy as np\n",
    "from multiprocessing import Pool\n",
    "from functools import partial\n",
    "import glob\n",
    "import os\n",
    "import plotly.express as px\n",
    "import math\n",
    "import matplotlib.pyplot as plt\n",
    "from matplotlib import colors\n",
    "import pybedtools as pbed\n",
    "from scipy import stats, special\n",
    "from statsmodels.stats import multitest\n",
    "import statsmodels.api as sm\n",
    "import statsmodels.formula.api as smf\n",
    "import plotly.io as pio\n",
    "import seaborn as sns\n",
    "\n",
    "plt.rcParams['svg.fonttype'] = 'none'\n",
    "base_dir = \"http://bartzabel.ls.manchester.ac.uk/orozcolab/SNP2Mechanism/\""
   ]
  },
  {
   "cell_type": "code",
   "execution_count": 2,
   "metadata": {},
   "outputs": [],
   "source": [
    "metadata_hic = pd.read_csv(f\"{base_dir}/metadata/cleaned_HiC_metadata.csv\", index_col = 0)\n",
    "loops_analysed = pd.read_pickle(f\"http://bartzabel.ls.manchester.ac.uk/orozcolab/SNP2Mechanism/hic/loops/aggregated_counts/aggregated_normalized_loops_CD4_CD8.pk\")"
   ]
  },
  {
   "cell_type": "code",
   "execution_count": 3,
   "metadata": {},
   "outputs": [],
   "source": [
    "column_name_dict = dict(zip(metadata_hic['folder_name'], metadata_hic['proper_name']))\n",
    "loops_analysed = loops_analysed.rename(columns=column_name_dict)\n",
    "loops_counts_melted = pd.melt(loops_analysed, id_vars=['chrA', 'A_start', 'A_end', 'chrB', 'B_start', 'B_end', 'FDR', 'DETECTION_SCALE', 'distance_bin'], \n",
    "        value_vars=loops_analysed.columns.difference(['chrA', 'A_start', 'A_end', 'chrB', 'B_start', 'B_end', 'FDR', 'DETECTION_SCALE', 'distance_bin']),\n",
    "        var_name=\"proper_name\",value_name=\"interaction_strength\")\n",
    "loops_counts_melted = loops_counts_melted.merge(metadata_hic[[\"patient\",\"cell_type\",\"condition\",\"proper_name\"]], on = \"proper_name\")"
   ]
  },
  {
   "cell_type": "code",
   "execution_count": 10,
   "metadata": {},
   "outputs": [
    {
     "name": "stderr",
     "output_type": "stream",
     "text": [
      "/tmp/ipykernel_24103/3073381430.py:4: SettingWithCopyWarning:\n",
      "\n",
      "\n",
      "A value is trying to be set on a copy of a slice from a DataFrame.\n",
      "Try using .loc[row_indexer,col_indexer] = value instead\n",
      "\n",
      "See the caveats in the documentation: https://pandas.pydata.org/pandas-docs/stable/user_guide/indexing.html#returning-a-view-versus-a-copy\n",
      "\n"
     ]
    },
    {
     "data": {
      "application/vnd.plotly.v1+json": {
       "config": {
        "plotlyServerURL": "https://plot.ly"
       },
       "data": [
        {
         "alignmentgroup": "True",
         "boxpoints": "all",
         "fillcolor": "rgba(255,255,255,0)",
         "hoveron": "points",
         "hovertemplate": "<b>%{hovertext}</b><br><br>condition=healthy<br>Cell Type=%{x}<br>interaction strength=%{y}<extra></extra>",
         "hovertext": [
          "NRHV014XCD4",
          "NRHV014XCD8",
          "NRHV073CD4",
          "NRHV073CD8",
          "NRHV079CD4",
          "NRHV079CD8",
          "NRHV086CD4",
          "NRHV086CD8",
          "NRHV121CD4",
          "NRHV121CD8",
          "NRHV151CD4",
          "NRHV168CD4",
          "NRHV168CD8",
          "NRHV171CD4",
          "NRHV171CD8",
          "NRHV238CD4",
          "NRHV238CD8",
          "NRHV290CD4",
          "NRHV290CD8",
          "NRHV295CD4",
          "NRHV295CD8",
          "NRHV321CD4",
          "NRHV321CD8",
          "NRHV322CD4",
          "NRHV322CD8",
          "NRHV324CD4",
          "NRHV324CD8",
          "NRHV325CD4",
          "NRHV325CD8",
          "NRHV326CD4",
          "NRHV326CD8",
          "NRHV332CD4",
          "NRHV332CD8"
         ],
         "legendgroup": "healthy",
         "line": {
          "color": "rgba(255,255,255,0)"
         },
         "marker": {
          "color": "#00cc96",
          "line": {
           "color": "DarkSlateGrey",
           "width": 1
          },
          "opacity": 0.8,
          "size": 8
         },
         "name": "healthy",
         "offsetgroup": "healthy",
         "orientation": "v",
         "pointpos": 0,
         "showlegend": true,
         "type": "box",
         "x": [
          "CD4",
          "CD8",
          "CD4",
          "CD8",
          "CD4",
          "CD8",
          "CD4",
          "CD8",
          "CD4",
          "CD8",
          "CD4",
          "CD4",
          "CD8",
          "CD4",
          "CD8",
          "CD4",
          "CD8",
          "CD4",
          "CD8",
          "CD4",
          "CD8",
          "CD4",
          "CD8",
          "CD4",
          "CD8",
          "CD4",
          "CD8",
          "CD4",
          "CD8",
          "CD4",
          "CD8",
          "CD4",
          "CD8"
         ],
         "x0": " ",
         "xaxis": "x",
         "y": [
          115.42525393487314,
          56.091305782711714,
          122.15956242378977,
          83.30324105017378,
          102.76769861758501,
          64.70719645294663,
          90.34006564319047,
          66.48369379070462,
          101.2795242132399,
          72.5232792672557,
          149.13630093494248,
          109.24253303075683,
          71.96759192842255,
          107.85909221416946,
          54.261550230162065,
          100.99452002496297,
          67.26713179157312,
          115.57779163581591,
          77.06857468252491,
          108.07468465028829,
          77.53604620699863,
          106.17323798238984,
          88.54973982984484,
          97.07237483275232,
          79.36866831315082,
          109.11462805023005,
          76.6746010675494,
          104.94982581012266,
          64.08790207312099,
          104.58811445948344,
          63.78828265886719,
          121.25552745456226,
          78.57194056138606
         ],
         "y0": " ",
         "yaxis": "y"
        },
        {
         "alignmentgroup": "True",
         "boxpoints": "all",
         "fillcolor": "rgba(255,255,255,0)",
         "hoveron": "points",
         "hovertemplate": "<b>%{hovertext}</b><br><br>condition=synovium<br>Cell Type=%{x}<br>interaction strength=%{y}<extra></extra>",
         "hovertext": [
          "PSA4917CD8_SF",
          "PSA4918CD8_SF",
          "PSA4951CD8_SF",
          "PSA4958CD4_SF",
          "PSA4958CD8_SF",
          "PSA4959CD8_SF",
          "PSA4969CD8_SF",
          "PSA5025CD8_SF",
          "PSA5040CD8_SF"
         ],
         "legendgroup": "synovium",
         "line": {
          "color": "rgba(255,255,255,0)"
         },
         "marker": {
          "color": "#ab63fa",
          "line": {
           "color": "DarkSlateGrey",
           "width": 1
          },
          "opacity": 0.8,
          "size": 8
         },
         "name": "synovium",
         "offsetgroup": "synovium",
         "orientation": "v",
         "pointpos": 0,
         "showlegend": true,
         "type": "box",
         "x": [
          "CD8",
          "CD8",
          "CD8",
          "CD4",
          "CD8",
          "CD8",
          "CD8",
          "CD8",
          "CD8"
         ],
         "x0": " ",
         "xaxis": "x",
         "y": [
          69.79712435833106,
          53.430000882976415,
          41.05956062526818,
          91.0099455062385,
          62.75943047597765,
          61.595423237855265,
          55.003806329615394,
          70.92712276063757,
          50.60331535915699
         ],
         "y0": " ",
         "yaxis": "y"
        },
        {
         "alignmentgroup": "True",
         "boxpoints": "all",
         "fillcolor": "rgba(255,255,255,0)",
         "hoveron": "points",
         "hovertemplate": "<b>%{hovertext}</b><br><br>condition=patient<br>Cell Type=%{x}<br>interaction strength=%{y}<extra></extra>",
         "hovertext": [
          "PSA4920CD4",
          "PSA4920CD8",
          "PSA4941CD8",
          "PSA4942CD4",
          "PSA4942CD8",
          "PSA4943CD8",
          "PSA4944CD4",
          "PSA4944CD8",
          "PSA4945CD4",
          "PSA4946CD8",
          "PSA4950CD4",
          "PSA4950CD8",
          "PSA4951CD4",
          "PSA4951CD8",
          "PSA4954CD4",
          "PSA4954CD8",
          "PSA4957CD4",
          "PSA4958CD4",
          "PSA4958CD8",
          "PSA4959CD4",
          "PSA4959CD8",
          "PSA4960CD8",
          "PSA4961CD8",
          "PSA4962CD4",
          "PSA4962CD8",
          "PSA4963CD4",
          "PSA4963CD8",
          "PSA4967CD4",
          "PSA4968CD4",
          "PSA4968CD8",
          "PSA5006CD4",
          "PSA5006CD8",
          "PSA5007CD4",
          "PSA5008CD4",
          "PSA5008CD8",
          "PSA5009CD4",
          "PSA5009CD8",
          "PSA5010CD4",
          "PSA5010CD8",
          "PSA5012CD4",
          "PSA5012CD8",
          "PSA5013CD4",
          "PSA5013CD8",
          "PSA5014CD4",
          "PSA5014CD8",
          "PSA5015CD8",
          "PSA5017CD4",
          "PSA5017CD8",
          "PSA5018CD4",
          "PSA5018CD8",
          "PSA5019CD4",
          "PSA5019CD8",
          "PSA5020CD8",
          "PSA5021CD4",
          "PSA5021CD8",
          "PSA5022CD8",
          "PSA5023CD8",
          "PSA5024CD8",
          "PSA5026CD4",
          "PSA5026CD8",
          "PSA5036CD8",
          "PSA5037CD4",
          "PSA5037CD8",
          "PSA5039CD8",
          "PSA5040CD4",
          "PSA5040CD8"
         ],
         "legendgroup": "patient",
         "line": {
          "color": "rgba(255,255,255,0)"
         },
         "marker": {
          "color": "#FFA15A",
          "line": {
           "color": "DarkSlateGrey",
           "width": 1
          },
          "opacity": 0.8,
          "size": 8
         },
         "name": "patient",
         "offsetgroup": "patient",
         "orientation": "v",
         "pointpos": 0,
         "showlegend": true,
         "type": "box",
         "x": [
          "CD4",
          "CD8",
          "CD8",
          "CD4",
          "CD8",
          "CD8",
          "CD4",
          "CD8",
          "CD4",
          "CD8",
          "CD4",
          "CD8",
          "CD4",
          "CD8",
          "CD4",
          "CD8",
          "CD4",
          "CD4",
          "CD8",
          "CD4",
          "CD8",
          "CD8",
          "CD8",
          "CD4",
          "CD8",
          "CD4",
          "CD8",
          "CD4",
          "CD4",
          "CD8",
          "CD4",
          "CD8",
          "CD4",
          "CD4",
          "CD8",
          "CD4",
          "CD8",
          "CD4",
          "CD8",
          "CD4",
          "CD8",
          "CD4",
          "CD8",
          "CD4",
          "CD8",
          "CD8",
          "CD4",
          "CD8",
          "CD4",
          "CD8",
          "CD4",
          "CD8",
          "CD8",
          "CD4",
          "CD8",
          "CD8",
          "CD8",
          "CD8",
          "CD4",
          "CD8",
          "CD8",
          "CD4",
          "CD8",
          "CD8",
          "CD4",
          "CD8"
         ],
         "x0": " ",
         "xaxis": "x",
         "y": [
          120.37781810760498,
          77.41780378865494,
          61.70066774354685,
          115.23233291388769,
          84.18765087498912,
          71.70544888567022,
          101.74743686849774,
          72.09718826178799,
          110.74109044136361,
          65.20284199423888,
          109.76122834623088,
          73.73629078740515,
          120.67773859748799,
          81.2294679696895,
          93.77629583948251,
          82.0413770447176,
          94.3581142251848,
          120.54812841673717,
          71.40468081202545,
          114.12913439311674,
          87.0464380666093,
          71.91164400850597,
          57.57371465549465,
          125.1475469330419,
          87.34215431360417,
          93.50506316152514,
          60.35572305169111,
          99.60590279696197,
          123.37213935233345,
          91.25706654713031,
          108.22069504401844,
          58.06911846993102,
          92.23729892992245,
          113.08920249805847,
          88.00054010554695,
          96.4594674110871,
          88.0353809735667,
          109.19007622670614,
          59.49248071470437,
          107.90798285385377,
          79.42321737408506,
          98.7306383577674,
          77.61985713817478,
          125.45064716805022,
          72.76758819103979,
          115.57852170883898,
          100.89503755507175,
          70.54376984481067,
          100.23165970368147,
          72.34600104849757,
          97.56804666818381,
          75.26234588849762,
          65.22450581693275,
          104.06448757440941,
          55.303107259211814,
          70.96652250894252,
          61.528840602489225,
          75.89087149497811,
          120.25170223570827,
          75.08383262289769,
          66.46209956624895,
          94.37861023969391,
          66.17211045098462,
          80.74442661376482,
          105.27089376421387,
          78.56007683689269
         ],
         "y0": " ",
         "yaxis": "y"
        }
       ],
       "layout": {
        "boxmode": "group",
        "font": {
         "family": "Arial, sans-serif",
         "size": 16
        },
        "height": 700,
        "legend": {
         "orientation": "h",
         "title": {
          "text": "Condition"
         },
         "tracegroupgap": 0,
         "x": 1,
         "xanchor": "right",
         "y": 1.02,
         "yanchor": "bottom"
        },
        "template": {
         "data": {
          "bar": [
           {
            "error_x": {
             "color": "#2a3f5f"
            },
            "error_y": {
             "color": "#2a3f5f"
            },
            "marker": {
             "line": {
              "color": "#E5ECF6",
              "width": 0.5
             },
             "pattern": {
              "fillmode": "overlay",
              "size": 10,
              "solidity": 0.2
             }
            },
            "type": "bar"
           }
          ],
          "barpolar": [
           {
            "marker": {
             "line": {
              "color": "#E5ECF6",
              "width": 0.5
             },
             "pattern": {
              "fillmode": "overlay",
              "size": 10,
              "solidity": 0.2
             }
            },
            "type": "barpolar"
           }
          ],
          "carpet": [
           {
            "aaxis": {
             "endlinecolor": "#2a3f5f",
             "gridcolor": "white",
             "linecolor": "white",
             "minorgridcolor": "white",
             "startlinecolor": "#2a3f5f"
            },
            "baxis": {
             "endlinecolor": "#2a3f5f",
             "gridcolor": "white",
             "linecolor": "white",
             "minorgridcolor": "white",
             "startlinecolor": "#2a3f5f"
            },
            "type": "carpet"
           }
          ],
          "choropleth": [
           {
            "colorbar": {
             "outlinewidth": 0,
             "ticks": ""
            },
            "type": "choropleth"
           }
          ],
          "contour": [
           {
            "colorbar": {
             "outlinewidth": 0,
             "ticks": ""
            },
            "colorscale": [
             [
              0,
              "#0d0887"
             ],
             [
              0.1111111111111111,
              "#46039f"
             ],
             [
              0.2222222222222222,
              "#7201a8"
             ],
             [
              0.3333333333333333,
              "#9c179e"
             ],
             [
              0.4444444444444444,
              "#bd3786"
             ],
             [
              0.5555555555555556,
              "#d8576b"
             ],
             [
              0.6666666666666666,
              "#ed7953"
             ],
             [
              0.7777777777777778,
              "#fb9f3a"
             ],
             [
              0.8888888888888888,
              "#fdca26"
             ],
             [
              1,
              "#f0f921"
             ]
            ],
            "type": "contour"
           }
          ],
          "contourcarpet": [
           {
            "colorbar": {
             "outlinewidth": 0,
             "ticks": ""
            },
            "type": "contourcarpet"
           }
          ],
          "heatmap": [
           {
            "colorbar": {
             "outlinewidth": 0,
             "ticks": ""
            },
            "colorscale": [
             [
              0,
              "#0d0887"
             ],
             [
              0.1111111111111111,
              "#46039f"
             ],
             [
              0.2222222222222222,
              "#7201a8"
             ],
             [
              0.3333333333333333,
              "#9c179e"
             ],
             [
              0.4444444444444444,
              "#bd3786"
             ],
             [
              0.5555555555555556,
              "#d8576b"
             ],
             [
              0.6666666666666666,
              "#ed7953"
             ],
             [
              0.7777777777777778,
              "#fb9f3a"
             ],
             [
              0.8888888888888888,
              "#fdca26"
             ],
             [
              1,
              "#f0f921"
             ]
            ],
            "type": "heatmap"
           }
          ],
          "heatmapgl": [
           {
            "colorbar": {
             "outlinewidth": 0,
             "ticks": ""
            },
            "colorscale": [
             [
              0,
              "#0d0887"
             ],
             [
              0.1111111111111111,
              "#46039f"
             ],
             [
              0.2222222222222222,
              "#7201a8"
             ],
             [
              0.3333333333333333,
              "#9c179e"
             ],
             [
              0.4444444444444444,
              "#bd3786"
             ],
             [
              0.5555555555555556,
              "#d8576b"
             ],
             [
              0.6666666666666666,
              "#ed7953"
             ],
             [
              0.7777777777777778,
              "#fb9f3a"
             ],
             [
              0.8888888888888888,
              "#fdca26"
             ],
             [
              1,
              "#f0f921"
             ]
            ],
            "type": "heatmapgl"
           }
          ],
          "histogram": [
           {
            "marker": {
             "pattern": {
              "fillmode": "overlay",
              "size": 10,
              "solidity": 0.2
             }
            },
            "type": "histogram"
           }
          ],
          "histogram2d": [
           {
            "colorbar": {
             "outlinewidth": 0,
             "ticks": ""
            },
            "colorscale": [
             [
              0,
              "#0d0887"
             ],
             [
              0.1111111111111111,
              "#46039f"
             ],
             [
              0.2222222222222222,
              "#7201a8"
             ],
             [
              0.3333333333333333,
              "#9c179e"
             ],
             [
              0.4444444444444444,
              "#bd3786"
             ],
             [
              0.5555555555555556,
              "#d8576b"
             ],
             [
              0.6666666666666666,
              "#ed7953"
             ],
             [
              0.7777777777777778,
              "#fb9f3a"
             ],
             [
              0.8888888888888888,
              "#fdca26"
             ],
             [
              1,
              "#f0f921"
             ]
            ],
            "type": "histogram2d"
           }
          ],
          "histogram2dcontour": [
           {
            "colorbar": {
             "outlinewidth": 0,
             "ticks": ""
            },
            "colorscale": [
             [
              0,
              "#0d0887"
             ],
             [
              0.1111111111111111,
              "#46039f"
             ],
             [
              0.2222222222222222,
              "#7201a8"
             ],
             [
              0.3333333333333333,
              "#9c179e"
             ],
             [
              0.4444444444444444,
              "#bd3786"
             ],
             [
              0.5555555555555556,
              "#d8576b"
             ],
             [
              0.6666666666666666,
              "#ed7953"
             ],
             [
              0.7777777777777778,
              "#fb9f3a"
             ],
             [
              0.8888888888888888,
              "#fdca26"
             ],
             [
              1,
              "#f0f921"
             ]
            ],
            "type": "histogram2dcontour"
           }
          ],
          "mesh3d": [
           {
            "colorbar": {
             "outlinewidth": 0,
             "ticks": ""
            },
            "type": "mesh3d"
           }
          ],
          "parcoords": [
           {
            "line": {
             "colorbar": {
              "outlinewidth": 0,
              "ticks": ""
             }
            },
            "type": "parcoords"
           }
          ],
          "pie": [
           {
            "automargin": true,
            "type": "pie"
           }
          ],
          "scatter": [
           {
            "fillpattern": {
             "fillmode": "overlay",
             "size": 10,
             "solidity": 0.2
            },
            "type": "scatter"
           }
          ],
          "scatter3d": [
           {
            "line": {
             "colorbar": {
              "outlinewidth": 0,
              "ticks": ""
             }
            },
            "marker": {
             "colorbar": {
              "outlinewidth": 0,
              "ticks": ""
             }
            },
            "type": "scatter3d"
           }
          ],
          "scattercarpet": [
           {
            "marker": {
             "colorbar": {
              "outlinewidth": 0,
              "ticks": ""
             }
            },
            "type": "scattercarpet"
           }
          ],
          "scattergeo": [
           {
            "marker": {
             "colorbar": {
              "outlinewidth": 0,
              "ticks": ""
             }
            },
            "type": "scattergeo"
           }
          ],
          "scattergl": [
           {
            "marker": {
             "colorbar": {
              "outlinewidth": 0,
              "ticks": ""
             }
            },
            "type": "scattergl"
           }
          ],
          "scattermapbox": [
           {
            "marker": {
             "colorbar": {
              "outlinewidth": 0,
              "ticks": ""
             }
            },
            "type": "scattermapbox"
           }
          ],
          "scatterpolar": [
           {
            "marker": {
             "colorbar": {
              "outlinewidth": 0,
              "ticks": ""
             }
            },
            "type": "scatterpolar"
           }
          ],
          "scatterpolargl": [
           {
            "marker": {
             "colorbar": {
              "outlinewidth": 0,
              "ticks": ""
             }
            },
            "type": "scatterpolargl"
           }
          ],
          "scatterternary": [
           {
            "marker": {
             "colorbar": {
              "outlinewidth": 0,
              "ticks": ""
             }
            },
            "type": "scatterternary"
           }
          ],
          "surface": [
           {
            "colorbar": {
             "outlinewidth": 0,
             "ticks": ""
            },
            "colorscale": [
             [
              0,
              "#0d0887"
             ],
             [
              0.1111111111111111,
              "#46039f"
             ],
             [
              0.2222222222222222,
              "#7201a8"
             ],
             [
              0.3333333333333333,
              "#9c179e"
             ],
             [
              0.4444444444444444,
              "#bd3786"
             ],
             [
              0.5555555555555556,
              "#d8576b"
             ],
             [
              0.6666666666666666,
              "#ed7953"
             ],
             [
              0.7777777777777778,
              "#fb9f3a"
             ],
             [
              0.8888888888888888,
              "#fdca26"
             ],
             [
              1,
              "#f0f921"
             ]
            ],
            "type": "surface"
           }
          ],
          "table": [
           {
            "cells": {
             "fill": {
              "color": "#EBF0F8"
             },
             "line": {
              "color": "white"
             }
            },
            "header": {
             "fill": {
              "color": "#C8D4E3"
             },
             "line": {
              "color": "white"
             }
            },
            "type": "table"
           }
          ]
         },
         "layout": {
          "annotationdefaults": {
           "arrowcolor": "#2a3f5f",
           "arrowhead": 0,
           "arrowwidth": 1
          },
          "autotypenumbers": "strict",
          "coloraxis": {
           "colorbar": {
            "outlinewidth": 0,
            "ticks": ""
           }
          },
          "colorscale": {
           "diverging": [
            [
             0,
             "#8e0152"
            ],
            [
             0.1,
             "#c51b7d"
            ],
            [
             0.2,
             "#de77ae"
            ],
            [
             0.3,
             "#f1b6da"
            ],
            [
             0.4,
             "#fde0ef"
            ],
            [
             0.5,
             "#f7f7f7"
            ],
            [
             0.6,
             "#e6f5d0"
            ],
            [
             0.7,
             "#b8e186"
            ],
            [
             0.8,
             "#7fbc41"
            ],
            [
             0.9,
             "#4d9221"
            ],
            [
             1,
             "#276419"
            ]
           ],
           "sequential": [
            [
             0,
             "#0d0887"
            ],
            [
             0.1111111111111111,
             "#46039f"
            ],
            [
             0.2222222222222222,
             "#7201a8"
            ],
            [
             0.3333333333333333,
             "#9c179e"
            ],
            [
             0.4444444444444444,
             "#bd3786"
            ],
            [
             0.5555555555555556,
             "#d8576b"
            ],
            [
             0.6666666666666666,
             "#ed7953"
            ],
            [
             0.7777777777777778,
             "#fb9f3a"
            ],
            [
             0.8888888888888888,
             "#fdca26"
            ],
            [
             1,
             "#f0f921"
            ]
           ],
           "sequentialminus": [
            [
             0,
             "#0d0887"
            ],
            [
             0.1111111111111111,
             "#46039f"
            ],
            [
             0.2222222222222222,
             "#7201a8"
            ],
            [
             0.3333333333333333,
             "#9c179e"
            ],
            [
             0.4444444444444444,
             "#bd3786"
            ],
            [
             0.5555555555555556,
             "#d8576b"
            ],
            [
             0.6666666666666666,
             "#ed7953"
            ],
            [
             0.7777777777777778,
             "#fb9f3a"
            ],
            [
             0.8888888888888888,
             "#fdca26"
            ],
            [
             1,
             "#f0f921"
            ]
           ]
          },
          "colorway": [
           "#636efa",
           "#EF553B",
           "#00cc96",
           "#ab63fa",
           "#FFA15A",
           "#19d3f3",
           "#FF6692",
           "#B6E880",
           "#FF97FF",
           "#FECB52"
          ],
          "font": {
           "color": "#2a3f5f"
          },
          "geo": {
           "bgcolor": "white",
           "lakecolor": "white",
           "landcolor": "#E5ECF6",
           "showlakes": true,
           "showland": true,
           "subunitcolor": "white"
          },
          "hoverlabel": {
           "align": "left"
          },
          "hovermode": "closest",
          "mapbox": {
           "style": "light"
          },
          "paper_bgcolor": "white",
          "plot_bgcolor": "#E5ECF6",
          "polar": {
           "angularaxis": {
            "gridcolor": "white",
            "linecolor": "white",
            "ticks": ""
           },
           "bgcolor": "#E5ECF6",
           "radialaxis": {
            "gridcolor": "white",
            "linecolor": "white",
            "ticks": ""
           }
          },
          "scene": {
           "xaxis": {
            "backgroundcolor": "#E5ECF6",
            "gridcolor": "white",
            "gridwidth": 2,
            "linecolor": "white",
            "showbackground": true,
            "ticks": "",
            "zerolinecolor": "white"
           },
           "yaxis": {
            "backgroundcolor": "#E5ECF6",
            "gridcolor": "white",
            "gridwidth": 2,
            "linecolor": "white",
            "showbackground": true,
            "ticks": "",
            "zerolinecolor": "white"
           },
           "zaxis": {
            "backgroundcolor": "#E5ECF6",
            "gridcolor": "white",
            "gridwidth": 2,
            "linecolor": "white",
            "showbackground": true,
            "ticks": "",
            "zerolinecolor": "white"
           }
          },
          "shapedefaults": {
           "line": {
            "color": "#2a3f5f"
           }
          },
          "ternary": {
           "aaxis": {
            "gridcolor": "white",
            "linecolor": "white",
            "ticks": ""
           },
           "baxis": {
            "gridcolor": "white",
            "linecolor": "white",
            "ticks": ""
           },
           "bgcolor": "#E5ECF6",
           "caxis": {
            "gridcolor": "white",
            "linecolor": "white",
            "ticks": ""
           }
          },
          "title": {
           "x": 0.05
          },
          "xaxis": {
           "automargin": true,
           "gridcolor": "white",
           "linecolor": "white",
           "ticks": "",
           "title": {
            "standoff": 15
           },
           "zerolinecolor": "white",
           "zerolinewidth": 2
          },
          "yaxis": {
           "automargin": true,
           "gridcolor": "white",
           "linecolor": "white",
           "ticks": "",
           "title": {
            "standoff": 15
           },
           "zerolinecolor": "white",
           "zerolinewidth": 2
          }
         }
        },
        "title": {
         "text": "Loop Strength of CD4 loop across samples",
         "x": 0.5,
         "xanchor": "center",
         "y": 0.95,
         "yanchor": "top"
        },
        "width": 600,
        "xaxis": {
         "anchor": "y",
         "domain": [
          0,
          1
         ],
         "title": {
          "text": "Cell Type"
         }
        },
        "yaxis": {
         "anchor": "x",
         "domain": [
          0,
          1
         ],
         "title": {
          "text": "Loop Strength"
         }
        }
       }
      },
      "text/html": [
       "<div>                            <div id=\"0cdfc2a7-13c0-4c20-9fc0-053a816a7afe\" class=\"plotly-graph-div\" style=\"height:700px; width:600px;\"></div>            <script type=\"text/javascript\">                require([\"plotly\"], function(Plotly) {                    window.PLOTLYENV=window.PLOTLYENV || {};                                    if (document.getElementById(\"0cdfc2a7-13c0-4c20-9fc0-053a816a7afe\")) {                    Plotly.newPlot(                        \"0cdfc2a7-13c0-4c20-9fc0-053a816a7afe\",                        [{\"alignmentgroup\":\"True\",\"boxpoints\":\"all\",\"fillcolor\":\"rgba(255,255,255,0)\",\"hoveron\":\"points\",\"hovertemplate\":\"\\u003cb\\u003e%{hovertext}\\u003c\\u002fb\\u003e\\u003cbr\\u003e\\u003cbr\\u003econdition=healthy\\u003cbr\\u003eCell Type=%{x}\\u003cbr\\u003einteraction strength=%{y}\\u003cextra\\u003e\\u003c\\u002fextra\\u003e\",\"hovertext\":[\"NRHV014XCD4\",\"NRHV014XCD8\",\"NRHV073CD4\",\"NRHV073CD8\",\"NRHV079CD4\",\"NRHV079CD8\",\"NRHV086CD4\",\"NRHV086CD8\",\"NRHV121CD4\",\"NRHV121CD8\",\"NRHV151CD4\",\"NRHV168CD4\",\"NRHV168CD8\",\"NRHV171CD4\",\"NRHV171CD8\",\"NRHV238CD4\",\"NRHV238CD8\",\"NRHV290CD4\",\"NRHV290CD8\",\"NRHV295CD4\",\"NRHV295CD8\",\"NRHV321CD4\",\"NRHV321CD8\",\"NRHV322CD4\",\"NRHV322CD8\",\"NRHV324CD4\",\"NRHV324CD8\",\"NRHV325CD4\",\"NRHV325CD8\",\"NRHV326CD4\",\"NRHV326CD8\",\"NRHV332CD4\",\"NRHV332CD8\"],\"legendgroup\":\"healthy\",\"line\":{\"color\":\"rgba(255,255,255,0)\"},\"marker\":{\"color\":\"#00cc96\",\"line\":{\"color\":\"DarkSlateGrey\",\"width\":1},\"opacity\":0.8,\"size\":8},\"name\":\"healthy\",\"offsetgroup\":\"healthy\",\"orientation\":\"v\",\"pointpos\":0,\"showlegend\":true,\"x\":[\"CD4\",\"CD8\",\"CD4\",\"CD8\",\"CD4\",\"CD8\",\"CD4\",\"CD8\",\"CD4\",\"CD8\",\"CD4\",\"CD4\",\"CD8\",\"CD4\",\"CD8\",\"CD4\",\"CD8\",\"CD4\",\"CD8\",\"CD4\",\"CD8\",\"CD4\",\"CD8\",\"CD4\",\"CD8\",\"CD4\",\"CD8\",\"CD4\",\"CD8\",\"CD4\",\"CD8\",\"CD4\",\"CD8\"],\"x0\":\" \",\"xaxis\":\"x\",\"y\":[115.42525393487314,56.091305782711714,122.15956242378977,83.30324105017378,102.76769861758501,64.70719645294663,90.34006564319047,66.48369379070462,101.2795242132399,72.5232792672557,149.13630093494248,109.24253303075683,71.96759192842255,107.85909221416946,54.261550230162065,100.99452002496297,67.26713179157312,115.57779163581591,77.06857468252491,108.07468465028829,77.53604620699863,106.17323798238984,88.54973982984484,97.07237483275232,79.36866831315082,109.11462805023005,76.6746010675494,104.94982581012266,64.08790207312099,104.58811445948344,63.78828265886719,121.25552745456226,78.57194056138606],\"y0\":\" \",\"yaxis\":\"y\",\"type\":\"box\"},{\"alignmentgroup\":\"True\",\"boxpoints\":\"all\",\"fillcolor\":\"rgba(255,255,255,0)\",\"hoveron\":\"points\",\"hovertemplate\":\"\\u003cb\\u003e%{hovertext}\\u003c\\u002fb\\u003e\\u003cbr\\u003e\\u003cbr\\u003econdition=synovium\\u003cbr\\u003eCell Type=%{x}\\u003cbr\\u003einteraction strength=%{y}\\u003cextra\\u003e\\u003c\\u002fextra\\u003e\",\"hovertext\":[\"PSA4917CD8_SF\",\"PSA4918CD8_SF\",\"PSA4951CD8_SF\",\"PSA4958CD4_SF\",\"PSA4958CD8_SF\",\"PSA4959CD8_SF\",\"PSA4969CD8_SF\",\"PSA5025CD8_SF\",\"PSA5040CD8_SF\"],\"legendgroup\":\"synovium\",\"line\":{\"color\":\"rgba(255,255,255,0)\"},\"marker\":{\"color\":\"#ab63fa\",\"line\":{\"color\":\"DarkSlateGrey\",\"width\":1},\"opacity\":0.8,\"size\":8},\"name\":\"synovium\",\"offsetgroup\":\"synovium\",\"orientation\":\"v\",\"pointpos\":0,\"showlegend\":true,\"x\":[\"CD8\",\"CD8\",\"CD8\",\"CD4\",\"CD8\",\"CD8\",\"CD8\",\"CD8\",\"CD8\"],\"x0\":\" \",\"xaxis\":\"x\",\"y\":[69.79712435833106,53.430000882976415,41.05956062526818,91.0099455062385,62.75943047597765,61.595423237855265,55.003806329615394,70.92712276063757,50.60331535915699],\"y0\":\" \",\"yaxis\":\"y\",\"type\":\"box\"},{\"alignmentgroup\":\"True\",\"boxpoints\":\"all\",\"fillcolor\":\"rgba(255,255,255,0)\",\"hoveron\":\"points\",\"hovertemplate\":\"\\u003cb\\u003e%{hovertext}\\u003c\\u002fb\\u003e\\u003cbr\\u003e\\u003cbr\\u003econdition=patient\\u003cbr\\u003eCell Type=%{x}\\u003cbr\\u003einteraction strength=%{y}\\u003cextra\\u003e\\u003c\\u002fextra\\u003e\",\"hovertext\":[\"PSA4920CD4\",\"PSA4920CD8\",\"PSA4941CD8\",\"PSA4942CD4\",\"PSA4942CD8\",\"PSA4943CD8\",\"PSA4944CD4\",\"PSA4944CD8\",\"PSA4945CD4\",\"PSA4946CD8\",\"PSA4950CD4\",\"PSA4950CD8\",\"PSA4951CD4\",\"PSA4951CD8\",\"PSA4954CD4\",\"PSA4954CD8\",\"PSA4957CD4\",\"PSA4958CD4\",\"PSA4958CD8\",\"PSA4959CD4\",\"PSA4959CD8\",\"PSA4960CD8\",\"PSA4961CD8\",\"PSA4962CD4\",\"PSA4962CD8\",\"PSA4963CD4\",\"PSA4963CD8\",\"PSA4967CD4\",\"PSA4968CD4\",\"PSA4968CD8\",\"PSA5006CD4\",\"PSA5006CD8\",\"PSA5007CD4\",\"PSA5008CD4\",\"PSA5008CD8\",\"PSA5009CD4\",\"PSA5009CD8\",\"PSA5010CD4\",\"PSA5010CD8\",\"PSA5012CD4\",\"PSA5012CD8\",\"PSA5013CD4\",\"PSA5013CD8\",\"PSA5014CD4\",\"PSA5014CD8\",\"PSA5015CD8\",\"PSA5017CD4\",\"PSA5017CD8\",\"PSA5018CD4\",\"PSA5018CD8\",\"PSA5019CD4\",\"PSA5019CD8\",\"PSA5020CD8\",\"PSA5021CD4\",\"PSA5021CD8\",\"PSA5022CD8\",\"PSA5023CD8\",\"PSA5024CD8\",\"PSA5026CD4\",\"PSA5026CD8\",\"PSA5036CD8\",\"PSA5037CD4\",\"PSA5037CD8\",\"PSA5039CD8\",\"PSA5040CD4\",\"PSA5040CD8\"],\"legendgroup\":\"patient\",\"line\":{\"color\":\"rgba(255,255,255,0)\"},\"marker\":{\"color\":\"#FFA15A\",\"line\":{\"color\":\"DarkSlateGrey\",\"width\":1},\"opacity\":0.8,\"size\":8},\"name\":\"patient\",\"offsetgroup\":\"patient\",\"orientation\":\"v\",\"pointpos\":0,\"showlegend\":true,\"x\":[\"CD4\",\"CD8\",\"CD8\",\"CD4\",\"CD8\",\"CD8\",\"CD4\",\"CD8\",\"CD4\",\"CD8\",\"CD4\",\"CD8\",\"CD4\",\"CD8\",\"CD4\",\"CD8\",\"CD4\",\"CD4\",\"CD8\",\"CD4\",\"CD8\",\"CD8\",\"CD8\",\"CD4\",\"CD8\",\"CD4\",\"CD8\",\"CD4\",\"CD4\",\"CD8\",\"CD4\",\"CD8\",\"CD4\",\"CD4\",\"CD8\",\"CD4\",\"CD8\",\"CD4\",\"CD8\",\"CD4\",\"CD8\",\"CD4\",\"CD8\",\"CD4\",\"CD8\",\"CD8\",\"CD4\",\"CD8\",\"CD4\",\"CD8\",\"CD4\",\"CD8\",\"CD8\",\"CD4\",\"CD8\",\"CD8\",\"CD8\",\"CD8\",\"CD4\",\"CD8\",\"CD8\",\"CD4\",\"CD8\",\"CD8\",\"CD4\",\"CD8\"],\"x0\":\" \",\"xaxis\":\"x\",\"y\":[120.37781810760498,77.41780378865494,61.70066774354685,115.23233291388769,84.18765087498912,71.70544888567022,101.74743686849774,72.09718826178799,110.74109044136361,65.20284199423888,109.76122834623088,73.73629078740515,120.67773859748799,81.2294679696895,93.77629583948251,82.0413770447176,94.3581142251848,120.54812841673717,71.40468081202545,114.12913439311674,87.0464380666093,71.91164400850597,57.57371465549465,125.1475469330419,87.34215431360417,93.50506316152514,60.35572305169111,99.60590279696197,123.37213935233345,91.25706654713031,108.22069504401844,58.06911846993102,92.23729892992245,113.08920249805847,88.00054010554695,96.4594674110871,88.0353809735667,109.19007622670614,59.49248071470437,107.90798285385377,79.42321737408506,98.7306383577674,77.61985713817478,125.45064716805022,72.76758819103979,115.57852170883898,100.89503755507175,70.54376984481067,100.23165970368147,72.34600104849757,97.56804666818381,75.26234588849762,65.22450581693275,104.06448757440941,55.303107259211814,70.96652250894252,61.528840602489225,75.89087149497811,120.25170223570827,75.08383262289769,66.46209956624895,94.37861023969391,66.17211045098462,80.74442661376482,105.27089376421387,78.56007683689269],\"y0\":\" \",\"yaxis\":\"y\",\"type\":\"box\"}],                        {\"template\":{\"data\":{\"histogram2dcontour\":[{\"type\":\"histogram2dcontour\",\"colorbar\":{\"outlinewidth\":0,\"ticks\":\"\"},\"colorscale\":[[0.0,\"#0d0887\"],[0.1111111111111111,\"#46039f\"],[0.2222222222222222,\"#7201a8\"],[0.3333333333333333,\"#9c179e\"],[0.4444444444444444,\"#bd3786\"],[0.5555555555555556,\"#d8576b\"],[0.6666666666666666,\"#ed7953\"],[0.7777777777777778,\"#fb9f3a\"],[0.8888888888888888,\"#fdca26\"],[1.0,\"#f0f921\"]]}],\"choropleth\":[{\"type\":\"choropleth\",\"colorbar\":{\"outlinewidth\":0,\"ticks\":\"\"}}],\"histogram2d\":[{\"type\":\"histogram2d\",\"colorbar\":{\"outlinewidth\":0,\"ticks\":\"\"},\"colorscale\":[[0.0,\"#0d0887\"],[0.1111111111111111,\"#46039f\"],[0.2222222222222222,\"#7201a8\"],[0.3333333333333333,\"#9c179e\"],[0.4444444444444444,\"#bd3786\"],[0.5555555555555556,\"#d8576b\"],[0.6666666666666666,\"#ed7953\"],[0.7777777777777778,\"#fb9f3a\"],[0.8888888888888888,\"#fdca26\"],[1.0,\"#f0f921\"]]}],\"heatmap\":[{\"type\":\"heatmap\",\"colorbar\":{\"outlinewidth\":0,\"ticks\":\"\"},\"colorscale\":[[0.0,\"#0d0887\"],[0.1111111111111111,\"#46039f\"],[0.2222222222222222,\"#7201a8\"],[0.3333333333333333,\"#9c179e\"],[0.4444444444444444,\"#bd3786\"],[0.5555555555555556,\"#d8576b\"],[0.6666666666666666,\"#ed7953\"],[0.7777777777777778,\"#fb9f3a\"],[0.8888888888888888,\"#fdca26\"],[1.0,\"#f0f921\"]]}],\"heatmapgl\":[{\"type\":\"heatmapgl\",\"colorbar\":{\"outlinewidth\":0,\"ticks\":\"\"},\"colorscale\":[[0.0,\"#0d0887\"],[0.1111111111111111,\"#46039f\"],[0.2222222222222222,\"#7201a8\"],[0.3333333333333333,\"#9c179e\"],[0.4444444444444444,\"#bd3786\"],[0.5555555555555556,\"#d8576b\"],[0.6666666666666666,\"#ed7953\"],[0.7777777777777778,\"#fb9f3a\"],[0.8888888888888888,\"#fdca26\"],[1.0,\"#f0f921\"]]}],\"contourcarpet\":[{\"type\":\"contourcarpet\",\"colorbar\":{\"outlinewidth\":0,\"ticks\":\"\"}}],\"contour\":[{\"type\":\"contour\",\"colorbar\":{\"outlinewidth\":0,\"ticks\":\"\"},\"colorscale\":[[0.0,\"#0d0887\"],[0.1111111111111111,\"#46039f\"],[0.2222222222222222,\"#7201a8\"],[0.3333333333333333,\"#9c179e\"],[0.4444444444444444,\"#bd3786\"],[0.5555555555555556,\"#d8576b\"],[0.6666666666666666,\"#ed7953\"],[0.7777777777777778,\"#fb9f3a\"],[0.8888888888888888,\"#fdca26\"],[1.0,\"#f0f921\"]]}],\"surface\":[{\"type\":\"surface\",\"colorbar\":{\"outlinewidth\":0,\"ticks\":\"\"},\"colorscale\":[[0.0,\"#0d0887\"],[0.1111111111111111,\"#46039f\"],[0.2222222222222222,\"#7201a8\"],[0.3333333333333333,\"#9c179e\"],[0.4444444444444444,\"#bd3786\"],[0.5555555555555556,\"#d8576b\"],[0.6666666666666666,\"#ed7953\"],[0.7777777777777778,\"#fb9f3a\"],[0.8888888888888888,\"#fdca26\"],[1.0,\"#f0f921\"]]}],\"mesh3d\":[{\"type\":\"mesh3d\",\"colorbar\":{\"outlinewidth\":0,\"ticks\":\"\"}}],\"scatter\":[{\"fillpattern\":{\"fillmode\":\"overlay\",\"size\":10,\"solidity\":0.2},\"type\":\"scatter\"}],\"parcoords\":[{\"type\":\"parcoords\",\"line\":{\"colorbar\":{\"outlinewidth\":0,\"ticks\":\"\"}}}],\"scatterpolargl\":[{\"type\":\"scatterpolargl\",\"marker\":{\"colorbar\":{\"outlinewidth\":0,\"ticks\":\"\"}}}],\"bar\":[{\"error_x\":{\"color\":\"#2a3f5f\"},\"error_y\":{\"color\":\"#2a3f5f\"},\"marker\":{\"line\":{\"color\":\"#E5ECF6\",\"width\":0.5},\"pattern\":{\"fillmode\":\"overlay\",\"size\":10,\"solidity\":0.2}},\"type\":\"bar\"}],\"scattergeo\":[{\"type\":\"scattergeo\",\"marker\":{\"colorbar\":{\"outlinewidth\":0,\"ticks\":\"\"}}}],\"scatterpolar\":[{\"type\":\"scatterpolar\",\"marker\":{\"colorbar\":{\"outlinewidth\":0,\"ticks\":\"\"}}}],\"histogram\":[{\"marker\":{\"pattern\":{\"fillmode\":\"overlay\",\"size\":10,\"solidity\":0.2}},\"type\":\"histogram\"}],\"scattergl\":[{\"type\":\"scattergl\",\"marker\":{\"colorbar\":{\"outlinewidth\":0,\"ticks\":\"\"}}}],\"scatter3d\":[{\"type\":\"scatter3d\",\"line\":{\"colorbar\":{\"outlinewidth\":0,\"ticks\":\"\"}},\"marker\":{\"colorbar\":{\"outlinewidth\":0,\"ticks\":\"\"}}}],\"scattermapbox\":[{\"type\":\"scattermapbox\",\"marker\":{\"colorbar\":{\"outlinewidth\":0,\"ticks\":\"\"}}}],\"scatterternary\":[{\"type\":\"scatterternary\",\"marker\":{\"colorbar\":{\"outlinewidth\":0,\"ticks\":\"\"}}}],\"scattercarpet\":[{\"type\":\"scattercarpet\",\"marker\":{\"colorbar\":{\"outlinewidth\":0,\"ticks\":\"\"}}}],\"carpet\":[{\"aaxis\":{\"endlinecolor\":\"#2a3f5f\",\"gridcolor\":\"white\",\"linecolor\":\"white\",\"minorgridcolor\":\"white\",\"startlinecolor\":\"#2a3f5f\"},\"baxis\":{\"endlinecolor\":\"#2a3f5f\",\"gridcolor\":\"white\",\"linecolor\":\"white\",\"minorgridcolor\":\"white\",\"startlinecolor\":\"#2a3f5f\"},\"type\":\"carpet\"}],\"table\":[{\"cells\":{\"fill\":{\"color\":\"#EBF0F8\"},\"line\":{\"color\":\"white\"}},\"header\":{\"fill\":{\"color\":\"#C8D4E3\"},\"line\":{\"color\":\"white\"}},\"type\":\"table\"}],\"barpolar\":[{\"marker\":{\"line\":{\"color\":\"#E5ECF6\",\"width\":0.5},\"pattern\":{\"fillmode\":\"overlay\",\"size\":10,\"solidity\":0.2}},\"type\":\"barpolar\"}],\"pie\":[{\"automargin\":true,\"type\":\"pie\"}]},\"layout\":{\"autotypenumbers\":\"strict\",\"colorway\":[\"#636efa\",\"#EF553B\",\"#00cc96\",\"#ab63fa\",\"#FFA15A\",\"#19d3f3\",\"#FF6692\",\"#B6E880\",\"#FF97FF\",\"#FECB52\"],\"font\":{\"color\":\"#2a3f5f\"},\"hovermode\":\"closest\",\"hoverlabel\":{\"align\":\"left\"},\"paper_bgcolor\":\"white\",\"plot_bgcolor\":\"#E5ECF6\",\"polar\":{\"bgcolor\":\"#E5ECF6\",\"angularaxis\":{\"gridcolor\":\"white\",\"linecolor\":\"white\",\"ticks\":\"\"},\"radialaxis\":{\"gridcolor\":\"white\",\"linecolor\":\"white\",\"ticks\":\"\"}},\"ternary\":{\"bgcolor\":\"#E5ECF6\",\"aaxis\":{\"gridcolor\":\"white\",\"linecolor\":\"white\",\"ticks\":\"\"},\"baxis\":{\"gridcolor\":\"white\",\"linecolor\":\"white\",\"ticks\":\"\"},\"caxis\":{\"gridcolor\":\"white\",\"linecolor\":\"white\",\"ticks\":\"\"}},\"coloraxis\":{\"colorbar\":{\"outlinewidth\":0,\"ticks\":\"\"}},\"colorscale\":{\"sequential\":[[0.0,\"#0d0887\"],[0.1111111111111111,\"#46039f\"],[0.2222222222222222,\"#7201a8\"],[0.3333333333333333,\"#9c179e\"],[0.4444444444444444,\"#bd3786\"],[0.5555555555555556,\"#d8576b\"],[0.6666666666666666,\"#ed7953\"],[0.7777777777777778,\"#fb9f3a\"],[0.8888888888888888,\"#fdca26\"],[1.0,\"#f0f921\"]],\"sequentialminus\":[[0.0,\"#0d0887\"],[0.1111111111111111,\"#46039f\"],[0.2222222222222222,\"#7201a8\"],[0.3333333333333333,\"#9c179e\"],[0.4444444444444444,\"#bd3786\"],[0.5555555555555556,\"#d8576b\"],[0.6666666666666666,\"#ed7953\"],[0.7777777777777778,\"#fb9f3a\"],[0.8888888888888888,\"#fdca26\"],[1.0,\"#f0f921\"]],\"diverging\":[[0,\"#8e0152\"],[0.1,\"#c51b7d\"],[0.2,\"#de77ae\"],[0.3,\"#f1b6da\"],[0.4,\"#fde0ef\"],[0.5,\"#f7f7f7\"],[0.6,\"#e6f5d0\"],[0.7,\"#b8e186\"],[0.8,\"#7fbc41\"],[0.9,\"#4d9221\"],[1,\"#276419\"]]},\"xaxis\":{\"gridcolor\":\"white\",\"linecolor\":\"white\",\"ticks\":\"\",\"title\":{\"standoff\":15},\"zerolinecolor\":\"white\",\"automargin\":true,\"zerolinewidth\":2},\"yaxis\":{\"gridcolor\":\"white\",\"linecolor\":\"white\",\"ticks\":\"\",\"title\":{\"standoff\":15},\"zerolinecolor\":\"white\",\"automargin\":true,\"zerolinewidth\":2},\"scene\":{\"xaxis\":{\"backgroundcolor\":\"#E5ECF6\",\"gridcolor\":\"white\",\"linecolor\":\"white\",\"showbackground\":true,\"ticks\":\"\",\"zerolinecolor\":\"white\",\"gridwidth\":2},\"yaxis\":{\"backgroundcolor\":\"#E5ECF6\",\"gridcolor\":\"white\",\"linecolor\":\"white\",\"showbackground\":true,\"ticks\":\"\",\"zerolinecolor\":\"white\",\"gridwidth\":2},\"zaxis\":{\"backgroundcolor\":\"#E5ECF6\",\"gridcolor\":\"white\",\"linecolor\":\"white\",\"showbackground\":true,\"ticks\":\"\",\"zerolinecolor\":\"white\",\"gridwidth\":2}},\"shapedefaults\":{\"line\":{\"color\":\"#2a3f5f\"}},\"annotationdefaults\":{\"arrowcolor\":\"#2a3f5f\",\"arrowhead\":0,\"arrowwidth\":1},\"geo\":{\"bgcolor\":\"white\",\"landcolor\":\"#E5ECF6\",\"subunitcolor\":\"white\",\"showland\":true,\"showlakes\":true,\"lakecolor\":\"white\"},\"title\":{\"x\":0.05},\"mapbox\":{\"style\":\"light\"}}},\"xaxis\":{\"anchor\":\"y\",\"domain\":[0.0,1.0],\"title\":{\"text\":\"Cell Type\"}},\"yaxis\":{\"anchor\":\"x\",\"domain\":[0.0,1.0],\"title\":{\"text\":\"Loop Strength\"}},\"legend\":{\"title\":{\"text\":\"Condition\"},\"tracegroupgap\":0,\"orientation\":\"h\",\"yanchor\":\"bottom\",\"y\":1.02,\"xanchor\":\"right\",\"x\":1},\"title\":{\"text\":\"Loop Strength of CD4 loop across samples\",\"y\":0.95,\"x\":0.5,\"xanchor\":\"center\",\"yanchor\":\"top\"},\"boxmode\":\"group\",\"width\":600,\"height\":700,\"font\":{\"family\":\"Arial, sans-serif\",\"size\":16}},                        {\"responsive\": true}                    ).then(function(){\n",
       "                            \n",
       "var gd = document.getElementById('0cdfc2a7-13c0-4c20-9fc0-053a816a7afe');\n",
       "var x = new MutationObserver(function (mutations, observer) {{\n",
       "        var display = window.getComputedStyle(gd).display;\n",
       "        if (!display || display === 'none') {{\n",
       "            console.log([gd, 'removed!']);\n",
       "            Plotly.purge(gd);\n",
       "            observer.disconnect();\n",
       "        }}\n",
       "}});\n",
       "\n",
       "// Listen for the removal of the full notebook cells\n",
       "var notebookContainer = gd.closest('#notebook-container');\n",
       "if (notebookContainer) {{\n",
       "    x.observe(notebookContainer, {childList: true});\n",
       "}}\n",
       "\n",
       "// Listen for the clearing of the current output cell\n",
       "var outputEl = gd.closest('.output');\n",
       "if (outputEl) {{\n",
       "    x.observe(outputEl, {childList: true});\n",
       "}}\n",
       "\n",
       "                        })                };                });            </script>        </div>"
      ]
     },
     "metadata": {},
     "output_type": "display_data"
    }
   ],
   "source": [
    "chrom, start_A, start_B = \"12\", 6755000, 6825000\n",
    "gene = \"CD4\"\n",
    "filtered_df = loops_counts_melted[(loops_counts_melted[\"chrA\"] == chrom) & (loops_counts_melted[\"A_start\"] == start_A) & (loops_counts_melted[\"B_start\"] == start_B)]\n",
    "filtered_df[\"cell_type\"] = filtered_df[\"cell_type\"].map({\"CD4\": \"CD4\", \"CD8\": \"CD8\", \"CD4_SF\": \"CD4\", \"CD8_SF\": \"CD8\"})\n",
    "# Create the strip plot\n",
    "fig = px.strip(filtered_df, x=\"cell_type\", y=\"interaction_strength\", color=\"condition\",\n",
    "               hover_name=\"proper_name\", hover_data=[\"interaction_strength\"],\n",
    "               color_discrete_map={\"Healthy\": \"blue\", \"Diseased\": \"red\"},\n",
    "               title=f'Loop Strength of {gene} loop across samples',\n",
    "               labels={\"cell_type\": \"Cell Type\", \"interaction_strength\": \"interaction strength\"})\n",
    "\n",
    "# Customizing the marker appearance\n",
    "fig.update_traces(marker=dict(size=8, opacity=0.8, line=dict(width=1, color='DarkSlateGrey')))\n",
    "fig.update_layout(\n",
    "    width=600,  # Set the width of the figure in pixels\n",
    "    height=700  # Set the height of the figure in pixels\n",
    ")\n",
    "# Enhancing layout\n",
    "fig.update_layout(\n",
    "    title={'text': f'Loop Strength of {gene} loop across samples', 'y':0.95, 'x':0.5, 'xanchor': 'center', 'yanchor': 'top'},\n",
    "    xaxis_title=\"Cell Type\",\n",
    "    yaxis_title=\"Loop Strength\",\n",
    "    legend_title=\"Condition\",\n",
    "    font=dict(family=\"Arial, sans-serif\", size=16),\n",
    "    legend=dict(orientation=\"h\", yanchor=\"bottom\", y=1.02, xanchor=\"right\", x=1)\n",
    ")\n",
    "\n",
    "# Show the plot\n",
    "fig.show()\n",
    "fig.write_image(f\"figures/loop_strength_{gene}.svg\")"
   ]
  },
  {
   "cell_type": "code",
   "execution_count": 11,
   "metadata": {},
   "outputs": [
    {
     "name": "stderr",
     "output_type": "stream",
     "text": [
      "/tmp/ipykernel_24103/3541869952.py:4: SettingWithCopyWarning:\n",
      "\n",
      "\n",
      "A value is trying to be set on a copy of a slice from a DataFrame.\n",
      "Try using .loc[row_indexer,col_indexer] = value instead\n",
      "\n",
      "See the caveats in the documentation: https://pandas.pydata.org/pandas-docs/stable/user_guide/indexing.html#returning-a-view-versus-a-copy\n",
      "\n"
     ]
    },
    {
     "data": {
      "application/vnd.plotly.v1+json": {
       "config": {
        "plotlyServerURL": "https://plot.ly"
       },
       "data": [
        {
         "alignmentgroup": "True",
         "boxpoints": "all",
         "fillcolor": "rgba(255,255,255,0)",
         "hoveron": "points",
         "hovertemplate": "<b>%{hovertext}</b><br><br>condition=healthy<br>Cell Type=%{x}<br>interaction strength=%{y}<extra></extra>",
         "hovertext": [
          "NRHV014XCD4",
          "NRHV014XCD8",
          "NRHV073CD4",
          "NRHV073CD8",
          "NRHV079CD4",
          "NRHV079CD8",
          "NRHV086CD4",
          "NRHV086CD8",
          "NRHV121CD4",
          "NRHV121CD8",
          "NRHV151CD4",
          "NRHV168CD4",
          "NRHV168CD8",
          "NRHV171CD4",
          "NRHV171CD8",
          "NRHV238CD4",
          "NRHV238CD8",
          "NRHV290CD4",
          "NRHV290CD8",
          "NRHV295CD4",
          "NRHV295CD8",
          "NRHV321CD4",
          "NRHV321CD8",
          "NRHV322CD4",
          "NRHV322CD8",
          "NRHV324CD4",
          "NRHV324CD8",
          "NRHV325CD4",
          "NRHV325CD8",
          "NRHV326CD4",
          "NRHV326CD8",
          "NRHV332CD4",
          "NRHV332CD8"
         ],
         "legendgroup": "healthy",
         "line": {
          "color": "rgba(255,255,255,0)"
         },
         "marker": {
          "color": "#00cc96",
          "line": {
           "color": "DarkSlateGrey",
           "width": 1
          },
          "opacity": 0.8,
          "size": 8
         },
         "name": "healthy",
         "offsetgroup": "healthy",
         "orientation": "v",
         "pointpos": 0,
         "showlegend": true,
         "type": "box",
         "x": [
          "CD4",
          "CD8",
          "CD4",
          "CD8",
          "CD4",
          "CD8",
          "CD4",
          "CD8",
          "CD4",
          "CD8",
          "CD4",
          "CD4",
          "CD8",
          "CD4",
          "CD8",
          "CD4",
          "CD8",
          "CD4",
          "CD8",
          "CD4",
          "CD8",
          "CD4",
          "CD8",
          "CD4",
          "CD8",
          "CD4",
          "CD8",
          "CD4",
          "CD8",
          "CD4",
          "CD8",
          "CD4",
          "CD8"
         ],
         "x0": " ",
         "xaxis": "x",
         "y": [
          34.70026905742502,
          80.42606348484443,
          20.772872751033635,
          88.11595344280904,
          28.872778356468828,
          83.46511190111097,
          28.4850566873424,
          61.77984089820588,
          28.72118359156906,
          76.16647775741379,
          21.15609612648461,
          23.550959666003383,
          86.82533589342235,
          28.491241084715178,
          88.69591776518423,
          24.67569460351907,
          70.79751232271039,
          21.663065190044023,
          85.93357350286077,
          35.084746267125254,
          87.55378463360105,
          23.291843020353923,
          69.93087357968771,
          31.613968099985613,
          98.68027860062114,
          26.62707480012442,
          67.36561014946055,
          28.262111065260616,
          60.17022850543887,
          25.29616689642649,
          59.723911147284525,
          18.9075894903259,
          97.8451527490202
         ],
         "y0": " ",
         "yaxis": "y"
        },
        {
         "alignmentgroup": "True",
         "boxpoints": "all",
         "fillcolor": "rgba(255,255,255,0)",
         "hoveron": "points",
         "hovertemplate": "<b>%{hovertext}</b><br><br>condition=synovium<br>Cell Type=%{x}<br>interaction strength=%{y}<extra></extra>",
         "hovertext": [
          "PSA4917CD8_SF",
          "PSA4918CD8_SF",
          "PSA4951CD8_SF",
          "PSA4958CD4_SF",
          "PSA4958CD8_SF",
          "PSA4959CD8_SF",
          "PSA4969CD8_SF",
          "PSA5025CD8_SF",
          "PSA5040CD8_SF"
         ],
         "legendgroup": "synovium",
         "line": {
          "color": "rgba(255,255,255,0)"
         },
         "marker": {
          "color": "#ab63fa",
          "line": {
           "color": "DarkSlateGrey",
           "width": 1
          },
          "opacity": 0.8,
          "size": 8
         },
         "name": "synovium",
         "offsetgroup": "synovium",
         "orientation": "v",
         "pointpos": 0,
         "showlegend": true,
         "type": "box",
         "x": [
          "CD8",
          "CD8",
          "CD8",
          "CD4",
          "CD8",
          "CD8",
          "CD8",
          "CD8",
          "CD8"
         ],
         "x0": " ",
         "xaxis": "x",
         "y": [
          32.60357587733447,
          58.66202412382411,
          77.72931550318495,
          30.361786825005836,
          53.29636453600784,
          78.52413786303191,
          77.58036259812542,
          66.60597410368136,
          78.1462441335863
         ],
         "y0": " ",
         "yaxis": "y"
        },
        {
         "alignmentgroup": "True",
         "boxpoints": "all",
         "fillcolor": "rgba(255,255,255,0)",
         "hoveron": "points",
         "hovertemplate": "<b>%{hovertext}</b><br><br>condition=patient<br>Cell Type=%{x}<br>interaction strength=%{y}<extra></extra>",
         "hovertext": [
          "PSA4920CD4",
          "PSA4920CD8",
          "PSA4941CD8",
          "PSA4942CD4",
          "PSA4942CD8",
          "PSA4943CD8",
          "PSA4944CD4",
          "PSA4944CD8",
          "PSA4945CD4",
          "PSA4946CD8",
          "PSA4950CD4",
          "PSA4950CD8",
          "PSA4951CD4",
          "PSA4951CD8",
          "PSA4954CD4",
          "PSA4954CD8",
          "PSA4957CD4",
          "PSA4958CD4",
          "PSA4958CD8",
          "PSA4959CD4",
          "PSA4959CD8",
          "PSA4960CD8",
          "PSA4961CD8",
          "PSA4962CD4",
          "PSA4962CD8",
          "PSA4963CD4",
          "PSA4963CD8",
          "PSA4967CD4",
          "PSA4968CD4",
          "PSA4968CD8",
          "PSA5006CD4",
          "PSA5006CD8",
          "PSA5007CD4",
          "PSA5008CD4",
          "PSA5008CD8",
          "PSA5009CD4",
          "PSA5009CD8",
          "PSA5010CD4",
          "PSA5010CD8",
          "PSA5012CD4",
          "PSA5012CD8",
          "PSA5013CD4",
          "PSA5013CD8",
          "PSA5014CD4",
          "PSA5014CD8",
          "PSA5015CD8",
          "PSA5017CD4",
          "PSA5017CD8",
          "PSA5018CD4",
          "PSA5018CD8",
          "PSA5019CD4",
          "PSA5019CD8",
          "PSA5020CD8",
          "PSA5021CD4",
          "PSA5021CD8",
          "PSA5022CD8",
          "PSA5023CD8",
          "PSA5024CD8",
          "PSA5026CD4",
          "PSA5026CD8",
          "PSA5036CD8",
          "PSA5037CD4",
          "PSA5037CD8",
          "PSA5039CD8",
          "PSA5040CD4",
          "PSA5040CD8"
         ],
         "legendgroup": "patient",
         "line": {
          "color": "rgba(255,255,255,0)"
         },
         "marker": {
          "color": "#FFA15A",
          "line": {
           "color": "DarkSlateGrey",
           "width": 1
          },
          "opacity": 0.8,
          "size": 8
         },
         "name": "patient",
         "offsetgroup": "patient",
         "orientation": "v",
         "pointpos": 0,
         "showlegend": true,
         "type": "box",
         "x": [
          "CD4",
          "CD8",
          "CD8",
          "CD4",
          "CD8",
          "CD8",
          "CD4",
          "CD8",
          "CD4",
          "CD8",
          "CD4",
          "CD8",
          "CD4",
          "CD8",
          "CD4",
          "CD8",
          "CD4",
          "CD4",
          "CD8",
          "CD4",
          "CD8",
          "CD8",
          "CD8",
          "CD4",
          "CD8",
          "CD4",
          "CD8",
          "CD4",
          "CD4",
          "CD8",
          "CD4",
          "CD8",
          "CD4",
          "CD4",
          "CD8",
          "CD4",
          "CD8",
          "CD4",
          "CD8",
          "CD4",
          "CD8",
          "CD4",
          "CD8",
          "CD4",
          "CD8",
          "CD8",
          "CD4",
          "CD8",
          "CD4",
          "CD8",
          "CD4",
          "CD8",
          "CD8",
          "CD4",
          "CD8",
          "CD8",
          "CD8",
          "CD8",
          "CD4",
          "CD8",
          "CD8",
          "CD4",
          "CD8",
          "CD8",
          "CD4",
          "CD8"
         ],
         "x0": " ",
         "xaxis": "x",
         "y": [
          28.093125581741333,
          83.72227315437343,
          71.10351930495845,
          29.471694949183515,
          94.26922285673963,
          74.38287838201006,
          24.74304942882564,
          84.24099378598373,
          29.961881147686366,
          81.00493840719659,
          42.22791337613971,
          75.57654405312628,
          33.731340442337135,
          86.57185450368193,
          26.22101022581887,
          100.3936020204534,
          26.765641748382404,
          33.75317848155615,
          79.23491075223859,
          29.537995738391075,
          79.21878704214045,
          73.51732323731443,
          62.032030851377606,
          32.09746466410416,
          82.19774116451016,
          29.662508078626523,
          77.0094713857967,
          27.723777695479235,
          22.365039742522274,
          93.60650314138263,
          43.25965331782966,
          90.782469043692,
          22.960347177803722,
          22.699855879559145,
          84.34637293602628,
          23.88749456593693,
          98.37574998492329,
          35.63031998118699,
          71.62796780689975,
          28.918166697180656,
          83.7950112973353,
          24.060991069159375,
          75.93402650406571,
          34.49201740010374,
          81.65965509890573,
          87.9573811489013,
          25.394567820458093,
          74.88831676311432,
          29.222911064373864,
          78.07655196645995,
          17.11221266911612,
          68.72648955005614,
          76.1106722985606,
          10.184234075416748,
          70.60937451655431,
          89.11751503397848,
          64.08133701022405,
          86.53608641144267,
          28.086110960850053,
          81.16329794348971,
          81.65062891015397,
          28.217541867954903,
          81.7993479523203,
          67.4618910947716,
          24.691167017939502,
          89.83579555844335
         ],
         "y0": " ",
         "yaxis": "y"
        }
       ],
       "layout": {
        "boxmode": "group",
        "font": {
         "family": "Arial, sans-serif",
         "size": 16
        },
        "height": 700,
        "legend": {
         "orientation": "h",
         "title": {
          "text": "Condition"
         },
         "tracegroupgap": 0,
         "x": 1,
         "xanchor": "right",
         "y": 1.02,
         "yanchor": "bottom"
        },
        "template": {
         "data": {
          "bar": [
           {
            "error_x": {
             "color": "#2a3f5f"
            },
            "error_y": {
             "color": "#2a3f5f"
            },
            "marker": {
             "line": {
              "color": "#E5ECF6",
              "width": 0.5
             },
             "pattern": {
              "fillmode": "overlay",
              "size": 10,
              "solidity": 0.2
             }
            },
            "type": "bar"
           }
          ],
          "barpolar": [
           {
            "marker": {
             "line": {
              "color": "#E5ECF6",
              "width": 0.5
             },
             "pattern": {
              "fillmode": "overlay",
              "size": 10,
              "solidity": 0.2
             }
            },
            "type": "barpolar"
           }
          ],
          "carpet": [
           {
            "aaxis": {
             "endlinecolor": "#2a3f5f",
             "gridcolor": "white",
             "linecolor": "white",
             "minorgridcolor": "white",
             "startlinecolor": "#2a3f5f"
            },
            "baxis": {
             "endlinecolor": "#2a3f5f",
             "gridcolor": "white",
             "linecolor": "white",
             "minorgridcolor": "white",
             "startlinecolor": "#2a3f5f"
            },
            "type": "carpet"
           }
          ],
          "choropleth": [
           {
            "colorbar": {
             "outlinewidth": 0,
             "ticks": ""
            },
            "type": "choropleth"
           }
          ],
          "contour": [
           {
            "colorbar": {
             "outlinewidth": 0,
             "ticks": ""
            },
            "colorscale": [
             [
              0,
              "#0d0887"
             ],
             [
              0.1111111111111111,
              "#46039f"
             ],
             [
              0.2222222222222222,
              "#7201a8"
             ],
             [
              0.3333333333333333,
              "#9c179e"
             ],
             [
              0.4444444444444444,
              "#bd3786"
             ],
             [
              0.5555555555555556,
              "#d8576b"
             ],
             [
              0.6666666666666666,
              "#ed7953"
             ],
             [
              0.7777777777777778,
              "#fb9f3a"
             ],
             [
              0.8888888888888888,
              "#fdca26"
             ],
             [
              1,
              "#f0f921"
             ]
            ],
            "type": "contour"
           }
          ],
          "contourcarpet": [
           {
            "colorbar": {
             "outlinewidth": 0,
             "ticks": ""
            },
            "type": "contourcarpet"
           }
          ],
          "heatmap": [
           {
            "colorbar": {
             "outlinewidth": 0,
             "ticks": ""
            },
            "colorscale": [
             [
              0,
              "#0d0887"
             ],
             [
              0.1111111111111111,
              "#46039f"
             ],
             [
              0.2222222222222222,
              "#7201a8"
             ],
             [
              0.3333333333333333,
              "#9c179e"
             ],
             [
              0.4444444444444444,
              "#bd3786"
             ],
             [
              0.5555555555555556,
              "#d8576b"
             ],
             [
              0.6666666666666666,
              "#ed7953"
             ],
             [
              0.7777777777777778,
              "#fb9f3a"
             ],
             [
              0.8888888888888888,
              "#fdca26"
             ],
             [
              1,
              "#f0f921"
             ]
            ],
            "type": "heatmap"
           }
          ],
          "heatmapgl": [
           {
            "colorbar": {
             "outlinewidth": 0,
             "ticks": ""
            },
            "colorscale": [
             [
              0,
              "#0d0887"
             ],
             [
              0.1111111111111111,
              "#46039f"
             ],
             [
              0.2222222222222222,
              "#7201a8"
             ],
             [
              0.3333333333333333,
              "#9c179e"
             ],
             [
              0.4444444444444444,
              "#bd3786"
             ],
             [
              0.5555555555555556,
              "#d8576b"
             ],
             [
              0.6666666666666666,
              "#ed7953"
             ],
             [
              0.7777777777777778,
              "#fb9f3a"
             ],
             [
              0.8888888888888888,
              "#fdca26"
             ],
             [
              1,
              "#f0f921"
             ]
            ],
            "type": "heatmapgl"
           }
          ],
          "histogram": [
           {
            "marker": {
             "pattern": {
              "fillmode": "overlay",
              "size": 10,
              "solidity": 0.2
             }
            },
            "type": "histogram"
           }
          ],
          "histogram2d": [
           {
            "colorbar": {
             "outlinewidth": 0,
             "ticks": ""
            },
            "colorscale": [
             [
              0,
              "#0d0887"
             ],
             [
              0.1111111111111111,
              "#46039f"
             ],
             [
              0.2222222222222222,
              "#7201a8"
             ],
             [
              0.3333333333333333,
              "#9c179e"
             ],
             [
              0.4444444444444444,
              "#bd3786"
             ],
             [
              0.5555555555555556,
              "#d8576b"
             ],
             [
              0.6666666666666666,
              "#ed7953"
             ],
             [
              0.7777777777777778,
              "#fb9f3a"
             ],
             [
              0.8888888888888888,
              "#fdca26"
             ],
             [
              1,
              "#f0f921"
             ]
            ],
            "type": "histogram2d"
           }
          ],
          "histogram2dcontour": [
           {
            "colorbar": {
             "outlinewidth": 0,
             "ticks": ""
            },
            "colorscale": [
             [
              0,
              "#0d0887"
             ],
             [
              0.1111111111111111,
              "#46039f"
             ],
             [
              0.2222222222222222,
              "#7201a8"
             ],
             [
              0.3333333333333333,
              "#9c179e"
             ],
             [
              0.4444444444444444,
              "#bd3786"
             ],
             [
              0.5555555555555556,
              "#d8576b"
             ],
             [
              0.6666666666666666,
              "#ed7953"
             ],
             [
              0.7777777777777778,
              "#fb9f3a"
             ],
             [
              0.8888888888888888,
              "#fdca26"
             ],
             [
              1,
              "#f0f921"
             ]
            ],
            "type": "histogram2dcontour"
           }
          ],
          "mesh3d": [
           {
            "colorbar": {
             "outlinewidth": 0,
             "ticks": ""
            },
            "type": "mesh3d"
           }
          ],
          "parcoords": [
           {
            "line": {
             "colorbar": {
              "outlinewidth": 0,
              "ticks": ""
             }
            },
            "type": "parcoords"
           }
          ],
          "pie": [
           {
            "automargin": true,
            "type": "pie"
           }
          ],
          "scatter": [
           {
            "fillpattern": {
             "fillmode": "overlay",
             "size": 10,
             "solidity": 0.2
            },
            "type": "scatter"
           }
          ],
          "scatter3d": [
           {
            "line": {
             "colorbar": {
              "outlinewidth": 0,
              "ticks": ""
             }
            },
            "marker": {
             "colorbar": {
              "outlinewidth": 0,
              "ticks": ""
             }
            },
            "type": "scatter3d"
           }
          ],
          "scattercarpet": [
           {
            "marker": {
             "colorbar": {
              "outlinewidth": 0,
              "ticks": ""
             }
            },
            "type": "scattercarpet"
           }
          ],
          "scattergeo": [
           {
            "marker": {
             "colorbar": {
              "outlinewidth": 0,
              "ticks": ""
             }
            },
            "type": "scattergeo"
           }
          ],
          "scattergl": [
           {
            "marker": {
             "colorbar": {
              "outlinewidth": 0,
              "ticks": ""
             }
            },
            "type": "scattergl"
           }
          ],
          "scattermapbox": [
           {
            "marker": {
             "colorbar": {
              "outlinewidth": 0,
              "ticks": ""
             }
            },
            "type": "scattermapbox"
           }
          ],
          "scatterpolar": [
           {
            "marker": {
             "colorbar": {
              "outlinewidth": 0,
              "ticks": ""
             }
            },
            "type": "scatterpolar"
           }
          ],
          "scatterpolargl": [
           {
            "marker": {
             "colorbar": {
              "outlinewidth": 0,
              "ticks": ""
             }
            },
            "type": "scatterpolargl"
           }
          ],
          "scatterternary": [
           {
            "marker": {
             "colorbar": {
              "outlinewidth": 0,
              "ticks": ""
             }
            },
            "type": "scatterternary"
           }
          ],
          "surface": [
           {
            "colorbar": {
             "outlinewidth": 0,
             "ticks": ""
            },
            "colorscale": [
             [
              0,
              "#0d0887"
             ],
             [
              0.1111111111111111,
              "#46039f"
             ],
             [
              0.2222222222222222,
              "#7201a8"
             ],
             [
              0.3333333333333333,
              "#9c179e"
             ],
             [
              0.4444444444444444,
              "#bd3786"
             ],
             [
              0.5555555555555556,
              "#d8576b"
             ],
             [
              0.6666666666666666,
              "#ed7953"
             ],
             [
              0.7777777777777778,
              "#fb9f3a"
             ],
             [
              0.8888888888888888,
              "#fdca26"
             ],
             [
              1,
              "#f0f921"
             ]
            ],
            "type": "surface"
           }
          ],
          "table": [
           {
            "cells": {
             "fill": {
              "color": "#EBF0F8"
             },
             "line": {
              "color": "white"
             }
            },
            "header": {
             "fill": {
              "color": "#C8D4E3"
             },
             "line": {
              "color": "white"
             }
            },
            "type": "table"
           }
          ]
         },
         "layout": {
          "annotationdefaults": {
           "arrowcolor": "#2a3f5f",
           "arrowhead": 0,
           "arrowwidth": 1
          },
          "autotypenumbers": "strict",
          "coloraxis": {
           "colorbar": {
            "outlinewidth": 0,
            "ticks": ""
           }
          },
          "colorscale": {
           "diverging": [
            [
             0,
             "#8e0152"
            ],
            [
             0.1,
             "#c51b7d"
            ],
            [
             0.2,
             "#de77ae"
            ],
            [
             0.3,
             "#f1b6da"
            ],
            [
             0.4,
             "#fde0ef"
            ],
            [
             0.5,
             "#f7f7f7"
            ],
            [
             0.6,
             "#e6f5d0"
            ],
            [
             0.7,
             "#b8e186"
            ],
            [
             0.8,
             "#7fbc41"
            ],
            [
             0.9,
             "#4d9221"
            ],
            [
             1,
             "#276419"
            ]
           ],
           "sequential": [
            [
             0,
             "#0d0887"
            ],
            [
             0.1111111111111111,
             "#46039f"
            ],
            [
             0.2222222222222222,
             "#7201a8"
            ],
            [
             0.3333333333333333,
             "#9c179e"
            ],
            [
             0.4444444444444444,
             "#bd3786"
            ],
            [
             0.5555555555555556,
             "#d8576b"
            ],
            [
             0.6666666666666666,
             "#ed7953"
            ],
            [
             0.7777777777777778,
             "#fb9f3a"
            ],
            [
             0.8888888888888888,
             "#fdca26"
            ],
            [
             1,
             "#f0f921"
            ]
           ],
           "sequentialminus": [
            [
             0,
             "#0d0887"
            ],
            [
             0.1111111111111111,
             "#46039f"
            ],
            [
             0.2222222222222222,
             "#7201a8"
            ],
            [
             0.3333333333333333,
             "#9c179e"
            ],
            [
             0.4444444444444444,
             "#bd3786"
            ],
            [
             0.5555555555555556,
             "#d8576b"
            ],
            [
             0.6666666666666666,
             "#ed7953"
            ],
            [
             0.7777777777777778,
             "#fb9f3a"
            ],
            [
             0.8888888888888888,
             "#fdca26"
            ],
            [
             1,
             "#f0f921"
            ]
           ]
          },
          "colorway": [
           "#636efa",
           "#EF553B",
           "#00cc96",
           "#ab63fa",
           "#FFA15A",
           "#19d3f3",
           "#FF6692",
           "#B6E880",
           "#FF97FF",
           "#FECB52"
          ],
          "font": {
           "color": "#2a3f5f"
          },
          "geo": {
           "bgcolor": "white",
           "lakecolor": "white",
           "landcolor": "#E5ECF6",
           "showlakes": true,
           "showland": true,
           "subunitcolor": "white"
          },
          "hoverlabel": {
           "align": "left"
          },
          "hovermode": "closest",
          "mapbox": {
           "style": "light"
          },
          "paper_bgcolor": "white",
          "plot_bgcolor": "#E5ECF6",
          "polar": {
           "angularaxis": {
            "gridcolor": "white",
            "linecolor": "white",
            "ticks": ""
           },
           "bgcolor": "#E5ECF6",
           "radialaxis": {
            "gridcolor": "white",
            "linecolor": "white",
            "ticks": ""
           }
          },
          "scene": {
           "xaxis": {
            "backgroundcolor": "#E5ECF6",
            "gridcolor": "white",
            "gridwidth": 2,
            "linecolor": "white",
            "showbackground": true,
            "ticks": "",
            "zerolinecolor": "white"
           },
           "yaxis": {
            "backgroundcolor": "#E5ECF6",
            "gridcolor": "white",
            "gridwidth": 2,
            "linecolor": "white",
            "showbackground": true,
            "ticks": "",
            "zerolinecolor": "white"
           },
           "zaxis": {
            "backgroundcolor": "#E5ECF6",
            "gridcolor": "white",
            "gridwidth": 2,
            "linecolor": "white",
            "showbackground": true,
            "ticks": "",
            "zerolinecolor": "white"
           }
          },
          "shapedefaults": {
           "line": {
            "color": "#2a3f5f"
           }
          },
          "ternary": {
           "aaxis": {
            "gridcolor": "white",
            "linecolor": "white",
            "ticks": ""
           },
           "baxis": {
            "gridcolor": "white",
            "linecolor": "white",
            "ticks": ""
           },
           "bgcolor": "#E5ECF6",
           "caxis": {
            "gridcolor": "white",
            "linecolor": "white",
            "ticks": ""
           }
          },
          "title": {
           "x": 0.05
          },
          "xaxis": {
           "automargin": true,
           "gridcolor": "white",
           "linecolor": "white",
           "ticks": "",
           "title": {
            "standoff": 15
           },
           "zerolinecolor": "white",
           "zerolinewidth": 2
          },
          "yaxis": {
           "automargin": true,
           "gridcolor": "white",
           "linecolor": "white",
           "ticks": "",
           "title": {
            "standoff": 15
           },
           "zerolinecolor": "white",
           "zerolinewidth": 2
          }
         }
        },
        "title": {
         "text": "Loop Strength of CD8 loop across samples",
         "x": 0.5,
         "xanchor": "center",
         "y": 0.95,
         "yanchor": "top"
        },
        "width": 600,
        "xaxis": {
         "anchor": "y",
         "domain": [
          0,
          1
         ],
         "title": {
          "text": "Cell Type"
         }
        },
        "yaxis": {
         "anchor": "x",
         "domain": [
          0,
          1
         ],
         "title": {
          "text": "Loop Strength"
         }
        }
       }
      },
      "text/html": [
       "<div>                            <div id=\"b574c221-9b06-46da-981d-448d6b6aa024\" class=\"plotly-graph-div\" style=\"height:700px; width:600px;\"></div>            <script type=\"text/javascript\">                require([\"plotly\"], function(Plotly) {                    window.PLOTLYENV=window.PLOTLYENV || {};                                    if (document.getElementById(\"b574c221-9b06-46da-981d-448d6b6aa024\")) {                    Plotly.newPlot(                        \"b574c221-9b06-46da-981d-448d6b6aa024\",                        [{\"alignmentgroup\":\"True\",\"boxpoints\":\"all\",\"fillcolor\":\"rgba(255,255,255,0)\",\"hoveron\":\"points\",\"hovertemplate\":\"\\u003cb\\u003e%{hovertext}\\u003c\\u002fb\\u003e\\u003cbr\\u003e\\u003cbr\\u003econdition=healthy\\u003cbr\\u003eCell Type=%{x}\\u003cbr\\u003einteraction strength=%{y}\\u003cextra\\u003e\\u003c\\u002fextra\\u003e\",\"hovertext\":[\"NRHV014XCD4\",\"NRHV014XCD8\",\"NRHV073CD4\",\"NRHV073CD8\",\"NRHV079CD4\",\"NRHV079CD8\",\"NRHV086CD4\",\"NRHV086CD8\",\"NRHV121CD4\",\"NRHV121CD8\",\"NRHV151CD4\",\"NRHV168CD4\",\"NRHV168CD8\",\"NRHV171CD4\",\"NRHV171CD8\",\"NRHV238CD4\",\"NRHV238CD8\",\"NRHV290CD4\",\"NRHV290CD8\",\"NRHV295CD4\",\"NRHV295CD8\",\"NRHV321CD4\",\"NRHV321CD8\",\"NRHV322CD4\",\"NRHV322CD8\",\"NRHV324CD4\",\"NRHV324CD8\",\"NRHV325CD4\",\"NRHV325CD8\",\"NRHV326CD4\",\"NRHV326CD8\",\"NRHV332CD4\",\"NRHV332CD8\"],\"legendgroup\":\"healthy\",\"line\":{\"color\":\"rgba(255,255,255,0)\"},\"marker\":{\"color\":\"#00cc96\",\"line\":{\"color\":\"DarkSlateGrey\",\"width\":1},\"opacity\":0.8,\"size\":8},\"name\":\"healthy\",\"offsetgroup\":\"healthy\",\"orientation\":\"v\",\"pointpos\":0,\"showlegend\":true,\"x\":[\"CD4\",\"CD8\",\"CD4\",\"CD8\",\"CD4\",\"CD8\",\"CD4\",\"CD8\",\"CD4\",\"CD8\",\"CD4\",\"CD4\",\"CD8\",\"CD4\",\"CD8\",\"CD4\",\"CD8\",\"CD4\",\"CD8\",\"CD4\",\"CD8\",\"CD4\",\"CD8\",\"CD4\",\"CD8\",\"CD4\",\"CD8\",\"CD4\",\"CD8\",\"CD4\",\"CD8\",\"CD4\",\"CD8\"],\"x0\":\" \",\"xaxis\":\"x\",\"y\":[34.70026905742502,80.42606348484443,20.772872751033635,88.11595344280904,28.872778356468828,83.46511190111097,28.4850566873424,61.77984089820588,28.72118359156906,76.16647775741379,21.15609612648461,23.550959666003383,86.82533589342235,28.491241084715178,88.69591776518423,24.67569460351907,70.79751232271039,21.663065190044023,85.93357350286077,35.084746267125254,87.55378463360105,23.291843020353923,69.93087357968771,31.613968099985613,98.68027860062114,26.62707480012442,67.36561014946055,28.262111065260616,60.17022850543887,25.29616689642649,59.723911147284525,18.9075894903259,97.8451527490202],\"y0\":\" \",\"yaxis\":\"y\",\"type\":\"box\"},{\"alignmentgroup\":\"True\",\"boxpoints\":\"all\",\"fillcolor\":\"rgba(255,255,255,0)\",\"hoveron\":\"points\",\"hovertemplate\":\"\\u003cb\\u003e%{hovertext}\\u003c\\u002fb\\u003e\\u003cbr\\u003e\\u003cbr\\u003econdition=synovium\\u003cbr\\u003eCell Type=%{x}\\u003cbr\\u003einteraction strength=%{y}\\u003cextra\\u003e\\u003c\\u002fextra\\u003e\",\"hovertext\":[\"PSA4917CD8_SF\",\"PSA4918CD8_SF\",\"PSA4951CD8_SF\",\"PSA4958CD4_SF\",\"PSA4958CD8_SF\",\"PSA4959CD8_SF\",\"PSA4969CD8_SF\",\"PSA5025CD8_SF\",\"PSA5040CD8_SF\"],\"legendgroup\":\"synovium\",\"line\":{\"color\":\"rgba(255,255,255,0)\"},\"marker\":{\"color\":\"#ab63fa\",\"line\":{\"color\":\"DarkSlateGrey\",\"width\":1},\"opacity\":0.8,\"size\":8},\"name\":\"synovium\",\"offsetgroup\":\"synovium\",\"orientation\":\"v\",\"pointpos\":0,\"showlegend\":true,\"x\":[\"CD8\",\"CD8\",\"CD8\",\"CD4\",\"CD8\",\"CD8\",\"CD8\",\"CD8\",\"CD8\"],\"x0\":\" \",\"xaxis\":\"x\",\"y\":[32.60357587733447,58.66202412382411,77.72931550318495,30.361786825005836,53.29636453600784,78.52413786303191,77.58036259812542,66.60597410368136,78.1462441335863],\"y0\":\" \",\"yaxis\":\"y\",\"type\":\"box\"},{\"alignmentgroup\":\"True\",\"boxpoints\":\"all\",\"fillcolor\":\"rgba(255,255,255,0)\",\"hoveron\":\"points\",\"hovertemplate\":\"\\u003cb\\u003e%{hovertext}\\u003c\\u002fb\\u003e\\u003cbr\\u003e\\u003cbr\\u003econdition=patient\\u003cbr\\u003eCell Type=%{x}\\u003cbr\\u003einteraction strength=%{y}\\u003cextra\\u003e\\u003c\\u002fextra\\u003e\",\"hovertext\":[\"PSA4920CD4\",\"PSA4920CD8\",\"PSA4941CD8\",\"PSA4942CD4\",\"PSA4942CD8\",\"PSA4943CD8\",\"PSA4944CD4\",\"PSA4944CD8\",\"PSA4945CD4\",\"PSA4946CD8\",\"PSA4950CD4\",\"PSA4950CD8\",\"PSA4951CD4\",\"PSA4951CD8\",\"PSA4954CD4\",\"PSA4954CD8\",\"PSA4957CD4\",\"PSA4958CD4\",\"PSA4958CD8\",\"PSA4959CD4\",\"PSA4959CD8\",\"PSA4960CD8\",\"PSA4961CD8\",\"PSA4962CD4\",\"PSA4962CD8\",\"PSA4963CD4\",\"PSA4963CD8\",\"PSA4967CD4\",\"PSA4968CD4\",\"PSA4968CD8\",\"PSA5006CD4\",\"PSA5006CD8\",\"PSA5007CD4\",\"PSA5008CD4\",\"PSA5008CD8\",\"PSA5009CD4\",\"PSA5009CD8\",\"PSA5010CD4\",\"PSA5010CD8\",\"PSA5012CD4\",\"PSA5012CD8\",\"PSA5013CD4\",\"PSA5013CD8\",\"PSA5014CD4\",\"PSA5014CD8\",\"PSA5015CD8\",\"PSA5017CD4\",\"PSA5017CD8\",\"PSA5018CD4\",\"PSA5018CD8\",\"PSA5019CD4\",\"PSA5019CD8\",\"PSA5020CD8\",\"PSA5021CD4\",\"PSA5021CD8\",\"PSA5022CD8\",\"PSA5023CD8\",\"PSA5024CD8\",\"PSA5026CD4\",\"PSA5026CD8\",\"PSA5036CD8\",\"PSA5037CD4\",\"PSA5037CD8\",\"PSA5039CD8\",\"PSA5040CD4\",\"PSA5040CD8\"],\"legendgroup\":\"patient\",\"line\":{\"color\":\"rgba(255,255,255,0)\"},\"marker\":{\"color\":\"#FFA15A\",\"line\":{\"color\":\"DarkSlateGrey\",\"width\":1},\"opacity\":0.8,\"size\":8},\"name\":\"patient\",\"offsetgroup\":\"patient\",\"orientation\":\"v\",\"pointpos\":0,\"showlegend\":true,\"x\":[\"CD4\",\"CD8\",\"CD8\",\"CD4\",\"CD8\",\"CD8\",\"CD4\",\"CD8\",\"CD4\",\"CD8\",\"CD4\",\"CD8\",\"CD4\",\"CD8\",\"CD4\",\"CD8\",\"CD4\",\"CD4\",\"CD8\",\"CD4\",\"CD8\",\"CD8\",\"CD8\",\"CD4\",\"CD8\",\"CD4\",\"CD8\",\"CD4\",\"CD4\",\"CD8\",\"CD4\",\"CD8\",\"CD4\",\"CD4\",\"CD8\",\"CD4\",\"CD8\",\"CD4\",\"CD8\",\"CD4\",\"CD8\",\"CD4\",\"CD8\",\"CD4\",\"CD8\",\"CD8\",\"CD4\",\"CD8\",\"CD4\",\"CD8\",\"CD4\",\"CD8\",\"CD8\",\"CD4\",\"CD8\",\"CD8\",\"CD8\",\"CD8\",\"CD4\",\"CD8\",\"CD8\",\"CD4\",\"CD8\",\"CD8\",\"CD4\",\"CD8\"],\"x0\":\" \",\"xaxis\":\"x\",\"y\":[28.093125581741333,83.72227315437343,71.10351930495845,29.471694949183515,94.26922285673963,74.38287838201006,24.74304942882564,84.24099378598373,29.961881147686366,81.00493840719659,42.22791337613971,75.57654405312628,33.731340442337135,86.57185450368193,26.22101022581887,100.3936020204534,26.765641748382404,33.75317848155615,79.23491075223859,29.537995738391075,79.21878704214045,73.51732323731443,62.032030851377606,32.09746466410416,82.19774116451016,29.662508078626523,77.0094713857967,27.723777695479235,22.365039742522274,93.60650314138263,43.25965331782966,90.782469043692,22.960347177803722,22.699855879559145,84.34637293602628,23.88749456593693,98.37574998492329,35.63031998118699,71.62796780689975,28.918166697180656,83.7950112973353,24.060991069159375,75.93402650406571,34.49201740010374,81.65965509890573,87.9573811489013,25.394567820458093,74.88831676311432,29.222911064373864,78.07655196645995,17.11221266911612,68.72648955005614,76.1106722985606,10.184234075416748,70.60937451655431,89.11751503397848,64.08133701022405,86.53608641144267,28.086110960850053,81.16329794348971,81.65062891015397,28.217541867954903,81.7993479523203,67.4618910947716,24.691167017939502,89.83579555844335],\"y0\":\" \",\"yaxis\":\"y\",\"type\":\"box\"}],                        {\"template\":{\"data\":{\"histogram2dcontour\":[{\"type\":\"histogram2dcontour\",\"colorbar\":{\"outlinewidth\":0,\"ticks\":\"\"},\"colorscale\":[[0.0,\"#0d0887\"],[0.1111111111111111,\"#46039f\"],[0.2222222222222222,\"#7201a8\"],[0.3333333333333333,\"#9c179e\"],[0.4444444444444444,\"#bd3786\"],[0.5555555555555556,\"#d8576b\"],[0.6666666666666666,\"#ed7953\"],[0.7777777777777778,\"#fb9f3a\"],[0.8888888888888888,\"#fdca26\"],[1.0,\"#f0f921\"]]}],\"choropleth\":[{\"type\":\"choropleth\",\"colorbar\":{\"outlinewidth\":0,\"ticks\":\"\"}}],\"histogram2d\":[{\"type\":\"histogram2d\",\"colorbar\":{\"outlinewidth\":0,\"ticks\":\"\"},\"colorscale\":[[0.0,\"#0d0887\"],[0.1111111111111111,\"#46039f\"],[0.2222222222222222,\"#7201a8\"],[0.3333333333333333,\"#9c179e\"],[0.4444444444444444,\"#bd3786\"],[0.5555555555555556,\"#d8576b\"],[0.6666666666666666,\"#ed7953\"],[0.7777777777777778,\"#fb9f3a\"],[0.8888888888888888,\"#fdca26\"],[1.0,\"#f0f921\"]]}],\"heatmap\":[{\"type\":\"heatmap\",\"colorbar\":{\"outlinewidth\":0,\"ticks\":\"\"},\"colorscale\":[[0.0,\"#0d0887\"],[0.1111111111111111,\"#46039f\"],[0.2222222222222222,\"#7201a8\"],[0.3333333333333333,\"#9c179e\"],[0.4444444444444444,\"#bd3786\"],[0.5555555555555556,\"#d8576b\"],[0.6666666666666666,\"#ed7953\"],[0.7777777777777778,\"#fb9f3a\"],[0.8888888888888888,\"#fdca26\"],[1.0,\"#f0f921\"]]}],\"heatmapgl\":[{\"type\":\"heatmapgl\",\"colorbar\":{\"outlinewidth\":0,\"ticks\":\"\"},\"colorscale\":[[0.0,\"#0d0887\"],[0.1111111111111111,\"#46039f\"],[0.2222222222222222,\"#7201a8\"],[0.3333333333333333,\"#9c179e\"],[0.4444444444444444,\"#bd3786\"],[0.5555555555555556,\"#d8576b\"],[0.6666666666666666,\"#ed7953\"],[0.7777777777777778,\"#fb9f3a\"],[0.8888888888888888,\"#fdca26\"],[1.0,\"#f0f921\"]]}],\"contourcarpet\":[{\"type\":\"contourcarpet\",\"colorbar\":{\"outlinewidth\":0,\"ticks\":\"\"}}],\"contour\":[{\"type\":\"contour\",\"colorbar\":{\"outlinewidth\":0,\"ticks\":\"\"},\"colorscale\":[[0.0,\"#0d0887\"],[0.1111111111111111,\"#46039f\"],[0.2222222222222222,\"#7201a8\"],[0.3333333333333333,\"#9c179e\"],[0.4444444444444444,\"#bd3786\"],[0.5555555555555556,\"#d8576b\"],[0.6666666666666666,\"#ed7953\"],[0.7777777777777778,\"#fb9f3a\"],[0.8888888888888888,\"#fdca26\"],[1.0,\"#f0f921\"]]}],\"surface\":[{\"type\":\"surface\",\"colorbar\":{\"outlinewidth\":0,\"ticks\":\"\"},\"colorscale\":[[0.0,\"#0d0887\"],[0.1111111111111111,\"#46039f\"],[0.2222222222222222,\"#7201a8\"],[0.3333333333333333,\"#9c179e\"],[0.4444444444444444,\"#bd3786\"],[0.5555555555555556,\"#d8576b\"],[0.6666666666666666,\"#ed7953\"],[0.7777777777777778,\"#fb9f3a\"],[0.8888888888888888,\"#fdca26\"],[1.0,\"#f0f921\"]]}],\"mesh3d\":[{\"type\":\"mesh3d\",\"colorbar\":{\"outlinewidth\":0,\"ticks\":\"\"}}],\"scatter\":[{\"fillpattern\":{\"fillmode\":\"overlay\",\"size\":10,\"solidity\":0.2},\"type\":\"scatter\"}],\"parcoords\":[{\"type\":\"parcoords\",\"line\":{\"colorbar\":{\"outlinewidth\":0,\"ticks\":\"\"}}}],\"scatterpolargl\":[{\"type\":\"scatterpolargl\",\"marker\":{\"colorbar\":{\"outlinewidth\":0,\"ticks\":\"\"}}}],\"bar\":[{\"error_x\":{\"color\":\"#2a3f5f\"},\"error_y\":{\"color\":\"#2a3f5f\"},\"marker\":{\"line\":{\"color\":\"#E5ECF6\",\"width\":0.5},\"pattern\":{\"fillmode\":\"overlay\",\"size\":10,\"solidity\":0.2}},\"type\":\"bar\"}],\"scattergeo\":[{\"type\":\"scattergeo\",\"marker\":{\"colorbar\":{\"outlinewidth\":0,\"ticks\":\"\"}}}],\"scatterpolar\":[{\"type\":\"scatterpolar\",\"marker\":{\"colorbar\":{\"outlinewidth\":0,\"ticks\":\"\"}}}],\"histogram\":[{\"marker\":{\"pattern\":{\"fillmode\":\"overlay\",\"size\":10,\"solidity\":0.2}},\"type\":\"histogram\"}],\"scattergl\":[{\"type\":\"scattergl\",\"marker\":{\"colorbar\":{\"outlinewidth\":0,\"ticks\":\"\"}}}],\"scatter3d\":[{\"type\":\"scatter3d\",\"line\":{\"colorbar\":{\"outlinewidth\":0,\"ticks\":\"\"}},\"marker\":{\"colorbar\":{\"outlinewidth\":0,\"ticks\":\"\"}}}],\"scattermapbox\":[{\"type\":\"scattermapbox\",\"marker\":{\"colorbar\":{\"outlinewidth\":0,\"ticks\":\"\"}}}],\"scatterternary\":[{\"type\":\"scatterternary\",\"marker\":{\"colorbar\":{\"outlinewidth\":0,\"ticks\":\"\"}}}],\"scattercarpet\":[{\"type\":\"scattercarpet\",\"marker\":{\"colorbar\":{\"outlinewidth\":0,\"ticks\":\"\"}}}],\"carpet\":[{\"aaxis\":{\"endlinecolor\":\"#2a3f5f\",\"gridcolor\":\"white\",\"linecolor\":\"white\",\"minorgridcolor\":\"white\",\"startlinecolor\":\"#2a3f5f\"},\"baxis\":{\"endlinecolor\":\"#2a3f5f\",\"gridcolor\":\"white\",\"linecolor\":\"white\",\"minorgridcolor\":\"white\",\"startlinecolor\":\"#2a3f5f\"},\"type\":\"carpet\"}],\"table\":[{\"cells\":{\"fill\":{\"color\":\"#EBF0F8\"},\"line\":{\"color\":\"white\"}},\"header\":{\"fill\":{\"color\":\"#C8D4E3\"},\"line\":{\"color\":\"white\"}},\"type\":\"table\"}],\"barpolar\":[{\"marker\":{\"line\":{\"color\":\"#E5ECF6\",\"width\":0.5},\"pattern\":{\"fillmode\":\"overlay\",\"size\":10,\"solidity\":0.2}},\"type\":\"barpolar\"}],\"pie\":[{\"automargin\":true,\"type\":\"pie\"}]},\"layout\":{\"autotypenumbers\":\"strict\",\"colorway\":[\"#636efa\",\"#EF553B\",\"#00cc96\",\"#ab63fa\",\"#FFA15A\",\"#19d3f3\",\"#FF6692\",\"#B6E880\",\"#FF97FF\",\"#FECB52\"],\"font\":{\"color\":\"#2a3f5f\"},\"hovermode\":\"closest\",\"hoverlabel\":{\"align\":\"left\"},\"paper_bgcolor\":\"white\",\"plot_bgcolor\":\"#E5ECF6\",\"polar\":{\"bgcolor\":\"#E5ECF6\",\"angularaxis\":{\"gridcolor\":\"white\",\"linecolor\":\"white\",\"ticks\":\"\"},\"radialaxis\":{\"gridcolor\":\"white\",\"linecolor\":\"white\",\"ticks\":\"\"}},\"ternary\":{\"bgcolor\":\"#E5ECF6\",\"aaxis\":{\"gridcolor\":\"white\",\"linecolor\":\"white\",\"ticks\":\"\"},\"baxis\":{\"gridcolor\":\"white\",\"linecolor\":\"white\",\"ticks\":\"\"},\"caxis\":{\"gridcolor\":\"white\",\"linecolor\":\"white\",\"ticks\":\"\"}},\"coloraxis\":{\"colorbar\":{\"outlinewidth\":0,\"ticks\":\"\"}},\"colorscale\":{\"sequential\":[[0.0,\"#0d0887\"],[0.1111111111111111,\"#46039f\"],[0.2222222222222222,\"#7201a8\"],[0.3333333333333333,\"#9c179e\"],[0.4444444444444444,\"#bd3786\"],[0.5555555555555556,\"#d8576b\"],[0.6666666666666666,\"#ed7953\"],[0.7777777777777778,\"#fb9f3a\"],[0.8888888888888888,\"#fdca26\"],[1.0,\"#f0f921\"]],\"sequentialminus\":[[0.0,\"#0d0887\"],[0.1111111111111111,\"#46039f\"],[0.2222222222222222,\"#7201a8\"],[0.3333333333333333,\"#9c179e\"],[0.4444444444444444,\"#bd3786\"],[0.5555555555555556,\"#d8576b\"],[0.6666666666666666,\"#ed7953\"],[0.7777777777777778,\"#fb9f3a\"],[0.8888888888888888,\"#fdca26\"],[1.0,\"#f0f921\"]],\"diverging\":[[0,\"#8e0152\"],[0.1,\"#c51b7d\"],[0.2,\"#de77ae\"],[0.3,\"#f1b6da\"],[0.4,\"#fde0ef\"],[0.5,\"#f7f7f7\"],[0.6,\"#e6f5d0\"],[0.7,\"#b8e186\"],[0.8,\"#7fbc41\"],[0.9,\"#4d9221\"],[1,\"#276419\"]]},\"xaxis\":{\"gridcolor\":\"white\",\"linecolor\":\"white\",\"ticks\":\"\",\"title\":{\"standoff\":15},\"zerolinecolor\":\"white\",\"automargin\":true,\"zerolinewidth\":2},\"yaxis\":{\"gridcolor\":\"white\",\"linecolor\":\"white\",\"ticks\":\"\",\"title\":{\"standoff\":15},\"zerolinecolor\":\"white\",\"automargin\":true,\"zerolinewidth\":2},\"scene\":{\"xaxis\":{\"backgroundcolor\":\"#E5ECF6\",\"gridcolor\":\"white\",\"linecolor\":\"white\",\"showbackground\":true,\"ticks\":\"\",\"zerolinecolor\":\"white\",\"gridwidth\":2},\"yaxis\":{\"backgroundcolor\":\"#E5ECF6\",\"gridcolor\":\"white\",\"linecolor\":\"white\",\"showbackground\":true,\"ticks\":\"\",\"zerolinecolor\":\"white\",\"gridwidth\":2},\"zaxis\":{\"backgroundcolor\":\"#E5ECF6\",\"gridcolor\":\"white\",\"linecolor\":\"white\",\"showbackground\":true,\"ticks\":\"\",\"zerolinecolor\":\"white\",\"gridwidth\":2}},\"shapedefaults\":{\"line\":{\"color\":\"#2a3f5f\"}},\"annotationdefaults\":{\"arrowcolor\":\"#2a3f5f\",\"arrowhead\":0,\"arrowwidth\":1},\"geo\":{\"bgcolor\":\"white\",\"landcolor\":\"#E5ECF6\",\"subunitcolor\":\"white\",\"showland\":true,\"showlakes\":true,\"lakecolor\":\"white\"},\"title\":{\"x\":0.05},\"mapbox\":{\"style\":\"light\"}}},\"xaxis\":{\"anchor\":\"y\",\"domain\":[0.0,1.0],\"title\":{\"text\":\"Cell Type\"}},\"yaxis\":{\"anchor\":\"x\",\"domain\":[0.0,1.0],\"title\":{\"text\":\"Loop Strength\"}},\"legend\":{\"title\":{\"text\":\"Condition\"},\"tracegroupgap\":0,\"orientation\":\"h\",\"yanchor\":\"bottom\",\"y\":1.02,\"xanchor\":\"right\",\"x\":1},\"title\":{\"text\":\"Loop Strength of CD8 loop across samples\",\"y\":0.95,\"x\":0.5,\"xanchor\":\"center\",\"yanchor\":\"top\"},\"boxmode\":\"group\",\"width\":600,\"height\":700,\"font\":{\"family\":\"Arial, sans-serif\",\"size\":16}},                        {\"responsive\": true}                    ).then(function(){\n",
       "                            \n",
       "var gd = document.getElementById('b574c221-9b06-46da-981d-448d6b6aa024');\n",
       "var x = new MutationObserver(function (mutations, observer) {{\n",
       "        var display = window.getComputedStyle(gd).display;\n",
       "        if (!display || display === 'none') {{\n",
       "            console.log([gd, 'removed!']);\n",
       "            Plotly.purge(gd);\n",
       "            observer.disconnect();\n",
       "        }}\n",
       "}});\n",
       "\n",
       "// Listen for the removal of the full notebook cells\n",
       "var notebookContainer = gd.closest('#notebook-container');\n",
       "if (notebookContainer) {{\n",
       "    x.observe(notebookContainer, {childList: true});\n",
       "}}\n",
       "\n",
       "// Listen for the clearing of the current output cell\n",
       "var outputEl = gd.closest('.output');\n",
       "if (outputEl) {{\n",
       "    x.observe(outputEl, {childList: true});\n",
       "}}\n",
       "\n",
       "                        })                };                });            </script>        </div>"
      ]
     },
     "metadata": {},
     "output_type": "display_data"
    }
   ],
   "source": [
    "chrom, start_A, start_B = \"2\", 86765000, 86805000\n",
    "gene = \"CD8\"\n",
    "filtered_df = loops_counts_melted[(loops_counts_melted[\"chrA\"] == chrom) & (loops_counts_melted[\"A_start\"] == start_A) & (loops_counts_melted[\"B_start\"] == start_B)]\n",
    "filtered_df[\"cell_type\"] = filtered_df[\"cell_type\"].map({\"CD4\": \"CD4\", \"CD8\": \"CD8\", \"CD4_SF\": \"CD4\", \"CD8_SF\": \"CD8\"})\n",
    "# Create the strip plot\n",
    "fig = px.strip(filtered_df, x=\"cell_type\", y=\"interaction_strength\", color=\"condition\",\n",
    "               hover_name=\"proper_name\", hover_data=[\"interaction_strength\"],\n",
    "               color_discrete_map={\"Healthy\": \"blue\", \"Diseased\": \"red\"},\n",
    "               title=f'Loop Strength of {gene} loop across samples',\n",
    "               labels={\"cell_type\": \"Cell Type\", \"interaction_strength\": \"interaction strength\"})\n",
    "\n",
    "# Customizing the marker appearance\n",
    "fig.update_traces(marker=dict(size=8, opacity=0.8, line=dict(width=1, color='DarkSlateGrey')))\n",
    "fig.update_layout(\n",
    "    width=600,  # Set the width of the figure in pixels\n",
    "    height=700  # Set the height of the figure in pixels\n",
    ")\n",
    "# Enhancing layout\n",
    "fig.update_layout(\n",
    "    title={'text': f'Loop Strength of {gene} loop across samples', 'y':0.95, 'x':0.5, 'xanchor': 'center', 'yanchor': 'top'},\n",
    "    xaxis_title=\"Cell Type\",\n",
    "    yaxis_title=\"Loop Strength\",\n",
    "    legend_title=\"Condition\",\n",
    "    font=dict(family=\"Arial, sans-serif\", size=16),\n",
    "    legend=dict(orientation=\"h\", yanchor=\"bottom\", y=1.02, xanchor=\"right\", x=1)\n",
    ")\n",
    "\n",
    "# Show the plot\n",
    "fig.show()\n",
    "fig.write_image(f\"figures/loop_strength_{gene}.svg\")"
   ]
  },
  {
   "cell_type": "code",
   "execution_count": null,
   "metadata": {},
   "outputs": [],
   "source": []
  }
 ],
 "metadata": {
  "kernelspec": {
   "display_name": "basic",
   "language": "python",
   "name": "python3"
  },
  "language_info": {
   "codemirror_mode": {
    "name": "ipython",
    "version": 3
   },
   "file_extension": ".py",
   "mimetype": "text/x-python",
   "name": "python",
   "nbconvert_exporter": "python",
   "pygments_lexer": "ipython3",
   "version": "3.10.12"
  }
 },
 "nbformat": 4,
 "nbformat_minor": 2
}
