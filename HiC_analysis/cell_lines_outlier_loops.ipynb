{
 "cells": [
  {
   "attachments": {},
   "cell_type": "markdown",
   "metadata": {},
   "source": [
    "# identification of how many loops are outliers in cell lines\n",
    "\n",
    "This is done by estimating the distribution of the counts for each loop across the primary cell samples. After that we can check if the counts from the cell lines are significantly outside that distribution.\n",
    "This is done because we effectively only have one replicate for the cell lines, whilst the primary samples have a distribution."
   ]
  },
  {
   "cell_type": "code",
   "execution_count": 1,
   "metadata": {},
   "outputs": [
    {
     "name": "stdout",
     "output_type": "stream",
     "text": [
      "INFO: Pandarallel will run on 28 workers.\n",
      "INFO: Pandarallel will use Memory file system to transfer data between the main process and workers.\n"
     ]
    }
   ],
   "source": [
    "import pandas as pd\n",
    "import numpy as np\n",
    "import hicstraw \n",
    "from multiprocessing import Pool\n",
    "from functools import partial\n",
    "import glob\n",
    "import os\n",
    "import plotly.express as px\n",
    "import math\n",
    "import matplotlib.pyplot as plt\n",
    "from matplotlib import colors\n",
    "from pandarallel import pandarallel\n",
    "import cooler\n",
    "import cooltools\n",
    "import pybedtools as pbed\n",
    "pandarallel.initialize()\n",
    "from scipy import stats, special\n",
    "from statsmodels.stats import multitest\n",
    "import statsmodels.api as sm\n",
    "import statsmodels.formula.api as smf\n",
    "import plotly.io as pio\n",
    "import seaborn as sns\n",
    "os.makedirs(\"/mnt/iusers01/jw01/mdefscs4/scratch/temp_pybedtools/\", exist_ok = True)\n",
    "pbed.helpers.set_tempdir(\"/mnt/iusers01/jw01/mdefscs4/scratch/temp_pybedtools/\")\n",
    "bed_genome_file = \"/mnt/iusers01/jw01/mdefscs4/hg38.genome\"\n",
    "\n",
    "plt.rcParams['svg.fonttype'] = 'none'\n",
    "\n",
    "base_dir = \"/mnt/jw01-aruk-home01/projects/psa_functional_genomics/PsA_cleaned_analysis\""
   ]
  },
  {
   "cell_type": "code",
   "execution_count": 10,
   "metadata": {},
   "outputs": [],
   "source": [
    "loops_analysed = pd.read_pickle(f\"{base_dir}/HiC_analysis/extracting_loop_counts/aggregated_counts/aggregated_normalized_loops_CD4_CD8.pk\")\n",
    "metadata_hic = pd.read_csv(f\"{base_dir}/metadata/cleaned_HiC_metadata.csv\", index_col = 0)"
   ]
  },
  {
   "cell_type": "code",
   "execution_count": 12,
   "metadata": {},
   "outputs": [],
   "source": [
    "# melt the loop dataframe and add info about the cell type from the metadata\n",
    "loops_analysed_melted = pd.melt(loops_analysed, id_vars=['chrA', 'A_start', 'A_end', 'chrB', 'B_start', 'B_end', 'FDR', 'DETECTION_SCALE', 'distance_bin'], \n",
    "        value_vars=loops_analysed.columns.difference(['chrA', 'A_start', 'A_end', 'chrB', 'B_start', 'B_end', 'FDR', 'DETECTION_SCALE', 'distance_bin']),\n",
    "        var_name=\"sample\",value_name=\"interaction_strength\")\n",
    "df = metadata_hic[[\"folder_name\",\"cell_type\"]].copy()\n",
    "df = pd.concat([df,pd.DataFrame({\"folder_name\" : [\"all_jurkat\",\"MyLa_all_old_ARIMA\"], \"cell_type\" : [\"CD4\", \"CD8\"]})], ignore_index= True)\n",
    "loops_analysed_melted = loops_analysed_melted.merge(df, left_on = \"sample\", right_on = \"folder_name\", how = \"left\")"
   ]
  },
  {
   "attachments": {},
   "cell_type": "markdown",
   "metadata": {},
   "source": [
    "Calculate the p-value for how likely the loop is an outlier compare to the rest of the samples.\n",
    "\n",
    "for each loop, estimate the z-score for each sample, then calculate the p-values from that. "
   ]
  },
  {
   "cell_type": "code",
   "execution_count": 13,
   "metadata": {},
   "outputs": [],
   "source": [
    "def retrieve_pvals_CD4(df):\n",
    "    val_CD4 = df[(df[\"cell_type\"] == \"CD4\")]\n",
    "    z_scores_CD4 = stats.zscore(val_CD4[\"interaction_strength\"].values)\n",
    "    p_values_CD4 = stats.norm.pdf(abs(z_scores_CD4))*2 # two sided\n",
    "    if val_CD4[\"interaction_strength\"].mean() < 15:\n",
    "        return pd.Series(dict(zip(val_CD4[\"sample\"], [1]*len(val_CD4[\"sample\"]))))\n",
    "    return pd.Series(dict(zip(val_CD4[\"sample\"], p_values_CD4)))\n",
    "\n",
    "def retrieve_pvals_CD8(df):\n",
    "    val_CD8 = df[(df[\"cell_type\"] == \"CD8\")]\n",
    "    z_scores_CD8 = stats.zscore(val_CD8[\"interaction_strength\"].values)\n",
    "    p_values_CD8 = stats.norm.pdf(abs(z_scores_CD8))*2 # two sided\n",
    "    if val_CD8[\"interaction_strength\"].mean() < 15:\n",
    "        return pd.Series(dict(zip(val_CD8[\"sample\"], [1]*len(val_CD8[\"sample\"]))))\n",
    "    return pd.Series(dict(zip(val_CD8[\"sample\"], p_values_CD8)))\n",
    "\n",
    "df_CD4 = loops_analysed_melted.groupby([\"chrA\",\"A_start\",\"B_start\"]).parallel_apply(retrieve_pvals_CD4)\n",
    "df_CD8 = loops_analysed_melted.groupby([\"chrA\",\"A_start\",\"B_start\"]).parallel_apply(retrieve_pvals_CD8)"
   ]
  },
  {
   "cell_type": "code",
   "execution_count": 17,
   "metadata": {},
   "outputs": [
    {
     "name": "stderr",
     "output_type": "stream",
     "text": [
      "/mnt/iusers01/jw01/mdefscs4/scratch/temp_pybedtools//ipykernel_5509/309570781.py:25: UserWarning: Matplotlib is currently using module://matplotlib_inline.backend_inline, which is a non-GUI backend, so cannot show the figure.\n",
      "  fig.show()\n"
     ]
    },
    {
     "data": {
      "image/png": "[encoded data removed]",
      "text/plain": [
       "<Figure size 360x360 with 2 Axes>"
      ]
     },
     "metadata": {},
     "output_type": "display_data"
    }
   ],
   "source": [
    "da = df_CD8[df_CD8 < 0.05].count()\n",
    "da = metadata_hic.merge(da.to_frame(),right_index = True, left_on = \"folder_name\", how = \"right\")\n",
    "da.loc[da[\"folder_name\"] == \"MyLa_all_old_ARIMA\",\"cell_type\"] = \"MyLa\"\n",
    "vals = da[da[\"cell_type\"] != \"MyLa\"][0]\n",
    "\n",
    "sns.set_style(\"whitegrid\")\n",
    "fig, axes = plt.subplots(1,2, figsize = (5,5),sharey=True)\n",
    "sns.swarmplot(y = vals,ax=axes[0],color=\"#310299\")\n",
    "sns.boxplot(y = vals,ax=axes[0], color=\"#94d1b6\")\n",
    "sns.swarmplot(y = da[da[\"cell_type\"] == \"MyLa\"][0],ax=axes[0],color=\"#d62a1e\", size = 15)\n",
    "\n",
    "\n",
    "da = df_CD4[df_CD4 < 0.05].count()\n",
    "da = metadata_hic.merge(da.to_frame(),right_index = True, left_on = \"folder_name\", how = \"right\")\n",
    "da.loc[da[\"folder_name\"] == \"all_jurkat\",\"cell_type\"] = \"Jurkat\"\n",
    "sns.swarmplot(y = vals,ax=axes[1],color=\"#2f6109\")\n",
    "sns.boxplot(y = vals,ax=axes[1], color=\"#9e8df0\")\n",
    "sns.swarmplot(y = da[da[\"cell_type\"] == \"Jurkat\"][0],ax=axes[1],color=\"#d46300\", size = 15)\n",
    "\n",
    "axes[0].set_title(\"CD8+ T cells\")\n",
    "axes[1].set_title(\"CD4+ T cells\")\n",
    "axes[0].set_ylabel(\"number of outlier loops\", fontsize = 13)\n",
    "axes[1].set_ylabel(\"number of outlier loops\", fontsize = 13)\n",
    "fig.suptitle(\"Number of outlier loops per sample\", fontsize = 16)\n",
    "fig.show()\n",
    "fig.savefig(f\"{base_dir}/HiC_analysis/figures/cell_line_outlier_loops.svg\")"
   ]
  },
  {
   "cell_type": "code",
   "execution_count": null,
   "metadata": {},
   "outputs": [],
   "source": []
  },
  {
   "cell_type": "code",
   "execution_count": null,
   "metadata": {},
   "outputs": [],
   "source": []
  },
  {
   "cell_type": "code",
   "execution_count": null,
   "metadata": {},
   "outputs": [],
   "source": []
  },
  {
   "cell_type": "code",
   "execution_count": null,
   "metadata": {},
   "outputs": [],
   "source": []
  },
  {
   "cell_type": "code",
   "execution_count": null,
   "metadata": {},
   "outputs": [],
   "source": []
  },
  {
   "cell_type": "code",
   "execution_count": null,
   "metadata": {},
   "outputs": [],
   "source": []
  },
  {
   "cell_type": "code",
   "execution_count": null,
   "metadata": {},
   "outputs": [],
   "source": []
  },
  {
   "cell_type": "code",
   "execution_count": null,
   "metadata": {},
   "outputs": [],
   "source": []
  },
  {
   "cell_type": "code",
   "execution_count": null,
   "metadata": {},
   "outputs": [],
   "source": []
  },
  {
   "cell_type": "code",
   "execution_count": null,
   "metadata": {},
   "outputs": [],
   "source": []
  },
  {
   "cell_type": "code",
   "execution_count": null,
   "metadata": {},
   "outputs": [],
   "source": []
  },
  {
   "cell_type": "code",
   "execution_count": null,
   "metadata": {},
   "outputs": [],
   "source": []
  }
 ],
 "metadata": {
  "kernelspec": {
   "display_name": "Python 3",
   "language": "python",
   "name": "python3"
  },
  "language_info": {
   "codemirror_mode": {
    "name": "ipython",
    "version": 3
   },
   "file_extension": ".py",
   "mimetype": "text/x-python",
   "name": "python",
   "nbconvert_exporter": "python",
   "pygments_lexer": "ipython3",
   "version": "3.9.10"
  },
  "orig_nbformat": 4
 },
 "nbformat": 4,
 "nbformat_minor": 2
}
