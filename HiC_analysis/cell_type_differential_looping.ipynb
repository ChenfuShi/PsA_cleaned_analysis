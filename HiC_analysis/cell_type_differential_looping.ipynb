{
 "cells": [
  {
   "attachments": {},
   "cell_type": "markdown",
   "metadata": {},
   "source": [
    "# script to identify the loops that are differentially interacting"
   ]
  },
  {
   "cell_type": "code",
   "execution_count": 1,
   "metadata": {},
   "outputs": [
    {
     "name": "stdout",
     "output_type": "stream",
     "text": [
      "INFO: Pandarallel will run on 28 workers.\n",
      "INFO: Pandarallel will use Memory file system to transfer data between the main process and workers.\n"
     ]
    }
   ],
   "source": [
    "import pandas as pd\n",
    "import numpy as np\n",
    "import hicstraw \n",
    "from multiprocessing import Pool\n",
    "from functools import partial\n",
    "import glob\n",
    "import os\n",
    "import plotly.express as px\n",
    "import math\n",
    "import matplotlib.pyplot as plt\n",
    "from matplotlib import colors\n",
    "from pandarallel import pandarallel\n",
    "import cooler\n",
    "import cooltools\n",
    "import pybedtools as pbed\n",
    "pandarallel.initialize()\n",
    "from scipy import stats, special\n",
    "from statsmodels.stats import multitest\n",
    "import statsmodels.api as sm\n",
    "import statsmodels.formula.api as smf\n",
    "import plotly.io as pio\n",
    "import seaborn as sns\n",
    "os.makedirs(\"/mnt/iusers01/jw01/mdefscs4/scratch/temp_pybedtools/\", exist_ok = True)\n",
    "pbed.helpers.set_tempdir(\"/mnt/iusers01/jw01/mdefscs4/scratch/temp_pybedtools/\")\n",
    "bed_genome_file = \"/mnt/iusers01/jw01/mdefscs4/hg38.genome\"\n",
    "\n",
    "plt.rcParams['svg.fonttype'] = 'none'\n",
    "\n",
    "base_dir = \"/mnt/jw01-aruk-home01/projects/psa_functional_genomics/PsA_cleaned_analysis\""
   ]
  },
  {
   "attachments": {},
   "cell_type": "markdown",
   "metadata": {},
   "source": [
    "## first do CD4 vs CD8"
   ]
  },
  {
   "cell_type": "code",
   "execution_count": 2,
   "metadata": {},
   "outputs": [],
   "source": [
    "loops_analysed = pd.read_pickle(f\"{base_dir}/HiC_analysis/extracting_loop_counts/aggregated_counts/aggregated_normalized_loops_CD4_CD8.pk\")\n",
    "metadata_hic = pd.read_csv(f\"{base_dir}/metadata/cleaned_HiC_metadata.csv\", index_col = 0)"
   ]
  },
  {
   "cell_type": "code",
   "execution_count": 12,
   "metadata": {},
   "outputs": [],
   "source": [
    "# melt the loop dataframe and add info about the sample from the metadata\n",
    "loops_analysed_melted = pd.melt(loops_analysed, id_vars=['chrA', 'A_start', 'A_end', 'chrB', 'B_start', 'B_end', 'FDR', 'DETECTION_SCALE', 'distance_bin'], \n",
    "        value_vars=loops_analysed.columns.difference(['chrA', 'A_start', 'A_end', 'chrB', 'B_start', 'B_end', 'FDR', 'DETECTION_SCALE', 'distance_bin']),\n",
    "        var_name=\"sample\",value_name=\"interaction_strength\")\n",
    "loops_analysed_melted = loops_analysed_melted.merge(metadata_hic, left_on = \"sample\", right_on = \"folder_name\", how = \"inner\")"
   ]
  },
  {
   "cell_type": "code",
   "execution_count": 6,
   "metadata": {},
   "outputs": [],
   "source": [
    "# this is the test we're doing for each loop.\n",
    "# basically fit a linear model. We tried different parameters, using robust etc, but none make a big difference.\n",
    "# biggest differences are in how you actually retrieve and normalize the loops prior to this step.\n",
    "def calculate_ols_test_CD4_CD8(df, formula = \"interaction_strength~cell_type+female_sex\"):\n",
    "    s = smf.ols(formula, data = df)\n",
    "    r = s.fit()\n",
    "    return pd.Series({\"p_value\":r.pvalues[\"cell_type[T.CD8]\"], # unfortunately this has to be set manually\n",
    "                    \"base_mean\":df[\"interaction_strength\"].mean(),\n",
    "                    \"CD4_mean\":r.params.Intercept,\n",
    "                    \"CD8_mean\":r.params.Intercept + r.params[\"cell_type[T.CD8]\"],})"
   ]
  },
  {
   "cell_type": "code",
   "execution_count": 13,
   "metadata": {},
   "outputs": [],
   "source": [
    "# apply the test to all loops\n",
    "loops_analysed_p_val = loops_analysed_melted[loops_analysed_melted[\"cell_type\"].isin([\"CD4\",\"CD8\"])].groupby(\n",
    "    ['chrA', 'A_start', 'A_end', 'chrB', 'B_start', 'B_end', 'distance_bin']).parallel_apply(\n",
    "    calculate_ols_test_CD4_CD8)"
   ]
  },
  {
   "cell_type": "code",
   "execution_count": 14,
   "metadata": {},
   "outputs": [],
   "source": [
    "# apply FDR correction\n",
    "loops_analysed_p_val = loops_analysed_p_val.reset_index()\n",
    "loops_analysed_p_val[\"FDR\"] = multitest.fdrcorrection(loops_analysed_p_val[\"p_value\"], alpha = 0.1)[1]"
   ]
  },
  {
   "cell_type": "code",
   "execution_count": 15,
   "metadata": {},
   "outputs": [],
   "source": [
    "loops_analysed_p_val.to_csv(f\"{base_dir}/HiC_analysis/output_results/DE_loops_CD8_vs_CD4.csv\")"
   ]
  },
  {
   "attachments": {},
   "cell_type": "markdown",
   "metadata": {},
   "source": [
    "# Do CD8 vs CD8_SF"
   ]
  },
  {
   "cell_type": "code",
   "execution_count": 3,
   "metadata": {},
   "outputs": [],
   "source": [
    "loops_analysed = pd.read_pickle(f\"{base_dir}/HiC_analysis/extracting_loop_counts/aggregated_counts/aggregated_normalized_loops_CD8_CD8SF.pk\")"
   ]
  },
  {
   "cell_type": "code",
   "execution_count": 4,
   "metadata": {},
   "outputs": [],
   "source": [
    "# melt the loop dataframe and add info about the sample from the metadata\n",
    "loops_analysed_melted = pd.melt(loops_analysed, id_vars=['chrA', 'A_start', 'A_end', 'chrB', 'B_start', 'B_end', 'FDR', 'DETECTION_SCALE', 'distance_bin'], \n",
    "        value_vars=loops_analysed.columns.difference(['chrA', 'A_start', 'A_end', 'chrB', 'B_start', 'B_end', 'FDR', 'DETECTION_SCALE', 'distance_bin']),\n",
    "        var_name=\"sample\",value_name=\"interaction_strength\")\n",
    "loops_analysed_melted = loops_analysed_melted.merge(metadata_hic, left_on = \"sample\", right_on = \"folder_name\", how = \"inner\")"
   ]
  },
  {
   "cell_type": "code",
   "execution_count": 5,
   "metadata": {},
   "outputs": [],
   "source": [
    "def calculate_ols_test_CD8_CD8SF(df, formula = \"interaction_strength~cell_type+female_sex\"):\n",
    "    \"\"\"Well this basically works only for CD8 and CD8SF\"\"\"\n",
    "    s = smf.ols(formula, data = df)\n",
    "    r = s.fit()\n",
    "    return pd.Series({\"p_value\":r.pvalues[\"cell_type[T.CD8_SF]\"], \n",
    "                    \"base_mean\":df[\"interaction_strength\"].mean(),\n",
    "                    \"CD8_mean\":r.params.Intercept,\n",
    "                    \"CD8_SF_mean\":r.params.Intercept + r.params[\"cell_type[T.CD8_SF]\"],})"
   ]
  },
  {
   "cell_type": "code",
   "execution_count": null,
   "metadata": {},
   "outputs": [],
   "source": [
    "# apply the test to all loops\n",
    "loops_analysed_p_val = loops_analysed_melted[loops_analysed_melted[\"cell_type\"].isin([\"CD8\",\"CD8_SF\"])].groupby(\n",
    "    ['chrA', 'A_start', 'A_end', 'chrB', 'B_start', 'B_end', 'distance_bin']).parallel_apply(\n",
    "    calculate_ols_test_CD8_CD8SF)"
   ]
  },
  {
   "cell_type": "code",
   "execution_count": null,
   "metadata": {},
   "outputs": [],
   "source": [
    "loops_analysed_p_val = loops_analysed_p_val.reset_index()\n",
    "loops_analysed_p_val[\"FDR\"] = multitest.fdrcorrection(loops_analysed_p_val[\"p_value\"], alpha = 0.1)[1]"
   ]
  },
  {
   "cell_type": "code",
   "execution_count": null,
   "metadata": {},
   "outputs": [],
   "source": [
    "loops_analysed_p_val.to_csv(f\"{base_dir}/HiC_analysis/output_results/DE_loops_CD8_vs_CD8SF.csv\")"
   ]
  },
  {
   "cell_type": "code",
   "execution_count": null,
   "metadata": {},
   "outputs": [],
   "source": []
  },
  {
   "attachments": {},
   "cell_type": "markdown",
   "metadata": {},
   "source": [
    "## simple permutation test to see that there is not false discovery"
   ]
  },
  {
   "cell_type": "code",
   "execution_count": 3,
   "metadata": {},
   "outputs": [],
   "source": [
    "loops_analysed = pd.read_pickle(f\"{base_dir}/HiC_analysis/extracting_loop_counts/aggregated_counts/aggregated_normalized_loops_CD4_CD8.pk\")\n",
    "metadata_hic = pd.read_csv(f\"{base_dir}/metadata/cleaned_HiC_metadata.csv\", index_col = 0)"
   ]
  },
  {
   "cell_type": "code",
   "execution_count": 4,
   "metadata": {},
   "outputs": [],
   "source": [
    "loops_analysed = loops_analysed[loops_analysed[\"chrA\"] == \"1\"]\n",
    "metadata_hic = metadata_hic[metadata_hic[\"cell_type\"].isin([\"CD4\",\"CD8\"])]"
   ]
  },
  {
   "cell_type": "code",
   "execution_count": null,
   "metadata": {},
   "outputs": [],
   "source": [
    "for i in range(40):\n",
    "    # randomly permute the cell_type column\n",
    "    metadata_hic[\"cell_type\"] = metadata_hic[\"cell_type\"].sample(frac=1).reset_index(drop=True)\n",
    "\n",
    "    # melt the loop dataframe and add info about the sample from the metadata\n",
    "    loops_analysed_melted = pd.melt(loops_analysed, id_vars=['chrA', 'A_start', 'A_end', 'chrB', 'B_start', 'B_end', 'FDR', 'DETECTION_SCALE', 'distance_bin'], \n",
    "            value_vars=loops_analysed.columns.difference(['chrA', 'A_start', 'A_end', 'chrB', 'B_start', 'B_end', 'FDR', 'DETECTION_SCALE', 'distance_bin']),\n",
    "            var_name=\"sample\",value_name=\"interaction_strength\")\n",
    "    loops_analysed_melted = loops_analysed_melted.merge(metadata_hic, left_on = \"sample\", right_on = \"folder_name\", how = \"inner\")\n",
    "\n",
    "    # apply the test to all loops\n",
    "    loops_analysed_p_val = loops_analysed_melted[loops_analysed_melted[\"cell_type\"].isin([\"CD4\",\"CD8\"])].groupby(\n",
    "        ['chrA', 'A_start', 'A_end', 'chrB', 'B_start', 'B_end', 'distance_bin']).parallel_apply(\n",
    "        calculate_ols_test_CD4_CD8)\n",
    "    \n",
    "    # apply FDR correction\n",
    "    loops_analysed_p_val = loops_analysed_p_val.reset_index()\n",
    "    loops_analysed_p_val[\"FDR\"] = multitest.fdrcorrection(loops_analysed_p_val[\"p_value\"], alpha = 0.1)[1]\n",
    "    print(len(loops_analysed_p_val[loops_analysed_p_val[\"FDR\"] < 0.1]))"
   ]
  },
  {
   "cell_type": "code",
   "execution_count": null,
   "metadata": {},
   "outputs": [],
   "source": []
  }
 ],
 "metadata": {
  "kernelspec": {
   "display_name": "Python 3",
   "language": "python",
   "name": "python3"
  },
  "language_info": {
   "codemirror_mode": {
    "name": "ipython",
    "version": 3
   },
   "file_extension": ".py",
   "mimetype": "text/x-python",
   "name": "python",
   "nbconvert_exporter": "python",
   "pygments_lexer": "ipython3",
   "version": "3.9.10"
  },
  "orig_nbformat": 4
 },
 "nbformat": 4,
 "nbformat_minor": 2
}
