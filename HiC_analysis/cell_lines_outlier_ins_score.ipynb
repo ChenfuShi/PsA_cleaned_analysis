{
 "cells": [
  {
   "attachments": {},
   "cell_type": "markdown",
   "metadata": {},
   "source": [
    "# comparison of the insulation score between cell lines and primary cells\n",
    "this is done in a similar way to the loops"
   ]
  },
  {
   "cell_type": "code",
   "execution_count": 5,
   "metadata": {},
   "outputs": [
    {
     "name": "stdout",
     "output_type": "stream",
     "text": [
      "INFO: Pandarallel will run on 28 workers.\n",
      "INFO: Pandarallel will use Memory file system to transfer data between the main process and workers.\n"
     ]
    }
   ],
   "source": [
    "import pandas as pd\n",
    "import numpy as np\n",
    "import hicstraw \n",
    "from multiprocessing import Pool\n",
    "from functools import partial\n",
    "import glob\n",
    "import os\n",
    "import plotly.express as px\n",
    "import math\n",
    "import matplotlib.pyplot as plt\n",
    "from matplotlib import colors\n",
    "from pandarallel import pandarallel\n",
    "import cooler\n",
    "import cooltools\n",
    "import pybedtools as pbed\n",
    "pandarallel.initialize()\n",
    "from scipy import stats, special\n",
    "from statsmodels.stats import multitest\n",
    "import statsmodels.api as sm\n",
    "import statsmodels.formula.api as smf\n",
    "import plotly.io as pio\n",
    "import seaborn as sns\n",
    "os.makedirs(\"/mnt/iusers01/jw01/mdefscs4/scratch/temp_pybedtools/\", exist_ok = True)\n",
    "pbed.helpers.set_tempdir(\"/mnt/iusers01/jw01/mdefscs4/scratch/temp_pybedtools/\")\n",
    "bed_genome_file = \"/mnt/iusers01/jw01/mdefscs4/hg38.genome\"\n",
    "\n",
    "plt.rcParams['svg.fonttype'] = 'none'\n",
    "\n",
    "base_dir = \"/mnt/jw01-aruk-home01/projects/psa_functional_genomics/PsA_cleaned_analysis\""
   ]
  },
  {
   "cell_type": "code",
   "execution_count": 6,
   "metadata": {},
   "outputs": [],
   "source": [
    "import sys\n",
    "sys.path.append(f\"{base_dir}/data_functions\")\n",
    "from quantile_norm import quantile_normalize"
   ]
  },
  {
   "cell_type": "code",
   "execution_count": 7,
   "metadata": {},
   "outputs": [],
   "source": [
    "metadata_hic = pd.read_csv(f\"{base_dir}/metadata/cleaned_HiC_metadata.csv\", index_col = 0)\n",
    "# read precomputed tables but add the two cell lines\n",
    "all_df = {}\n",
    "for key, row in metadata_hic.iterrows():\n",
    "    sample = row[\"folder_name\"]\n",
    "    insulation_table = pd.read_csv(f\"{base_dir}/HiC_analysis/insulation_score/ins_tables/{sample}.csv.gz\", dtype = {1:str,4:str},index_col = 0)\n",
    "    all_df[sample] = insulation_table\n",
    "\n",
    "for sample in [\"all_jurkat\", \"MyLa_all_old_ARIMA\"]:\n",
    "    insulation_table = pd.read_csv(f\"{base_dir}/HiC_analysis/insulation_score/ins_tables/{sample}.csv.gz\", dtype = {1:str,4:str},index_col = 0)\n",
    "    all_df[sample] = insulation_table\n",
    "\n",
    "def merge_dfs(dataframes_dict):\n",
    "    first_df = list(dataframes_dict.values())[0]\n",
    "    merged_df = first_df[['chrom', 'start', 'end', 'region']]\n",
    "    for key, df in dataframes_dict.items():\n",
    "        merged_df = pd.merge(merged_df, df[['chrom', 'start', 'end', 'region', 'log2_insulation_score_100000']], on=['chrom', 'start', 'end', 'region'])\n",
    "        col = df['log2_insulation_score_100000'].name\n",
    "        merged_df = merged_df.rename(columns={col: key})\n",
    "    return merged_df\n",
    "\n",
    "merged_df = merge_dfs(all_df)\n",
    "\n",
    "# apply quantile normalization to the insulation scores across samples\n",
    "merged_df.iloc[:,4:] = quantile_normalize(merged_df.iloc[:,4:])\n",
    "merged_df[\"chrom\"] = \"chr\" + merged_df[\"chrom\"] "
   ]
  },
  {
   "cell_type": "code",
   "execution_count": 20,
   "metadata": {},
   "outputs": [],
   "source": [
    "# melt the loop dataframe and add info about the cell type from the metadata\n",
    "merged_df = merged_df.dropna()\n",
    "ins_scores_melted = pd.melt(merged_df, id_vars=['chrom', 'start', 'end', 'region'], \n",
    "        value_vars=merged_df.columns.difference(['chrom', 'start', 'end', 'region']),\n",
    "        var_name=\"sample\",value_name=\"ins_score\")\n",
    "df = metadata_hic[[\"folder_name\",\"cell_type\"]].copy()\n",
    "df = pd.concat([df,pd.DataFrame({\"folder_name\" : [\"all_jurkat\",\"MyLa_all_old_ARIMA\"], \"cell_type\" : [\"CD4\", \"CD8\"]})], ignore_index= True)\n",
    "ins_scores_melted = ins_scores_melted.merge(df, left_on = \"sample\", right_on = \"folder_name\", how = \"left\")"
   ]
  },
  {
   "cell_type": "code",
   "execution_count": 23,
   "metadata": {},
   "outputs": [
    {
     "data": {
      "text/plain": [
       "113350"
      ]
     },
     "execution_count": 23,
     "metadata": {},
     "output_type": "execute_result"
    }
   ],
   "source": [
    "len(merged_df)"
   ]
  },
  {
   "cell_type": "code",
   "execution_count": 21,
   "metadata": {},
   "outputs": [],
   "source": [
    "def retrieve_pvals_CD4(df):\n",
    "    val_CD4 = df[(df[\"cell_type\"] == \"CD4\")]\n",
    "    z_scores_CD4 = stats.zscore(val_CD4[\"ins_score\"].values)\n",
    "    p_values_CD4 = stats.norm.pdf(abs(z_scores_CD4))*2 # two sided\n",
    "    return pd.Series(dict(zip(val_CD4[\"sample\"], p_values_CD4)))\n",
    "\n",
    "def retrieve_pvals_CD8(df):\n",
    "    val_CD8 = df[(df[\"cell_type\"] == \"CD8\")]\n",
    "    z_scores_CD8 = stats.zscore(val_CD8[\"ins_score\"].values)\n",
    "    p_values_CD8 = stats.norm.pdf(abs(z_scores_CD8))*2 # two sided\n",
    "    return pd.Series(dict(zip(val_CD8[\"sample\"], p_values_CD8)))\n",
    "\n",
    "df_CD4 = ins_scores_melted.groupby(['chrom', 'start', 'end']).parallel_apply(retrieve_pvals_CD4)\n",
    "df_CD8 = ins_scores_melted.groupby(['chrom', 'start', 'end']).parallel_apply(retrieve_pvals_CD8)"
   ]
  },
  {
   "cell_type": "code",
   "execution_count": 22,
   "metadata": {},
   "outputs": [
    {
     "name": "stderr",
     "output_type": "stream",
     "text": [
      "/mnt/iusers01/jw01/mdefscs4/communal_software/new_basic_software/lib/python3.9/site-packages/seaborn/categorical.py:1296: UserWarning: 30.2% of the points cannot be placed; you may want to decrease the size of the markers or use stripplot.\n",
      "  warnings.warn(msg, UserWarning)\n",
      "/mnt/iusers01/jw01/mdefscs4/scratch/temp_pybedtools//ipykernel_13099/3735814926.py:25: UserWarning: Matplotlib is currently using module://matplotlib_inline.backend_inline, which is a non-GUI backend, so cannot show the figure.\n",
      "  fig.show()\n"
     ]
    },
    {
     "data": {
      "image/png": "[encoded data removed]",
      "text/plain": [
       "<Figure size 360x360 with 2 Axes>"
      ]
     },
     "metadata": {},
     "output_type": "display_data"
    }
   ],
   "source": [
    "da = df_CD8[df_CD8 < 0.05].count()\n",
    "da = metadata_hic.merge(da.to_frame(),right_index = True, left_on = \"folder_name\", how = \"right\")\n",
    "da.loc[da[\"folder_name\"] == \"MyLa_all_old_ARIMA\",\"cell_type\"] = \"MyLa\"\n",
    "vals = da[da[\"cell_type\"] != \"MyLa\"][0]\n",
    "\n",
    "sns.set_style(\"whitegrid\")\n",
    "fig, axes = plt.subplots(1,2, figsize = (5,5),sharey=True)\n",
    "sns.swarmplot(y = vals,ax=axes[0],color=\"#310299\")\n",
    "sns.boxplot(y = vals,ax=axes[0], color=\"#94d1b6\")\n",
    "sns.swarmplot(y = da[da[\"cell_type\"] == \"MyLa\"][0],ax=axes[0],color=\"#d62a1e\", size = 15)\n",
    "\n",
    "\n",
    "da = df_CD4[df_CD4 < 0.05].count()\n",
    "da = metadata_hic.merge(da.to_frame(),right_index = True, left_on = \"folder_name\", how = \"right\")\n",
    "da.loc[da[\"folder_name\"] == \"all_jurkat\",\"cell_type\"] = \"Jurkat\"\n",
    "sns.swarmplot(y = vals,ax=axes[1],color=\"#2f6109\")\n",
    "sns.boxplot(y = vals,ax=axes[1], color=\"#9e8df0\")\n",
    "sns.swarmplot(y = da[da[\"cell_type\"] == \"Jurkat\"][0],ax=axes[1],color=\"#d46300\", size = 15)\n",
    "\n",
    "axes[0].set_title(\"CD8+ T cells\")\n",
    "axes[1].set_title(\"CD4+ T cells\")\n",
    "axes[0].set_ylabel(\"number of outlier insulation score bins\", fontsize = 13)\n",
    "axes[1].set_ylabel(\"number of outlier insulation score bins\", fontsize = 13)\n",
    "fig.suptitle(\"Number of outlier insulation score bins per sample\", fontsize = 16)\n",
    "fig.show()\n",
    "fig.savefig(f\"{base_dir}/HiC_analysis/figures/cell_line_outlier_ins_score.svg\")"
   ]
  },
  {
   "cell_type": "code",
   "execution_count": null,
   "metadata": {},
   "outputs": [],
   "source": []
  },
  {
   "cell_type": "code",
   "execution_count": null,
   "metadata": {},
   "outputs": [],
   "source": []
  },
  {
   "cell_type": "code",
   "execution_count": null,
   "metadata": {},
   "outputs": [],
   "source": []
  },
  {
   "cell_type": "code",
   "execution_count": null,
   "metadata": {},
   "outputs": [],
   "source": []
  },
  {
   "cell_type": "code",
   "execution_count": null,
   "metadata": {},
   "outputs": [],
   "source": []
  }
 ],
 "metadata": {
  "kernelspec": {
   "display_name": "Python 3",
   "language": "python",
   "name": "python3"
  },
  "language_info": {
   "codemirror_mode": {
    "name": "ipython",
    "version": 3
   },
   "file_extension": ".py",
   "mimetype": "text/x-python",
   "name": "python",
   "nbconvert_exporter": "python",
   "pygments_lexer": "ipython3",
   "version": "3.9.10"
  },
  "orig_nbformat": 4
 },
 "nbformat": 4,
 "nbformat_minor": 2
}
