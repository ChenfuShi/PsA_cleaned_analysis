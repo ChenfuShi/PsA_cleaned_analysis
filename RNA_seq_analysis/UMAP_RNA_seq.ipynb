{
 "cells": [
  {
   "attachments": {},
   "cell_type": "markdown",
   "metadata": {},
   "source": [
    "# UMAP plot of the RNA-seq data"
   ]
  },
  {
   "cell_type": "code",
   "execution_count": null,
   "metadata": {},
   "outputs": [],
   "source": [
    "import pandas as pd\n",
    "import numpy as np\n",
    "import hicstraw \n",
    "from multiprocessing import Pool\n",
    "from functools import partial\n",
    "import glob\n",
    "import os\n",
    "import plotly.express as px\n",
    "import math\n",
    "import matplotlib.pyplot as plt\n",
    "from matplotlib import colors\n",
    "from pandarallel import pandarallel\n",
    "import cooler\n",
    "import cooltools\n",
    "import pybedtools as pbed\n",
    "pandarallel.initialize()\n",
    "from scipy import stats, special\n",
    "from statsmodels.stats import multitest\n",
    "import statsmodels.api as sm\n",
    "import statsmodels.formula.api as smf\n",
    "import plotly.io as pio\n",
    "import seaborn as sns\n",
    "os.makedirs(\"/mnt/iusers01/jw01/mdefscs4/scratch/temp_pybedtools/\", exist_ok = True)\n",
    "pbed.helpers.set_tempdir(\"/mnt/iusers01/jw01/mdefscs4/scratch/temp_pybedtools/\")\n",
    "bed_genome_file = \"/mnt/iusers01/jw01/mdefscs4/hg38.genome\"\n",
    "\n",
    "plt.rcParams['svg.fonttype'] = 'none'\n",
    "\n",
    "base_dir = \"/mnt/jw01-aruk-home01/projects/psa_functional_genomics/PsA_cleaned_analysis\""
   ]
  },
  {
   "cell_type": "code",
   "execution_count": 116,
   "metadata": {},
   "outputs": [],
   "source": [
    "vsd_counts = pd.read_csv(f\"{base_dir}/RNA_seq_analysis/RNA_vsd_counts.csv\", index_col = 0)\n",
    "metadata_RNA = pd.read_csv(f\"{base_dir}/metadata/cleaned_RNA_metadata.csv\", index_col=0)"
   ]
  },
  {
   "cell_type": "code",
   "execution_count": 118,
   "metadata": {},
   "outputs": [],
   "source": [
    "import umap\n",
    "reducer = umap.UMAP(n_components = 2)\n",
    "latent_rep = reducer.fit_transform(vsd_counts.T)"
   ]
  },
  {
   "cell_type": "code",
   "execution_count": 129,
   "metadata": {},
   "outputs": [],
   "source": [
    "rep = metadata_RNA.copy()\n",
    "rep[\"X\"] = latent_rep[:,0]\n",
    "rep[\"Y\"] = latent_rep[:,1]"
   ]
  },
  {
   "cell_type": "code",
   "execution_count": 132,
   "metadata": {},
   "outputs": [
    {
     "data": {
      "application/vnd.plotly.v1+json": {
       "config": {
        "plotlyServerURL": "https://plot.ly"
       },
       "data": [
        {
         "hovertemplate": "<b>%{hovertext}</b><br><br>cell_type=CD4<br>female_sex=1<br>X=%{x}<br>Y=%{y}<extra></extra>",
         "hovertext": [
          "NRHV238CD4",
          "PSA5014CD4",
          "PSA4954CD4",
          "PSA4947CD4",
          "NRHV290CD4",
          "PSA4957CD4",
          "NRHV326CD4",
          "PSA4964CD4",
          "PSA5010CD4",
          "NRHV325CD4",
          "PSA5009CD4",
          "PSA5040CD4",
          "PSA4944CD4",
          "PSA5008CD4",
          "NRHV322CD4",
          "PSA5018CD4",
          "NRHV151CD4",
          "NRHV073CD4",
          "NRHV014XCD4",
          "PSA5026CD4",
          "PSA4951CD4",
          "PSA4967CD4",
          "PSA5017CD4",
          "NRHV321CD4",
          "NRHV121CD4",
          "PSA5019CD4",
          "PSA4962CD4"
         ],
         "legendgroup": "CD4, 1",
         "marker": {
          "color": "#636efa",
          "opacity": 0.8,
          "size": 10,
          "symbol": "circle"
         },
         "mode": "markers",
         "name": "CD4, 1",
         "orientation": "v",
         "showlegend": true,
         "type": "scatter",
         "x": [
          12.044652938842773,
          11.580933570861816,
          11.01354694366455,
          10.882294654846191,
          11.696029663085938,
          12.11395263671875,
          11.797565460205078,
          11.002045631408691,
          12.31641674041748,
          12.077437400817871,
          11.310007095336914,
          12.057265281677246,
          11.307509422302246,
          10.66545581817627,
          10.445921897888184,
          12.50373363494873,
          10.863035202026367,
          11.775623321533203,
          11.718249320983887,
          10.817081451416016,
          11.42208480834961,
          12.52694034576416,
          10.296369552612305,
          11.920280456542969,
          10.930241584777832,
          10.270118713378906,
          11.318670272827148
         ],
         "xaxis": "x",
         "y": [
          4.720548152923584,
          5.081233501434326,
          4.825990676879883,
          5.231697082519531,
          4.917209625244141,
          4.20651912689209,
          4.35452938079834,
          5.089901924133301,
          4.499122619628906,
          4.465475082397461,
          5.131704330444336,
          4.794486999511719,
          4.384738445281982,
          5.406790733337402,
          5.09205961227417,
          4.480432510375977,
          5.31699275970459,
          4.802886962890625,
          4.5538458824157715,
          5.114725112915039,
          4.43856954574585,
          4.547347545623779,
          4.961084365844727,
          4.242124080657959,
          4.577820777893066,
          4.942273139953613,
          4.848742961883545
         ],
         "yaxis": "y"
        },
        {
         "hovertemplate": "<b>%{hovertext}</b><br><br>cell_type=CD4<br>female_sex=0<br>X=%{x}<br>Y=%{y}<extra></extra>",
         "hovertext": [
          "PSA5013CD4",
          "NRHV079CD4",
          "PSA4956CD4",
          "NRHV332CD4",
          "PSA4968CD4",
          "PSA4945CD4",
          "PSA4942CD4",
          "PSA5007CD4",
          "PSA5012CD4",
          "NRHV295CD4",
          "NRHV324CD4",
          "PSA4958CD4",
          "PSA4959CD4",
          "NRHV168CD4",
          "PSA5021CD4",
          "PSA5037CD4",
          "PSA5036CD4",
          "PSA4949CD4",
          "PSA5006CD4",
          "NRHV005CD4",
          "NRHV086CD4",
          "PSA4963CD4",
          "NRHV171CD4",
          "NRHV319CD4"
         ],
         "legendgroup": "CD4, 0",
         "marker": {
          "color": "#636efa",
          "opacity": 0.8,
          "size": 10,
          "symbol": "diamond"
         },
         "mode": "markers",
         "name": "CD4, 0",
         "orientation": "v",
         "showlegend": true,
         "type": "scatter",
         "x": [
          11.11577320098877,
          11.333650588989258,
          11.205671310424805,
          11.676265716552734,
          10.61120891571045,
          10.588594436645508,
          9.939058303833008,
          11.471099853515625,
          7.536549091339111,
          11.95618724822998,
          11.395569801330566,
          10.483322143554688,
          7.261367321014404,
          11.712004661560059,
          10.898580551147461,
          11.134856224060059,
          10.783172607421875,
          10.416889190673828,
          9.874272346496582,
          10.712525367736816,
          9.659651756286621,
          10.900696754455566,
          11.457864761352539,
          11.275131225585938
         ],
         "xaxis": "x",
         "y": [
          3.3795878887176514,
          3.590334892272949,
          3.6505820751190186,
          3.750304937362671,
          4.023565292358398,
          3.4837028980255127,
          4.631077289581299,
          3.361968517303467,
          5.61704158782959,
          3.462740421295166,
          3.1062917709350586,
          3.974045753479004,
          5.705204010009766,
          3.7104780673980713,
          3.4701616764068604,
          3.060155153274536,
          3.5107312202453613,
          3.8911027908325195,
          4.463196277618408,
          3.7564008235931396,
          4.1455206871032715,
          3.1426117420196533,
          3.807091236114502,
          3.270270824432373
         ],
         "yaxis": "y"
        },
        {
         "hovertemplate": "<b>%{hovertext}</b><br><br>cell_type=CD4_SF<br>female_sex=1<br>X=%{x}<br>Y=%{y}<extra></extra>",
         "hovertext": [
          "PSA4917CD4_SF",
          "PSA4951CD4_SF"
         ],
         "legendgroup": "CD4_SF, 1",
         "marker": {
          "color": "#EF553B",
          "opacity": 0.8,
          "size": 10,
          "symbol": "circle"
         },
         "mode": "markers",
         "name": "CD4_SF, 1",
         "orientation": "v",
         "showlegend": true,
         "type": "scatter",
         "x": [
          2.329636573791504,
          2.1794090270996094
         ],
         "xaxis": "x",
         "y": [
          3.4733877182006836,
          3.3780627250671387
         ],
         "yaxis": "y"
        },
        {
         "hovertemplate": "<b>%{hovertext}</b><br><br>cell_type=CD4_SF<br>female_sex=0<br>X=%{x}<br>Y=%{y}<extra></extra>",
         "hovertext": [
          "PSA4958CD4_SF"
         ],
         "legendgroup": "CD4_SF, 0",
         "marker": {
          "color": "#EF553B",
          "opacity": 0.8,
          "size": 10,
          "symbol": "diamond"
         },
         "mode": "markers",
         "name": "CD4_SF, 0",
         "orientation": "v",
         "showlegend": true,
         "type": "scatter",
         "x": [
          2.294729232788086
         ],
         "xaxis": "x",
         "y": [
          3.4079043865203857
         ],
         "yaxis": "y"
        },
        {
         "hovertemplate": "<b>%{hovertext}</b><br><br>cell_type=CD8<br>female_sex=1<br>X=%{x}<br>Y=%{y}<extra></extra>",
         "hovertext": [
          "PSA5018CD8",
          "PSA4948CD8",
          "PSA4947CD8",
          "PSA4943CD8",
          "NRHV326CD8",
          "NRHV238CD8",
          "PSA5019CD8",
          "PSA5026CD8",
          "PSA4951CD8",
          "PSA4961CD8",
          "NRHV321CD8",
          "NRHV322CD8",
          "PSA4953CD8",
          "PSA5009CD8",
          "PSA4966CD8",
          "PSA4954CD8",
          "PSA5040CD8",
          "PSA4962CD8",
          "PSA4965CD8",
          "PSA4969CD8",
          "PSA5008CD8",
          "NRHV325CD8",
          "NRHV073CD8",
          "PSA5010CD8",
          "NRHV014XCD8",
          "PSA4944CD8",
          "NRHV121CD8",
          "PSA5014CD8",
          "NRHV290CD8",
          "NRHV151CD8",
          "PSA5017CD8"
         ],
         "legendgroup": "CD8, 1",
         "marker": {
          "color": "#00cc96",
          "opacity": 0.8,
          "size": 10,
          "symbol": "circle"
         },
         "mode": "markers",
         "name": "CD8, 1",
         "orientation": "v",
         "showlegend": true,
         "type": "scatter",
         "x": [
          6.654728412628174,
          4.856111526489258,
          6.335016250610352,
          5.815977573394775,
          4.8134684562683105,
          5.438472747802734,
          5.697578430175781,
          5.103600978851318,
          5.016678810119629,
          4.596837043762207,
          4.657934665679932,
          5.055112361907959,
          4.765216827392578,
          5.9310383796691895,
          4.936635971069336,
          5.382494926452637,
          6.120984077453613,
          4.759507656097412,
          5.578466892242432,
          5.2159905433654785,
          5.734684944152832,
          5.786457538604736,
          5.345895767211914,
          6.413400173187256,
          5.047677516937256,
          4.818859577178955,
          4.723495960235596,
          6.128645896911621,
          5.782341003417969,
          5.350873947143555,
          5.005452632904053
         ],
         "xaxis": "x",
         "y": [
          5.91998815536499,
          7.904483795166016,
          7.759457111358643,
          6.642679214477539,
          7.990664005279541,
          7.858333587646484,
          6.815502166748047,
          7.114510536193848,
          7.615149974822998,
          6.592770099639893,
          7.270831108093262,
          6.593829154968262,
          7.6568284034729,
          7.897396564483643,
          7.74225378036499,
          7.195591926574707,
          8.293379783630371,
          7.417056560516357,
          7.256082534790039,
          7.556040287017822,
          7.66139030456543,
          8.2112398147583,
          7.960695266723633,
          8.073701858520508,
          7.460656642913818,
          6.80069637298584,
          7.05647611618042,
          7.941928386688232,
          8.37520980834961,
          6.650373935699463,
          5.624452114105225
         ],
         "yaxis": "y"
        },
        {
         "hovertemplate": "<b>%{hovertext}</b><br><br>cell_type=CD8<br>female_sex=0<br>X=%{x}<br>Y=%{y}<extra></extra>",
         "hovertext": [
          "PSA4968CD8",
          "PSA4952CD8",
          "PSA4946CD8",
          "PSA4945CD8",
          "PSA4942CD8",
          "NRHV324CD8",
          "PSA4956CD8",
          "PSA5021CD8",
          "PSA5024CD8",
          "PSA4958CD8",
          "PSA5006CD8",
          "PSA5022CD8",
          "PSA5023CD8",
          "PSA4960CD8",
          "PSA4941CD8",
          "PSA5020CD8",
          "NRHV086CD8",
          "NRHV171CD8",
          "NRHV319CD8",
          "NRHV005CD8",
          "PSA5007CD8",
          "PSA4955CD8",
          "PSA4959CD8",
          "PSA5039CD8",
          "NRHV168CD8",
          "PSA4920CD8",
          "NRHV332CD8",
          "PSA5037CD8",
          "PSA5036CD8",
          "PSA5012CD8",
          "PSA5013CD8",
          "PSA5015CD8",
          "PSA4963CD8",
          "NRHV079CD8",
          "NRHV295CD8"
         ],
         "legendgroup": "CD8, 0",
         "marker": {
          "color": "#00cc96",
          "opacity": 0.8,
          "size": 10,
          "symbol": "diamond"
         },
         "mode": "markers",
         "name": "CD8, 0",
         "orientation": "v",
         "showlegend": true,
         "type": "scatter",
         "x": [
          6.481889724731445,
          5.19904088973999,
          4.957091808319092,
          4.8193793296813965,
          5.897613525390625,
          4.539010524749756,
          6.796796798706055,
          4.6706085205078125,
          6.836474895477295,
          6.125782012939453,
          4.818138599395752,
          5.609481334686279,
          4.005006790161133,
          4.723043918609619,
          5.252784729003906,
          6.642541885375977,
          4.5605621337890625,
          4.478954315185547,
          6.366564750671387,
          5.590602874755859,
          4.536644458770752,
          6.276182174682617,
          7.250430583953857,
          6.398421764373779,
          3.892876148223877,
          4.3462300300598145,
          5.851555824279785,
          6.53016471862793,
          5.075245380401611,
          7.169760704040527,
          6.63958215713501,
          6.7997050285339355,
          4.526606559753418,
          4.086306571960449,
          4.245952606201172
         ],
         "xaxis": "x",
         "y": [
          7.620565414428711,
          5.875308036804199,
          5.470062255859375,
          6.0713958740234375,
          6.449987411499023,
          6.21171760559082,
          7.002087593078613,
          5.759210109710693,
          5.922453880310059,
          6.724438190460205,
          5.231778621673584,
          6.2332940101623535,
          5.83339786529541,
          6.251229286193848,
          6.1751275062561035,
          5.63650369644165,
          5.2808098793029785,
          6.109774589538574,
          7.110311508178711,
          6.337028503417969,
          5.865232944488525,
          7.015255928039551,
          5.665473937988281,
          6.862753868103027,
          6.4067254066467285,
          6.072902679443359,
          8.307571411132812,
          6.768210411071777,
          6.144775867462158,
          5.755001068115234,
          7.250210285186768,
          7.173580169677734,
          6.083424091339111,
          5.913081169128418,
          5.540502548217773
         ],
         "yaxis": "y"
        },
        {
         "hovertemplate": "<b>%{hovertext}</b><br><br>cell_type=CD8_SF<br>female_sex=1<br>X=%{x}<br>Y=%{y}<extra></extra>",
         "hovertext": [
          "PSA4969CD8_SF",
          "PSA4917CD8_SF",
          "PSA5040CD8_SF",
          "PSA5025CD8_SF"
         ],
         "legendgroup": "CD8_SF, 1",
         "marker": {
          "color": "#ab63fa",
          "opacity": 0.8,
          "size": 10,
          "symbol": "circle"
         },
         "mode": "markers",
         "name": "CD8_SF, 1",
         "orientation": "v",
         "showlegend": true,
         "type": "scatter",
         "x": [
          2.5701217651367188,
          2.35612416267395,
          2.6835007667541504,
          2.842892646789551
         ],
         "xaxis": "x",
         "y": [
          3.538257360458374,
          3.3371524810791016,
          3.8760266304016113,
          4.024316310882568
         ],
         "yaxis": "y"
        },
        {
         "hovertemplate": "<b>%{hovertext}</b><br><br>cell_type=CD8_SF<br>female_sex=0<br>X=%{x}<br>Y=%{y}<extra></extra>",
         "hovertext": [
          "PSA4918CD8_SF",
          "PSA4942CD8_SF",
          "PSA4959CD8_SF",
          "PSA4958CD8_SF"
         ],
         "legendgroup": "CD8_SF, 0",
         "marker": {
          "color": "#ab63fa",
          "opacity": 0.8,
          "size": 10,
          "symbol": "diamond"
         },
         "mode": "markers",
         "name": "CD8_SF, 0",
         "orientation": "v",
         "showlegend": true,
         "type": "scatter",
         "x": [
          2.6987524032592773,
          2.5860447883605957,
          2.9088385105133057,
          2.470186233520508
         ],
         "xaxis": "x",
         "y": [
          3.9014172554016113,
          3.5300493240356445,
          4.056827068328857,
          3.47841739654541
         ],
         "yaxis": "y"
        }
       ],
       "layout": {
        "height": 600,
        "legend": {
         "title": {
          "text": "cell_type, female_sex"
         },
         "tracegroupgap": 0
        },
        "margin": {
         "t": 60
        },
        "template": {
         "data": {
          "bar": [
           {
            "error_x": {
             "color": "#2a3f5f"
            },
            "error_y": {
             "color": "#2a3f5f"
            },
            "marker": {
             "line": {
              "color": "white",
              "width": 0.5
             },
             "pattern": {
              "fillmode": "overlay",
              "size": 10,
              "solidity": 0.2
             }
            },
            "type": "bar"
           }
          ],
          "barpolar": [
           {
            "marker": {
             "line": {
              "color": "white",
              "width": 0.5
             },
             "pattern": {
              "fillmode": "overlay",
              "size": 10,
              "solidity": 0.2
             }
            },
            "type": "barpolar"
           }
          ],
          "carpet": [
           {
            "aaxis": {
             "endlinecolor": "#2a3f5f",
             "gridcolor": "#C8D4E3",
             "linecolor": "#C8D4E3",
             "minorgridcolor": "#C8D4E3",
             "startlinecolor": "#2a3f5f"
            },
            "baxis": {
             "endlinecolor": "#2a3f5f",
             "gridcolor": "#C8D4E3",
             "linecolor": "#C8D4E3",
             "minorgridcolor": "#C8D4E3",
             "startlinecolor": "#2a3f5f"
            },
            "type": "carpet"
           }
          ],
          "choropleth": [
           {
            "colorbar": {
             "outlinewidth": 0,
             "ticks": ""
            },
            "type": "choropleth"
           }
          ],
          "contour": [
           {
            "colorbar": {
             "outlinewidth": 0,
             "ticks": ""
            },
            "colorscale": [
             [
              0,
              "#0d0887"
             ],
             [
              0.1111111111111111,
              "#46039f"
             ],
             [
              0.2222222222222222,
              "#7201a8"
             ],
             [
              0.3333333333333333,
              "#9c179e"
             ],
             [
              0.4444444444444444,
              "#bd3786"
             ],
             [
              0.5555555555555556,
              "#d8576b"
             ],
             [
              0.6666666666666666,
              "#ed7953"
             ],
             [
              0.7777777777777778,
              "#fb9f3a"
             ],
             [
              0.8888888888888888,
              "#fdca26"
             ],
             [
              1,
              "#f0f921"
             ]
            ],
            "type": "contour"
           }
          ],
          "contourcarpet": [
           {
            "colorbar": {
             "outlinewidth": 0,
             "ticks": ""
            },
            "type": "contourcarpet"
           }
          ],
          "heatmap": [
           {
            "colorbar": {
             "outlinewidth": 0,
             "ticks": ""
            },
            "colorscale": [
             [
              0,
              "#0d0887"
             ],
             [
              0.1111111111111111,
              "#46039f"
             ],
             [
              0.2222222222222222,
              "#7201a8"
             ],
             [
              0.3333333333333333,
              "#9c179e"
             ],
             [
              0.4444444444444444,
              "#bd3786"
             ],
             [
              0.5555555555555556,
              "#d8576b"
             ],
             [
              0.6666666666666666,
              "#ed7953"
             ],
             [
              0.7777777777777778,
              "#fb9f3a"
             ],
             [
              0.8888888888888888,
              "#fdca26"
             ],
             [
              1,
              "#f0f921"
             ]
            ],
            "type": "heatmap"
           }
          ],
          "heatmapgl": [
           {
            "colorbar": {
             "outlinewidth": 0,
             "ticks": ""
            },
            "colorscale": [
             [
              0,
              "#0d0887"
             ],
             [
              0.1111111111111111,
              "#46039f"
             ],
             [
              0.2222222222222222,
              "#7201a8"
             ],
             [
              0.3333333333333333,
              "#9c179e"
             ],
             [
              0.4444444444444444,
              "#bd3786"
             ],
             [
              0.5555555555555556,
              "#d8576b"
             ],
             [
              0.6666666666666666,
              "#ed7953"
             ],
             [
              0.7777777777777778,
              "#fb9f3a"
             ],
             [
              0.8888888888888888,
              "#fdca26"
             ],
             [
              1,
              "#f0f921"
             ]
            ],
            "type": "heatmapgl"
           }
          ],
          "histogram": [
           {
            "marker": {
             "pattern": {
              "fillmode": "overlay",
              "size": 10,
              "solidity": 0.2
             }
            },
            "type": "histogram"
           }
          ],
          "histogram2d": [
           {
            "colorbar": {
             "outlinewidth": 0,
             "ticks": ""
            },
            "colorscale": [
             [
              0,
              "#0d0887"
             ],
             [
              0.1111111111111111,
              "#46039f"
             ],
             [
              0.2222222222222222,
              "#7201a8"
             ],
             [
              0.3333333333333333,
              "#9c179e"
             ],
             [
              0.4444444444444444,
              "#bd3786"
             ],
             [
              0.5555555555555556,
              "#d8576b"
             ],
             [
              0.6666666666666666,
              "#ed7953"
             ],
             [
              0.7777777777777778,
              "#fb9f3a"
             ],
             [
              0.8888888888888888,
              "#fdca26"
             ],
             [
              1,
              "#f0f921"
             ]
            ],
            "type": "histogram2d"
           }
          ],
          "histogram2dcontour": [
           {
            "colorbar": {
             "outlinewidth": 0,
             "ticks": ""
            },
            "colorscale": [
             [
              0,
              "#0d0887"
             ],
             [
              0.1111111111111111,
              "#46039f"
             ],
             [
              0.2222222222222222,
              "#7201a8"
             ],
             [
              0.3333333333333333,
              "#9c179e"
             ],
             [
              0.4444444444444444,
              "#bd3786"
             ],
             [
              0.5555555555555556,
              "#d8576b"
             ],
             [
              0.6666666666666666,
              "#ed7953"
             ],
             [
              0.7777777777777778,
              "#fb9f3a"
             ],
             [
              0.8888888888888888,
              "#fdca26"
             ],
             [
              1,
              "#f0f921"
             ]
            ],
            "type": "histogram2dcontour"
           }
          ],
          "mesh3d": [
           {
            "colorbar": {
             "outlinewidth": 0,
             "ticks": ""
            },
            "type": "mesh3d"
           }
          ],
          "parcoords": [
           {
            "line": {
             "colorbar": {
              "outlinewidth": 0,
              "ticks": ""
             }
            },
            "type": "parcoords"
           }
          ],
          "pie": [
           {
            "automargin": true,
            "type": "pie"
           }
          ],
          "scatter": [
           {
            "marker": {
             "colorbar": {
              "outlinewidth": 0,
              "ticks": ""
             }
            },
            "type": "scatter"
           }
          ],
          "scatter3d": [
           {
            "line": {
             "colorbar": {
              "outlinewidth": 0,
              "ticks": ""
             }
            },
            "marker": {
             "colorbar": {
              "outlinewidth": 0,
              "ticks": ""
             }
            },
            "type": "scatter3d"
           }
          ],
          "scattercarpet": [
           {
            "marker": {
             "colorbar": {
              "outlinewidth": 0,
              "ticks": ""
             }
            },
            "type": "scattercarpet"
           }
          ],
          "scattergeo": [
           {
            "marker": {
             "colorbar": {
              "outlinewidth": 0,
              "ticks": ""
             }
            },
            "type": "scattergeo"
           }
          ],
          "scattergl": [
           {
            "marker": {
             "colorbar": {
              "outlinewidth": 0,
              "ticks": ""
             }
            },
            "type": "scattergl"
           }
          ],
          "scattermapbox": [
           {
            "marker": {
             "colorbar": {
              "outlinewidth": 0,
              "ticks": ""
             }
            },
            "type": "scattermapbox"
           }
          ],
          "scatterpolar": [
           {
            "marker": {
             "colorbar": {
              "outlinewidth": 0,
              "ticks": ""
             }
            },
            "type": "scatterpolar"
           }
          ],
          "scatterpolargl": [
           {
            "marker": {
             "colorbar": {
              "outlinewidth": 0,
              "ticks": ""
             }
            },
            "type": "scatterpolargl"
           }
          ],
          "scatterternary": [
           {
            "marker": {
             "colorbar": {
              "outlinewidth": 0,
              "ticks": ""
             }
            },
            "type": "scatterternary"
           }
          ],
          "surface": [
           {
            "colorbar": {
             "outlinewidth": 0,
             "ticks": ""
            },
            "colorscale": [
             [
              0,
              "#0d0887"
             ],
             [
              0.1111111111111111,
              "#46039f"
             ],
             [
              0.2222222222222222,
              "#7201a8"
             ],
             [
              0.3333333333333333,
              "#9c179e"
             ],
             [
              0.4444444444444444,
              "#bd3786"
             ],
             [
              0.5555555555555556,
              "#d8576b"
             ],
             [
              0.6666666666666666,
              "#ed7953"
             ],
             [
              0.7777777777777778,
              "#fb9f3a"
             ],
             [
              0.8888888888888888,
              "#fdca26"
             ],
             [
              1,
              "#f0f921"
             ]
            ],
            "type": "surface"
           }
          ],
          "table": [
           {
            "cells": {
             "fill": {
              "color": "#EBF0F8"
             },
             "line": {
              "color": "white"
             }
            },
            "header": {
             "fill": {
              "color": "#C8D4E3"
             },
             "line": {
              "color": "white"
             }
            },
            "type": "table"
           }
          ]
         },
         "layout": {
          "annotationdefaults": {
           "arrowcolor": "#2a3f5f",
           "arrowhead": 0,
           "arrowwidth": 1
          },
          "autotypenumbers": "strict",
          "coloraxis": {
           "colorbar": {
            "outlinewidth": 0,
            "ticks": ""
           }
          },
          "colorscale": {
           "diverging": [
            [
             0,
             "#8e0152"
            ],
            [
             0.1,
             "#c51b7d"
            ],
            [
             0.2,
             "#de77ae"
            ],
            [
             0.3,
             "#f1b6da"
            ],
            [
             0.4,
             "#fde0ef"
            ],
            [
             0.5,
             "#f7f7f7"
            ],
            [
             0.6,
             "#e6f5d0"
            ],
            [
             0.7,
             "#b8e186"
            ],
            [
             0.8,
             "#7fbc41"
            ],
            [
             0.9,
             "#4d9221"
            ],
            [
             1,
             "#276419"
            ]
           ],
           "sequential": [
            [
             0,
             "#0d0887"
            ],
            [
             0.1111111111111111,
             "#46039f"
            ],
            [
             0.2222222222222222,
             "#7201a8"
            ],
            [
             0.3333333333333333,
             "#9c179e"
            ],
            [
             0.4444444444444444,
             "#bd3786"
            ],
            [
             0.5555555555555556,
             "#d8576b"
            ],
            [
             0.6666666666666666,
             "#ed7953"
            ],
            [
             0.7777777777777778,
             "#fb9f3a"
            ],
            [
             0.8888888888888888,
             "#fdca26"
            ],
            [
             1,
             "#f0f921"
            ]
           ],
           "sequentialminus": [
            [
             0,
             "#0d0887"
            ],
            [
             0.1111111111111111,
             "#46039f"
            ],
            [
             0.2222222222222222,
             "#7201a8"
            ],
            [
             0.3333333333333333,
             "#9c179e"
            ],
            [
             0.4444444444444444,
             "#bd3786"
            ],
            [
             0.5555555555555556,
             "#d8576b"
            ],
            [
             0.6666666666666666,
             "#ed7953"
            ],
            [
             0.7777777777777778,
             "#fb9f3a"
            ],
            [
             0.8888888888888888,
             "#fdca26"
            ],
            [
             1,
             "#f0f921"
            ]
           ]
          },
          "colorway": [
           "#636efa",
           "#EF553B",
           "#00cc96",
           "#ab63fa",
           "#FFA15A",
           "#19d3f3",
           "#FF6692",
           "#B6E880",
           "#FF97FF",
           "#FECB52"
          ],
          "font": {
           "color": "#2a3f5f"
          },
          "geo": {
           "bgcolor": "white",
           "lakecolor": "white",
           "landcolor": "white",
           "showlakes": true,
           "showland": true,
           "subunitcolor": "#C8D4E3"
          },
          "hoverlabel": {
           "align": "left"
          },
          "hovermode": "closest",
          "mapbox": {
           "style": "light"
          },
          "paper_bgcolor": "white",
          "plot_bgcolor": "white",
          "polar": {
           "angularaxis": {
            "gridcolor": "#EBF0F8",
            "linecolor": "#EBF0F8",
            "ticks": ""
           },
           "bgcolor": "white",
           "radialaxis": {
            "gridcolor": "#EBF0F8",
            "linecolor": "#EBF0F8",
            "ticks": ""
           }
          },
          "scene": {
           "xaxis": {
            "backgroundcolor": "white",
            "gridcolor": "#DFE8F3",
            "gridwidth": 2,
            "linecolor": "#EBF0F8",
            "showbackground": true,
            "ticks": "",
            "zerolinecolor": "#EBF0F8"
           },
           "yaxis": {
            "backgroundcolor": "white",
            "gridcolor": "#DFE8F3",
            "gridwidth": 2,
            "linecolor": "#EBF0F8",
            "showbackground": true,
            "ticks": "",
            "zerolinecolor": "#EBF0F8"
           },
           "zaxis": {
            "backgroundcolor": "white",
            "gridcolor": "#DFE8F3",
            "gridwidth": 2,
            "linecolor": "#EBF0F8",
            "showbackground": true,
            "ticks": "",
            "zerolinecolor": "#EBF0F8"
           }
          },
          "shapedefaults": {
           "line": {
            "color": "#2a3f5f"
           }
          },
          "ternary": {
           "aaxis": {
            "gridcolor": "#DFE8F3",
            "linecolor": "#A2B1C6",
            "ticks": ""
           },
           "baxis": {
            "gridcolor": "#DFE8F3",
            "linecolor": "#A2B1C6",
            "ticks": ""
           },
           "bgcolor": "white",
           "caxis": {
            "gridcolor": "#DFE8F3",
            "linecolor": "#A2B1C6",
            "ticks": ""
           }
          },
          "title": {
           "x": 0.05
          },
          "xaxis": {
           "automargin": true,
           "gridcolor": "#EBF0F8",
           "linecolor": "#EBF0F8",
           "ticks": "",
           "title": {
            "standoff": 15
           },
           "zerolinecolor": "#EBF0F8",
           "zerolinewidth": 2
          },
          "yaxis": {
           "automargin": true,
           "gridcolor": "#EBF0F8",
           "linecolor": "#EBF0F8",
           "ticks": "",
           "title": {
            "standoff": 15
           },
           "zerolinecolor": "#EBF0F8",
           "zerolinewidth": 2
          }
         }
        },
        "width": 700,
        "xaxis": {
         "anchor": "y",
         "domain": [
          0,
          1
         ],
         "title": {
          "text": "X"
         }
        },
        "yaxis": {
         "anchor": "x",
         "domain": [
          0,
          1
         ],
         "title": {
          "text": "Y"
         }
        }
       }
      },
      "text/html": [
       "<div>                            <div id=\"5f586745-c4ee-4e43-a5ea-58e4a16185e3\" class=\"plotly-graph-div\" style=\"height:600px; width:700px;\"></div>            <script type=\"text/javascript\">                require([\"plotly\"], function(Plotly) {                    window.PLOTLYENV=window.PLOTLYENV || {};                                    if (document.getElementById(\"5f586745-c4ee-4e43-a5ea-58e4a16185e3\")) {                    Plotly.newPlot(                        \"5f586745-c4ee-4e43-a5ea-58e4a16185e3\",                        [{\"hovertemplate\":\"<b>%{hovertext}</b><br><br>cell_type=CD4<br>female_sex=1<br>X=%{x}<br>Y=%{y}<extra></extra>\",\"hovertext\":[\"NRHV238CD4\",\"PSA5014CD4\",\"PSA4954CD4\",\"PSA4947CD4\",\"NRHV290CD4\",\"PSA4957CD4\",\"NRHV326CD4\",\"PSA4964CD4\",\"PSA5010CD4\",\"NRHV325CD4\",\"PSA5009CD4\",\"PSA5040CD4\",\"PSA4944CD4\",\"PSA5008CD4\",\"NRHV322CD4\",\"PSA5018CD4\",\"NRHV151CD4\",\"NRHV073CD4\",\"NRHV014XCD4\",\"PSA5026CD4\",\"PSA4951CD4\",\"PSA4967CD4\",\"PSA5017CD4\",\"NRHV321CD4\",\"NRHV121CD4\",\"PSA5019CD4\",\"PSA4962CD4\"],\"legendgroup\":\"CD4, 1\",\"marker\":{\"color\":\"#636efa\",\"opacity\":0.8,\"symbol\":\"circle\",\"size\":10},\"mode\":\"markers\",\"name\":\"CD4, 1\",\"orientation\":\"v\",\"showlegend\":true,\"x\":[12.044652938842773,11.580933570861816,11.01354694366455,10.882294654846191,11.696029663085938,12.11395263671875,11.797565460205078,11.002045631408691,12.31641674041748,12.077437400817871,11.310007095336914,12.057265281677246,11.307509422302246,10.66545581817627,10.445921897888184,12.50373363494873,10.863035202026367,11.775623321533203,11.718249320983887,10.817081451416016,11.42208480834961,12.52694034576416,10.296369552612305,11.920280456542969,10.930241584777832,10.270118713378906,11.318670272827148],\"xaxis\":\"x\",\"y\":[4.720548152923584,5.081233501434326,4.825990676879883,5.231697082519531,4.917209625244141,4.20651912689209,4.35452938079834,5.089901924133301,4.499122619628906,4.465475082397461,5.131704330444336,4.794486999511719,4.384738445281982,5.406790733337402,5.09205961227417,4.480432510375977,5.31699275970459,4.802886962890625,4.5538458824157715,5.114725112915039,4.43856954574585,4.547347545623779,4.961084365844727,4.242124080657959,4.577820777893066,4.942273139953613,4.848742961883545],\"yaxis\":\"y\",\"type\":\"scatter\"},{\"hovertemplate\":\"<b>%{hovertext}</b><br><br>cell_type=CD4<br>female_sex=0<br>X=%{x}<br>Y=%{y}<extra></extra>\",\"hovertext\":[\"PSA5013CD4\",\"NRHV079CD4\",\"PSA4956CD4\",\"NRHV332CD4\",\"PSA4968CD4\",\"PSA4945CD4\",\"PSA4942CD4\",\"PSA5007CD4\",\"PSA5012CD4\",\"NRHV295CD4\",\"NRHV324CD4\",\"PSA4958CD4\",\"PSA4959CD4\",\"NRHV168CD4\",\"PSA5021CD4\",\"PSA5037CD4\",\"PSA5036CD4\",\"PSA4949CD4\",\"PSA5006CD4\",\"NRHV005CD4\",\"NRHV086CD4\",\"PSA4963CD4\",\"NRHV171CD4\",\"NRHV319CD4\"],\"legendgroup\":\"CD4, 0\",\"marker\":{\"color\":\"#636efa\",\"opacity\":0.8,\"symbol\":\"diamond\",\"size\":10},\"mode\":\"markers\",\"name\":\"CD4, 0\",\"orientation\":\"v\",\"showlegend\":true,\"x\":[11.11577320098877,11.333650588989258,11.205671310424805,11.676265716552734,10.61120891571045,10.588594436645508,9.939058303833008,11.471099853515625,7.536549091339111,11.95618724822998,11.395569801330566,10.483322143554688,7.261367321014404,11.712004661560059,10.898580551147461,11.134856224060059,10.783172607421875,10.416889190673828,9.874272346496582,10.712525367736816,9.659651756286621,10.900696754455566,11.457864761352539,11.275131225585938],\"xaxis\":\"x\",\"y\":[3.3795878887176514,3.590334892272949,3.6505820751190186,3.750304937362671,4.023565292358398,3.4837028980255127,4.631077289581299,3.361968517303467,5.61704158782959,3.462740421295166,3.1062917709350586,3.974045753479004,5.705204010009766,3.7104780673980713,3.4701616764068604,3.060155153274536,3.5107312202453613,3.8911027908325195,4.463196277618408,3.7564008235931396,4.1455206871032715,3.1426117420196533,3.807091236114502,3.270270824432373],\"yaxis\":\"y\",\"type\":\"scatter\"},{\"hovertemplate\":\"<b>%{hovertext}</b><br><br>cell_type=CD4_SF<br>female_sex=1<br>X=%{x}<br>Y=%{y}<extra></extra>\",\"hovertext\":[\"PSA4917CD4_SF\",\"PSA4951CD4_SF\"],\"legendgroup\":\"CD4_SF, 1\",\"marker\":{\"color\":\"#EF553B\",\"opacity\":0.8,\"symbol\":\"circle\",\"size\":10},\"mode\":\"markers\",\"name\":\"CD4_SF, 1\",\"orientation\":\"v\",\"showlegend\":true,\"x\":[2.329636573791504,2.1794090270996094],\"xaxis\":\"x\",\"y\":[3.4733877182006836,3.3780627250671387],\"yaxis\":\"y\",\"type\":\"scatter\"},{\"hovertemplate\":\"<b>%{hovertext}</b><br><br>cell_type=CD4_SF<br>female_sex=0<br>X=%{x}<br>Y=%{y}<extra></extra>\",\"hovertext\":[\"PSA4958CD4_SF\"],\"legendgroup\":\"CD4_SF, 0\",\"marker\":{\"color\":\"#EF553B\",\"opacity\":0.8,\"symbol\":\"diamond\",\"size\":10},\"mode\":\"markers\",\"name\":\"CD4_SF, 0\",\"orientation\":\"v\",\"showlegend\":true,\"x\":[2.294729232788086],\"xaxis\":\"x\",\"y\":[3.4079043865203857],\"yaxis\":\"y\",\"type\":\"scatter\"},{\"hovertemplate\":\"<b>%{hovertext}</b><br><br>cell_type=CD8<br>female_sex=1<br>X=%{x}<br>Y=%{y}<extra></extra>\",\"hovertext\":[\"PSA5018CD8\",\"PSA4948CD8\",\"PSA4947CD8\",\"PSA4943CD8\",\"NRHV326CD8\",\"NRHV238CD8\",\"PSA5019CD8\",\"PSA5026CD8\",\"PSA4951CD8\",\"PSA4961CD8\",\"NRHV321CD8\",\"NRHV322CD8\",\"PSA4953CD8\",\"PSA5009CD8\",\"PSA4966CD8\",\"PSA4954CD8\",\"PSA5040CD8\",\"PSA4962CD8\",\"PSA4965CD8\",\"PSA4969CD8\",\"PSA5008CD8\",\"NRHV325CD8\",\"NRHV073CD8\",\"PSA5010CD8\",\"NRHV014XCD8\",\"PSA4944CD8\",\"NRHV121CD8\",\"PSA5014CD8\",\"NRHV290CD8\",\"NRHV151CD8\",\"PSA5017CD8\"],\"legendgroup\":\"CD8, 1\",\"marker\":{\"color\":\"#00cc96\",\"opacity\":0.8,\"symbol\":\"circle\",\"size\":10},\"mode\":\"markers\",\"name\":\"CD8, 1\",\"orientation\":\"v\",\"showlegend\":true,\"x\":[6.654728412628174,4.856111526489258,6.335016250610352,5.815977573394775,4.8134684562683105,5.438472747802734,5.697578430175781,5.103600978851318,5.016678810119629,4.596837043762207,4.657934665679932,5.055112361907959,4.765216827392578,5.9310383796691895,4.936635971069336,5.382494926452637,6.120984077453613,4.759507656097412,5.578466892242432,5.2159905433654785,5.734684944152832,5.786457538604736,5.345895767211914,6.413400173187256,5.047677516937256,4.818859577178955,4.723495960235596,6.128645896911621,5.782341003417969,5.350873947143555,5.005452632904053],\"xaxis\":\"x\",\"y\":[5.91998815536499,7.904483795166016,7.759457111358643,6.642679214477539,7.990664005279541,7.858333587646484,6.815502166748047,7.114510536193848,7.615149974822998,6.592770099639893,7.270831108093262,6.593829154968262,7.6568284034729,7.897396564483643,7.74225378036499,7.195591926574707,8.293379783630371,7.417056560516357,7.256082534790039,7.556040287017822,7.66139030456543,8.2112398147583,7.960695266723633,8.073701858520508,7.460656642913818,6.80069637298584,7.05647611618042,7.941928386688232,8.37520980834961,6.650373935699463,5.624452114105225],\"yaxis\":\"y\",\"type\":\"scatter\"},{\"hovertemplate\":\"<b>%{hovertext}</b><br><br>cell_type=CD8<br>female_sex=0<br>X=%{x}<br>Y=%{y}<extra></extra>\",\"hovertext\":[\"PSA4968CD8\",\"PSA4952CD8\",\"PSA4946CD8\",\"PSA4945CD8\",\"PSA4942CD8\",\"NRHV324CD8\",\"PSA4956CD8\",\"PSA5021CD8\",\"PSA5024CD8\",\"PSA4958CD8\",\"PSA5006CD8\",\"PSA5022CD8\",\"PSA5023CD8\",\"PSA4960CD8\",\"PSA4941CD8\",\"PSA5020CD8\",\"NRHV086CD8\",\"NRHV171CD8\",\"NRHV319CD8\",\"NRHV005CD8\",\"PSA5007CD8\",\"PSA4955CD8\",\"PSA4959CD8\",\"PSA5039CD8\",\"NRHV168CD8\",\"PSA4920CD8\",\"NRHV332CD8\",\"PSA5037CD8\",\"PSA5036CD8\",\"PSA5012CD8\",\"PSA5013CD8\",\"PSA5015CD8\",\"PSA4963CD8\",\"NRHV079CD8\",\"NRHV295CD8\"],\"legendgroup\":\"CD8, 0\",\"marker\":{\"color\":\"#00cc96\",\"opacity\":0.8,\"symbol\":\"diamond\",\"size\":10},\"mode\":\"markers\",\"name\":\"CD8, 0\",\"orientation\":\"v\",\"showlegend\":true,\"x\":[6.481889724731445,5.19904088973999,4.957091808319092,4.8193793296813965,5.897613525390625,4.539010524749756,6.796796798706055,4.6706085205078125,6.836474895477295,6.125782012939453,4.818138599395752,5.609481334686279,4.005006790161133,4.723043918609619,5.252784729003906,6.642541885375977,4.5605621337890625,4.478954315185547,6.366564750671387,5.590602874755859,4.536644458770752,6.276182174682617,7.250430583953857,6.398421764373779,3.892876148223877,4.3462300300598145,5.851555824279785,6.53016471862793,5.075245380401611,7.169760704040527,6.63958215713501,6.7997050285339355,4.526606559753418,4.086306571960449,4.245952606201172],\"xaxis\":\"x\",\"y\":[7.620565414428711,5.875308036804199,5.470062255859375,6.0713958740234375,6.449987411499023,6.21171760559082,7.002087593078613,5.759210109710693,5.922453880310059,6.724438190460205,5.231778621673584,6.2332940101623535,5.83339786529541,6.251229286193848,6.1751275062561035,5.63650369644165,5.2808098793029785,6.109774589538574,7.110311508178711,6.337028503417969,5.865232944488525,7.015255928039551,5.665473937988281,6.862753868103027,6.4067254066467285,6.072902679443359,8.307571411132812,6.768210411071777,6.144775867462158,5.755001068115234,7.250210285186768,7.173580169677734,6.083424091339111,5.913081169128418,5.540502548217773],\"yaxis\":\"y\",\"type\":\"scatter\"},{\"hovertemplate\":\"<b>%{hovertext}</b><br><br>cell_type=CD8_SF<br>female_sex=1<br>X=%{x}<br>Y=%{y}<extra></extra>\",\"hovertext\":[\"PSA4969CD8_SF\",\"PSA4917CD8_SF\",\"PSA5040CD8_SF\",\"PSA5025CD8_SF\"],\"legendgroup\":\"CD8_SF, 1\",\"marker\":{\"color\":\"#ab63fa\",\"opacity\":0.8,\"symbol\":\"circle\",\"size\":10},\"mode\":\"markers\",\"name\":\"CD8_SF, 1\",\"orientation\":\"v\",\"showlegend\":true,\"x\":[2.5701217651367188,2.35612416267395,2.6835007667541504,2.842892646789551],\"xaxis\":\"x\",\"y\":[3.538257360458374,3.3371524810791016,3.8760266304016113,4.024316310882568],\"yaxis\":\"y\",\"type\":\"scatter\"},{\"hovertemplate\":\"<b>%{hovertext}</b><br><br>cell_type=CD8_SF<br>female_sex=0<br>X=%{x}<br>Y=%{y}<extra></extra>\",\"hovertext\":[\"PSA4918CD8_SF\",\"PSA4942CD8_SF\",\"PSA4959CD8_SF\",\"PSA4958CD8_SF\"],\"legendgroup\":\"CD8_SF, 0\",\"marker\":{\"color\":\"#ab63fa\",\"opacity\":0.8,\"symbol\":\"diamond\",\"size\":10},\"mode\":\"markers\",\"name\":\"CD8_SF, 0\",\"orientation\":\"v\",\"showlegend\":true,\"x\":[2.6987524032592773,2.5860447883605957,2.9088385105133057,2.470186233520508],\"xaxis\":\"x\",\"y\":[3.9014172554016113,3.5300493240356445,4.056827068328857,3.47841739654541],\"yaxis\":\"y\",\"type\":\"scatter\"}],                        {\"template\":{\"data\":{\"barpolar\":[{\"marker\":{\"line\":{\"color\":\"white\",\"width\":0.5},\"pattern\":{\"fillmode\":\"overlay\",\"size\":10,\"solidity\":0.2}},\"type\":\"barpolar\"}],\"bar\":[{\"error_x\":{\"color\":\"#2a3f5f\"},\"error_y\":{\"color\":\"#2a3f5f\"},\"marker\":{\"line\":{\"color\":\"white\",\"width\":0.5},\"pattern\":{\"fillmode\":\"overlay\",\"size\":10,\"solidity\":0.2}},\"type\":\"bar\"}],\"carpet\":[{\"aaxis\":{\"endlinecolor\":\"#2a3f5f\",\"gridcolor\":\"#C8D4E3\",\"linecolor\":\"#C8D4E3\",\"minorgridcolor\":\"#C8D4E3\",\"startlinecolor\":\"#2a3f5f\"},\"baxis\":{\"endlinecolor\":\"#2a3f5f\",\"gridcolor\":\"#C8D4E3\",\"linecolor\":\"#C8D4E3\",\"minorgridcolor\":\"#C8D4E3\",\"startlinecolor\":\"#2a3f5f\"},\"type\":\"carpet\"}],\"choropleth\":[{\"colorbar\":{\"outlinewidth\":0,\"ticks\":\"\"},\"type\":\"choropleth\"}],\"contourcarpet\":[{\"colorbar\":{\"outlinewidth\":0,\"ticks\":\"\"},\"type\":\"contourcarpet\"}],\"contour\":[{\"colorbar\":{\"outlinewidth\":0,\"ticks\":\"\"},\"colorscale\":[[0.0,\"#0d0887\"],[0.1111111111111111,\"#46039f\"],[0.2222222222222222,\"#7201a8\"],[0.3333333333333333,\"#9c179e\"],[0.4444444444444444,\"#bd3786\"],[0.5555555555555556,\"#d8576b\"],[0.6666666666666666,\"#ed7953\"],[0.7777777777777778,\"#fb9f3a\"],[0.8888888888888888,\"#fdca26\"],[1.0,\"#f0f921\"]],\"type\":\"contour\"}],\"heatmapgl\":[{\"colorbar\":{\"outlinewidth\":0,\"ticks\":\"\"},\"colorscale\":[[0.0,\"#0d0887\"],[0.1111111111111111,\"#46039f\"],[0.2222222222222222,\"#7201a8\"],[0.3333333333333333,\"#9c179e\"],[0.4444444444444444,\"#bd3786\"],[0.5555555555555556,\"#d8576b\"],[0.6666666666666666,\"#ed7953\"],[0.7777777777777778,\"#fb9f3a\"],[0.8888888888888888,\"#fdca26\"],[1.0,\"#f0f921\"]],\"type\":\"heatmapgl\"}],\"heatmap\":[{\"colorbar\":{\"outlinewidth\":0,\"ticks\":\"\"},\"colorscale\":[[0.0,\"#0d0887\"],[0.1111111111111111,\"#46039f\"],[0.2222222222222222,\"#7201a8\"],[0.3333333333333333,\"#9c179e\"],[0.4444444444444444,\"#bd3786\"],[0.5555555555555556,\"#d8576b\"],[0.6666666666666666,\"#ed7953\"],[0.7777777777777778,\"#fb9f3a\"],[0.8888888888888888,\"#fdca26\"],[1.0,\"#f0f921\"]],\"type\":\"heatmap\"}],\"histogram2dcontour\":[{\"colorbar\":{\"outlinewidth\":0,\"ticks\":\"\"},\"colorscale\":[[0.0,\"#0d0887\"],[0.1111111111111111,\"#46039f\"],[0.2222222222222222,\"#7201a8\"],[0.3333333333333333,\"#9c179e\"],[0.4444444444444444,\"#bd3786\"],[0.5555555555555556,\"#d8576b\"],[0.6666666666666666,\"#ed7953\"],[0.7777777777777778,\"#fb9f3a\"],[0.8888888888888888,\"#fdca26\"],[1.0,\"#f0f921\"]],\"type\":\"histogram2dcontour\"}],\"histogram2d\":[{\"colorbar\":{\"outlinewidth\":0,\"ticks\":\"\"},\"colorscale\":[[0.0,\"#0d0887\"],[0.1111111111111111,\"#46039f\"],[0.2222222222222222,\"#7201a8\"],[0.3333333333333333,\"#9c179e\"],[0.4444444444444444,\"#bd3786\"],[0.5555555555555556,\"#d8576b\"],[0.6666666666666666,\"#ed7953\"],[0.7777777777777778,\"#fb9f3a\"],[0.8888888888888888,\"#fdca26\"],[1.0,\"#f0f921\"]],\"type\":\"histogram2d\"}],\"histogram\":[{\"marker\":{\"pattern\":{\"fillmode\":\"overlay\",\"size\":10,\"solidity\":0.2}},\"type\":\"histogram\"}],\"mesh3d\":[{\"colorbar\":{\"outlinewidth\":0,\"ticks\":\"\"},\"type\":\"mesh3d\"}],\"parcoords\":[{\"line\":{\"colorbar\":{\"outlinewidth\":0,\"ticks\":\"\"}},\"type\":\"parcoords\"}],\"pie\":[{\"automargin\":true,\"type\":\"pie\"}],\"scatter3d\":[{\"line\":{\"colorbar\":{\"outlinewidth\":0,\"ticks\":\"\"}},\"marker\":{\"colorbar\":{\"outlinewidth\":0,\"ticks\":\"\"}},\"type\":\"scatter3d\"}],\"scattercarpet\":[{\"marker\":{\"colorbar\":{\"outlinewidth\":0,\"ticks\":\"\"}},\"type\":\"scattercarpet\"}],\"scattergeo\":[{\"marker\":{\"colorbar\":{\"outlinewidth\":0,\"ticks\":\"\"}},\"type\":\"scattergeo\"}],\"scattergl\":[{\"marker\":{\"colorbar\":{\"outlinewidth\":0,\"ticks\":\"\"}},\"type\":\"scattergl\"}],\"scattermapbox\":[{\"marker\":{\"colorbar\":{\"outlinewidth\":0,\"ticks\":\"\"}},\"type\":\"scattermapbox\"}],\"scatterpolargl\":[{\"marker\":{\"colorbar\":{\"outlinewidth\":0,\"ticks\":\"\"}},\"type\":\"scatterpolargl\"}],\"scatterpolar\":[{\"marker\":{\"colorbar\":{\"outlinewidth\":0,\"ticks\":\"\"}},\"type\":\"scatterpolar\"}],\"scatter\":[{\"marker\":{\"colorbar\":{\"outlinewidth\":0,\"ticks\":\"\"}},\"type\":\"scatter\"}],\"scatterternary\":[{\"marker\":{\"colorbar\":{\"outlinewidth\":0,\"ticks\":\"\"}},\"type\":\"scatterternary\"}],\"surface\":[{\"colorbar\":{\"outlinewidth\":0,\"ticks\":\"\"},\"colorscale\":[[0.0,\"#0d0887\"],[0.1111111111111111,\"#46039f\"],[0.2222222222222222,\"#7201a8\"],[0.3333333333333333,\"#9c179e\"],[0.4444444444444444,\"#bd3786\"],[0.5555555555555556,\"#d8576b\"],[0.6666666666666666,\"#ed7953\"],[0.7777777777777778,\"#fb9f3a\"],[0.8888888888888888,\"#fdca26\"],[1.0,\"#f0f921\"]],\"type\":\"surface\"}],\"table\":[{\"cells\":{\"fill\":{\"color\":\"#EBF0F8\"},\"line\":{\"color\":\"white\"}},\"header\":{\"fill\":{\"color\":\"#C8D4E3\"},\"line\":{\"color\":\"white\"}},\"type\":\"table\"}]},\"layout\":{\"annotationdefaults\":{\"arrowcolor\":\"#2a3f5f\",\"arrowhead\":0,\"arrowwidth\":1},\"autotypenumbers\":\"strict\",\"coloraxis\":{\"colorbar\":{\"outlinewidth\":0,\"ticks\":\"\"}},\"colorscale\":{\"diverging\":[[0,\"#8e0152\"],[0.1,\"#c51b7d\"],[0.2,\"#de77ae\"],[0.3,\"#f1b6da\"],[0.4,\"#fde0ef\"],[0.5,\"#f7f7f7\"],[0.6,\"#e6f5d0\"],[0.7,\"#b8e186\"],[0.8,\"#7fbc41\"],[0.9,\"#4d9221\"],[1,\"#276419\"]],\"sequential\":[[0.0,\"#0d0887\"],[0.1111111111111111,\"#46039f\"],[0.2222222222222222,\"#7201a8\"],[0.3333333333333333,\"#9c179e\"],[0.4444444444444444,\"#bd3786\"],[0.5555555555555556,\"#d8576b\"],[0.6666666666666666,\"#ed7953\"],[0.7777777777777778,\"#fb9f3a\"],[0.8888888888888888,\"#fdca26\"],[1.0,\"#f0f921\"]],\"sequentialminus\":[[0.0,\"#0d0887\"],[0.1111111111111111,\"#46039f\"],[0.2222222222222222,\"#7201a8\"],[0.3333333333333333,\"#9c179e\"],[0.4444444444444444,\"#bd3786\"],[0.5555555555555556,\"#d8576b\"],[0.6666666666666666,\"#ed7953\"],[0.7777777777777778,\"#fb9f3a\"],[0.8888888888888888,\"#fdca26\"],[1.0,\"#f0f921\"]]},\"colorway\":[\"#636efa\",\"#EF553B\",\"#00cc96\",\"#ab63fa\",\"#FFA15A\",\"#19d3f3\",\"#FF6692\",\"#B6E880\",\"#FF97FF\",\"#FECB52\"],\"font\":{\"color\":\"#2a3f5f\"},\"geo\":{\"bgcolor\":\"white\",\"lakecolor\":\"white\",\"landcolor\":\"white\",\"showlakes\":true,\"showland\":true,\"subunitcolor\":\"#C8D4E3\"},\"hoverlabel\":{\"align\":\"left\"},\"hovermode\":\"closest\",\"mapbox\":{\"style\":\"light\"},\"paper_bgcolor\":\"white\",\"plot_bgcolor\":\"white\",\"polar\":{\"angularaxis\":{\"gridcolor\":\"#EBF0F8\",\"linecolor\":\"#EBF0F8\",\"ticks\":\"\"},\"bgcolor\":\"white\",\"radialaxis\":{\"gridcolor\":\"#EBF0F8\",\"linecolor\":\"#EBF0F8\",\"ticks\":\"\"}},\"scene\":{\"xaxis\":{\"backgroundcolor\":\"white\",\"gridcolor\":\"#DFE8F3\",\"gridwidth\":2,\"linecolor\":\"#EBF0F8\",\"showbackground\":true,\"ticks\":\"\",\"zerolinecolor\":\"#EBF0F8\"},\"yaxis\":{\"backgroundcolor\":\"white\",\"gridcolor\":\"#DFE8F3\",\"gridwidth\":2,\"linecolor\":\"#EBF0F8\",\"showbackground\":true,\"ticks\":\"\",\"zerolinecolor\":\"#EBF0F8\"},\"zaxis\":{\"backgroundcolor\":\"white\",\"gridcolor\":\"#DFE8F3\",\"gridwidth\":2,\"linecolor\":\"#EBF0F8\",\"showbackground\":true,\"ticks\":\"\",\"zerolinecolor\":\"#EBF0F8\"}},\"shapedefaults\":{\"line\":{\"color\":\"#2a3f5f\"}},\"ternary\":{\"aaxis\":{\"gridcolor\":\"#DFE8F3\",\"linecolor\":\"#A2B1C6\",\"ticks\":\"\"},\"baxis\":{\"gridcolor\":\"#DFE8F3\",\"linecolor\":\"#A2B1C6\",\"ticks\":\"\"},\"bgcolor\":\"white\",\"caxis\":{\"gridcolor\":\"#DFE8F3\",\"linecolor\":\"#A2B1C6\",\"ticks\":\"\"}},\"title\":{\"x\":0.05},\"xaxis\":{\"automargin\":true,\"gridcolor\":\"#EBF0F8\",\"linecolor\":\"#EBF0F8\",\"ticks\":\"\",\"title\":{\"standoff\":15},\"zerolinecolor\":\"#EBF0F8\",\"zerolinewidth\":2},\"yaxis\":{\"automargin\":true,\"gridcolor\":\"#EBF0F8\",\"linecolor\":\"#EBF0F8\",\"ticks\":\"\",\"title\":{\"standoff\":15},\"zerolinecolor\":\"#EBF0F8\",\"zerolinewidth\":2}}},\"xaxis\":{\"anchor\":\"y\",\"domain\":[0.0,1.0],\"title\":{\"text\":\"X\"}},\"yaxis\":{\"anchor\":\"x\",\"domain\":[0.0,1.0],\"title\":{\"text\":\"Y\"}},\"legend\":{\"title\":{\"text\":\"cell_type, female_sex\"},\"tracegroupgap\":0},\"margin\":{\"t\":60},\"height\":600,\"width\":700},                        {\"responsive\": true}                    ).then(function(){\n",
       "                            \n",
       "var gd = document.getElementById('5f586745-c4ee-4e43-a5ea-58e4a16185e3');\n",
       "var x = new MutationObserver(function (mutations, observer) {{\n",
       "        var display = window.getComputedStyle(gd).display;\n",
       "        if (!display || display === 'none') {{\n",
       "            console.log([gd, 'removed!']);\n",
       "            Plotly.purge(gd);\n",
       "            observer.disconnect();\n",
       "        }}\n",
       "}});\n",
       "\n",
       "// Listen for the removal of the full notebook cells\n",
       "var notebookContainer = gd.closest('#notebook-container');\n",
       "if (notebookContainer) {{\n",
       "    x.observe(notebookContainer, {childList: true});\n",
       "}}\n",
       "\n",
       "// Listen for the clearing of the current output cell\n",
       "var outputEl = gd.closest('.output');\n",
       "if (outputEl) {{\n",
       "    x.observe(outputEl, {childList: true});\n",
       "}}\n",
       "\n",
       "                        })                };                });            </script>        </div>"
      ]
     },
     "metadata": {},
     "output_type": "display_data"
    }
   ],
   "source": [
    "rep = rep.sort_values(by=\"cell_type\")\n",
    "fig = px.scatter(rep, x = \"X\", y = \"Y\", color = \"cell_type\", hover_name = \"proper_name\", template = \"plotly_white\", symbol = \"female_sex\", opacity = 0.8,\n",
    "height = 600, width = 700)\n",
    "fig.update_traces(marker={'size': 10})\n",
    "fig.show()\n",
    "fig.write_image(f\"{base_dir}/RNA_seq_analysis/figures/RNA_UMAP_sex.svg\")"
   ]
  },
  {
   "cell_type": "code",
   "execution_count": 133,
   "metadata": {},
   "outputs": [
    {
     "data": {
      "application/vnd.plotly.v1+json": {
       "config": {
        "plotlyServerURL": "https://plot.ly"
       },
       "data": [
        {
         "hovertemplate": "<b>%{hovertext}</b><br><br>cell_type=CD4<br>condition=healthy<br>X=%{x}<br>Y=%{y}<extra></extra>",
         "hovertext": [
          "NRHV238CD4",
          "NRHV079CD4",
          "NRHV290CD4",
          "NRHV332CD4",
          "NRHV326CD4",
          "NRHV325CD4",
          "NRHV295CD4",
          "NRHV324CD4",
          "NRHV322CD4",
          "NRHV168CD4",
          "NRHV151CD4",
          "NRHV073CD4",
          "NRHV014XCD4",
          "NRHV005CD4",
          "NRHV321CD4",
          "NRHV086CD4",
          "NRHV121CD4",
          "NRHV171CD4",
          "NRHV319CD4"
         ],
         "legendgroup": "CD4, healthy",
         "marker": {
          "color": "#636efa",
          "opacity": 0.8,
          "size": 10,
          "symbol": "circle"
         },
         "mode": "markers",
         "name": "CD4, healthy",
         "orientation": "v",
         "showlegend": true,
         "type": "scatter",
         "x": [
          12.044652938842773,
          11.333650588989258,
          11.696029663085938,
          11.676265716552734,
          11.797565460205078,
          12.077437400817871,
          11.95618724822998,
          11.395569801330566,
          10.445921897888184,
          11.712004661560059,
          10.863035202026367,
          11.775623321533203,
          11.718249320983887,
          10.712525367736816,
          11.920280456542969,
          9.659651756286621,
          10.930241584777832,
          11.457864761352539,
          11.275131225585938
         ],
         "xaxis": "x",
         "y": [
          4.720548152923584,
          3.590334892272949,
          4.917209625244141,
          3.750304937362671,
          4.35452938079834,
          4.465475082397461,
          3.462740421295166,
          3.1062917709350586,
          5.09205961227417,
          3.7104780673980713,
          5.31699275970459,
          4.802886962890625,
          4.5538458824157715,
          3.7564008235931396,
          4.242124080657959,
          4.1455206871032715,
          4.577820777893066,
          3.807091236114502,
          3.270270824432373
         ],
         "yaxis": "y"
        },
        {
         "hovertemplate": "<b>%{hovertext}</b><br><br>cell_type=CD4<br>condition=patient<br>X=%{x}<br>Y=%{y}<extra></extra>",
         "hovertext": [
          "PSA5014CD4",
          "PSA5013CD4",
          "PSA4954CD4",
          "PSA4947CD4",
          "PSA4956CD4",
          "PSA4957CD4",
          "PSA4968CD4",
          "PSA4945CD4",
          "PSA4942CD4",
          "PSA5007CD4",
          "PSA4964CD4",
          "PSA5012CD4",
          "PSA5010CD4",
          "PSA5009CD4",
          "PSA5040CD4",
          "PSA4944CD4",
          "PSA4958CD4",
          "PSA5008CD4",
          "PSA4959CD4",
          "PSA5018CD4",
          "PSA5021CD4",
          "PSA5026CD4",
          "PSA4951CD4",
          "PSA5037CD4",
          "PSA5036CD4",
          "PSA4949CD4",
          "PSA4967CD4",
          "PSA5017CD4",
          "PSA5006CD4",
          "PSA4963CD4",
          "PSA5019CD4",
          "PSA4962CD4"
         ],
         "legendgroup": "CD4, patient",
         "marker": {
          "color": "#636efa",
          "opacity": 0.8,
          "size": 10,
          "symbol": "diamond"
         },
         "mode": "markers",
         "name": "CD4, patient",
         "orientation": "v",
         "showlegend": true,
         "type": "scatter",
         "x": [
          11.580933570861816,
          11.11577320098877,
          11.01354694366455,
          10.882294654846191,
          11.205671310424805,
          12.11395263671875,
          10.61120891571045,
          10.588594436645508,
          9.939058303833008,
          11.471099853515625,
          11.002045631408691,
          7.536549091339111,
          12.31641674041748,
          11.310007095336914,
          12.057265281677246,
          11.307509422302246,
          10.483322143554688,
          10.66545581817627,
          7.261367321014404,
          12.50373363494873,
          10.898580551147461,
          10.817081451416016,
          11.42208480834961,
          11.134856224060059,
          10.783172607421875,
          10.416889190673828,
          12.52694034576416,
          10.296369552612305,
          9.874272346496582,
          10.900696754455566,
          10.270118713378906,
          11.318670272827148
         ],
         "xaxis": "x",
         "y": [
          5.081233501434326,
          3.3795878887176514,
          4.825990676879883,
          5.231697082519531,
          3.6505820751190186,
          4.20651912689209,
          4.023565292358398,
          3.4837028980255127,
          4.631077289581299,
          3.361968517303467,
          5.089901924133301,
          5.61704158782959,
          4.499122619628906,
          5.131704330444336,
          4.794486999511719,
          4.384738445281982,
          3.974045753479004,
          5.406790733337402,
          5.705204010009766,
          4.480432510375977,
          3.4701616764068604,
          5.114725112915039,
          4.43856954574585,
          3.060155153274536,
          3.5107312202453613,
          3.8911027908325195,
          4.547347545623779,
          4.961084365844727,
          4.463196277618408,
          3.1426117420196533,
          4.942273139953613,
          4.848742961883545
         ],
         "yaxis": "y"
        },
        {
         "hovertemplate": "<b>%{hovertext}</b><br><br>cell_type=CD4_SF<br>condition=synovium<br>X=%{x}<br>Y=%{y}<extra></extra>",
         "hovertext": [
          "PSA4917CD4_SF",
          "PSA4951CD4_SF",
          "PSA4958CD4_SF"
         ],
         "legendgroup": "CD4_SF, synovium",
         "marker": {
          "color": "#EF553B",
          "opacity": 0.8,
          "size": 10,
          "symbol": "square"
         },
         "mode": "markers",
         "name": "CD4_SF, synovium",
         "orientation": "v",
         "showlegend": true,
         "type": "scatter",
         "x": [
          2.329636573791504,
          2.1794090270996094,
          2.294729232788086
         ],
         "xaxis": "x",
         "y": [
          3.4733877182006836,
          3.3780627250671387,
          3.4079043865203857
         ],
         "yaxis": "y"
        },
        {
         "hovertemplate": "<b>%{hovertext}</b><br><br>cell_type=CD8<br>condition=healthy<br>X=%{x}<br>Y=%{y}<extra></extra>",
         "hovertext": [
          "NRHV326CD8",
          "NRHV324CD8",
          "NRHV238CD8",
          "PSA4958CD8",
          "NRHV086CD8",
          "NRHV171CD8",
          "NRHV319CD8",
          "NRHV321CD8",
          "NRHV322CD8",
          "NRHV005CD8",
          "NRHV168CD8",
          "NRHV332CD8",
          "NRHV325CD8",
          "NRHV073CD8",
          "NRHV014XCD8",
          "NRHV121CD8",
          "NRHV290CD8",
          "NRHV151CD8",
          "NRHV079CD8",
          "NRHV295CD8"
         ],
         "legendgroup": "CD8, healthy",
         "marker": {
          "color": "#00cc96",
          "opacity": 0.8,
          "size": 10,
          "symbol": "circle"
         },
         "mode": "markers",
         "name": "CD8, healthy",
         "orientation": "v",
         "showlegend": true,
         "type": "scatter",
         "x": [
          4.8134684562683105,
          4.539010524749756,
          5.438472747802734,
          6.125782012939453,
          4.5605621337890625,
          4.478954315185547,
          6.366564750671387,
          4.657934665679932,
          5.055112361907959,
          5.590602874755859,
          3.892876148223877,
          5.851555824279785,
          5.786457538604736,
          5.345895767211914,
          5.047677516937256,
          4.723495960235596,
          5.782341003417969,
          5.350873947143555,
          4.086306571960449,
          4.245952606201172
         ],
         "xaxis": "x",
         "y": [
          7.990664005279541,
          6.21171760559082,
          7.858333587646484,
          6.724438190460205,
          5.2808098793029785,
          6.109774589538574,
          7.110311508178711,
          7.270831108093262,
          6.593829154968262,
          6.337028503417969,
          6.4067254066467285,
          8.307571411132812,
          8.2112398147583,
          7.960695266723633,
          7.460656642913818,
          7.05647611618042,
          8.37520980834961,
          6.650373935699463,
          5.913081169128418,
          5.540502548217773
         ],
         "yaxis": "y"
        },
        {
         "hovertemplate": "<b>%{hovertext}</b><br><br>cell_type=CD8<br>condition=patient<br>X=%{x}<br>Y=%{y}<extra></extra>",
         "hovertext": [
          "PSA5018CD8",
          "PSA4968CD8",
          "PSA4948CD8",
          "PSA4952CD8",
          "PSA4947CD8",
          "PSA4946CD8",
          "PSA4945CD8",
          "PSA4943CD8",
          "PSA4942CD8",
          "PSA4956CD8",
          "PSA5019CD8",
          "PSA5021CD8",
          "PSA5024CD8",
          "PSA5006CD8",
          "PSA5022CD8",
          "PSA5023CD8",
          "PSA5026CD8",
          "PSA4951CD8",
          "PSA4960CD8",
          "PSA4941CD8",
          "PSA4961CD8",
          "PSA5020CD8",
          "PSA5007CD8",
          "PSA4953CD8",
          "PSA5009CD8",
          "PSA4966CD8",
          "PSA4955CD8",
          "PSA4959CD8",
          "PSA4954CD8",
          "PSA5040CD8",
          "PSA4962CD8",
          "PSA4965CD8",
          "PSA5039CD8",
          "PSA4969CD8",
          "PSA4920CD8",
          "PSA5008CD8",
          "PSA5037CD8",
          "PSA5036CD8",
          "PSA5010CD8",
          "PSA5012CD8",
          "PSA5013CD8",
          "PSA5015CD8",
          "PSA4944CD8",
          "PSA5014CD8",
          "PSA4963CD8",
          "PSA5017CD8"
         ],
         "legendgroup": "CD8, patient",
         "marker": {
          "color": "#00cc96",
          "opacity": 0.8,
          "size": 10,
          "symbol": "diamond"
         },
         "mode": "markers",
         "name": "CD8, patient",
         "orientation": "v",
         "showlegend": true,
         "type": "scatter",
         "x": [
          6.654728412628174,
          6.481889724731445,
          4.856111526489258,
          5.19904088973999,
          6.335016250610352,
          4.957091808319092,
          4.8193793296813965,
          5.815977573394775,
          5.897613525390625,
          6.796796798706055,
          5.697578430175781,
          4.6706085205078125,
          6.836474895477295,
          4.818138599395752,
          5.609481334686279,
          4.005006790161133,
          5.103600978851318,
          5.016678810119629,
          4.723043918609619,
          5.252784729003906,
          4.596837043762207,
          6.642541885375977,
          4.536644458770752,
          4.765216827392578,
          5.9310383796691895,
          4.936635971069336,
          6.276182174682617,
          7.250430583953857,
          5.382494926452637,
          6.120984077453613,
          4.759507656097412,
          5.578466892242432,
          6.398421764373779,
          5.2159905433654785,
          4.3462300300598145,
          5.734684944152832,
          6.53016471862793,
          5.075245380401611,
          6.413400173187256,
          7.169760704040527,
          6.63958215713501,
          6.7997050285339355,
          4.818859577178955,
          6.128645896911621,
          4.526606559753418,
          5.005452632904053
         ],
         "xaxis": "x",
         "y": [
          5.91998815536499,
          7.620565414428711,
          7.904483795166016,
          5.875308036804199,
          7.759457111358643,
          5.470062255859375,
          6.0713958740234375,
          6.642679214477539,
          6.449987411499023,
          7.002087593078613,
          6.815502166748047,
          5.759210109710693,
          5.922453880310059,
          5.231778621673584,
          6.2332940101623535,
          5.83339786529541,
          7.114510536193848,
          7.615149974822998,
          6.251229286193848,
          6.1751275062561035,
          6.592770099639893,
          5.63650369644165,
          5.865232944488525,
          7.6568284034729,
          7.897396564483643,
          7.74225378036499,
          7.015255928039551,
          5.665473937988281,
          7.195591926574707,
          8.293379783630371,
          7.417056560516357,
          7.256082534790039,
          6.862753868103027,
          7.556040287017822,
          6.072902679443359,
          7.66139030456543,
          6.768210411071777,
          6.144775867462158,
          8.073701858520508,
          5.755001068115234,
          7.250210285186768,
          7.173580169677734,
          6.80069637298584,
          7.941928386688232,
          6.083424091339111,
          5.624452114105225
         ],
         "yaxis": "y"
        },
        {
         "hovertemplate": "<b>%{hovertext}</b><br><br>cell_type=CD8_SF<br>condition=synovium<br>X=%{x}<br>Y=%{y}<extra></extra>",
         "hovertext": [
          "PSA4969CD8_SF",
          "PSA4917CD8_SF",
          "PSA4918CD8_SF",
          "PSA4942CD8_SF",
          "PSA5040CD8_SF",
          "PSA4959CD8_SF",
          "PSA5025CD8_SF",
          "PSA4958CD8_SF"
         ],
         "legendgroup": "CD8_SF, synovium",
         "marker": {
          "color": "#ab63fa",
          "opacity": 0.8,
          "size": 10,
          "symbol": "square"
         },
         "mode": "markers",
         "name": "CD8_SF, synovium",
         "orientation": "v",
         "showlegend": true,
         "type": "scatter",
         "x": [
          2.5701217651367188,
          2.35612416267395,
          2.6987524032592773,
          2.5860447883605957,
          2.6835007667541504,
          2.9088385105133057,
          2.842892646789551,
          2.470186233520508
         ],
         "xaxis": "x",
         "y": [
          3.538257360458374,
          3.3371524810791016,
          3.9014172554016113,
          3.5300493240356445,
          3.8760266304016113,
          4.056827068328857,
          4.024316310882568,
          3.47841739654541
         ],
         "yaxis": "y"
        }
       ],
       "layout": {
        "height": 600,
        "legend": {
         "title": {
          "text": "cell_type, condition"
         },
         "tracegroupgap": 0
        },
        "margin": {
         "t": 60
        },
        "template": {
         "data": {
          "bar": [
           {
            "error_x": {
             "color": "#2a3f5f"
            },
            "error_y": {
             "color": "#2a3f5f"
            },
            "marker": {
             "line": {
              "color": "white",
              "width": 0.5
             },
             "pattern": {
              "fillmode": "overlay",
              "size": 10,
              "solidity": 0.2
             }
            },
            "type": "bar"
           }
          ],
          "barpolar": [
           {
            "marker": {
             "line": {
              "color": "white",
              "width": 0.5
             },
             "pattern": {
              "fillmode": "overlay",
              "size": 10,
              "solidity": 0.2
             }
            },
            "type": "barpolar"
           }
          ],
          "carpet": [
           {
            "aaxis": {
             "endlinecolor": "#2a3f5f",
             "gridcolor": "#C8D4E3",
             "linecolor": "#C8D4E3",
             "minorgridcolor": "#C8D4E3",
             "startlinecolor": "#2a3f5f"
            },
            "baxis": {
             "endlinecolor": "#2a3f5f",
             "gridcolor": "#C8D4E3",
             "linecolor": "#C8D4E3",
             "minorgridcolor": "#C8D4E3",
             "startlinecolor": "#2a3f5f"
            },
            "type": "carpet"
           }
          ],
          "choropleth": [
           {
            "colorbar": {
             "outlinewidth": 0,
             "ticks": ""
            },
            "type": "choropleth"
           }
          ],
          "contour": [
           {
            "colorbar": {
             "outlinewidth": 0,
             "ticks": ""
            },
            "colorscale": [
             [
              0,
              "#0d0887"
             ],
             [
              0.1111111111111111,
              "#46039f"
             ],
             [
              0.2222222222222222,
              "#7201a8"
             ],
             [
              0.3333333333333333,
              "#9c179e"
             ],
             [
              0.4444444444444444,
              "#bd3786"
             ],
             [
              0.5555555555555556,
              "#d8576b"
             ],
             [
              0.6666666666666666,
              "#ed7953"
             ],
             [
              0.7777777777777778,
              "#fb9f3a"
             ],
             [
              0.8888888888888888,
              "#fdca26"
             ],
             [
              1,
              "#f0f921"
             ]
            ],
            "type": "contour"
           }
          ],
          "contourcarpet": [
           {
            "colorbar": {
             "outlinewidth": 0,
             "ticks": ""
            },
            "type": "contourcarpet"
           }
          ],
          "heatmap": [
           {
            "colorbar": {
             "outlinewidth": 0,
             "ticks": ""
            },
            "colorscale": [
             [
              0,
              "#0d0887"
             ],
             [
              0.1111111111111111,
              "#46039f"
             ],
             [
              0.2222222222222222,
              "#7201a8"
             ],
             [
              0.3333333333333333,
              "#9c179e"
             ],
             [
              0.4444444444444444,
              "#bd3786"
             ],
             [
              0.5555555555555556,
              "#d8576b"
             ],
             [
              0.6666666666666666,
              "#ed7953"
             ],
             [
              0.7777777777777778,
              "#fb9f3a"
             ],
             [
              0.8888888888888888,
              "#fdca26"
             ],
             [
              1,
              "#f0f921"
             ]
            ],
            "type": "heatmap"
           }
          ],
          "heatmapgl": [
           {
            "colorbar": {
             "outlinewidth": 0,
             "ticks": ""
            },
            "colorscale": [
             [
              0,
              "#0d0887"
             ],
             [
              0.1111111111111111,
              "#46039f"
             ],
             [
              0.2222222222222222,
              "#7201a8"
             ],
             [
              0.3333333333333333,
              "#9c179e"
             ],
             [
              0.4444444444444444,
              "#bd3786"
             ],
             [
              0.5555555555555556,
              "#d8576b"
             ],
             [
              0.6666666666666666,
              "#ed7953"
             ],
             [
              0.7777777777777778,
              "#fb9f3a"
             ],
             [
              0.8888888888888888,
              "#fdca26"
             ],
             [
              1,
              "#f0f921"
             ]
            ],
            "type": "heatmapgl"
           }
          ],
          "histogram": [
           {
            "marker": {
             "pattern": {
              "fillmode": "overlay",
              "size": 10,
              "solidity": 0.2
             }
            },
            "type": "histogram"
           }
          ],
          "histogram2d": [
           {
            "colorbar": {
             "outlinewidth": 0,
             "ticks": ""
            },
            "colorscale": [
             [
              0,
              "#0d0887"
             ],
             [
              0.1111111111111111,
              "#46039f"
             ],
             [
              0.2222222222222222,
              "#7201a8"
             ],
             [
              0.3333333333333333,
              "#9c179e"
             ],
             [
              0.4444444444444444,
              "#bd3786"
             ],
             [
              0.5555555555555556,
              "#d8576b"
             ],
             [
              0.6666666666666666,
              "#ed7953"
             ],
             [
              0.7777777777777778,
              "#fb9f3a"
             ],
             [
              0.8888888888888888,
              "#fdca26"
             ],
             [
              1,
              "#f0f921"
             ]
            ],
            "type": "histogram2d"
           }
          ],
          "histogram2dcontour": [
           {
            "colorbar": {
             "outlinewidth": 0,
             "ticks": ""
            },
            "colorscale": [
             [
              0,
              "#0d0887"
             ],
             [
              0.1111111111111111,
              "#46039f"
             ],
             [
              0.2222222222222222,
              "#7201a8"
             ],
             [
              0.3333333333333333,
              "#9c179e"
             ],
             [
              0.4444444444444444,
              "#bd3786"
             ],
             [
              0.5555555555555556,
              "#d8576b"
             ],
             [
              0.6666666666666666,
              "#ed7953"
             ],
             [
              0.7777777777777778,
              "#fb9f3a"
             ],
             [
              0.8888888888888888,
              "#fdca26"
             ],
             [
              1,
              "#f0f921"
             ]
            ],
            "type": "histogram2dcontour"
           }
          ],
          "mesh3d": [
           {
            "colorbar": {
             "outlinewidth": 0,
             "ticks": ""
            },
            "type": "mesh3d"
           }
          ],
          "parcoords": [
           {
            "line": {
             "colorbar": {
              "outlinewidth": 0,
              "ticks": ""
             }
            },
            "type": "parcoords"
           }
          ],
          "pie": [
           {
            "automargin": true,
            "type": "pie"
           }
          ],
          "scatter": [
           {
            "marker": {
             "colorbar": {
              "outlinewidth": 0,
              "ticks": ""
             }
            },
            "type": "scatter"
           }
          ],
          "scatter3d": [
           {
            "line": {
             "colorbar": {
              "outlinewidth": 0,
              "ticks": ""
             }
            },
            "marker": {
             "colorbar": {
              "outlinewidth": 0,
              "ticks": ""
             }
            },
            "type": "scatter3d"
           }
          ],
          "scattercarpet": [
           {
            "marker": {
             "colorbar": {
              "outlinewidth": 0,
              "ticks": ""
             }
            },
            "type": "scattercarpet"
           }
          ],
          "scattergeo": [
           {
            "marker": {
             "colorbar": {
              "outlinewidth": 0,
              "ticks": ""
             }
            },
            "type": "scattergeo"
           }
          ],
          "scattergl": [
           {
            "marker": {
             "colorbar": {
              "outlinewidth": 0,
              "ticks": ""
             }
            },
            "type": "scattergl"
           }
          ],
          "scattermapbox": [
           {
            "marker": {
             "colorbar": {
              "outlinewidth": 0,
              "ticks": ""
             }
            },
            "type": "scattermapbox"
           }
          ],
          "scatterpolar": [
           {
            "marker": {
             "colorbar": {
              "outlinewidth": 0,
              "ticks": ""
             }
            },
            "type": "scatterpolar"
           }
          ],
          "scatterpolargl": [
           {
            "marker": {
             "colorbar": {
              "outlinewidth": 0,
              "ticks": ""
             }
            },
            "type": "scatterpolargl"
           }
          ],
          "scatterternary": [
           {
            "marker": {
             "colorbar": {
              "outlinewidth": 0,
              "ticks": ""
             }
            },
            "type": "scatterternary"
           }
          ],
          "surface": [
           {
            "colorbar": {
             "outlinewidth": 0,
             "ticks": ""
            },
            "colorscale": [
             [
              0,
              "#0d0887"
             ],
             [
              0.1111111111111111,
              "#46039f"
             ],
             [
              0.2222222222222222,
              "#7201a8"
             ],
             [
              0.3333333333333333,
              "#9c179e"
             ],
             [
              0.4444444444444444,
              "#bd3786"
             ],
             [
              0.5555555555555556,
              "#d8576b"
             ],
             [
              0.6666666666666666,
              "#ed7953"
             ],
             [
              0.7777777777777778,
              "#fb9f3a"
             ],
             [
              0.8888888888888888,
              "#fdca26"
             ],
             [
              1,
              "#f0f921"
             ]
            ],
            "type": "surface"
           }
          ],
          "table": [
           {
            "cells": {
             "fill": {
              "color": "#EBF0F8"
             },
             "line": {
              "color": "white"
             }
            },
            "header": {
             "fill": {
              "color": "#C8D4E3"
             },
             "line": {
              "color": "white"
             }
            },
            "type": "table"
           }
          ]
         },
         "layout": {
          "annotationdefaults": {
           "arrowcolor": "#2a3f5f",
           "arrowhead": 0,
           "arrowwidth": 1
          },
          "autotypenumbers": "strict",
          "coloraxis": {
           "colorbar": {
            "outlinewidth": 0,
            "ticks": ""
           }
          },
          "colorscale": {
           "diverging": [
            [
             0,
             "#8e0152"
            ],
            [
             0.1,
             "#c51b7d"
            ],
            [
             0.2,
             "#de77ae"
            ],
            [
             0.3,
             "#f1b6da"
            ],
            [
             0.4,
             "#fde0ef"
            ],
            [
             0.5,
             "#f7f7f7"
            ],
            [
             0.6,
             "#e6f5d0"
            ],
            [
             0.7,
             "#b8e186"
            ],
            [
             0.8,
             "#7fbc41"
            ],
            [
             0.9,
             "#4d9221"
            ],
            [
             1,
             "#276419"
            ]
           ],
           "sequential": [
            [
             0,
             "#0d0887"
            ],
            [
             0.1111111111111111,
             "#46039f"
            ],
            [
             0.2222222222222222,
             "#7201a8"
            ],
            [
             0.3333333333333333,
             "#9c179e"
            ],
            [
             0.4444444444444444,
             "#bd3786"
            ],
            [
             0.5555555555555556,
             "#d8576b"
            ],
            [
             0.6666666666666666,
             "#ed7953"
            ],
            [
             0.7777777777777778,
             "#fb9f3a"
            ],
            [
             0.8888888888888888,
             "#fdca26"
            ],
            [
             1,
             "#f0f921"
            ]
           ],
           "sequentialminus": [
            [
             0,
             "#0d0887"
            ],
            [
             0.1111111111111111,
             "#46039f"
            ],
            [
             0.2222222222222222,
             "#7201a8"
            ],
            [
             0.3333333333333333,
             "#9c179e"
            ],
            [
             0.4444444444444444,
             "#bd3786"
            ],
            [
             0.5555555555555556,
             "#d8576b"
            ],
            [
             0.6666666666666666,
             "#ed7953"
            ],
            [
             0.7777777777777778,
             "#fb9f3a"
            ],
            [
             0.8888888888888888,
             "#fdca26"
            ],
            [
             1,
             "#f0f921"
            ]
           ]
          },
          "colorway": [
           "#636efa",
           "#EF553B",
           "#00cc96",
           "#ab63fa",
           "#FFA15A",
           "#19d3f3",
           "#FF6692",
           "#B6E880",
           "#FF97FF",
           "#FECB52"
          ],
          "font": {
           "color": "#2a3f5f"
          },
          "geo": {
           "bgcolor": "white",
           "lakecolor": "white",
           "landcolor": "white",
           "showlakes": true,
           "showland": true,
           "subunitcolor": "#C8D4E3"
          },
          "hoverlabel": {
           "align": "left"
          },
          "hovermode": "closest",
          "mapbox": {
           "style": "light"
          },
          "paper_bgcolor": "white",
          "plot_bgcolor": "white",
          "polar": {
           "angularaxis": {
            "gridcolor": "#EBF0F8",
            "linecolor": "#EBF0F8",
            "ticks": ""
           },
           "bgcolor": "white",
           "radialaxis": {
            "gridcolor": "#EBF0F8",
            "linecolor": "#EBF0F8",
            "ticks": ""
           }
          },
          "scene": {
           "xaxis": {
            "backgroundcolor": "white",
            "gridcolor": "#DFE8F3",
            "gridwidth": 2,
            "linecolor": "#EBF0F8",
            "showbackground": true,
            "ticks": "",
            "zerolinecolor": "#EBF0F8"
           },
           "yaxis": {
            "backgroundcolor": "white",
            "gridcolor": "#DFE8F3",
            "gridwidth": 2,
            "linecolor": "#EBF0F8",
            "showbackground": true,
            "ticks": "",
            "zerolinecolor": "#EBF0F8"
           },
           "zaxis": {
            "backgroundcolor": "white",
            "gridcolor": "#DFE8F3",
            "gridwidth": 2,
            "linecolor": "#EBF0F8",
            "showbackground": true,
            "ticks": "",
            "zerolinecolor": "#EBF0F8"
           }
          },
          "shapedefaults": {
           "line": {
            "color": "#2a3f5f"
           }
          },
          "ternary": {
           "aaxis": {
            "gridcolor": "#DFE8F3",
            "linecolor": "#A2B1C6",
            "ticks": ""
           },
           "baxis": {
            "gridcolor": "#DFE8F3",
            "linecolor": "#A2B1C6",
            "ticks": ""
           },
           "bgcolor": "white",
           "caxis": {
            "gridcolor": "#DFE8F3",
            "linecolor": "#A2B1C6",
            "ticks": ""
           }
          },
          "title": {
           "x": 0.05
          },
          "xaxis": {
           "automargin": true,
           "gridcolor": "#EBF0F8",
           "linecolor": "#EBF0F8",
           "ticks": "",
           "title": {
            "standoff": 15
           },
           "zerolinecolor": "#EBF0F8",
           "zerolinewidth": 2
          },
          "yaxis": {
           "automargin": true,
           "gridcolor": "#EBF0F8",
           "linecolor": "#EBF0F8",
           "ticks": "",
           "title": {
            "standoff": 15
           },
           "zerolinecolor": "#EBF0F8",
           "zerolinewidth": 2
          }
         }
        },
        "width": 700,
        "xaxis": {
         "anchor": "y",
         "domain": [
          0,
          1
         ],
         "title": {
          "text": "X"
         }
        },
        "yaxis": {
         "anchor": "x",
         "domain": [
          0,
          1
         ],
         "title": {
          "text": "Y"
         }
        }
       }
      },
      "text/html": [
       "<div>                            <div id=\"da9920df-cd1b-4272-82be-e403737c6cca\" class=\"plotly-graph-div\" style=\"height:600px; width:700px;\"></div>            <script type=\"text/javascript\">                require([\"plotly\"], function(Plotly) {                    window.PLOTLYENV=window.PLOTLYENV || {};                                    if (document.getElementById(\"da9920df-cd1b-4272-82be-e403737c6cca\")) {                    Plotly.newPlot(                        \"da9920df-cd1b-4272-82be-e403737c6cca\",                        [{\"hovertemplate\":\"<b>%{hovertext}</b><br><br>cell_type=CD4<br>condition=healthy<br>X=%{x}<br>Y=%{y}<extra></extra>\",\"hovertext\":[\"NRHV238CD4\",\"NRHV079CD4\",\"NRHV290CD4\",\"NRHV332CD4\",\"NRHV326CD4\",\"NRHV325CD4\",\"NRHV295CD4\",\"NRHV324CD4\",\"NRHV322CD4\",\"NRHV168CD4\",\"NRHV151CD4\",\"NRHV073CD4\",\"NRHV014XCD4\",\"NRHV005CD4\",\"NRHV321CD4\",\"NRHV086CD4\",\"NRHV121CD4\",\"NRHV171CD4\",\"NRHV319CD4\"],\"legendgroup\":\"CD4, healthy\",\"marker\":{\"color\":\"#636efa\",\"opacity\":0.8,\"symbol\":\"circle\",\"size\":10},\"mode\":\"markers\",\"name\":\"CD4, healthy\",\"orientation\":\"v\",\"showlegend\":true,\"x\":[12.044652938842773,11.333650588989258,11.696029663085938,11.676265716552734,11.797565460205078,12.077437400817871,11.95618724822998,11.395569801330566,10.445921897888184,11.712004661560059,10.863035202026367,11.775623321533203,11.718249320983887,10.712525367736816,11.920280456542969,9.659651756286621,10.930241584777832,11.457864761352539,11.275131225585938],\"xaxis\":\"x\",\"y\":[4.720548152923584,3.590334892272949,4.917209625244141,3.750304937362671,4.35452938079834,4.465475082397461,3.462740421295166,3.1062917709350586,5.09205961227417,3.7104780673980713,5.31699275970459,4.802886962890625,4.5538458824157715,3.7564008235931396,4.242124080657959,4.1455206871032715,4.577820777893066,3.807091236114502,3.270270824432373],\"yaxis\":\"y\",\"type\":\"scatter\"},{\"hovertemplate\":\"<b>%{hovertext}</b><br><br>cell_type=CD4<br>condition=patient<br>X=%{x}<br>Y=%{y}<extra></extra>\",\"hovertext\":[\"PSA5014CD4\",\"PSA5013CD4\",\"PSA4954CD4\",\"PSA4947CD4\",\"PSA4956CD4\",\"PSA4957CD4\",\"PSA4968CD4\",\"PSA4945CD4\",\"PSA4942CD4\",\"PSA5007CD4\",\"PSA4964CD4\",\"PSA5012CD4\",\"PSA5010CD4\",\"PSA5009CD4\",\"PSA5040CD4\",\"PSA4944CD4\",\"PSA4958CD4\",\"PSA5008CD4\",\"PSA4959CD4\",\"PSA5018CD4\",\"PSA5021CD4\",\"PSA5026CD4\",\"PSA4951CD4\",\"PSA5037CD4\",\"PSA5036CD4\",\"PSA4949CD4\",\"PSA4967CD4\",\"PSA5017CD4\",\"PSA5006CD4\",\"PSA4963CD4\",\"PSA5019CD4\",\"PSA4962CD4\"],\"legendgroup\":\"CD4, patient\",\"marker\":{\"color\":\"#636efa\",\"opacity\":0.8,\"symbol\":\"diamond\",\"size\":10},\"mode\":\"markers\",\"name\":\"CD4, patient\",\"orientation\":\"v\",\"showlegend\":true,\"x\":[11.580933570861816,11.11577320098877,11.01354694366455,10.882294654846191,11.205671310424805,12.11395263671875,10.61120891571045,10.588594436645508,9.939058303833008,11.471099853515625,11.002045631408691,7.536549091339111,12.31641674041748,11.310007095336914,12.057265281677246,11.307509422302246,10.483322143554688,10.66545581817627,7.261367321014404,12.50373363494873,10.898580551147461,10.817081451416016,11.42208480834961,11.134856224060059,10.783172607421875,10.416889190673828,12.52694034576416,10.296369552612305,9.874272346496582,10.900696754455566,10.270118713378906,11.318670272827148],\"xaxis\":\"x\",\"y\":[5.081233501434326,3.3795878887176514,4.825990676879883,5.231697082519531,3.6505820751190186,4.20651912689209,4.023565292358398,3.4837028980255127,4.631077289581299,3.361968517303467,5.089901924133301,5.61704158782959,4.499122619628906,5.131704330444336,4.794486999511719,4.384738445281982,3.974045753479004,5.406790733337402,5.705204010009766,4.480432510375977,3.4701616764068604,5.114725112915039,4.43856954574585,3.060155153274536,3.5107312202453613,3.8911027908325195,4.547347545623779,4.961084365844727,4.463196277618408,3.1426117420196533,4.942273139953613,4.848742961883545],\"yaxis\":\"y\",\"type\":\"scatter\"},{\"hovertemplate\":\"<b>%{hovertext}</b><br><br>cell_type=CD4_SF<br>condition=synovium<br>X=%{x}<br>Y=%{y}<extra></extra>\",\"hovertext\":[\"PSA4917CD4_SF\",\"PSA4951CD4_SF\",\"PSA4958CD4_SF\"],\"legendgroup\":\"CD4_SF, synovium\",\"marker\":{\"color\":\"#EF553B\",\"opacity\":0.8,\"symbol\":\"square\",\"size\":10},\"mode\":\"markers\",\"name\":\"CD4_SF, synovium\",\"orientation\":\"v\",\"showlegend\":true,\"x\":[2.329636573791504,2.1794090270996094,2.294729232788086],\"xaxis\":\"x\",\"y\":[3.4733877182006836,3.3780627250671387,3.4079043865203857],\"yaxis\":\"y\",\"type\":\"scatter\"},{\"hovertemplate\":\"<b>%{hovertext}</b><br><br>cell_type=CD8<br>condition=healthy<br>X=%{x}<br>Y=%{y}<extra></extra>\",\"hovertext\":[\"NRHV326CD8\",\"NRHV324CD8\",\"NRHV238CD8\",\"PSA4958CD8\",\"NRHV086CD8\",\"NRHV171CD8\",\"NRHV319CD8\",\"NRHV321CD8\",\"NRHV322CD8\",\"NRHV005CD8\",\"NRHV168CD8\",\"NRHV332CD8\",\"NRHV325CD8\",\"NRHV073CD8\",\"NRHV014XCD8\",\"NRHV121CD8\",\"NRHV290CD8\",\"NRHV151CD8\",\"NRHV079CD8\",\"NRHV295CD8\"],\"legendgroup\":\"CD8, healthy\",\"marker\":{\"color\":\"#00cc96\",\"opacity\":0.8,\"symbol\":\"circle\",\"size\":10},\"mode\":\"markers\",\"name\":\"CD8, healthy\",\"orientation\":\"v\",\"showlegend\":true,\"x\":[4.8134684562683105,4.539010524749756,5.438472747802734,6.125782012939453,4.5605621337890625,4.478954315185547,6.366564750671387,4.657934665679932,5.055112361907959,5.590602874755859,3.892876148223877,5.851555824279785,5.786457538604736,5.345895767211914,5.047677516937256,4.723495960235596,5.782341003417969,5.350873947143555,4.086306571960449,4.245952606201172],\"xaxis\":\"x\",\"y\":[7.990664005279541,6.21171760559082,7.858333587646484,6.724438190460205,5.2808098793029785,6.109774589538574,7.110311508178711,7.270831108093262,6.593829154968262,6.337028503417969,6.4067254066467285,8.307571411132812,8.2112398147583,7.960695266723633,7.460656642913818,7.05647611618042,8.37520980834961,6.650373935699463,5.913081169128418,5.540502548217773],\"yaxis\":\"y\",\"type\":\"scatter\"},{\"hovertemplate\":\"<b>%{hovertext}</b><br><br>cell_type=CD8<br>condition=patient<br>X=%{x}<br>Y=%{y}<extra></extra>\",\"hovertext\":[\"PSA5018CD8\",\"PSA4968CD8\",\"PSA4948CD8\",\"PSA4952CD8\",\"PSA4947CD8\",\"PSA4946CD8\",\"PSA4945CD8\",\"PSA4943CD8\",\"PSA4942CD8\",\"PSA4956CD8\",\"PSA5019CD8\",\"PSA5021CD8\",\"PSA5024CD8\",\"PSA5006CD8\",\"PSA5022CD8\",\"PSA5023CD8\",\"PSA5026CD8\",\"PSA4951CD8\",\"PSA4960CD8\",\"PSA4941CD8\",\"PSA4961CD8\",\"PSA5020CD8\",\"PSA5007CD8\",\"PSA4953CD8\",\"PSA5009CD8\",\"PSA4966CD8\",\"PSA4955CD8\",\"PSA4959CD8\",\"PSA4954CD8\",\"PSA5040CD8\",\"PSA4962CD8\",\"PSA4965CD8\",\"PSA5039CD8\",\"PSA4969CD8\",\"PSA4920CD8\",\"PSA5008CD8\",\"PSA5037CD8\",\"PSA5036CD8\",\"PSA5010CD8\",\"PSA5012CD8\",\"PSA5013CD8\",\"PSA5015CD8\",\"PSA4944CD8\",\"PSA5014CD8\",\"PSA4963CD8\",\"PSA5017CD8\"],\"legendgroup\":\"CD8, patient\",\"marker\":{\"color\":\"#00cc96\",\"opacity\":0.8,\"symbol\":\"diamond\",\"size\":10},\"mode\":\"markers\",\"name\":\"CD8, patient\",\"orientation\":\"v\",\"showlegend\":true,\"x\":[6.654728412628174,6.481889724731445,4.856111526489258,5.19904088973999,6.335016250610352,4.957091808319092,4.8193793296813965,5.815977573394775,5.897613525390625,6.796796798706055,5.697578430175781,4.6706085205078125,6.836474895477295,4.818138599395752,5.609481334686279,4.005006790161133,5.103600978851318,5.016678810119629,4.723043918609619,5.252784729003906,4.596837043762207,6.642541885375977,4.536644458770752,4.765216827392578,5.9310383796691895,4.936635971069336,6.276182174682617,7.250430583953857,5.382494926452637,6.120984077453613,4.759507656097412,5.578466892242432,6.398421764373779,5.2159905433654785,4.3462300300598145,5.734684944152832,6.53016471862793,5.075245380401611,6.413400173187256,7.169760704040527,6.63958215713501,6.7997050285339355,4.818859577178955,6.128645896911621,4.526606559753418,5.005452632904053],\"xaxis\":\"x\",\"y\":[5.91998815536499,7.620565414428711,7.904483795166016,5.875308036804199,7.759457111358643,5.470062255859375,6.0713958740234375,6.642679214477539,6.449987411499023,7.002087593078613,6.815502166748047,5.759210109710693,5.922453880310059,5.231778621673584,6.2332940101623535,5.83339786529541,7.114510536193848,7.615149974822998,6.251229286193848,6.1751275062561035,6.592770099639893,5.63650369644165,5.865232944488525,7.6568284034729,7.897396564483643,7.74225378036499,7.015255928039551,5.665473937988281,7.195591926574707,8.293379783630371,7.417056560516357,7.256082534790039,6.862753868103027,7.556040287017822,6.072902679443359,7.66139030456543,6.768210411071777,6.144775867462158,8.073701858520508,5.755001068115234,7.250210285186768,7.173580169677734,6.80069637298584,7.941928386688232,6.083424091339111,5.624452114105225],\"yaxis\":\"y\",\"type\":\"scatter\"},{\"hovertemplate\":\"<b>%{hovertext}</b><br><br>cell_type=CD8_SF<br>condition=synovium<br>X=%{x}<br>Y=%{y}<extra></extra>\",\"hovertext\":[\"PSA4969CD8_SF\",\"PSA4917CD8_SF\",\"PSA4918CD8_SF\",\"PSA4942CD8_SF\",\"PSA5040CD8_SF\",\"PSA4959CD8_SF\",\"PSA5025CD8_SF\",\"PSA4958CD8_SF\"],\"legendgroup\":\"CD8_SF, synovium\",\"marker\":{\"color\":\"#ab63fa\",\"opacity\":0.8,\"symbol\":\"square\",\"size\":10},\"mode\":\"markers\",\"name\":\"CD8_SF, synovium\",\"orientation\":\"v\",\"showlegend\":true,\"x\":[2.5701217651367188,2.35612416267395,2.6987524032592773,2.5860447883605957,2.6835007667541504,2.9088385105133057,2.842892646789551,2.470186233520508],\"xaxis\":\"x\",\"y\":[3.538257360458374,3.3371524810791016,3.9014172554016113,3.5300493240356445,3.8760266304016113,4.056827068328857,4.024316310882568,3.47841739654541],\"yaxis\":\"y\",\"type\":\"scatter\"}],                        {\"template\":{\"data\":{\"barpolar\":[{\"marker\":{\"line\":{\"color\":\"white\",\"width\":0.5},\"pattern\":{\"fillmode\":\"overlay\",\"size\":10,\"solidity\":0.2}},\"type\":\"barpolar\"}],\"bar\":[{\"error_x\":{\"color\":\"#2a3f5f\"},\"error_y\":{\"color\":\"#2a3f5f\"},\"marker\":{\"line\":{\"color\":\"white\",\"width\":0.5},\"pattern\":{\"fillmode\":\"overlay\",\"size\":10,\"solidity\":0.2}},\"type\":\"bar\"}],\"carpet\":[{\"aaxis\":{\"endlinecolor\":\"#2a3f5f\",\"gridcolor\":\"#C8D4E3\",\"linecolor\":\"#C8D4E3\",\"minorgridcolor\":\"#C8D4E3\",\"startlinecolor\":\"#2a3f5f\"},\"baxis\":{\"endlinecolor\":\"#2a3f5f\",\"gridcolor\":\"#C8D4E3\",\"linecolor\":\"#C8D4E3\",\"minorgridcolor\":\"#C8D4E3\",\"startlinecolor\":\"#2a3f5f\"},\"type\":\"carpet\"}],\"choropleth\":[{\"colorbar\":{\"outlinewidth\":0,\"ticks\":\"\"},\"type\":\"choropleth\"}],\"contourcarpet\":[{\"colorbar\":{\"outlinewidth\":0,\"ticks\":\"\"},\"type\":\"contourcarpet\"}],\"contour\":[{\"colorbar\":{\"outlinewidth\":0,\"ticks\":\"\"},\"colorscale\":[[0.0,\"#0d0887\"],[0.1111111111111111,\"#46039f\"],[0.2222222222222222,\"#7201a8\"],[0.3333333333333333,\"#9c179e\"],[0.4444444444444444,\"#bd3786\"],[0.5555555555555556,\"#d8576b\"],[0.6666666666666666,\"#ed7953\"],[0.7777777777777778,\"#fb9f3a\"],[0.8888888888888888,\"#fdca26\"],[1.0,\"#f0f921\"]],\"type\":\"contour\"}],\"heatmapgl\":[{\"colorbar\":{\"outlinewidth\":0,\"ticks\":\"\"},\"colorscale\":[[0.0,\"#0d0887\"],[0.1111111111111111,\"#46039f\"],[0.2222222222222222,\"#7201a8\"],[0.3333333333333333,\"#9c179e\"],[0.4444444444444444,\"#bd3786\"],[0.5555555555555556,\"#d8576b\"],[0.6666666666666666,\"#ed7953\"],[0.7777777777777778,\"#fb9f3a\"],[0.8888888888888888,\"#fdca26\"],[1.0,\"#f0f921\"]],\"type\":\"heatmapgl\"}],\"heatmap\":[{\"colorbar\":{\"outlinewidth\":0,\"ticks\":\"\"},\"colorscale\":[[0.0,\"#0d0887\"],[0.1111111111111111,\"#46039f\"],[0.2222222222222222,\"#7201a8\"],[0.3333333333333333,\"#9c179e\"],[0.4444444444444444,\"#bd3786\"],[0.5555555555555556,\"#d8576b\"],[0.6666666666666666,\"#ed7953\"],[0.7777777777777778,\"#fb9f3a\"],[0.8888888888888888,\"#fdca26\"],[1.0,\"#f0f921\"]],\"type\":\"heatmap\"}],\"histogram2dcontour\":[{\"colorbar\":{\"outlinewidth\":0,\"ticks\":\"\"},\"colorscale\":[[0.0,\"#0d0887\"],[0.1111111111111111,\"#46039f\"],[0.2222222222222222,\"#7201a8\"],[0.3333333333333333,\"#9c179e\"],[0.4444444444444444,\"#bd3786\"],[0.5555555555555556,\"#d8576b\"],[0.6666666666666666,\"#ed7953\"],[0.7777777777777778,\"#fb9f3a\"],[0.8888888888888888,\"#fdca26\"],[1.0,\"#f0f921\"]],\"type\":\"histogram2dcontour\"}],\"histogram2d\":[{\"colorbar\":{\"outlinewidth\":0,\"ticks\":\"\"},\"colorscale\":[[0.0,\"#0d0887\"],[0.1111111111111111,\"#46039f\"],[0.2222222222222222,\"#7201a8\"],[0.3333333333333333,\"#9c179e\"],[0.4444444444444444,\"#bd3786\"],[0.5555555555555556,\"#d8576b\"],[0.6666666666666666,\"#ed7953\"],[0.7777777777777778,\"#fb9f3a\"],[0.8888888888888888,\"#fdca26\"],[1.0,\"#f0f921\"]],\"type\":\"histogram2d\"}],\"histogram\":[{\"marker\":{\"pattern\":{\"fillmode\":\"overlay\",\"size\":10,\"solidity\":0.2}},\"type\":\"histogram\"}],\"mesh3d\":[{\"colorbar\":{\"outlinewidth\":0,\"ticks\":\"\"},\"type\":\"mesh3d\"}],\"parcoords\":[{\"line\":{\"colorbar\":{\"outlinewidth\":0,\"ticks\":\"\"}},\"type\":\"parcoords\"}],\"pie\":[{\"automargin\":true,\"type\":\"pie\"}],\"scatter3d\":[{\"line\":{\"colorbar\":{\"outlinewidth\":0,\"ticks\":\"\"}},\"marker\":{\"colorbar\":{\"outlinewidth\":0,\"ticks\":\"\"}},\"type\":\"scatter3d\"}],\"scattercarpet\":[{\"marker\":{\"colorbar\":{\"outlinewidth\":0,\"ticks\":\"\"}},\"type\":\"scattercarpet\"}],\"scattergeo\":[{\"marker\":{\"colorbar\":{\"outlinewidth\":0,\"ticks\":\"\"}},\"type\":\"scattergeo\"}],\"scattergl\":[{\"marker\":{\"colorbar\":{\"outlinewidth\":0,\"ticks\":\"\"}},\"type\":\"scattergl\"}],\"scattermapbox\":[{\"marker\":{\"colorbar\":{\"outlinewidth\":0,\"ticks\":\"\"}},\"type\":\"scattermapbox\"}],\"scatterpolargl\":[{\"marker\":{\"colorbar\":{\"outlinewidth\":0,\"ticks\":\"\"}},\"type\":\"scatterpolargl\"}],\"scatterpolar\":[{\"marker\":{\"colorbar\":{\"outlinewidth\":0,\"ticks\":\"\"}},\"type\":\"scatterpolar\"}],\"scatter\":[{\"marker\":{\"colorbar\":{\"outlinewidth\":0,\"ticks\":\"\"}},\"type\":\"scatter\"}],\"scatterternary\":[{\"marker\":{\"colorbar\":{\"outlinewidth\":0,\"ticks\":\"\"}},\"type\":\"scatterternary\"}],\"surface\":[{\"colorbar\":{\"outlinewidth\":0,\"ticks\":\"\"},\"colorscale\":[[0.0,\"#0d0887\"],[0.1111111111111111,\"#46039f\"],[0.2222222222222222,\"#7201a8\"],[0.3333333333333333,\"#9c179e\"],[0.4444444444444444,\"#bd3786\"],[0.5555555555555556,\"#d8576b\"],[0.6666666666666666,\"#ed7953\"],[0.7777777777777778,\"#fb9f3a\"],[0.8888888888888888,\"#fdca26\"],[1.0,\"#f0f921\"]],\"type\":\"surface\"}],\"table\":[{\"cells\":{\"fill\":{\"color\":\"#EBF0F8\"},\"line\":{\"color\":\"white\"}},\"header\":{\"fill\":{\"color\":\"#C8D4E3\"},\"line\":{\"color\":\"white\"}},\"type\":\"table\"}]},\"layout\":{\"annotationdefaults\":{\"arrowcolor\":\"#2a3f5f\",\"arrowhead\":0,\"arrowwidth\":1},\"autotypenumbers\":\"strict\",\"coloraxis\":{\"colorbar\":{\"outlinewidth\":0,\"ticks\":\"\"}},\"colorscale\":{\"diverging\":[[0,\"#8e0152\"],[0.1,\"#c51b7d\"],[0.2,\"#de77ae\"],[0.3,\"#f1b6da\"],[0.4,\"#fde0ef\"],[0.5,\"#f7f7f7\"],[0.6,\"#e6f5d0\"],[0.7,\"#b8e186\"],[0.8,\"#7fbc41\"],[0.9,\"#4d9221\"],[1,\"#276419\"]],\"sequential\":[[0.0,\"#0d0887\"],[0.1111111111111111,\"#46039f\"],[0.2222222222222222,\"#7201a8\"],[0.3333333333333333,\"#9c179e\"],[0.4444444444444444,\"#bd3786\"],[0.5555555555555556,\"#d8576b\"],[0.6666666666666666,\"#ed7953\"],[0.7777777777777778,\"#fb9f3a\"],[0.8888888888888888,\"#fdca26\"],[1.0,\"#f0f921\"]],\"sequentialminus\":[[0.0,\"#0d0887\"],[0.1111111111111111,\"#46039f\"],[0.2222222222222222,\"#7201a8\"],[0.3333333333333333,\"#9c179e\"],[0.4444444444444444,\"#bd3786\"],[0.5555555555555556,\"#d8576b\"],[0.6666666666666666,\"#ed7953\"],[0.7777777777777778,\"#fb9f3a\"],[0.8888888888888888,\"#fdca26\"],[1.0,\"#f0f921\"]]},\"colorway\":[\"#636efa\",\"#EF553B\",\"#00cc96\",\"#ab63fa\",\"#FFA15A\",\"#19d3f3\",\"#FF6692\",\"#B6E880\",\"#FF97FF\",\"#FECB52\"],\"font\":{\"color\":\"#2a3f5f\"},\"geo\":{\"bgcolor\":\"white\",\"lakecolor\":\"white\",\"landcolor\":\"white\",\"showlakes\":true,\"showland\":true,\"subunitcolor\":\"#C8D4E3\"},\"hoverlabel\":{\"align\":\"left\"},\"hovermode\":\"closest\",\"mapbox\":{\"style\":\"light\"},\"paper_bgcolor\":\"white\",\"plot_bgcolor\":\"white\",\"polar\":{\"angularaxis\":{\"gridcolor\":\"#EBF0F8\",\"linecolor\":\"#EBF0F8\",\"ticks\":\"\"},\"bgcolor\":\"white\",\"radialaxis\":{\"gridcolor\":\"#EBF0F8\",\"linecolor\":\"#EBF0F8\",\"ticks\":\"\"}},\"scene\":{\"xaxis\":{\"backgroundcolor\":\"white\",\"gridcolor\":\"#DFE8F3\",\"gridwidth\":2,\"linecolor\":\"#EBF0F8\",\"showbackground\":true,\"ticks\":\"\",\"zerolinecolor\":\"#EBF0F8\"},\"yaxis\":{\"backgroundcolor\":\"white\",\"gridcolor\":\"#DFE8F3\",\"gridwidth\":2,\"linecolor\":\"#EBF0F8\",\"showbackground\":true,\"ticks\":\"\",\"zerolinecolor\":\"#EBF0F8\"},\"zaxis\":{\"backgroundcolor\":\"white\",\"gridcolor\":\"#DFE8F3\",\"gridwidth\":2,\"linecolor\":\"#EBF0F8\",\"showbackground\":true,\"ticks\":\"\",\"zerolinecolor\":\"#EBF0F8\"}},\"shapedefaults\":{\"line\":{\"color\":\"#2a3f5f\"}},\"ternary\":{\"aaxis\":{\"gridcolor\":\"#DFE8F3\",\"linecolor\":\"#A2B1C6\",\"ticks\":\"\"},\"baxis\":{\"gridcolor\":\"#DFE8F3\",\"linecolor\":\"#A2B1C6\",\"ticks\":\"\"},\"bgcolor\":\"white\",\"caxis\":{\"gridcolor\":\"#DFE8F3\",\"linecolor\":\"#A2B1C6\",\"ticks\":\"\"}},\"title\":{\"x\":0.05},\"xaxis\":{\"automargin\":true,\"gridcolor\":\"#EBF0F8\",\"linecolor\":\"#EBF0F8\",\"ticks\":\"\",\"title\":{\"standoff\":15},\"zerolinecolor\":\"#EBF0F8\",\"zerolinewidth\":2},\"yaxis\":{\"automargin\":true,\"gridcolor\":\"#EBF0F8\",\"linecolor\":\"#EBF0F8\",\"ticks\":\"\",\"title\":{\"standoff\":15},\"zerolinecolor\":\"#EBF0F8\",\"zerolinewidth\":2}}},\"xaxis\":{\"anchor\":\"y\",\"domain\":[0.0,1.0],\"title\":{\"text\":\"X\"}},\"yaxis\":{\"anchor\":\"x\",\"domain\":[0.0,1.0],\"title\":{\"text\":\"Y\"}},\"legend\":{\"title\":{\"text\":\"cell_type, condition\"},\"tracegroupgap\":0},\"margin\":{\"t\":60},\"height\":600,\"width\":700},                        {\"responsive\": true}                    ).then(function(){\n",
       "                            \n",
       "var gd = document.getElementById('da9920df-cd1b-4272-82be-e403737c6cca');\n",
       "var x = new MutationObserver(function (mutations, observer) {{\n",
       "        var display = window.getComputedStyle(gd).display;\n",
       "        if (!display || display === 'none') {{\n",
       "            console.log([gd, 'removed!']);\n",
       "            Plotly.purge(gd);\n",
       "            observer.disconnect();\n",
       "        }}\n",
       "}});\n",
       "\n",
       "// Listen for the removal of the full notebook cells\n",
       "var notebookContainer = gd.closest('#notebook-container');\n",
       "if (notebookContainer) {{\n",
       "    x.observe(notebookContainer, {childList: true});\n",
       "}}\n",
       "\n",
       "// Listen for the clearing of the current output cell\n",
       "var outputEl = gd.closest('.output');\n",
       "if (outputEl) {{\n",
       "    x.observe(outputEl, {childList: true});\n",
       "}}\n",
       "\n",
       "                        })                };                });            </script>        </div>"
      ]
     },
     "metadata": {},
     "output_type": "display_data"
    }
   ],
   "source": [
    "fig = px.scatter(rep, x = \"X\", y = \"Y\", color = \"cell_type\", hover_name = \"proper_name\", template = \"plotly_white\", symbol = \"condition\", opacity = 0.8,\n",
    "height = 600, width = 700)\n",
    "fig.update_traces(marker={'size': 10})\n",
    "fig.show()\n",
    "fig.write_image(f\"{base_dir}/RNA_seq_analysis/figures/RNA_UMAP.svg\")"
   ]
  },
  {
   "cell_type": "code",
   "execution_count": null,
   "metadata": {},
   "outputs": [],
   "source": []
  }
 ],
 "metadata": {
  "kernelspec": {
   "display_name": "Python 3",
   "language": "python",
   "name": "python3"
  },
  "language_info": {
   "codemirror_mode": {
    "name": "ipython",
    "version": 3
   },
   "file_extension": ".py",
   "mimetype": "text/x-python",
   "name": "python",
   "nbconvert_exporter": "python",
   "pygments_lexer": "ipython3",
   "version": "3.9.10"
  },
  "orig_nbformat": 4
 },
 "nbformat": 4,
 "nbformat_minor": 2
}
