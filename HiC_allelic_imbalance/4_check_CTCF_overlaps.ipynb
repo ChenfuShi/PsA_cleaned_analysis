{
 "cells": [
  {
   "attachments": {},
   "cell_type": "markdown",
   "metadata": {},
   "source": [
    "# scripts to annotate CTCF peaks\n",
    "since the most likely effect for strong changes in loops should be CTCF altering SNPs, here we just check if the SNPs are near CTCF peaks"
   ]
  },
  {
   "cell_type": "code",
   "execution_count": 1,
   "metadata": {},
   "outputs": [
    {
     "name": "stdout",
     "output_type": "stream",
     "text": [
      "INFO: Pandarallel will run on 28 workers.\n",
      "INFO: Pandarallel will use Memory file system to transfer data between the main process and workers.\n"
     ]
    }
   ],
   "source": [
    "import pandas as pd\n",
    "import numpy as np\n",
    "import hicstraw \n",
    "from multiprocessing import Pool\n",
    "from functools import partial\n",
    "import glob\n",
    "import os\n",
    "import plotly.express as px\n",
    "import math\n",
    "import matplotlib.pyplot as plt\n",
    "from matplotlib import colors\n",
    "from pandarallel import pandarallel\n",
    "import cooler\n",
    "import cooltools\n",
    "import pybedtools as pbed\n",
    "pandarallel.initialize()\n",
    "from scipy import stats, special\n",
    "from statsmodels.stats import multitest\n",
    "import statsmodels.api as sm\n",
    "import statsmodels.formula.api as smf\n",
    "import plotly.io as pio\n",
    "import seaborn as sns\n",
    "\n",
    "from functools import reduce\n",
    "\n",
    "os.makedirs(\"/mnt/iusers01/jw01/mdefscs4/scratch/temp_pybedtools/\", exist_ok = True)\n",
    "pbed.helpers.set_tempdir(\"/mnt/iusers01/jw01/mdefscs4/scratch/temp_pybedtools/\")\n",
    "bed_genome_file = \"/mnt/iusers01/jw01/mdefscs4/hg38.genome\"\n",
    "\n",
    "plt.rcParams['svg.fonttype'] = 'none'\n",
    "\n",
    "base_dir = \"/mnt/jw01-aruk-home01/projects/psa_functional_genomics/PsA_cleaned_analysis\""
   ]
  },
  {
   "cell_type": "code",
   "execution_count": 2,
   "metadata": {},
   "outputs": [],
   "source": [
    "output_dataframe_CD8 = pd.read_csv(f\"{base_dir}/HiC_allelic_imbalance/output_dataframe_CD8.csv\")\n",
    "output_dataframe_CD4 = pd.read_csv(f\"{base_dir}/HiC_allelic_imbalance/output_dataframe_CD4.csv\")"
   ]
  },
  {
   "cell_type": "code",
   "execution_count": 3,
   "metadata": {},
   "outputs": [],
   "source": [
    "CTCF_peaks_CD4 = pbed.BedTool(\"/mnt/jw01-aruk-home01/projects/psa_functional_genomics/NEW_references/TF_sites/CTCF/CTCF_CD4_T_CELL_ENCFF148DDI_merged.bed\")\n",
    "CTCF_peaks_CD8 = pbed.BedTool(\"/mnt/jw01-aruk-home01/projects/psa_functional_genomics/NEW_references/TF_sites/CTCF/CTCF_CD8_T_CELL_ENCFF811QTU_merged.bed\")"
   ]
  },
  {
   "cell_type": "code",
   "execution_count": 4,
   "metadata": {},
   "outputs": [],
   "source": [
    "# create a bedtool with all the SNPs with allelic imbalance\n",
    "def create_bedtool(dataframe):\n",
    "    bed_data = dataframe[['chrA', 'rsCoord', 'rsID', 'loopID']].copy()\n",
    "    bed_data['end'] = bed_data['rsCoord'] + 1\n",
    "    bed_data.columns = ['chrom', 'start', 'name', 'info','end']\n",
    "    bedtool = pbed.BedTool.from_dataframe(bed_data[['chrom', 'start', 'end', 'name', 'info']])\n",
    "    return bedtool\n",
    "\n",
    "snps_CD4 = create_bedtool(output_dataframe_CD4)\n",
    "snps_CD8 = create_bedtool(output_dataframe_CD8)"
   ]
  },
  {
   "attachments": {},
   "cell_type": "markdown",
   "metadata": {},
   "source": [
    "## estimate the number of allelic imbalance loops which contain a SNP in a CTCF peak"
   ]
  },
  {
   "cell_type": "code",
   "execution_count": 5,
   "metadata": {},
   "outputs": [],
   "source": [
    "snps_CD4_withCTCF = snps_CD4.intersect(CTCF_peaks_CD4, u = True).to_dataframe(header = None, disable_auto_names=True)\n",
    "snps_CD4_withCTCF.columns = \"chrA start end rsID loopID\".split()\n",
    "snps_CD4_withCTCF[\"CTCF\"] = True\n",
    "snps_CD4_withCTCF = snps_CD4_withCTCF.drop(columns = [\"start\", \"end\"])\n",
    "output_dataframe_CD4 = output_dataframe_CD4.merge(snps_CD4_withCTCF, on = \"chrA rsID loopID\".split(), how = \"left\")"
   ]
  },
  {
   "cell_type": "code",
   "execution_count": 6,
   "metadata": {},
   "outputs": [
    {
     "data": {
      "text/plain": [
       "0.13545042125729098"
      ]
     },
     "execution_count": 6,
     "metadata": {},
     "output_type": "execute_result"
    }
   ],
   "source": [
    "sum(output_dataframe_CD4.groupby('loopID')['CTCF'].apply(lambda x: x.isin([True]).any()))/len(output_dataframe_CD4[\"loopID\"].unique())"
   ]
  },
  {
   "cell_type": "code",
   "execution_count": 7,
   "metadata": {},
   "outputs": [],
   "source": [
    "snps_CD8_withCTCF = snps_CD8.intersect(CTCF_peaks_CD8, u = True).to_dataframe(header = None, disable_auto_names=True)\n",
    "snps_CD8_withCTCF.columns = \"chrA start end rsID loopID\".split()\n",
    "snps_CD8_withCTCF[\"CTCF\"] = True\n",
    "snps_CD8_withCTCF = snps_CD8_withCTCF.drop(columns = [\"start\", \"end\"])\n",
    "output_dataframe_CD8 = output_dataframe_CD8.merge(snps_CD8_withCTCF, on = \"chrA rsID loopID\".split(), how = \"left\")"
   ]
  },
  {
   "cell_type": "code",
   "execution_count": 8,
   "metadata": {},
   "outputs": [
    {
     "data": {
      "text/plain": [
       "0.15106117353308365"
      ]
     },
     "execution_count": 8,
     "metadata": {},
     "output_type": "execute_result"
    }
   ],
   "source": [
    "sum(output_dataframe_CD8.groupby('loopID')['CTCF'].apply(lambda x: x.isin([True]).any()))/len(output_dataframe_CD8[\"loopID\"].unique())"
   ]
  },
  {
   "attachments": {},
   "cell_type": "markdown",
   "metadata": {},
   "source": [
    "# check with QTL "
   ]
  },
  {
   "cell_type": "code",
   "execution_count": 9,
   "metadata": {},
   "outputs": [],
   "source": [
    "ins_nominal_CD8 = pd.read_csv(f\"{base_dir}/QTL_analysis/HiC/output_final/ins_nominal_CD8_merged.txt\", sep = \" \")\n",
    "ins_nominal_CD4 = pd.read_csv(f\"{base_dir}/QTL_analysis/HiC/output_final/ins_nominal_CD4_merged.txt\", sep = \" \")\n",
    "loop_nominal_CD8 = pd.read_csv(f\"{base_dir}/QTL_analysis/HiC/output_final/loop_nominal_CD8_merged.txt\", sep = \" \")\n",
    "loop_nominal_CD4 = pd.read_csv(f\"{base_dir}/QTL_analysis/HiC/output_final/loop_nominal_CD4_merged.txt\", sep = \" \")"
   ]
  },
  {
   "cell_type": "code",
   "execution_count": 10,
   "metadata": {},
   "outputs": [],
   "source": [
    "loop_nominal_CD8 = loop_nominal_CD8[loop_nominal_CD8[\"nom_pval\"] < 0.0001]\n",
    "loop_nominal_CD4 = loop_nominal_CD4[loop_nominal_CD4[\"nom_pval\"] < 0.0001]\n",
    "ins_nominal_CD8 = ins_nominal_CD8[ins_nominal_CD8[\"nom_pval\"] < 0.0001]\n",
    "ins_nominal_CD4 = ins_nominal_CD4[ins_nominal_CD4[\"nom_pval\"] < 0.0001]"
   ]
  },
  {
   "cell_type": "code",
   "execution_count": 11,
   "metadata": {},
   "outputs": [],
   "source": [
    "def create_bedtool(dataframe):\n",
    "    # Create a new dataframe with the desired columns\n",
    "    bed_data = dataframe[['phe_chr', 'var_from', 'var_to', 'var_id', 'phe_id']].copy()\n",
    "    # Rename columns as needed\n",
    "    bed_data.columns = ['chrom', 'start', 'end', 'name', 'info']\n",
    "    # Create a BedTool object from the dataframe\n",
    "    bedtool = pbed.BedTool.from_dataframe(bed_data)\n",
    "    return bedtool\n",
    "\n",
    "snps_ins_nominal_CD8 = create_bedtool(ins_nominal_CD8)\n",
    "snps_ins_nominal_CD4 = create_bedtool(ins_nominal_CD4)\n",
    "snps_loop_nominal_CD8 = create_bedtool(loop_nominal_CD8)\n",
    "snps_loop_nominal_CD4 = create_bedtool(loop_nominal_CD4)"
   ]
  },
  {
   "attachments": {},
   "cell_type": "markdown",
   "metadata": {},
   "source": [
    "result is number of loops for which one significant snp overlap a CTCF peak vs total number of significant loops"
   ]
  },
  {
   "cell_type": "code",
   "execution_count": 12,
   "metadata": {},
   "outputs": [
    {
     "name": "stdout",
     "output_type": "stream",
     "text": [
      "756\n",
      "11276\n"
     ]
    }
   ],
   "source": [
    "snps_CD4_withCTCF = snps_loop_nominal_CD4.intersect(CTCF_peaks_CD4, u = True).to_dataframe(header = None, disable_auto_names=True)\n",
    "snps_CD4_withCTCF.columns = \"phe_chr start end var_id phe_id\".split()\n",
    "snps_CD4_withCTCF[\"CTCF\"] = True\n",
    "snps_CD4_withCTCF = snps_CD4_withCTCF.drop(columns = [\"start\", \"end\"])\n",
    "loop_nominal_CD4_with_CTCF = loop_nominal_CD4.merge(snps_CD4_withCTCF, on = \"phe_chr var_id phe_id\".split(), how = \"left\")\n",
    "print(sum(loop_nominal_CD4_with_CTCF.groupby('phe_id')['CTCF'].apply(lambda x: x.isin([True]).any())))\n",
    "print(len(loop_nominal_CD4_with_CTCF[\"phe_id\"].unique()))"
   ]
  },
  {
   "cell_type": "code",
   "execution_count": 13,
   "metadata": {},
   "outputs": [
    {
     "name": "stdout",
     "output_type": "stream",
     "text": [
      "936\n",
      "12205\n"
     ]
    }
   ],
   "source": [
    "snps_CD8_withCTCF = snps_loop_nominal_CD8.intersect(CTCF_peaks_CD8, u = True).to_dataframe(header = None, disable_auto_names=True)\n",
    "snps_CD8_withCTCF.columns = \"phe_chr start end var_id phe_id\".split()\n",
    "snps_CD8_withCTCF[\"CTCF\"] = True\n",
    "snps_CD8_withCTCF = snps_CD8_withCTCF.drop(columns = [\"start\", \"end\"])\n",
    "loop_nominal_CD8_with_CTCF = loop_nominal_CD8.merge(snps_CD8_withCTCF, on = \"phe_chr var_id phe_id\".split(), how = \"left\")\n",
    "print(sum(loop_nominal_CD8_with_CTCF.groupby('phe_id')['CTCF'].apply(lambda x: x.isin([True]).any())))\n",
    "print(len(loop_nominal_CD8_with_CTCF[\"phe_id\"].unique()))"
   ]
  },
  {
   "cell_type": "code",
   "execution_count": 14,
   "metadata": {},
   "outputs": [
    {
     "name": "stdout",
     "output_type": "stream",
     "text": [
      "2470\n",
      "22934\n"
     ]
    }
   ],
   "source": [
    "snps_CD8_withCTCF = snps_ins_nominal_CD8.intersect(CTCF_peaks_CD8, u = True).to_dataframe(header = None, disable_auto_names=True)\n",
    "snps_CD8_withCTCF.columns = \"phe_chr start end var_id phe_id\".split()\n",
    "snps_CD8_withCTCF[\"CTCF\"] = True\n",
    "snps_CD8_withCTCF = snps_CD8_withCTCF.drop(columns = [\"start\", \"end\"])\n",
    "ins_nominal_CD8_with_CTCF = ins_nominal_CD8.merge(snps_CD8_withCTCF, on = \"phe_chr var_id phe_id\".split(), how = \"left\")\n",
    "print(sum(ins_nominal_CD8_with_CTCF.groupby('phe_id')['CTCF'].apply(lambda x: x.isin([True]).any())))\n",
    "print(len(ins_nominal_CD8_with_CTCF[\"phe_id\"].unique()))"
   ]
  },
  {
   "cell_type": "code",
   "execution_count": 15,
   "metadata": {},
   "outputs": [
    {
     "name": "stdout",
     "output_type": "stream",
     "text": [
      "2039\n",
      "21439\n"
     ]
    }
   ],
   "source": [
    "snps_CD4_withCTCF = snps_ins_nominal_CD4.intersect(CTCF_peaks_CD4, u = True).to_dataframe(header = None, disable_auto_names=True)\n",
    "snps_CD4_withCTCF.columns = \"phe_chr start end var_id phe_id\".split()\n",
    "snps_CD4_withCTCF[\"CTCF\"] = True\n",
    "snps_CD4_withCTCF = snps_CD4_withCTCF.drop(columns = [\"start\", \"end\"])\n",
    "ins_nominal_CD4_with_CTCF = ins_nominal_CD4.merge(snps_CD4_withCTCF, on = \"phe_chr var_id phe_id\".split(), how = \"left\")\n",
    "print(sum(ins_nominal_CD4_with_CTCF.groupby('phe_id')['CTCF'].apply(lambda x: x.isin([True]).any())))\n",
    "print(len(ins_nominal_CD4_with_CTCF[\"phe_id\"].unique()))"
   ]
  },
  {
   "cell_type": "code",
   "execution_count": null,
   "metadata": {},
   "outputs": [],
   "source": []
  },
  {
   "attachments": {},
   "cell_type": "markdown",
   "metadata": {},
   "source": [
    "# temporary tests to be removed"
   ]
  },
  {
   "cell_type": "code",
   "execution_count": 16,
   "metadata": {},
   "outputs": [
    {
     "data": {
      "text/html": [
       "<div>\n",
       "<style scoped>\n",
       "    .dataframe tbody tr th:only-of-type {\n",
       "        vertical-align: middle;\n",
       "    }\n",
       "\n",
       "    .dataframe tbody tr th {\n",
       "        vertical-align: top;\n",
       "    }\n",
       "\n",
       "    .dataframe thead th {\n",
       "        text-align: right;\n",
       "    }\n",
       "</style>\n",
       "<table border=\"1\" class=\"dataframe\">\n",
       "  <thead>\n",
       "    <tr style=\"text-align: right;\">\n",
       "      <th></th>\n",
       "      <th>chr</th>\n",
       "      <th>start</th>\n",
       "      <th>end</th>\n",
       "      <th>name</th>\n",
       "      <th>score</th>\n",
       "      <th>loci</th>\n",
       "      <th>snp</th>\n",
       "    </tr>\n",
       "  </thead>\n",
       "  <tbody>\n",
       "  </tbody>\n",
       "</table>\n",
       "</div>"
      ],
      "text/plain": [
       "Empty DataFrame\n",
       "Columns: [chr, start, end, name, score, loci, snp]\n",
       "Index: []"
      ]
     },
     "metadata": {},
     "output_type": "display_data"
    },
    {
     "data": {
      "text/html": [
       "<div>\n",
       "<style scoped>\n",
       "    .dataframe tbody tr th:only-of-type {\n",
       "        vertical-align: middle;\n",
       "    }\n",
       "\n",
       "    .dataframe tbody tr th {\n",
       "        vertical-align: top;\n",
       "    }\n",
       "\n",
       "    .dataframe thead th {\n",
       "        text-align: right;\n",
       "    }\n",
       "</style>\n",
       "<table border=\"1\" class=\"dataframe\">\n",
       "  <thead>\n",
       "    <tr style=\"text-align: right;\">\n",
       "      <th></th>\n",
       "      <th>chr</th>\n",
       "      <th>start</th>\n",
       "      <th>end</th>\n",
       "      <th>name</th>\n",
       "      <th>score</th>\n",
       "      <th>loci</th>\n",
       "      <th>snp</th>\n",
       "    </tr>\n",
       "  </thead>\n",
       "  <tbody>\n",
       "    <tr>\n",
       "      <th>4</th>\n",
       "      <td>chr17</td>\n",
       "      <td>39872866</td>\n",
       "      <td>39872867</td>\n",
       "      <td>rs12936231_rs56750287</td>\n",
       "      <td>0.822789</td>\n",
       "      <td>rs56750287</td>\n",
       "      <td>rs12936231</td>\n",
       "    </tr>\n",
       "  </tbody>\n",
       "</table>\n",
       "</div>"
      ],
      "text/plain": [
       "     chr     start       end                   name     score        loci  \\\n",
       "4  chr17  39872866  39872867  rs12936231_rs56750287  0.822789  rs56750287   \n",
       "\n",
       "          snp  \n",
       "4  rs12936231  "
      ]
     },
     "metadata": {},
     "output_type": "display_data"
    },
    {
     "data": {
      "text/html": [
       "<div>\n",
       "<style scoped>\n",
       "    .dataframe tbody tr th:only-of-type {\n",
       "        vertical-align: middle;\n",
       "    }\n",
       "\n",
       "    .dataframe tbody tr th {\n",
       "        vertical-align: top;\n",
       "    }\n",
       "\n",
       "    .dataframe thead th {\n",
       "        text-align: right;\n",
       "    }\n",
       "</style>\n",
       "<table border=\"1\" class=\"dataframe\">\n",
       "  <thead>\n",
       "    <tr style=\"text-align: right;\">\n",
       "      <th></th>\n",
       "      <th>chr</th>\n",
       "      <th>start</th>\n",
       "      <th>end</th>\n",
       "      <th>name</th>\n",
       "      <th>score</th>\n",
       "      <th>loci</th>\n",
       "      <th>snp</th>\n",
       "    </tr>\n",
       "  </thead>\n",
       "  <tbody>\n",
       "  </tbody>\n",
       "</table>\n",
       "</div>"
      ],
      "text/plain": [
       "Empty DataFrame\n",
       "Columns: [chr, start, end, name, score, loci, snp]\n",
       "Index: []"
      ]
     },
     "metadata": {},
     "output_type": "display_data"
    },
    {
     "data": {
      "text/html": [
       "<div>\n",
       "<style scoped>\n",
       "    .dataframe tbody tr th:only-of-type {\n",
       "        vertical-align: middle;\n",
       "    }\n",
       "\n",
       "    .dataframe tbody tr th {\n",
       "        vertical-align: top;\n",
       "    }\n",
       "\n",
       "    .dataframe thead th {\n",
       "        text-align: right;\n",
       "    }\n",
       "</style>\n",
       "<table border=\"1\" class=\"dataframe\">\n",
       "  <thead>\n",
       "    <tr style=\"text-align: right;\">\n",
       "      <th></th>\n",
       "      <th>chr</th>\n",
       "      <th>start</th>\n",
       "      <th>end</th>\n",
       "      <th>name</th>\n",
       "      <th>score</th>\n",
       "      <th>loci</th>\n",
       "      <th>snp</th>\n",
       "    </tr>\n",
       "  </thead>\n",
       "  <tbody>\n",
       "    <tr>\n",
       "      <th>1</th>\n",
       "      <td>chr13</td>\n",
       "      <td>42478743</td>\n",
       "      <td>42478744</td>\n",
       "      <td>rs2062305_rs12430303</td>\n",
       "      <td>1.000000</td>\n",
       "      <td>rs12430303</td>\n",
       "      <td>rs2062305</td>\n",
       "    </tr>\n",
       "    <tr>\n",
       "      <th>3</th>\n",
       "      <td>chr5</td>\n",
       "      <td>177371038</td>\n",
       "      <td>177371039</td>\n",
       "      <td>rs56235845_rs12654812</td>\n",
       "      <td>0.820668</td>\n",
       "      <td>rs12654812</td>\n",
       "      <td>rs56235845</td>\n",
       "    </tr>\n",
       "  </tbody>\n",
       "</table>\n",
       "</div>"
      ],
      "text/plain": [
       "     chr      start        end                   name     score        loci  \\\n",
       "1  chr13   42478743   42478744   rs2062305_rs12430303  1.000000  rs12430303   \n",
       "3   chr5  177371038  177371039  rs56235845_rs12654812  0.820668  rs12654812   \n",
       "\n",
       "          snp  \n",
       "1   rs2062305  \n",
       "3  rs56235845  "
      ]
     },
     "metadata": {},
     "output_type": "display_data"
    },
    {
     "data": {
      "text/html": [
       "<div>\n",
       "<style scoped>\n",
       "    .dataframe tbody tr th:only-of-type {\n",
       "        vertical-align: middle;\n",
       "    }\n",
       "\n",
       "    .dataframe tbody tr th {\n",
       "        vertical-align: top;\n",
       "    }\n",
       "\n",
       "    .dataframe thead th {\n",
       "        text-align: right;\n",
       "    }\n",
       "</style>\n",
       "<table border=\"1\" class=\"dataframe\">\n",
       "  <thead>\n",
       "    <tr style=\"text-align: right;\">\n",
       "      <th></th>\n",
       "      <th>chr</th>\n",
       "      <th>start</th>\n",
       "      <th>end</th>\n",
       "      <th>name</th>\n",
       "      <th>score</th>\n",
       "      <th>loci</th>\n",
       "      <th>snp</th>\n",
       "    </tr>\n",
       "  </thead>\n",
       "  <tbody>\n",
       "    <tr>\n",
       "      <th>2</th>\n",
       "      <td>chr5</td>\n",
       "      <td>96901621</td>\n",
       "      <td>96901622</td>\n",
       "      <td>rs2287988_rs4869314</td>\n",
       "      <td>0.003514</td>\n",
       "      <td>rs4869314</td>\n",
       "      <td>rs2287988</td>\n",
       "    </tr>\n",
       "    <tr>\n",
       "      <th>5</th>\n",
       "      <td>chr13</td>\n",
       "      <td>42478743</td>\n",
       "      <td>42478744</td>\n",
       "      <td>rs2062305_rs12430303</td>\n",
       "      <td>0.040857</td>\n",
       "      <td>rs12430303</td>\n",
       "      <td>rs2062305</td>\n",
       "    </tr>\n",
       "    <tr>\n",
       "      <th>8</th>\n",
       "      <td>chr16</td>\n",
       "      <td>28554167</td>\n",
       "      <td>28554168</td>\n",
       "      <td>rs62034351_rs497523</td>\n",
       "      <td>0.008092</td>\n",
       "      <td>rs497523</td>\n",
       "      <td>rs62034351</td>\n",
       "    </tr>\n",
       "  </tbody>\n",
       "</table>\n",
       "</div>"
      ],
      "text/plain": [
       "     chr     start       end                  name     score        loci  \\\n",
       "2   chr5  96901621  96901622   rs2287988_rs4869314  0.003514   rs4869314   \n",
       "5  chr13  42478743  42478744  rs2062305_rs12430303  0.040857  rs12430303   \n",
       "8  chr16  28554167  28554168   rs62034351_rs497523  0.008092    rs497523   \n",
       "\n",
       "          snp  \n",
       "2   rs2287988  \n",
       "5   rs2062305  \n",
       "8  rs62034351  "
      ]
     },
     "metadata": {},
     "output_type": "display_data"
    },
    {
     "data": {
      "text/html": [
       "<div>\n",
       "<style scoped>\n",
       "    .dataframe tbody tr th:only-of-type {\n",
       "        vertical-align: middle;\n",
       "    }\n",
       "\n",
       "    .dataframe tbody tr th {\n",
       "        vertical-align: top;\n",
       "    }\n",
       "\n",
       "    .dataframe thead th {\n",
       "        text-align: right;\n",
       "    }\n",
       "</style>\n",
       "<table border=\"1\" class=\"dataframe\">\n",
       "  <thead>\n",
       "    <tr style=\"text-align: right;\">\n",
       "      <th></th>\n",
       "      <th>chr</th>\n",
       "      <th>start</th>\n",
       "      <th>end</th>\n",
       "      <th>name</th>\n",
       "      <th>score</th>\n",
       "      <th>loci</th>\n",
       "      <th>snp</th>\n",
       "    </tr>\n",
       "  </thead>\n",
       "  <tbody>\n",
       "    <tr>\n",
       "      <th>2</th>\n",
       "      <td>chr17</td>\n",
       "      <td>39754114</td>\n",
       "      <td>39754115</td>\n",
       "      <td>rs2941522_rs883770</td>\n",
       "      <td>0.853170</td>\n",
       "      <td>rs883770</td>\n",
       "      <td>rs2941522</td>\n",
       "    </tr>\n",
       "    <tr>\n",
       "      <th>3</th>\n",
       "      <td>chr17</td>\n",
       "      <td>39872866</td>\n",
       "      <td>39872867</td>\n",
       "      <td>rs12936231_rs883770</td>\n",
       "      <td>0.949607</td>\n",
       "      <td>rs883770</td>\n",
       "      <td>rs12936231</td>\n",
       "    </tr>\n",
       "  </tbody>\n",
       "</table>\n",
       "</div>"
      ],
      "text/plain": [
       "     chr     start       end                 name     score      loci  \\\n",
       "2  chr17  39754114  39754115   rs2941522_rs883770  0.853170  rs883770   \n",
       "3  chr17  39872866  39872867  rs12936231_rs883770  0.949607  rs883770   \n",
       "\n",
       "          snp  \n",
       "2   rs2941522  \n",
       "3  rs12936231  "
      ]
     },
     "metadata": {},
     "output_type": "display_data"
    },
    {
     "data": {
      "text/html": [
       "<div>\n",
       "<style scoped>\n",
       "    .dataframe tbody tr th:only-of-type {\n",
       "        vertical-align: middle;\n",
       "    }\n",
       "\n",
       "    .dataframe tbody tr th {\n",
       "        vertical-align: top;\n",
       "    }\n",
       "\n",
       "    .dataframe thead th {\n",
       "        text-align: right;\n",
       "    }\n",
       "</style>\n",
       "<table border=\"1\" class=\"dataframe\">\n",
       "  <thead>\n",
       "    <tr style=\"text-align: right;\">\n",
       "      <th></th>\n",
       "      <th>chr</th>\n",
       "      <th>start</th>\n",
       "      <th>end</th>\n",
       "      <th>name</th>\n",
       "      <th>score</th>\n",
       "      <th>loci</th>\n",
       "      <th>snp</th>\n",
       "    </tr>\n",
       "  </thead>\n",
       "  <tbody>\n",
       "    <tr>\n",
       "      <th>2</th>\n",
       "      <td>chr17</td>\n",
       "      <td>39754114</td>\n",
       "      <td>39754115</td>\n",
       "      <td>rs2941522_rs883770</td>\n",
       "      <td>0.853170</td>\n",
       "      <td>rs883770</td>\n",
       "      <td>rs2941522</td>\n",
       "    </tr>\n",
       "    <tr>\n",
       "      <th>3</th>\n",
       "      <td>chr17</td>\n",
       "      <td>39872866</td>\n",
       "      <td>39872867</td>\n",
       "      <td>rs12936231_rs883770</td>\n",
       "      <td>0.949607</td>\n",
       "      <td>rs883770</td>\n",
       "      <td>rs12936231</td>\n",
       "    </tr>\n",
       "  </tbody>\n",
       "</table>\n",
       "</div>"
      ],
      "text/plain": [
       "     chr     start       end                 name     score      loci  \\\n",
       "2  chr17  39754114  39754115   rs2941522_rs883770  0.853170  rs883770   \n",
       "3  chr17  39872866  39872867  rs12936231_rs883770  0.949607  rs883770   \n",
       "\n",
       "          snp  \n",
       "2   rs2941522  \n",
       "3  rs12936231  "
      ]
     },
     "execution_count": 16,
     "metadata": {},
     "output_type": "execute_result"
    }
   ],
   "source": [
    "def annotate_CTCF(file, name):\n",
    "    snp_bed = pbed.BedTool(file)\n",
    "    snp_bed_withCTCF = snp_bed.intersect(CTCF_peaks_CD8, u = True).to_dataframe(header = None, disable_auto_names=True)\n",
    "    snp_bed_withCTCF.columns = \"chr start end name score\".split()\n",
    "    snp_bed_withCTCF[\"loci\"] = snp_bed_withCTCF[\"name\"].str.split(\"_\").str[-1]\n",
    "    snp_bed_withCTCF[\"snp\"] = snp_bed_withCTCF[\"name\"].str.split(\"_\").str[0]\n",
    "    SNPs_withCTCF_loopQTL = snp_bed_withCTCF[snp_bed_withCTCF[\"snp\"].isin(loop_nominal_CD8[\"var_id\"]) | snp_bed_withCTCF[\"snp\"].isin(loop_nominal_CD4[\"var_id\"])]\n",
    "    display(SNPs_withCTCF_loopQTL)\n",
    "    return SNPs_withCTCF_loopQTL\n",
    "annotate_CTCF(f\"{base_dir}/metadata/GWAS_files/tsoi2017_LD_0.8_hg38.bed\", \"psoriasis_tsoi2017\")\n",
    "annotate_CTCF(f\"{base_dir}/metadata/GWAS_files/RAmetagwas_all_hg38.ld.bed\", \"RAmeta\")\n",
    "annotate_CTCF(f\"{base_dir}/metadata/GWAS_files/PsA_vs_controls_metagwas_significant.ld.hg38.bed\", \"PsA_meta\")\n",
    "annotate_CTCF(f\"{base_dir}/metadata/GWAS_files/suggestive_snps_hg38_ld.bed\", \"JIA_suggestive\")\n",
    "annotate_CTCF(f\"{base_dir}/metadata/GWAS_files/JIA_credible_snps_hg38.bed\", \"JIA_credible\")\n",
    "annotate_CTCF(f\"{base_dir}/metadata/GWAS_files/elena_hg38.ld.bed\", \"SSc_elena\")"
   ]
  },
  {
   "cell_type": "code",
   "execution_count": null,
   "metadata": {},
   "outputs": [],
   "source": []
  },
  {
   "cell_type": "code",
   "execution_count": null,
   "metadata": {},
   "outputs": [],
   "source": []
  },
  {
   "cell_type": "code",
   "execution_count": null,
   "metadata": {},
   "outputs": [],
   "source": []
  },
  {
   "cell_type": "code",
   "execution_count": 44,
   "metadata": {},
   "outputs": [
    {
     "data": {
      "text/html": [
       "<div>\n",
       "<style scoped>\n",
       "    .dataframe tbody tr th:only-of-type {\n",
       "        vertical-align: middle;\n",
       "    }\n",
       "\n",
       "    .dataframe tbody tr th {\n",
       "        vertical-align: top;\n",
       "    }\n",
       "\n",
       "    .dataframe thead th {\n",
       "        text-align: right;\n",
       "    }\n",
       "</style>\n",
       "<table border=\"1\" class=\"dataframe\">\n",
       "  <thead>\n",
       "    <tr style=\"text-align: right;\">\n",
       "      <th></th>\n",
       "      <th>phe_id</th>\n",
       "      <th>phe_chr</th>\n",
       "      <th>phe_from</th>\n",
       "      <th>phe_to</th>\n",
       "      <th>phe_strd</th>\n",
       "      <th>n_var_in_cis</th>\n",
       "      <th>dist_phe_var</th>\n",
       "      <th>var_id</th>\n",
       "      <th>var_chr</th>\n",
       "      <th>var_from</th>\n",
       "      <th>var_to</th>\n",
       "      <th>nom_pval</th>\n",
       "      <th>r_squared</th>\n",
       "      <th>slope</th>\n",
       "      <th>best_hit</th>\n",
       "      <th>CTCF</th>\n",
       "    </tr>\n",
       "  </thead>\n",
       "  <tbody>\n",
       "    <tr>\n",
       "      <th>66703</th>\n",
       "      <td>35207</td>\n",
       "      <td>chr5</td>\n",
       "      <td>150560001</td>\n",
       "      <td>150820000</td>\n",
       "      <td>+</td>\n",
       "      <td>5214</td>\n",
       "      <td>25815</td>\n",
       "      <td>rs35707106</td>\n",
       "      <td>chr5</td>\n",
       "      <td>150845815</td>\n",
       "      <td>150845815</td>\n",
       "      <td>2.813610e-08</td>\n",
       "      <td>0.456757</td>\n",
       "      <td>1.36125</td>\n",
       "      <td>0</td>\n",
       "      <td>NaN</td>\n",
       "    </tr>\n",
       "    <tr>\n",
       "      <th>66893</th>\n",
       "      <td>35238</td>\n",
       "      <td>chr5</td>\n",
       "      <td>150800001</td>\n",
       "      <td>150847500</td>\n",
       "      <td>+</td>\n",
       "      <td>4589</td>\n",
       "      <td>0</td>\n",
       "      <td>rs35707106</td>\n",
       "      <td>chr5</td>\n",
       "      <td>150845815</td>\n",
       "      <td>150845815</td>\n",
       "      <td>2.920850e-05</td>\n",
       "      <td>0.292345</td>\n",
       "      <td>-1.08904</td>\n",
       "      <td>0</td>\n",
       "      <td>NaN</td>\n",
       "    </tr>\n",
       "  </tbody>\n",
       "</table>\n",
       "</div>"
      ],
      "text/plain": [
       "       phe_id phe_chr   phe_from     phe_to phe_strd  n_var_in_cis  \\\n",
       "66703   35207    chr5  150560001  150820000        +          5214   \n",
       "66893   35238    chr5  150800001  150847500        +          4589   \n",
       "\n",
       "       dist_phe_var      var_id var_chr   var_from     var_to      nom_pval  \\\n",
       "66703         25815  rs35707106    chr5  150845815  150845815  2.813610e-08   \n",
       "66893             0  rs35707106    chr5  150845815  150845815  2.920850e-05   \n",
       "\n",
       "       r_squared    slope  best_hit CTCF  \n",
       "66703   0.456757  1.36125         0  NaN  \n",
       "66893   0.292345 -1.08904         0  NaN  "
      ]
     },
     "execution_count": 44,
     "metadata": {},
     "output_type": "execute_result"
    }
   ],
   "source": [
    "loop_nominal_CD8_with_CTCF[loop_nominal_CD8_with_CTCF[\"var_id\"]==\"rs35707106\"]"
   ]
  },
  {
   "cell_type": "code",
   "execution_count": null,
   "metadata": {},
   "outputs": [],
   "source": [
    "rs35707106\n"
   ]
  },
  {
   "cell_type": "code",
   "execution_count": 43,
   "metadata": {},
   "outputs": [],
   "source": [
    "df = loop_nominal_CD8_with_CTCF[loop_nominal_CD8_with_CTCF[\"CTCF\"].notnull()].sort_values(\"nom_pval\")"
   ]
  },
  {
   "cell_type": "code",
   "execution_count": 40,
   "metadata": {},
   "outputs": [],
   "source": [
    "import requests\n",
    "from io import StringIO\n",
    "\n",
    "def ldtrait(snps, pop=\"EUR\", r2d=\"r2\", r2d_threshold=\"0.8\", win_size=\"500000\", token=\"df4e68e96257\", genome_build=\"grch38\"):\n",
    "    if not 1 <= len(snps) <= 50:\n",
    "        raise ValueError(\"Input should be between 1 to 50 variants.\")\n",
    "\n",
    "    base_url = \"https://ldlink.nih.gov/LDlinkRest/ldtrait\"\n",
    "    url_str = f\"{base_url}?token={token}\"\n",
    "\n",
    "    snps_to_upload = \"\\n\".join(snps)\n",
    "    params = {\n",
    "        \"snps\": snps_to_upload,\n",
    "        \"pop\": pop,\n",
    "        \"r2_d\": r2d,\n",
    "        \"r2_d_threshold\": r2d_threshold,\n",
    "        \"window\": win_size,\n",
    "        \"genome_build\": genome_build\n",
    "    }\n",
    "    response = requests.post(url_str, json=params)\n",
    "\n",
    "    if response.status_code == 200:\n",
    "        data_out = pd.read_csv(StringIO(response.text), sep='\\t')\n",
    "    else:\n",
    "        raise ValueError(f\"Error: {response.status_code}, {response.text}\")\n",
    "    return data_out\n",
    "\n",
    "def apply_ldtrait_and_merge(long_list):\n",
    "    def split_list_chunks(input_list, chunk_size=50):\n",
    "        return [input_list[i:i + chunk_size] for i in range(0, len(input_list), chunk_size)]\n",
    "    \n",
    "    list_chunks = split_list_chunks(long_list)\n",
    "    dataframes = [ldtrait(chunk) for chunk in list_chunks]\n",
    "    merged_dataframe = pd.concat(dataframes)\n",
    "    return merged_dataframe"
   ]
  },
  {
   "cell_type": "code",
   "execution_count": 41,
   "metadata": {},
   "outputs": [
    {
     "ename": "ProxyError",
     "evalue": "HTTPSConnectionPool(host='ldlink.nih.gov', port=443): Max retries exceeded with url: /LDlinkRest/ldtrait?token=df4e68e96257 (Caused by ProxyError('Cannot connect to proxy.', NewConnectionError('<urllib3.connection.HTTPSConnection object at 0x7f531658b550>: Failed to establish a new connection: [Errno 110] Connection timed out')))",
     "output_type": "error",
     "traceback": [
      "\u001b[0;31m---------------------------------------------------------------------------\u001b[0m",
      "\u001b[0;31mTimeoutError\u001b[0m                              Traceback (most recent call last)",
      "File \u001b[0;32m~/communal_software/new_basic_software/lib/python3.9/site-packages/urllib3/connection.py:174\u001b[0m, in \u001b[0;36mHTTPConnection._new_conn\u001b[0;34m(self)\u001b[0m\n\u001b[1;32m    173\u001b[0m \u001b[39mtry\u001b[39;00m:\n\u001b[0;32m--> 174\u001b[0m     conn \u001b[39m=\u001b[39m connection\u001b[39m.\u001b[39;49mcreate_connection(\n\u001b[1;32m    175\u001b[0m         (\u001b[39mself\u001b[39;49m\u001b[39m.\u001b[39;49m_dns_host, \u001b[39mself\u001b[39;49m\u001b[39m.\u001b[39;49mport), \u001b[39mself\u001b[39;49m\u001b[39m.\u001b[39;49mtimeout, \u001b[39m*\u001b[39;49m\u001b[39m*\u001b[39;49mextra_kw\n\u001b[1;32m    176\u001b[0m     )\n\u001b[1;32m    178\u001b[0m \u001b[39mexcept\u001b[39;00m SocketTimeout:\n",
      "File \u001b[0;32m~/communal_software/new_basic_software/lib/python3.9/site-packages/urllib3/util/connection.py:95\u001b[0m, in \u001b[0;36mcreate_connection\u001b[0;34m(address, timeout, source_address, socket_options)\u001b[0m\n\u001b[1;32m     94\u001b[0m \u001b[39mif\u001b[39;00m err \u001b[39mis\u001b[39;00m \u001b[39mnot\u001b[39;00m \u001b[39mNone\u001b[39;00m:\n\u001b[0;32m---> 95\u001b[0m     \u001b[39mraise\u001b[39;00m err\n\u001b[1;32m     97\u001b[0m \u001b[39mraise\u001b[39;00m socket\u001b[39m.\u001b[39merror(\u001b[39m\"\u001b[39m\u001b[39mgetaddrinfo returns an empty list\u001b[39m\u001b[39m\"\u001b[39m)\n",
      "File \u001b[0;32m~/communal_software/new_basic_software/lib/python3.9/site-packages/urllib3/util/connection.py:85\u001b[0m, in \u001b[0;36mcreate_connection\u001b[0;34m(address, timeout, source_address, socket_options)\u001b[0m\n\u001b[1;32m     84\u001b[0m     sock\u001b[39m.\u001b[39mbind(source_address)\n\u001b[0;32m---> 85\u001b[0m sock\u001b[39m.\u001b[39;49mconnect(sa)\n\u001b[1;32m     86\u001b[0m \u001b[39mreturn\u001b[39;00m sock\n",
      "\u001b[0;31mTimeoutError\u001b[0m: [Errno 110] Connection timed out",
      "\nDuring handling of the above exception, another exception occurred:\n",
      "\u001b[0;31mNewConnectionError\u001b[0m                        Traceback (most recent call last)",
      "File \u001b[0;32m~/communal_software/new_basic_software/lib/python3.9/site-packages/urllib3/connectionpool.py:700\u001b[0m, in \u001b[0;36mHTTPConnectionPool.urlopen\u001b[0;34m(self, method, url, body, headers, retries, redirect, assert_same_host, timeout, pool_timeout, release_conn, chunked, body_pos, **response_kw)\u001b[0m\n\u001b[1;32m    699\u001b[0m \u001b[39mif\u001b[39;00m is_new_proxy_conn \u001b[39mand\u001b[39;00m http_tunnel_required:\n\u001b[0;32m--> 700\u001b[0m     \u001b[39mself\u001b[39;49m\u001b[39m.\u001b[39;49m_prepare_proxy(conn)\n\u001b[1;32m    702\u001b[0m \u001b[39m# Make the request on the httplib connection object.\u001b[39;00m\n",
      "File \u001b[0;32m~/communal_software/new_basic_software/lib/python3.9/site-packages/urllib3/connectionpool.py:994\u001b[0m, in \u001b[0;36mHTTPSConnectionPool._prepare_proxy\u001b[0;34m(self, conn)\u001b[0m\n\u001b[1;32m    992\u001b[0m     conn\u001b[39m.\u001b[39mtls_in_tls_required \u001b[39m=\u001b[39m \u001b[39mTrue\u001b[39;00m\n\u001b[0;32m--> 994\u001b[0m conn\u001b[39m.\u001b[39;49mconnect()\n",
      "File \u001b[0;32m~/communal_software/new_basic_software/lib/python3.9/site-packages/urllib3/connection.py:358\u001b[0m, in \u001b[0;36mHTTPSConnection.connect\u001b[0;34m(self)\u001b[0m\n\u001b[1;32m    356\u001b[0m \u001b[39mdef\u001b[39;00m \u001b[39mconnect\u001b[39m(\u001b[39mself\u001b[39m):\n\u001b[1;32m    357\u001b[0m     \u001b[39m# Add certificate verification\u001b[39;00m\n\u001b[0;32m--> 358\u001b[0m     \u001b[39mself\u001b[39m\u001b[39m.\u001b[39msock \u001b[39m=\u001b[39m conn \u001b[39m=\u001b[39m \u001b[39mself\u001b[39;49m\u001b[39m.\u001b[39;49m_new_conn()\n\u001b[1;32m    359\u001b[0m     hostname \u001b[39m=\u001b[39m \u001b[39mself\u001b[39m\u001b[39m.\u001b[39mhost\n",
      "File \u001b[0;32m~/communal_software/new_basic_software/lib/python3.9/site-packages/urllib3/connection.py:186\u001b[0m, in \u001b[0;36mHTTPConnection._new_conn\u001b[0;34m(self)\u001b[0m\n\u001b[1;32m    185\u001b[0m \u001b[39mexcept\u001b[39;00m SocketError \u001b[39mas\u001b[39;00m e:\n\u001b[0;32m--> 186\u001b[0m     \u001b[39mraise\u001b[39;00m NewConnectionError(\n\u001b[1;32m    187\u001b[0m         \u001b[39mself\u001b[39m, \u001b[39m\"\u001b[39m\u001b[39mFailed to establish a new connection: \u001b[39m\u001b[39m%s\u001b[39;00m\u001b[39m\"\u001b[39m \u001b[39m%\u001b[39m e\n\u001b[1;32m    188\u001b[0m     )\n\u001b[1;32m    190\u001b[0m \u001b[39mreturn\u001b[39;00m conn\n",
      "\u001b[0;31mNewConnectionError\u001b[0m: <urllib3.connection.HTTPSConnection object at 0x7f531658b550>: Failed to establish a new connection: [Errno 110] Connection timed out",
      "\nDuring handling of the above exception, another exception occurred:\n",
      "\u001b[0;31mMaxRetryError\u001b[0m                             Traceback (most recent call last)",
      "File \u001b[0;32m~/communal_software/new_basic_software/lib/python3.9/site-packages/requests/adapters.py:440\u001b[0m, in \u001b[0;36mHTTPAdapter.send\u001b[0;34m(self, request, stream, timeout, verify, cert, proxies)\u001b[0m\n\u001b[1;32m    439\u001b[0m \u001b[39mif\u001b[39;00m \u001b[39mnot\u001b[39;00m chunked:\n\u001b[0;32m--> 440\u001b[0m     resp \u001b[39m=\u001b[39m conn\u001b[39m.\u001b[39;49murlopen(\n\u001b[1;32m    441\u001b[0m         method\u001b[39m=\u001b[39;49mrequest\u001b[39m.\u001b[39;49mmethod,\n\u001b[1;32m    442\u001b[0m         url\u001b[39m=\u001b[39;49murl,\n\u001b[1;32m    443\u001b[0m         body\u001b[39m=\u001b[39;49mrequest\u001b[39m.\u001b[39;49mbody,\n\u001b[1;32m    444\u001b[0m         headers\u001b[39m=\u001b[39;49mrequest\u001b[39m.\u001b[39;49mheaders,\n\u001b[1;32m    445\u001b[0m         redirect\u001b[39m=\u001b[39;49m\u001b[39mFalse\u001b[39;49;00m,\n\u001b[1;32m    446\u001b[0m         assert_same_host\u001b[39m=\u001b[39;49m\u001b[39mFalse\u001b[39;49;00m,\n\u001b[1;32m    447\u001b[0m         preload_content\u001b[39m=\u001b[39;49m\u001b[39mFalse\u001b[39;49;00m,\n\u001b[1;32m    448\u001b[0m         decode_content\u001b[39m=\u001b[39;49m\u001b[39mFalse\u001b[39;49;00m,\n\u001b[1;32m    449\u001b[0m         retries\u001b[39m=\u001b[39;49m\u001b[39mself\u001b[39;49m\u001b[39m.\u001b[39;49mmax_retries,\n\u001b[1;32m    450\u001b[0m         timeout\u001b[39m=\u001b[39;49mtimeout\n\u001b[1;32m    451\u001b[0m     )\n\u001b[1;32m    453\u001b[0m \u001b[39m# Send the request.\u001b[39;00m\n\u001b[1;32m    454\u001b[0m \u001b[39melse\u001b[39;00m:\n",
      "File \u001b[0;32m~/communal_software/new_basic_software/lib/python3.9/site-packages/urllib3/connectionpool.py:785\u001b[0m, in \u001b[0;36mHTTPConnectionPool.urlopen\u001b[0;34m(self, method, url, body, headers, retries, redirect, assert_same_host, timeout, pool_timeout, release_conn, chunked, body_pos, **response_kw)\u001b[0m\n\u001b[1;32m    783\u001b[0m     e \u001b[39m=\u001b[39m ProtocolError(\u001b[39m\"\u001b[39m\u001b[39mConnection aborted.\u001b[39m\u001b[39m\"\u001b[39m, e)\n\u001b[0;32m--> 785\u001b[0m retries \u001b[39m=\u001b[39m retries\u001b[39m.\u001b[39;49mincrement(\n\u001b[1;32m    786\u001b[0m     method, url, error\u001b[39m=\u001b[39;49me, _pool\u001b[39m=\u001b[39;49m\u001b[39mself\u001b[39;49m, _stacktrace\u001b[39m=\u001b[39;49msys\u001b[39m.\u001b[39;49mexc_info()[\u001b[39m2\u001b[39;49m]\n\u001b[1;32m    787\u001b[0m )\n\u001b[1;32m    788\u001b[0m retries\u001b[39m.\u001b[39msleep()\n",
      "File \u001b[0;32m~/communal_software/new_basic_software/lib/python3.9/site-packages/urllib3/util/retry.py:592\u001b[0m, in \u001b[0;36mRetry.increment\u001b[0;34m(self, method, url, response, error, _pool, _stacktrace)\u001b[0m\n\u001b[1;32m    591\u001b[0m \u001b[39mif\u001b[39;00m new_retry\u001b[39m.\u001b[39mis_exhausted():\n\u001b[0;32m--> 592\u001b[0m     \u001b[39mraise\u001b[39;00m MaxRetryError(_pool, url, error \u001b[39mor\u001b[39;00m ResponseError(cause))\n\u001b[1;32m    594\u001b[0m log\u001b[39m.\u001b[39mdebug(\u001b[39m\"\u001b[39m\u001b[39mIncremented Retry for (url=\u001b[39m\u001b[39m'\u001b[39m\u001b[39m%s\u001b[39;00m\u001b[39m'\u001b[39m\u001b[39m): \u001b[39m\u001b[39m%r\u001b[39;00m\u001b[39m\"\u001b[39m, url, new_retry)\n",
      "\u001b[0;31mMaxRetryError\u001b[0m: HTTPSConnectionPool(host='ldlink.nih.gov', port=443): Max retries exceeded with url: /LDlinkRest/ldtrait?token=df4e68e96257 (Caused by ProxyError('Cannot connect to proxy.', NewConnectionError('<urllib3.connection.HTTPSConnection object at 0x7f531658b550>: Failed to establish a new connection: [Errno 110] Connection timed out')))",
      "\nDuring handling of the above exception, another exception occurred:\n",
      "\u001b[0;31mProxyError\u001b[0m                                Traceback (most recent call last)",
      "\u001b[1;32m/mnt/iusers01/jw01/mdefscs4/psa_functional_genomics/PsA_cleaned_analysis/HiC_allelic_imbalance/4_check_CTCF_overlaps.ipynb Cell 22\u001b[0m in \u001b[0;36m<cell line: 2>\u001b[0;34m()\u001b[0m\n\u001b[1;32m      <a href='vscode-notebook-cell://ssh-remote%2Bincline256/mnt/iusers01/jw01/mdefscs4/psa_functional_genomics/PsA_cleaned_analysis/HiC_allelic_imbalance/4_check_CTCF_overlaps.ipynb#Y106sdnNjb2RlLXJlbW90ZQ%3D%3D?line=0'>1</a>\u001b[0m best_snps \u001b[39m=\u001b[39m loop_nominal_CD8_with_CTCF[loop_nominal_CD8_with_CTCF[\u001b[39m\"\u001b[39m\u001b[39mCTCF\u001b[39m\u001b[39m\"\u001b[39m]\u001b[39m.\u001b[39mnotnull()]\u001b[39m.\u001b[39msort_values(\u001b[39m\"\u001b[39m\u001b[39mnom_pval\u001b[39m\u001b[39m\"\u001b[39m)\u001b[39m.\u001b[39mdrop_duplicates(\u001b[39m\"\u001b[39m\u001b[39mphe_id\u001b[39m\u001b[39m\"\u001b[39m)\u001b[39m.\u001b[39mdrop_duplicates(\u001b[39m\"\u001b[39m\u001b[39mvar_id\u001b[39m\u001b[39m\"\u001b[39m)[\u001b[39m\"\u001b[39m\u001b[39mvar_id\u001b[39m\u001b[39m\"\u001b[39m]\u001b[39m.\u001b[39mto_list()\n\u001b[0;32m----> <a href='vscode-notebook-cell://ssh-remote%2Bincline256/mnt/iusers01/jw01/mdefscs4/psa_functional_genomics/PsA_cleaned_analysis/HiC_allelic_imbalance/4_check_CTCF_overlaps.ipynb#Y106sdnNjb2RlLXJlbW90ZQ%3D%3D?line=1'>2</a>\u001b[0m result_dataframe \u001b[39m=\u001b[39m apply_ldtrait_and_merge(best_snps)\n\u001b[1;32m      <a href='vscode-notebook-cell://ssh-remote%2Bincline256/mnt/iusers01/jw01/mdefscs4/psa_functional_genomics/PsA_cleaned_analysis/HiC_allelic_imbalance/4_check_CTCF_overlaps.ipynb#Y106sdnNjb2RlLXJlbW90ZQ%3D%3D?line=2'>3</a>\u001b[0m result_dataframe\u001b[39m.\u001b[39mto_csv(\u001b[39m\"\u001b[39m\u001b[39m/mnt/iusers01/jw01/mdefscs4/psa_functional_genomics/PsA_combined_analysis/allele_specific_hic/calling_allele_specific/ldtrait_CD8_loopQTL.csv\u001b[39m\u001b[39m\"\u001b[39m)\n",
      "\u001b[1;32m/mnt/iusers01/jw01/mdefscs4/psa_functional_genomics/PsA_cleaned_analysis/HiC_allelic_imbalance/4_check_CTCF_overlaps.ipynb Cell 22\u001b[0m in \u001b[0;36mapply_ldtrait_and_merge\u001b[0;34m(long_list)\u001b[0m\n\u001b[1;32m     <a href='vscode-notebook-cell://ssh-remote%2Bincline256/mnt/iusers01/jw01/mdefscs4/psa_functional_genomics/PsA_cleaned_analysis/HiC_allelic_imbalance/4_check_CTCF_overlaps.ipynb#Y106sdnNjb2RlLXJlbW90ZQ%3D%3D?line=29'>30</a>\u001b[0m     \u001b[39mreturn\u001b[39;00m [input_list[i:i \u001b[39m+\u001b[39m chunk_size] \u001b[39mfor\u001b[39;00m i \u001b[39min\u001b[39;00m \u001b[39mrange\u001b[39m(\u001b[39m0\u001b[39m, \u001b[39mlen\u001b[39m(input_list), chunk_size)]\n\u001b[1;32m     <a href='vscode-notebook-cell://ssh-remote%2Bincline256/mnt/iusers01/jw01/mdefscs4/psa_functional_genomics/PsA_cleaned_analysis/HiC_allelic_imbalance/4_check_CTCF_overlaps.ipynb#Y106sdnNjb2RlLXJlbW90ZQ%3D%3D?line=31'>32</a>\u001b[0m list_chunks \u001b[39m=\u001b[39m split_list_chunks(long_list)\n\u001b[0;32m---> <a href='vscode-notebook-cell://ssh-remote%2Bincline256/mnt/iusers01/jw01/mdefscs4/psa_functional_genomics/PsA_cleaned_analysis/HiC_allelic_imbalance/4_check_CTCF_overlaps.ipynb#Y106sdnNjb2RlLXJlbW90ZQ%3D%3D?line=32'>33</a>\u001b[0m dataframes \u001b[39m=\u001b[39m [ldtrait(chunk) \u001b[39mfor\u001b[39;00m chunk \u001b[39min\u001b[39;00m list_chunks]\n\u001b[1;32m     <a href='vscode-notebook-cell://ssh-remote%2Bincline256/mnt/iusers01/jw01/mdefscs4/psa_functional_genomics/PsA_cleaned_analysis/HiC_allelic_imbalance/4_check_CTCF_overlaps.ipynb#Y106sdnNjb2RlLXJlbW90ZQ%3D%3D?line=33'>34</a>\u001b[0m merged_dataframe \u001b[39m=\u001b[39m pd\u001b[39m.\u001b[39mconcat(dataframes)\n\u001b[1;32m     <a href='vscode-notebook-cell://ssh-remote%2Bincline256/mnt/iusers01/jw01/mdefscs4/psa_functional_genomics/PsA_cleaned_analysis/HiC_allelic_imbalance/4_check_CTCF_overlaps.ipynb#Y106sdnNjb2RlLXJlbW90ZQ%3D%3D?line=34'>35</a>\u001b[0m \u001b[39mreturn\u001b[39;00m merged_dataframe\n",
      "\u001b[1;32m/mnt/iusers01/jw01/mdefscs4/psa_functional_genomics/PsA_cleaned_analysis/HiC_allelic_imbalance/4_check_CTCF_overlaps.ipynb Cell 22\u001b[0m in \u001b[0;36m<listcomp>\u001b[0;34m(.0)\u001b[0m\n\u001b[1;32m     <a href='vscode-notebook-cell://ssh-remote%2Bincline256/mnt/iusers01/jw01/mdefscs4/psa_functional_genomics/PsA_cleaned_analysis/HiC_allelic_imbalance/4_check_CTCF_overlaps.ipynb#Y106sdnNjb2RlLXJlbW90ZQ%3D%3D?line=29'>30</a>\u001b[0m     \u001b[39mreturn\u001b[39;00m [input_list[i:i \u001b[39m+\u001b[39m chunk_size] \u001b[39mfor\u001b[39;00m i \u001b[39min\u001b[39;00m \u001b[39mrange\u001b[39m(\u001b[39m0\u001b[39m, \u001b[39mlen\u001b[39m(input_list), chunk_size)]\n\u001b[1;32m     <a href='vscode-notebook-cell://ssh-remote%2Bincline256/mnt/iusers01/jw01/mdefscs4/psa_functional_genomics/PsA_cleaned_analysis/HiC_allelic_imbalance/4_check_CTCF_overlaps.ipynb#Y106sdnNjb2RlLXJlbW90ZQ%3D%3D?line=31'>32</a>\u001b[0m list_chunks \u001b[39m=\u001b[39m split_list_chunks(long_list)\n\u001b[0;32m---> <a href='vscode-notebook-cell://ssh-remote%2Bincline256/mnt/iusers01/jw01/mdefscs4/psa_functional_genomics/PsA_cleaned_analysis/HiC_allelic_imbalance/4_check_CTCF_overlaps.ipynb#Y106sdnNjb2RlLXJlbW90ZQ%3D%3D?line=32'>33</a>\u001b[0m dataframes \u001b[39m=\u001b[39m [ldtrait(chunk) \u001b[39mfor\u001b[39;00m chunk \u001b[39min\u001b[39;00m list_chunks]\n\u001b[1;32m     <a href='vscode-notebook-cell://ssh-remote%2Bincline256/mnt/iusers01/jw01/mdefscs4/psa_functional_genomics/PsA_cleaned_analysis/HiC_allelic_imbalance/4_check_CTCF_overlaps.ipynb#Y106sdnNjb2RlLXJlbW90ZQ%3D%3D?line=33'>34</a>\u001b[0m merged_dataframe \u001b[39m=\u001b[39m pd\u001b[39m.\u001b[39mconcat(dataframes)\n\u001b[1;32m     <a href='vscode-notebook-cell://ssh-remote%2Bincline256/mnt/iusers01/jw01/mdefscs4/psa_functional_genomics/PsA_cleaned_analysis/HiC_allelic_imbalance/4_check_CTCF_overlaps.ipynb#Y106sdnNjb2RlLXJlbW90ZQ%3D%3D?line=34'>35</a>\u001b[0m \u001b[39mreturn\u001b[39;00m merged_dataframe\n",
      "\u001b[1;32m/mnt/iusers01/jw01/mdefscs4/psa_functional_genomics/PsA_cleaned_analysis/HiC_allelic_imbalance/4_check_CTCF_overlaps.ipynb Cell 22\u001b[0m in \u001b[0;36mldtrait\u001b[0;34m(snps, pop, r2d, r2d_threshold, win_size, token, genome_build)\u001b[0m\n\u001b[1;32m     <a href='vscode-notebook-cell://ssh-remote%2Bincline256/mnt/iusers01/jw01/mdefscs4/psa_functional_genomics/PsA_cleaned_analysis/HiC_allelic_imbalance/4_check_CTCF_overlaps.ipynb#Y106sdnNjb2RlLXJlbW90ZQ%3D%3D?line=10'>11</a>\u001b[0m snps_to_upload \u001b[39m=\u001b[39m \u001b[39m\"\u001b[39m\u001b[39m\\n\u001b[39;00m\u001b[39m\"\u001b[39m\u001b[39m.\u001b[39mjoin(snps)\n\u001b[1;32m     <a href='vscode-notebook-cell://ssh-remote%2Bincline256/mnt/iusers01/jw01/mdefscs4/psa_functional_genomics/PsA_cleaned_analysis/HiC_allelic_imbalance/4_check_CTCF_overlaps.ipynb#Y106sdnNjb2RlLXJlbW90ZQ%3D%3D?line=11'>12</a>\u001b[0m params \u001b[39m=\u001b[39m {\n\u001b[1;32m     <a href='vscode-notebook-cell://ssh-remote%2Bincline256/mnt/iusers01/jw01/mdefscs4/psa_functional_genomics/PsA_cleaned_analysis/HiC_allelic_imbalance/4_check_CTCF_overlaps.ipynb#Y106sdnNjb2RlLXJlbW90ZQ%3D%3D?line=12'>13</a>\u001b[0m     \u001b[39m\"\u001b[39m\u001b[39msnps\u001b[39m\u001b[39m\"\u001b[39m: snps_to_upload,\n\u001b[1;32m     <a href='vscode-notebook-cell://ssh-remote%2Bincline256/mnt/iusers01/jw01/mdefscs4/psa_functional_genomics/PsA_cleaned_analysis/HiC_allelic_imbalance/4_check_CTCF_overlaps.ipynb#Y106sdnNjb2RlLXJlbW90ZQ%3D%3D?line=13'>14</a>\u001b[0m     \u001b[39m\"\u001b[39m\u001b[39mpop\u001b[39m\u001b[39m\"\u001b[39m: pop,\n\u001b[0;32m   (...)\u001b[0m\n\u001b[1;32m     <a href='vscode-notebook-cell://ssh-remote%2Bincline256/mnt/iusers01/jw01/mdefscs4/psa_functional_genomics/PsA_cleaned_analysis/HiC_allelic_imbalance/4_check_CTCF_overlaps.ipynb#Y106sdnNjb2RlLXJlbW90ZQ%3D%3D?line=17'>18</a>\u001b[0m     \u001b[39m\"\u001b[39m\u001b[39mgenome_build\u001b[39m\u001b[39m\"\u001b[39m: genome_build\n\u001b[1;32m     <a href='vscode-notebook-cell://ssh-remote%2Bincline256/mnt/iusers01/jw01/mdefscs4/psa_functional_genomics/PsA_cleaned_analysis/HiC_allelic_imbalance/4_check_CTCF_overlaps.ipynb#Y106sdnNjb2RlLXJlbW90ZQ%3D%3D?line=18'>19</a>\u001b[0m }\n\u001b[0;32m---> <a href='vscode-notebook-cell://ssh-remote%2Bincline256/mnt/iusers01/jw01/mdefscs4/psa_functional_genomics/PsA_cleaned_analysis/HiC_allelic_imbalance/4_check_CTCF_overlaps.ipynb#Y106sdnNjb2RlLXJlbW90ZQ%3D%3D?line=19'>20</a>\u001b[0m response \u001b[39m=\u001b[39m requests\u001b[39m.\u001b[39;49mpost(url_str, json\u001b[39m=\u001b[39;49mparams)\n\u001b[1;32m     <a href='vscode-notebook-cell://ssh-remote%2Bincline256/mnt/iusers01/jw01/mdefscs4/psa_functional_genomics/PsA_cleaned_analysis/HiC_allelic_imbalance/4_check_CTCF_overlaps.ipynb#Y106sdnNjb2RlLXJlbW90ZQ%3D%3D?line=21'>22</a>\u001b[0m \u001b[39mif\u001b[39;00m response\u001b[39m.\u001b[39mstatus_code \u001b[39m==\u001b[39m \u001b[39m200\u001b[39m:\n\u001b[1;32m     <a href='vscode-notebook-cell://ssh-remote%2Bincline256/mnt/iusers01/jw01/mdefscs4/psa_functional_genomics/PsA_cleaned_analysis/HiC_allelic_imbalance/4_check_CTCF_overlaps.ipynb#Y106sdnNjb2RlLXJlbW90ZQ%3D%3D?line=22'>23</a>\u001b[0m     data_out \u001b[39m=\u001b[39m pd\u001b[39m.\u001b[39mread_csv(StringIO(response\u001b[39m.\u001b[39mtext), sep\u001b[39m=\u001b[39m\u001b[39m'\u001b[39m\u001b[39m\\t\u001b[39;00m\u001b[39m'\u001b[39m)\n",
      "File \u001b[0;32m~/communal_software/new_basic_software/lib/python3.9/site-packages/requests/api.py:117\u001b[0m, in \u001b[0;36mpost\u001b[0;34m(url, data, json, **kwargs)\u001b[0m\n\u001b[1;32m    105\u001b[0m \u001b[39mdef\u001b[39;00m \u001b[39mpost\u001b[39m(url, data\u001b[39m=\u001b[39m\u001b[39mNone\u001b[39;00m, json\u001b[39m=\u001b[39m\u001b[39mNone\u001b[39;00m, \u001b[39m*\u001b[39m\u001b[39m*\u001b[39mkwargs):\n\u001b[1;32m    106\u001b[0m     \u001b[39mr\u001b[39m\u001b[39m\"\"\"Sends a POST request.\u001b[39;00m\n\u001b[1;32m    107\u001b[0m \n\u001b[1;32m    108\u001b[0m \u001b[39m    :param url: URL for the new :class:`Request` object.\u001b[39;00m\n\u001b[0;32m   (...)\u001b[0m\n\u001b[1;32m    114\u001b[0m \u001b[39m    :rtype: requests.Response\u001b[39;00m\n\u001b[1;32m    115\u001b[0m \u001b[39m    \"\"\"\u001b[39;00m\n\u001b[0;32m--> 117\u001b[0m     \u001b[39mreturn\u001b[39;00m request(\u001b[39m'\u001b[39;49m\u001b[39mpost\u001b[39;49m\u001b[39m'\u001b[39;49m, url, data\u001b[39m=\u001b[39;49mdata, json\u001b[39m=\u001b[39;49mjson, \u001b[39m*\u001b[39;49m\u001b[39m*\u001b[39;49mkwargs)\n",
      "File \u001b[0;32m~/communal_software/new_basic_software/lib/python3.9/site-packages/requests/api.py:61\u001b[0m, in \u001b[0;36mrequest\u001b[0;34m(method, url, **kwargs)\u001b[0m\n\u001b[1;32m     57\u001b[0m \u001b[39m# By using the 'with' statement we are sure the session is closed, thus we\u001b[39;00m\n\u001b[1;32m     58\u001b[0m \u001b[39m# avoid leaving sockets open which can trigger a ResourceWarning in some\u001b[39;00m\n\u001b[1;32m     59\u001b[0m \u001b[39m# cases, and look like a memory leak in others.\u001b[39;00m\n\u001b[1;32m     60\u001b[0m \u001b[39mwith\u001b[39;00m sessions\u001b[39m.\u001b[39mSession() \u001b[39mas\u001b[39;00m session:\n\u001b[0;32m---> 61\u001b[0m     \u001b[39mreturn\u001b[39;00m session\u001b[39m.\u001b[39;49mrequest(method\u001b[39m=\u001b[39;49mmethod, url\u001b[39m=\u001b[39;49murl, \u001b[39m*\u001b[39;49m\u001b[39m*\u001b[39;49mkwargs)\n",
      "File \u001b[0;32m~/communal_software/new_basic_software/lib/python3.9/site-packages/requests/sessions.py:529\u001b[0m, in \u001b[0;36mSession.request\u001b[0;34m(self, method, url, params, data, headers, cookies, files, auth, timeout, allow_redirects, proxies, hooks, stream, verify, cert, json)\u001b[0m\n\u001b[1;32m    524\u001b[0m send_kwargs \u001b[39m=\u001b[39m {\n\u001b[1;32m    525\u001b[0m     \u001b[39m'\u001b[39m\u001b[39mtimeout\u001b[39m\u001b[39m'\u001b[39m: timeout,\n\u001b[1;32m    526\u001b[0m     \u001b[39m'\u001b[39m\u001b[39mallow_redirects\u001b[39m\u001b[39m'\u001b[39m: allow_redirects,\n\u001b[1;32m    527\u001b[0m }\n\u001b[1;32m    528\u001b[0m send_kwargs\u001b[39m.\u001b[39mupdate(settings)\n\u001b[0;32m--> 529\u001b[0m resp \u001b[39m=\u001b[39m \u001b[39mself\u001b[39;49m\u001b[39m.\u001b[39;49msend(prep, \u001b[39m*\u001b[39;49m\u001b[39m*\u001b[39;49msend_kwargs)\n\u001b[1;32m    531\u001b[0m \u001b[39mreturn\u001b[39;00m resp\n",
      "File \u001b[0;32m~/communal_software/new_basic_software/lib/python3.9/site-packages/requests/sessions.py:645\u001b[0m, in \u001b[0;36mSession.send\u001b[0;34m(self, request, **kwargs)\u001b[0m\n\u001b[1;32m    642\u001b[0m start \u001b[39m=\u001b[39m preferred_clock()\n\u001b[1;32m    644\u001b[0m \u001b[39m# Send the request\u001b[39;00m\n\u001b[0;32m--> 645\u001b[0m r \u001b[39m=\u001b[39m adapter\u001b[39m.\u001b[39;49msend(request, \u001b[39m*\u001b[39;49m\u001b[39m*\u001b[39;49mkwargs)\n\u001b[1;32m    647\u001b[0m \u001b[39m# Total elapsed time of the request (approximately)\u001b[39;00m\n\u001b[1;32m    648\u001b[0m elapsed \u001b[39m=\u001b[39m preferred_clock() \u001b[39m-\u001b[39m start\n",
      "File \u001b[0;32m~/communal_software/new_basic_software/lib/python3.9/site-packages/requests/adapters.py:513\u001b[0m, in \u001b[0;36mHTTPAdapter.send\u001b[0;34m(self, request, stream, timeout, verify, cert, proxies)\u001b[0m\n\u001b[1;32m    510\u001b[0m     \u001b[39mraise\u001b[39;00m RetryError(e, request\u001b[39m=\u001b[39mrequest)\n\u001b[1;32m    512\u001b[0m \u001b[39mif\u001b[39;00m \u001b[39misinstance\u001b[39m(e\u001b[39m.\u001b[39mreason, _ProxyError):\n\u001b[0;32m--> 513\u001b[0m     \u001b[39mraise\u001b[39;00m ProxyError(e, request\u001b[39m=\u001b[39mrequest)\n\u001b[1;32m    515\u001b[0m \u001b[39mif\u001b[39;00m \u001b[39misinstance\u001b[39m(e\u001b[39m.\u001b[39mreason, _SSLError):\n\u001b[1;32m    516\u001b[0m     \u001b[39m# This branch is for urllib3 v1.22 and later.\u001b[39;00m\n\u001b[1;32m    517\u001b[0m     \u001b[39mraise\u001b[39;00m SSLError(e, request\u001b[39m=\u001b[39mrequest)\n",
      "\u001b[0;31mProxyError\u001b[0m: HTTPSConnectionPool(host='ldlink.nih.gov', port=443): Max retries exceeded with url: /LDlinkRest/ldtrait?token=df4e68e96257 (Caused by ProxyError('Cannot connect to proxy.', NewConnectionError('<urllib3.connection.HTTPSConnection object at 0x7f531658b550>: Failed to establish a new connection: [Errno 110] Connection timed out')))"
     ]
    }
   ],
   "source": [
    "best_snps = loop_nominal_CD8_with_CTCF[loop_nominal_CD8_with_CTCF[\"CTCF\"].notnull()].sort_values(\"nom_pval\").drop_duplicates(\"phe_id\").drop_duplicates(\"var_id\")[\"var_id\"].to_list()\n",
    "result_dataframe = apply_ldtrait_and_merge(best_snps)\n",
    "result_dataframe.to_csv(\"/mnt/jw01-aruk-home01/projects/psa_functional_genomics/PsA_combined_analysis/allele_specific_hic/calling_allele_specific/ldtrait_CD8_loopQTL.csv\")"
   ]
  },
  {
   "cell_type": "code",
   "execution_count": null,
   "metadata": {},
   "outputs": [],
   "source": [
    "best_snps = loop_nominal_CD4_with_CTCF[loop_nominal_CD4_with_CTCF[\"CTCF\"].notnull()].sort_values(\"nom_pval\").drop_duplicates(\"phe_id\").drop_duplicates(\"var_id\")[\"var_id\"].to_list()\n",
    "result_dataframe = apply_ldtrait_and_merge(best_snps)\n",
    "result_dataframe.to_csv(\"/mnt/jw01-aruk-home01/projects/psa_functional_genomics/PsA_combined_analysis/allele_specific_hic/calling_allele_specific/ldtrait_CD4_loopQTL.csv\")"
   ]
  },
  {
   "cell_type": "code",
   "execution_count": null,
   "metadata": {},
   "outputs": [],
   "source": []
  }
 ],
 "metadata": {
  "kernelspec": {
   "display_name": "Python 3",
   "language": "python",
   "name": "python3"
  },
  "language_info": {
   "codemirror_mode": {
    "name": "ipython",
    "version": 3
   },
   "file_extension": ".py",
   "mimetype": "text/x-python",
   "name": "python",
   "nbconvert_exporter": "python",
   "pygments_lexer": "ipython3",
   "version": "3.9.10"
  },
  "orig_nbformat": 4
 },
 "nbformat": 4,
 "nbformat_minor": 2
}
