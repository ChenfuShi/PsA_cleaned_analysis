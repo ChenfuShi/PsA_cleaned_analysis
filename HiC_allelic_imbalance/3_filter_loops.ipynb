{
 "cells": [
  {
   "attachments": {},
   "cell_type": "markdown",
   "metadata": {},
   "source": [
    "# script that takes the aggregated data from the previous step and creates tables that are good for annotating GWAS files"
   ]
  },
  {
   "cell_type": "markdown",
   "metadata": {},
   "source": [
    "# note that we cannot provide raw genotypes for the patients, so this script is here only as a reference and it cannot be run"
   ]
  },
  {
   "cell_type": "code",
   "execution_count": 1,
   "metadata": {},
   "outputs": [],
   "source": [
    "import pandas as pd\n",
    "import numpy as np\n",
    "import os\n",
    "import scipy\n",
    "import pybedtools as pbed \n",
    "import subprocess as sub\n",
    "from multiprocessing import Pool\n",
    "import math\n",
    "import statistics\n",
    "import matplotlib.pyplot as plt\n",
    "import seaborn as sns\n",
    "import statsmodels.stats.multitest\n",
    "import gzip\n",
    "import subprocess\n",
    "import vcf\n",
    "import functools\n",
    "import pickle\n",
    "os.makedirs(\"/mnt/iusers01/jw01/mdefscs4/scratch/temp_pybedtools/\", exist_ok = True)\n",
    "pbed.helpers.set_tempdir(\"/mnt/iusers01/jw01/mdefscs4/scratch/temp_pybedtools/\")\n",
    "bed_genome_file = \"/mnt/iusers01/jw01/mdefscs4/hg38.genome\"\n",
    "\n",
    "plt.rcParams['svg.fonttype'] = 'none'\n",
    "\n",
    "base_dir = \"/mnt/jw01-aruk-home01/projects/psa_functional_genomics/PsA_cleaned_analysis\""
   ]
  },
  {
   "cell_type": "code",
   "execution_count": 2,
   "metadata": {},
   "outputs": [],
   "source": [
    "metadata_hic = pd.read_csv(f\"{base_dir}/metadata/cleaned_HiC_metadata.csv\", index_col=0)"
   ]
  },
  {
   "cell_type": "code",
   "execution_count": 12,
   "metadata": {},
   "outputs": [],
   "source": [
    "data_CD4 = pickle.load(open(f\"{base_dir}/HiC_allelic_imbalance/aggregated_data_CD4_slop10kb_separatepval.pk\", \"rb\"))\n",
    "data_CD8 = pickle.load(open(f\"{base_dir}/HiC_allelic_imbalance/aggregated_data_CD8_slop10kb_separatepval.pk\", \"rb\"))"
   ]
  },
  {
   "cell_type": "code",
   "execution_count": 13,
   "metadata": {},
   "outputs": [
    {
     "name": "stdout",
     "output_type": "stream",
     "text": [
      "909355\n",
      "918108\n"
     ]
    }
   ],
   "source": [
    "merged_data_CD4 = {k: v for d in data_CD4 for k, v in d.items()}\n",
    "merged_data_CD8 = {k: v for d in data_CD8 for k, v in d.items()}\n",
    "print(len(merged_data_CD4))\n",
    "print(len(merged_data_CD8))"
   ]
  },
  {
   "attachments": {},
   "cell_type": "markdown",
   "metadata": {},
   "source": [
    "## add FDR correction to the p-values from the loops"
   ]
  },
  {
   "cell_type": "code",
   "execution_count": 14,
   "metadata": {},
   "outputs": [],
   "source": [
    "def add_FDR(merged_data):\n",
    "    all_combined_pvals = []\n",
    "    for x in merged_data.values():\n",
    "        all_combined_pvals.append(x[\"combined_p_val_greater\"])\n",
    "        all_combined_pvals.append(x[\"combined_p_val_less\"])\n",
    "    corrected_pvals = statsmodels.stats.multitest.multipletests(all_combined_pvals, method = \"fdr_bh\",alpha = 0.1)[1]\n",
    "    i = 0\n",
    "    for x in merged_data.values():\n",
    "        x[\"corrected_p_val_greater\"] = corrected_pvals[i]\n",
    "        i=i+1\n",
    "        x[\"corrected_p_val_less\"] = corrected_pvals[i]\n",
    "        i=i+1\n",
    "    return merged_data\n",
    "\n",
    "merged_data_CD4 = add_FDR(merged_data_CD4)\n",
    "merged_data_CD8 = add_FDR(merged_data_CD8)"
   ]
  },
  {
   "cell_type": "code",
   "execution_count": 15,
   "metadata": {},
   "outputs": [],
   "source": [
    "significant_interactions_CD4 = []\n",
    "significant_data_CD4 = {}\n",
    "for key,x in merged_data_CD4.items():\n",
    "    if x[\"corrected_p_val_greater\"] < 0.1 or x[\"corrected_p_val_less\"] < 0.1 :\n",
    "        significant_interactions_CD4.append(key)\n",
    "        significant_data_CD4[key] = x\n",
    "significant_interactions_CD8 = []\n",
    "significant_data_CD8 = {}\n",
    "for key,x in merged_data_CD8.items():\n",
    "    if x[\"corrected_p_val_greater\"] < 0.1 or x[\"corrected_p_val_less\"] < 0.1 :\n",
    "        significant_interactions_CD8.append(key)\n",
    "        significant_data_CD8[key] = x"
   ]
  },
  {
   "attachments": {},
   "cell_type": "markdown",
   "metadata": {},
   "source": [
    "## filter the significant interactions so that at least 80% of the samples have the right ratio\n",
    "\n",
    "this is secondary to the fact that the p-values are directional because it's one-sided test"
   ]
  },
  {
   "cell_type": "code",
   "execution_count": 16,
   "metadata": {},
   "outputs": [],
   "source": [
    "def get_really_significant(significant_data):\n",
    "    for key, value in significant_data.items():\n",
    "        plus_signs = 0\n",
    "        minus_signs = 0\n",
    "        reads_0 = 0\n",
    "        reads_1 = 1\n",
    "        n_pat = 0\n",
    "        for sample in metadata_hic[\"folder_name\"].to_list():\n",
    "            try:\n",
    "                if value[f\"{sample}_1\"]/(value[f\"{sample}_0\"]+value[f\"{sample}_1\"]) > 0.5:\n",
    "                    plus_signs = plus_signs + 1\n",
    "                else: \n",
    "                    minus_signs = minus_signs + 1\n",
    "                reads_0 = reads_0 + value[f\"{sample}_0\"]\n",
    "                reads_1 = reads_1 + value[f\"{sample}_1\"]\n",
    "                n_pat = n_pat + 1\n",
    "            except:\n",
    "                continue\n",
    "                \n",
    "        ratio = plus_signs/(minus_signs+plus_signs)\n",
    "        value[\"ratio\"] = ratio\n",
    "        if ratio > 0.8 or ratio < 0.2:\n",
    "            value[\"good_ratio\"] = True\n",
    "        else: \n",
    "            value[\"good_ratio\"] = False\n",
    "        value[\"tot_REF\"] = reads_0\n",
    "        value[\"tot_ALT\"] = reads_1\n",
    "        value[\"n_pat\"] = n_pat\n",
    "    really_significant_data = {k:v for k,v in significant_data.items() if v[\"good_ratio\"]}\n",
    "    return really_significant_data\n",
    "really_significant_data_CD4 = get_really_significant(significant_data_CD4)\n",
    "really_significant_data_CD8 = get_really_significant(significant_data_CD8)"
   ]
  },
  {
   "cell_type": "code",
   "execution_count": 17,
   "metadata": {},
   "outputs": [
    {
     "name": "stdout",
     "output_type": "stream",
     "text": [
      "6589\n",
      "6675\n"
     ]
    }
   ],
   "source": [
    "print(len(really_significant_data_CD4))\n",
    "print(len(really_significant_data_CD8))"
   ]
  },
  {
   "cell_type": "code",
   "execution_count": 18,
   "metadata": {},
   "outputs": [
    {
     "name": "stdout",
     "output_type": "stream",
     "text": [
      "1543\n",
      "1602\n"
     ]
    }
   ],
   "source": [
    "print(len(set([x.split(\"_\")[1] for x in really_significant_data_CD4.keys()])))\n",
    "print(len(set([x.split(\"_\")[1] for x in really_significant_data_CD8.keys()])))"
   ]
  },
  {
   "attachments": {},
   "cell_type": "markdown",
   "metadata": {},
   "source": [
    "## re-annotate the position of the variants\n",
    "this won't work if you don't have the file for the genotypes which are not made available"
   ]
  },
  {
   "cell_type": "code",
   "execution_count": 19,
   "metadata": {},
   "outputs": [],
   "source": [
    "var_matcher = {}\n",
    "for chrom in range(1,23):\n",
    "    vcf_f = pbed.BedTool(f\"/mnt/jw01-aruk-home01/projects/psa_functional_genomics/PsA_combined_analysis/allele_specific_hic/genotype_calling/called_genotypes/HAPCUT_phased_merged_chr{chrom}_annotated_filtered.vcf.gz\")\n",
    "    loop_anchors = pbed.BedTool(\"/mnt/jw01-aruk-home01/projects/psa_functional_genomics/PsA_combined_analysis/allele_specific_hic/calling_allele_specific/loop_anchors_merged.bed\")\n",
    "    filtered_vcf = vcf_f.intersect(loop_anchors,u = True, header = True)\n",
    "\n",
    "    variants = vcf.Reader(filename=filtered_vcf.fn)\n",
    "\n",
    "    for record in variants:\n",
    "        var_matcher[record.ID] = record.POS"
   ]
  },
  {
   "attachments": {},
   "cell_type": "markdown",
   "metadata": {},
   "source": [
    "this function is used to annotate the loop information"
   ]
  },
  {
   "cell_type": "code",
   "execution_count": 20,
   "metadata": {},
   "outputs": [],
   "source": [
    "def retrieve_datatable(samples):\n",
    "    sample = samples[0]\n",
    "    counts = pd.read_csv(f\"/mnt/jw01-aruk-home01/projects/psa_functional_genomics/PsA_combined_analysis/allele_specific_hic/calling_allele_specific/output_counts/{sample}.bedpe\", sep =\"\\t\", header = None)\n",
    "    counts = counts[[0,1,2,3,4,5,6,7]]\n",
    "    counts[6] = counts.index\n",
    "    for sample in samples:\n",
    "        counts_B = pd.read_csv(f\"/mnt/jw01-aruk-home01/projects/psa_functional_genomics/PsA_combined_analysis/allele_specific_hic/calling_allele_specific/output_counts/{sample}.bedpe\", sep =\"\\t\", header = None)\n",
    "        counts_B = counts_B.rename(columns={8:sample + \"_A\",9:sample + \"_B\"})\n",
    "        counts_B[6] = counts_B.index\n",
    "        counts = counts.merge(counts_B)\n",
    "    counts_pbed = pbed.BedTool.from_dataframe(counts)\n",
    "    return counts, counts_pbed\n",
    "samples_CD4 = metadata_hic[metadata_hic[\"cell_type\"] == \"CD4\"][\"folder_name\"].to_list()\n",
    "samples_CD8 = metadata_hic[metadata_hic[\"cell_type\"] == \"CD8\"][\"folder_name\"].to_list()\n",
    "counts_CD4, counts_pbed_CD4 = retrieve_datatable(samples_CD4)\n",
    "counts_CD8, counts_pbed_CD8 = retrieve_datatable(samples_CD8)"
   ]
  },
  {
   "attachments": {},
   "cell_type": "markdown",
   "metadata": {},
   "source": [
    "### finally prepare the table listing all the infomration about allele specific loops"
   ]
  },
  {
   "cell_type": "code",
   "execution_count": 21,
   "metadata": {},
   "outputs": [],
   "source": [
    "output_dataframe_CD4 = pd.DataFrame(columns = \"chrA startA endA chrB startB endB loopID loopScore rsID rsCoord combined_Pval_greater corrected_Pval_greater combined_Pval_less corrected_Pval_less tot_REF tot_ALT n_pat\".split())\n",
    "for key, x in really_significant_data_CD4.items():\n",
    "    rsID, loopID = key.split(\"_\")\n",
    "    loop = counts_CD4.iloc[int(loopID)]\n",
    "    output_dataframe_CD4.loc[key] = [loop[0],loop[1],loop[2],loop[3],loop[4],loop[5],loop[6],loop[7],rsID, var_matcher[rsID], x[\"combined_p_val_greater\"], x[\"corrected_p_val_greater\"], x[\"combined_p_val_less\"], x[\"corrected_p_val_less\"], x[\"tot_REF\"], x[\"tot_ALT\"], x[\"n_pat\"]]\n",
    "\n",
    "output_dataframe_CD8 = pd.DataFrame(columns = \"chrA startA endA chrB startB endB loopID loopScore rsID rsCoord combined_Pval_greater corrected_Pval_greater combined_Pval_less corrected_Pval_less tot_REF tot_ALT n_pat\".split())\n",
    "for key, x in really_significant_data_CD8.items():\n",
    "    rsID, loopID = key.split(\"_\")\n",
    "    loop = counts_CD8.iloc[int(loopID)]\n",
    "    output_dataframe_CD8.loc[key] = [loop[0],loop[1],loop[2],loop[3],loop[4],loop[5],loop[6],loop[7],rsID, var_matcher[rsID], x[\"combined_p_val_greater\"], x[\"corrected_p_val_greater\"], x[\"combined_p_val_less\"], x[\"corrected_p_val_less\"], x[\"tot_REF\"], x[\"tot_ALT\"], x[\"n_pat\"]]"
   ]
  },
  {
   "cell_type": "code",
   "execution_count": 27,
   "metadata": {},
   "outputs": [],
   "source": [
    "output_dataframe_CD8.to_csv(f\"{base_dir}/HiC_allelic_imbalance/output_dataframe_CD8.csv\")\n",
    "output_dataframe_CD4.to_csv(f\"{base_dir}/HiC_allelic_imbalance/output_dataframe_CD4.csv\")\n",
    "\n",
    "output_dataframe_CD8.to_csv(f\"{base_dir}/HiC_allelic_imbalance/allelic_imbalanced_loops_CD8.bedpe\", index = False, sep = \"\\t\")\n",
    "output_dataframe_CD4.to_csv(f\"{base_dir}/HiC_allelic_imbalance/allelic_imbalanced_loops_CD4.bedpe\", index = False, sep = \"\\t\")"
   ]
  },
  {
   "cell_type": "code",
   "execution_count": 23,
   "metadata": {},
   "outputs": [
    {
     "data": {
      "image/png": "[encoded data removed]",
      "text/plain": [
       "<Figure size 288x288 with 1 Axes>"
      ]
     },
     "metadata": {},
     "output_type": "display_data"
    }
   ],
   "source": [
    "from matplotlib import pyplot as plt\n",
    "from matplotlib_venn import venn2\n",
    "\n",
    "# Define the sets\n",
    "set1 = set(output_dataframe_CD4[\"loopID\"].to_list())\n",
    "set2 = set(output_dataframe_CD8[\"loopID\"].to_list())\n",
    "\n",
    "fig, ax = plt.subplots(1,1,figsize=(4,4))\n",
    "# Create the Venn diagram\n",
    "v = venn2([set1, set2], set_colors=[\"navy\",\"tomato\"],set_labels=('CD4', 'CD8'), ax=ax)\n",
    "\n",
    "# Show the plot\n",
    "fig.savefig(f\"{base_dir}/HiC_allelic_imbalance/figures/loops_allele_associated.svg\", dpi = 600)"
   ]
  }
 ],
 "metadata": {
  "kernelspec": {
   "display_name": "Python 3",
   "language": "python",
   "name": "python3"
  },
  "language_info": {
   "codemirror_mode": {
    "name": "ipython",
    "version": 3
   },
   "file_extension": ".py",
   "mimetype": "text/x-python",
   "name": "python",
   "nbconvert_exporter": "python",
   "pygments_lexer": "ipython3",
   "version": "3.9.10"
  },
  "orig_nbformat": 4,
  "vscode": {
   "interpreter": {
    "hash": "64bc073de8d24d484ad5b2fece953d20708d91b167b6996d287dfc1cc29e61ba"
   }
  }
 },
 "nbformat": 4,
 "nbformat_minor": 2
}
