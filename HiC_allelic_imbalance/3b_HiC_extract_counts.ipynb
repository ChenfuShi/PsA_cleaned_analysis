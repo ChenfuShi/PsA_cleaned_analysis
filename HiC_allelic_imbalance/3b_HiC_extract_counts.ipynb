{
 "cells": [
  {
   "cell_type": "markdown",
   "metadata": {},
   "source": [
    "# reviewers request was to use beta-binomial model instead of simple binomial test. \n",
    "This requires using apeglm, which is an R package. this script converts the counts so that it's ready for apeglm"
   ]
  },
  {
   "cell_type": "code",
   "execution_count": 1,
   "metadata": {},
   "outputs": [],
   "source": [
    "import pandas as pd\n",
    "import numpy as np\n",
    "from multiprocessing import Pool\n",
    "from functools import partial\n",
    "import glob\n",
    "import os\n",
    "import math\n",
    "import scipy\n",
    "import seaborn as sns\n",
    "import matplotlib.pyplot as plt\n",
    "import gzip\n",
    "import io\n",
    "import pickle\n",
    "import pybedtools as pbed\n",
    "from functools import reduce\n",
    "\n",
    "base_dir = \"http://bartzabel.ls.manchester.ac.uk/orozcolab/SNP2Mechanism/\""
   ]
  },
  {
   "cell_type": "code",
   "execution_count": 2,
   "metadata": {},
   "outputs": [],
   "source": [
    "metadata_hic = pd.read_csv(f\"{base_dir}/metadata/cleaned_HiC_metadata.csv\", index_col=0)"
   ]
  },
  {
   "cell_type": "code",
   "execution_count": 3,
   "metadata": {},
   "outputs": [],
   "source": [
    "data_CD4 = pickle.load(open(\".local/aggregated_data_CD4_slop10kb_separatepval.pk\", \"rb\"))\n",
    "data_CD8 = pickle.load(open(\".local/aggregated_data_CD8_slop10kb_separatepval.pk\", \"rb\"))"
   ]
  },
  {
   "cell_type": "code",
   "execution_count": 4,
   "metadata": {},
   "outputs": [],
   "source": [
    "all_snps = []\n",
    "for chromosome_snps in data_CD4:\n",
    "    for snp, values in chromosome_snps.items():\n",
    "        if len(values) > 10: # 4 always there, 6 for 3 samples\n",
    "            all_snps.append(snp)"
   ]
  },
  {
   "cell_type": "code",
   "execution_count": 5,
   "metadata": {},
   "outputs": [],
   "source": [
    "tot_counts_CD4 = pd.DataFrame(index = all_snps, columns = metadata_hic[metadata_hic[\"cell_type\"] == \"CD4\"][\"folder_name\"].to_list())\n",
    "ase_counts_CD4 = pd.DataFrame(index = all_snps, columns = metadata_hic[metadata_hic[\"cell_type\"] == \"CD4\"][\"folder_name\"].to_list())                                        "
   ]
  },
  {
   "cell_type": "code",
   "execution_count": 6,
   "metadata": {},
   "outputs": [],
   "source": [
    "for chromosome_snps in data_CD4:\n",
    "    for snp, values in chromosome_snps.items():\n",
    "        if len(values) > 10: # 4 always there, 6 for 3 samples\n",
    "            for k,v in  values.items():\n",
    "                if k.endswith(\"_0\"):\n",
    "                    ase_counts_CD4.at[snp, k.split(\"_0\")[0]] = int(v)\n",
    "                    tot_counts_CD4.at[snp, k.split(\"_0\")[0]] = int(v + values[k.split(\"_0\")[0] + \"_1\"])"
   ]
  },
  {
   "cell_type": "code",
   "execution_count": 30,
   "metadata": {},
   "outputs": [],
   "source": [
    "tot_merged_CD4 = tot_counts_CD4.sum(axis = 1)\n",
    "ase_merged_CD4 = ase_counts_CD4.sum(axis = 1)\n",
    "total_allele_counts_CD4 = pd.DataFrame(ase_merged_CD4)\n",
    "total_allele_counts_CD4.columns = [\"REF_counts\"]\n",
    "total_allele_counts_CD4[\"ALT_counts\"] = tot_merged_CD4 - ase_merged_CD4\n",
    "total_allele_counts_CD4.to_csv(f\".local/hic_goingtoR/hic_CD4_allele_counts.csv\")"
   ]
  },
  {
   "cell_type": "code",
   "execution_count": 15,
   "metadata": {},
   "outputs": [],
   "source": [
    "tot_counts_CD4.to_csv(f\".local/hic_goingtoR/hic_CD4_tot_counts.csv\")\n",
    "ase_counts_CD4.to_csv(f\".local/hic_goingtoR/hic_CD4_ASE_counts.csv\")"
   ]
  },
  {
   "cell_type": "code",
   "execution_count": 19,
   "metadata": {},
   "outputs": [],
   "source": [
    "all_snps = []\n",
    "for chromosome_snps in data_CD8:\n",
    "    for snp, values in chromosome_snps.items():\n",
    "        if len(values) > 10: # 4 always there, 6 for 3 samples\n",
    "            all_snps.append(snp)"
   ]
  },
  {
   "cell_type": "code",
   "execution_count": 20,
   "metadata": {},
   "outputs": [],
   "source": [
    "tot_counts_CD8 = pd.DataFrame(index = all_snps, columns = metadata_hic[metadata_hic[\"cell_type\"] == \"CD8\"][\"folder_name\"].to_list())\n",
    "ase_counts_CD8 = pd.DataFrame(index = all_snps, columns = metadata_hic[metadata_hic[\"cell_type\"] == \"CD8\"][\"folder_name\"].to_list())                                        "
   ]
  },
  {
   "cell_type": "code",
   "execution_count": 21,
   "metadata": {},
   "outputs": [],
   "source": [
    "for chromosome_snps in data_CD8:\n",
    "    for snp, values in chromosome_snps.items():\n",
    "        if len(values) > 10: # 4 always there, 6 for 3 samples\n",
    "            for k,v in  values.items():\n",
    "                if k.endswith(\"_0\"):\n",
    "                    ase_counts_CD8.at[snp, k.split(\"_0\")[0]] = int(v)\n",
    "                    tot_counts_CD8.at[snp, k.split(\"_0\")[0]] = int(v + values[k.split(\"_0\")[0] + \"_1\"])\n"
   ]
  },
  {
   "cell_type": "code",
   "execution_count": 22,
   "metadata": {},
   "outputs": [],
   "source": [
    "tot_merged_CD8 = tot_counts_CD8.sum(axis = 1)\n",
    "ase_merged_CD8 = ase_counts_CD8.sum(axis = 1)\n",
    "total_allele_counts_CD8 = pd.DataFrame(ase_merged_CD8)\n",
    "total_allele_counts_CD8.columns = [\"REF_counts\"]\n",
    "total_allele_counts_CD8[\"ALT_counts\"] = tot_merged_CD8 - ase_merged_CD8\n",
    "total_allele_counts_CD8.to_csv(f\".local/hic_goingtoR/hic_CD8_allele_counts.csv\")"
   ]
  },
  {
   "cell_type": "code",
   "execution_count": 19,
   "metadata": {},
   "outputs": [],
   "source": [
    "tot_counts_CD8.to_csv(f\".local/hic_goingtoR/hic_CD8_tot_counts.csv\")\n",
    "ase_counts_CD8.to_csv(f\".local/hic_goingtoR/hic_CD8_ASE_counts.csv\")"
   ]
  },
  {
   "cell_type": "code",
   "execution_count": null,
   "metadata": {},
   "outputs": [],
   "source": []
  },
  {
   "cell_type": "code",
   "execution_count": 31,
   "metadata": {},
   "outputs": [],
   "source": [
    "all_snps = []\n",
    "for chromosome_snps in data_CD4:\n",
    "    for snp, values in chromosome_snps.items():\n",
    "            all_snps.append(snp)\n",
    "for chromosome_snps in data_CD8:\n",
    "    for snp, values in chromosome_snps.items():\n",
    "            all_snps.append(snp)"
   ]
  },
  {
   "cell_type": "code",
   "execution_count": 32,
   "metadata": {},
   "outputs": [],
   "source": [
    "all_snps = sorted(list(set(all_snps)))"
   ]
  },
  {
   "cell_type": "code",
   "execution_count": 33,
   "metadata": {},
   "outputs": [],
   "source": [
    "tot_counts_ALL = pd.DataFrame(index = all_snps, columns = metadata_hic[\"folder_name\"].to_list())\n",
    "ase_counts_ALL = pd.DataFrame(index = all_snps, columns = metadata_hic[\"folder_name\"].to_list())      "
   ]
  },
  {
   "cell_type": "code",
   "execution_count": 34,
   "metadata": {},
   "outputs": [],
   "source": [
    "for chromosome_snps in data_CD4:\n",
    "    for snp, values in chromosome_snps.items():\n",
    "        for k,v in  values.items():\n",
    "            if k.endswith(\"_0\"):\n",
    "                ase_counts_ALL.at[snp, k.split(\"_0\")[0]] = int(v)\n",
    "                tot_counts_ALL.at[snp, k.split(\"_0\")[0]] = int(v + values[k.split(\"_0\")[0] + \"_1\"])\n",
    "for chromosome_snps in data_CD8:\n",
    "    for snp, values in chromosome_snps.items():\n",
    "        for k,v in  values.items():\n",
    "            if k.endswith(\"_0\"):\n",
    "                ase_counts_ALL.at[snp, k.split(\"_0\")[0]] = int(v)\n",
    "                tot_counts_ALL.at[snp, k.split(\"_0\")[0]] = int(v + values[k.split(\"_0\")[0] + \"_1\"])"
   ]
  },
  {
   "cell_type": "code",
   "execution_count": 35,
   "metadata": {},
   "outputs": [],
   "source": [
    "tot_counts_ALL = tot_counts_ALL.dropna(thresh = 6)\n",
    "ase_counts_ALL = ase_counts_ALL.dropna(thresh = 6)\n",
    "tot_counts_ALL.to_csv(f\".local/hic_goingtoR/hic_ALL_tot_counts.csv\")\n",
    "ase_counts_ALL.to_csv(f\".local/hic_goingtoR/hic_ALL_ASE_counts.csv\")"
   ]
  },
  {
   "cell_type": "code",
   "execution_count": 36,
   "metadata": {},
   "outputs": [],
   "source": [
    "tot_merged_ALL = tot_counts_ALL.sum(axis = 1)\n",
    "ase_merged_ALL = ase_counts_ALL.sum(axis = 1)\n",
    "total_allele_counts_ALL = pd.DataFrame(ase_merged_ALL)\n",
    "total_allele_counts_ALL.columns = [\"REF_counts\"]\n",
    "total_allele_counts_ALL[\"ALT_counts\"] = tot_merged_ALL - ase_merged_ALL\n",
    "total_allele_counts_ALL.to_csv(f\".local/hic_goingtoR/hic_ALL_allele_counts.csv\")"
   ]
  }
 ],
 "metadata": {
  "kernelspec": {
   "display_name": "basic",
   "language": "python",
   "name": "python3"
  },
  "language_info": {
   "codemirror_mode": {
    "name": "ipython",
    "version": 3
   },
   "file_extension": ".py",
   "mimetype": "text/x-python",
   "name": "python",
   "nbconvert_exporter": "python",
   "pygments_lexer": "ipython3",
   "version": "3.10.12"
  }
 },
 "nbformat": 4,
 "nbformat_minor": 2
}
