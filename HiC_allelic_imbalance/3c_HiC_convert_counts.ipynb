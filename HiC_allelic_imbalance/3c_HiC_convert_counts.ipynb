{
 "cells": [
  {
   "cell_type": "markdown",
   "metadata": {},
   "source": [
    "## load back the results from apeglm and add the old stats that were generated"
   ]
  },
  {
   "cell_type": "code",
   "execution_count": 1,
   "metadata": {},
   "outputs": [],
   "source": [
    "import pandas as pd\n",
    "import numpy as np\n",
    "from multiprocessing import Pool\n",
    "from functools import partial\n",
    "import glob\n",
    "import os\n",
    "import math\n",
    "import scipy\n",
    "import seaborn as sns\n",
    "import matplotlib.pyplot as plt\n",
    "import gzip\n",
    "import io\n",
    "import pickle\n",
    "import pybedtools as pbed\n",
    "import vcf\n",
    "from functools import reduce\n",
    "plt.rcParams['svg.fonttype'] = 'none'\n",
    "base_dir = \"http://bartzabel.ls.manchester.ac.uk/orozcolab/SNP2Mechanism/\""
   ]
  },
  {
   "cell_type": "code",
   "execution_count": 2,
   "metadata": {},
   "outputs": [],
   "source": [
    "metadata_hic = pd.read_csv(f\"{base_dir}/metadata/cleaned_HiC_metadata.csv\", index_col=0)"
   ]
  },
  {
   "cell_type": "code",
   "execution_count": 3,
   "metadata": {},
   "outputs": [],
   "source": [
    "CD4_apeglm_results = pd.read_csv(\".local/hic_goingtoR/apeglm_results_CD4.txt\", index_col=0)\n",
    "CD8_apeglm_results = pd.read_csv(\".local/hic_goingtoR/apeglm_results_CD8.txt\", index_col=0)\n",
    "ALL_apeglm_results = pd.read_csv(\".local/hic_goingtoR/apeglm_results_ALL.txt\", index_col=0)"
   ]
  },
  {
   "cell_type": "code",
   "execution_count": 4,
   "metadata": {},
   "outputs": [],
   "source": [
    "CD4_rownames = pd.read_csv(\".local/hic_goingtoR/hic_CD4_allele_counts.csv\", index_col=0)\n",
    "CD8_rownames = pd.read_csv(\".local/hic_goingtoR/hic_CD8_allele_counts.csv\", index_col=0)\n",
    "ALL_rownames = pd.read_csv(\".local/hic_goingtoR/hic_ALL_allele_counts.csv\", index_col=0)"
   ]
  },
  {
   "cell_type": "code",
   "execution_count": 5,
   "metadata": {},
   "outputs": [],
   "source": [
    "CD4_rownames[\"svalue\"] = CD4_apeglm_results[\"x\"].to_list()\n",
    "CD8_rownames[\"svalue\"] = CD8_apeglm_results[\"x\"].to_list()\n",
    "ALL_rownames[\"svalue\"] = ALL_apeglm_results[\"x\"].to_list()"
   ]
  },
  {
   "cell_type": "code",
   "execution_count": 6,
   "metadata": {},
   "outputs": [],
   "source": [
    "CD4_apeglm_results = CD4_rownames\n",
    "CD8_apeglm_results = CD8_rownames\n",
    "ALL_apeglm_results = ALL_rownames"
   ]
  },
  {
   "cell_type": "code",
   "execution_count": 7,
   "metadata": {},
   "outputs": [],
   "source": [
    "var_matcher = {}\n",
    "for chrom in range(1,23):\n",
    "    vcf_f = pbed.BedTool(f\"../.local/called_genotypes/HAPCUT_phased_merged_chr{chrom}_annotated_filtered.vcf.gz\")\n",
    "    loop_anchors = pbed.BedTool(\"loop_anchors_merged.bed\")\n",
    "    filtered_vcf = vcf_f.intersect(loop_anchors,u = True, header = True)\n",
    "\n",
    "    variants = vcf.Reader(filename=filtered_vcf.fn)\n",
    "\n",
    "    for record in variants:\n",
    "        var_matcher[record.ID] = record.POS"
   ]
  },
  {
   "cell_type": "code",
   "execution_count": 8,
   "metadata": {},
   "outputs": [],
   "source": [
    "CD4_apeglm_results_significant = CD4_apeglm_results[CD4_apeglm_results[\"svalue\"] < 0.10]\n",
    "CD8_apeglm_results_significant = CD8_apeglm_results[CD8_apeglm_results[\"svalue\"] < 0.10]\n",
    "ALL_apeglm_results_significant = ALL_apeglm_results[ALL_apeglm_results[\"svalue\"] < 0.10]"
   ]
  },
  {
   "cell_type": "code",
   "execution_count": 9,
   "metadata": {},
   "outputs": [],
   "source": [
    "loops_CD4 = pd.read_csv(\".local/output_counts/NRHV014XCD4_ARIMA.bedpe\", sep=\"\\t\", header=None)[[0,1,2,3,4,5,6,7]]\n",
    "loops_CD8 = pd.read_csv(\".local/output_counts/NRHV014XCD8_ARIMA.bedpe\", sep=\"\\t\", header=None)[[0,1,2,3,4,5,6,7]]"
   ]
  },
  {
   "cell_type": "code",
   "execution_count": 10,
   "metadata": {},
   "outputs": [],
   "source": [
    "output_dataframe_CD4 = pd.DataFrame(columns = \"chrA startA endA chrB startB endB loopID loopScore rsID rsCoord REF_counts ALT_counts svalue\".split())\n",
    "for key, x in CD4_apeglm_results_significant.iterrows():\n",
    "    rsID, loopID = key.split(\"_\")\n",
    "    loop = loops_CD4.iloc[int(loopID)]\n",
    "    output_dataframe_CD4.loc[key] = [loop[0],loop[1],loop[2],loop[3],loop[4],loop[5],loop[6],loop[7],rsID, var_matcher[rsID], x[\"REF_counts\"], x[\"ALT_counts\"], x[\"svalue\"]]\n",
    "output_dataframe_CD4.to_csv(\".local/results/allelic_imbalance_CD4_apeglm_results.csv\")"
   ]
  },
  {
   "cell_type": "code",
   "execution_count": 11,
   "metadata": {},
   "outputs": [],
   "source": [
    "output_dataframe_CD8 = pd.DataFrame(columns = \"chrA startA endA chrB startB endB loopID loopScore rsID rsCoord REF_counts ALT_counts svalue\".split())\n",
    "for key, x in CD8_apeglm_results_significant.iterrows():\n",
    "    rsID, loopID = key.split(\"_\")\n",
    "    loop = loops_CD8.iloc[int(loopID)]\n",
    "    output_dataframe_CD8.loc[key] = [loop[0],loop[1],loop[2],loop[3],loop[4],loop[5],loop[6],loop[7],rsID, var_matcher[rsID], x[\"REF_counts\"], x[\"ALT_counts\"], x[\"svalue\"]]\n",
    "output_dataframe_CD8.to_csv(\".local/results/allelic_imbalance_CD8_apeglm_results.csv\")\n"
   ]
  },
  {
   "cell_type": "code",
   "execution_count": 12,
   "metadata": {},
   "outputs": [],
   "source": [
    "output_dataframe_ALL = pd.DataFrame(columns = \"chrA startA endA chrB startB endB loopID loopScore rsID rsCoord REF_counts ALT_counts svalue\".split())\n",
    "for key, x in ALL_apeglm_results_significant.iterrows():\n",
    "    rsID, loopID = key.split(\"_\")\n",
    "    loop = loops_CD4.iloc[int(loopID)]\n",
    "    output_dataframe_ALL.loc[key] = [loop[0],loop[1],loop[2],loop[3],loop[4],loop[5],loop[6],loop[7],rsID, var_matcher[rsID], x[\"REF_counts\"], x[\"ALT_counts\"], x[\"svalue\"]]\n",
    "output_dataframe_ALL.to_csv(\".local/results/allelic_imbalance_ALL_apeglm_results.csv\")"
   ]
  },
  {
   "cell_type": "markdown",
   "metadata": {},
   "source": [
    "## make venn diagram of results"
   ]
  },
  {
   "cell_type": "code",
   "execution_count": 2,
   "metadata": {},
   "outputs": [],
   "source": [
    "output_dataframe_CD4 = pd.read_csv(\".local/results/allelic_imbalance_CD4_apeglm_results.csv\", index_col=0)\n",
    "output_dataframe_CD8 = pd.read_csv(\".local/results/allelic_imbalance_CD8_apeglm_results.csv\", index_col=0)\n",
    "output_dataframe_ALL = pd.read_csv(\".local/results/allelic_imbalance_ALL_apeglm_results.csv\", index_col=0)"
   ]
  },
  {
   "cell_type": "code",
   "execution_count": 3,
   "metadata": {},
   "outputs": [
    {
     "data": {
      "image/png": "[encoded data removed]",
      "text/plain": [
       "<Figure size 400x400 with 1 Axes>"
      ]
     },
     "metadata": {},
     "output_type": "display_data"
    }
   ],
   "source": [
    "from matplotlib import pyplot as plt\n",
    "from matplotlib_venn import venn3\n",
    "\n",
    "# Define the sets\n",
    "set1 = set(output_dataframe_CD4[\"loopID\"].to_list())\n",
    "set2 = set(output_dataframe_CD8[\"loopID\"].to_list())\n",
    "set3 = set(output_dataframe_ALL[\"loopID\"].to_list())\n",
    "\n",
    "fig, ax = plt.subplots(1,1,figsize=(4,4))\n",
    "# Create the Venn diagram\n",
    "v = venn3([set1, set2, set3], set_colors=[\"navy\",\"tomato\", \"green\"],set_labels=('CD4', 'CD8', \"ALL\"), ax=ax)\n",
    "\n",
    "# Show the plot\n",
    "fig.savefig(f\"figures/loops_allele_associated.svg\", dpi = 600)"
   ]
  },
  {
   "cell_type": "code",
   "execution_count": null,
   "metadata": {},
   "outputs": [],
   "source": []
  }
 ],
 "metadata": {
  "kernelspec": {
   "display_name": "basic",
   "language": "python",
   "name": "python3"
  },
  "language_info": {
   "codemirror_mode": {
    "name": "ipython",
    "version": 3
   },
   "file_extension": ".py",
   "mimetype": "text/x-python",
   "name": "python",
   "nbconvert_exporter": "python",
   "pygments_lexer": "ipython3",
   "version": "3.10.12"
  }
 },
 "nbformat": 4,
 "nbformat_minor": 2
}
