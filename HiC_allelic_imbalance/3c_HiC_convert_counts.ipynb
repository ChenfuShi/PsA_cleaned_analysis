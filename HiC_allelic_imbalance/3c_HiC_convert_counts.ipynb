{
 "cells": [
  {
   "cell_type": "markdown",
   "metadata": {},
   "source": [
    "## load back the results from apeglm and add the old stats that were generated"
   ]
  },
  {
   "cell_type": "code",
   "execution_count": 7,
   "metadata": {},
   "outputs": [],
   "source": [
    "import pandas as pd\n",
    "import numpy as np\n",
    "from multiprocessing import Pool\n",
    "from functools import partial\n",
    "import glob\n",
    "import os\n",
    "import math\n",
    "import scipy\n",
    "import seaborn as sns\n",
    "import matplotlib.pyplot as plt\n",
    "import gzip\n",
    "import io\n",
    "import pickle\n",
    "import pybedtools as pbed\n",
    "import vcf\n",
    "from functools import reduce\n",
    "plt.rcParams['svg.fonttype'] = 'none'\n",
    "base_dir = \"http://bartzabel.ls.manchester.ac.uk/orozcolab/SNP2Mechanism/\""
   ]
  },
  {
   "cell_type": "code",
   "execution_count": 8,
   "metadata": {},
   "outputs": [],
   "source": [
    "metadata_hic = pd.read_csv(f\"{base_dir}/metadata/cleaned_HiC_metadata.csv\", index_col=0)"
   ]
  },
  {
   "cell_type": "code",
   "execution_count": 9,
   "metadata": {},
   "outputs": [],
   "source": [
    "CD4_apeglm_results = pd.read_csv(\".local/hic_goingtoR/apeglm_results_CD4.txt\", index_col=0)\n",
    "CD8_apeglm_results = pd.read_csv(\".local/hic_goingtoR/apeglm_results_CD8.txt\", index_col=0)\n",
    "ALL_apeglm_results = pd.read_csv(\".local/hic_goingtoR/apeglm_results_ALL.txt\", index_col=0)"
   ]
  },
  {
   "cell_type": "code",
   "execution_count": 10,
   "metadata": {},
   "outputs": [],
   "source": [
    "CD4_rownames = pd.read_csv(\".local/hic_goingtoR/hic_CD4_allele_counts.csv\", index_col=0)\n",
    "CD8_rownames = pd.read_csv(\".local/hic_goingtoR/hic_CD8_allele_counts.csv\", index_col=0)\n",
    "ALL_rownames = pd.read_csv(\".local/hic_goingtoR/hic_ALL_allele_counts.csv\", index_col=0)"
   ]
  },
  {
   "cell_type": "code",
   "execution_count": 11,
   "metadata": {},
   "outputs": [],
   "source": [
    "CD4_rownames[\"svalue\"] = CD4_apeglm_results[\"x\"].to_list()\n",
    "CD8_rownames[\"svalue\"] = CD8_apeglm_results[\"x\"].to_list()\n",
    "ALL_rownames[\"svalue\"] = ALL_apeglm_results[\"x\"].to_list()"
   ]
  },
  {
   "cell_type": "code",
   "execution_count": 12,
   "metadata": {},
   "outputs": [],
   "source": [
    "CD4_apeglm_results = CD4_rownames\n",
    "CD8_apeglm_results = CD8_rownames\n",
    "ALL_apeglm_results = ALL_rownames"
   ]
  },
  {
   "cell_type": "code",
   "execution_count": 17,
   "metadata": {},
   "outputs": [],
   "source": [
    "var_matcher = {}\n",
    "for chrom in range(1,23):\n",
    "    vcf_f = pbed.BedTool(f\"../.local/called_genotypes/HAPCUT_phased_merged_chr{chrom}_annotated_filtered.vcf.gz\")\n",
    "    loop_anchors = pbed.BedTool(\"loop_anchors_merged.bed\")\n",
    "    filtered_vcf = vcf_f.intersect(loop_anchors,u = True, header = True)\n",
    "\n",
    "    variants = vcf.Reader(filename=filtered_vcf.fn)\n",
    "\n",
    "    for record in variants:\n",
    "        var_matcher[record.ID] = record.POS"
   ]
  },
  {
   "cell_type": "code",
   "execution_count": 18,
   "metadata": {},
   "outputs": [],
   "source": [
    "CD4_apeglm_results_significant = CD4_apeglm_results[CD4_apeglm_results[\"svalue\"] < 0.10]\n",
    "CD8_apeglm_results_significant = CD8_apeglm_results[CD8_apeglm_results[\"svalue\"] < 0.10]\n",
    "ALL_apeglm_results_significant = ALL_apeglm_results[ALL_apeglm_results[\"svalue\"] < 0.10]"
   ]
  },
  {
   "cell_type": "code",
   "execution_count": 19,
   "metadata": {},
   "outputs": [],
   "source": [
    "loops_CD4 = pd.read_csv(\".local/output_counts/NRHV014XCD4_ARIMA.bedpe\", sep=\"\\t\", header=None)[[0,1,2,3,4,5,6,7]]\n",
    "loops_CD8 = pd.read_csv(\".local/output_counts/NRHV014XCD8_ARIMA.bedpe\", sep=\"\\t\", header=None)[[0,1,2,3,4,5,6,7]]"
   ]
  },
  {
   "cell_type": "code",
   "execution_count": 20,
   "metadata": {},
   "outputs": [],
   "source": [
    "output_dataframe_CD4 = pd.DataFrame(columns = \"chrA startA endA chrB startB endB loopID loopScore rsID rsCoord REF_counts ALT_counts svalue\".split())\n",
    "for key, x in CD4_apeglm_results_significant.iterrows():\n",
    "    rsID, loopID = key.split(\"_\")\n",
    "    loop = loops_CD4.iloc[int(loopID)]\n",
    "    output_dataframe_CD4.loc[key] = [loop[0],loop[1],loop[2],loop[3],loop[4],loop[5],loopID,loop[6],rsID, var_matcher[rsID], x[\"REF_counts\"], x[\"ALT_counts\"], x[\"svalue\"]]\n",
    "output_dataframe_CD4.to_csv(\".local/results/allelic_imbalance_CD4_apeglm_results.csv\")"
   ]
  },
  {
   "cell_type": "code",
   "execution_count": 21,
   "metadata": {},
   "outputs": [],
   "source": [
    "output_dataframe_CD8 = pd.DataFrame(columns = \"chrA startA endA chrB startB endB loopID loopScore rsID rsCoord REF_counts ALT_counts svalue\".split())\n",
    "for key, x in CD8_apeglm_results_significant.iterrows():\n",
    "    rsID, loopID = key.split(\"_\")\n",
    "    loop = loops_CD8.iloc[int(loopID)]\n",
    "    output_dataframe_CD8.loc[key] = [loop[0],loop[1],loop[2],loop[3],loop[4],loop[5],loopID,loop[6],rsID, var_matcher[rsID], x[\"REF_counts\"], x[\"ALT_counts\"], x[\"svalue\"]]\n",
    "output_dataframe_CD8.to_csv(\".local/results/allelic_imbalance_CD8_apeglm_results.csv\")\n"
   ]
  },
  {
   "cell_type": "code",
   "execution_count": 22,
   "metadata": {},
   "outputs": [],
   "source": [
    "output_dataframe_ALL = pd.DataFrame(columns = \"chrA startA endA chrB startB endB loopID loopScore rsID rsCoord REF_counts ALT_counts svalue\".split())\n",
    "for key, x in ALL_apeglm_results_significant.iterrows():\n",
    "    rsID, loopID = key.split(\"_\")\n",
    "    loop = loops_CD4.iloc[int(loopID)]\n",
    "    output_dataframe_ALL.loc[key] = [loop[0],loop[1],loop[2],loop[3],loop[4],loop[5],loopID,loop[6],rsID, var_matcher[rsID], x[\"REF_counts\"], x[\"ALT_counts\"], x[\"svalue\"]]\n",
    "output_dataframe_ALL.to_csv(\".local/results/allelic_imbalance_ALL_apeglm_results.csv\")"
   ]
  },
  {
   "cell_type": "markdown",
   "metadata": {},
   "source": [
    "## make venn diagram of results"
   ]
  },
  {
   "cell_type": "code",
   "execution_count": 23,
   "metadata": {},
   "outputs": [],
   "source": [
    "output_dataframe_CD4 = pd.read_csv(\".local/results/allelic_imbalance_CD4_apeglm_results.csv\", index_col=0)\n",
    "output_dataframe_CD8 = pd.read_csv(\".local/results/allelic_imbalance_CD8_apeglm_results.csv\", index_col=0)\n",
    "output_dataframe_ALL = pd.read_csv(\".local/results/allelic_imbalance_ALL_apeglm_results.csv\", index_col=0)"
   ]
  },
  {
   "cell_type": "code",
   "execution_count": 24,
   "metadata": {},
   "outputs": [
    {
     "data": {
      "text/html": [
       "<div>\n",
       "<style scoped>\n",
       "    .dataframe tbody tr th:only-of-type {\n",
       "        vertical-align: middle;\n",
       "    }\n",
       "\n",
       "    .dataframe tbody tr th {\n",
       "        vertical-align: top;\n",
       "    }\n",
       "\n",
       "    .dataframe thead th {\n",
       "        text-align: right;\n",
       "    }\n",
       "</style>\n",
       "<table border=\"1\" class=\"dataframe\">\n",
       "  <thead>\n",
       "    <tr style=\"text-align: right;\">\n",
       "      <th></th>\n",
       "      <th>0</th>\n",
       "      <th>1</th>\n",
       "      <th>2</th>\n",
       "      <th>3</th>\n",
       "      <th>4</th>\n",
       "      <th>5</th>\n",
       "      <th>6</th>\n",
       "      <th>7</th>\n",
       "    </tr>\n",
       "  </thead>\n",
       "  <tbody>\n",
       "    <tr>\n",
       "      <th>0</th>\n",
       "      <td>chr1</td>\n",
       "      <td>3900000</td>\n",
       "      <td>3905000</td>\n",
       "      <td>chr1</td>\n",
       "      <td>5387500</td>\n",
       "      <td>5390000</td>\n",
       "      <td>5.564770e-03</td>\n",
       "      <td>2.111213</td>\n",
       "    </tr>\n",
       "    <tr>\n",
       "      <th>1</th>\n",
       "      <td>chr1</td>\n",
       "      <td>3910000</td>\n",
       "      <td>3912500</td>\n",
       "      <td>chr1</td>\n",
       "      <td>5447500</td>\n",
       "      <td>5450000</td>\n",
       "      <td>3.198543e-03</td>\n",
       "      <td>2.111213</td>\n",
       "    </tr>\n",
       "    <tr>\n",
       "      <th>2</th>\n",
       "      <td>chr1</td>\n",
       "      <td>3910000</td>\n",
       "      <td>3912500</td>\n",
       "      <td>chr1</td>\n",
       "      <td>5480000</td>\n",
       "      <td>5482500</td>\n",
       "      <td>2.420484e-04</td>\n",
       "      <td>2.111213</td>\n",
       "    </tr>\n",
       "    <tr>\n",
       "      <th>3</th>\n",
       "      <td>chr1</td>\n",
       "      <td>3910000</td>\n",
       "      <td>3912500</td>\n",
       "      <td>chr1</td>\n",
       "      <td>5510000</td>\n",
       "      <td>5512500</td>\n",
       "      <td>3.859064e-04</td>\n",
       "      <td>2.111213</td>\n",
       "    </tr>\n",
       "    <tr>\n",
       "      <th>4</th>\n",
       "      <td>chr1</td>\n",
       "      <td>3910000</td>\n",
       "      <td>3912500</td>\n",
       "      <td>chr1</td>\n",
       "      <td>5742500</td>\n",
       "      <td>5745000</td>\n",
       "      <td>6.000093e-09</td>\n",
       "      <td>2.111213</td>\n",
       "    </tr>\n",
       "    <tr>\n",
       "      <th>...</th>\n",
       "      <td>...</td>\n",
       "      <td>...</td>\n",
       "      <td>...</td>\n",
       "      <td>...</td>\n",
       "      <td>...</td>\n",
       "      <td>...</td>\n",
       "      <td>...</td>\n",
       "      <td>...</td>\n",
       "    </tr>\n",
       "    <tr>\n",
       "      <th>106157</th>\n",
       "      <td>chrY</td>\n",
       "      <td>21172500</td>\n",
       "      <td>21175000</td>\n",
       "      <td>chrY</td>\n",
       "      <td>21257500</td>\n",
       "      <td>21260000</td>\n",
       "      <td>7.689203e-03</td>\n",
       "      <td>2.111213</td>\n",
       "    </tr>\n",
       "    <tr>\n",
       "      <th>106158</th>\n",
       "      <td>chrY</td>\n",
       "      <td>21182500</td>\n",
       "      <td>21185000</td>\n",
       "      <td>chrY</td>\n",
       "      <td>21255000</td>\n",
       "      <td>21257500</td>\n",
       "      <td>1.268614e-02</td>\n",
       "      <td>3.675835</td>\n",
       "    </tr>\n",
       "    <tr>\n",
       "      <th>106159</th>\n",
       "      <td>chrY</td>\n",
       "      <td>21187500</td>\n",
       "      <td>21190000</td>\n",
       "      <td>chrY</td>\n",
       "      <td>21250000</td>\n",
       "      <td>21252500</td>\n",
       "      <td>1.376789e-02</td>\n",
       "      <td>2.111213</td>\n",
       "    </tr>\n",
       "    <tr>\n",
       "      <th>106160</th>\n",
       "      <td>chrY</td>\n",
       "      <td>21190000</td>\n",
       "      <td>21192500</td>\n",
       "      <td>chrY</td>\n",
       "      <td>21230000</td>\n",
       "      <td>21232500</td>\n",
       "      <td>2.364235e-02</td>\n",
       "      <td>3.200000</td>\n",
       "    </tr>\n",
       "    <tr>\n",
       "      <th>106161</th>\n",
       "      <td>chrY</td>\n",
       "      <td>22240000</td>\n",
       "      <td>22242500</td>\n",
       "      <td>chrY</td>\n",
       "      <td>22275000</td>\n",
       "      <td>22277500</td>\n",
       "      <td>4.315619e-02</td>\n",
       "      <td>2.111213</td>\n",
       "    </tr>\n",
       "  </tbody>\n",
       "</table>\n",
       "<p>106162 rows × 8 columns</p>\n",
       "</div>"
      ],
      "text/plain": [
       "           0         1         2     3         4         5             6  \\\n",
       "0       chr1   3900000   3905000  chr1   5387500   5390000  5.564770e-03   \n",
       "1       chr1   3910000   3912500  chr1   5447500   5450000  3.198543e-03   \n",
       "2       chr1   3910000   3912500  chr1   5480000   5482500  2.420484e-04   \n",
       "3       chr1   3910000   3912500  chr1   5510000   5512500  3.859064e-04   \n",
       "4       chr1   3910000   3912500  chr1   5742500   5745000  6.000093e-09   \n",
       "...      ...       ...       ...   ...       ...       ...           ...   \n",
       "106157  chrY  21172500  21175000  chrY  21257500  21260000  7.689203e-03   \n",
       "106158  chrY  21182500  21185000  chrY  21255000  21257500  1.268614e-02   \n",
       "106159  chrY  21187500  21190000  chrY  21250000  21252500  1.376789e-02   \n",
       "106160  chrY  21190000  21192500  chrY  21230000  21232500  2.364235e-02   \n",
       "106161  chrY  22240000  22242500  chrY  22275000  22277500  4.315619e-02   \n",
       "\n",
       "               7  \n",
       "0       2.111213  \n",
       "1       2.111213  \n",
       "2       2.111213  \n",
       "3       2.111213  \n",
       "4       2.111213  \n",
       "...          ...  \n",
       "106157  2.111213  \n",
       "106158  3.675835  \n",
       "106159  2.111213  \n",
       "106160  3.200000  \n",
       "106161  2.111213  \n",
       "\n",
       "[106162 rows x 8 columns]"
      ]
     },
     "execution_count": 24,
     "metadata": {},
     "output_type": "execute_result"
    }
   ],
   "source": [
    "loops_CD8"
   ]
  },
  {
   "cell_type": "code",
   "execution_count": 30,
   "metadata": {},
   "outputs": [
    {
     "data": {
      "text/plain": [
       "1132"
      ]
     },
     "execution_count": 30,
     "metadata": {},
     "output_type": "execute_result"
    }
   ],
   "source": [
    "len(set(output_dataframe_ALL[\"loopID\"].to_list() + output_dataframe_CD8[\"loopID\"].to_list() + output_dataframe_CD4[\"loopID\"].to_list()))\n"
   ]
  },
  {
   "cell_type": "code",
   "execution_count": 26,
   "metadata": {},
   "outputs": [
    {
     "data": {
      "image/png": "[encoded data removed]",
      "text/plain": [
       "<Figure size 400x400 with 1 Axes>"
      ]
     },
     "metadata": {},
     "output_type": "display_data"
    }
   ],
   "source": [
    "from matplotlib import pyplot as plt\n",
    "from matplotlib_venn import venn3\n",
    "\n",
    "# Define the sets\n",
    "set1 = set(output_dataframe_CD4[\"loopID\"].to_list())\n",
    "set2 = set(output_dataframe_CD8[\"loopID\"].to_list())\n",
    "set3 = set(output_dataframe_ALL[\"loopID\"].to_list())\n",
    "\n",
    "fig, ax = plt.subplots(1,1,figsize=(4,4))\n",
    "# Create the Venn diagram\n",
    "v = venn3([set1, set2, set3], set_colors=[\"navy\",\"tomato\", \"green\"],set_labels=('CD4', 'CD8', \"ALL\"), ax=ax)\n",
    "\n",
    "# Show the plot\n",
    "fig.savefig(f\"figures/loops_allele_associated.svg\", dpi = 600)"
   ]
  },
  {
   "cell_type": "code",
   "execution_count": null,
   "metadata": {},
   "outputs": [],
   "source": []
  }
 ],
 "metadata": {
  "kernelspec": {
   "display_name": "basic",
   "language": "python",
   "name": "python3"
  },
  "language_info": {
   "codemirror_mode": {
    "name": "ipython",
    "version": 3
   },
   "file_extension": ".py",
   "mimetype": "text/x-python",
   "name": "python",
   "nbconvert_exporter": "python",
   "pygments_lexer": "ipython3",
   "version": "3.10.12"
  }
 },
 "nbformat": 4,
 "nbformat_minor": 2
}
