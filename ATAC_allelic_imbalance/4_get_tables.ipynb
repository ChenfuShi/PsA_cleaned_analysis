{
 "cells": [
  {
   "attachments": {},
   "cell_type": "markdown",
   "metadata": {},
   "source": [
    "# prepare the tables that can be used to annotate GWAS studies\n",
    "\n",
    "this essentially adds the columns needed to the files"
   ]
  },
  {
   "cell_type": "code",
   "execution_count": 6,
   "metadata": {},
   "outputs": [
    {
     "name": "stdout",
     "output_type": "stream",
     "text": [
      "INFO: Pandarallel will run on 28 workers.\n",
      "INFO: Pandarallel will use Memory file system to transfer data between the main process and workers.\n"
     ]
    }
   ],
   "source": [
    "import pandas as pd\n",
    "import numpy as np\n",
    "import hicstraw \n",
    "from multiprocessing import Pool\n",
    "import subprocess\n",
    "from functools import partial\n",
    "import glob\n",
    "import os\n",
    "import plotly.express as px\n",
    "import math\n",
    "import matplotlib.pyplot as plt\n",
    "from matplotlib import colors\n",
    "from pandarallel import pandarallel\n",
    "import cooler\n",
    "import cooltools\n",
    "import pybedtools as pbed\n",
    "pandarallel.initialize()\n",
    "import scipy\n",
    "from statsmodels.stats import multitest\n",
    "import statsmodels.api as sm\n",
    "import statsmodels.formula.api as smf\n",
    "import plotly.io as pio\n",
    "import seaborn as sns\n",
    "import gzip\n",
    "import io\n",
    "import pickle\n",
    "from functools import reduce\n",
    "\n",
    "os.makedirs(\"/mnt/iusers01/jw01/mdefscs4/scratch/temp_pybedtools/\", exist_ok = True)\n",
    "pbed.helpers.set_tempdir(\"/mnt/iusers01/jw01/mdefscs4/scratch/temp_pybedtools/\")\n",
    "bed_genome_file = \"/mnt/iusers01/jw01/mdefscs4/hg38.genome\"\n",
    "\n",
    "plt.rcParams['svg.fonttype'] = 'none'\n",
    "\n",
    "base_dir = \"/mnt/jw01-aruk-home01/projects/psa_functional_genomics/PsA_cleaned_analysis\""
   ]
  },
  {
   "attachments": {},
   "cell_type": "markdown",
   "metadata": {},
   "source": [
    "## load all the preprocessed data"
   ]
  },
  {
   "cell_type": "code",
   "execution_count": null,
   "metadata": {},
   "outputs": [],
   "source": [
    "all_SNPs_CD4_all = pickle.load(open(f\"{base_dir}/ATAC_allelic_imbalance/combined_p_vals_files/result_all_results_CD4_all.pkl\", \"rb\"))\n",
    "all_SNPs_CD8_all = pickle.load(open(f\"{base_dir}/ATAC_allelic_imbalance/combined_p_vals_files/result_all_results_CD8_all.pkl\", \"rb\"))\n",
    "all_SNPs_all = pickle.load(open(f\"{base_dir}/ATAC_allelic_imbalance/combined_p_vals_files/result_all_results.pkl\", \"rb\"))"
   ]
  },
  {
   "attachments": {},
   "cell_type": "markdown",
   "metadata": {},
   "source": [
    "## add FDR correction column"
   ]
  },
  {
   "cell_type": "code",
   "execution_count": 3,
   "metadata": {},
   "outputs": [],
   "source": [
    "def add_fdr(df):\n",
    "    df[\"corrected_p_val_greater\"] = multitest.multipletests(df[\"combined_p_val_greater\"], method = \"fdr_bh\",alpha = 0.1)[1]\n",
    "    df[\"corrected_p_val_less\"] = multitest.multipletests(df[\"combined_p_val_less\"], method = \"fdr_bh\",alpha = 0.1)[1]\n",
    "for i in [all_SNPs_CD4_all,all_SNPs_CD8_all,all_SNPs_all]:\n",
    "    add_fdr(i)"
   ]
  },
  {
   "attachments": {},
   "cell_type": "markdown",
   "metadata": {},
   "source": [
    "## add TF sites\n",
    "these are JASPAR motifs and remap2022 peaks"
   ]
  },
  {
   "cell_type": "code",
   "execution_count": 4,
   "metadata": {},
   "outputs": [],
   "source": [
    "def add_motifs(df):\n",
    "    df_interesting = df[[\"CHROM\", \"POS\"]].copy()\n",
    "\n",
    "    # Add START and END columns\n",
    "    df_interesting[\"START\"] = df_interesting[\"POS\"] - 1\n",
    "    df_interesting[\"END\"] = df_interesting[\"POS\"] + 1\n",
    "\n",
    "    # Create a BedTool object from the DataFrame\n",
    "    bed_interesting = pbed.BedTool.from_dataframe(df_interesting[[\"CHROM\", \"START\",\"END\", \"POS\"]])\n",
    "\n",
    "    # Load the other bed file as a BedTool object\n",
    "    other_bed_file = pbed.BedTool(\"/mnt/jw01-aruk-home01/projects/psa_functional_genomics/NEW_references/TF_sites/ReMap/remap2022_nr_macs2_hg38_v1_0.bed.gz\")\n",
    "\n",
    "    # Intersect bed_interesting with the other bed file\n",
    "    intersected_bed = bed_interesting.intersect(other_bed_file, wa=True, wb=True)\n",
    "\n",
    "    # Convert the intersected BedTool object back to a DataFrame\n",
    "    intersected_df = intersected_bed.to_dataframe(header = None, disable_auto_names = True)\n",
    "    intersected_df.columns = \"CHROM START END POS chr_ann start_ann end_ann annotation n_ann strand_ann center_s center_e color\".split()\n",
    "    # Apply your specific function to the intersected_df\n",
    "    def get_protein_set(group):\n",
    "        protein_set = set()\n",
    "        for annotation in group['annotation']:\n",
    "            protein = annotation.split(':')[0]\n",
    "            protein_set.add(protein)\n",
    "        return protein_set\n",
    "\n",
    "    # Group the dataframe and apply the function to each group\n",
    "    grouped = intersected_df.groupby(['CHROM', 'START', 'END', 'POS']).apply(get_protein_set)\n",
    "\n",
    "    # Construct a new dataframe with the results\n",
    "    intersected_df = pd.DataFrame(grouped, columns=['TF_remap']).reset_index()\n",
    "\n",
    "    # Drop the START and END columns from the intersected_df\n",
    "    intersected_df = intersected_df.drop([\"START\", \"END\"], axis=1)\n",
    "\n",
    "    # Merge the result back with the original DataFrame\n",
    "    merged_df = pd.merge(df, intersected_df, on=[\"CHROM\", \"POS\"], how=\"left\")\n",
    "    return merged_df\n",
    "\n",
    "pool = Pool(processes=3)\n",
    "all_SNPs_CD4_all, all_SNPs_CD8_all, all_SNPs_all = pool.map(add_motifs, [all_SNPs_CD4_all,all_SNPs_CD8_all,all_SNPs_all])\n",
    "pool.close()\n",
    "pool.join()\n"
   ]
  },
  {
   "cell_type": "code",
   "execution_count": null,
   "metadata": {},
   "outputs": [],
   "source": [
    "def add_motifs_jaspar(df):\n",
    "    df_interesting = df[[\"CHROM\", \"POS\"]].copy()\n",
    "\n",
    "    # Add START and END columns\n",
    "    df_interesting[\"START\"] = df_interesting[\"POS\"] - 50\n",
    "    df_interesting[\"END\"] = df_interesting[\"POS\"] + 50\n",
    "\n",
    "    # Create a BedTool object from the DataFrame\n",
    "    bed_interesting = pbed.BedTool.from_dataframe(df_interesting[[\"CHROM\", \"START\",\"END\", \"POS\"]]).sort()\n",
    "\n",
    "    # Load the other bed file as a BedTool object\n",
    "    other_bed_file = pbed.BedTool(\"/mnt/jw01-aruk-home01/projects/psa_functional_genomics/NEW_references/TF_sites/jaspar2022/JASPAR2022_hg38_score400.bed.gz\")\n",
    "\n",
    "    # Intersect bed_interesting with the other bed file\n",
    "    intersected_bed = bed_interesting.intersect(other_bed_file, wa=True, wb=True, sorted = True)\n",
    "\n",
    "    # Convert the intersected BedTool object back to a DataFrame\n",
    "    intersected_df = intersected_bed.to_dataframe(header = None, disable_auto_names = True)\n",
    "    intersected_df.columns = \"CHROM START END POS chr_ann start_ann end_ann annotation score strand_ann protein\".split()\n",
    "    # Apply your specific function to the intersected_df\n",
    "    def get_protein_set(group):\n",
    "        protein_set = set()\n",
    "        for annotation in group['protein']:\n",
    "            protein_set.add(annotation)\n",
    "        return protein_set\n",
    "\n",
    "    # Group the dataframe and apply the function to each group\n",
    "    grouped = intersected_df.groupby(['CHROM', 'START', 'END', 'POS']).apply(get_protein_set)\n",
    "\n",
    "    # Construct a new dataframe with the results\n",
    "    intersected_df = pd.DataFrame(grouped, columns=['TF_JASPAR']).reset_index()\n",
    "\n",
    "    # Drop the START and END columns from the intersected_df\n",
    "    intersected_df = intersected_df.drop([\"START\", \"END\"], axis=1)\n",
    "\n",
    "    # Merge the result back with the original DataFrame\n",
    "    merged_df = pd.merge(df, intersected_df, on=[\"CHROM\", \"POS\"], how=\"left\")\n",
    "    return merged_df\n",
    "\n",
    "pool = Pool(processes=3)\n",
    "all_SNPs_CD4_all, all_SNPs_CD8_all, all_SNPs_all = pool.map(add_motifs_jaspar, [all_SNPs_CD4_all,all_SNPs_CD8_all,all_SNPs_all])\n",
    "pool.close()\n",
    "pool.join()\n"
   ]
  },
  {
   "attachments": {},
   "cell_type": "markdown",
   "metadata": {},
   "source": [
    "## add eQTLs\n",
    "using eQTLgen dataset"
   ]
  },
  {
   "cell_type": "code",
   "execution_count": 9,
   "metadata": {},
   "outputs": [],
   "source": [
    "# load eQTLgen information\n",
    "file_eqtlgen = \"/mnt/jw01-aruk-home01/projects/psa_functional_genomics/NEW_references/eQTL/eQTLgen/2019-12-11-cis-eQTLsFDR0.05-ProbeLevel-CohortInfoRemoved-BonferroniAdded.txt.gz\"\n",
    "eqtlgen_database = pd.read_csv(file_eqtlgen,sep=\"\\t\")"
   ]
  },
  {
   "cell_type": "code",
   "execution_count": 10,
   "metadata": {},
   "outputs": [],
   "source": [
    "eqtlgen_database[\"Pvalue\"] = -np.log10(eqtlgen_database[\"Pvalue\"])\n",
    "eqtlgen_database[\"val\"] = eqtlgen_database[\"GeneSymbol\"].astype(str) + \": \" + eqtlgen_database[\"Pvalue\"].round(1).astype(str)\n",
    "eqtlgen_database = eqtlgen_database.sort_values(by=\"Pvalue\",ascending=False)"
   ]
  },
  {
   "cell_type": "code",
   "execution_count": 19,
   "metadata": {},
   "outputs": [],
   "source": [
    "eqtlgen_genes = eqtlgen_database[eqtlgen_database[\"SNP\"].isin(all_SNPs_all[\"ID\"].unique())].groupby(\"SNP\").agg({\"Gene\":list, \"GeneSymbol\": list, \"val\":list})\n",
    "eqtlgen_genes.columns = \"eQTLgen_gene eQTLgen_symbol eQTLgen_pval\".split()\n",
    "all_SNPs_all = all_SNPs_all.merge(eqtlgen_genes.reset_index(), left_on = \"ID\", right_on = \"SNP\", how = \"left\").drop(\"SNP\", axis = 1)\n",
    "\n",
    "eqtlgen_genes = eqtlgen_database[eqtlgen_database[\"SNP\"].isin(all_SNPs_CD4_all[\"ID\"].unique())].groupby(\"SNP\").agg({\"Gene\":list, \"GeneSymbol\": list, \"val\":list})\n",
    "eqtlgen_genes.columns = \"eQTLgen_gene eQTLgen_symbol eQTLgen_pval\".split()\n",
    "all_SNPs_CD4_all = all_SNPs_CD4_all.merge(eqtlgen_genes.reset_index(), left_on = \"ID\", right_on = \"SNP\", how = \"left\").drop(\"SNP\", axis = 1)\n",
    "\n",
    "eqtlgen_genes = eqtlgen_database[eqtlgen_database[\"SNP\"].isin(all_SNPs_CD8_all[\"ID\"].unique())].groupby(\"SNP\").agg({\"Gene\":list, \"GeneSymbol\": list, \"val\":list})\n",
    "eqtlgen_genes.columns = \"eQTLgen_gene eQTLgen_symbol eQTLgen_pval\".split()\n",
    "all_SNPs_CD8_all = all_SNPs_CD8_all.merge(eqtlgen_genes.reset_index(), left_on = \"ID\", right_on = \"SNP\", how = \"left\").drop(\"SNP\", axis = 1)"
   ]
  },
  {
   "cell_type": "code",
   "execution_count": null,
   "metadata": {},
   "outputs": [],
   "source": []
  },
  {
   "attachments": {},
   "cell_type": "markdown",
   "metadata": {},
   "source": [
    "## add if allele specific loop"
   ]
  },
  {
   "cell_type": "code",
   "execution_count": 4,
   "metadata": {},
   "outputs": [],
   "source": [
    "output_dataframe_CD8 = pd.read_csv(f\"{base_dir}/HiC_allelic_imbalance/output_dataframe_CD8.csv\")\n",
    "output_dataframe_CD4 = pd.read_csv(f\"{base_dir}/HiC_allelic_imbalance/output_dataframe_CD4.csv\")"
   ]
  },
  {
   "cell_type": "code",
   "execution_count": 5,
   "metadata": {},
   "outputs": [],
   "source": [
    "df = all_SNPs_all.copy()\n",
    "# df = df.drop(df[df[\"ID\"] == \".\"].index)"
   ]
  },
  {
   "cell_type": "code",
   "execution_count": 6,
   "metadata": {},
   "outputs": [],
   "source": [
    "def add_loop(df):\n",
    "    grouped_CD4 = output_dataframe_CD4.groupby('rsID').agg({'corrected_Pval_greater': 'min', 'corrected_Pval_less': 'min'}).reset_index()\n",
    "    grouped_CD8 = output_dataframe_CD8.groupby('rsID').agg({'corrected_Pval_greater': 'min', 'corrected_Pval_less': 'min'}).reset_index()\n",
    "\n",
    "    # Merge the two dataframes based on the \"ID\" column in all_SNPs_all and the \"rsID\" column in grouped_CD4\n",
    "    merged_df = df.merge(grouped_CD4[[\"rsID\",'corrected_Pval_greater', 'corrected_Pval_less']], left_on='ID', right_on='rsID', how='left')\n",
    "\n",
    "    # Create a new column 'lowest_corrected_Pval' which contains the lowest value between 'corrected_Pval_greater' and 'corrected_Pval_less' columns\n",
    "    merged_df['CD4_lowest_allele_specific'] = merged_df[['corrected_Pval_greater', 'corrected_Pval_less']].min(axis=1)\n",
    "\n",
    "    # Drop the unnecessary columns from the merged dataframe and store the result in all_SNPs_all\n",
    "    df = merged_df.drop(columns=['rsID', 'corrected_Pval_greater', 'corrected_Pval_less'])\n",
    "\n",
    "    # Merge the two dataframes based on the \"ID\" column in all_SNPs_all and the \"rsID\" column in grouped_CD4\n",
    "    merged_df = df.merge(grouped_CD8[[\"rsID\",'corrected_Pval_greater', 'corrected_Pval_less']], left_on='ID', right_on='rsID', how='left')\n",
    "\n",
    "    # Create a new column 'lowest_corrected_Pval' which contains the lowest value between 'corrected_Pval_greater' and 'corrected_Pval_less' columns\n",
    "    merged_df['CD8_lowest_allele_specific'] = merged_df[['corrected_Pval_greater', 'corrected_Pval_less']].min(axis=1)\n",
    "\n",
    "    # Drop the unnecessary columns from the merged dataframe and store the result in all_SNPs_all\n",
    "    df = merged_df.drop(columns=['rsID', 'corrected_Pval_greater', 'corrected_Pval_less'])\n",
    "    return df"
   ]
  },
  {
   "cell_type": "code",
   "execution_count": 7,
   "metadata": {},
   "outputs": [],
   "source": [
    "pool = Pool(processes=3)\n",
    "all_SNPs_CD4_all, all_SNPs_CD8_all, all_SNPs_all = pool.map(add_loop, [all_SNPs_CD4_all,all_SNPs_CD8_all,all_SNPs_all])\n",
    "pool.close()\n",
    "pool.join()"
   ]
  },
  {
   "attachments": {},
   "cell_type": "markdown",
   "metadata": {},
   "source": [
    "## add ATAC_corr_scores\n",
    "this only works because we have precomputed all the correlations between ATAC peak and Hi-C. if you don't have this don't run the next cells"
   ]
  },
  {
   "cell_type": "code",
   "execution_count": null,
   "metadata": {},
   "outputs": [],
   "source": [
    "file_path = '/mnt/jw01-aruk-home01/projects/psa_functional_genomics/PsA_output_hic_plots/all_ATAC.txt'\n",
    "\n",
    "# Read the file content\n",
    "with open(file_path, 'r') as f:\n",
    "    file_content = f.read()\n",
    "\n",
    "# Extract the desired information using regex\n",
    "pattern = r'chr(\\d+)-(\\d+)-(\\d+)_([\\d.]+).html'\n",
    "matches = re.findall(pattern, file_content)\n",
    "\n",
    "# Create a pandas DataFrame with the extracted information\n",
    "atac_scores = pd.DataFrame(matches, columns=['chr', 'start', 'end', 'last_number'])\n",
    "\n",
    "# Convert columns to appropriate data types\n",
    "atac_scores['chr'] = \"chr\" + atac_scores['chr']\n",
    "atac_scores['start'] = atac_scores['start'].astype(int)\n",
    "atac_scores['end'] = atac_scores['end'].astype(int)\n",
    "atac_scores['last_number'] = atac_scores['last_number'].astype(float)\n"
   ]
  },
  {
   "cell_type": "code",
   "execution_count": null,
   "metadata": {},
   "outputs": [],
   "source": [
    "peaks_pbed = pbed.BedTool.from_dataframe(atac_scores)"
   ]
  },
  {
   "cell_type": "code",
   "execution_count": null,
   "metadata": {},
   "outputs": [],
   "source": [
    "snps_anno_pbed = pbed.BedTool.from_dataframe(all_SNPs_all[[\"CHROM\",\"POS\",\"POS\",\"ID\"]])\n",
    "res_anno_peaks = snps_anno_pbed.sort().closest(peaks_pbed.sort(), d = True).to_dataframe(header = None, disable_auto_names = True)\n",
    "res_anno_peaks = res_anno_peaks[res_anno_peaks[8] < 500]\n",
    "all_SNPs_all = all_SNPs_all.merge(res_anno_peaks[[0,1,3,7]], left_on = [\"CHROM\",\"POS\",\"ID\"], right_on = [0,1,3], how = \"left\",)\n",
    "all_SNPs_all = all_SNPs_all.rename(columns = {7:\"ATAC_hic_corr_score\"})\n",
    "all_SNPs_all = all_SNPs_all.drop([0,1,3], axis = 1)"
   ]
  },
  {
   "cell_type": "code",
   "execution_count": null,
   "metadata": {},
   "outputs": [],
   "source": [
    "snps_anno_pbed = pbed.BedTool.from_dataframe(all_SNPs_CD4_all[[\"CHROM\",\"POS\",\"POS\",\"ID\"]])\n",
    "res_anno_peaks = snps_anno_pbed.sort().closest(peaks_pbed.sort(), d = True).to_dataframe(header = None, disable_auto_names = True)\n",
    "res_anno_peaks = res_anno_peaks[res_anno_peaks[8] < 500]\n",
    "all_SNPs_CD4_all = all_SNPs_CD4_all.merge(res_anno_peaks[[0,1,3,7]], left_on = [\"CHROM\",\"POS\",\"ID\"], right_on = [0,1,3], how = \"left\",)\n",
    "all_SNPs_CD4_all = all_SNPs_CD4_all.rename(columns = {7:\"ATAC_hic_corr_score\"})\n",
    "all_SNPs_CD4_all = all_SNPs_CD4_all.drop([0,1,3], axis = 1)"
   ]
  },
  {
   "cell_type": "code",
   "execution_count": null,
   "metadata": {},
   "outputs": [],
   "source": [
    "snps_anno_pbed = pbed.BedTool.from_dataframe(all_SNPs_CD8_all[[\"CHROM\",\"POS\",\"POS\",\"ID\"]])\n",
    "res_anno_peaks = snps_anno_pbed.sort().closest(peaks_pbed.sort(), d = True).to_dataframe(header = None, disable_auto_names = True)\n",
    "res_anno_peaks = res_anno_peaks[res_anno_peaks[8] < 500]\n",
    "all_SNPs_CD8_all = all_SNPs_CD8_all.merge(res_anno_peaks[[0,1,3,7]], left_on = [\"CHROM\",\"POS\",\"ID\"], right_on = [0,1,3], how = \"left\",)\n",
    "all_SNPs_CD8_all = all_SNPs_CD8_all.rename(columns = {7:\"ATAC_hic_corr_score\"})\n",
    "all_SNPs_CD8_all = all_SNPs_CD8_all.drop([0,1,3], axis = 1)"
   ]
  },
  {
   "attachments": {},
   "cell_type": "markdown",
   "metadata": {},
   "source": [
    "## add EPIMAP links"
   ]
  },
  {
   "cell_type": "code",
   "execution_count": 4,
   "metadata": {},
   "outputs": [],
   "source": [
    "epimap_links_folder = \"/mnt/jw01-aruk-home01/projects/functional_genomics/references/epimap/epimap_broadinstitute_updated/links/links_corr_only/\"\n",
    "epimap_links_files = os.listdir(epimap_links_folder)\n",
    "sample_metadata = \"/mnt/jw01-aruk-home01/projects/functional_genomics/references/epimap/epimap_broadinstitute_updated/metadata/main_metadata_table.tsv\"\n",
    "metadata_df = pd.read_csv(sample_metadata, sep=\"\\t\")[[\"id\",\"GROUP\",\"ct\",\"SECONDARY\",\"infoline\"]]\n",
    "gtf_annotation_df = pd.read_pickle(\"/mnt/jw01-aruk-home01/projects/psa_functional_genomics/Quant-seq_tests/STAR_index/gencode_gtf.pickle\")\n",
    "gtf_transcripts = gtf_annotation_df[(gtf_annotation_df[\"feature\"] == \"transcript\") & (gtf_annotation_df[\"transcript_type\"] == \"protein_coding\")].dropna(axis=1, how='all')\n",
    "gtf_transcripts[\"gene_id\"] = gtf_transcripts[\"gene_id\"].str.split(\".\").str[0]\n",
    "gtf_transcripts[\"transcript_id\"] = gtf_transcripts[\"transcript_id\"].str.split(\".\").str[0]\n",
    "gtf_transcripts[\"TSS_start\"] = gtf_transcripts.apply(lambda x: int(x[\"start\"]) if x[\"strand\"] == \"+\" else int(x[\"end\"]) ,axis = 1)\n",
    "gene_mapper = dict(zip(gtf_transcripts['gene_id'], gtf_transcripts['gene_name']))"
   ]
  },
  {
   "cell_type": "code",
   "execution_count": 19,
   "metadata": {},
   "outputs": [],
   "source": [
    "def annotate_epimap_links(snps_df):\n",
    "    \"\"\"Make sure it's hg19\n",
    "    file has to be in following format:\n",
    "    chr start end name score loci snp\"\"\"\n",
    "    def single_epimap_links(df,epimap_file):\n",
    "        cur_epimap = epimap_links_folder + epimap_file\n",
    "        cur_epimap_pbed = pbed.BedTool(cur_epimap)\n",
    "        df_pbed = pbed.BedTool.from_dataframe(df)\n",
    "        intersect_result = df_pbed.intersect(cur_epimap_pbed, wa=True, wb=True)\n",
    "        if intersect_result.count() == 0:\n",
    "            return None\n",
    "        else:\n",
    "            res = intersect_result.to_dataframe(header=None,disable_auto_names=True)\n",
    "            res[\"cell_type\"] = epimap_file.split(\"_\")[0]\n",
    "            return res\n",
    "    def intersect_with_epimap_links(df):\n",
    "        results_list = []\n",
    "        for epimap_file in epimap_links_files:\n",
    "            res = single_epimap_links(df, epimap_file)\n",
    "            if res is not None:\n",
    "                results_list.append(res)\n",
    "        if len(results_list) > 0:\n",
    "            return pd.concat(results_list)\n",
    "        else:\n",
    "            return None\n",
    "    \n",
    "    snps_df = intersect_with_epimap_links(snps_df)\n",
    "    snps_df.columns = \"chr start end snp enh_chr enh_start enh_end gene_id link_score enh_type cell_type\".split()\n",
    "    \n",
    "    snps_df = snps_df.merge(gtf_transcripts[[\"gene_id\",\"gene_name\",\"seqname\",\"TSS_start\"]].drop_duplicates(\"gene_id\"), left_on = \"gene_id\", right_on = \"gene_id\", how =\"left\")\n",
    "    \n",
    "    snps_df = snps_df.merge(metadata_df, left_on = \"cell_type\", right_on = \"id\", how =\"left\")\n",
    "\n",
    "    return snps_df\n",
    "\n",
    "def retrieve_genes(snps_df, links_annotated_snps_df):\n",
    "    def get_genes(df, group):\n",
    "        if (len(df[(df[\"GROUP\"] == group)]) > 0):\n",
    "            return set(df.loc[(df[\"GROUP\"] == group),\"gene_name\"].tolist())\n",
    "        elif group == \"ALL\":\n",
    "            return set(df.loc[:,\"gene_name\"].tolist())\n",
    "        else:\n",
    "            return False\n",
    "    hsc_result = links_annotated_snps_df.groupby(\"snp\").apply(get_genes, group = \"HSC & B-cell\")\n",
    "    Tcell_result = links_annotated_snps_df.groupby(\"snp\").apply(get_genes, group = \"Blood & T-cell\")\n",
    "    all_result = links_annotated_snps_df.groupby(\"snp\").apply(get_genes, group = \"ALL\")\n",
    "    hsc_result.name = \"hsc_genes\"\n",
    "    Tcell_result.name = \"tcell_genes\"\n",
    "    all_result.name = \"all_genes\"\n",
    "    snps_df = snps_df.merge(hsc_result, left_on = \"snp\", right_index = True, how = \"outer\")\n",
    "    snps_df = snps_df.merge(Tcell_result, left_on = \"snp\", right_index = True, how = \"outer\")\n",
    "    snps_df = snps_df.merge(all_result, left_on = \"snp\", right_index = True, how = \"outer\")\n",
    "    return snps_df"
   ]
  },
  {
   "cell_type": "code",
   "execution_count": 31,
   "metadata": {},
   "outputs": [],
   "source": [
    "def add_epimap(insnpdf):\n",
    "    tmp = insnpdf[[\"CHROM\",\"POS\", \"ID\"]].copy()\n",
    "    tmp = tmp[tmp[\"ID\"] != \".\"]\n",
    "    tmp[\"END\"] = tmp[\"POS\"] + 1\n",
    "    pbed_snps = pbed.BedTool.from_dataframe(tmp[[\"CHROM\",\"POS\", \"END\", \"ID\"]])\n",
    "    subprocess.run([\"liftover\", pbed_snps.fn, \"hg38ToHg19.over.chain.gz\", pbed_snps.fn + \"_hg19.bed\", \"out\"])\n",
    "    hg19_snps = pd.read_csv(pbed_snps.fn + \"_hg19.bed\", sep = \"\\t\", header = None)\n",
    "    hg19_snps.columns = \"chr start end snp\".split()\n",
    "    hg19_snps_links = annotate_epimap_links(hg19_snps)\n",
    "    hg19_snps_links_annotated = retrieve_genes(hg19_snps,hg19_snps_links)\n",
    "    insnpdf = insnpdf.merge(hg19_snps_links_annotated[[\"snp\", \"hsc_genes\", \"tcell_genes\", \"all_genes\"]].drop_duplicates(\"snp\"), left_on = \"ID\", right_on = \"snp\", how = \"left\")\n",
    "    return insnpdf"
   ]
  },
  {
   "cell_type": "code",
   "execution_count": 32,
   "metadata": {},
   "outputs": [
    {
     "name": "stderr",
     "output_type": "stream",
     "text": [
      "Reading liftover chains\n",
      "Mapping coordinates\n",
      "Reading liftover chains\n",
      "Mapping coordinates\n",
      "Reading liftover chains\n",
      "Mapping coordinates\n"
     ]
    }
   ],
   "source": [
    "pool = Pool(processes=3)\n",
    "all_SNPs_CD4_all, all_SNPs_CD8_all, all_SNPs_all = pool.map(add_epimap, [all_SNPs_CD4_all,all_SNPs_CD8_all,all_SNPs_all])\n",
    "pool.close()\n",
    "pool.join()"
   ]
  },
  {
   "cell_type": "code",
   "execution_count": null,
   "metadata": {},
   "outputs": [],
   "source": [
    "o = f\"{base_dir}/ATAC_allelic_imbalance/combined_p_vals_files/\"\n",
    "\n",
    "all_SNPs_CD4_all.to_csv(o + \"all_SNPs_CD4_all.csv\") \n",
    "all_SNPs_CD8_all.to_csv(o + \"all_SNPs_CD8_all.csv\") \n",
    "all_SNPs_all.to_csv(o + \"all_SNPs_all.csv\")\n",
    "\n",
    "all_SNPs_CD4_all.to_pickle(o + \"all_SNPs_CD4_all.pkl\")\n",
    "all_SNPs_CD8_all.to_pickle(o + \"all_SNPs_CD8_all.pkl\")\n",
    "all_SNPs_all.to_pickle(o + \"all_SNPs_all.pkl\")\n"
   ]
  },
  {
   "cell_type": "code",
   "execution_count": 8,
   "metadata": {},
   "outputs": [],
   "source": [
    "o = f\"{base_dir}/ATAC_allelic_imbalance/combined_p_vals_files/\"\n",
    "\n",
    "all_SNPs_CD4_all = pd.read_pickle(o + \"all_SNPs_CD4_all.pkl\")\n",
    "all_SNPs_CD8_all = pd.read_pickle(o + \"all_SNPs_CD8_all.pkl\")\n",
    "all_SNPs_all = pd.read_pickle(o + \"all_SNPs_all.pkl\")\n"
   ]
  },
  {
   "cell_type": "code",
   "execution_count": 62,
   "metadata": {},
   "outputs": [],
   "source": []
  },
  {
   "attachments": {},
   "cell_type": "markdown",
   "metadata": {},
   "source": [
    "# calculate overlaps between tables"
   ]
  },
  {
   "cell_type": "code",
   "execution_count": 9,
   "metadata": {},
   "outputs": [
    {
     "name": "stdout",
     "output_type": "stream",
     "text": [
      "32104\n",
      "21224\n",
      "23752\n"
     ]
    }
   ],
   "source": [
    "print(len(all_SNPs_all[(all_SNPs_all[\"corrected_p_val_greater\"] < 0.1) | (all_SNPs_all[\"corrected_p_val_less\"] < 0.1)]))\n",
    "print(len(all_SNPs_CD4_all[(all_SNPs_CD4_all[\"corrected_p_val_greater\"] < 0.1) | (all_SNPs_CD4_all[\"corrected_p_val_less\"] < 0.1)]))\n",
    "print(len(all_SNPs_CD8_all[(all_SNPs_CD8_all[\"corrected_p_val_greater\"] < 0.1) | (all_SNPs_CD8_all[\"corrected_p_val_less\"] < 0.1)]))"
   ]
  },
  {
   "cell_type": "code",
   "execution_count": 11,
   "metadata": {},
   "outputs": [
    {
     "data": {
      "image/png": "[encoded data removed]",
      "text/plain": [
       "<Figure size 288x288 with 1 Axes>"
      ]
     },
     "metadata": {},
     "output_type": "display_data"
    }
   ],
   "source": [
    "from matplotlib import pyplot as plt\n",
    "from matplotlib_venn import venn3\n",
    "\n",
    "# Define the sets\n",
    "set1 = set(all_SNPs_all[(all_SNPs_all[\"corrected_p_val_greater\"] < 0.1) | (all_SNPs_all[\"corrected_p_val_less\"] < 0.1)][\"ID\"].to_list())\n",
    "set2 = set(all_SNPs_CD4_all[(all_SNPs_CD4_all[\"corrected_p_val_greater\"] < 0.1) | (all_SNPs_CD4_all[\"corrected_p_val_less\"] < 0.1)][\"ID\"].to_list())\n",
    "set3 = set(all_SNPs_CD8_all[(all_SNPs_CD8_all[\"corrected_p_val_greater\"] < 0.1) | (all_SNPs_CD8_all[\"corrected_p_val_less\"] < 0.1)][\"ID\"].to_list())\n",
    "\n",
    "fig, ax = plt.subplots(1,1,figsize=(4,4))\n",
    "# Create the Venn diagram\n",
    "v = venn3([set1, set2, set3], set_labels=('ALL', 'CD4', 'CD8'), ax=ax)\n",
    "\n",
    "# Show the plot\n",
    "fig.savefig(f\"{base_dir}/ATAC_allelic_imbalance/figures/SNPs_allele_specific_overlaps.svg\", dpi = 600)"
   ]
  }
 ],
 "metadata": {
  "kernelspec": {
   "display_name": "Python 3",
   "language": "python",
   "name": "python3"
  },
  "language_info": {
   "codemirror_mode": {
    "name": "ipython",
    "version": 3
   },
   "file_extension": ".py",
   "mimetype": "text/x-python",
   "name": "python",
   "nbconvert_exporter": "python",
   "pygments_lexer": "ipython3",
   "version": "3.9.10"
  },
  "orig_nbformat": 4,
  "vscode": {
   "interpreter": {
    "hash": "64bc073de8d24d484ad5b2fece953d20708d91b167b6996d287dfc1cc29e61ba"
   }
  }
 },
 "nbformat": 4,
 "nbformat_minor": 2
}
