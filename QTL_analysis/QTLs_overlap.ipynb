{
 "cells": [
  {
   "attachments": {},
   "cell_type": "markdown",
   "metadata": {},
   "source": [
    "# we want to check how's the overlap between different QTL modalities"
   ]
  },
  {
   "cell_type": "code",
   "execution_count": 1,
   "metadata": {},
   "outputs": [
    {
     "name": "stdout",
     "output_type": "stream",
     "text": [
      "INFO: Pandarallel will run on 16 workers.\n",
      "INFO: Pandarallel will use Memory file system to transfer data between the main process and workers.\n"
     ]
    }
   ],
   "source": [
    "import pandas as pd\n",
    "import numpy as np\n",
    "import hicstraw \n",
    "from multiprocessing import Pool\n",
    "from functools import partial\n",
    "import glob\n",
    "import os\n",
    "import plotly.express as px\n",
    "import math\n",
    "import matplotlib.pyplot as plt\n",
    "from matplotlib import colors\n",
    "from pandarallel import pandarallel\n",
    "import cooler\n",
    "import cooltools\n",
    "import pybedtools as pbed\n",
    "pandarallel.initialize()\n",
    "from scipy import stats, special\n",
    "from statsmodels.stats import multitest\n",
    "import statsmodels.api as sm\n",
    "import statsmodels.formula.api as smf\n",
    "import plotly.io as pio\n",
    "import seaborn as sns\n",
    "\n",
    "from functools import reduce\n",
    "\n",
    "os.makedirs(\"/mnt/iusers01/jw01/mdefscs4/scratch/temp_pybedtools/\", exist_ok = True)\n",
    "pbed.helpers.set_tempdir(\"/mnt/iusers01/jw01/mdefscs4/scratch/temp_pybedtools/\")\n",
    "bed_genome_file = \"/mnt/iusers01/jw01/mdefscs4/hg38.genome\"\n",
    "\n",
    "plt.rcParams['svg.fonttype'] = 'none'\n",
    "\n",
    "base_dir = \"/mnt/jw01-aruk-home01/projects/psa_functional_genomics/PsA_cleaned_analysis\""
   ]
  },
  {
   "cell_type": "code",
   "execution_count": 2,
   "metadata": {},
   "outputs": [],
   "source": [
    "RNA_nominal_CD4 = pd.read_csv(f\"{base_dir}/QTL_analysis/RNA/output_final/RNA_nominal_CD4_merged.txt\", sep = \" \")\n",
    "RNA_nominal_CD8 = pd.read_csv(f\"{base_dir}/QTL_analysis/RNA/output_final/RNA_nominal_CD8_merged.txt\", sep = \" \")\n",
    "RNA_permuted_CD4 = pd.read_csv(f\"{base_dir}/QTL_analysis/RNA/output_final/RNA_permuted_CD4_FDR.txt\", sep = \" \")\n",
    "RNA_permuted_CD8 = pd.read_csv(f\"{base_dir}/QTL_analysis/RNA/output_final/RNA_permuted_CD8_FDR.txt\", sep = \" \")"
   ]
  },
  {
   "cell_type": "code",
   "execution_count": 3,
   "metadata": {},
   "outputs": [],
   "source": [
    "ATAC_nominal_CD8 = pd.read_csv(f\"{base_dir}/QTL_analysis/ATAC/output_final/ATAC_nominal_CD8_merged.txt\", sep = \" \")\n",
    "ATAC_nominal_CD4 = pd.read_csv(f\"{base_dir}/QTL_analysis/ATAC/output_final/ATAC_nominal_CD4_merged.txt\", sep = \" \")\n",
    "ATAC_permuted_CD8 = pd.read_csv(f\"{base_dir}/QTL_analysis/ATAC/output_final/ATAC_permuted_CD8_FDR.txt\", sep = \" \")\n",
    "ATAC_permuted_CD4 = pd.read_csv(f\"{base_dir}/QTL_analysis/ATAC/output_final/ATAC_permuted_CD4_FDR.txt\", sep = \" \")"
   ]
  },
  {
   "cell_type": "code",
   "execution_count": 4,
   "metadata": {},
   "outputs": [],
   "source": [
    "ins_nominal_CD8 = pd.read_csv(f\"{base_dir}/QTL_analysis/HiC/output_final/ins_nominal_CD8_merged.txt\", sep = \" \")\n",
    "ins_nominal_CD4 = pd.read_csv(f\"{base_dir}/QTL_analysis/HiC/output_final/ins_nominal_CD4_merged.txt\", sep = \" \")\n",
    "ins_permuted_CD8 = pd.read_csv(f\"{base_dir}/QTL_analysis/HiC/output_final/ins_permuted_CD8_FDR.txt\", sep = \" \")\n",
    "ins_permuted_CD4 = pd.read_csv(f\"{base_dir}/QTL_analysis/HiC/output_final/ins_permuted_CD4_FDR.txt\", sep = \" \")"
   ]
  },
  {
   "cell_type": "code",
   "execution_count": 5,
   "metadata": {},
   "outputs": [],
   "source": [
    "loop_nominal_CD8 = pd.read_csv(f\"{base_dir}/QTL_analysis/HiC/output_final/loop_nominal_CD8_merged.txt\", sep = \" \")\n",
    "loop_nominal_CD4 = pd.read_csv(f\"{base_dir}/QTL_analysis/HiC/output_final/loop_nominal_CD4_merged.txt\", sep = \" \")\n",
    "loop_permuted_CD8 = pd.read_csv(f\"{base_dir}/QTL_analysis/HiC/output_final/loop_permuted_CD8_FDR.txt\", sep = \" \")\n",
    "loop_permuted_CD4 = pd.read_csv(f\"{base_dir}/QTL_analysis/HiC/output_final/loop_permuted_CD4_FDR.txt\", sep = \" \")"
   ]
  },
  {
   "cell_type": "code",
   "execution_count": 1,
   "metadata": {},
   "outputs": [
    {
     "ename": "NameError",
     "evalue": "name 'pd' is not defined",
     "output_type": "error",
     "traceback": [
      "\u001b[0;31m---------------------------------------------------------------------------\u001b[0m",
      "\u001b[0;31mNameError\u001b[0m                                 Traceback (most recent call last)",
      "Input \u001b[0;32mIn [1]\u001b[0m, in \u001b[0;36m<cell line: 1>\u001b[0;34m()\u001b[0m\n\u001b[0;32m----> 1\u001b[0m gtf_annotation_df \u001b[38;5;241m=\u001b[39m \u001b[43mpd\u001b[49m\u001b[38;5;241m.\u001b[39mread_pickle(\u001b[38;5;124mf\u001b[39m\u001b[38;5;124m\"\u001b[39m\u001b[38;5;132;01m{\u001b[39;00mbase_dir\u001b[38;5;132;01m}\u001b[39;00m\u001b[38;5;124m/gencode_gtf.pickle\u001b[39m\u001b[38;5;124m\"\u001b[39m)\n\u001b[1;32m      2\u001b[0m gtf_transcripts \u001b[38;5;241m=\u001b[39m gtf_annotation_df[(gtf_annotation_df[\u001b[38;5;124m\"\u001b[39m\u001b[38;5;124mfeature\u001b[39m\u001b[38;5;124m\"\u001b[39m] \u001b[38;5;241m==\u001b[39m \u001b[38;5;124m\"\u001b[39m\u001b[38;5;124mtranscript\u001b[39m\u001b[38;5;124m\"\u001b[39m) \u001b[38;5;241m&\u001b[39m (gtf_annotation_df[\u001b[38;5;124m\"\u001b[39m\u001b[38;5;124mtranscript_type\u001b[39m\u001b[38;5;124m\"\u001b[39m] \u001b[38;5;241m==\u001b[39m \u001b[38;5;124m\"\u001b[39m\u001b[38;5;124mprotein_coding\u001b[39m\u001b[38;5;124m\"\u001b[39m)]\u001b[38;5;241m.\u001b[39mdropna(axis\u001b[38;5;241m=\u001b[39m\u001b[38;5;241m1\u001b[39m, how\u001b[38;5;241m=\u001b[39m\u001b[38;5;124m'\u001b[39m\u001b[38;5;124mall\u001b[39m\u001b[38;5;124m'\u001b[39m)\n\u001b[1;32m      3\u001b[0m gtf_transcripts[\u001b[38;5;124m\"\u001b[39m\u001b[38;5;124mgene_id\u001b[39m\u001b[38;5;124m\"\u001b[39m] \u001b[38;5;241m=\u001b[39m gtf_transcripts[\u001b[38;5;124m\"\u001b[39m\u001b[38;5;124mgene_id\u001b[39m\u001b[38;5;124m\"\u001b[39m]\u001b[38;5;241m.\u001b[39mstr\u001b[38;5;241m.\u001b[39msplit(\u001b[38;5;124m\"\u001b[39m\u001b[38;5;124m.\u001b[39m\u001b[38;5;124m\"\u001b[39m)\u001b[38;5;241m.\u001b[39mstr[\u001b[38;5;241m0\u001b[39m]\n",
      "\u001b[0;31mNameError\u001b[0m: name 'pd' is not defined"
     ]
    }
   ],
   "source": [
    "gtf_annotation_df = pd.read_pickle(f\"{base_dir}/gencode_gtf.pickle\")\n",
    "gtf_transcripts = gtf_annotation_df[(gtf_annotation_df[\"feature\"] == \"transcript\") & (gtf_annotation_df[\"transcript_type\"] == \"protein_coding\")].dropna(axis=1, how='all')\n",
    "gtf_transcripts[\"gene_id\"] = gtf_transcripts[\"gene_id\"].str.split(\".\").str[0]\n",
    "gtf_transcripts[\"transcript_id\"] = gtf_transcripts[\"transcript_id\"].str.split(\".\").str[0]\n",
    "gtf_transcripts[\"TSS_start\"] = gtf_transcripts.apply(lambda x: int(x[\"start\"]) if x[\"strand\"] == \"+\" else int(x[\"end\"]) ,axis = 1)"
   ]
  },
  {
   "attachments": {},
   "cell_type": "markdown",
   "metadata": {},
   "source": [
    "## calculate the overlaps between a QTLs for expression and QTLs for chromatin accessibility of the promoters "
   ]
  },
  {
   "cell_type": "code",
   "execution_count": 8,
   "metadata": {},
   "outputs": [],
   "source": [
    "from intervaltree import Interval, IntervalTree\n",
    "def annotated_peaks(target_ATAC):\n",
    "    # Create a DataFrame for unique peaks\n",
    "    df_unique_peaks = target_ATAC[['phe_id', 'phe_chr', 'phe_from', 'phe_to']].drop_duplicates()\n",
    "\n",
    "    # Initialize an empty DataFrame to store the results\n",
    "    df_result = pd.DataFrame()\n",
    "\n",
    "    # Process each chromosome separately\n",
    "    for chromosome in df_unique_peaks['phe_chr'].unique():\n",
    "        # Subset data for the current chromosome\n",
    "        df_peaks_chr = df_unique_peaks[df_unique_peaks['phe_chr'] == chromosome].copy()\n",
    "        gtf_transcripts_chr = gtf_transcripts[gtf_transcripts['seqname'] == chromosome].copy()\n",
    "        gtf_transcripts_chr.drop_duplicates(subset=['TSS_start', 'gene_id'], inplace=True)\n",
    "\n",
    "        # Build interval tree for the current chromosome\n",
    "        tree = IntervalTree()\n",
    "        for row in gtf_transcripts_chr.itertuples():\n",
    "            # Extend TSS_start on 2.5kb in both directions to cover nearby peaks\n",
    "            tree.add(Interval(row.TSS_start - 2500, row.TSS_start + 2500, row.gene_id))\n",
    "\n",
    "        # Annotate peaks with gene_id\n",
    "        rows_list = []\n",
    "        for i, row in df_peaks_chr.iterrows():\n",
    "            intervals = tree[row.phe_from:row.phe_to]\n",
    "            gene_ids = set()  # Store gene_ids to prevent duplicates\n",
    "            for interval in intervals:  # Iterate through all overlapping intervals\n",
    "                if interval.data not in gene_ids:\n",
    "                    new_row = row.to_dict()\n",
    "                    new_row[\"gene_id\"] = interval.data\n",
    "                    rows_list.append(new_row)\n",
    "                    gene_ids.add(interval.data)  # Add gene_id to the set\n",
    "\n",
    "        df_peaks_chr = pd.DataFrame(rows_list)\n",
    "        \n",
    "        df_result = pd.concat([df_result, df_peaks_chr[['phe_id', 'gene_id']]])\n",
    "\n",
    "    # Now we can merge this back to the original peaks DataFrame\n",
    "    result = pd.merge(target_ATAC, df_result, how='left', on=['phe_id'])\n",
    "    return result[result[\"gene_id\"].notnull()]"
   ]
  },
  {
   "cell_type": "code",
   "execution_count": 7,
   "metadata": {},
   "outputs": [],
   "source": [
    "def get_values_RNA_ATAC_promoter(ref,target):\n",
    "    # in this case I want the ATAC-peak to be close to the TSS of the gene. The problem of course is that there are multiple TSS per gene.\n",
    "    annotated_target = annotated_peaks(target)\n",
    "\n",
    "    # now for each gene that has eQTL, I want to know what directionality the SNP has for the peak that overlaps a TSS\n",
    "    A_B_merged = ref[(ref[\"adj_beta_pval\"] < 0.1)][[\"phe_id\",\"var_id\",\"nom_pval\",\"slope\"]].merge(annotated_target[[\"phe_id\",\"var_id\",\"nom_pval\",\"slope\",\"gene_id\"]], suffixes = (\"_A\", \"_B\"), left_on = [\"var_id\", \"phe_id\"], right_on = [\"var_id\", \"gene_id\"], how = \"left\")\n",
    "    print(len(A_B_merged[A_B_merged[\"nom_pval_A\"] < 0.01])/ len(ref[(ref[\"adj_beta_pval\"] < 0.1)]))\n",
    "    print(len(A_B_merged[A_B_merged[\"nom_pval_B\"] < 0.001])/ len(ref[(ref[\"adj_beta_pval\"] < 0.1)]))\n",
    "    # fig = px.scatter(A_B_merged, x = \"slope_A\", y = \"slope_B\", opacity = 0.2)\n",
    "    # fig.show()\n",
    "    df = A_B_merged[A_B_merged[\"nom_pval_B\"] < 0.001]\n",
    "    # Create concordant mask (both positive or both negative)\n",
    "    concordant_mask = np.sign(df['slope_A']) == np.sign(df['slope_B'])\n",
    "\n",
    "    # Create discordant mask (one positive, one negative)\n",
    "    discordant_mask = np.sign(df['slope_A']) != np.sign(df['slope_B'])\n",
    "\n",
    "    # Count concordant and discordant rows\n",
    "    num_concordant = concordant_mask.sum()\n",
    "    num_discordant = discordant_mask.sum()\n",
    "\n",
    "    print(f\"Number of concordant rows: {num_concordant}\")\n",
    "    print(f\"Number of discordant rows: {num_discordant}\")\n",
    "    print(f\"ratio: {num_concordant/(num_discordant + num_concordant)}\")"
   ]
  },
  {
   "cell_type": "code",
   "execution_count": 9,
   "metadata": {},
   "outputs": [
    {
     "name": "stdout",
     "output_type": "stream",
     "text": [
      "1.0288088642659279\n",
      "0.1592797783933518\n",
      "Number of concordant rows: 523\n",
      "Number of discordant rows: 52\n",
      "ratio: 0.9095652173913044\n"
     ]
    }
   ],
   "source": [
    "get_values_RNA_ATAC_promoter(RNA_permuted_CD8, ATAC_nominal_CD8)"
   ]
  },
  {
   "cell_type": "code",
   "execution_count": 10,
   "metadata": {},
   "outputs": [
    {
     "name": "stdout",
     "output_type": "stream",
     "text": [
      "1.025079365079365\n",
      "0.13936507936507936\n",
      "Number of concordant rows: 403\n",
      "Number of discordant rows: 36\n",
      "ratio: 0.9179954441913439\n"
     ]
    }
   ],
   "source": [
    "get_values_RNA_ATAC_promoter(RNA_permuted_CD4, ATAC_nominal_CD4)"
   ]
  },
  {
   "attachments": {},
   "cell_type": "markdown",
   "metadata": {},
   "source": [
    "## calculate the overlaps between a QTLs for expression and QTLs for insulation score of the domain overlapping of the promoters \n",
    "also works for loops for all genes contained between the loop anchors"
   ]
  },
  {
   "cell_type": "code",
   "execution_count": 11,
   "metadata": {},
   "outputs": [],
   "source": [
    "from intervaltree import Interval, IntervalTree\n",
    "def annotated_ins(target_ins):\n",
    "    # Create a DataFrame for unique peaks\n",
    "    df_unique_peaks = target_ins[['phe_id', 'phe_chr', 'phe_from', 'phe_to']].drop_duplicates()\n",
    "\n",
    "    # Initialize an empty DataFrame to store the results\n",
    "    df_result = pd.DataFrame()\n",
    "\n",
    "    # Process each chromosome separately\n",
    "    for chromosome in df_unique_peaks['phe_chr'].unique():\n",
    "        # Subset data for the current chromosome\n",
    "        df_peaks_chr = df_unique_peaks[df_unique_peaks['phe_chr'] == chromosome].copy()\n",
    "        gtf_transcripts_chr = gtf_transcripts[gtf_transcripts['seqname'] == chromosome].copy()\n",
    "        gtf_transcripts_chr.drop_duplicates(subset=['TSS_start', 'gene_id'], inplace=True)\n",
    "\n",
    "        # Build interval tree for the current chromosome\n",
    "        tree = IntervalTree()\n",
    "        for row in gtf_transcripts_chr.itertuples():\n",
    "            tree.add(Interval(row.TSS_start - 1, row.TSS_start + 1, row.gene_id))\n",
    "\n",
    "        # Annotate peaks with gene_id\n",
    "        rows_list = []\n",
    "        for i, row in df_peaks_chr.iterrows():\n",
    "            intervals = tree[row.phe_from:row.phe_to]\n",
    "            gene_ids = set()  # Store gene_ids to prevent duplicates\n",
    "            for interval in intervals:  # Iterate through all overlapping intervals\n",
    "                if interval.data not in gene_ids:\n",
    "                    new_row = row.to_dict()\n",
    "                    new_row[\"gene_id\"] = interval.data\n",
    "                    rows_list.append(new_row)\n",
    "                    gene_ids.add(interval.data)  # Add gene_id to the set\n",
    "        df_peaks_chr = pd.DataFrame(rows_list)\n",
    "        \n",
    "        df_result = pd.concat([df_result, df_peaks_chr[['phe_id', 'gene_id']]])\n",
    "\n",
    "    # Now we can merge this back to the original peaks DataFrame\n",
    "    result = pd.merge(target_ins, df_result, how='left', on=['phe_id'])\n",
    "    return result[result[\"gene_id\"].notnull()]"
   ]
  },
  {
   "cell_type": "code",
   "execution_count": 12,
   "metadata": {},
   "outputs": [],
   "source": [
    "def get_values_RNA_ins_promoter(ref,target):\n",
    "    # in this case I want the QTL with the insulation score that overlaps the TSS of the gene. The problem of course is that there are multiple TSS per gene.\n",
    "    annotated_target = annotated_ins(target)\n",
    "\n",
    "    # now for each gene that has eQTL, I want to know what directionality the SNP has for the peak that overlaps a TSS\n",
    "    A_B_merged = ref[(ref[\"adj_beta_pval\"] < 0.1)][[\"phe_id\",\"var_id\",\"nom_pval\",\"slope\"]].merge(annotated_target[[\"phe_id\",\"var_id\",\"nom_pval\",\"slope\",\"gene_id\"]], suffixes = (\"_A\", \"_B\"), left_on = [\"var_id\", \"phe_id\"], right_on = [\"var_id\", \"gene_id\"], how = \"left\")\n",
    "    print(len(A_B_merged[A_B_merged[\"nom_pval_A\"] < 0.01])/ len(ref[(ref[\"adj_beta_pval\"] < 0.1)]))\n",
    "    print(len(A_B_merged[A_B_merged[\"nom_pval_B\"] < 0.001])/ len(ref[(ref[\"adj_beta_pval\"] < 0.1)]))\n",
    "    # fig = px.scatter(A_B_merged, x = \"slope_A\", y = \"slope_B\", opacity = 0.2)\n",
    "    # fig.show()\n",
    "    df = A_B_merged[A_B_merged[\"nom_pval_B\"] < 0.001]\n",
    "    # Create concordant mask (both positive or both negative)\n",
    "    concordant_mask = np.sign(df['slope_A']) == np.sign(df['slope_B'])\n",
    "\n",
    "    # Create discordant mask (one positive, one negative)\n",
    "    discordant_mask = np.sign(df['slope_A']) != np.sign(df['slope_B'])\n",
    "\n",
    "    # Count concordant and discordant rows\n",
    "    num_concordant = concordant_mask.sum()\n",
    "    num_discordant = discordant_mask.sum()\n",
    "\n",
    "    print(f\"Number of concordant rows: {num_concordant}\")\n",
    "    print(f\"Number of discordant rows: {num_discordant}\")\n",
    "    print(f\"ratio: {num_concordant/(num_discordant + num_concordant)}\")"
   ]
  },
  {
   "cell_type": "code",
   "execution_count": 13,
   "metadata": {},
   "outputs": [
    {
     "name": "stdout",
     "output_type": "stream",
     "text": [
      "1.0573407202216067\n",
      "0.15096952908587258\n",
      "Number of concordant rows: 465\n",
      "Number of discordant rows: 80\n",
      "ratio: 0.8532110091743119\n"
     ]
    }
   ],
   "source": [
    "get_values_RNA_ins_promoter(RNA_permuted_CD8, ins_nominal_CD8)"
   ]
  },
  {
   "cell_type": "code",
   "execution_count": 14,
   "metadata": {},
   "outputs": [
    {
     "name": "stdout",
     "output_type": "stream",
     "text": [
      "1.0552380952380953\n",
      "0.14095238095238094\n",
      "Number of concordant rows: 398\n",
      "Number of discordant rows: 46\n",
      "ratio: 0.8963963963963963\n"
     ]
    }
   ],
   "source": [
    "get_values_RNA_ins_promoter(RNA_permuted_CD4, ins_nominal_CD4)"
   ]
  },
  {
   "cell_type": "code",
   "execution_count": 15,
   "metadata": {},
   "outputs": [
    {
     "name": "stdout",
     "output_type": "stream",
     "text": [
      "1.2728531855955678\n",
      "0.16786703601108033\n",
      "Number of concordant rows: 396\n",
      "Number of discordant rows: 210\n",
      "ratio: 0.6534653465346535\n"
     ]
    }
   ],
   "source": [
    "get_values_RNA_ins_promoter(RNA_permuted_CD8, loop_nominal_CD8)"
   ]
  },
  {
   "cell_type": "code",
   "execution_count": 16,
   "metadata": {},
   "outputs": [
    {
     "name": "stdout",
     "output_type": "stream",
     "text": [
      "1.2457142857142858\n",
      "0.15047619047619049\n",
      "Number of concordant rows: 330\n",
      "Number of discordant rows: 144\n",
      "ratio: 0.6962025316455697\n"
     ]
    }
   ],
   "source": [
    "get_values_RNA_ins_promoter(RNA_permuted_CD4, loop_nominal_CD4)"
   ]
  },
  {
   "attachments": {},
   "cell_type": "markdown",
   "metadata": {},
   "source": [
    "## modified version so that it only considers the promoters overlapping the loop anchors"
   ]
  },
  {
   "cell_type": "code",
   "execution_count": 17,
   "metadata": {},
   "outputs": [],
   "source": [
    "from intervaltree import Interval, IntervalTree\n",
    "def annotated_loop_anchors(target_loop):\n",
    "    # Create a DataFrame for unique peaks\n",
    "    df_unique_loops = target_loop[['phe_id', 'phe_chr', 'phe_from', 'phe_to']].drop_duplicates()\n",
    "\n",
    "    # Initialize an empty DataFrame to store the results\n",
    "    df_result = pd.DataFrame()\n",
    "\n",
    "    # Process each chromosome separately\n",
    "    for chromosome in df_unique_loops['phe_chr'].unique():\n",
    "        # Subset data for the current chromosome\n",
    "        df_loops_chr = df_unique_loops[df_unique_loops['phe_chr'] == chromosome].copy()\n",
    "        gtf_transcripts_chr = gtf_transcripts[gtf_transcripts['seqname'] == chromosome].copy()\n",
    "        gtf_transcripts_chr.drop_duplicates(subset=['TSS_start', 'gene_id'], inplace=True)\n",
    "\n",
    "        # Build interval tree for the current chromosome\n",
    "        tree = IntervalTree()\n",
    "        for row in gtf_transcripts_chr.itertuples():\n",
    "            tree.add(Interval(row.TSS_start - 2500, row.TSS_start + 2500, row.gene_id))\n",
    "\n",
    "        # Annotate peaks with gene_id\n",
    "        rows_list = []\n",
    "        for i, row in df_loops_chr.iterrows():\n",
    "            intervals_A = tree[row.phe_from:row.phe_from + 5000]\n",
    "            intervals_B = tree[row.phe_to - 5000:row.phe_to]\n",
    "            gene_ids = set()  # Store gene_ids to prevent duplicates\n",
    "            for interval in intervals_A:  # Iterate through all overlapping intervals of anchor A\n",
    "                if interval.data not in gene_ids:\n",
    "                    new_row = row.to_dict()\n",
    "                    new_row[\"gene_id\"] = interval.data\n",
    "                    rows_list.append(new_row)\n",
    "                    gene_ids.add(interval.data)  # Add gene_id to the set\n",
    "            for interval in intervals_B:  # Iterate through all overlapping intervals of anchor B\n",
    "                if interval.data not in gene_ids:\n",
    "                    new_row = row.to_dict()\n",
    "                    new_row[\"gene_id\"] = interval.data\n",
    "                    rows_list.append(new_row)\n",
    "                    gene_ids.add(interval.data)  # Add gene_id to the set\n",
    "        df_loops_chr = pd.DataFrame(rows_list)\n",
    "        \n",
    "        df_result = pd.concat([df_result, df_loops_chr[['phe_id', 'gene_id']]])\n",
    "\n",
    "    # Now we can merge this back to the original peaks DataFrame\n",
    "    result = pd.merge(target_loop, df_result, how='left', on=['phe_id'])\n",
    "    return result[result[\"gene_id\"].notnull()]"
   ]
  },
  {
   "cell_type": "code",
   "execution_count": 18,
   "metadata": {},
   "outputs": [],
   "source": [
    "def get_values_RNA_loop_anchors_promoter(ref,target):\n",
    "    # in this case I want the eQTL with the loop anchors\n",
    "    annotated_target = annotated_loop_anchors(target)\n",
    "\n",
    "    # now for each gene that has eQTL, I want to know what directionality the SNP has for the peak that overlaps a TSS\n",
    "    A_B_merged = ref[(ref[\"adj_beta_pval\"] < 0.1)][[\"phe_id\",\"var_id\",\"nom_pval\",\"slope\"]].merge(annotated_target[[\"phe_id\",\"var_id\",\"nom_pval\",\"slope\",\"gene_id\"]], suffixes = (\"_A\", \"_B\"), left_on = [\"var_id\", \"phe_id\"], right_on = [\"var_id\", \"gene_id\"], how = \"left\")\n",
    "    print(len(A_B_merged[A_B_merged[\"nom_pval_A\"] < 0.01])/ len(ref[(ref[\"adj_beta_pval\"] < 0.1)]))\n",
    "    print(len(A_B_merged[A_B_merged[\"nom_pval_B\"] < 0.001])/ len(ref[(ref[\"adj_beta_pval\"] < 0.1)]))\n",
    "    # fig = px.scatter(A_B_merged, x = \"slope_A\", y = \"slope_B\", opacity = 0.2)\n",
    "    # fig.show()\n",
    "    df = A_B_merged[A_B_merged[\"nom_pval_B\"] < 0.001]\n",
    "    # Create concordant mask (both positive or both negative)\n",
    "    concordant_mask = np.sign(df['slope_A']) == np.sign(df['slope_B'])\n",
    "\n",
    "    # Create discordant mask (one positive, one negative)\n",
    "    discordant_mask = np.sign(df['slope_A']) != np.sign(df['slope_B'])\n",
    "\n",
    "    # Count concordant and discordant rows\n",
    "    num_concordant = concordant_mask.sum()\n",
    "    num_discordant = discordant_mask.sum()\n",
    "\n",
    "    print(f\"Number of concordant rows: {num_concordant}\")\n",
    "    print(f\"Number of discordant rows: {num_discordant}\")\n",
    "    print(f\"ratio: {num_concordant/(num_discordant + num_concordant)}\")"
   ]
  },
  {
   "cell_type": "code",
   "execution_count": 19,
   "metadata": {},
   "outputs": [
    {
     "name": "stdout",
     "output_type": "stream",
     "text": [
      "1.0493074792243768\n",
      "0.055401662049861494\n",
      "Number of concordant rows: 152\n",
      "Number of discordant rows: 48\n",
      "ratio: 0.76\n"
     ]
    }
   ],
   "source": [
    "get_values_RNA_loop_anchors_promoter(RNA_permuted_CD8, loop_nominal_CD8)\n"
   ]
  },
  {
   "cell_type": "code",
   "execution_count": 20,
   "metadata": {},
   "outputs": [
    {
     "name": "stdout",
     "output_type": "stream",
     "text": [
      "1.0504761904761906\n",
      "0.051111111111111114\n",
      "Number of concordant rows: 130\n",
      "Number of discordant rows: 31\n",
      "ratio: 0.8074534161490683\n"
     ]
    }
   ],
   "source": [
    "get_values_RNA_loop_anchors_promoter(RNA_permuted_CD4, loop_nominal_CD4)"
   ]
  },
  {
   "attachments": {},
   "cell_type": "markdown",
   "metadata": {},
   "source": [
    "## and finally, do the above but with ATAC peaks rather than genes"
   ]
  },
  {
   "cell_type": "code",
   "execution_count": 21,
   "metadata": {},
   "outputs": [],
   "source": [
    "from intervaltree import Interval, IntervalTree\n",
    "def annotated_loop_ATAC(target_loop,ref_ATAC):\n",
    "    # Create a DataFrame for unique peaks\n",
    "    df_unique_loops = target_loop[['phe_id', 'phe_chr', 'phe_from', 'phe_to']].drop_duplicates()\n",
    "\n",
    "    # Initialize an empty DataFrame to store the results\n",
    "    df_result = pd.DataFrame()\n",
    "\n",
    "    # Process each chromosome separately\n",
    "    for chromosome in df_unique_loops['phe_chr'].unique():\n",
    "        # Subset data for the current chromosome\n",
    "        df_loops_chr = df_unique_loops[df_unique_loops['phe_chr'] == chromosome].copy()\n",
    "        ref_ATAC_chr = ref_ATAC[ref_ATAC['phe_chr'] == chromosome].copy()\n",
    "        ref_ATAC_chr.drop_duplicates(subset=['phe_id'], inplace=True)\n",
    "\n",
    "        # Build interval tree for the current chromosome\n",
    "        tree = IntervalTree()\n",
    "        for row in ref_ATAC_chr.itertuples():\n",
    "            tree.add(Interval(row.phe_from - 5000, row.phe_to + 5000, row.phe_id))\n",
    "\n",
    "        # Annotate loops with peak ids\n",
    "        rows_list = []\n",
    "        for i, row in df_loops_chr.iterrows():\n",
    "            intervals = tree[row.phe_from:row.phe_to]\n",
    "            peak_ids = set()  # Store gene_ids to prevent duplicates\n",
    "            for interval in intervals:  # Iterate through all overlapping intervals\n",
    "                if interval.data not in peak_ids:\n",
    "                    new_row = row.to_dict()\n",
    "                    new_row[\"peak_ids\"] = interval.data\n",
    "                    rows_list.append(new_row)\n",
    "                    peak_ids.add(interval.data)  # Add gene_id to the set\n",
    "        df_loops_chr = pd.DataFrame(rows_list)\n",
    "        if len(df_loops_chr) > 1:\n",
    "            df_result = pd.concat([df_result, df_loops_chr[['phe_id', 'peak_ids']]])\n",
    "\n",
    "    # Now we can merge this back to the original peaks DataFrame\n",
    "    result = pd.merge(target_loop, df_result, how='left', on=['phe_id'])\n",
    "    return result[result[\"peak_ids\"].notnull()]"
   ]
  },
  {
   "cell_type": "code",
   "execution_count": 22,
   "metadata": {},
   "outputs": [],
   "source": [
    "def get_values_ATAC_loop(ref,target):\n",
    "    annotated_target = annotated_loop_ATAC(target,ref[(ref[\"adj_beta_pval\"] < 0.1)])\n",
    "\n",
    "    # now for each gene that has eQTL, I want to know what directionality the SNP has for the peak that overlaps a TSS\n",
    "    A_B_merged = ref[(ref[\"adj_beta_pval\"] < 0.1)][[\"phe_id\",\"var_id\",\"nom_pval\",\"slope\"]].merge(annotated_target[[\"phe_id\",\"var_id\",\"nom_pval\",\"slope\",\"peak_ids\"]], suffixes = (\"_A\", \"_B\"), left_on = [\"var_id\", \"phe_id\"], right_on = [\"var_id\", \"peak_ids\"], how = \"left\")\n",
    "    print(len(A_B_merged[A_B_merged[\"nom_pval_A\"] < 0.01])/ len(ref[(ref[\"adj_beta_pval\"] < 0.1)]))\n",
    "    print(len(A_B_merged[A_B_merged[\"nom_pval_B\"] < 0.001])/ len(ref[(ref[\"adj_beta_pval\"] < 0.1)]))\n",
    "    # fig = px.scatter(A_B_merged, x = \"slope_A\", y = \"slope_B\", opacity = 0.2)\n",
    "    # fig.show()\n",
    "    df = A_B_merged[A_B_merged[\"nom_pval_B\"] < 0.001]\n",
    "    # Create concordant mask (both positive or both negative)\n",
    "    concordant_mask = np.sign(df['slope_A']) == np.sign(df['slope_B'])\n",
    "\n",
    "    # Create discordant mask (one positive, one negative)\n",
    "    discordant_mask = np.sign(df['slope_A']) != np.sign(df['slope_B'])\n",
    "\n",
    "    # Count concordant and discordant rows\n",
    "    num_concordant = concordant_mask.sum()\n",
    "    num_discordant = discordant_mask.sum()\n",
    "\n",
    "    print(f\"Number of concordant rows: {num_concordant}\")\n",
    "    print(f\"Number of discordant rows: {num_discordant}\")\n",
    "    print(f\"ratio: {num_concordant/(num_discordant + num_concordant)}\")"
   ]
  },
  {
   "cell_type": "code",
   "execution_count": 23,
   "metadata": {},
   "outputs": [
    {
     "name": "stdout",
     "output_type": "stream",
     "text": [
      "1.3053297199638663\n",
      "0.2057718822802263\n",
      "Number of concordant rows: 3230\n",
      "Number of discordant rows: 1098\n",
      "ratio: 0.7463031423290203\n"
     ]
    }
   ],
   "source": [
    "get_values_ATAC_loop(ATAC_permuted_CD8, loop_nominal_CD8)"
   ]
  },
  {
   "cell_type": "code",
   "execution_count": 24,
   "metadata": {},
   "outputs": [
    {
     "name": "stdout",
     "output_type": "stream",
     "text": [
      "1.290559404404922\n",
      "0.19925550615241444\n",
      "Number of concordant rows: 2948\n",
      "Number of discordant rows: 906\n",
      "ratio: 0.7649195640892579\n"
     ]
    }
   ],
   "source": [
    "get_values_ATAC_loop(ATAC_permuted_CD4, loop_nominal_CD4)"
   ]
  },
  {
   "cell_type": "code",
   "execution_count": 25,
   "metadata": {},
   "outputs": [
    {
     "name": "stdout",
     "output_type": "stream",
     "text": [
      "1.053392288308848\n",
      "0.16055721960728378\n",
      "Number of concordant rows: 3114\n",
      "Number of discordant rows: 263\n",
      "ratio: 0.9221202250518211\n"
     ]
    }
   ],
   "source": [
    "get_values_ATAC_loop(ATAC_permuted_CD8, ins_nominal_CD8)"
   ]
  },
  {
   "cell_type": "code",
   "execution_count": 26,
   "metadata": {},
   "outputs": [
    {
     "name": "stdout",
     "output_type": "stream",
     "text": [
      "1.0521662702926275\n",
      "0.15205252817702408\n",
      "Number of concordant rows: 2728\n",
      "Number of discordant rows: 213\n",
      "ratio: 0.9275756545392724\n"
     ]
    }
   ],
   "source": [
    "get_values_ATAC_loop(ATAC_permuted_CD4, ins_nominal_CD4)"
   ]
  },
  {
   "cell_type": "code",
   "execution_count": 27,
   "metadata": {},
   "outputs": [],
   "source": [
    "from intervaltree import Interval, IntervalTree\n",
    "def annotated_loop_anchors_ATAC(target_loop,ref_ATAC):\n",
    "    # Create a DataFrame for unique peaks\n",
    "    df_unique_loops = target_loop[['phe_id', 'phe_chr', 'phe_from', 'phe_to']].drop_duplicates()\n",
    "\n",
    "    # Initialize an empty DataFrame to store the results\n",
    "    df_result = pd.DataFrame()\n",
    "\n",
    "    # Process each chromosome separately\n",
    "    for chromosome in df_unique_loops['phe_chr'].unique():\n",
    "        # Subset data for the current chromosome\n",
    "        df_loops_chr = df_unique_loops[df_unique_loops['phe_chr'] == chromosome].copy()\n",
    "        ref_ATAC_chr = ref_ATAC[ref_ATAC['phe_chr'] == chromosome].copy()\n",
    "        ref_ATAC_chr.drop_duplicates(subset=['phe_id'], inplace=True)\n",
    "\n",
    "        # Build interval tree for the current chromosome\n",
    "        tree = IntervalTree()\n",
    "        for row in ref_ATAC_chr.itertuples():\n",
    "            tree.add(Interval(row.phe_from - 5000, row.phe_to + 5000, row.phe_id))\n",
    "\n",
    "        # Annotate loops with peak ids\n",
    "        rows_list = []\n",
    "        for i, row in df_loops_chr.iterrows():\n",
    "            intervals_A = tree[row.phe_from:row.phe_from + 5000]\n",
    "            intervals_B = tree[row.phe_to - 5000:row.phe_to]\n",
    "            peak_ids = set()  # Store peak_ids to prevent duplicates\n",
    "            for interval in intervals_A:  # Iterate through all overlapping intervals of anchor A\n",
    "                if interval.data not in peak_ids:\n",
    "                    new_row = row.to_dict()\n",
    "                    new_row[\"peak_ids\"] = interval.data\n",
    "                    rows_list.append(new_row)\n",
    "                    peak_ids.add(interval.data)  # Add peak_ids to the set\n",
    "            for interval in intervals_B:  # Iterate through all overlapping intervals of anchor B\n",
    "                if interval.data not in peak_ids:\n",
    "                    new_row = row.to_dict()\n",
    "                    new_row[\"peak_ids\"] = interval.data\n",
    "                    rows_list.append(new_row)\n",
    "                    peak_ids.add(interval.data)  # Add peak_ids to the set\n",
    "        df_loops_chr = pd.DataFrame(rows_list)\n",
    "        if len(df_loops_chr) > 1:\n",
    "            df_result = pd.concat([df_result, df_loops_chr[['phe_id', 'peak_ids']]])\n",
    "\n",
    "    # Now we can merge this back to the original peaks DataFrame\n",
    "    result = pd.merge(target_loop, df_result, how='left', on=['phe_id'])\n",
    "    return result[result[\"peak_ids\"].notnull()]"
   ]
  },
  {
   "cell_type": "code",
   "execution_count": 28,
   "metadata": {},
   "outputs": [],
   "source": [
    "def get_values_ATAC_loop_anchors(ref,target):\n",
    "    annotated_target = annotated_loop_anchors_ATAC(target,ref[(ref[\"adj_beta_pval\"] < 0.1)])\n",
    "\n",
    "    # now for each gene that has eQTL, I want to know what directionality the SNP has for the peak that overlaps a TSS\n",
    "    A_B_merged = ref[(ref[\"adj_beta_pval\"] < 0.1)][[\"phe_id\",\"var_id\",\"nom_pval\",\"slope\"]].merge(annotated_target[[\"phe_id\",\"var_id\",\"nom_pval\",\"slope\",\"peak_ids\"]], suffixes = (\"_A\", \"_B\"), left_on = [\"var_id\", \"phe_id\"], right_on = [\"var_id\", \"peak_ids\"], how = \"left\")\n",
    "    print(len(A_B_merged[A_B_merged[\"nom_pval_A\"] < 0.01])/ len(ref[(ref[\"adj_beta_pval\"] < 0.1)]))\n",
    "    print(len(A_B_merged[A_B_merged[\"nom_pval_B\"] < 0.001])/ len(ref[(ref[\"adj_beta_pval\"] < 0.1)]))\n",
    "    # fig = px.scatter(A_B_merged, x = \"slope_A\", y = \"slope_B\", opacity = 0.2)\n",
    "    # fig.show()\n",
    "    df = A_B_merged[A_B_merged[\"nom_pval_B\"] < 0.001]\n",
    "    # Create concordant mask (both positive or both negative)\n",
    "    concordant_mask = np.sign(df['slope_A']) == np.sign(df['slope_B'])\n",
    "\n",
    "    # Create discordant mask (one positive, one negative)\n",
    "    discordant_mask = np.sign(df['slope_A']) != np.sign(df['slope_B'])\n",
    "\n",
    "    # Count concordant and discordant rows\n",
    "    num_concordant = concordant_mask.sum()\n",
    "    num_discordant = discordant_mask.sum()\n",
    "\n",
    "    print(f\"Number of concordant rows: {num_concordant}\")\n",
    "    print(f\"Number of discordant rows: {num_discordant}\")\n",
    "    print(f\"ratio: {num_concordant/(num_discordant + num_concordant)}\")"
   ]
  },
  {
   "cell_type": "code",
   "execution_count": 29,
   "metadata": {},
   "outputs": [
    {
     "name": "stdout",
     "output_type": "stream",
     "text": [
      "1.0583844434935576\n",
      "0.06737032282603528\n",
      "Number of concordant rows: 1267\n",
      "Number of discordant rows: 150\n",
      "ratio: 0.8941425546930134\n"
     ]
    }
   ],
   "source": [
    "get_values_ATAC_loop_anchors(ATAC_permuted_CD8, loop_nominal_CD8)"
   ]
  },
  {
   "cell_type": "code",
   "execution_count": 30,
   "metadata": {},
   "outputs": [
    {
     "name": "stdout",
     "output_type": "stream",
     "text": [
      "1.0565091510702098\n",
      "0.0675731568607176\n",
      "Number of concordant rows: 1157\n",
      "Number of discordant rows: 150\n",
      "ratio: 0.8852333588370314\n"
     ]
    }
   ],
   "source": [
    "get_values_ATAC_loop_anchors(ATAC_permuted_CD4, loop_nominal_CD4)"
   ]
  },
  {
   "cell_type": "code",
   "execution_count": 40,
   "metadata": {},
   "outputs": [],
   "source": [
    "def get_values_SAME(ref,target):\n",
    "    A_B_merged = ref[(ref[\"adj_beta_pval\"] < 0.1)][[\"phe_id\",\"var_id\",\"nom_pval\",\"slope\"]].merge(target[[\"phe_id\",\"var_id\",\"nom_pval\",\"slope\"]], suffixes = (\"_A\", \"_B\"), on = [\"var_id\", \"phe_id\"], how = \"left\")\n",
    "    print(len(A_B_merged[A_B_merged[\"nom_pval_A\"] < 0.01])/ len(ref[(ref[\"adj_beta_pval\"] < 0.1)]))\n",
    "    print(len(A_B_merged[A_B_merged[\"nom_pval_B\"] < 0.01])/ len(ref[(ref[\"adj_beta_pval\"] < 0.1)]))\n",
    "    # fig = px.scatter(A_B_merged, x = \"slope_A\", y = \"slope_B\", opacity = 0.2)\n",
    "    # fig.show()\n",
    "    df = A_B_merged[A_B_merged[\"nom_pval_B\"] < 0.01]\n",
    "    # Create concordant mask (both positive or both negative)\n",
    "    concordant_mask = np.sign(df['slope_A']) == np.sign(df['slope_B'])\n",
    "\n",
    "    # Create discordant mask (one positive, one negative)\n",
    "    discordant_mask = np.sign(df['slope_A']) != np.sign(df['slope_B'])\n",
    "\n",
    "    # Count concordant and discordant rows\n",
    "    num_concordant = concordant_mask.sum()\n",
    "    num_discordant = discordant_mask.sum()\n",
    "\n",
    "    print(f\"Number of concordant rows: {num_concordant}\")\n",
    "    print(f\"Number of discordant rows: {num_discordant}\")\n",
    "    print(f\"ratio: {num_concordant/(num_discordant + num_concordant)}\")"
   ]
  },
  {
   "cell_type": "code",
   "execution_count": 41,
   "metadata": {},
   "outputs": [
    {
     "name": "stdout",
     "output_type": "stream",
     "text": [
      "1.0\n",
      "0.4695290858725762\n",
      "Number of concordant rows: 1694\n",
      "Number of discordant rows: 1\n",
      "ratio: 0.9994100294985251\n"
     ]
    }
   ],
   "source": [
    "get_values_SAME(RNA_permuted_CD8,RNA_nominal_CD4)"
   ]
  },
  {
   "cell_type": "code",
   "execution_count": 42,
   "metadata": {},
   "outputs": [
    {
     "name": "stdout",
     "output_type": "stream",
     "text": [
      "1.0\n",
      "0.4657142857142857\n",
      "Number of concordant rows: 1464\n",
      "Number of discordant rows: 3\n",
      "ratio: 0.9979550102249489\n"
     ]
    }
   ],
   "source": [
    "get_values_SAME(RNA_permuted_CD4,RNA_nominal_CD8)"
   ]
  },
  {
   "cell_type": "code",
   "execution_count": 43,
   "metadata": {},
   "outputs": [
    {
     "name": "stdout",
     "output_type": "stream",
     "text": [
      "1.0\n",
      "0.40350877192982454\n",
      "Number of concordant rows: 8475\n",
      "Number of discordant rows: 12\n",
      "ratio: 0.9985860728172499\n"
     ]
    }
   ],
   "source": [
    "get_values_SAME(ATAC_permuted_CD8,ATAC_nominal_CD4)"
   ]
  },
  {
   "cell_type": "code",
   "execution_count": 44,
   "metadata": {},
   "outputs": [
    {
     "name": "stdout",
     "output_type": "stream",
     "text": [
      "1.0\n",
      "0.4064212594354255\n",
      "Number of concordant rows: 7846\n",
      "Number of discordant rows: 15\n",
      "ratio: 0.9980918458211423\n"
     ]
    }
   ],
   "source": [
    "get_values_SAME(ATAC_permuted_CD4,ATAC_nominal_CD8)"
   ]
  },
  {
   "cell_type": "code",
   "execution_count": 45,
   "metadata": {},
   "outputs": [
    {
     "name": "stdout",
     "output_type": "stream",
     "text": [
      "1.0\n",
      "0.3812305445601629\n",
      "Number of concordant rows: 9914\n",
      "Number of discordant rows: 6\n",
      "ratio: 0.9993951612903226\n"
     ]
    }
   ],
   "source": [
    "get_values_SAME(ins_permuted_CD8,ins_nominal_CD4)"
   ]
  },
  {
   "cell_type": "code",
   "execution_count": 46,
   "metadata": {},
   "outputs": [
    {
     "name": "stdout",
     "output_type": "stream",
     "text": [
      "1.0\n",
      "0.39126053130164873\n",
      "Number of concordant rows: 9699\n",
      "Number of discordant rows: 7\n",
      "ratio: 0.999278796620647\n"
     ]
    }
   ],
   "source": [
    "get_values_SAME(ins_permuted_CD4,ins_nominal_CD8)"
   ]
  },
  {
   "cell_type": "code",
   "execution_count": 47,
   "metadata": {},
   "outputs": [
    {
     "name": "stdout",
     "output_type": "stream",
     "text": [
      "1.0\n",
      "0.11887543674331681\n",
      "Number of concordant rows: 1440\n",
      "Number of discordant rows: 23\n",
      "ratio: 0.9842788790157211\n"
     ]
    }
   ],
   "source": [
    "get_values_SAME(loop_permuted_CD8,loop_nominal_CD4)"
   ]
  },
  {
   "cell_type": "code",
   "execution_count": 48,
   "metadata": {},
   "outputs": [
    {
     "name": "stdout",
     "output_type": "stream",
     "text": [
      "1.0\n",
      "0.12238033635187581\n",
      "Number of concordant rows: 1384\n",
      "Number of discordant rows: 35\n",
      "ratio: 0.9753347427766033\n"
     ]
    }
   ],
   "source": [
    "get_values_SAME(loop_permuted_CD4,loop_nominal_CD8)"
   ]
  },
  {
   "cell_type": "code",
   "execution_count": null,
   "metadata": {},
   "outputs": [],
   "source": []
  },
  {
   "cell_type": "code",
   "execution_count": null,
   "metadata": {},
   "outputs": [],
   "source": []
  },
  {
   "cell_type": "code",
   "execution_count": null,
   "metadata": {},
   "outputs": [],
   "source": []
  },
  {
   "cell_type": "code",
   "execution_count": null,
   "metadata": {},
   "outputs": [],
   "source": []
  },
  {
   "cell_type": "code",
   "execution_count": null,
   "metadata": {},
   "outputs": [],
   "source": []
  }
 ],
 "metadata": {
  "kernelspec": {
   "display_name": "Python 3",
   "language": "python",
   "name": "python3"
  },
  "language_info": {
   "codemirror_mode": {
    "name": "ipython",
    "version": 3
   },
   "file_extension": ".py",
   "mimetype": "text/x-python",
   "name": "python",
   "nbconvert_exporter": "python",
   "pygments_lexer": "ipython3",
   "version": "3.9.10"
  },
  "orig_nbformat": 4
 },
 "nbformat": 4,
 "nbformat_minor": 2
}
