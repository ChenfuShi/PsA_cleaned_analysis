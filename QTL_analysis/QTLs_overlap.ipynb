{
 "cells": [
  {
   "attachments": {},
   "cell_type": "markdown",
   "metadata": {},
   "source": [
    "# we want to check how's the overlap between different QTL modalities"
   ]
  },
  {
   "cell_type": "code",
   "execution_count": 1,
   "metadata": {},
   "outputs": [
    {
     "name": "stdout",
     "output_type": "stream",
     "text": [
      "INFO: Pandarallel will run on 28 workers.\n",
      "INFO: Pandarallel will use Memory file system to transfer data between the main process and workers.\n"
     ]
    }
   ],
   "source": [
    "import pandas as pd\n",
    "import numpy as np\n",
    "import hicstraw \n",
    "from multiprocessing import Pool\n",
    "from functools import partial\n",
    "import glob\n",
    "import os\n",
    "import plotly.express as px\n",
    "import math\n",
    "import matplotlib.pyplot as plt\n",
    "from matplotlib import colors\n",
    "from pandarallel import pandarallel\n",
    "import cooler\n",
    "import cooltools\n",
    "import pybedtools as pbed\n",
    "pandarallel.initialize()\n",
    "from scipy import stats, special\n",
    "from statsmodels.stats import multitest\n",
    "import statsmodels.api as sm\n",
    "import statsmodels.formula.api as smf\n",
    "import plotly.io as pio\n",
    "import seaborn as sns\n",
    "\n",
    "from functools import reduce\n",
    "\n",
    "os.makedirs(\"/mnt/iusers01/jw01/mdefscs4/scratch/temp_pybedtools/\", exist_ok = True)\n",
    "pbed.helpers.set_tempdir(\"/mnt/iusers01/jw01/mdefscs4/scratch/temp_pybedtools/\")\n",
    "bed_genome_file = \"/mnt/iusers01/jw01/mdefscs4/hg38.genome\"\n",
    "\n",
    "plt.rcParams['svg.fonttype'] = 'none'\n",
    "\n",
    "base_dir = \"/mnt/jw01-aruk-home01/projects/psa_functional_genomics/PsA_cleaned_analysis\""
   ]
  },
  {
   "cell_type": "code",
   "execution_count": 2,
   "metadata": {},
   "outputs": [],
   "source": [
    "RNA_nominal_CD4 = pd.read_csv(f\"{base_dir}/QTL_analysis/RNA/output_final/RNA_nominal_CD4_merged.txt\", sep = \" \")\n",
    "RNA_nominal_CD8 = pd.read_csv(f\"{base_dir}/QTL_analysis/RNA/output_final/RNA_nominal_CD8_merged.txt\", sep = \" \")\n",
    "RNA_permuted_CD4 = pd.read_csv(f\"{base_dir}/QTL_analysis/RNA/output_final/RNA_permuted_CD4_merged.txt\", sep = \" \")\n",
    "RNA_permuted_CD8 = pd.read_csv(f\"{base_dir}/QTL_analysis/RNA/output_final/RNA_permuted_CD8_merged.txt\", sep = \" \")"
   ]
  },
  {
   "cell_type": "code",
   "execution_count": 3,
   "metadata": {},
   "outputs": [],
   "source": [
    "ATAC_nominal_CD8 = pd.read_csv(f\"{base_dir}/QTL_analysis/ATAC/output_final/ATAC_nominal_CD8_merged.txt\", sep = \" \")\n",
    "ATAC_nominal_CD4 = pd.read_csv(f\"{base_dir}/QTL_analysis/ATAC/output_final/ATAC_nominal_CD4_merged.txt\", sep = \" \")\n",
    "ATAC_permuted_CD8 = pd.read_csv(f\"{base_dir}/QTL_analysis/ATAC/output_final/ATAC_permuted_CD8_merged.txt\", sep = \" \")\n",
    "ATAC_permuted_CD4 = pd.read_csv(f\"{base_dir}/QTL_analysis/ATAC/output_final/ATAC_permuted_CD4_merged.txt\", sep = \" \")"
   ]
  },
  {
   "cell_type": "code",
   "execution_count": 4,
   "metadata": {},
   "outputs": [],
   "source": [
    "ins_nominal_CD8 = pd.read_csv(f\"{base_dir}/QTL_analysis/HiC/output_final/ins_nominal_CD8_merged.txt\", sep = \" \")\n",
    "ins_nominal_CD4 = pd.read_csv(f\"{base_dir}/QTL_analysis/HiC/output_final/ins_nominal_CD4_merged.txt\", sep = \" \")\n",
    "ins_permuted_CD8 = pd.read_csv(f\"{base_dir}/QTL_analysis/HiC/output_final/ins_permuted_CD8_merged.txt\", sep = \" \")\n",
    "ins_permuted_CD4 = pd.read_csv(f\"{base_dir}/QTL_analysis/HiC/output_final/ins_permuted_CD4_merged.txt\", sep = \" \")"
   ]
  },
  {
   "cell_type": "code",
   "execution_count": 5,
   "metadata": {},
   "outputs": [],
   "source": [
    "loop_nominal_CD8 = pd.read_csv(f\"{base_dir}/QTL_analysis/HiC/output_final/loop_nominal_CD8_merged.txt\", sep = \" \")\n",
    "loop_nominal_CD4 = pd.read_csv(f\"{base_dir}/QTL_analysis/HiC/output_final/loop_nominal_CD4_merged.txt\", sep = \" \")\n",
    "loop_permuted_CD8 = pd.read_csv(f\"{base_dir}/QTL_analysis/HiC/output_final/loop_permuted_CD8_merged.txt\", sep = \" \")\n",
    "loop_permuted_CD4 = pd.read_csv(f\"{base_dir}/QTL_analysis/HiC/output_final/loop_permuted_CD4_merged.txt\", sep = \" \")"
   ]
  },
  {
   "cell_type": "code",
   "execution_count": 6,
   "metadata": {},
   "outputs": [],
   "source": [
    "gtf_annotation_df = pd.read_pickle(f\"{base_dir}/gencode_gtf.pickle\")\n",
    "gtf_transcripts = gtf_annotation_df[(gtf_annotation_df[\"feature\"] == \"transcript\") & (gtf_annotation_df[\"transcript_type\"] == \"protein_coding\")].dropna(axis=1, how='all')\n",
    "gtf_transcripts[\"gene_id\"] = gtf_transcripts[\"gene_id\"].str.split(\".\").str[0]\n",
    "gtf_transcripts[\"transcript_id\"] = gtf_transcripts[\"transcript_id\"].str.split(\".\").str[0]\n",
    "gtf_transcripts[\"TSS_start\"] = gtf_transcripts.apply(lambda x: int(x[\"start\"]) if x[\"strand\"] == \"+\" else int(x[\"end\"]) ,axis = 1)"
   ]
  },
  {
   "attachments": {},
   "cell_type": "markdown",
   "metadata": {},
   "source": [
    "## calculate the overlaps between a QTLs for expression and QTLs for chromatin accessibility of the promoters "
   ]
  },
  {
   "cell_type": "code",
   "execution_count": 122,
   "metadata": {},
   "outputs": [],
   "source": [
    "from intervaltree import Interval, IntervalTree\n",
    "def annotated_peaks(target_ATAC):\n",
    "    # Create a DataFrame for unique peaks\n",
    "    df_unique_peaks = target_ATAC[['phe_id', 'phe_chr', 'phe_from', 'phe_to']].drop_duplicates()\n",
    "\n",
    "    # Initialize an empty DataFrame to store the results\n",
    "    df_result = pd.DataFrame()\n",
    "\n",
    "    # Process each chromosome separately\n",
    "    for chromosome in df_unique_peaks['phe_chr'].unique():\n",
    "        # Subset data for the current chromosome\n",
    "        df_peaks_chr = df_unique_peaks[df_unique_peaks['phe_chr'] == chromosome].copy()\n",
    "        gtf_transcripts_chr = gtf_transcripts[gtf_transcripts['seqname'] == chromosome].copy()\n",
    "        gtf_transcripts_chr.drop_duplicates(subset=['TSS_start', 'gene_id'], inplace=True)\n",
    "\n",
    "        # Build interval tree for the current chromosome\n",
    "        tree = IntervalTree()\n",
    "        for row in gtf_transcripts_chr.itertuples():\n",
    "            # Extend TSS_start on 2.5kb in both directions to cover nearby peaks\n",
    "            tree.add(Interval(row.TSS_start - 2500, row.TSS_start + 2500, row.gene_id))\n",
    "\n",
    "        # Annotate peaks with gene_id\n",
    "        rows_list = []\n",
    "        for i, row in df_peaks_chr.iterrows():\n",
    "            intervals = tree[row.phe_from:row.phe_to]\n",
    "            gene_ids = set()  # Store gene_ids to prevent duplicates\n",
    "            for interval in intervals:  # Iterate through all overlapping intervals\n",
    "                if interval.data not in gene_ids:\n",
    "                    new_row = row.to_dict()\n",
    "                    new_row[\"gene_id\"] = interval.data\n",
    "                    rows_list.append(new_row)\n",
    "                    gene_ids.add(interval.data)  # Add gene_id to the set\n",
    "\n",
    "        df_peaks_chr = pd.DataFrame(rows_list)\n",
    "        \n",
    "        df_result = pd.concat([df_result, df_peaks_chr[['phe_id', 'gene_id']]])\n",
    "\n",
    "    # Now we can merge this back to the original peaks DataFrame\n",
    "    result = pd.merge(target_ATAC, df_result, how='left', on=['phe_id'])\n",
    "    return result[result[\"gene_id\"].notnull()]"
   ]
  },
  {
   "cell_type": "code",
   "execution_count": 123,
   "metadata": {},
   "outputs": [],
   "source": [
    "def get_values_RNA_ATAC_promoter(ref,target):\n",
    "    # in this case I want the ATAC-peak to be close to the TSS of the gene. The problem of course is that there are multiple TSS per gene.\n",
    "    annotated_target = annotated_peaks(target)\n",
    "\n",
    "    # now for each gene that has eQTL, I want to know what directionality the SNP has for the peak that overlaps a TSS\n",
    "    A_B_merged = ref[(ref[\"adj_beta_pval\"] < 0.1)][[\"phe_id\",\"var_id\",\"nom_pval\",\"slope\"]].merge(annotated_target[[\"phe_id\",\"var_id\",\"nom_pval\",\"slope\",\"gene_id\"]], suffixes = (\"_A\", \"_B\"), left_on = [\"var_id\", \"phe_id\"], right_on = [\"var_id\", \"gene_id\"], how = \"left\")\n",
    "    print(len(A_B_merged[A_B_merged[\"nom_pval_A\"] < 0.01])/ len(ref[(ref[\"adj_beta_pval\"] < 0.1)]))\n",
    "    print(len(A_B_merged[A_B_merged[\"nom_pval_B\"] < 0.0001])/ len(ref[(ref[\"adj_beta_pval\"] < 0.1)]))\n",
    "    # fig = px.scatter(A_B_merged, x = \"slope_A\", y = \"slope_B\", opacity = 0.2)\n",
    "    # fig.show()\n",
    "    df = A_B_merged[A_B_merged[\"nom_pval_B\"] < 0.0001]\n",
    "    # Create concordant mask (both positive or both negative)\n",
    "    concordant_mask = np.sign(df['slope_A']) == np.sign(df['slope_B'])\n",
    "\n",
    "    # Create discordant mask (one positive, one negative)\n",
    "    discordant_mask = np.sign(df['slope_A']) != np.sign(df['slope_B'])\n",
    "\n",
    "    # Count concordant and discordant rows\n",
    "    num_concordant = concordant_mask.sum()\n",
    "    num_discordant = discordant_mask.sum()\n",
    "\n",
    "    print(f\"Number of concordant rows: {num_concordant}\")\n",
    "    print(f\"Number of discordant rows: {num_discordant}\")\n",
    "    print(f\"ratio: {num_concordant/(num_discordant + num_concordant)}\")"
   ]
  },
  {
   "cell_type": "code",
   "execution_count": 124,
   "metadata": {},
   "outputs": [
    {
     "name": "stdout",
     "output_type": "stream",
     "text": [
      "1.0288088642659279\n",
      "0.11800554016620499\n",
      "Number of concordant rows: 394\n",
      "Number of discordant rows: 32\n",
      "ratio: 0.9248826291079812\n"
     ]
    }
   ],
   "source": [
    "get_values_RNA_ATAC_promoter(RNA_permuted_CD8, ATAC_nominal_CD8)"
   ]
  },
  {
   "cell_type": "code",
   "execution_count": 125,
   "metadata": {},
   "outputs": [
    {
     "name": "stdout",
     "output_type": "stream",
     "text": [
      "1.025079365079365\n",
      "0.1034920634920635\n",
      "Number of concordant rows: 301\n",
      "Number of discordant rows: 25\n",
      "ratio: 0.9233128834355828\n"
     ]
    }
   ],
   "source": [
    "get_values_RNA_ATAC_promoter(RNA_permuted_CD4, ATAC_nominal_CD4)"
   ]
  },
  {
   "attachments": {},
   "cell_type": "markdown",
   "metadata": {},
   "source": [
    "## calculate the overlaps between a QTLs for expression and QTLs for insulation score of the domain overlapping of the promoters \n",
    "also works for loops for all genes contained between the loop anchors"
   ]
  },
  {
   "cell_type": "code",
   "execution_count": 126,
   "metadata": {},
   "outputs": [],
   "source": [
    "from intervaltree import Interval, IntervalTree\n",
    "def annotated_ins(target_ins):\n",
    "    # Create a DataFrame for unique peaks\n",
    "    df_unique_peaks = target_ins[['phe_id', 'phe_chr', 'phe_from', 'phe_to']].drop_duplicates()\n",
    "\n",
    "    # Initialize an empty DataFrame to store the results\n",
    "    df_result = pd.DataFrame()\n",
    "\n",
    "    # Process each chromosome separately\n",
    "    for chromosome in df_unique_peaks['phe_chr'].unique():\n",
    "        # Subset data for the current chromosome\n",
    "        df_peaks_chr = df_unique_peaks[df_unique_peaks['phe_chr'] == chromosome].copy()\n",
    "        gtf_transcripts_chr = gtf_transcripts[gtf_transcripts['seqname'] == chromosome].copy()\n",
    "        gtf_transcripts_chr.drop_duplicates(subset=['TSS_start', 'gene_id'], inplace=True)\n",
    "\n",
    "        # Build interval tree for the current chromosome\n",
    "        tree = IntervalTree()\n",
    "        for row in gtf_transcripts_chr.itertuples():\n",
    "            tree.add(Interval(row.TSS_start - 1, row.TSS_start + 1, row.gene_id))\n",
    "\n",
    "        # Annotate peaks with gene_id\n",
    "        rows_list = []\n",
    "        for i, row in df_peaks_chr.iterrows():\n",
    "            intervals = tree[row.phe_from:row.phe_to]\n",
    "            gene_ids = set()  # Store gene_ids to prevent duplicates\n",
    "            for interval in intervals:  # Iterate through all overlapping intervals\n",
    "                if interval.data not in gene_ids:\n",
    "                    new_row = row.to_dict()\n",
    "                    new_row[\"gene_id\"] = interval.data\n",
    "                    rows_list.append(new_row)\n",
    "                    gene_ids.add(interval.data)  # Add gene_id to the set\n",
    "        df_peaks_chr = pd.DataFrame(rows_list)\n",
    "        \n",
    "        df_result = pd.concat([df_result, df_peaks_chr[['phe_id', 'gene_id']]])\n",
    "\n",
    "    # Now we can merge this back to the original peaks DataFrame\n",
    "    result = pd.merge(target_ins, df_result, how='left', on=['phe_id'])\n",
    "    return result[result[\"gene_id\"].notnull()]"
   ]
  },
  {
   "cell_type": "code",
   "execution_count": 127,
   "metadata": {},
   "outputs": [],
   "source": [
    "def get_values_RNA_ins_promoter(ref,target):\n",
    "    # in this case I want the QTL with the insulation score that overlaps the TSS of the gene. The problem of course is that there are multiple TSS per gene.\n",
    "    annotated_target = annotated_ins(target)\n",
    "\n",
    "    # now for each gene that has eQTL, I want to know what directionality the SNP has for the peak that overlaps a TSS\n",
    "    A_B_merged = ref[(ref[\"adj_beta_pval\"] < 0.1)][[\"phe_id\",\"var_id\",\"nom_pval\",\"slope\"]].merge(annotated_target[[\"phe_id\",\"var_id\",\"nom_pval\",\"slope\",\"gene_id\"]], suffixes = (\"_A\", \"_B\"), left_on = [\"var_id\", \"phe_id\"], right_on = [\"var_id\", \"gene_id\"], how = \"left\")\n",
    "    print(len(A_B_merged[A_B_merged[\"nom_pval_A\"] < 0.01])/ len(ref[(ref[\"adj_beta_pval\"] < 0.1)]))\n",
    "    print(len(A_B_merged[A_B_merged[\"nom_pval_B\"] < 0.0001])/ len(ref[(ref[\"adj_beta_pval\"] < 0.1)]))\n",
    "    # fig = px.scatter(A_B_merged, x = \"slope_A\", y = \"slope_B\", opacity = 0.2)\n",
    "    # fig.show()\n",
    "    df = A_B_merged[A_B_merged[\"nom_pval_B\"] < 0.0001]\n",
    "    # Create concordant mask (both positive or both negative)\n",
    "    concordant_mask = np.sign(df['slope_A']) == np.sign(df['slope_B'])\n",
    "\n",
    "    # Create discordant mask (one positive, one negative)\n",
    "    discordant_mask = np.sign(df['slope_A']) != np.sign(df['slope_B'])\n",
    "\n",
    "    # Count concordant and discordant rows\n",
    "    num_concordant = concordant_mask.sum()\n",
    "    num_discordant = discordant_mask.sum()\n",
    "\n",
    "    print(f\"Number of concordant rows: {num_concordant}\")\n",
    "    print(f\"Number of discordant rows: {num_discordant}\")\n",
    "    print(f\"ratio: {num_concordant/(num_discordant + num_concordant)}\")"
   ]
  },
  {
   "cell_type": "code",
   "execution_count": 128,
   "metadata": {},
   "outputs": [
    {
     "name": "stdout",
     "output_type": "stream",
     "text": [
      "1.0573407202216067\n",
      "0.09944598337950139\n",
      "Number of concordant rows: 320\n",
      "Number of discordant rows: 39\n",
      "ratio: 0.8913649025069638\n"
     ]
    }
   ],
   "source": [
    "get_values_RNA_ins_promoter(RNA_permuted_CD8, ins_nominal_CD8)"
   ]
  },
  {
   "cell_type": "code",
   "execution_count": 129,
   "metadata": {},
   "outputs": [
    {
     "name": "stdout",
     "output_type": "stream",
     "text": [
      "1.0552380952380953\n",
      "0.09714285714285714\n",
      "Number of concordant rows: 285\n",
      "Number of discordant rows: 21\n",
      "ratio: 0.9313725490196079\n"
     ]
    }
   ],
   "source": [
    "get_values_RNA_ins_promoter(RNA_permuted_CD4, ins_nominal_CD4)"
   ]
  },
  {
   "cell_type": "code",
   "execution_count": 130,
   "metadata": {},
   "outputs": [
    {
     "name": "stdout",
     "output_type": "stream",
     "text": [
      "1.2728531855955678\n",
      "0.07313019390581718\n",
      "Number of concordant rows: 176\n",
      "Number of discordant rows: 88\n",
      "ratio: 0.6666666666666666\n"
     ]
    }
   ],
   "source": [
    "get_values_RNA_ins_promoter(RNA_permuted_CD8, loop_nominal_CD8)"
   ]
  },
  {
   "cell_type": "code",
   "execution_count": 131,
   "metadata": {},
   "outputs": [
    {
     "name": "stdout",
     "output_type": "stream",
     "text": [
      "1.2457142857142858\n",
      "0.07428571428571429\n",
      "Number of concordant rows: 164\n",
      "Number of discordant rows: 70\n",
      "ratio: 0.7008547008547008\n"
     ]
    }
   ],
   "source": [
    "get_values_RNA_ins_promoter(RNA_permuted_CD4, loop_nominal_CD4)"
   ]
  },
  {
   "attachments": {},
   "cell_type": "markdown",
   "metadata": {},
   "source": [
    "## modified version so that it only considers the promoters overlapping the loop anchors"
   ]
  },
  {
   "cell_type": "code",
   "execution_count": 132,
   "metadata": {},
   "outputs": [],
   "source": [
    "from intervaltree import Interval, IntervalTree\n",
    "def annotated_loop_anchors(target_loop):\n",
    "    # Create a DataFrame for unique peaks\n",
    "    df_unique_loops = target_loop[['phe_id', 'phe_chr', 'phe_from', 'phe_to']].drop_duplicates()\n",
    "\n",
    "    # Initialize an empty DataFrame to store the results\n",
    "    df_result = pd.DataFrame()\n",
    "\n",
    "    # Process each chromosome separately\n",
    "    for chromosome in df_unique_loops['phe_chr'].unique():\n",
    "        # Subset data for the current chromosome\n",
    "        df_loops_chr = df_unique_loops[df_unique_loops['phe_chr'] == chromosome].copy()\n",
    "        gtf_transcripts_chr = gtf_transcripts[gtf_transcripts['seqname'] == chromosome].copy()\n",
    "        gtf_transcripts_chr.drop_duplicates(subset=['TSS_start', 'gene_id'], inplace=True)\n",
    "\n",
    "        # Build interval tree for the current chromosome\n",
    "        tree = IntervalTree()\n",
    "        for row in gtf_transcripts_chr.itertuples():\n",
    "            tree.add(Interval(row.TSS_start - 2500, row.TSS_start + 2500, row.gene_id))\n",
    "\n",
    "        # Annotate peaks with gene_id\n",
    "        rows_list = []\n",
    "        for i, row in df_loops_chr.iterrows():\n",
    "            intervals_A = tree[row.phe_from:row.phe_from + 5000]\n",
    "            intervals_B = tree[row.phe_to - 5000:row.phe_to]\n",
    "            gene_ids = set()  # Store gene_ids to prevent duplicates\n",
    "            for interval in intervals_A:  # Iterate through all overlapping intervals of anchor A\n",
    "                if interval.data not in gene_ids:\n",
    "                    new_row = row.to_dict()\n",
    "                    new_row[\"gene_id\"] = interval.data\n",
    "                    rows_list.append(new_row)\n",
    "                    gene_ids.add(interval.data)  # Add gene_id to the set\n",
    "            for interval in intervals_B:  # Iterate through all overlapping intervals of anchor B\n",
    "                if interval.data not in gene_ids:\n",
    "                    new_row = row.to_dict()\n",
    "                    new_row[\"gene_id\"] = interval.data\n",
    "                    rows_list.append(new_row)\n",
    "                    gene_ids.add(interval.data)  # Add gene_id to the set\n",
    "        df_loops_chr = pd.DataFrame(rows_list)\n",
    "        \n",
    "        df_result = pd.concat([df_result, df_loops_chr[['phe_id', 'gene_id']]])\n",
    "\n",
    "    # Now we can merge this back to the original peaks DataFrame\n",
    "    result = pd.merge(target_loop, df_result, how='left', on=['phe_id'])\n",
    "    return result[result[\"gene_id\"].notnull()]"
   ]
  },
  {
   "cell_type": "code",
   "execution_count": 133,
   "metadata": {},
   "outputs": [],
   "source": [
    "def get_values_RNA_loop_anchors_promoter(ref,target):\n",
    "    # in this case I want the eQTL with the loop anchors\n",
    "    annotated_target = annotated_loop_anchors(target)\n",
    "\n",
    "    # now for each gene that has eQTL, I want to know what directionality the SNP has for the peak that overlaps a TSS\n",
    "    A_B_merged = ref[(ref[\"adj_beta_pval\"] < 0.1)][[\"phe_id\",\"var_id\",\"nom_pval\",\"slope\"]].merge(annotated_target[[\"phe_id\",\"var_id\",\"nom_pval\",\"slope\",\"gene_id\"]], suffixes = (\"_A\", \"_B\"), left_on = [\"var_id\", \"phe_id\"], right_on = [\"var_id\", \"gene_id\"], how = \"left\")\n",
    "    print(len(A_B_merged[A_B_merged[\"nom_pval_A\"] < 0.01])/ len(ref[(ref[\"adj_beta_pval\"] < 0.1)]))\n",
    "    print(len(A_B_merged[A_B_merged[\"nom_pval_B\"] < 0.0001])/ len(ref[(ref[\"adj_beta_pval\"] < 0.1)]))\n",
    "    # fig = px.scatter(A_B_merged, x = \"slope_A\", y = \"slope_B\", opacity = 0.2)\n",
    "    # fig.show()\n",
    "    df = A_B_merged[A_B_merged[\"nom_pval_B\"] < 0.0001]\n",
    "    # Create concordant mask (both positive or both negative)\n",
    "    concordant_mask = np.sign(df['slope_A']) == np.sign(df['slope_B'])\n",
    "\n",
    "    # Create discordant mask (one positive, one negative)\n",
    "    discordant_mask = np.sign(df['slope_A']) != np.sign(df['slope_B'])\n",
    "\n",
    "    # Count concordant and discordant rows\n",
    "    num_concordant = concordant_mask.sum()\n",
    "    num_discordant = discordant_mask.sum()\n",
    "\n",
    "    print(f\"Number of concordant rows: {num_concordant}\")\n",
    "    print(f\"Number of discordant rows: {num_discordant}\")\n",
    "    print(f\"ratio: {num_concordant/(num_discordant + num_concordant)}\")"
   ]
  },
  {
   "cell_type": "code",
   "execution_count": 134,
   "metadata": {},
   "outputs": [
    {
     "name": "stdout",
     "output_type": "stream",
     "text": [
      "1.0493074792243768\n",
      "0.0260387811634349\n",
      "Number of concordant rows: 77\n",
      "Number of discordant rows: 17\n",
      "ratio: 0.8191489361702128\n"
     ]
    }
   ],
   "source": [
    "get_values_RNA_loop_anchors_promoter(RNA_permuted_CD8, loop_nominal_CD8)\n"
   ]
  },
  {
   "cell_type": "code",
   "execution_count": 135,
   "metadata": {},
   "outputs": [
    {
     "name": "stdout",
     "output_type": "stream",
     "text": [
      "1.0504761904761906\n",
      "0.024444444444444446\n",
      "Number of concordant rows: 67\n",
      "Number of discordant rows: 10\n",
      "ratio: 0.8701298701298701\n"
     ]
    }
   ],
   "source": [
    "get_values_RNA_loop_anchors_promoter(RNA_permuted_CD4, loop_nominal_CD4)"
   ]
  },
  {
   "attachments": {},
   "cell_type": "markdown",
   "metadata": {},
   "source": [
    "## and finally, do the above but with ATAC peaks rather than genes"
   ]
  },
  {
   "cell_type": "code",
   "execution_count": 136,
   "metadata": {},
   "outputs": [],
   "source": [
    "from intervaltree import Interval, IntervalTree\n",
    "def annotated_loop_ATAC(target_loop,ref_ATAC):\n",
    "    # Create a DataFrame for unique peaks\n",
    "    df_unique_loops = target_loop[['phe_id', 'phe_chr', 'phe_from', 'phe_to']].drop_duplicates()\n",
    "\n",
    "    # Initialize an empty DataFrame to store the results\n",
    "    df_result = pd.DataFrame()\n",
    "\n",
    "    # Process each chromosome separately\n",
    "    for chromosome in df_unique_loops['phe_chr'].unique():\n",
    "        # Subset data for the current chromosome\n",
    "        df_loops_chr = df_unique_loops[df_unique_loops['phe_chr'] == chromosome].copy()\n",
    "        ref_ATAC_chr = ref_ATAC[ref_ATAC['phe_chr'] == chromosome].copy()\n",
    "        ref_ATAC_chr.drop_duplicates(subset=['phe_id'], inplace=True)\n",
    "\n",
    "        # Build interval tree for the current chromosome\n",
    "        tree = IntervalTree()\n",
    "        for row in ref_ATAC_chr.itertuples():\n",
    "            tree.add(Interval(row.phe_from - 5000, row.phe_to + 5000, row.phe_id))\n",
    "\n",
    "        # Annotate loops with peak ids\n",
    "        rows_list = []\n",
    "        for i, row in df_loops_chr.iterrows():\n",
    "            intervals = tree[row.phe_from:row.phe_to]\n",
    "            peak_ids = set()  # Store gene_ids to prevent duplicates\n",
    "            for interval in intervals:  # Iterate through all overlapping intervals\n",
    "                if interval.data not in peak_ids:\n",
    "                    new_row = row.to_dict()\n",
    "                    new_row[\"peak_ids\"] = interval.data\n",
    "                    rows_list.append(new_row)\n",
    "                    peak_ids.add(interval.data)  # Add gene_id to the set\n",
    "        df_loops_chr = pd.DataFrame(rows_list)\n",
    "        if len(df_loops_chr) > 1:\n",
    "            df_result = pd.concat([df_result, df_loops_chr[['phe_id', 'peak_ids']]])\n",
    "\n",
    "    # Now we can merge this back to the original peaks DataFrame\n",
    "    result = pd.merge(target_loop, df_result, how='left', on=['phe_id'])\n",
    "    return result[result[\"peak_ids\"].notnull()]"
   ]
  },
  {
   "cell_type": "code",
   "execution_count": 137,
   "metadata": {},
   "outputs": [],
   "source": [
    "def get_values_ATAC_loop(ref,target):\n",
    "    annotated_target = annotated_loop_ATAC(target,ref[(ref[\"adj_beta_pval\"] < 0.1)])\n",
    "\n",
    "    # now for each gene that has eQTL, I want to know what directionality the SNP has for the peak that overlaps a TSS\n",
    "    A_B_merged = ref[(ref[\"adj_beta_pval\"] < 0.1)][[\"phe_id\",\"var_id\",\"nom_pval\",\"slope\"]].merge(annotated_target[[\"phe_id\",\"var_id\",\"nom_pval\",\"slope\",\"peak_ids\"]], suffixes = (\"_A\", \"_B\"), left_on = [\"var_id\", \"phe_id\"], right_on = [\"var_id\", \"peak_ids\"], how = \"left\")\n",
    "    print(len(A_B_merged[A_B_merged[\"nom_pval_A\"] < 0.01])/ len(ref[(ref[\"adj_beta_pval\"] < 0.1)]))\n",
    "    print(len(A_B_merged[A_B_merged[\"nom_pval_B\"] < 0.0001])/ len(ref[(ref[\"adj_beta_pval\"] < 0.1)]))\n",
    "    # fig = px.scatter(A_B_merged, x = \"slope_A\", y = \"slope_B\", opacity = 0.2)\n",
    "    # fig.show()\n",
    "    df = A_B_merged[A_B_merged[\"nom_pval_B\"] < 0.0001]\n",
    "    # Create concordant mask (both positive or both negative)\n",
    "    concordant_mask = np.sign(df['slope_A']) == np.sign(df['slope_B'])\n",
    "\n",
    "    # Create discordant mask (one positive, one negative)\n",
    "    discordant_mask = np.sign(df['slope_A']) != np.sign(df['slope_B'])\n",
    "\n",
    "    # Count concordant and discordant rows\n",
    "    num_concordant = concordant_mask.sum()\n",
    "    num_discordant = discordant_mask.sum()\n",
    "\n",
    "    print(f\"Number of concordant rows: {num_concordant}\")\n",
    "    print(f\"Number of discordant rows: {num_discordant}\")\n",
    "    print(f\"ratio: {num_concordant/(num_discordant + num_concordant)}\")"
   ]
  },
  {
   "cell_type": "code",
   "execution_count": 138,
   "metadata": {},
   "outputs": [
    {
     "name": "stdout",
     "output_type": "stream",
     "text": [
      "1.3053297199638663\n",
      "0.10925688204250464\n",
      "Number of concordant rows: 1785\n",
      "Number of discordant rows: 513\n",
      "ratio: 0.7767624020887729\n"
     ]
    }
   ],
   "source": [
    "get_values_ATAC_loop(ATAC_permuted_CD8, loop_nominal_CD8)"
   ]
  },
  {
   "cell_type": "code",
   "execution_count": 139,
   "metadata": {},
   "outputs": [
    {
     "name": "stdout",
     "output_type": "stream",
     "text": [
      "1.290559404404922\n",
      "0.0951297694137111\n",
      "Number of concordant rows: 1461\n",
      "Number of discordant rows: 379\n",
      "ratio: 0.7940217391304348\n"
     ]
    }
   ],
   "source": [
    "get_values_ATAC_loop(ATAC_permuted_CD4, loop_nominal_CD4)"
   ]
  },
  {
   "cell_type": "code",
   "execution_count": 140,
   "metadata": {},
   "outputs": [
    {
     "name": "stdout",
     "output_type": "stream",
     "text": [
      "1.053392288308848\n",
      "0.1143916702324918\n",
      "Number of concordant rows: 2251\n",
      "Number of discordant rows: 155\n",
      "ratio: 0.9355777223607648\n"
     ]
    }
   ],
   "source": [
    "get_values_ATAC_loop(ATAC_permuted_CD8, ins_nominal_CD8)"
   ]
  },
  {
   "cell_type": "code",
   "execution_count": 141,
   "metadata": {},
   "outputs": [
    {
     "name": "stdout",
     "output_type": "stream",
     "text": [
      "1.0521662702926275\n",
      "0.10531485885637473\n",
      "Number of concordant rows: 1912\n",
      "Number of discordant rows: 125\n",
      "ratio: 0.9386352479135984\n"
     ]
    }
   ],
   "source": [
    "get_values_ATAC_loop(ATAC_permuted_CD4, ins_nominal_CD4)"
   ]
  },
  {
   "cell_type": "code",
   "execution_count": 142,
   "metadata": {},
   "outputs": [],
   "source": [
    "from intervaltree import Interval, IntervalTree\n",
    "def annotated_loop_anchors_ATAC(target_loop,ref_ATAC):\n",
    "    # Create a DataFrame for unique peaks\n",
    "    df_unique_loops = target_loop[['phe_id', 'phe_chr', 'phe_from', 'phe_to']].drop_duplicates()\n",
    "\n",
    "    # Initialize an empty DataFrame to store the results\n",
    "    df_result = pd.DataFrame()\n",
    "\n",
    "    # Process each chromosome separately\n",
    "    for chromosome in df_unique_loops['phe_chr'].unique():\n",
    "        # Subset data for the current chromosome\n",
    "        df_loops_chr = df_unique_loops[df_unique_loops['phe_chr'] == chromosome].copy()\n",
    "        ref_ATAC_chr = ref_ATAC[ref_ATAC['phe_chr'] == chromosome].copy()\n",
    "        ref_ATAC_chr.drop_duplicates(subset=['phe_id'], inplace=True)\n",
    "\n",
    "        # Build interval tree for the current chromosome\n",
    "        tree = IntervalTree()\n",
    "        for row in ref_ATAC_chr.itertuples():\n",
    "            tree.add(Interval(row.phe_from - 5000, row.phe_to + 5000, row.phe_id))\n",
    "\n",
    "        # Annotate loops with peak ids\n",
    "        rows_list = []\n",
    "        for i, row in df_loops_chr.iterrows():\n",
    "            intervals_A = tree[row.phe_from:row.phe_from + 5000]\n",
    "            intervals_B = tree[row.phe_to - 5000:row.phe_to]\n",
    "            peak_ids = set()  # Store peak_ids to prevent duplicates\n",
    "            for interval in intervals_A:  # Iterate through all overlapping intervals of anchor A\n",
    "                if interval.data not in peak_ids:\n",
    "                    new_row = row.to_dict()\n",
    "                    new_row[\"peak_ids\"] = interval.data\n",
    "                    rows_list.append(new_row)\n",
    "                    peak_ids.add(interval.data)  # Add peak_ids to the set\n",
    "            for interval in intervals_B:  # Iterate through all overlapping intervals of anchor B\n",
    "                if interval.data not in peak_ids:\n",
    "                    new_row = row.to_dict()\n",
    "                    new_row[\"peak_ids\"] = interval.data\n",
    "                    rows_list.append(new_row)\n",
    "                    peak_ids.add(interval.data)  # Add peak_ids to the set\n",
    "        df_loops_chr = pd.DataFrame(rows_list)\n",
    "        if len(df_loops_chr) > 1:\n",
    "            df_result = pd.concat([df_result, df_loops_chr[['phe_id', 'peak_ids']]])\n",
    "\n",
    "    # Now we can merge this back to the original peaks DataFrame\n",
    "    result = pd.merge(target_loop, df_result, how='left', on=['phe_id'])\n",
    "    return result[result[\"peak_ids\"].notnull()]"
   ]
  },
  {
   "cell_type": "code",
   "execution_count": 143,
   "metadata": {},
   "outputs": [],
   "source": [
    "def get_values_ATAC_loop_anchors(ref,target):\n",
    "    annotated_target = annotated_loop_anchors_ATAC(target,ref[(ref[\"adj_beta_pval\"] < 0.1)])\n",
    "\n",
    "    # now for each gene that has eQTL, I want to know what directionality the SNP has for the peak that overlaps a TSS\n",
    "    A_B_merged = ref[(ref[\"adj_beta_pval\"] < 0.1)][[\"phe_id\",\"var_id\",\"nom_pval\",\"slope\"]].merge(annotated_target[[\"phe_id\",\"var_id\",\"nom_pval\",\"slope\",\"peak_ids\"]], suffixes = (\"_A\", \"_B\"), left_on = [\"var_id\", \"phe_id\"], right_on = [\"var_id\", \"peak_ids\"], how = \"left\")\n",
    "    print(len(A_B_merged[A_B_merged[\"nom_pval_A\"] < 0.01])/ len(ref[(ref[\"adj_beta_pval\"] < 0.1)]))\n",
    "    print(len(A_B_merged[A_B_merged[\"nom_pval_B\"] < 0.0001])/ len(ref[(ref[\"adj_beta_pval\"] < 0.1)]))\n",
    "    # fig = px.scatter(A_B_merged, x = \"slope_A\", y = \"slope_B\", opacity = 0.2)\n",
    "    # fig.show()\n",
    "    df = A_B_merged[A_B_merged[\"nom_pval_B\"] < 0.0001]\n",
    "    # Create concordant mask (both positive or both negative)\n",
    "    concordant_mask = np.sign(df['slope_A']) == np.sign(df['slope_B'])\n",
    "\n",
    "    # Create discordant mask (one positive, one negative)\n",
    "    discordant_mask = np.sign(df['slope_A']) != np.sign(df['slope_B'])\n",
    "\n",
    "    # Count concordant and discordant rows\n",
    "    num_concordant = concordant_mask.sum()\n",
    "    num_discordant = discordant_mask.sum()\n",
    "\n",
    "    print(f\"Number of concordant rows: {num_concordant}\")\n",
    "    print(f\"Number of discordant rows: {num_discordant}\")\n",
    "    print(f\"ratio: {num_concordant/(num_discordant + num_concordant)}\")"
   ]
  },
  {
   "cell_type": "code",
   "execution_count": 144,
   "metadata": {},
   "outputs": [
    {
     "name": "stdout",
     "output_type": "stream",
     "text": [
      "1.0583844434935576\n",
      "0.04131602719535967\n",
      "Number of concordant rows: 790\n",
      "Number of discordant rows: 79\n",
      "ratio: 0.9090909090909091\n"
     ]
    }
   ],
   "source": [
    "get_values_ATAC_loop_anchors(ATAC_permuted_CD8, loop_nominal_CD8)"
   ]
  },
  {
   "cell_type": "code",
   "execution_count": 145,
   "metadata": {},
   "outputs": [
    {
     "name": "stdout",
     "output_type": "stream",
     "text": [
      "1.0565091510702098\n",
      "0.039809740461172576\n",
      "Number of concordant rows: 697\n",
      "Number of discordant rows: 73\n",
      "ratio: 0.9051948051948052\n"
     ]
    }
   ],
   "source": [
    "get_values_ATAC_loop_anchors(ATAC_permuted_CD4, loop_nominal_CD4)"
   ]
  },
  {
   "cell_type": "code",
   "execution_count": 146,
   "metadata": {},
   "outputs": [],
   "source": [
    "def get_values_SAME(ref,target):\n",
    "    A_B_merged = ref[(ref[\"adj_beta_pval\"] < 0.1)][[\"phe_id\",\"var_id\",\"nom_pval\",\"slope\"]].merge(target[[\"phe_id\",\"var_id\",\"nom_pval\",\"slope\"]], suffixes = (\"_A\", \"_B\"), on = [\"var_id\", \"phe_id\"], how = \"left\")\n",
    "    print(len(A_B_merged[A_B_merged[\"nom_pval_A\"] < 0.01])/ len(ref[(ref[\"adj_beta_pval\"] < 0.1)]))\n",
    "    print(len(A_B_merged[A_B_merged[\"nom_pval_B\"] < 0.0001])/ len(ref[(ref[\"adj_beta_pval\"] < 0.1)]))\n",
    "    # fig = px.scatter(A_B_merged, x = \"slope_A\", y = \"slope_B\", opacity = 0.2)\n",
    "    # fig.show()\n",
    "    df = A_B_merged[A_B_merged[\"nom_pval_B\"] < 0.0001]\n",
    "    # Create concordant mask (both positive or both negative)\n",
    "    concordant_mask = np.sign(df['slope_A']) == np.sign(df['slope_B'])\n",
    "\n",
    "    # Create discordant mask (one positive, one negative)\n",
    "    discordant_mask = np.sign(df['slope_A']) != np.sign(df['slope_B'])\n",
    "\n",
    "    # Count concordant and discordant rows\n",
    "    num_concordant = concordant_mask.sum()\n",
    "    num_discordant = discordant_mask.sum()\n",
    "\n",
    "    print(f\"Number of concordant rows: {num_concordant}\")\n",
    "    print(f\"Number of discordant rows: {num_discordant}\")\n",
    "    print(f\"ratio: {num_concordant/(num_discordant + num_concordant)}\")"
   ]
  },
  {
   "cell_type": "code",
   "execution_count": 147,
   "metadata": {},
   "outputs": [
    {
     "name": "stdout",
     "output_type": "stream",
     "text": [
      "1.0\n",
      "0.24487534626038782\n",
      "Number of concordant rows: 884\n",
      "Number of discordant rows: 0\n",
      "ratio: 1.0\n"
     ]
    }
   ],
   "source": [
    "get_values_SAME(RNA_permuted_CD8,RNA_nominal_CD4)"
   ]
  },
  {
   "cell_type": "code",
   "execution_count": 148,
   "metadata": {},
   "outputs": [
    {
     "name": "stdout",
     "output_type": "stream",
     "text": [
      "1.0\n",
      "0.3003174603174603\n",
      "Number of concordant rows: 946\n",
      "Number of discordant rows: 0\n",
      "ratio: 1.0\n"
     ]
    }
   ],
   "source": [
    "get_values_SAME(RNA_permuted_CD4,RNA_nominal_CD8)"
   ]
  },
  {
   "cell_type": "code",
   "execution_count": 149,
   "metadata": {},
   "outputs": [
    {
     "name": "stdout",
     "output_type": "stream",
     "text": [
      "1.0\n",
      "0.2512242666286312\n",
      "Number of concordant rows: 5284\n",
      "Number of discordant rows: 0\n",
      "ratio: 1.0\n"
     ]
    }
   ],
   "source": [
    "get_values_SAME(ATAC_permuted_CD8,ATAC_nominal_CD4)"
   ]
  },
  {
   "cell_type": "code",
   "execution_count": 150,
   "metadata": {},
   "outputs": [
    {
     "name": "stdout",
     "output_type": "stream",
     "text": [
      "1.0\n",
      "0.2806845207320856\n",
      "Number of concordant rows: 5428\n",
      "Number of discordant rows: 1\n",
      "ratio: 0.9998158040154724\n"
     ]
    }
   ],
   "source": [
    "get_values_SAME(ATAC_permuted_CD4,ATAC_nominal_CD8)"
   ]
  },
  {
   "cell_type": "code",
   "execution_count": 151,
   "metadata": {},
   "outputs": [
    {
     "name": "stdout",
     "output_type": "stream",
     "text": [
      "1.0\n",
      "0.1811998001614081\n",
      "Number of concordant rows: 4715\n",
      "Number of discordant rows: 0\n",
      "ratio: 1.0\n"
     ]
    }
   ],
   "source": [
    "get_values_SAME(ins_permuted_CD8,ins_nominal_CD4)"
   ]
  },
  {
   "cell_type": "code",
   "execution_count": 152,
   "metadata": {},
   "outputs": [
    {
     "name": "stdout",
     "output_type": "stream",
     "text": [
      "1.0\n",
      "0.20022574273390575\n",
      "Number of concordant rows: 4967\n",
      "Number of discordant rows: 0\n",
      "ratio: 1.0\n"
     ]
    }
   ],
   "source": [
    "get_values_SAME(ins_permuted_CD4,ins_nominal_CD8)"
   ]
  },
  {
   "cell_type": "code",
   "execution_count": 153,
   "metadata": {},
   "outputs": [
    {
     "name": "stdout",
     "output_type": "stream",
     "text": [
      "1.0\n",
      "0.06085967335662631\n",
      "Number of concordant rows: 749\n",
      "Number of discordant rows: 0\n",
      "ratio: 1.0\n"
     ]
    }
   ],
   "source": [
    "get_values_SAME(loop_permuted_CD8,loop_nominal_CD4)"
   ]
  },
  {
   "cell_type": "code",
   "execution_count": 154,
   "metadata": {},
   "outputs": [
    {
     "name": "stdout",
     "output_type": "stream",
     "text": [
      "1.0\n",
      "0.06761535144458819\n",
      "Number of concordant rows: 784\n",
      "Number of discordant rows: 0\n",
      "ratio: 1.0\n"
     ]
    }
   ],
   "source": [
    "get_values_SAME(loop_permuted_CD4,loop_nominal_CD8)"
   ]
  },
  {
   "cell_type": "code",
   "execution_count": null,
   "metadata": {},
   "outputs": [],
   "source": []
  },
  {
   "cell_type": "code",
   "execution_count": null,
   "metadata": {},
   "outputs": [],
   "source": []
  },
  {
   "cell_type": "code",
   "execution_count": null,
   "metadata": {},
   "outputs": [],
   "source": []
  },
  {
   "cell_type": "code",
   "execution_count": null,
   "metadata": {},
   "outputs": [],
   "source": []
  },
  {
   "cell_type": "code",
   "execution_count": null,
   "metadata": {},
   "outputs": [],
   "source": []
  }
 ],
 "metadata": {
  "kernelspec": {
   "display_name": "Python 3",
   "language": "python",
   "name": "python3"
  },
  "language_info": {
   "codemirror_mode": {
    "name": "ipython",
    "version": 3
   },
   "file_extension": ".py",
   "mimetype": "text/x-python",
   "name": "python",
   "nbconvert_exporter": "python",
   "pygments_lexer": "ipython3",
   "version": "3.9.10"
  },
  "orig_nbformat": 4
 },
 "nbformat": 4,
 "nbformat_minor": 2
}
