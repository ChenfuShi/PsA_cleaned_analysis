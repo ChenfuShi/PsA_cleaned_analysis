{
 "cells": [
  {
   "attachments": {},
   "cell_type": "markdown",
   "metadata": {},
   "source": [
    "# script to prepare the files for chromatin accessibility QTL analysis\n",
    "\n",
    "genotypes are only available through protected access\n",
    "\n",
    "QTL was generated using QTLtools"
   ]
  },
  {
   "cell_type": "code",
   "execution_count": 1,
   "metadata": {},
   "outputs": [],
   "source": [
    "import os\n",
    "import pandas as pd\n",
    "import numpy as np\n",
    "import plotly.express as px\n",
    "os.chdir(\"/mnt/jw01-aruk-home01/projects/psa_functional_genomics/PsA_cleaned_analysis/QTL_analysis\")\n",
    "base_dir = \"/mnt/jw01-aruk-home01/projects/psa_functional_genomics/PsA_cleaned_analysis\""
   ]
  },
  {
   "attachments": {},
   "cell_type": "markdown",
   "metadata": {},
   "source": [
    "## prepare the normalized counts for caQTL"
   ]
  },
  {
   "cell_type": "code",
   "execution_count": 2,
   "metadata": {},
   "outputs": [],
   "source": [
    "ATAC_normalised_counts = pd.read_csv(f\"{base_dir}/ATAC_seq_analysis/ATAC_DESeq2_quantile_normalized_counts.csv\", index_col = 0)\n",
    "metadata_ATAC = pd.read_csv(f\"{base_dir}/metadata/cleaned_ATAC_metadata.csv\", index_col=0)\n",
    "gtf_annotation_df = pd.read_pickle(f\"{base_dir}/gencode_gtf.pickle\")\n",
    "gtf_transcripts = gtf_annotation_df[(gtf_annotation_df[\"feature\"] == \"transcript\") & (gtf_annotation_df[\"transcript_type\"] == \"protein_coding\")].dropna(axis=1, how='all')\n",
    "gtf_transcripts[\"gene_id\"] = gtf_transcripts[\"gene_id\"].str.split(\".\").str[0]\n",
    "gtf_transcripts[\"transcript_id\"] = gtf_transcripts[\"transcript_id\"].str.split(\".\").str[0]\n",
    "gtf_transcripts[\"TSS_start\"] = gtf_transcripts.apply(lambda x: int(x[\"start\"]) if x[\"strand\"] == \"+\" else int(x[\"end\"]) ,axis = 1)\n",
    "gtf_genes = gtf_annotation_df[(gtf_annotation_df[\"feature\"] == \"gene\") & (gtf_annotation_df[\"gene_type\"] == \"protein_coding\")].dropna(axis=1, how='all')\n",
    "gtf_genes[\"gene_id\"] = gtf_genes[\"gene_id\"].str.split(\".\").str[0]\n",
    "gtf_genes[\"TSS_start\"] = gtf_genes.apply(lambda x: int(x[\"start\"]) if x[\"strand\"] == \"+\" else int(x[\"end\"]) ,axis = 1)\n",
    "gtf_genes[\"length\"] = gtf_genes[\"end\"].astype(int) - gtf_genes[\"start\"].astype(int)"
   ]
  },
  {
   "cell_type": "code",
   "execution_count": 3,
   "metadata": {},
   "outputs": [],
   "source": [
    "ATAC_normalised_counts[\"gene_id\"] = ATAC_normalised_counts.index\n",
    "ATAC_normalised_counts[\"length\"] = ATAC_normalised_counts[\"END\"] - ATAC_normalised_counts[\"START\"] \n",
    "ATAC_normalised_counts[\"strand\"] = \"+\""
   ]
  },
  {
   "cell_type": "code",
   "execution_count": 4,
   "metadata": {},
   "outputs": [],
   "source": [
    "# we don't have genotypes for NRHV319 and NRHV005\n",
    "samples = metadata_ATAC[~metadata_ATAC[\"patient\"].isin([\"NRHV319\", \"NRHV005\"])][\"patient\"].to_list()"
   ]
  },
  {
   "attachments": {},
   "cell_type": "markdown",
   "metadata": {},
   "source": [
    "## CD8 counts"
   ]
  },
  {
   "cell_type": "code",
   "execution_count": 5,
   "metadata": {},
   "outputs": [],
   "source": [
    "wanted_samples = metadata_ATAC[(metadata_ATAC[\"cell_type\"] == \"CD8\") & metadata_ATAC[\"patient\"].isin(samples)][\"id\"].to_list()"
   ]
  },
  {
   "cell_type": "code",
   "execution_count": 6,
   "metadata": {},
   "outputs": [],
   "source": [
    "counts_CD8 = ATAC_normalised_counts[[\"CHR\", \"START\", \"END\", \"gene_id\", \"length\", \"strand\"] + wanted_samples].copy()"
   ]
  },
  {
   "cell_type": "code",
   "execution_count": 7,
   "metadata": {},
   "outputs": [],
   "source": [
    "df_mapper = metadata_ATAC[(metadata_ATAC[\"cell_type\"] == \"CD8\") & metadata_ATAC[\"patient\"].isin(samples)][[\"id\", \"patient\"]]"
   ]
  },
  {
   "cell_type": "code",
   "execution_count": 8,
   "metadata": {},
   "outputs": [],
   "source": [
    "counts_CD8[wanted_samples] = np.log2(counts_CD8[wanted_samples] + 1)"
   ]
  },
  {
   "cell_type": "code",
   "execution_count": 9,
   "metadata": {},
   "outputs": [],
   "source": [
    "counts_CD8 = counts_CD8.rename(columns = dict(zip(df_mapper['id'], df_mapper['patient'])))\n",
    "counts_CD8 = counts_CD8.rename(columns = {\"CHR\":\"#chr\", \"START\":\"start\", \"END\":\"end\",\"gene_id\":\"gene\"})"
   ]
  },
  {
   "cell_type": "code",
   "execution_count": 10,
   "metadata": {},
   "outputs": [],
   "source": [
    "counts_CD8 = counts_CD8[counts_CD8[\"#chr\"].isin([\"chr\" + str(i) for i in range(1, 23)])]"
   ]
  },
  {
   "cell_type": "code",
   "execution_count": 11,
   "metadata": {},
   "outputs": [],
   "source": [
    "counts_CD8.sort_values([\"#chr\",\"start\"]).to_csv(\"/mnt/jw01-aruk-home01/projects/psa_functional_genomics/PsA_cleaned_analysis/QTL_analysis/ATAC/ATAC_CD8_test.bed\", sep = \"\\t\", index = False)\n",
    "!bgzip -f /mnt/iusers01/jw01/mdefscs4/psa_functional_genomics/PsA_cleaned_analysis/QTL_analysis/ATAC/ATAC_CD8_test.bed\n",
    "!tabix -f -p bed /mnt/iusers01/jw01/mdefscs4/psa_functional_genomics/PsA_cleaned_analysis/QTL_analysis/ATAC/ATAC_CD8_test.bed.gz"
   ]
  },
  {
   "attachments": {},
   "cell_type": "markdown",
   "metadata": {},
   "source": [
    "## CD4 counts"
   ]
  },
  {
   "cell_type": "code",
   "execution_count": 12,
   "metadata": {},
   "outputs": [],
   "source": [
    "# we don't have genotypes for NRHV319 and NRHV005\n",
    "samples = metadata_ATAC[~metadata_ATAC[\"patient\"].isin([\"NRHV319\", \"NRHV005\"])][\"patient\"].to_list()"
   ]
  },
  {
   "cell_type": "code",
   "execution_count": 13,
   "metadata": {},
   "outputs": [],
   "source": [
    "# PSA4945 and NRHV321 were also identified as outliers\n",
    "wanted_samples = metadata_ATAC[(metadata_ATAC[\"cell_type\"] == \"CD4\") & metadata_ATAC[\"patient\"].isin(samples) & (~metadata_ATAC[\"patient\"].isin([\"PSA4945\", \"NRHV321\"]))][\"id\"].to_list()"
   ]
  },
  {
   "cell_type": "code",
   "execution_count": 14,
   "metadata": {},
   "outputs": [],
   "source": [
    "counts_CD4 = ATAC_normalised_counts[[\"CHR\", \"START\", \"END\", \"gene_id\", \"length\", \"strand\"] + wanted_samples].copy()"
   ]
  },
  {
   "cell_type": "code",
   "execution_count": 15,
   "metadata": {},
   "outputs": [],
   "source": [
    "df_mapper = metadata_ATAC[(metadata_ATAC[\"cell_type\"] == \"CD4\") & metadata_ATAC[\"patient\"].isin(samples)][[\"id\", \"patient\"]]"
   ]
  },
  {
   "cell_type": "code",
   "execution_count": 16,
   "metadata": {},
   "outputs": [],
   "source": [
    "counts_CD4[wanted_samples] = np.log2(counts_CD4[wanted_samples] + 1)"
   ]
  },
  {
   "cell_type": "code",
   "execution_count": 17,
   "metadata": {},
   "outputs": [],
   "source": [
    "counts_CD4 = counts_CD4.rename(columns = dict(zip(df_mapper['id'], df_mapper['patient'])))\n",
    "counts_CD4 = counts_CD4.rename(columns = {\"CHR\":\"#chr\", \"START\":\"start\", \"END\":\"end\",\"gene_id\":\"gene\"})"
   ]
  },
  {
   "cell_type": "code",
   "execution_count": 18,
   "metadata": {},
   "outputs": [],
   "source": [
    "counts_CD4 = counts_CD4[counts_CD4[\"#chr\"].isin([\"chr\" + str(i) for i in range(1, 23)])]"
   ]
  },
  {
   "cell_type": "code",
   "execution_count": 19,
   "metadata": {},
   "outputs": [],
   "source": [
    "counts_CD4.sort_values([\"#chr\",\"start\"]).to_csv(\"/mnt/jw01-aruk-home01/projects/psa_functional_genomics/PsA_cleaned_analysis/QTL_analysis/ATAC/ATAC_CD4_test.bed\", sep = \"\\t\", index = False)\n",
    "!bgzip -f /mnt/iusers01/jw01/mdefscs4/psa_functional_genomics/PsA_cleaned_analysis/QTL_analysis/ATAC/ATAC_CD4_test.bed\n",
    "!tabix -f -p bed /mnt/iusers01/jw01/mdefscs4/psa_functional_genomics/PsA_cleaned_analysis/QTL_analysis/ATAC/ATAC_CD4_test.bed.gz"
   ]
  },
  {
   "attachments": {},
   "cell_type": "markdown",
   "metadata": {},
   "source": [
    "QTLtools pca --bed ATAC_CD8_test.bed.gz --scale --center --out ATAC_CD8_test\n",
    "QTLtools pca --bed ATAC_CD4_test.bed.gz --scale --center --out ATAC_CD4_test"
   ]
  },
  {
   "attachments": {},
   "cell_type": "markdown",
   "metadata": {},
   "source": [
    "## running a permutation test to identify the best number of PCA component as covariates identified the following:\n",
    "for CD8: 0 genotype covariates and 10 phenotype covariates\n",
    "for CD4: 0 genotype covariates and 5 phenotype covariates"
   ]
  },
  {
   "cell_type": "code",
   "execution_count": null,
   "metadata": {},
   "outputs": [],
   "source": [
    "# see bash scripts for running of QTL tools"
   ]
  },
  {
   "cell_type": "code",
   "execution_count": 20,
   "metadata": {},
   "outputs": [],
   "source": [
    "# merge the final results\n",
    "!cat /mnt/iusers01/jw01/mdefscs4/psa_functional_genomics/PsA_cleaned_analysis/QTL_analysis/ATAC/output_final/nominal_CD4_0* > /mnt/iusers01/jw01/mdefscs4/psa_functional_genomics/PsA_cleaned_analysis/QTL_analysis/ATAC/output_final/ATAC_nominal_CD4_merged.txt\n",
    "!cat /mnt/iusers01/jw01/mdefscs4/psa_functional_genomics/PsA_cleaned_analysis/QTL_analysis/ATAC/output_final/nominal_CD8_0* > /mnt/iusers01/jw01/mdefscs4/psa_functional_genomics/PsA_cleaned_analysis/QTL_analysis/ATAC/output_final/ATAC_nominal_CD8_merged.txt\n",
    "\n",
    "!cat /mnt/iusers01/jw01/mdefscs4/psa_functional_genomics/PsA_cleaned_analysis/QTL_analysis/ATAC/output_final/permuted_CD4_0* > /mnt/iusers01/jw01/mdefscs4/psa_functional_genomics/PsA_cleaned_analysis/QTL_analysis/ATAC/output_final/ATAC_permuted_CD4_merged.txt\n",
    "!cat /mnt/iusers01/jw01/mdefscs4/psa_functional_genomics/PsA_cleaned_analysis/QTL_analysis/ATAC/output_final/permuted_CD8_0* > /mnt/iusers01/jw01/mdefscs4/psa_functional_genomics/PsA_cleaned_analysis/QTL_analysis/ATAC/output_final/ATAC_permuted_CD8_merged.txt"
   ]
  },
  {
   "cell_type": "code",
   "execution_count": 2,
   "metadata": {},
   "outputs": [],
   "source": [
    "from statsmodels.stats import multitest"
   ]
  },
  {
   "cell_type": "markdown",
   "metadata": {},
   "source": [
    "## Add FDR correction to permuted p-values"
   ]
  },
  {
   "cell_type": "code",
   "execution_count": 3,
   "metadata": {},
   "outputs": [
    {
     "data": {
      "text/plain": [
       "21033"
      ]
     },
     "execution_count": 3,
     "metadata": {},
     "output_type": "execute_result"
    }
   ],
   "source": [
    "ATAC_permuted_CD8 = pd.read_csv(\"/mnt/jw01-aruk-home01/projects/psa_functional_genomics/PsA_cleaned_analysis/QTL_analysis/ATAC/output_final/ATAC_permuted_CD8_merged.txt\", sep = \" \")\n",
    "len(ATAC_permuted_CD8[ATAC_permuted_CD8[\"adj_beta_pval\"] < 0.1])"
   ]
  },
  {
   "cell_type": "code",
   "execution_count": 4,
   "metadata": {},
   "outputs": [],
   "source": [
    "ATAC_permuted_CD8[\"FDR\"] = multitest.fdrcorrection(ATAC_permuted_CD8[\"adj_beta_pval\"], alpha = 0.1)[1]"
   ]
  },
  {
   "cell_type": "code",
   "execution_count": 5,
   "metadata": {},
   "outputs": [
    {
     "data": {
      "text/plain": [
       "7861"
      ]
     },
     "execution_count": 5,
     "metadata": {},
     "output_type": "execute_result"
    }
   ],
   "source": [
    "len(ATAC_permuted_CD8[ATAC_permuted_CD8[\"FDR\"] < 0.1])"
   ]
  },
  {
   "cell_type": "code",
   "execution_count": 8,
   "metadata": {},
   "outputs": [],
   "source": [
    "ATAC_permuted_CD8.to_csv(\"/mnt/jw01-aruk-home01/projects/psa_functional_genomics/PsA_cleaned_analysis/QTL_analysis/ATAC/output_final/ATAC_permuted_CD8_FDR.txt\", sep = \" \", index = False)"
   ]
  },
  {
   "cell_type": "code",
   "execution_count": 9,
   "metadata": {},
   "outputs": [
    {
     "data": {
      "text/plain": [
       "19342"
      ]
     },
     "execution_count": 9,
     "metadata": {},
     "output_type": "execute_result"
    }
   ],
   "source": [
    "ATAC_permuted_CD4 = pd.read_csv(\"/mnt/jw01-aruk-home01/projects/psa_functional_genomics/PsA_cleaned_analysis/QTL_analysis/ATAC/output_final/ATAC_permuted_CD4_merged.txt\", sep = \" \")\n",
    "len(ATAC_permuted_CD4[ATAC_permuted_CD4[\"adj_beta_pval\"] < 0.1])"
   ]
  },
  {
   "cell_type": "code",
   "execution_count": 10,
   "metadata": {},
   "outputs": [],
   "source": [
    "ATAC_permuted_CD4[\"FDR\"] = multitest.fdrcorrection(ATAC_permuted_CD4[\"adj_beta_pval\"], alpha = 0.1)[1]"
   ]
  },
  {
   "cell_type": "code",
   "execution_count": 11,
   "metadata": {},
   "outputs": [
    {
     "data": {
      "text/plain": [
       "6082"
      ]
     },
     "execution_count": 11,
     "metadata": {},
     "output_type": "execute_result"
    }
   ],
   "source": [
    "len(ATAC_permuted_CD4[ATAC_permuted_CD4[\"FDR\"] < 0.1])"
   ]
  },
  {
   "cell_type": "code",
   "execution_count": null,
   "metadata": {},
   "outputs": [],
   "source": [
    "ATAC_permuted_CD4.to_csv(\"/mnt/jw01-aruk-home01/projects/psa_functional_genomics/PsA_cleaned_analysis/QTL_analysis/ATAC/output_final/ATAC_permuted_CD4_FDR.txt\", sep = \" \", index = False)"
   ]
  }
 ],
 "metadata": {
  "kernelspec": {
   "display_name": "Python 3",
   "language": "python",
   "name": "python3"
  },
  "language_info": {
   "codemirror_mode": {
    "name": "ipython",
    "version": 3
   },
   "file_extension": ".py",
   "mimetype": "text/x-python",
   "name": "python",
   "nbconvert_exporter": "python",
   "pygments_lexer": "ipython3",
   "version": "3.9.10"
  },
  "orig_nbformat": 4
 },
 "nbformat": 4,
 "nbformat_minor": 2
}
