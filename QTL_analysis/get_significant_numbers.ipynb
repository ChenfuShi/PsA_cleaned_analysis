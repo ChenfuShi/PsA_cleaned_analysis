{
 "cells": [
  {
   "cell_type": "code",
   "execution_count": 2,
   "metadata": {},
   "outputs": [],
   "source": [
    "import pandas as pd\n",
    "import numpy as np\n",
    "from multiprocessing import Pool\n",
    "from functools import partial\n",
    "import glob\n",
    "import os\n",
    "import plotly.express as px\n",
    "import math\n",
    "import matplotlib.pyplot as plt\n",
    "from matplotlib import colors\n",
    "from scipy import stats, special\n",
    "from statsmodels.stats import multitest\n",
    "import statsmodels.api as sm\n",
    "import statsmodels.formula.api as smf\n",
    "import plotly.io as pio\n",
    "import seaborn as sns\n",
    "\n",
    "from functools import reduce\n",
    "\n",
    "plt.rcParams['svg.fonttype'] = 'none'\n",
    "\n",
    "base_dir = \"http://bartzabel.ls.manchester.ac.uk/orozcolab/SNP2Mechanism/\""
   ]
  },
  {
   "cell_type": "code",
   "execution_count": 3,
   "metadata": {},
   "outputs": [],
   "source": [
    "RNA_permuted_CD4 = pd.read_csv(f\"{base_dir}/QTLs/RNA/RNA_permuted_CD4_FDR.txt\", sep = \" \")\n",
    "RNA_permuted_CD8 = pd.read_csv(f\"{base_dir}/QTLs/RNA/RNA_permuted_CD8_FDR.txt\", sep = \" \")"
   ]
  },
  {
   "cell_type": "code",
   "execution_count": 12,
   "metadata": {},
   "outputs": [],
   "source": [
    "ATAC_permuted_CD4 = pd.read_csv(f\"{base_dir}/QTLs/ATAC/ATAC_permuted_CD4_FDR.txt\", sep = \" \")\n",
    "ATAC_permuted_CD8 = pd.read_csv(f\"{base_dir}/QTLs/ATAC/ATAC_permuted_CD8_FDR.txt\", sep = \" \")"
   ]
  },
  {
   "cell_type": "code",
   "execution_count": 7,
   "metadata": {},
   "outputs": [],
   "source": [
    "ins_permuted_CD4 = pd.read_csv(f\"{base_dir}/QTLs/HiC/ins_permuted_CD4_FDR.txt\", sep = \" \")\n",
    "ins_permuted_CD8 = pd.read_csv(f\"{base_dir}/QTLs/HiC/ins_permuted_CD8_FDR.txt\", sep = \" \")"
   ]
  },
  {
   "cell_type": "code",
   "execution_count": 8,
   "metadata": {},
   "outputs": [],
   "source": [
    "loop_permuted_CD4 = pd.read_csv(f\"{base_dir}/QTLs/HiC/loop_permuted_CD4_FDR.txt\", sep = \" \")\n",
    "loop_permuted_CD8 = pd.read_csv(f\"{base_dir}/QTLs/HiC/loop_permuted_CD8_FDR.txt\", sep = \" \")"
   ]
  },
  {
   "cell_type": "code",
   "execution_count": 13,
   "metadata": {},
   "outputs": [
    {
     "name": "stdout",
     "output_type": "stream",
     "text": [
      "1015\n",
      "1609\n",
      "6082\n",
      "7861\n",
      "7180\n",
      "8284\n",
      "579\n",
      "762\n"
     ]
    }
   ],
   "source": [
    "for df in [RNA_permuted_CD4, RNA_permuted_CD8, ATAC_permuted_CD4, ATAC_permuted_CD8, ins_permuted_CD4, ins_permuted_CD8, loop_permuted_CD4, loop_permuted_CD8]:\n",
    "    print(df[df[\"FDR\"] < 0.10].shape[0])"
   ]
  },
  {
   "cell_type": "code",
   "execution_count": null,
   "metadata": {},
   "outputs": [],
   "source": []
  }
 ],
 "metadata": {
  "kernelspec": {
   "display_name": "basic",
   "language": "python",
   "name": "python3"
  },
  "language_info": {
   "codemirror_mode": {
    "name": "ipython",
    "version": 3
   },
   "file_extension": ".py",
   "mimetype": "text/x-python",
   "name": "python",
   "nbconvert_exporter": "python",
   "pygments_lexer": "ipython3",
   "version": "3.10.12"
  }
 },
 "nbformat": 4,
 "nbformat_minor": 2
}
