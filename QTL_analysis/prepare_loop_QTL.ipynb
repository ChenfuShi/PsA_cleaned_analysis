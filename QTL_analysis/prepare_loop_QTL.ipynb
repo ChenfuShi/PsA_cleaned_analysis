{
 "cells": [
  {
   "attachments": {},
   "cell_type": "markdown",
   "metadata": {},
   "source": [
    "# script to prepare the files for loop QTL analysis\n",
    "\n",
    "genotypes are only available through protected access\n",
    "\n",
    "QTL was generated using QTLtools"
   ]
  },
  {
   "cell_type": "code",
   "execution_count": 1,
   "metadata": {},
   "outputs": [],
   "source": [
    "import os\n",
    "import pandas as pd\n",
    "import numpy as np\n",
    "import plotly.express as px\n",
    "os.chdir(\"/mnt/jw01-aruk-home01/projects/psa_functional_genomics/PsA_cleaned_analysis/QTL_analysis\")\n",
    "base_dir = \"/mnt/jw01-aruk-home01/projects/psa_functional_genomics/PsA_cleaned_analysis\""
   ]
  },
  {
   "attachments": {},
   "cell_type": "markdown",
   "metadata": {},
   "source": [
    "## prepare the normalized scores for loopQTL"
   ]
  },
  {
   "cell_type": "code",
   "execution_count": 3,
   "metadata": {},
   "outputs": [],
   "source": [
    "loops_analysed = pd.read_pickle(f\"{base_dir}/HiC_analysis/extracting_loop_counts/aggregated_counts/aggregated_normalized_loops_CD4_CD8.pk\")\n",
    "metadata_hic = pd.read_csv(f\"{base_dir}/metadata/cleaned_HiC_metadata.csv\", index_col = 0)"
   ]
  },
  {
   "cell_type": "code",
   "execution_count": 5,
   "metadata": {},
   "outputs": [
    {
     "name": "stderr",
     "output_type": "stream",
     "text": [
      "/tmp/ipykernel_23348/2228809681.py:1: PerformanceWarning: DataFrame is highly fragmented.  This is usually the result of calling `frame.insert` many times, which has poor performance.  Consider joining all columns at once using pd.concat(axis=1) instead. To get a de-fragmented frame, use `newframe = frame.copy()`\n",
      "  loops_analysed[\"gene_id\"] = loops_analysed.index\n",
      "/tmp/ipykernel_23348/2228809681.py:2: PerformanceWarning: DataFrame is highly fragmented.  This is usually the result of calling `frame.insert` many times, which has poor performance.  Consider joining all columns at once using pd.concat(axis=1) instead. To get a de-fragmented frame, use `newframe = frame.copy()`\n",
      "  loops_analysed[\"length\"] = loops_analysed[\"B_end\"] - loops_analysed[\"A_start\"]\n",
      "/tmp/ipykernel_23348/2228809681.py:3: PerformanceWarning: DataFrame is highly fragmented.  This is usually the result of calling `frame.insert` many times, which has poor performance.  Consider joining all columns at once using pd.concat(axis=1) instead. To get a de-fragmented frame, use `newframe = frame.copy()`\n",
      "  loops_analysed[\"strand\"] = \"+\"\n"
     ]
    }
   ],
   "source": [
    "loops_analysed[\"gene_id\"] = loops_analysed.index\n",
    "loops_analysed[\"length\"] = loops_analysed[\"B_end\"] - loops_analysed[\"A_start\"] \n",
    "loops_analysed[\"strand\"] = \"+\""
   ]
  },
  {
   "cell_type": "code",
   "execution_count": 50,
   "metadata": {},
   "outputs": [],
   "source": [
    "# we don't have genotypes for NRHV319 and NRHV005\n",
    "samples = metadata_hic[~metadata_hic[\"patient\"].isin([\"NRHV319\", \"NRHV005\"])][\"patient\"].to_list()"
   ]
  },
  {
   "attachments": {},
   "cell_type": "markdown",
   "metadata": {},
   "source": [
    "## CD8 loops"
   ]
  },
  {
   "cell_type": "code",
   "execution_count": 51,
   "metadata": {},
   "outputs": [],
   "source": [
    "wanted_samples = metadata_hic[(metadata_hic[\"cell_type\"] == \"CD8\") & metadata_hic[\"patient\"].isin(samples)][\"folder_name\"].to_list()"
   ]
  },
  {
   "cell_type": "code",
   "execution_count": 52,
   "metadata": {},
   "outputs": [],
   "source": [
    "counts_CD8 = loops_analysed[[\"chrA\", \"A_start\", \"B_end\", \"gene_id\", \"length\", \"strand\"] + wanted_samples].copy()"
   ]
  },
  {
   "cell_type": "code",
   "execution_count": 53,
   "metadata": {},
   "outputs": [],
   "source": [
    "df_mapper = metadata_hic[(metadata_hic[\"cell_type\"] == \"CD8\") & metadata_hic[\"patient\"].isin(samples)][[\"folder_name\", \"patient\"]]"
   ]
  },
  {
   "cell_type": "code",
   "execution_count": 54,
   "metadata": {},
   "outputs": [],
   "source": [
    "counts_CD8[wanted_samples] = np.log2(counts_CD8[wanted_samples] + 1)"
   ]
  },
  {
   "cell_type": "code",
   "execution_count": 55,
   "metadata": {},
   "outputs": [],
   "source": [
    "counts_CD8 = counts_CD8.rename(columns = dict(zip(df_mapper['folder_name'], df_mapper['patient'])))\n",
    "counts_CD8 = counts_CD8.rename(columns = {\"chrA\":\"#chr\", \"A_start\":\"start\", \"B_end\":\"end\",\"gene_id\":\"gene\"})\n",
    "counts_CD8[\"#chr\"] = \"chr\" + counts_CD8[\"#chr\"].astype(str)"
   ]
  },
  {
   "cell_type": "code",
   "execution_count": 56,
   "metadata": {},
   "outputs": [],
   "source": [
    "counts_CD8.sort_values([\"#chr\",\"start\"]).to_csv(\"/mnt/jw01-aruk-home01/projects/psa_functional_genomics/PsA_cleaned_analysis/QTL_analysis/HiC/loop_CD8_test.bed\", sep = \"\\t\", index = False)\n",
    "!bgzip -f /mnt/iusers01/jw01/mdefscs4/psa_functional_genomics/PsA_cleaned_analysis/QTL_analysis/HiC/loop_CD8_test.bed\n",
    "!tabix -f -p bed /mnt/iusers01/jw01/mdefscs4/psa_functional_genomics/PsA_cleaned_analysis/QTL_analysis/HiC/loop_CD8_test.bed.gz"
   ]
  },
  {
   "attachments": {},
   "cell_type": "markdown",
   "metadata": {},
   "source": [
    "## CD4 loops"
   ]
  },
  {
   "cell_type": "code",
   "execution_count": null,
   "metadata": {},
   "outputs": [],
   "source": [
    "# PSA5006 and NRHV151 were identified as outliers from the PCA\n",
    "wanted_samples = metadata_hic[(metadata_hic[\"cell_type\"] == \"CD4\") & metadata_hic[\"patient\"].isin(samples) & (~metadata_hic[\"patient\"].isin([\"PSA5006\", \"NRHV151\"]))][\"folder_name\"].to_list()"
   ]
  },
  {
   "cell_type": "code",
   "execution_count": 58,
   "metadata": {},
   "outputs": [],
   "source": [
    "counts_CD4 = loops_analysed[[\"chrA\", \"A_start\", \"B_end\", \"gene_id\", \"length\", \"strand\"] + wanted_samples].copy()"
   ]
  },
  {
   "cell_type": "code",
   "execution_count": 59,
   "metadata": {},
   "outputs": [],
   "source": [
    "df_mapper = metadata_hic[(metadata_hic[\"cell_type\"] == \"CD4\") & metadata_hic[\"patient\"].isin(samples)][[\"folder_name\", \"patient\"]]"
   ]
  },
  {
   "cell_type": "code",
   "execution_count": 60,
   "metadata": {},
   "outputs": [],
   "source": [
    "counts_CD4[wanted_samples] = np.log2(counts_CD4[wanted_samples] + 1)"
   ]
  },
  {
   "cell_type": "code",
   "execution_count": 61,
   "metadata": {},
   "outputs": [],
   "source": [
    "counts_CD4 = counts_CD4.rename(columns = dict(zip(df_mapper['folder_name'], df_mapper['patient'])))\n",
    "counts_CD4 = counts_CD4.rename(columns = {\"chrA\":\"#chr\", \"A_start\":\"start\", \"B_end\":\"end\",\"gene_id\":\"gene\"})\n",
    "counts_CD4[\"#chr\"] = \"chr\" + counts_CD4[\"#chr\"].astype(str)"
   ]
  },
  {
   "cell_type": "code",
   "execution_count": 62,
   "metadata": {},
   "outputs": [],
   "source": [
    "counts_CD4.sort_values([\"#chr\",\"start\"]).to_csv(\"/mnt/jw01-aruk-home01/projects/psa_functional_genomics/PsA_cleaned_analysis/QTL_analysis/HiC/loop_CD4_test.bed\", sep = \"\\t\", index = False)\n",
    "!bgzip -f /mnt/iusers01/jw01/mdefscs4/psa_functional_genomics/PsA_cleaned_analysis/QTL_analysis/HiC/loop_CD4_test.bed\n",
    "!tabix -f -p bed /mnt/iusers01/jw01/mdefscs4/psa_functional_genomics/PsA_cleaned_analysis/QTL_analysis/HiC/loop_CD4_test.bed.gz"
   ]
  },
  {
   "attachments": {},
   "cell_type": "markdown",
   "metadata": {},
   "source": [
    "## running a permutation test to identify the best number of PCA component as covariates identified the following:\n",
    "for CD8: 0 genotype covariates and 0 phenotype covariates\n",
    "for CD4: 0 genotype covariates and 0 phenotype covariates"
   ]
  },
  {
   "cell_type": "code",
   "execution_count": null,
   "metadata": {},
   "outputs": [],
   "source": [
    "# see bash scripts for running of QTL tools"
   ]
  },
  {
   "cell_type": "code",
   "execution_count": 1,
   "metadata": {},
   "outputs": [],
   "source": [
    "# merge the final results\n",
    "!cat /mnt/iusers01/jw01/mdefscs4/psa_functional_genomics/PsA_cleaned_analysis/QTL_analysis/HiC/output_final/loop_nominal_CD4_0* > /mnt/iusers01/jw01/mdefscs4/psa_functional_genomics/PsA_cleaned_analysis/QTL_analysis/HiC/output_final/loop_nominal_CD4_merged.txt\n",
    "!cat /mnt/iusers01/jw01/mdefscs4/psa_functional_genomics/PsA_cleaned_analysis/QTL_analysis/HiC/output_final/loop_nominal_CD8_0* > /mnt/iusers01/jw01/mdefscs4/psa_functional_genomics/PsA_cleaned_analysis/QTL_analysis/HiC/output_final/loop_nominal_CD8_merged.txt\n",
    "\n",
    "!cat /mnt/iusers01/jw01/mdefscs4/psa_functional_genomics/PsA_cleaned_analysis/QTL_analysis/HiC/output_final/loop_permuted_CD4_0* > /mnt/iusers01/jw01/mdefscs4/psa_functional_genomics/PsA_cleaned_analysis/QTL_analysis/HiC/output_final/loop_permuted_CD4_merged.txt\n",
    "!cat /mnt/iusers01/jw01/mdefscs4/psa_functional_genomics/PsA_cleaned_analysis/QTL_analysis/HiC/output_final/loop_permuted_CD8_0* > /mnt/iusers01/jw01/mdefscs4/psa_functional_genomics/PsA_cleaned_analysis/QTL_analysis/HiC/output_final/loop_permuted_CD8_merged.txt"
   ]
  },
  {
   "cell_type": "code",
   "execution_count": 2,
   "metadata": {},
   "outputs": [
    {
     "data": {
      "text/plain": [
       "12307"
      ]
     },
     "execution_count": 2,
     "metadata": {},
     "output_type": "execute_result"
    }
   ],
   "source": [
    "loop_permuted_CD8 = pd.read_csv(\"/mnt/jw01-aruk-home01/projects/psa_functional_genomics/PsA_cleaned_analysis/QTL_analysis/HiC/output_final/loop_permuted_CD8_merged.txt\", sep = \" \")\n",
    "len(loop_permuted_CD8[loop_permuted_CD8[\"adj_beta_pval\"] < 0.1])"
   ]
  },
  {
   "cell_type": "markdown",
   "metadata": {},
   "source": [
    "## Add FDR correction to permuted p-values"
   ]
  },
  {
   "cell_type": "code",
   "execution_count": 3,
   "metadata": {},
   "outputs": [
    {
     "data": {
      "text/plain": [
       "762"
      ]
     },
     "execution_count": 3,
     "metadata": {},
     "output_type": "execute_result"
    }
   ],
   "source": [
    "from statsmodels.stats import multitest\n",
    "loop_permuted_CD8[\"FDR\"] = multitest.fdrcorrection(loop_permuted_CD8[\"adj_beta_pval\"], alpha = 0.1)[1]\n",
    "loop_permuted_CD8.to_csv(\"/mnt/jw01-aruk-home01/projects/psa_functional_genomics/PsA_cleaned_analysis/QTL_analysis/HiC/output_final/loop_permuted_CD8_FDR.txt\", sep = \" \", index = False)\n",
    "len(loop_permuted_CD8[loop_permuted_CD8[\"FDR\"] < 0.1])"
   ]
  },
  {
   "cell_type": "code",
   "execution_count": 4,
   "metadata": {},
   "outputs": [
    {
     "data": {
      "text/plain": [
       "11595"
      ]
     },
     "execution_count": 4,
     "metadata": {},
     "output_type": "execute_result"
    }
   ],
   "source": [
    "loop_permuted_CD4 = pd.read_csv(\"/mnt/jw01-aruk-home01/projects/psa_functional_genomics/PsA_cleaned_analysis/QTL_analysis/HiC/output_final/loop_permuted_CD4_merged.txt\", sep = \" \")\n",
    "len(loop_permuted_CD4[loop_permuted_CD4[\"adj_beta_pval\"] < 0.1])"
   ]
  },
  {
   "cell_type": "code",
   "execution_count": 5,
   "metadata": {},
   "outputs": [
    {
     "data": {
      "text/plain": [
       "579"
      ]
     },
     "execution_count": 5,
     "metadata": {},
     "output_type": "execute_result"
    }
   ],
   "source": [
    "loop_permuted_CD4[\"FDR\"] = multitest.fdrcorrection(loop_permuted_CD4[\"adj_beta_pval\"], alpha = 0.1)[1]\n",
    "loop_permuted_CD4.to_csv(\"/mnt/jw01-aruk-home01/projects/psa_functional_genomics/PsA_cleaned_analysis/QTL_analysis/HiC/output_final/loop_permuted_CD4_FDR.txt\", sep = \" \", index = False)\n",
    "len(loop_permuted_CD4[loop_permuted_CD4[\"FDR\"] < 0.1])"
   ]
  },
  {
   "cell_type": "code",
   "execution_count": null,
   "metadata": {},
   "outputs": [],
   "source": []
  },
  {
   "cell_type": "code",
   "execution_count": null,
   "metadata": {},
   "outputs": [],
   "source": []
  }
 ],
 "metadata": {
  "kernelspec": {
   "display_name": "Python 3",
   "language": "python",
   "name": "python3"
  },
  "language_info": {
   "codemirror_mode": {
    "name": "ipython",
    "version": 3
   },
   "file_extension": ".py",
   "mimetype": "text/x-python",
   "name": "python",
   "nbconvert_exporter": "python",
   "pygments_lexer": "ipython3",
   "version": "3.9.10"
  },
  "orig_nbformat": 4
 },
 "nbformat": 4,
 "nbformat_minor": 2
}
