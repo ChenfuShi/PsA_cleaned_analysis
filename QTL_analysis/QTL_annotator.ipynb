{
 "cells": [
  {
   "attachments": {},
   "cell_type": "markdown",
   "metadata": {},
   "source": [
    "# script to annotate GWAS files with QTLs"
   ]
  },
  {
   "cell_type": "code",
   "execution_count": 3,
   "metadata": {},
   "outputs": [],
   "source": [
    "import pandas as pd\n",
    "import numpy as np\n",
    "from multiprocessing import Pool\n",
    "from functools import partial\n",
    "import glob\n",
    "import os\n",
    "import plotly.express as px\n",
    "import math\n",
    "import matplotlib.pyplot as plt\n",
    "from matplotlib import colors\n",
    "from scipy import stats, special\n",
    "from statsmodels.stats import multitest\n",
    "import statsmodels.api as sm\n",
    "import statsmodels.formula.api as smf\n",
    "import plotly.io as pio\n",
    "import seaborn as sns\n",
    "\n",
    "from functools import reduce\n",
    "\n",
    "plt.rcParams['svg.fonttype'] = 'none'\n",
    "\n",
    "base_dir = \"http://bartzabel.ls.manchester.ac.uk/orozcolab/SNP2Mechanism/\""
   ]
  },
  {
   "attachments": {},
   "cell_type": "markdown",
   "metadata": {},
   "source": [
    "## load all the individual QTL files"
   ]
  },
  {
   "cell_type": "code",
   "execution_count": 4,
   "metadata": {},
   "outputs": [],
   "source": [
    "gtf_annotation_df = pd.read_pickle(f\"{base_dir}/metadata/gencode_gtf.pickle\")\n",
    "gtf_transcripts = gtf_annotation_df[(gtf_annotation_df[\"feature\"] == \"transcript\") & (gtf_annotation_df[\"transcript_type\"] == \"protein_coding\")].dropna(axis=1, how='all')\n",
    "gtf_transcripts[\"gene_id\"] = gtf_transcripts[\"gene_id\"].str.split(\".\").str[0]\n",
    "gtf_transcripts[\"transcript_id\"] = gtf_transcripts[\"transcript_id\"].str.split(\".\").str[0]\n",
    "gtf_transcripts[\"TSS_start\"] = gtf_transcripts.apply(lambda x: int(x[\"start\"]) if x[\"strand\"] == \"+\" else int(x[\"end\"]) ,axis = 1)\n",
    "gene_mapper = dict(zip(gtf_transcripts['gene_id'], gtf_transcripts['gene_name']))"
   ]
  },
  {
   "cell_type": "code",
   "execution_count": 5,
   "metadata": {},
   "outputs": [],
   "source": [
    "RNA_nominal_CD4 = pd.read_csv(f\"{base_dir}/QTLs/RNA/RNA_nominal_CD4_merged.txt\", sep = \" \")\n",
    "RNA_nominal_CD8 = pd.read_csv(f\"{base_dir}/QTLs/RNA/RNA_nominal_CD8_merged.txt\", sep = \" \")\n",
    "RNA_permuted_CD4 = pd.read_csv(f\"{base_dir}/QTLs/RNA/RNA_permuted_CD4_FDR.txt\", sep = \" \")\n",
    "RNA_permuted_CD8 = pd.read_csv(f\"{base_dir}/QTLs/RNA/RNA_permuted_CD8_FDR.txt\", sep = \" \")# RNA_permuted_CD8 = RNA_permuted_CD8[RNA_permuted_CD8[\"adj_beta_pval\"] < 0.1]\n",
    "# RNA_permuted_CD4 = RNA_permuted_CD4[RNA_permuted_CD4[\"adj_beta_pval\"] < 0.1]\n",
    "RNA_nominal_CD8 = RNA_nominal_CD8[RNA_nominal_CD8[\"nom_pval\"] < 0.001]\n",
    "RNA_nominal_CD4 = RNA_nominal_CD4[RNA_nominal_CD4[\"nom_pval\"] < 0.001]"
   ]
  },
  {
   "cell_type": "code",
   "execution_count": 6,
   "metadata": {},
   "outputs": [],
   "source": [
    "RNA_permuted_CD4 = RNA_permuted_CD4[[\"phe_id\", \"var_id\", \"nom_pval\", \"slope\", \"adj_beta_pval\", \"FDR\"]]\n",
    "RNA_permuted_CD4 = RNA_permuted_CD4.rename(columns={c: c+'_RNA_perm_CD4' for c in RNA_permuted_CD4.columns if c not in ['phe_id', 'var_id']})\n",
    "RNA_permuted_CD8 = RNA_permuted_CD8[[\"phe_id\", \"var_id\", \"nom_pval\", \"slope\", \"adj_beta_pval\", \"FDR\"]]\n",
    "RNA_permuted_CD8 = RNA_permuted_CD8.rename(columns={c: c+'_RNA_perm_CD8' for c in RNA_permuted_CD8.columns if c not in ['phe_id', 'var_id']})\n",
    "RNA_nominal_CD4 = RNA_nominal_CD4[[\"phe_id\", \"var_id\", \"nom_pval\", \"slope\"]]\n",
    "RNA_nominal_CD4 = RNA_nominal_CD4.rename(columns={c: c+'_RNA_nom_CD4' for c in RNA_nominal_CD4.columns if c not in ['phe_id', 'var_id']})\n",
    "RNA_nominal_CD8 = RNA_nominal_CD8[[\"phe_id\", \"var_id\", \"nom_pval\", \"slope\"]]\n",
    "RNA_nominal_CD8 = RNA_nominal_CD8.rename(columns={c: c+'_RNA_nom_CD8' for c in RNA_nominal_CD8.columns if c not in ['phe_id', 'var_id']})"
   ]
  },
  {
   "cell_type": "code",
   "execution_count": 7,
   "metadata": {},
   "outputs": [],
   "source": [
    "ATAC_nominal_CD4 = pd.read_csv(f\"{base_dir}/QTLs/ATAC/ATAC_nominal_CD4_merged.txt\", sep = \" \")\n",
    "ATAC_nominal_CD8 = pd.read_csv(f\"{base_dir}/QTLs/ATAC/ATAC_nominal_CD8_merged.txt\", sep = \" \")\n",
    "ATAC_permuted_CD4 = pd.read_csv(f\"{base_dir}/QTLs/ATAC/ATAC_permuted_CD4_FDR.txt\", sep = \" \")\n",
    "ATAC_permuted_CD8 = pd.read_csv(f\"{base_dir}/QTLs/ATAC/ATAC_permuted_CD8_FDR.txt\", sep = \" \")# ATAC_permuted_CD8 = ATAC_permuted_CD8[ATAC_permuted_CD8[\"adj_beta_pval\"] < 0.1]\n",
    "# ATAC_permuted_CD4 = ATAC_permuted_CD4[ATAC_permuted_CD4[\"adj_beta_pval\"] < 0.1]\n",
    "ATAC_nominal_CD8 = ATAC_nominal_CD8[ATAC_nominal_CD8[\"nom_pval\"] < 0.001]\n",
    "ATAC_nominal_CD4 = ATAC_nominal_CD4[ATAC_nominal_CD4[\"nom_pval\"] < 0.001]"
   ]
  },
  {
   "cell_type": "code",
   "execution_count": 8,
   "metadata": {},
   "outputs": [],
   "source": [
    "ATAC_permuted_CD4 = ATAC_permuted_CD4[[\"phe_chr\",\"phe_from\",\"phe_to\",\"phe_id\", \"dist_phe_var\", \"var_id\", \"nom_pval\", \"slope\", \"adj_beta_pval\", \"FDR\"]]\n",
    "ATAC_permuted_CD4 = ATAC_permuted_CD4.rename(columns={c: c+'_ATAC_perm_CD4' for c in ATAC_permuted_CD4.columns if c not in ['phe_id', 'var_id',\"phe_chr\",\"phe_from\",\"phe_to\"]})\n",
    "ATAC_permuted_CD8 = ATAC_permuted_CD8[[\"phe_chr\",\"phe_from\",\"phe_to\",\"phe_id\", \"dist_phe_var\", \"var_id\", \"nom_pval\", \"slope\", \"adj_beta_pval\", \"FDR\"]]\n",
    "ATAC_permuted_CD8 = ATAC_permuted_CD8.rename(columns={c: c+'_ATAC_perm_CD8' for c in ATAC_permuted_CD8.columns if c not in ['phe_id', 'var_id',\"phe_chr\",\"phe_from\",\"phe_to\"]})\n",
    "ATAC_nominal_CD4 = ATAC_nominal_CD4[[\"phe_chr\",\"phe_from\",\"phe_to\",\"phe_id\", \"dist_phe_var\", \"var_id\", \"nom_pval\", \"slope\"]]\n",
    "ATAC_nominal_CD4 = ATAC_nominal_CD4.rename(columns={c: c+'_ATAC_nom_CD4' for c in ATAC_nominal_CD4.columns if c not in ['phe_id', 'var_id',\"phe_chr\",\"phe_from\",\"phe_to\"]})\n",
    "ATAC_nominal_CD8 = ATAC_nominal_CD8[[\"phe_chr\",\"phe_from\",\"phe_to\",\"phe_id\", \"dist_phe_var\", \"var_id\", \"nom_pval\", \"slope\"]]\n",
    "ATAC_nominal_CD8 = ATAC_nominal_CD8.rename(columns={c: c+'_ATAC_nom_CD8' for c in ATAC_nominal_CD8.columns if c not in ['phe_id', 'var_id',\"phe_chr\",\"phe_from\",\"phe_to\"]})"
   ]
  },
  {
   "cell_type": "code",
   "execution_count": 9,
   "metadata": {},
   "outputs": [],
   "source": [
    "ins_nominal_CD4 = pd.read_csv(f\"{base_dir}/QTLs/HiC/ins_nominal_CD4_merged.txt\", sep = \" \")\n",
    "ins_nominal_CD8 = pd.read_csv(f\"{base_dir}/QTLs/HiC/ins_nominal_CD8_merged.txt\", sep = \" \")\n",
    "ins_permuted_CD4 = pd.read_csv(f\"{base_dir}/QTLs/HiC/ins_permuted_CD4_FDR.txt\", sep = \" \")\n",
    "ins_permuted_CD8 = pd.read_csv(f\"{base_dir}/QTLs/HiC/ins_permuted_CD8_FDR.txt\", sep = \" \")\n",
    "# ins_permuted_CD8 = ins_permuted_CD8[ins_permuted_CD8[\"adj_beta_pval\"] < 0.1]\n",
    "# ins_permuted_CD4 = ins_permuted_CD4[ins_permuted_CD4[\"adj_beta_pval\"] < 0.1]\n",
    "ins_nominal_CD8 = ins_nominal_CD8[ins_nominal_CD8[\"nom_pval\"] < 0.001]\n",
    "ins_nominal_CD4 = ins_nominal_CD4[ins_nominal_CD4[\"nom_pval\"] < 0.001]"
   ]
  },
  {
   "cell_type": "code",
   "execution_count": 10,
   "metadata": {},
   "outputs": [],
   "source": [
    "ins_permuted_CD4 = ins_permuted_CD4[[\"phe_chr\",\"phe_from\",\"phe_to\",\"phe_id\", \"var_id\", \"nom_pval\", \"slope\", \"adj_beta_pval\", \"FDR\"]]\n",
    "ins_permuted_CD4 = ins_permuted_CD4.rename(columns={c: c+'_ins_perm_CD4' for c in ins_permuted_CD4.columns if c not in ['phe_id', 'var_id',\"phe_chr\",\"phe_from\",\"phe_to\"]})\n",
    "ins_permuted_CD8 = ins_permuted_CD8[[\"phe_chr\",\"phe_from\",\"phe_to\",\"phe_id\", \"var_id\", \"nom_pval\", \"slope\", \"adj_beta_pval\", \"FDR\"]]\n",
    "ins_permuted_CD8 = ins_permuted_CD8.rename(columns={c: c+'_ins_perm_CD8' for c in ins_permuted_CD8.columns if c not in ['phe_id', 'var_id',\"phe_chr\",\"phe_from\",\"phe_to\"]})\n",
    "ins_nominal_CD4 = ins_nominal_CD4[[\"phe_chr\",\"phe_from\",\"phe_to\",\"phe_id\", \"var_id\", \"nom_pval\", \"slope\"]]\n",
    "ins_nominal_CD4 = ins_nominal_CD4.rename(columns={c: c+'_ins_nom_CD4' for c in ins_nominal_CD4.columns if c not in ['phe_id', 'var_id',\"phe_chr\",\"phe_from\",\"phe_to\"]})\n",
    "ins_nominal_CD8 = ins_nominal_CD8[[\"phe_chr\",\"phe_from\",\"phe_to\",\"phe_id\", \"var_id\", \"nom_pval\", \"slope\"]]\n",
    "ins_nominal_CD8 = ins_nominal_CD8.rename(columns={c: c+'_ins_nom_CD8' for c in ins_nominal_CD8.columns if c not in ['phe_id', 'var_id',\"phe_chr\",\"phe_from\",\"phe_to\"]})"
   ]
  },
  {
   "cell_type": "code",
   "execution_count": 11,
   "metadata": {},
   "outputs": [],
   "source": [
    "loop_nominal_CD4 = pd.read_csv(f\"{base_dir}/QTLs/HiC/loop_nominal_CD4_merged.txt\", sep = \" \")\n",
    "loop_nominal_CD8 = pd.read_csv(f\"{base_dir}/QTLs/HiC/loop_nominal_CD8_merged.txt\", sep = \" \")\n",
    "loop_permuted_CD4 = pd.read_csv(f\"{base_dir}/QTLs/HiC/loop_permuted_CD4_FDR.txt\", sep = \" \")\n",
    "loop_permuted_CD8 = pd.read_csv(f\"{base_dir}/QTLs/HiC/loop_permuted_CD8_FDR.txt\", sep = \" \")\n",
    "# loop_permuted_CD8 = loop_permuted_CD8[loop_permuted_CD8[\"adj_beta_pval\"] < 0.1]\n",
    "# loop_permuted_CD4 = loop_permuted_CD4[loop_permuted_CD4[\"adj_beta_pval\"] < 0.1]\n",
    "loop_nominal_CD8 = loop_nominal_CD8[loop_nominal_CD8[\"nom_pval\"] < 0.001]\n",
    "loop_nominal_CD4 = loop_nominal_CD4[loop_nominal_CD4[\"nom_pval\"] < 0.001]"
   ]
  },
  {
   "cell_type": "code",
   "execution_count": 12,
   "metadata": {},
   "outputs": [],
   "source": [
    "loop_permuted_CD4 = loop_permuted_CD4[[\"phe_chr\",\"phe_from\",\"phe_to\",\"phe_id\", \"var_id\", \"nom_pval\", \"slope\", \"adj_beta_pval\", \"FDR\"]]\n",
    "loop_permuted_CD4 = loop_permuted_CD4.rename(columns={c: c+'_loop_perm_CD4' for c in loop_permuted_CD4.columns if c not in ['phe_id', 'var_id',\"phe_chr\",\"phe_from\",\"phe_to\"]})\n",
    "loop_permuted_CD8 = loop_permuted_CD8[[\"phe_chr\",\"phe_from\",\"phe_to\",\"phe_id\", \"var_id\", \"nom_pval\", \"slope\", \"adj_beta_pval\", \"FDR\"]]\n",
    "loop_permuted_CD8 = loop_permuted_CD8.rename(columns={c: c+'_loop_perm_CD8' for c in loop_permuted_CD8.columns if c not in ['phe_id', 'var_id',\"phe_chr\",\"phe_from\",\"phe_to\"]})\n",
    "loop_nominal_CD4 = loop_nominal_CD4[[\"phe_chr\",\"phe_from\",\"phe_to\",\"phe_id\", \"var_id\", \"nom_pval\", \"slope\"]]\n",
    "loop_nominal_CD4 = loop_nominal_CD4.rename(columns={c: c+'_loop_nom_CD4' for c in loop_nominal_CD4.columns if c not in ['phe_id', 'var_id',\"phe_chr\",\"phe_from\",\"phe_to\"]})\n",
    "loop_nominal_CD8 = loop_nominal_CD8[[\"phe_chr\",\"phe_from\",\"phe_to\",\"phe_id\", \"var_id\", \"nom_pval\", \"slope\"]]\n",
    "loop_nominal_CD8 = loop_nominal_CD8.rename(columns={c: c+'_loop_nom_CD8' for c in loop_nominal_CD8.columns if c not in ['phe_id', 'var_id',\"phe_chr\",\"phe_from\",\"phe_to\"]})"
   ]
  },
  {
   "attachments": {},
   "cell_type": "markdown",
   "metadata": {},
   "source": [
    "## prepare tables so that we can actually annotate the GWAS files"
   ]
  },
  {
   "cell_type": "code",
   "execution_count": 13,
   "metadata": {},
   "outputs": [],
   "source": [
    "dataframe_list = [RNA_permuted_CD8, RNA_nominal_CD8, RNA_permuted_CD4, RNA_nominal_CD4]\n",
    "RNA_merged_df = reduce(lambda left, right: left.merge(right, on=[\"phe_id\", \"var_id\"], how = \"outer\"), dataframe_list)"
   ]
  },
  {
   "cell_type": "code",
   "execution_count": 14,
   "metadata": {},
   "outputs": [],
   "source": [
    "RNA_merged_df[\"gene_name\"] = RNA_merged_df['phe_id'].map(gene_mapper)"
   ]
  },
  {
   "cell_type": "code",
   "execution_count": 15,
   "metadata": {},
   "outputs": [],
   "source": [
    "dataframe_list = [ATAC_permuted_CD8, ATAC_nominal_CD8, ATAC_permuted_CD4, ATAC_nominal_CD4]\n",
    "ATAC_merged_df = reduce(lambda left, right: left.merge(right, on=[\"phe_id\", \"var_id\",\"phe_chr\",\"phe_from\",\"phe_to\"], how = \"outer\"), dataframe_list)"
   ]
  },
  {
   "cell_type": "code",
   "execution_count": 16,
   "metadata": {},
   "outputs": [],
   "source": [
    "dataframe_list = [ins_permuted_CD8, ins_nominal_CD8, ins_permuted_CD4, ins_nominal_CD4]\n",
    "ins_merged_df = reduce(lambda left, right: left.merge(right, on=[\"phe_id\", \"var_id\",\"phe_chr\",\"phe_from\",\"phe_to\"], how = \"outer\"), dataframe_list)"
   ]
  },
  {
   "cell_type": "code",
   "execution_count": 17,
   "metadata": {},
   "outputs": [],
   "source": [
    "dataframe_list = [loop_permuted_CD8, loop_nominal_CD8, loop_permuted_CD4, loop_nominal_CD4]\n",
    "loop_merged_df = reduce(lambda left, right: left.merge(right, on=[\"phe_id\", \"var_id\",\"phe_chr\",\"phe_from\",\"phe_to\"], how = \"outer\"), dataframe_list)"
   ]
  },
  {
   "cell_type": "code",
   "execution_count": 18,
   "metadata": {},
   "outputs": [],
   "source": [
    "RNA_merged_df = RNA_merged_df.rename(columns = {\"phe_id\" : \"gene_id\"})\n",
    "ATAC_merged_df = ATAC_merged_df.rename(columns = {\"phe_id\" : \"peak_id\", \"phe_chr\":\"peak_chr\",\"phe_from\":\"peak_start\",\"phe_to\":\"peak_end\"})\n",
    "ins_merged_df = ins_merged_df.rename(columns = {\"phe_id\" : \"bin_id\", \"phe_chr\":\"bin_chr\",\"phe_from\":\"bin_start\",\"phe_to\":\"bin_end\"})\n",
    "loop_merged_df = loop_merged_df.rename(columns = {\"phe_id\" : \"loop_id\", \"phe_chr\":\"loop_chr\",\"phe_from\":\"loop_A_start\",\"phe_to\":\"loop_B_end\"})"
   ]
  },
  {
   "attachments": {},
   "cell_type": "markdown",
   "metadata": {},
   "source": [
    "## annotate\n",
    "this creates a few files. the first one contains all the QTL together, whilst the others are one file for each QTL. \n",
    "\n",
    "The way it works it that it creates a bit of a long format file, in which for each variant we will have one row for each hit. Also because multiple variants will be linked together when it does hit all the variants will have duplicate rows, which can make visualizing in excel a bit difficult."
   ]
  },
  {
   "cell_type": "code",
   "execution_count": 19,
   "metadata": {},
   "outputs": [],
   "source": [
    "def annotate(file, name):\n",
    "    snps_df  = pd.read_csv(file, sep = \"\\t\", header = None)\n",
    "    snps_df.columns = \"chr start end name score\".split()\n",
    "    snps_df[\"loci\"] = snps_df[\"name\"].str.split(\"_\").str[-1]\n",
    "    snps_df[\"snp\"] = snps_df[\"name\"].str.split(\"_\").str[0]\n",
    "\n",
    "    annotated_snps_df = snps_df.merge(RNA_merged_df.rename(columns={\"var_id\":\"snp\"}), \n",
    "                                          on = \"snp\", how = \"left\")\n",
    "    annotated_snps_df = annotated_snps_df.merge(ATAC_merged_df.rename(columns={\"var_id\":\"snp\"}),\n",
    "                                          on = \"snp\", how = \"left\")\n",
    "    annotated_snps_df = annotated_snps_df.merge(ins_merged_df.rename(columns={\"var_id\":\"snp\"}),\n",
    "                                          on = \"snp\", how = \"left\")\n",
    "    annotated_snps_df = annotated_snps_df.merge(loop_merged_df.rename(columns={\"var_id\":\"snp\"}),\n",
    "                                          on = \"snp\", how = \"left\")\n",
    "    annotated_snps_df = annotated_snps_df.drop(columns = [\"nom_pval_RNA_perm_CD8\", \"slope_RNA_perm_CD8\",\"nom_pval_RNA_perm_CD4\", \"slope_RNA_perm_CD4\",\n",
    "                                                          \"nom_pval_ATAC_perm_CD8\", \"slope_ATAC_perm_CD8\",\"nom_pval_ATAC_perm_CD4\", \"slope_ATAC_perm_CD4\",\n",
    "                                                          \"nom_pval_ins_perm_CD8\", \"slope_ins_perm_CD8\",\"nom_pval_ins_perm_CD4\", \"slope_ins_perm_CD4\",\n",
    "                                                          \"nom_pval_loop_perm_CD8\", \"slope_loop_perm_CD8\",\"nom_pval_loop_perm_CD4\", \"slope_loop_perm_CD4\",\n",
    "                                                          ])\n",
    "    annotated_snps_df.to_csv(f\"output_tables/{name}_QTL_mapped.csv\")\n",
    "\n",
    "\n",
    "    snps_df.merge(RNA_merged_df.rename(columns={\"var_id\":\"snp\"}), \n",
    "                                            on = \"snp\", how = \"left\").to_csv(\n",
    "        f\"output_tables/{name}_RNA_QTL.csv\")\n",
    "    snps_df.merge(ATAC_merged_df.rename(columns={\"var_id\":\"snp\"}), \n",
    "                                            on = \"snp\", how = \"left\").to_csv(\n",
    "        f\"output_tables/{name}_ATAC_QTL.csv\")\n",
    "    snps_df.merge(ins_merged_df.rename(columns={\"var_id\":\"snp\"}), \n",
    "                                            on = \"snp\", how = \"left\").to_csv(\n",
    "        f\"output_tables/{name}_ins_QTL.csv\")\n",
    "    snps_df.merge(loop_merged_df.rename(columns={\"var_id\":\"snp\"}), \n",
    "                                            on = \"snp\", how = \"left\").to_csv(\n",
    "        f\"output_tables/{name}_loop_QTL.csv\")\n",
    "\n"
   ]
  },
  {
   "cell_type": "code",
   "execution_count": 20,
   "metadata": {},
   "outputs": [],
   "source": [
    "annotate(f\"{base_dir}/other_tracks/GWAS/tsoi2017_LD_0.8_hg38.bed\", \"psoriasis_tsoi2017\")\n",
    "annotate(f\"{base_dir}/other_tracks/GWAS/RAmetagwas_all_hg38.ld.bed\", \"RAmeta\")\n",
    "annotate(f\"{base_dir}/other_tracks/GWAS/PsA_vs_controls_metagwas_significant.ld.hg38.bed\", \"PsA_meta\")\n",
    "annotate(f\"{base_dir}/other_tracks/GWAS/suggestive_snps_hg38_ld.bed\", \"JIA_suggestive\")\n",
    "annotate(f\"{base_dir}/other_tracks/GWAS/JIA_credible_snps_hg38.bed\", \"JIA_credible\")\n",
    "annotate(f\"{base_dir}/other_tracks/GWAS/elena_hg38.ld.bed\", \"SSc_elena\")"
   ]
  },
  {
   "cell_type": "code",
   "execution_count": null,
   "metadata": {},
   "outputs": [],
   "source": []
  },
  {
   "cell_type": "code",
   "execution_count": null,
   "metadata": {},
   "outputs": [],
   "source": []
  },
  {
   "cell_type": "code",
   "execution_count": null,
   "metadata": {},
   "outputs": [],
   "source": []
  },
  {
   "cell_type": "code",
   "execution_count": null,
   "metadata": {},
   "outputs": [],
   "source": []
  },
  {
   "cell_type": "code",
   "execution_count": null,
   "metadata": {},
   "outputs": [],
   "source": []
  }
 ],
 "metadata": {
  "kernelspec": {
   "display_name": "Python 3",
   "language": "python",
   "name": "python3"
  },
  "language_info": {
   "codemirror_mode": {
    "name": "ipython",
    "version": 3
   },
   "file_extension": ".py",
   "mimetype": "text/x-python",
   "name": "python",
   "nbconvert_exporter": "python",
   "pygments_lexer": "ipython3",
   "version": "3.10.12"
  },
  "orig_nbformat": 4
 },
 "nbformat": 4,
 "nbformat_minor": 2
}
