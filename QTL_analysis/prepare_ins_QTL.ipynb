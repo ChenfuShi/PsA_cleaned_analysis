{
 "cells": [
  {
   "attachments": {},
   "cell_type": "markdown",
   "metadata": {},
   "source": [
    "# script to prepare the files for insulation QTL analysis\n",
    "\n",
    "genotypes are only available through protected access\n",
    "\n",
    "QTL was generated using QTLtools"
   ]
  },
  {
   "cell_type": "code",
   "execution_count": 2,
   "metadata": {},
   "outputs": [
    {
     "name": "stdout",
     "output_type": "stream",
     "text": [
      "INFO: Pandarallel will run on 28 workers.\n",
      "INFO: Pandarallel will use Memory file system to transfer data between the main process and workers.\n"
     ]
    }
   ],
   "source": [
    "import pandas as pd\n",
    "import numpy as np\n",
    "import hicstraw \n",
    "from multiprocessing import Pool\n",
    "from functools import partial\n",
    "import glob\n",
    "import os\n",
    "import plotly.express as px\n",
    "import math\n",
    "import matplotlib.pyplot as plt\n",
    "from matplotlib import colors\n",
    "from pandarallel import pandarallel\n",
    "import cooler\n",
    "import cooltools\n",
    "import pybedtools as pbed\n",
    "pandarallel.initialize()\n",
    "from scipy import stats, special\n",
    "from statsmodels.stats import multitest\n",
    "import statsmodels.api as sm\n",
    "import statsmodels.formula.api as smf\n",
    "import plotly.io as pio\n",
    "import seaborn as sns\n",
    "\n",
    "os.chdir(\"/mnt/jw01-aruk-home01/projects/psa_functional_genomics/PsA_cleaned_analysis/QTL_analysis\")\n",
    "base_dir = \"/mnt/jw01-aruk-home01/projects/psa_functional_genomics/PsA_cleaned_analysis\""
   ]
  },
  {
   "attachments": {},
   "cell_type": "markdown",
   "metadata": {},
   "source": [
    "## prepare the normalized scores for insQTL"
   ]
  },
  {
   "cell_type": "code",
   "execution_count": 4,
   "metadata": {},
   "outputs": [
    {
     "name": "stderr",
     "output_type": "stream",
     "text": [
      "/tmp/ipykernel_330/764316690.py:2: DtypeWarning: Columns (4) have mixed types. Specify dtype option on import or set low_memory=False.\n",
      "  ins_scores = pd.read_csv(f\"{base_dir}/HiC_analysis/insulation_score/aggregated_norm_ins_scores.csv.gz\", index_col = 0)\n"
     ]
    }
   ],
   "source": [
    "metadata_hic = pd.read_csv(f\"{base_dir}/metadata/cleaned_HiC_metadata.csv\", index_col = 0)\n",
    "ins_scores = pd.read_csv(f\"{base_dir}/HiC_analysis/insulation_score/aggregated_norm_ins_scores.csv.gz\", index_col = 0)"
   ]
  },
  {
   "cell_type": "code",
   "execution_count": 9,
   "metadata": {},
   "outputs": [],
   "source": [
    "for_qtl = ins_scores[[\"chrom\", \"start\", \"end\"] + metadata_hic[metadata_hic[\"cell_type\"] == \"CD8\"][\"folder_name\"].to_list()].copy()\n",
    "for_qtl.columns = [\"#Chr\", \"start\", \"end\"] + metadata_hic[metadata_hic[\"cell_type\"] == \"CD8\"][\"folder_name\"].to_list()\n",
    "for_qtl[\"strand\"] = \"+\"\n",
    "for_qtl[\"pid\"] = for_qtl.index\n",
    "for_qtl[\"gid\"] = for_qtl.index\n",
    "for_qtl = for_qtl[[\"#Chr\", \"start\", \"end\", \"pid\", \"gid\", \"strand\"] + metadata_hic[metadata_hic[\"cell_type\"] == \"CD8\"][\"folder_name\"].to_list()]\n",
    "for_qtl = for_qtl.rename(columns=dict(zip(metadata_hic[\"folder_name\"], metadata_hic.patient)))\n",
    "for_qtl = for_qtl.dropna()\n",
    "for_qtl.to_csv(f\"{base_dir}/QTL_analysis/HiC/insulation_score_CD8.bed\", sep = \"\\t\", index = False, na_rep='NA')\n",
    "\n",
    "for_qtl = ins_scores[[\"chrom\", \"start\", \"end\"] + metadata_hic[metadata_hic[\"cell_type\"] == \"CD4\"][\"folder_name\"].to_list()].copy()\n",
    "for_qtl.columns = [\"#Chr\", \"start\", \"end\"] + metadata_hic[metadata_hic[\"cell_type\"] == \"CD4\"][\"folder_name\"].to_list()\n",
    "for_qtl[\"strand\"] = \"+\"\n",
    "for_qtl[\"pid\"] = for_qtl.index\n",
    "for_qtl[\"gid\"] = for_qtl.index\n",
    "for_qtl = for_qtl[[\"#Chr\", \"start\", \"end\", \"pid\", \"gid\", \"strand\"] + metadata_hic[metadata_hic[\"cell_type\"] == \"CD4\"][\"folder_name\"].to_list()]\n",
    "for_qtl = for_qtl.rename(columns=dict(zip(metadata_hic[\"folder_name\"], metadata_hic.patient)))\n",
    "for_qtl = for_qtl.dropna()\n",
    "\n",
    "for_qtl.to_csv(f\"{base_dir}/QTL_analysis/HiC/insulation_score_CD4.bed\", sep = \"\\t\", index = False, na_rep='NA')"
   ]
  },
  {
   "cell_type": "code",
   "execution_count": 10,
   "metadata": {},
   "outputs": [],
   "source": [
    "!bgzip -f /mnt/iusers01/jw01/mdefscs4/psa_functional_genomics/PsA_cleaned_analysis/QTL_analysis/HiC/insulation_score_CD8.bed\n",
    "!tabix -f -p bed /mnt/iusers01/jw01/mdefscs4/psa_functional_genomics/PsA_cleaned_analysis/QTL_analysis/HiC/insulation_score_CD8.bed.gz\n",
    "!bgzip -f /mnt/iusers01/jw01/mdefscs4/psa_functional_genomics/PsA_cleaned_analysis/QTL_analysis/HiC/insulation_score_CD4.bed\n",
    "!tabix -f -p bed /mnt/iusers01/jw01/mdefscs4/psa_functional_genomics/PsA_cleaned_analysis/QTL_analysis/HiC/insulation_score_CD4.bed.gz"
   ]
  },
  {
   "cell_type": "code",
   "execution_count": null,
   "metadata": {},
   "outputs": [],
   "source": []
  },
  {
   "attachments": {},
   "cell_type": "markdown",
   "metadata": {},
   "source": [
    "## running a permutation test to identify the best number of PCA component as covariates identified the following:\n",
    "for CD8: 0 genotype covariates and 5 phenotype covariates\n",
    "for CD4: 0 genotype covariates and 5 phenotype covariates"
   ]
  },
  {
   "cell_type": "code",
   "execution_count": null,
   "metadata": {},
   "outputs": [],
   "source": [
    "# see bash scripts for running of QTL tools"
   ]
  },
  {
   "cell_type": "code",
   "execution_count": 1,
   "metadata": {},
   "outputs": [],
   "source": [
    "# merge the final results\n",
    "!cat /mnt/iusers01/jw01/mdefscs4/psa_functional_genomics/PsA_cleaned_analysis/QTL_analysis/HiC/output_final/ins_nominal_CD4_0* > /mnt/iusers01/jw01/mdefscs4/psa_functional_genomics/PsA_cleaned_analysis/QTL_analysis/HiC/output_final/ins_nominal_CD4_merged.txt\n",
    "!cat /mnt/iusers01/jw01/mdefscs4/psa_functional_genomics/PsA_cleaned_analysis/QTL_analysis/HiC/output_final/ins_nominal_CD8_0* > /mnt/iusers01/jw01/mdefscs4/psa_functional_genomics/PsA_cleaned_analysis/QTL_analysis/HiC/output_final/ins_nominal_CD8_merged.txt\n",
    "\n",
    "!cat /mnt/iusers01/jw01/mdefscs4/psa_functional_genomics/PsA_cleaned_analysis/QTL_analysis/HiC/output_final/ins_permuted_CD4_0* > /mnt/iusers01/jw01/mdefscs4/psa_functional_genomics/PsA_cleaned_analysis/QTL_analysis/HiC/output_final/ins_permuted_CD4_merged.txt\n",
    "!cat /mnt/iusers01/jw01/mdefscs4/psa_functional_genomics/PsA_cleaned_analysis/QTL_analysis/HiC/output_final/ins_permuted_CD8_0* > /mnt/iusers01/jw01/mdefscs4/psa_functional_genomics/PsA_cleaned_analysis/QTL_analysis/HiC/output_final/ins_permuted_CD8_merged.txt"
   ]
  },
  {
   "cell_type": "code",
   "execution_count": 7,
   "metadata": {},
   "outputs": [
    {
     "data": {
      "text/plain": [
       "26021"
      ]
     },
     "execution_count": 7,
     "metadata": {},
     "output_type": "execute_result"
    }
   ],
   "source": [
    "ins_permuted_CD8 = pd.read_csv(\"/mnt/jw01-aruk-home01/projects/psa_functional_genomics/PsA_cleaned_analysis/QTL_analysis/HiC/output_final/ins_permuted_CD8_merged.txt\", sep = \" \")\n",
    "len(ins_permuted_CD8[ins_permuted_CD8[\"adj_beta_pval\"] < 0.1])"
   ]
  },
  {
   "cell_type": "code",
   "execution_count": 8,
   "metadata": {},
   "outputs": [
    {
     "data": {
      "text/plain": [
       "24807"
      ]
     },
     "execution_count": 8,
     "metadata": {},
     "output_type": "execute_result"
    }
   ],
   "source": [
    "ins_permuted_CD4 = pd.read_csv(\"/mnt/jw01-aruk-home01/projects/psa_functional_genomics/PsA_cleaned_analysis/QTL_analysis/HiC/output_final/ins_permuted_CD4_merged.txt\", sep = \" \")\n",
    "len(ins_permuted_CD4[ins_permuted_CD4[\"adj_beta_pval\"] < 0.1])"
   ]
  },
  {
   "cell_type": "code",
   "execution_count": null,
   "metadata": {},
   "outputs": [],
   "source": []
  }
 ],
 "metadata": {
  "kernelspec": {
   "display_name": "Python 3",
   "language": "python",
   "name": "python3"
  },
  "language_info": {
   "codemirror_mode": {
    "name": "ipython",
    "version": 3
   },
   "file_extension": ".py",
   "mimetype": "text/x-python",
   "name": "python",
   "nbconvert_exporter": "python",
   "pygments_lexer": "ipython3",
   "version": "3.9.10"
  },
  "orig_nbformat": 4
 },
 "nbformat": 4,
 "nbformat_minor": 2
}
