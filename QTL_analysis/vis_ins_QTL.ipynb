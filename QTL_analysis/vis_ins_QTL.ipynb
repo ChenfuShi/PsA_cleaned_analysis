{
 "cells": [
  {
   "attachments": {},
   "cell_type": "markdown",
   "metadata": {},
   "source": [
    "# simple script to allow the visualization of insulation QTL as a bedgraph"
   ]
  },
  {
   "cell_type": "code",
   "execution_count": 1,
   "metadata": {},
   "outputs": [
    {
     "name": "stdout",
     "output_type": "stream",
     "text": [
      "INFO: Pandarallel will run on 16 workers.\n",
      "INFO: Pandarallel will use Memory file system to transfer data between the main process and workers.\n"
     ]
    }
   ],
   "source": [
    "import pandas as pd\n",
    "import numpy as np\n",
    "import hicstraw \n",
    "from multiprocessing import Pool\n",
    "from functools import partial\n",
    "import glob\n",
    "import os\n",
    "import plotly.express as px\n",
    "import math\n",
    "import matplotlib.pyplot as plt\n",
    "from matplotlib import colors\n",
    "from pandarallel import pandarallel\n",
    "import cooler\n",
    "import cooltools\n",
    "import pybedtools as pbed\n",
    "pandarallel.initialize()\n",
    "from scipy import stats, special\n",
    "from statsmodels.stats import multitest\n",
    "import statsmodels.api as sm\n",
    "import statsmodels.formula.api as smf\n",
    "import plotly.io as pio\n",
    "import seaborn as sns\n",
    "\n",
    "from functools import reduce\n",
    "\n",
    "os.makedirs(\"/mnt/iusers01/jw01/mdefscs4/scratch/temp_pybedtools/\", exist_ok = True)\n",
    "pbed.helpers.set_tempdir(\"/mnt/iusers01/jw01/mdefscs4/scratch/temp_pybedtools/\")\n",
    "bed_genome_file = \"/mnt/iusers01/jw01/mdefscs4/hg38.genome\"\n",
    "\n",
    "plt.rcParams['svg.fonttype'] = 'none'\n",
    "\n",
    "base_dir = \"/mnt/jw01-aruk-home01/projects/psa_functional_genomics/PsA_cleaned_analysis\""
   ]
  },
  {
   "cell_type": "code",
   "execution_count": 2,
   "metadata": {},
   "outputs": [],
   "source": [
    "ins_nominal_CD8 = pd.read_csv(f\"{base_dir}/QTL_analysis/HiC/output_final/ins_nominal_CD8_merged.txt\", sep = \" \")\n",
    "ins_nominal_CD4 = pd.read_csv(f\"{base_dir}/QTL_analysis/HiC/output_final/ins_nominal_CD4_merged.txt\", sep = \" \")"
   ]
  },
  {
   "cell_type": "code",
   "execution_count": null,
   "metadata": {},
   "outputs": [],
   "source": [
    "loop_nominal_CD8 = pd.read_csv(f\"{base_dir}/QTL_analysis/HiC/output_final/loop_nominal_CD8_merged.txt\", sep = \" \")\n",
    "loop_nominal_CD4 = pd.read_csv(f\"{base_dir}/QTL_analysis/HiC/output_final/loop_nominal_CD4_merged.txt\", sep = \" \")"
   ]
  },
  {
   "cell_type": "code",
   "execution_count": null,
   "metadata": {},
   "outputs": [],
   "source": [
    "ins_nominal_CD8[\"log_pval\"] = -np.log10(ins_nominal_CD8[\"nom_pval\"])\n",
    "ins_nominal_CD4[\"log_pval\"] = -np.log10(ins_nominal_CD4[\"nom_pval\"])\n",
    "loop_nominal_CD8[\"log_pval\"] = -np.log10(loop_nominal_CD8[\"nom_pval\"])\n",
    "loop_nominal_CD4[\"log_pval\"] = -np.log10(loop_nominal_CD4[\"nom_pval\"])"
   ]
  },
  {
   "cell_type": "code",
   "execution_count": null,
   "metadata": {},
   "outputs": [],
   "source": [
    "loop_nominal_CD8[\"phe_from_end\"] = loop_nominal_CD8[\"phe_from\"] + 5000\n",
    "loop_nominal_CD4[\"phe_from_end\"] = loop_nominal_CD4[\"phe_from\"] + 5000\n",
    "loop_nominal_CD8[\"phe_to_start\"] = loop_nominal_CD8[\"phe_to\"] - 5000\n",
    "loop_nominal_CD4[\"phe_to_start\"] = loop_nominal_CD4[\"phe_to\"] - 5000"
   ]
  },
  {
   "cell_type": "code",
   "execution_count": null,
   "metadata": {},
   "outputs": [],
   "source": [
    "for wanted_snp in [\"rs11209051\",\"rs2631367\",\"rs13396472\",\"rs12936231\",\"rs13140464\",\"rs2353679\"]:\n",
    "    ins_nominal_CD8[ins_nominal_CD8[\"var_id\"] == wanted_snp][[\"phe_chr\",\"phe_from\",\"phe_to\",\"slope\",\"log_pval\"]].to_csv(\n",
    "        f\"{base_dir}/QTL_analysis/ins_output/ins_CD8_{wanted_snp}.bdg\", sep = \"\\t\", index = False)\n",
    "    ins_nominal_CD4[ins_nominal_CD4[\"var_id\"] == wanted_snp][[\"phe_chr\",\"phe_from\",\"phe_to\",\"slope\",\"log_pval\"]].to_csv(\n",
    "        f\"{base_dir}/QTL_analysis/ins_output/ins_CD4_{wanted_snp}.bdg\", sep = \"\\t\", index = False)\n",
    "    \n",
    "    df = loop_nominal_CD8[loop_nominal_CD8[\"var_id\"] == wanted_snp].copy()\n",
    "    df['combined'] = df['phe_chr'] + ':' + df['phe_to_start'].astype(str) + '-' + df['phe_to'].astype(str) + ',' + df['slope'].astype(str)\n",
    "    df = df[['phe_chr', 'phe_from', 'phe_from_end', 'combined', \"log_pval\"]]\n",
    "    df.to_csv(f\"{base_dir}/QTL_analysis/ins_output/loop_CD8_{wanted_snp}.longrange\", sep='\\t', index=False, header = False)\n",
    "    df = loop_nominal_CD4[loop_nominal_CD4[\"var_id\"] == wanted_snp].copy()\n",
    "    df['combined'] = df['phe_chr'] + ':' + df['phe_to_start'].astype(str) + '-' + df['phe_to'].astype(str) + ',' + df['slope'].astype(str)\n",
    "    df = df[['phe_chr', 'phe_from', 'phe_from_end', 'combined', \"log_pval\"]]\n",
    "    df.to_csv(f\"{base_dir}/QTL_analysis/ins_output/loop_CD4_{wanted_snp}.longrange\", sep='\\t', index=False, header = False)"
   ]
  },
  {
   "cell_type": "code",
   "execution_count": null,
   "metadata": {},
   "outputs": [],
   "source": []
  },
  {
   "cell_type": "code",
   "execution_count": null,
   "metadata": {},
   "outputs": [],
   "source": []
  },
  {
   "cell_type": "code",
   "execution_count": null,
   "metadata": {},
   "outputs": [],
   "source": []
  },
  {
   "cell_type": "code",
   "execution_count": null,
   "metadata": {},
   "outputs": [],
   "source": []
  },
  {
   "cell_type": "code",
   "execution_count": null,
   "metadata": {},
   "outputs": [],
   "source": []
  },
  {
   "cell_type": "code",
   "execution_count": null,
   "metadata": {},
   "outputs": [],
   "source": []
  }
 ],
 "metadata": {
  "kernelspec": {
   "display_name": "Python 3",
   "language": "python",
   "name": "python3"
  },
  "language_info": {
   "codemirror_mode": {
    "name": "ipython",
    "version": 3
   },
   "file_extension": ".py",
   "mimetype": "text/x-python",
   "name": "python",
   "nbconvert_exporter": "python",
   "pygments_lexer": "ipython3",
   "version": "3.9.10"
  },
  "orig_nbformat": 4
 },
 "nbformat": 4,
 "nbformat_minor": 2
}
