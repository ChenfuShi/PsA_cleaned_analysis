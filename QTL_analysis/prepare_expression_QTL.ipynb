{
 "cells": [
  {
   "attachments": {},
   "cell_type": "markdown",
   "metadata": {},
   "source": [
    "# script to prepare the files for expression QTL analysis\n",
    "\n",
    "genotypes are only available through protected access\n",
    "\n",
    "QTL was generated using QTLtools"
   ]
  },
  {
   "cell_type": "code",
   "execution_count": 2,
   "metadata": {},
   "outputs": [],
   "source": [
    "import os\n",
    "import pandas as pd\n",
    "import numpy as np\n",
    "import plotly.express as px\n",
    "os.chdir(\"/mnt/jw01-aruk-home01/projects/psa_functional_genomics/PsA_cleaned_analysis/QTL_analysis\")\n",
    "base_dir = \"/mnt/jw01-aruk-home01/projects/psa_functional_genomics/PsA_cleaned_analysis\""
   ]
  },
  {
   "attachments": {},
   "cell_type": "markdown",
   "metadata": {},
   "source": [
    "## prepare the normalized counts for eQTL"
   ]
  },
  {
   "cell_type": "code",
   "execution_count": 3,
   "metadata": {},
   "outputs": [],
   "source": [
    "RNA_normalized_counts = pd.read_csv(f\"{base_dir}/RNA_seq_analysis/RNA_normalized_counts.csv\")\n",
    "metadata_RNA = pd.read_csv(f\"{base_dir}/metadata/cleaned_RNA_metadata.csv\", index_col=0)\n",
    "gtf_annotation_df = pd.read_pickle(f\"{base_dir}/gencode_gtf.pickle\")\n",
    "gtf_transcripts = gtf_annotation_df[(gtf_annotation_df[\"feature\"] == \"transcript\") & (gtf_annotation_df[\"transcript_type\"] == \"protein_coding\")].dropna(axis=1, how='all')\n",
    "gtf_transcripts[\"gene_id\"] = gtf_transcripts[\"gene_id\"].str.split(\".\").str[0]\n",
    "gtf_transcripts[\"transcript_id\"] = gtf_transcripts[\"transcript_id\"].str.split(\".\").str[0]\n",
    "gtf_transcripts[\"TSS_start\"] = gtf_transcripts.apply(lambda x: int(x[\"start\"]) if x[\"strand\"] == \"+\" else int(x[\"end\"]) ,axis = 1)\n",
    "gtf_genes = gtf_annotation_df[(gtf_annotation_df[\"feature\"] == \"gene\") & (gtf_annotation_df[\"gene_type\"] == \"protein_coding\")].dropna(axis=1, how='all')\n",
    "gtf_genes[\"gene_id\"] = gtf_genes[\"gene_id\"].str.split(\".\").str[0]\n",
    "gtf_genes[\"TSS_start\"] = gtf_genes.apply(lambda x: int(x[\"start\"]) if x[\"strand\"] == \"+\" else int(x[\"end\"]) ,axis = 1)\n",
    "gtf_genes[\"length\"] = gtf_genes[\"end\"].astype(int) - gtf_genes[\"start\"].astype(int)"
   ]
  },
  {
   "cell_type": "code",
   "execution_count": 4,
   "metadata": {},
   "outputs": [],
   "source": [
    "# filter for protein coding genes\n",
    "RNA_normalized_counts = RNA_normalized_counts.merge(gtf_genes[[\"gene_id\",\"seqname\",\"TSS_start\", \"length\", \"strand\"]].drop_duplicates(\"gene_id\"), left_on = \"ENSG\", right_on = \"gene_id\")\n",
    "RNA_normalized_counts[\"TSS_end\"] = RNA_normalized_counts[\"TSS_start\"] + 1 "
   ]
  },
  {
   "cell_type": "code",
   "execution_count": 16,
   "metadata": {},
   "outputs": [],
   "source": [
    "# we don't have genotypes for NRHV319 and NRHV005\n",
    "samples = metadata_RNA[~metadata_RNA[\"patient\"].isin([\"NRHV319\", \"NRHV005\"])][\"patient\"].to_list()"
   ]
  },
  {
   "attachments": {},
   "cell_type": "markdown",
   "metadata": {},
   "source": [
    "## CD8 counts"
   ]
  },
  {
   "cell_type": "code",
   "execution_count": 17,
   "metadata": {},
   "outputs": [],
   "source": [
    "wanted_samples = metadata_RNA[(metadata_RNA[\"cell_type\"] == \"CD8\") & metadata_RNA[\"patient\"].isin(samples)][\"sample\"].to_list()"
   ]
  },
  {
   "cell_type": "code",
   "execution_count": 18,
   "metadata": {},
   "outputs": [],
   "source": [
    "counts_CD8 = RNA_normalized_counts[[\"seqname\", \"TSS_start\", \"TSS_end\", \"gene_id\", \"length\", \"strand\"] + wanted_samples].copy()"
   ]
  },
  {
   "cell_type": "code",
   "execution_count": 19,
   "metadata": {},
   "outputs": [],
   "source": [
    "df_mapper = metadata_RNA[(metadata_RNA[\"cell_type\"] == \"CD8\") & metadata_RNA[\"patient\"].isin(samples)][[\"sample\", \"patient\"]]"
   ]
  },
  {
   "cell_type": "code",
   "execution_count": 20,
   "metadata": {},
   "outputs": [],
   "source": [
    "counts_CD8[wanted_samples] = np.log2(counts_CD8[wanted_samples] + 1)"
   ]
  },
  {
   "cell_type": "code",
   "execution_count": 21,
   "metadata": {},
   "outputs": [],
   "source": [
    "counts_CD8 = counts_CD8.rename(columns = dict(zip(df_mapper['sample'], df_mapper['patient'])))\n",
    "counts_CD8 = counts_CD8.rename(columns = {\"seqname\":\"#chr\", \"TSS_start\":\"start\", \"TSS_end\":\"end\",\"gene_id\":\"gene\"})"
   ]
  },
  {
   "cell_type": "code",
   "execution_count": 26,
   "metadata": {},
   "outputs": [],
   "source": [
    "counts_CD8.sort_values([\"#chr\",\"start\"]).to_csv(\"/mnt/jw01-aruk-home01/projects/psa_functional_genomics/PsA_cleaned_analysis/QTL_analysis/RNA/RNA_expr_CD8_test.bed\", sep = \"\\t\", index = False)\n",
    "!bgzip -f /mnt/iusers01/jw01/mdefscs4/psa_functional_genomics/PsA_cleaned_analysis/QTL_analysis/RNA/RNA_expr_CD8_test.bed\n",
    "!tabix -f -p bed /mnt/iusers01/jw01/mdefscs4/psa_functional_genomics/PsA_cleaned_analysis/QTL_analysis/RNA/RNA_expr_CD8_test.bed.gz"
   ]
  },
  {
   "attachments": {},
   "cell_type": "markdown",
   "metadata": {},
   "source": [
    "## CD4 counts"
   ]
  },
  {
   "cell_type": "code",
   "execution_count": 28,
   "metadata": {},
   "outputs": [],
   "source": [
    "# We have also identified PSA4956 and NRHV171 to be outliers\n",
    "wanted_samples = metadata_RNA[(metadata_RNA[\"cell_type\"] == \"CD4\") & metadata_RNA[\"patient\"].isin(samples) & (~metadata_RNA[\"patient\"].isin([\"PSA4956\", \"NRHV171\"]))][\"sample\"].to_list()"
   ]
  },
  {
   "cell_type": "code",
   "execution_count": 29,
   "metadata": {},
   "outputs": [],
   "source": [
    "counts_CD4 = RNA_normalized_counts[[\"seqname\", \"TSS_start\", \"TSS_end\", \"gene_id\", \"length\", \"strand\"] + wanted_samples].copy()"
   ]
  },
  {
   "cell_type": "code",
   "execution_count": 30,
   "metadata": {},
   "outputs": [],
   "source": [
    "df_mapper = metadata_RNA[(metadata_RNA[\"cell_type\"] == \"CD4\") & metadata_RNA[\"patient\"].isin(samples)][[\"sample\", \"patient\"]]"
   ]
  },
  {
   "cell_type": "code",
   "execution_count": 31,
   "metadata": {},
   "outputs": [],
   "source": [
    "counts_CD4[wanted_samples] = np.log2(counts_CD4[wanted_samples] + 1)"
   ]
  },
  {
   "cell_type": "code",
   "execution_count": 32,
   "metadata": {},
   "outputs": [],
   "source": [
    "counts_CD4 = counts_CD4.rename(columns = dict(zip(df_mapper['sample'], df_mapper['patient'])))\n",
    "counts_CD4 = counts_CD4.rename(columns = {\"seqname\":\"#chr\", \"TSS_start\":\"start\", \"TSS_end\":\"end\",\"gene_id\":\"gene\"})"
   ]
  },
  {
   "cell_type": "code",
   "execution_count": 33,
   "metadata": {},
   "outputs": [],
   "source": [
    "counts_CD4.sort_values([\"#chr\",\"start\"]).to_csv(\"/mnt/jw01-aruk-home01/projects/psa_functional_genomics/PsA_cleaned_analysis/QTL_analysis/RNA/RNA_expr_CD4_test.bed\", sep = \"\\t\", index = False)\n",
    "!bgzip -f /mnt/iusers01/jw01/mdefscs4/psa_functional_genomics/PsA_cleaned_analysis/QTL_analysis/RNA/RNA_expr_CD4_test.bed\n",
    "!tabix -f -p bed /mnt/iusers01/jw01/mdefscs4/psa_functional_genomics/PsA_cleaned_analysis/QTL_analysis/RNA/RNA_expr_CD4_test.bed.gz"
   ]
  },
  {
   "cell_type": "code",
   "execution_count": null,
   "metadata": {},
   "outputs": [],
   "source": []
  },
  {
   "cell_type": "code",
   "execution_count": null,
   "metadata": {},
   "outputs": [],
   "source": []
  },
  {
   "cell_type": "code",
   "execution_count": null,
   "metadata": {},
   "outputs": [],
   "source": []
  },
  {
   "attachments": {},
   "cell_type": "markdown",
   "metadata": {},
   "source": [
    "## running a permutation test to identify the best number of PCA component as covariates identified the following:\n",
    "for CD8: 0 genotype covariates and 5 phenotype covariates\n",
    "for CD4: 0 genotype covariates and 7 phenotype covariates"
   ]
  },
  {
   "cell_type": "code",
   "execution_count": null,
   "metadata": {},
   "outputs": [],
   "source": [
    "# see bash scripts for running of QTL tools"
   ]
  },
  {
   "cell_type": "code",
   "execution_count": 24,
   "metadata": {},
   "outputs": [],
   "source": [
    "# merge the final results\n",
    "!cat /mnt/iusers01/jw01/mdefscs4/psa_functional_genomics/PsA_cleaned_analysis/QTL_analysis/RNA/output_final/RNA_nominal_CD4_0* > /mnt/iusers01/jw01/mdefscs4/psa_functional_genomics/PsA_cleaned_analysis/QTL_analysis/RNA/output_final/RNA_nominal_CD4_merged.txt\n",
    "!cat /mnt/iusers01/jw01/mdefscs4/psa_functional_genomics/PsA_cleaned_analysis/QTL_analysis/RNA/output_final/RNA_nominal_CD8_0* > /mnt/iusers01/jw01/mdefscs4/psa_functional_genomics/PsA_cleaned_analysis/QTL_analysis/RNA/output_final/RNA_nominal_CD8_merged.txt\n",
    "\n",
    "!cat /mnt/iusers01/jw01/mdefscs4/psa_functional_genomics/PsA_cleaned_analysis/QTL_analysis/RNA/output_final/RNA_permuted_CD4_0* > /mnt/iusers01/jw01/mdefscs4/psa_functional_genomics/PsA_cleaned_analysis/QTL_analysis/RNA/output_final/RNA_permuted_CD4_merged.txt\n",
    "!cat /mnt/iusers01/jw01/mdefscs4/psa_functional_genomics/PsA_cleaned_analysis/QTL_analysis/RNA/output_final/RNA_permuted_CD8_0* > /mnt/iusers01/jw01/mdefscs4/psa_functional_genomics/PsA_cleaned_analysis/QTL_analysis/RNA/output_final/RNA_permuted_CD8_merged.txt"
   ]
  },
  {
   "cell_type": "code",
   "execution_count": 5,
   "metadata": {},
   "outputs": [
    {
     "data": {
      "text/plain": [
       "3610"
      ]
     },
     "execution_count": 5,
     "metadata": {},
     "output_type": "execute_result"
    }
   ],
   "source": [
    "RNA_permuted_CD8 = pd.read_csv(\"/mnt/jw01-aruk-home01/projects/psa_functional_genomics/PsA_cleaned_analysis/QTL_analysis/RNA/output_final/RNA_permuted_CD8_merged.txt\", sep = \" \")\n",
    "len(RNA_permuted_CD8[RNA_permuted_CD8[\"adj_beta_pval\"] < 0.1])"
   ]
  },
  {
   "cell_type": "code",
   "execution_count": 6,
   "metadata": {},
   "outputs": [
    {
     "data": {
      "text/plain": [
       "3150"
      ]
     },
     "execution_count": 6,
     "metadata": {},
     "output_type": "execute_result"
    }
   ],
   "source": [
    "RNA_permuted_CD4 = pd.read_csv(\"/mnt/jw01-aruk-home01/projects/psa_functional_genomics/PsA_cleaned_analysis/QTL_analysis/RNA/output_final/RNA_permuted_CD4_merged.txt\", sep = \" \")\n",
    "len(RNA_permuted_CD4[RNA_permuted_CD4[\"adj_beta_pval\"] < 0.1])"
   ]
  },
  {
   "cell_type": "code",
   "execution_count": null,
   "metadata": {},
   "outputs": [],
   "source": []
  }
 ],
 "metadata": {
  "kernelspec": {
   "display_name": "Python 3",
   "language": "python",
   "name": "python3"
  },
  "language_info": {
   "codemirror_mode": {
    "name": "ipython",
    "version": 3
   },
   "file_extension": ".py",
   "mimetype": "text/x-python",
   "name": "python",
   "nbconvert_exporter": "python",
   "pygments_lexer": "ipython3",
   "version": "3.9.10"
  },
  "orig_nbformat": 4,
  "vscode": {
   "interpreter": {
    "hash": "64bc073de8d24d484ad5b2fece953d20708d91b167b6996d287dfc1cc29e61ba"
   }
  }
 },
 "nbformat": 4,
 "nbformat_minor": 2
}
