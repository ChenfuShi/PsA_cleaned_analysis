{
 "cells": [
  {
   "cell_type": "code",
   "execution_count": 1,
   "metadata": {},
   "outputs": [],
   "source": [
    "import pandas as pd\n",
    "import numpy as np\n",
    "from multiprocessing import Pool\n",
    "from functools import partial\n",
    "import glob\n",
    "import os\n",
    "import plotly.express as px\n",
    "import math\n",
    "import matplotlib.pyplot as plt\n",
    "from matplotlib import colors\n",
    "from scipy import stats, special\n",
    "from statsmodels.stats import multitest\n",
    "import statsmodels.api as sm\n",
    "import statsmodels.formula.api as smf\n",
    "import plotly.io as pio\n",
    "import seaborn as sns\n",
    "\n",
    "from functools import reduce\n",
    "\n",
    "plt.rcParams['svg.fonttype'] = 'none'\n",
    "\n",
    "base_dir = \"http://bartzabel.ls.manchester.ac.uk/orozcolab/SNP2Mechanism/\""
   ]
  },
  {
   "cell_type": "code",
   "execution_count": 2,
   "metadata": {},
   "outputs": [],
   "source": [
    "RNA_nominal_CD4 = pd.read_csv(f\"{base_dir}/QTLs/RNA/RNA_nominal_CD4_merged.txt\", sep = \" \")\n",
    "RNA_nominal_CD8 = pd.read_csv(f\"{base_dir}/QTLs/RNA/RNA_nominal_CD8_merged.txt\", sep = \" \")\n",
    "RNA_permuted_CD4 = pd.read_csv(f\"{base_dir}/QTLs/RNA/RNA_permuted_CD4_FDR.txt\", sep = \" \")\n",
    "RNA_permuted_CD8 = pd.read_csv(f\"{base_dir}/QTLs/RNA/RNA_permuted_CD8_FDR.txt\", sep = \" \")"
   ]
  },
  {
   "cell_type": "code",
   "execution_count": 3,
   "metadata": {},
   "outputs": [],
   "source": [
    "ATAC_nominal_CD4 = pd.read_csv(f\"{base_dir}/QTLs/ATAC/ATAC_nominal_CD4_merged.txt\", sep = \" \")\n",
    "ATAC_nominal_CD8 = pd.read_csv(f\"{base_dir}/QTLs/ATAC/ATAC_nominal_CD8_merged.txt\", sep = \" \")\n",
    "ATAC_permuted_CD4 = pd.read_csv(f\"{base_dir}/QTLs/ATAC/ATAC_permuted_CD4_FDR.txt\", sep = \" \")\n",
    "ATAC_permuted_CD8 = pd.read_csv(f\"{base_dir}/QTLs/ATAC/ATAC_permuted_CD8_FDR.txt\", sep = \" \")"
   ]
  },
  {
   "cell_type": "code",
   "execution_count": 4,
   "metadata": {},
   "outputs": [],
   "source": [
    "ins_nominal_CD4 = pd.read_csv(f\"{base_dir}/QTLs/HiC/ins_nominal_CD4_merged.txt\", sep = \" \")\n",
    "ins_nominal_CD8 = pd.read_csv(f\"{base_dir}/QTLs/HiC/ins_nominal_CD8_merged.txt\", sep = \" \")\n",
    "ins_permuted_CD4 = pd.read_csv(f\"{base_dir}/QTLs/HiC/ins_permuted_CD4_FDR.txt\", sep = \" \")\n",
    "ins_permuted_CD8 = pd.read_csv(f\"{base_dir}/QTLs/HiC/ins_permuted_CD8_FDR.txt\", sep = \" \")"
   ]
  },
  {
   "cell_type": "code",
   "execution_count": 5,
   "metadata": {},
   "outputs": [],
   "source": [
    "loop_nominal_CD4 = pd.read_csv(f\"{base_dir}/QTLs/HiC/loop_nominal_CD4_merged.txt\", sep = \" \")\n",
    "loop_nominal_CD8 = pd.read_csv(f\"{base_dir}/QTLs/HiC/loop_nominal_CD8_merged.txt\", sep = \" \")\n",
    "loop_permuted_CD4 = pd.read_csv(f\"{base_dir}/QTLs/HiC/loop_permuted_CD4_FDR.txt\", sep = \" \")\n",
    "loop_permuted_CD8 = pd.read_csv(f\"{base_dir}/QTLs/HiC/loop_permuted_CD8_FDR.txt\", sep = \" \")"
   ]
  },
  {
   "cell_type": "code",
   "execution_count": 6,
   "metadata": {},
   "outputs": [],
   "source": [
    "gtf_annotation_df = pd.read_pickle(f\"{base_dir}/PsA_cleaned_analysis/gencode_gtf.pickle\")\n",
    "gtf_transcripts = gtf_annotation_df[(gtf_annotation_df[\"feature\"] == \"transcript\") & (gtf_annotation_df[\"transcript_type\"] == \"protein_coding\")].dropna(axis=1, how='all')\n",
    "gtf_transcripts[\"gene_id\"] = gtf_transcripts[\"gene_id\"].str.split(\".\").str[0]\n",
    "gtf_transcripts[\"transcript_id\"] = gtf_transcripts[\"transcript_id\"].str.split(\".\").str[0]\n",
    "gtf_transcripts[\"TSS_start\"] = gtf_transcripts.apply(lambda x: int(x[\"start\"]) if x[\"strand\"] == \"+\" else int(x[\"end\"]) ,axis = 1)"
   ]
  },
  {
   "cell_type": "markdown",
   "metadata": {},
   "source": [
    "## calculate the overlaps between a QTLs for expression and QTLs for chromatin accessibility of the promoters "
   ]
  },
  {
   "cell_type": "code",
   "execution_count": 7,
   "metadata": {},
   "outputs": [],
   "source": [
    "from intervaltree import Interval, IntervalTree\n",
    "def annotated_peaks(target_ATAC):\n",
    "    # Create a DataFrame for unique peaks\n",
    "    df_unique_peaks = target_ATAC[['phe_id', 'phe_chr', 'phe_from', 'phe_to']].drop_duplicates()\n",
    "\n",
    "    # Initialize an empty DataFrame to store the results\n",
    "    df_result = pd.DataFrame()\n",
    "\n",
    "    # Process each chromosome separately\n",
    "    for chromosome in df_unique_peaks['phe_chr'].unique():\n",
    "        # Subset data for the current chromosome\n",
    "        df_peaks_chr = df_unique_peaks[df_unique_peaks['phe_chr'] == chromosome].copy()\n",
    "        gtf_transcripts_chr = gtf_transcripts[gtf_transcripts['seqname'] == chromosome].copy()\n",
    "        gtf_transcripts_chr.drop_duplicates(subset=['TSS_start', 'gene_id'], inplace=True)\n",
    "\n",
    "        # Build interval tree for the current chromosome\n",
    "        tree = IntervalTree()\n",
    "        for row in gtf_transcripts_chr.itertuples():\n",
    "            # Extend TSS_start on 2.5kb in both directions to cover nearby peaks\n",
    "            tree.add(Interval(row.TSS_start - 2500, row.TSS_start + 2500, row.gene_id))\n",
    "\n",
    "        # Annotate peaks with gene_id\n",
    "        rows_list = []\n",
    "        for i, row in df_peaks_chr.iterrows():\n",
    "            intervals = tree[row.phe_from:row.phe_to]\n",
    "            gene_ids = set()  # Store gene_ids to prevent duplicates\n",
    "            for interval in intervals:  # Iterate through all overlapping intervals\n",
    "                if interval.data not in gene_ids:\n",
    "                    new_row = row.to_dict()\n",
    "                    new_row[\"gene_id\"] = interval.data\n",
    "                    rows_list.append(new_row)\n",
    "                    gene_ids.add(interval.data)  # Add gene_id to the set\n",
    "\n",
    "        df_peaks_chr = pd.DataFrame(rows_list)\n",
    "        \n",
    "        df_result = pd.concat([df_result, df_peaks_chr[['phe_id', 'gene_id']]])\n",
    "\n",
    "    # Now we can merge this back to the original peaks DataFrame\n",
    "    result = pd.merge(target_ATAC, df_result, how='left', on=['phe_id'])\n",
    "    return result[result[\"gene_id\"].notnull()]"
   ]
  },
  {
   "cell_type": "code",
   "execution_count": 8,
   "metadata": {},
   "outputs": [],
   "source": [
    "def get_values_RNA_ATAC_promoter(ref,target):\n",
    "    # in this case I want the ATAC-peak to be close to the TSS of the gene. The problem of course is that there are multiple TSS per gene.\n",
    "    annotated_target = annotated_peaks(target)\n",
    "\n",
    "    # now for each gene that has eQTL, I want to know what directionality the SNP has for the peak that overlaps a TSS\n",
    "    A_B_merged = ref[(ref[\"FDR\"] < 0.1)][[\"phe_id\",\"var_id\",\"nom_pval\",\"slope\"]].merge(annotated_target[[\"phe_id\",\"var_id\",\"nom_pval\",\"slope\",\"gene_id\"]], suffixes = (\"_A\", \"_B\"), left_on = [\"var_id\", \"phe_id\"], right_on = [\"var_id\", \"gene_id\"], how = \"left\")\n",
    "    print(len(A_B_merged[A_B_merged[\"nom_pval_A\"] < 0.01])/ len(ref[(ref[\"FDR\"] < 0.1)]))\n",
    "    print(len(A_B_merged[A_B_merged[\"nom_pval_B\"] < 0.01])/ len(ref[(ref[\"FDR\"] < 0.1)]))\n",
    "    # fig = px.scatter(A_B_merged, x = \"slope_A\", y = \"slope_B\", opacity = 0.2)\n",
    "    # fig.show()\n",
    "    df = A_B_merged[A_B_merged[\"nom_pval_B\"] < 0.01]\n",
    "    # Create concordant mask (both positive or both negative)\n",
    "    concordant_mask = np.sign(df['slope_A']) == np.sign(df['slope_B'])\n",
    "\n",
    "    # Create discordant mask (one positive, one negative)\n",
    "    discordant_mask = np.sign(df['slope_A']) != np.sign(df['slope_B'])\n",
    "\n",
    "    # Count concordant and discordant rows\n",
    "    num_concordant = concordant_mask.sum()\n",
    "    num_discordant = discordant_mask.sum()\n",
    "\n",
    "    print(f\"Number of concordant rows: {num_concordant}\")\n",
    "    print(f\"Number of discordant rows: {num_discordant}\")\n",
    "    print(f\"ratio: {num_concordant/(num_discordant + num_concordant)}\")"
   ]
  },
  {
   "cell_type": "code",
   "execution_count": 9,
   "metadata": {},
   "outputs": [
    {
     "name": "stdout",
     "output_type": "stream",
     "text": [
      "1.0497203231821006\n",
      "0.3766314481044127\n",
      "Number of concordant rows: 536\n",
      "Number of discordant rows: 70\n",
      "ratio: 0.8844884488448845\n"
     ]
    }
   ],
   "source": [
    "get_values_RNA_ATAC_promoter(RNA_permuted_CD8, ATAC_nominal_CD8)"
   ]
  },
  {
   "cell_type": "code",
   "execution_count": 10,
   "metadata": {},
   "outputs": [
    {
     "name": "stdout",
     "output_type": "stream",
     "text": [
      "1.0541871921182266\n",
      "0.39704433497536945\n",
      "Number of concordant rows: 354\n",
      "Number of discordant rows: 49\n",
      "ratio: 0.8784119106699751\n"
     ]
    }
   ],
   "source": [
    "get_values_RNA_ATAC_promoter(RNA_permuted_CD4, ATAC_nominal_CD4)"
   ]
  },
  {
   "cell_type": "markdown",
   "metadata": {},
   "source": [
    "## calculate the overlaps between a QTLs for expression and QTLs for insulation score of the domain overlapping of the promoters \n",
    "also works for loops for all genes contained between the loop anchors"
   ]
  },
  {
   "cell_type": "code",
   "execution_count": 11,
   "metadata": {},
   "outputs": [],
   "source": [
    "from intervaltree import Interval, IntervalTree\n",
    "def annotated_ins(target_ins):\n",
    "    # Create a DataFrame for unique peaks\n",
    "    df_unique_peaks = target_ins[['phe_id', 'phe_chr', 'phe_from', 'phe_to']].drop_duplicates()\n",
    "\n",
    "    # Initialize an empty DataFrame to store the results\n",
    "    df_result = pd.DataFrame()\n",
    "\n",
    "    # Process each chromosome separately\n",
    "    for chromosome in df_unique_peaks['phe_chr'].unique():\n",
    "        # Subset data for the current chromosome\n",
    "        df_peaks_chr = df_unique_peaks[df_unique_peaks['phe_chr'] == chromosome].copy()\n",
    "        gtf_transcripts_chr = gtf_transcripts[gtf_transcripts['seqname'] == chromosome].copy()\n",
    "        gtf_transcripts_chr.drop_duplicates(subset=['TSS_start', 'gene_id'], inplace=True)\n",
    "\n",
    "        # Build interval tree for the current chromosome\n",
    "        tree = IntervalTree()\n",
    "        for row in gtf_transcripts_chr.itertuples():\n",
    "            tree.add(Interval(row.TSS_start - 1, row.TSS_start + 1, row.gene_id))\n",
    "\n",
    "        # Annotate peaks with gene_id\n",
    "        rows_list = []\n",
    "        for i, row in df_peaks_chr.iterrows():\n",
    "            intervals = tree[row.phe_from:row.phe_to]\n",
    "            gene_ids = set()  # Store gene_ids to prevent duplicates\n",
    "            for interval in intervals:  # Iterate through all overlapping intervals\n",
    "                if interval.data not in gene_ids:\n",
    "                    new_row = row.to_dict()\n",
    "                    new_row[\"gene_id\"] = interval.data\n",
    "                    rows_list.append(new_row)\n",
    "                    gene_ids.add(interval.data)  # Add gene_id to the set\n",
    "        df_peaks_chr = pd.DataFrame(rows_list)\n",
    "        \n",
    "        df_result = pd.concat([df_result, df_peaks_chr[['phe_id', 'gene_id']]])\n",
    "\n",
    "    # Now we can merge this back to the original peaks DataFrame\n",
    "    result = pd.merge(target_ins, df_result, how='left', on=['phe_id'])\n",
    "    return result[result[\"gene_id\"].notnull()]"
   ]
  },
  {
   "cell_type": "code",
   "execution_count": 12,
   "metadata": {},
   "outputs": [],
   "source": [
    "def get_values_RNA_ins_promoter(ref,target):\n",
    "    # in this case I want the QTL with the insulation score that overlaps the TSS of the gene. The problem of course is that there are multiple TSS per gene.\n",
    "    annotated_target = annotated_ins(target)\n",
    "\n",
    "    # now for each gene that has eQTL, I want to know what directionality the SNP has for the peak that overlaps a TSS\n",
    "    A_B_merged = ref[(ref[\"FDR\"] < 0.1)][[\"phe_id\",\"var_id\",\"nom_pval\",\"slope\"]].merge(annotated_target[[\"phe_id\",\"var_id\",\"nom_pval\",\"slope\",\"gene_id\"]], suffixes = (\"_A\", \"_B\"), left_on = [\"var_id\", \"phe_id\"], right_on = [\"var_id\", \"gene_id\"], how = \"left\")\n",
    "    print(len(A_B_merged[A_B_merged[\"nom_pval_A\"] < 0.01])/ len(ref[(ref[\"FDR\"] < 0.1)]))\n",
    "    print(len(A_B_merged[A_B_merged[\"nom_pval_B\"] < 0.01])/ len(ref[(ref[\"FDR\"] < 0.1)]))\n",
    "    # fig = px.scatter(A_B_merged, x = \"slope_A\", y = \"slope_B\", opacity = 0.2)\n",
    "    # fig.show()\n",
    "    df = A_B_merged[A_B_merged[\"nom_pval_B\"] < 0.0001]\n",
    "    # Create concordant mask (both positive or both negative)\n",
    "    concordant_mask = np.sign(df['slope_A']) == np.sign(df['slope_B'])\n",
    "\n",
    "    # Create discordant mask (one positive, one negative)\n",
    "    discordant_mask = np.sign(df['slope_A']) != np.sign(df['slope_B'])\n",
    "\n",
    "    # Count concordant and discordant rows\n",
    "    num_concordant = concordant_mask.sum()\n",
    "    num_discordant = discordant_mask.sum()\n",
    "\n",
    "    print(f\"Number of concordant rows: {num_concordant}\")\n",
    "    print(f\"Number of discordant rows: {num_discordant}\")\n",
    "    print(f\"ratio: {num_concordant/(num_discordant + num_concordant)}\")"
   ]
  },
  {
   "cell_type": "code",
   "execution_count": 13,
   "metadata": {},
   "outputs": [
    {
     "name": "stdout",
     "output_type": "stream",
     "text": [
      "1.0957116221255438\n",
      "0.40087010565568676\n",
      "Number of concordant rows: 265\n",
      "Number of discordant rows: 33\n",
      "ratio: 0.889261744966443\n"
     ]
    }
   ],
   "source": [
    "get_values_RNA_ins_promoter(RNA_permuted_CD8, ins_nominal_CD8)"
   ]
  },
  {
   "cell_type": "code",
   "execution_count": 14,
   "metadata": {},
   "outputs": [
    {
     "name": "stdout",
     "output_type": "stream",
     "text": [
      "1.1192118226600984\n",
      "0.44532019704433495\n",
      "Number of concordant rows: 222\n",
      "Number of discordant rows: 16\n",
      "ratio: 0.9327731092436975\n"
     ]
    }
   ],
   "source": [
    "get_values_RNA_ins_promoter(RNA_permuted_CD4, ins_nominal_CD4)"
   ]
  },
  {
   "cell_type": "code",
   "execution_count": 15,
   "metadata": {},
   "outputs": [
    {
     "name": "stdout",
     "output_type": "stream",
     "text": [
      "1.4058421379738968\n",
      "0.7675574891236793\n",
      "Number of concordant rows: 144\n",
      "Number of discordant rows: 67\n",
      "ratio: 0.6824644549763034\n"
     ]
    }
   ],
   "source": [
    "get_values_RNA_ins_promoter(RNA_permuted_CD8, loop_nominal_CD8)"
   ]
  },
  {
   "cell_type": "code",
   "execution_count": 16,
   "metadata": {},
   "outputs": [
    {
     "name": "stdout",
     "output_type": "stream",
     "text": [
      "1.4561576354679804\n",
      "0.8453201970443349\n",
      "Number of concordant rows: 127\n",
      "Number of discordant rows: 45\n",
      "ratio: 0.7383720930232558\n"
     ]
    }
   ],
   "source": [
    "get_values_RNA_ins_promoter(RNA_permuted_CD4, loop_nominal_CD4)"
   ]
  },
  {
   "cell_type": "markdown",
   "metadata": {},
   "source": [
    "## modified version so that it only considers the promoters overlapping the loop anchors"
   ]
  },
  {
   "cell_type": "code",
   "execution_count": 17,
   "metadata": {},
   "outputs": [],
   "source": [
    "from intervaltree import Interval, IntervalTree\n",
    "def annotated_loop_anchors(target_loop):\n",
    "    # Create a DataFrame for unique peaks\n",
    "    df_unique_loops = target_loop[['phe_id', 'phe_chr', 'phe_from', 'phe_to']].drop_duplicates()\n",
    "\n",
    "    # Initialize an empty DataFrame to store the results\n",
    "    df_result = pd.DataFrame()\n",
    "\n",
    "    # Process each chromosome separately\n",
    "    for chromosome in df_unique_loops['phe_chr'].unique():\n",
    "        # Subset data for the current chromosome\n",
    "        df_loops_chr = df_unique_loops[df_unique_loops['phe_chr'] == chromosome].copy()\n",
    "        gtf_transcripts_chr = gtf_transcripts[gtf_transcripts['seqname'] == chromosome].copy()\n",
    "        gtf_transcripts_chr.drop_duplicates(subset=['TSS_start', 'gene_id'], inplace=True)\n",
    "\n",
    "        # Build interval tree for the current chromosome\n",
    "        tree = IntervalTree()\n",
    "        for row in gtf_transcripts_chr.itertuples():\n",
    "            tree.add(Interval(row.TSS_start - 2500, row.TSS_start + 2500, row.gene_id))\n",
    "\n",
    "        # Annotate peaks with gene_id\n",
    "        rows_list = []\n",
    "        for i, row in df_loops_chr.iterrows():\n",
    "            intervals_A = tree[row.phe_from:row.phe_from + 5000]\n",
    "            intervals_B = tree[row.phe_to - 5000:row.phe_to]\n",
    "            gene_ids = set()  # Store gene_ids to prevent duplicates\n",
    "            for interval in intervals_A:  # Iterate through all overlapping intervals of anchor A\n",
    "                if interval.data not in gene_ids:\n",
    "                    new_row = row.to_dict()\n",
    "                    new_row[\"gene_id\"] = interval.data\n",
    "                    rows_list.append(new_row)\n",
    "                    gene_ids.add(interval.data)  # Add gene_id to the set\n",
    "            for interval in intervals_B:  # Iterate through all overlapping intervals of anchor B\n",
    "                if interval.data not in gene_ids:\n",
    "                    new_row = row.to_dict()\n",
    "                    new_row[\"gene_id\"] = interval.data\n",
    "                    rows_list.append(new_row)\n",
    "                    gene_ids.add(interval.data)  # Add gene_id to the set\n",
    "        df_loops_chr = pd.DataFrame(rows_list)\n",
    "        \n",
    "        df_result = pd.concat([df_result, df_loops_chr[['phe_id', 'gene_id']]])\n",
    "\n",
    "    # Now we can merge this back to the original peaks DataFrame\n",
    "    result = pd.merge(target_loop, df_result, how='left', on=['phe_id'])\n",
    "    return result[result[\"gene_id\"].notnull()]"
   ]
  },
  {
   "cell_type": "code",
   "execution_count": 18,
   "metadata": {},
   "outputs": [],
   "source": [
    "def get_values_RNA_loop_anchors_promoter(ref,target):\n",
    "    # in this case I want the eQTL with the loop anchors\n",
    "    annotated_target = annotated_loop_anchors(target)\n",
    "\n",
    "    # now for each gene that has eQTL, I want to know what directionality the SNP has for the peak that overlaps a TSS\n",
    "    A_B_merged = ref[(ref[\"FDR\"] < 0.1)][[\"phe_id\",\"var_id\",\"nom_pval\",\"slope\"]].merge(annotated_target[[\"phe_id\",\"var_id\",\"nom_pval\",\"slope\",\"gene_id\"]], suffixes = (\"_A\", \"_B\"), left_on = [\"var_id\", \"phe_id\"], right_on = [\"var_id\", \"gene_id\"], how = \"left\")\n",
    "    print(len(A_B_merged[A_B_merged[\"nom_pval_A\"] < 0.01])/ len(ref[(ref[\"FDR\"] < 0.1)]))\n",
    "    print(len(A_B_merged[A_B_merged[\"nom_pval_B\"] < 0.01])/ len(ref[(ref[\"FDR\"] < 0.1)]))\n",
    "    # fig = px.scatter(A_B_merged, x = \"slope_A\", y = \"slope_B\", opacity = 0.2)\n",
    "    # fig.show()\n",
    "    df = A_B_merged[A_B_merged[\"nom_pval_B\"] < 0.0001]\n",
    "    # Create concordant mask (both positive or both negative)\n",
    "    concordant_mask = np.sign(df['slope_A']) == np.sign(df['slope_B'])\n",
    "\n",
    "    # Create discordant mask (one positive, one negative)\n",
    "    discordant_mask = np.sign(df['slope_A']) != np.sign(df['slope_B'])\n",
    "\n",
    "    # Count concordant and discordant rows\n",
    "    num_concordant = concordant_mask.sum()\n",
    "    num_discordant = discordant_mask.sum()\n",
    "\n",
    "    print(f\"Number of concordant rows: {num_concordant}\")\n",
    "    print(f\"Number of discordant rows: {num_discordant}\")\n",
    "    print(f\"ratio: {num_concordant/(num_discordant + num_concordant)}\")"
   ]
  },
  {
   "cell_type": "code",
   "execution_count": 19,
   "metadata": {},
   "outputs": [
    {
     "name": "stdout",
     "output_type": "stream",
     "text": [
      "1.0863890615289\n",
      "0.23430702299564948\n",
      "Number of concordant rows: 68\n",
      "Number of discordant rows: 14\n",
      "ratio: 0.8292682926829268\n"
     ]
    }
   ],
   "source": [
    "get_values_RNA_loop_anchors_promoter(RNA_permuted_CD8, loop_nominal_CD8)\n"
   ]
  },
  {
   "cell_type": "code",
   "execution_count": 20,
   "metadata": {},
   "outputs": [
    {
     "name": "stdout",
     "output_type": "stream",
     "text": [
      "1.1014778325123153\n",
      "0.270935960591133\n",
      "Number of concordant rows: 52\n",
      "Number of discordant rows: 7\n",
      "ratio: 0.8813559322033898\n"
     ]
    }
   ],
   "source": [
    "get_values_RNA_loop_anchors_promoter(RNA_permuted_CD4, loop_nominal_CD4)"
   ]
  },
  {
   "cell_type": "markdown",
   "metadata": {},
   "source": [
    "## and finally, do the above but with ATAC peaks rather than genes"
   ]
  },
  {
   "cell_type": "code",
   "execution_count": 21,
   "metadata": {},
   "outputs": [],
   "source": [
    "from intervaltree import Interval, IntervalTree\n",
    "def annotated_loop_ATAC(target_loop,ref_ATAC):\n",
    "    # Create a DataFrame for unique peaks\n",
    "    df_unique_loops = target_loop[['phe_id', 'phe_chr', 'phe_from', 'phe_to']].drop_duplicates()\n",
    "\n",
    "    # Initialize an empty DataFrame to store the results\n",
    "    df_result = pd.DataFrame()\n",
    "\n",
    "    # Process each chromosome separately\n",
    "    for chromosome in df_unique_loops['phe_chr'].unique():\n",
    "        # Subset data for the current chromosome\n",
    "        df_loops_chr = df_unique_loops[df_unique_loops['phe_chr'] == chromosome].copy()\n",
    "        ref_ATAC_chr = ref_ATAC[ref_ATAC['phe_chr'] == chromosome].copy()\n",
    "        ref_ATAC_chr.drop_duplicates(subset=['phe_id'], inplace=True)\n",
    "\n",
    "        # Build interval tree for the current chromosome\n",
    "        tree = IntervalTree()\n",
    "        for row in ref_ATAC_chr.itertuples():\n",
    "            tree.add(Interval(row.phe_from - 5000, row.phe_to + 5000, row.phe_id))\n",
    "\n",
    "        # Annotate loops with peak ids\n",
    "        rows_list = []\n",
    "        for i, row in df_loops_chr.iterrows():\n",
    "            intervals = tree[row.phe_from:row.phe_to]\n",
    "            peak_ids = set()  # Store gene_ids to prevent duplicates\n",
    "            for interval in intervals:  # Iterate through all overlapping intervals\n",
    "                if interval.data not in peak_ids:\n",
    "                    new_row = row.to_dict()\n",
    "                    new_row[\"peak_ids\"] = interval.data\n",
    "                    rows_list.append(new_row)\n",
    "                    peak_ids.add(interval.data)  # Add gene_id to the set\n",
    "        df_loops_chr = pd.DataFrame(rows_list)\n",
    "        if len(df_loops_chr) > 1:\n",
    "            df_result = pd.concat([df_result, df_loops_chr[['phe_id', 'peak_ids']]])\n",
    "\n",
    "    # Now we can merge this back to the original peaks DataFrame\n",
    "    result = pd.merge(target_loop, df_result, how='left', on=['phe_id'])\n",
    "    return result[result[\"peak_ids\"].notnull()]"
   ]
  },
  {
   "cell_type": "code",
   "execution_count": 22,
   "metadata": {},
   "outputs": [],
   "source": [
    "def get_values_ATAC_loop(ref,target):\n",
    "    annotated_target = annotated_loop_ATAC(target,ref[(ref[\"adj_beta_pval\"] < 0.1)])\n",
    "\n",
    "    # now for each gene that has eQTL, I want to know what directionality the SNP has for the peak that overlaps a TSS\n",
    "    A_B_merged = ref[(ref[\"FDR\"] < 0.1)][[\"phe_id\",\"var_id\",\"nom_pval\",\"slope\"]].merge(annotated_target[[\"phe_id\",\"var_id\",\"nom_pval\",\"slope\",\"peak_ids\"]], suffixes = (\"_A\", \"_B\"), left_on = [\"var_id\", \"phe_id\"], right_on = [\"var_id\", \"peak_ids\"], how = \"left\")\n",
    "    print(len(A_B_merged[A_B_merged[\"nom_pval_A\"] < 0.01])/ len(ref[(ref[\"FDR\"] < 0.1)]))\n",
    "    print(len(A_B_merged[A_B_merged[\"nom_pval_B\"] < 0.01])/ len(ref[(ref[\"FDR\"] < 0.1)]))\n",
    "    # fig = px.scatter(A_B_merged, x = \"slope_A\", y = \"slope_B\", opacity = 0.2)\n",
    "    # fig.show()\n",
    "    df = A_B_merged[A_B_merged[\"nom_pval_B\"] < 0.0001]\n",
    "    # Create concordant mask (both positive or both negative)\n",
    "    concordant_mask = np.sign(df['slope_A']) == np.sign(df['slope_B'])\n",
    "\n",
    "    # Create discordant mask (one positive, one negative)\n",
    "    discordant_mask = np.sign(df['slope_A']) != np.sign(df['slope_B'])\n",
    "\n",
    "    # Count concordant and discordant rows\n",
    "    num_concordant = concordant_mask.sum()\n",
    "    num_discordant = discordant_mask.sum()\n",
    "\n",
    "    print(f\"Number of concordant rows: {num_concordant}\")\n",
    "    print(f\"Number of discordant rows: {num_discordant}\")\n",
    "    print(f\"ratio: {num_concordant/(num_discordant + num_concordant)}\")"
   ]
  },
  {
   "cell_type": "code",
   "execution_count": 23,
   "metadata": {},
   "outputs": [
    {
     "name": "stdout",
     "output_type": "stream",
     "text": [
      "1.5587075435695203\n",
      "0.9694695331382776\n",
      "Number of concordant rows: 1438\n",
      "Number of discordant rows: 404\n",
      "ratio: 0.7806731813246471\n"
     ]
    }
   ],
   "source": [
    "get_values_ATAC_loop(ATAC_permuted_CD8, loop_nominal_CD8)"
   ]
  },
  {
   "cell_type": "code",
   "execution_count": 24,
   "metadata": {},
   "outputs": [
    {
     "name": "stdout",
     "output_type": "stream",
     "text": [
      "1.5830318974021704\n",
      "1.0108516935218679\n",
      "Number of concordant rows: 1170\n",
      "Number of discordant rows: 306\n",
      "ratio: 0.7926829268292683\n"
     ]
    }
   ],
   "source": [
    "get_values_ATAC_loop(ATAC_permuted_CD4, loop_nominal_CD4)"
   ]
  },
  {
   "cell_type": "code",
   "execution_count": 25,
   "metadata": {},
   "outputs": [
    {
     "name": "stdout",
     "output_type": "stream",
     "text": [
      "1.1052029003943518\n",
      "0.465335199084086\n",
      "Number of concordant rows: 1813\n",
      "Number of discordant rows: 118\n",
      "ratio: 0.9388917659243915\n"
     ]
    }
   ],
   "source": [
    "get_values_ATAC_loop(ATAC_permuted_CD8, ins_nominal_CD8)"
   ]
  },
  {
   "cell_type": "code",
   "execution_count": 26,
   "metadata": {},
   "outputs": [
    {
     "name": "stdout",
     "output_type": "stream",
     "text": [
      "1.113942781979612\n",
      "0.495396251233147\n",
      "Number of concordant rows: 1476\n",
      "Number of discordant rows: 98\n",
      "ratio: 0.9377382465057179\n"
     ]
    }
   ],
   "source": [
    "get_values_ATAC_loop(ATAC_permuted_CD4, ins_nominal_CD4)"
   ]
  },
  {
   "cell_type": "code",
   "execution_count": 27,
   "metadata": {},
   "outputs": [],
   "source": [
    "from intervaltree import Interval, IntervalTree\n",
    "def annotated_loop_anchors_ATAC(target_loop,ref_ATAC):\n",
    "    # Create a DataFrame for unique peaks\n",
    "    df_unique_loops = target_loop[['phe_id', 'phe_chr', 'phe_from', 'phe_to']].drop_duplicates()\n",
    "\n",
    "    # Initialize an empty DataFrame to store the results\n",
    "    df_result = pd.DataFrame()\n",
    "\n",
    "    # Process each chromosome separately\n",
    "    for chromosome in df_unique_loops['phe_chr'].unique():\n",
    "        # Subset data for the current chromosome\n",
    "        df_loops_chr = df_unique_loops[df_unique_loops['phe_chr'] == chromosome].copy()\n",
    "        ref_ATAC_chr = ref_ATAC[ref_ATAC['phe_chr'] == chromosome].copy()\n",
    "        ref_ATAC_chr.drop_duplicates(subset=['phe_id'], inplace=True)\n",
    "\n",
    "        # Build interval tree for the current chromosome\n",
    "        tree = IntervalTree()\n",
    "        for row in ref_ATAC_chr.itertuples():\n",
    "            tree.add(Interval(row.phe_from - 5000, row.phe_to + 5000, row.phe_id))\n",
    "\n",
    "        # Annotate loops with peak ids\n",
    "        rows_list = []\n",
    "        for i, row in df_loops_chr.iterrows():\n",
    "            intervals_A = tree[row.phe_from:row.phe_from + 5000]\n",
    "            intervals_B = tree[row.phe_to - 5000:row.phe_to]\n",
    "            peak_ids = set()  # Store peak_ids to prevent duplicates\n",
    "            for interval in intervals_A:  # Iterate through all overlapping intervals of anchor A\n",
    "                if interval.data not in peak_ids:\n",
    "                    new_row = row.to_dict()\n",
    "                    new_row[\"peak_ids\"] = interval.data\n",
    "                    rows_list.append(new_row)\n",
    "                    peak_ids.add(interval.data)  # Add peak_ids to the set\n",
    "            for interval in intervals_B:  # Iterate through all overlapping intervals of anchor B\n",
    "                if interval.data not in peak_ids:\n",
    "                    new_row = row.to_dict()\n",
    "                    new_row[\"peak_ids\"] = interval.data\n",
    "                    rows_list.append(new_row)\n",
    "                    peak_ids.add(interval.data)  # Add peak_ids to the set\n",
    "        df_loops_chr = pd.DataFrame(rows_list)\n",
    "        if len(df_loops_chr) > 1:\n",
    "            df_result = pd.concat([df_result, df_loops_chr[['phe_id', 'peak_ids']]])\n",
    "\n",
    "    # Now we can merge this back to the original peaks DataFrame\n",
    "    result = pd.merge(target_loop, df_result, how='left', on=['phe_id'])\n",
    "    return result[result[\"peak_ids\"].notnull()]"
   ]
  },
  {
   "cell_type": "code",
   "execution_count": 28,
   "metadata": {},
   "outputs": [],
   "source": [
    "def get_values_ATAC_loop_anchors(ref,target):\n",
    "    annotated_target = annotated_loop_anchors_ATAC(target,ref[(ref[\"adj_beta_pval\"] < 0.1)])\n",
    "\n",
    "    # now for each gene that has eQTL, I want to know what directionality the SNP has for the peak that overlaps a TSS\n",
    "    A_B_merged = ref[(ref[\"FDR\"] < 0.1)][[\"phe_id\",\"var_id\",\"nom_pval\",\"slope\"]].merge(annotated_target[[\"phe_id\",\"var_id\",\"nom_pval\",\"slope\",\"peak_ids\"]], suffixes = (\"_A\", \"_B\"), left_on = [\"var_id\", \"phe_id\"], right_on = [\"var_id\", \"peak_ids\"], how = \"left\")\n",
    "    print(len(A_B_merged[A_B_merged[\"nom_pval_A\"] < 0.01])/ len(ref[(ref[\"FDR\"] < 0.1)]))\n",
    "    print(len(A_B_merged[A_B_merged[\"nom_pval_B\"] < 0.01])/ len(ref[(ref[\"FDR\"] < 0.1)]))\n",
    "    # fig = px.scatter(A_B_merged, x = \"slope_A\", y = \"slope_B\", opacity = 0.2)\n",
    "    # fig.show()\n",
    "    df = A_B_merged[A_B_merged[\"nom_pval_B\"] < 0.0001]\n",
    "    # Create concordant mask (both positive or both negative)\n",
    "    concordant_mask = np.sign(df['slope_A']) == np.sign(df['slope_B'])\n",
    "\n",
    "    # Create discordant mask (one positive, one negative)\n",
    "    discordant_mask = np.sign(df['slope_A']) != np.sign(df['slope_B'])\n",
    "\n",
    "    # Count concordant and discordant rows\n",
    "    num_concordant = concordant_mask.sum()\n",
    "    num_discordant = discordant_mask.sum()\n",
    "\n",
    "    print(f\"Number of concordant rows: {num_concordant}\")\n",
    "    print(f\"Number of discordant rows: {num_discordant}\")\n",
    "    print(f\"ratio: {num_concordant/(num_discordant + num_concordant)}\")"
   ]
  },
  {
   "cell_type": "code",
   "execution_count": 29,
   "metadata": {},
   "outputs": [
    {
     "name": "stdout",
     "output_type": "stream",
     "text": [
      "1.1289912224907772\n",
      "0.28088029512784635\n",
      "Number of concordant rows: 686\n",
      "Number of discordant rows: 64\n",
      "ratio: 0.9146666666666666\n"
     ]
    }
   ],
   "source": [
    "get_values_ATAC_loop_anchors(ATAC_permuted_CD8, loop_nominal_CD8)"
   ]
  },
  {
   "cell_type": "code",
   "execution_count": 30,
   "metadata": {},
   "outputs": [
    {
     "name": "stdout",
     "output_type": "stream",
     "text": [
      "1.134988490628083\n",
      "0.3003946070371588\n",
      "Number of concordant rows: 596\n",
      "Number of discordant rows: 56\n",
      "ratio: 0.9141104294478528\n"
     ]
    }
   ],
   "source": [
    "get_values_ATAC_loop_anchors(ATAC_permuted_CD4, loop_nominal_CD4)"
   ]
  },
  {
   "cell_type": "code",
   "execution_count": 31,
   "metadata": {},
   "outputs": [],
   "source": [
    "def get_values_SAME(ref,target):\n",
    "    A_B_merged = ref[(ref[\"FDR\"] < 0.1)][[\"phe_id\",\"var_id\",\"nom_pval\",\"slope\"]].merge(target[[\"phe_id\",\"var_id\",\"nom_pval\",\"slope\"]], suffixes = (\"_A\", \"_B\"), on = [\"var_id\", \"phe_id\"], how = \"left\")\n",
    "    print(len(A_B_merged[A_B_merged[\"nom_pval_A\"] < 0.01])/ len(ref[(ref[\"FDR\"] < 0.1)]))\n",
    "    print(len(A_B_merged[A_B_merged[\"nom_pval_B\"] < 0.01])/ len(ref[(ref[\"FDR\"] < 0.1)]))\n",
    "    # fig = px.scatter(A_B_merged, x = \"slope_A\", y = \"slope_B\", opacity = 0.2)\n",
    "    # fig.show()\n",
    "    df = A_B_merged[A_B_merged[\"nom_pval_B\"] < 0.0001]\n",
    "    # Create concordant mask (both positive or both negative)\n",
    "    concordant_mask = np.sign(df['slope_A']) == np.sign(df['slope_B'])\n",
    "\n",
    "    # Create discordant mask (one positive, one negative)\n",
    "    discordant_mask = np.sign(df['slope_A']) != np.sign(df['slope_B'])\n",
    "\n",
    "    # Count concordant and discordant rows\n",
    "    num_concordant = concordant_mask.sum()\n",
    "    num_discordant = discordant_mask.sum()\n",
    "\n",
    "    print(f\"Number of concordant rows: {num_concordant}\")\n",
    "    print(f\"Number of discordant rows: {num_discordant}\")\n",
    "    print(f\"ratio: {num_concordant/(num_discordant + num_concordant)}\")"
   ]
  },
  {
   "cell_type": "code",
   "execution_count": 32,
   "metadata": {},
   "outputs": [
    {
     "name": "stdout",
     "output_type": "stream",
     "text": [
      "1.0\n",
      "0.7638284648850218\n",
      "Number of concordant rows: 773\n",
      "Number of discordant rows: 0\n",
      "ratio: 1.0\n"
     ]
    }
   ],
   "source": [
    "get_values_SAME(RNA_permuted_CD8,RNA_nominal_CD4)"
   ]
  },
  {
   "cell_type": "code",
   "execution_count": 33,
   "metadata": {},
   "outputs": [
    {
     "name": "stdout",
     "output_type": "stream",
     "text": [
      "1.0\n",
      "0.8354679802955665\n",
      "Number of concordant rows: 677\n",
      "Number of discordant rows: 0\n",
      "ratio: 1.0\n"
     ]
    }
   ],
   "source": [
    "get_values_SAME(RNA_permuted_CD4,RNA_nominal_CD8)"
   ]
  },
  {
   "cell_type": "code",
   "execution_count": 34,
   "metadata": {},
   "outputs": [
    {
     "name": "stdout",
     "output_type": "stream",
     "text": [
      "1.0\n",
      "0.7832336852817707\n",
      "Number of concordant rows: 4601\n",
      "Number of discordant rows: 0\n",
      "ratio: 1.0\n"
     ]
    }
   ],
   "source": [
    "get_values_SAME(ATAC_permuted_CD8,ATAC_nominal_CD4)"
   ]
  },
  {
   "cell_type": "code",
   "execution_count": 35,
   "metadata": {},
   "outputs": [
    {
     "name": "stdout",
     "output_type": "stream",
     "text": [
      "1.0\n",
      "0.8452811575139757\n",
      "Number of concordant rows: 4291\n",
      "Number of discordant rows: 0\n",
      "ratio: 1.0\n"
     ]
    }
   ],
   "source": [
    "get_values_SAME(ATAC_permuted_CD4,ATAC_nominal_CD8)"
   ]
  },
  {
   "cell_type": "code",
   "execution_count": 36,
   "metadata": {},
   "outputs": [
    {
     "name": "stdout",
     "output_type": "stream",
     "text": [
      "1.0\n",
      "0.7264606470304201\n",
      "Number of concordant rows: 3761\n",
      "Number of discordant rows: 0\n",
      "ratio: 1.0\n"
     ]
    }
   ],
   "source": [
    "get_values_SAME(ins_permuted_CD8,ins_nominal_CD4)"
   ]
  },
  {
   "cell_type": "code",
   "execution_count": 37,
   "metadata": {},
   "outputs": [
    {
     "name": "stdout",
     "output_type": "stream",
     "text": [
      "1.0\n",
      "0.7525069637883008\n",
      "Number of concordant rows: 3689\n",
      "Number of discordant rows: 0\n",
      "ratio: 1.0\n"
     ]
    }
   ],
   "source": [
    "get_values_SAME(ins_permuted_CD4,ins_nominal_CD8)"
   ]
  },
  {
   "cell_type": "code",
   "execution_count": 38,
   "metadata": {},
   "outputs": [
    {
     "name": "stdout",
     "output_type": "stream",
     "text": [
      "1.0\n",
      "0.8582677165354331\n",
      "Number of concordant rows: 514\n",
      "Number of discordant rows: 0\n",
      "ratio: 1.0\n"
     ]
    }
   ],
   "source": [
    "get_values_SAME(loop_permuted_CD8,loop_nominal_CD4)"
   ]
  },
  {
   "cell_type": "code",
   "execution_count": 39,
   "metadata": {},
   "outputs": [
    {
     "name": "stdout",
     "output_type": "stream",
     "text": [
      "1.0\n",
      "0.9050086355785838\n",
      "Number of concordant rows: 460\n",
      "Number of discordant rows: 0\n",
      "ratio: 1.0\n"
     ]
    }
   ],
   "source": [
    "get_values_SAME(loop_permuted_CD4,loop_nominal_CD8)"
   ]
  },
  {
   "cell_type": "code",
   "execution_count": null,
   "metadata": {},
   "outputs": [],
   "source": []
  },
  {
   "cell_type": "code",
   "execution_count": null,
   "metadata": {},
   "outputs": [],
   "source": []
  },
  {
   "cell_type": "code",
   "execution_count": null,
   "metadata": {},
   "outputs": [],
   "source": []
  },
  {
   "cell_type": "code",
   "execution_count": null,
   "metadata": {},
   "outputs": [],
   "source": []
  }
 ],
 "metadata": {
  "kernelspec": {
   "display_name": "basic",
   "language": "python",
   "name": "python3"
  },
  "language_info": {
   "codemirror_mode": {
    "name": "ipython",
    "version": 3
   },
   "file_extension": ".py",
   "mimetype": "text/x-python",
   "name": "python",
   "nbconvert_exporter": "python",
   "pygments_lexer": "ipython3",
   "version": "3.1.-1"
  }
 },
 "nbformat": 4,
 "nbformat_minor": 2
}
