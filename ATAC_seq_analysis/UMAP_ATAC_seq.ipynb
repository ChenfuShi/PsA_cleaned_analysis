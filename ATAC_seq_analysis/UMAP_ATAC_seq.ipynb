{
 "cells": [
  {
   "attachments": {},
   "cell_type": "markdown",
   "metadata": {},
   "source": [
    "# UMAP plot of the ATAC-seq data"
   ]
  },
  {
   "cell_type": "code",
   "execution_count": 1,
   "metadata": {},
   "outputs": [
    {
     "name": "stdout",
     "output_type": "stream",
     "text": [
      "INFO: Pandarallel will run on 16 workers.\n",
      "INFO: Pandarallel will use Memory file system to transfer data between the main process and workers.\n"
     ]
    }
   ],
   "source": [
    "import pandas as pd\n",
    "import numpy as np\n",
    "import hicstraw \n",
    "from multiprocessing import Pool\n",
    "from functools import partial\n",
    "import glob\n",
    "import os\n",
    "import plotly.express as px\n",
    "import math\n",
    "import matplotlib.pyplot as plt\n",
    "from matplotlib import colors\n",
    "from pandarallel import pandarallel\n",
    "import cooler\n",
    "import cooltools\n",
    "import pybedtools as pbed\n",
    "pandarallel.initialize()\n",
    "from scipy import stats, special\n",
    "from statsmodels.stats import multitest\n",
    "import statsmodels.api as sm\n",
    "import statsmodels.formula.api as smf\n",
    "import plotly.io as pio\n",
    "import seaborn as sns\n",
    "os.makedirs(\"/mnt/iusers01/jw01/mdefscs4/scratch/temp_pybedtools/\", exist_ok = True)\n",
    "pbed.helpers.set_tempdir(\"/mnt/iusers01/jw01/mdefscs4/scratch/temp_pybedtools/\")\n",
    "bed_genome_file = \"/mnt/iusers01/jw01/mdefscs4/hg38.genome\"\n",
    "\n",
    "plt.rcParams['svg.fonttype'] = 'none'\n",
    "\n",
    "base_dir = \"/mnt/jw01-aruk-home01/projects/psa_functional_genomics/PsA_cleaned_analysis\""
   ]
  },
  {
   "cell_type": "code",
   "execution_count": 2,
   "metadata": {},
   "outputs": [],
   "source": [
    "ATAC_normalised_counts = pd.read_csv(f\"{base_dir}/ATAC_seq_analysis/ATAC_DESeq2_quantile_normalized_counts.csv\", index_col = 0)\n",
    "metadata_ATAC = pd.read_csv(f\"{base_dir}/metadata/cleaned_ATAC_metadata.csv\", index_col=0)"
   ]
  },
  {
   "cell_type": "code",
   "execution_count": 4,
   "metadata": {},
   "outputs": [],
   "source": [
    "counts_table = ATAC_normalised_counts.iloc[:,3:].copy()\n",
    "counts_table.index = ATAC_normalised_counts[\"CHR\"] + \":\" + ATAC_normalised_counts[\"START\"].astype(str) + \"-\" + ATAC_normalised_counts[\"END\"].astype(str)"
   ]
  },
  {
   "cell_type": "markdown",
   "metadata": {},
   "source": [
    "## make some plots for specific genes to assess sample mixups"
   ]
  },
  {
   "cell_type": "code",
   "execution_count": 9,
   "metadata": {},
   "outputs": [
    {
     "data": {
      "application/vnd.plotly.v1+json": {
       "config": {
        "plotlyServerURL": "https://plot.ly"
       },
       "data": [
        {
         "alignmentgroup": "True",
         "boxpoints": "all",
         "fillcolor": "rgba(255,255,255,0)",
         "hoveron": "points",
         "hovertemplate": "<b>%{hovertext}</b><br><br>condition=healthy<br>Cell Type=%{x}<br>Accessibility Level=%{y}<extra></extra>",
         "hovertext": [
          "NRHV151CD4",
          "NRHV151CD8",
          "NRHV321CD4",
          "NRHV321CD8",
          "NRHV238CD4",
          "NRHV238CD8",
          "NRHV326CD8",
          "NRHV171CD4",
          "NRHV171CD8",
          "NRHV324CD4",
          "NRHV086CD4",
          "NRHV086CD8",
          "NRHV121CD4",
          "NRHV121CD8",
          "NRHV322CD4",
          "NRHV322CD8",
          "NRHV324CD8",
          "NRHV073CD4",
          "NRHV073CD8",
          "NRHV079CD4",
          "NRHV079CD8",
          "NRHV168CD4",
          "NRHV290CD4",
          "NRHV295CD4",
          "NRHV295CD8",
          "NRHV332CD8",
          "NRHV168CD8",
          "NRHV290CD8",
          "NRHV326CD4",
          "NRHV332CD4",
          "NRHV014XCD4",
          "NRHV014XCD8",
          "NRHV325CD4",
          "NRHV325CD8"
         ],
         "legendgroup": "healthy",
         "line": {
          "color": "rgba(255,255,255,0)"
         },
         "marker": {
          "color": "#00cc96",
          "line": {
           "color": "DarkSlateGrey",
           "width": 1
          },
          "opacity": 0.8,
          "size": 8
         },
         "name": "healthy",
         "offsetgroup": "healthy",
         "orientation": "v",
         "pointpos": 0,
         "showlegend": true,
         "type": "box",
         "x": [
          "CD4",
          "CD8",
          "CD4",
          "CD8",
          "CD4",
          "CD8",
          "CD8",
          "CD4",
          "CD8",
          "CD4",
          "CD4",
          "CD8",
          "CD4",
          "CD8",
          "CD4",
          "CD8",
          "CD8",
          "CD4",
          "CD8",
          "CD4",
          "CD8",
          "CD4",
          "CD4",
          "CD4",
          "CD8",
          "CD8",
          "CD8",
          "CD8",
          "CD4",
          "CD4",
          "CD4",
          "CD8",
          "CD4",
          "CD8"
         ],
         "x0": " ",
         "xaxis": "x",
         "y": [
          251.60994224618463,
          26.423988500701103,
          256.24115070578074,
          15.11568200344015,
          291.0066386925005,
          18.667900439217103,
          19.8759913269455,
          263.3237406751024,
          14.65765291860492,
          267.23945136442256,
          312.47592569918254,
          12.809361650511116,
          315.36369088434225,
          20.10504172788563,
          332.70097743734016,
          19.488571255286463,
          20.31409679919817,
          266.97638837830203,
          21.27381118087737,
          304.6396194759581,
          19.181939855791025,
          305.9314199463801,
          308.053359338457,
          236.6367523635633,
          16.275507616773883,
          13.07895006673922,
          13.587364772526914,
          19.413240271107423,
          330.34229376516384,
          260.8649622398635,
          320.6302998413485,
          22.53173110431722,
          269.31538271494816,
          15.870002526373476
         ],
         "y0": " ",
         "yaxis": "y"
        },
        {
         "alignmentgroup": "True",
         "boxpoints": "all",
         "fillcolor": "rgba(255,255,255,0)",
         "hoveron": "points",
         "hovertemplate": "<b>%{hovertext}</b><br><br>condition=patient<br>Cell Type=%{x}<br>Accessibility Level=%{y}<extra></extra>",
         "hovertext": [
          "PSA4920CD4",
          "PSA4945CD8",
          "PSA4948CD8",
          "PSA4953CD8",
          "PSA4960CD8",
          "PSA4944CD4",
          "PSA4947CD8",
          "PSA4949CD4",
          "PSA4954CD8",
          "PSA4963CD8",
          "PSA4950CD4",
          "PSA4961CD8",
          "PSA4964CD8",
          "PSA5012CD4",
          "PSA4920CD8",
          "PSA4952CD8",
          "PSA4963CD4",
          "PSA5008CD4",
          "PSA5012CD8",
          "PSA4941CD8",
          "PSA4944CD8",
          "PSA4946CD8",
          "PSA4952CD4",
          "PSA4954CD4",
          "PSA4962CD8",
          "PSA4964CD4",
          "PSA4965CD8",
          "PSA4969CD8",
          "PSA5008CD8",
          "PSA5014CD4",
          "PSA5014CD8",
          "PSA5019CD8",
          "PSA4950CD8",
          "PSA4958CD4",
          "PSA4958CD8",
          "PSA5009CD4",
          "PSA5010CD4",
          "PSA5010CD8",
          "PSA5018CD4",
          "PSA5018CD8",
          "PSA5023CD8",
          "PSA5026CD4",
          "PSA5026CD8",
          "PSA4956CD4",
          "PSA4956CD8",
          "PSA4968CD8",
          "PSA5007CD8",
          "PSA5009CD8",
          "PSA5013CD8",
          "PSA5013CD4",
          "PSA5015CD8",
          "PSA5020CD8",
          "PSA5021CD8",
          "PSA5022CD8",
          "PSA5024CD8",
          "PSA5036CD4",
          "PSA5036CD8",
          "PSA4947CD4",
          "PSA4957CD4",
          "PSA4959CD4",
          "PSA5006CD8",
          "PSA5019CD4",
          "PSA5021CD4",
          "PSA5040CD8",
          "PSA4945CD4",
          "PSA4949CD8",
          "PSA4951CD4",
          "PSA4951CD8",
          "PSA4959CD8",
          "PSA5017CD4",
          "PSA5017CD8",
          "PSA5037CD4",
          "PSA5039CD8",
          "PSA4967CD4",
          "PSA4968CD4",
          "PSA5006CD4",
          "PSA5007CD4",
          "PSA4955CD8",
          "PSA4962CD4",
          "PSA4966CD8",
          "PSA5037CD8",
          "PSA5040CD4"
         ],
         "legendgroup": "patient",
         "line": {
          "color": "rgba(255,255,255,0)"
         },
         "marker": {
          "color": "#ab63fa",
          "line": {
           "color": "DarkSlateGrey",
           "width": 1
          },
          "opacity": 0.8,
          "size": 8
         },
         "name": "patient",
         "offsetgroup": "patient",
         "orientation": "v",
         "pointpos": 0,
         "showlegend": true,
         "type": "box",
         "x": [
          "CD4",
          "CD8",
          "CD8",
          "CD8",
          "CD8",
          "CD4",
          "CD8",
          "CD4",
          "CD8",
          "CD8",
          "CD4",
          "CD8",
          "CD8",
          "CD4",
          "CD8",
          "CD8",
          "CD4",
          "CD4",
          "CD8",
          "CD8",
          "CD8",
          "CD8",
          "CD4",
          "CD4",
          "CD8",
          "CD4",
          "CD8",
          "CD8",
          "CD8",
          "CD4",
          "CD8",
          "CD8",
          "CD8",
          "CD4",
          "CD8",
          "CD4",
          "CD4",
          "CD8",
          "CD4",
          "CD8",
          "CD8",
          "CD4",
          "CD8",
          "CD4",
          "CD8",
          "CD8",
          "CD8",
          "CD8",
          "CD8",
          "CD4",
          "CD8",
          "CD8",
          "CD8",
          "CD8",
          "CD8",
          "CD4",
          "CD8",
          "CD4",
          "CD4",
          "CD4",
          "CD8",
          "CD4",
          "CD4",
          "CD8",
          "CD4",
          "CD8",
          "CD4",
          "CD8",
          "CD8",
          "CD4",
          "CD8",
          "CD4",
          "CD8",
          "CD4",
          "CD4",
          "CD4",
          "CD4",
          "CD8",
          "CD4",
          "CD8",
          "CD8",
          "CD4"
         ],
         "x0": " ",
         "xaxis": "x",
         "y": [
          282.85849730667815,
          3.0526263950477794,
          10.723735819662355,
          14.171354094753536,
          22.62205876871212,
          306.37878487473955,
          24.85409025353154,
          271.2075838006864,
          17.2622393895922,
          9.55895568382112,
          315.7118593884944,
          13.55822949587527,
          11.939568288311731,
          287.1743486407826,
          10.69324873903648,
          9.977993747220834,
          283.4828711063188,
          279.2062349390727,
          42.26880140070425,
          16.665915334816585,
          14.720423853765322,
          12.026172747660942,
          229.5104671774968,
          315.39376714577566,
          24.02466274978424,
          281.6070927597869,
          24.33028743084721,
          13.05179079657776,
          23.91313227151675,
          318.94653862709725,
          34.26767813043128,
          19.53105576673571,
          30.09403526782984,
          248.58807039148616,
          12.716853485002927,
          282.0851041249108,
          313.6900647270849,
          24.19627478564607,
          293.2652680869164,
          30.17285938030233,
          11.41610127857606,
          308.1288424150215,
          13.733442488678683,
          326.0417082908735,
          24.08992467640143,
          30.642652293874665,
          7.724563598863393,
          23.723384821019675,
          30.402135827788072,
          326.0592600784093,
          35.43072573153864,
          15.388780792554464,
          13.190244884950024,
          21.129612642651445,
          23.93689712676999,
          316.65487080581664,
          21.61613108077255,
          260.67532963046204,
          290.26300329580664,
          247.912857960984,
          14.118339074562469,
          336.1074443506816,
          330.8052932163765,
          24.972660872756613,
          285.7531348724534,
          1.4901685850066126,
          301.7358428833216,
          12.869846612462496,
          91.17151520785409,
          310.33860525885416,
          9.914439712445422,
          319.4269447014963,
          30.479182668395275,
          229.54356073867407,
          341.53291069007554,
          313.3703983257945,
          291.524215983878,
          17.11034618240589,
          304.8815606590849,
          24.940404368958777,
          27.63460675704322,
          272.651228403516
         ],
         "y0": " ",
         "yaxis": "y"
        },
        {
         "alignmentgroup": "True",
         "boxpoints": "all",
         "fillcolor": "rgba(255,255,255,0)",
         "hoveron": "points",
         "hovertemplate": "<b>%{hovertext}</b><br><br>condition=synovium<br>Cell Type=%{x}<br>Accessibility Level=%{y}<extra></extra>",
         "hovertext": [
          "PSA4969CD8_SF",
          "PSA5040CD8_SF",
          "PSA5025CD8_SF",
          "PSA4917CD4_SF",
          "PSA4917CD8_SF",
          "PSA4918CD8_SF",
          "PSA4951CD4_SF",
          "PSA4958CD8_SF",
          "PSA4942CD8_SF",
          "PSA4958CD4_SF"
         ],
         "legendgroup": "synovium",
         "line": {
          "color": "rgba(255,255,255,0)"
         },
         "marker": {
          "color": "#FFA15A",
          "line": {
           "color": "DarkSlateGrey",
           "width": 1
          },
          "opacity": 0.8,
          "size": 8
         },
         "name": "synovium",
         "offsetgroup": "synovium",
         "orientation": "v",
         "pointpos": 0,
         "showlegend": true,
         "type": "box",
         "x": [
          "CD8",
          "CD8",
          "CD8",
          "CD4",
          "CD8",
          "CD8",
          "CD4",
          "CD8",
          "CD8",
          "CD4"
         ],
         "x0": " ",
         "xaxis": "x",
         "y": [
          32.04068344542374,
          13.44105229693575,
          5.875544556208189,
          297.4908482488958,
          28.39647812618189,
          9.0720188748336,
          279.9319750375337,
          35.27809560008871,
          35.544508517570264,
          267.0395384123341
         ],
         "y0": " ",
         "yaxis": "y"
        }
       ],
       "layout": {
        "boxmode": "group",
        "font": {
         "family": "Arial, sans-serif",
         "size": 16
        },
        "height": 700,
        "legend": {
         "orientation": "h",
         "title": {
          "text": "Condition"
         },
         "tracegroupgap": 0,
         "x": 1,
         "xanchor": "right",
         "y": 1.02,
         "yanchor": "bottom"
        },
        "template": {
         "data": {
          "bar": [
           {
            "error_x": {
             "color": "#2a3f5f"
            },
            "error_y": {
             "color": "#2a3f5f"
            },
            "marker": {
             "line": {
              "color": "#E5ECF6",
              "width": 0.5
             },
             "pattern": {
              "fillmode": "overlay",
              "size": 10,
              "solidity": 0.2
             }
            },
            "type": "bar"
           }
          ],
          "barpolar": [
           {
            "marker": {
             "line": {
              "color": "#E5ECF6",
              "width": 0.5
             },
             "pattern": {
              "fillmode": "overlay",
              "size": 10,
              "solidity": 0.2
             }
            },
            "type": "barpolar"
           }
          ],
          "carpet": [
           {
            "aaxis": {
             "endlinecolor": "#2a3f5f",
             "gridcolor": "white",
             "linecolor": "white",
             "minorgridcolor": "white",
             "startlinecolor": "#2a3f5f"
            },
            "baxis": {
             "endlinecolor": "#2a3f5f",
             "gridcolor": "white",
             "linecolor": "white",
             "minorgridcolor": "white",
             "startlinecolor": "#2a3f5f"
            },
            "type": "carpet"
           }
          ],
          "choropleth": [
           {
            "colorbar": {
             "outlinewidth": 0,
             "ticks": ""
            },
            "type": "choropleth"
           }
          ],
          "contour": [
           {
            "colorbar": {
             "outlinewidth": 0,
             "ticks": ""
            },
            "colorscale": [
             [
              0,
              "#0d0887"
             ],
             [
              0.1111111111111111,
              "#46039f"
             ],
             [
              0.2222222222222222,
              "#7201a8"
             ],
             [
              0.3333333333333333,
              "#9c179e"
             ],
             [
              0.4444444444444444,
              "#bd3786"
             ],
             [
              0.5555555555555556,
              "#d8576b"
             ],
             [
              0.6666666666666666,
              "#ed7953"
             ],
             [
              0.7777777777777778,
              "#fb9f3a"
             ],
             [
              0.8888888888888888,
              "#fdca26"
             ],
             [
              1,
              "#f0f921"
             ]
            ],
            "type": "contour"
           }
          ],
          "contourcarpet": [
           {
            "colorbar": {
             "outlinewidth": 0,
             "ticks": ""
            },
            "type": "contourcarpet"
           }
          ],
          "heatmap": [
           {
            "colorbar": {
             "outlinewidth": 0,
             "ticks": ""
            },
            "colorscale": [
             [
              0,
              "#0d0887"
             ],
             [
              0.1111111111111111,
              "#46039f"
             ],
             [
              0.2222222222222222,
              "#7201a8"
             ],
             [
              0.3333333333333333,
              "#9c179e"
             ],
             [
              0.4444444444444444,
              "#bd3786"
             ],
             [
              0.5555555555555556,
              "#d8576b"
             ],
             [
              0.6666666666666666,
              "#ed7953"
             ],
             [
              0.7777777777777778,
              "#fb9f3a"
             ],
             [
              0.8888888888888888,
              "#fdca26"
             ],
             [
              1,
              "#f0f921"
             ]
            ],
            "type": "heatmap"
           }
          ],
          "heatmapgl": [
           {
            "colorbar": {
             "outlinewidth": 0,
             "ticks": ""
            },
            "colorscale": [
             [
              0,
              "#0d0887"
             ],
             [
              0.1111111111111111,
              "#46039f"
             ],
             [
              0.2222222222222222,
              "#7201a8"
             ],
             [
              0.3333333333333333,
              "#9c179e"
             ],
             [
              0.4444444444444444,
              "#bd3786"
             ],
             [
              0.5555555555555556,
              "#d8576b"
             ],
             [
              0.6666666666666666,
              "#ed7953"
             ],
             [
              0.7777777777777778,
              "#fb9f3a"
             ],
             [
              0.8888888888888888,
              "#fdca26"
             ],
             [
              1,
              "#f0f921"
             ]
            ],
            "type": "heatmapgl"
           }
          ],
          "histogram": [
           {
            "marker": {
             "pattern": {
              "fillmode": "overlay",
              "size": 10,
              "solidity": 0.2
             }
            },
            "type": "histogram"
           }
          ],
          "histogram2d": [
           {
            "colorbar": {
             "outlinewidth": 0,
             "ticks": ""
            },
            "colorscale": [
             [
              0,
              "#0d0887"
             ],
             [
              0.1111111111111111,
              "#46039f"
             ],
             [
              0.2222222222222222,
              "#7201a8"
             ],
             [
              0.3333333333333333,
              "#9c179e"
             ],
             [
              0.4444444444444444,
              "#bd3786"
             ],
             [
              0.5555555555555556,
              "#d8576b"
             ],
             [
              0.6666666666666666,
              "#ed7953"
             ],
             [
              0.7777777777777778,
              "#fb9f3a"
             ],
             [
              0.8888888888888888,
              "#fdca26"
             ],
             [
              1,
              "#f0f921"
             ]
            ],
            "type": "histogram2d"
           }
          ],
          "histogram2dcontour": [
           {
            "colorbar": {
             "outlinewidth": 0,
             "ticks": ""
            },
            "colorscale": [
             [
              0,
              "#0d0887"
             ],
             [
              0.1111111111111111,
              "#46039f"
             ],
             [
              0.2222222222222222,
              "#7201a8"
             ],
             [
              0.3333333333333333,
              "#9c179e"
             ],
             [
              0.4444444444444444,
              "#bd3786"
             ],
             [
              0.5555555555555556,
              "#d8576b"
             ],
             [
              0.6666666666666666,
              "#ed7953"
             ],
             [
              0.7777777777777778,
              "#fb9f3a"
             ],
             [
              0.8888888888888888,
              "#fdca26"
             ],
             [
              1,
              "#f0f921"
             ]
            ],
            "type": "histogram2dcontour"
           }
          ],
          "mesh3d": [
           {
            "colorbar": {
             "outlinewidth": 0,
             "ticks": ""
            },
            "type": "mesh3d"
           }
          ],
          "parcoords": [
           {
            "line": {
             "colorbar": {
              "outlinewidth": 0,
              "ticks": ""
             }
            },
            "type": "parcoords"
           }
          ],
          "pie": [
           {
            "automargin": true,
            "type": "pie"
           }
          ],
          "scatter": [
           {
            "marker": {
             "colorbar": {
              "outlinewidth": 0,
              "ticks": ""
             }
            },
            "type": "scatter"
           }
          ],
          "scatter3d": [
           {
            "line": {
             "colorbar": {
              "outlinewidth": 0,
              "ticks": ""
             }
            },
            "marker": {
             "colorbar": {
              "outlinewidth": 0,
              "ticks": ""
             }
            },
            "type": "scatter3d"
           }
          ],
          "scattercarpet": [
           {
            "marker": {
             "colorbar": {
              "outlinewidth": 0,
              "ticks": ""
             }
            },
            "type": "scattercarpet"
           }
          ],
          "scattergeo": [
           {
            "marker": {
             "colorbar": {
              "outlinewidth": 0,
              "ticks": ""
             }
            },
            "type": "scattergeo"
           }
          ],
          "scattergl": [
           {
            "marker": {
             "colorbar": {
              "outlinewidth": 0,
              "ticks": ""
             }
            },
            "type": "scattergl"
           }
          ],
          "scattermapbox": [
           {
            "marker": {
             "colorbar": {
              "outlinewidth": 0,
              "ticks": ""
             }
            },
            "type": "scattermapbox"
           }
          ],
          "scatterpolar": [
           {
            "marker": {
             "colorbar": {
              "outlinewidth": 0,
              "ticks": ""
             }
            },
            "type": "scatterpolar"
           }
          ],
          "scatterpolargl": [
           {
            "marker": {
             "colorbar": {
              "outlinewidth": 0,
              "ticks": ""
             }
            },
            "type": "scatterpolargl"
           }
          ],
          "scatterternary": [
           {
            "marker": {
             "colorbar": {
              "outlinewidth": 0,
              "ticks": ""
             }
            },
            "type": "scatterternary"
           }
          ],
          "surface": [
           {
            "colorbar": {
             "outlinewidth": 0,
             "ticks": ""
            },
            "colorscale": [
             [
              0,
              "#0d0887"
             ],
             [
              0.1111111111111111,
              "#46039f"
             ],
             [
              0.2222222222222222,
              "#7201a8"
             ],
             [
              0.3333333333333333,
              "#9c179e"
             ],
             [
              0.4444444444444444,
              "#bd3786"
             ],
             [
              0.5555555555555556,
              "#d8576b"
             ],
             [
              0.6666666666666666,
              "#ed7953"
             ],
             [
              0.7777777777777778,
              "#fb9f3a"
             ],
             [
              0.8888888888888888,
              "#fdca26"
             ],
             [
              1,
              "#f0f921"
             ]
            ],
            "type": "surface"
           }
          ],
          "table": [
           {
            "cells": {
             "fill": {
              "color": "#EBF0F8"
             },
             "line": {
              "color": "white"
             }
            },
            "header": {
             "fill": {
              "color": "#C8D4E3"
             },
             "line": {
              "color": "white"
             }
            },
            "type": "table"
           }
          ]
         },
         "layout": {
          "annotationdefaults": {
           "arrowcolor": "#2a3f5f",
           "arrowhead": 0,
           "arrowwidth": 1
          },
          "autotypenumbers": "strict",
          "coloraxis": {
           "colorbar": {
            "outlinewidth": 0,
            "ticks": ""
           }
          },
          "colorscale": {
           "diverging": [
            [
             0,
             "#8e0152"
            ],
            [
             0.1,
             "#c51b7d"
            ],
            [
             0.2,
             "#de77ae"
            ],
            [
             0.3,
             "#f1b6da"
            ],
            [
             0.4,
             "#fde0ef"
            ],
            [
             0.5,
             "#f7f7f7"
            ],
            [
             0.6,
             "#e6f5d0"
            ],
            [
             0.7,
             "#b8e186"
            ],
            [
             0.8,
             "#7fbc41"
            ],
            [
             0.9,
             "#4d9221"
            ],
            [
             1,
             "#276419"
            ]
           ],
           "sequential": [
            [
             0,
             "#0d0887"
            ],
            [
             0.1111111111111111,
             "#46039f"
            ],
            [
             0.2222222222222222,
             "#7201a8"
            ],
            [
             0.3333333333333333,
             "#9c179e"
            ],
            [
             0.4444444444444444,
             "#bd3786"
            ],
            [
             0.5555555555555556,
             "#d8576b"
            ],
            [
             0.6666666666666666,
             "#ed7953"
            ],
            [
             0.7777777777777778,
             "#fb9f3a"
            ],
            [
             0.8888888888888888,
             "#fdca26"
            ],
            [
             1,
             "#f0f921"
            ]
           ],
           "sequentialminus": [
            [
             0,
             "#0d0887"
            ],
            [
             0.1111111111111111,
             "#46039f"
            ],
            [
             0.2222222222222222,
             "#7201a8"
            ],
            [
             0.3333333333333333,
             "#9c179e"
            ],
            [
             0.4444444444444444,
             "#bd3786"
            ],
            [
             0.5555555555555556,
             "#d8576b"
            ],
            [
             0.6666666666666666,
             "#ed7953"
            ],
            [
             0.7777777777777778,
             "#fb9f3a"
            ],
            [
             0.8888888888888888,
             "#fdca26"
            ],
            [
             1,
             "#f0f921"
            ]
           ]
          },
          "colorway": [
           "#636efa",
           "#EF553B",
           "#00cc96",
           "#ab63fa",
           "#FFA15A",
           "#19d3f3",
           "#FF6692",
           "#B6E880",
           "#FF97FF",
           "#FECB52"
          ],
          "font": {
           "color": "#2a3f5f"
          },
          "geo": {
           "bgcolor": "white",
           "lakecolor": "white",
           "landcolor": "#E5ECF6",
           "showlakes": true,
           "showland": true,
           "subunitcolor": "white"
          },
          "hoverlabel": {
           "align": "left"
          },
          "hovermode": "closest",
          "mapbox": {
           "style": "light"
          },
          "paper_bgcolor": "white",
          "plot_bgcolor": "#E5ECF6",
          "polar": {
           "angularaxis": {
            "gridcolor": "white",
            "linecolor": "white",
            "ticks": ""
           },
           "bgcolor": "#E5ECF6",
           "radialaxis": {
            "gridcolor": "white",
            "linecolor": "white",
            "ticks": ""
           }
          },
          "scene": {
           "xaxis": {
            "backgroundcolor": "#E5ECF6",
            "gridcolor": "white",
            "gridwidth": 2,
            "linecolor": "white",
            "showbackground": true,
            "ticks": "",
            "zerolinecolor": "white"
           },
           "yaxis": {
            "backgroundcolor": "#E5ECF6",
            "gridcolor": "white",
            "gridwidth": 2,
            "linecolor": "white",
            "showbackground": true,
            "ticks": "",
            "zerolinecolor": "white"
           },
           "zaxis": {
            "backgroundcolor": "#E5ECF6",
            "gridcolor": "white",
            "gridwidth": 2,
            "linecolor": "white",
            "showbackground": true,
            "ticks": "",
            "zerolinecolor": "white"
           }
          },
          "shapedefaults": {
           "line": {
            "color": "#2a3f5f"
           }
          },
          "ternary": {
           "aaxis": {
            "gridcolor": "white",
            "linecolor": "white",
            "ticks": ""
           },
           "baxis": {
            "gridcolor": "white",
            "linecolor": "white",
            "ticks": ""
           },
           "bgcolor": "#E5ECF6",
           "caxis": {
            "gridcolor": "white",
            "linecolor": "white",
            "ticks": ""
           }
          },
          "title": {
           "x": 0.05
          },
          "xaxis": {
           "automargin": true,
           "gridcolor": "white",
           "linecolor": "white",
           "ticks": "",
           "title": {
            "standoff": 15
           },
           "zerolinecolor": "white",
           "zerolinewidth": 2
          },
          "yaxis": {
           "automargin": true,
           "gridcolor": "white",
           "linecolor": "white",
           "ticks": "",
           "title": {
            "standoff": 15
           },
           "zerolinecolor": "white",
           "zerolinewidth": 2
          }
         }
        },
        "title": {
         "text": "Chromatin accessibility Levels of CD4 promoter Across Cell Types",
         "x": 0.5,
         "xanchor": "center",
         "y": 0.95,
         "yanchor": "top"
        },
        "width": 600,
        "xaxis": {
         "anchor": "y",
         "domain": [
          0,
          1
         ],
         "title": {
          "text": "Cell Type"
         }
        },
        "yaxis": {
         "anchor": "x",
         "domain": [
          0,
          1
         ],
         "title": {
          "text": "Accessibility Level"
         }
        }
       }
      },
      "text/html": [
       "<div>                            <div id=\"fcbab441-b123-41b7-bbb7-93ed69c5f42d\" class=\"plotly-graph-div\" style=\"height:700px; width:600px;\"></div>            <script type=\"text/javascript\">                require([\"plotly\"], function(Plotly) {                    window.PLOTLYENV=window.PLOTLYENV || {};                                    if (document.getElementById(\"fcbab441-b123-41b7-bbb7-93ed69c5f42d\")) {                    Plotly.newPlot(                        \"fcbab441-b123-41b7-bbb7-93ed69c5f42d\",                        [{\"alignmentgroup\":\"True\",\"boxpoints\":\"all\",\"fillcolor\":\"rgba(255,255,255,0)\",\"hoveron\":\"points\",\"hovertemplate\":\"<b>%{hovertext}</b><br><br>condition=healthy<br>Cell Type=%{x}<br>Accessibility Level=%{y}<extra></extra>\",\"hovertext\":[\"NRHV151CD4\",\"NRHV151CD8\",\"NRHV321CD4\",\"NRHV321CD8\",\"NRHV238CD4\",\"NRHV238CD8\",\"NRHV326CD8\",\"NRHV171CD4\",\"NRHV171CD8\",\"NRHV324CD4\",\"NRHV086CD4\",\"NRHV086CD8\",\"NRHV121CD4\",\"NRHV121CD8\",\"NRHV322CD4\",\"NRHV322CD8\",\"NRHV324CD8\",\"NRHV073CD4\",\"NRHV073CD8\",\"NRHV079CD4\",\"NRHV079CD8\",\"NRHV168CD4\",\"NRHV290CD4\",\"NRHV295CD4\",\"NRHV295CD8\",\"NRHV332CD8\",\"NRHV168CD8\",\"NRHV290CD8\",\"NRHV326CD4\",\"NRHV332CD4\",\"NRHV014XCD4\",\"NRHV014XCD8\",\"NRHV325CD4\",\"NRHV325CD8\"],\"legendgroup\":\"healthy\",\"line\":{\"color\":\"rgba(255,255,255,0)\"},\"marker\":{\"color\":\"#00cc96\",\"line\":{\"color\":\"DarkSlateGrey\",\"width\":1},\"opacity\":0.8,\"size\":8},\"name\":\"healthy\",\"offsetgroup\":\"healthy\",\"orientation\":\"v\",\"pointpos\":0,\"showlegend\":true,\"x\":[\"CD4\",\"CD8\",\"CD4\",\"CD8\",\"CD4\",\"CD8\",\"CD8\",\"CD4\",\"CD8\",\"CD4\",\"CD4\",\"CD8\",\"CD4\",\"CD8\",\"CD4\",\"CD8\",\"CD8\",\"CD4\",\"CD8\",\"CD4\",\"CD8\",\"CD4\",\"CD4\",\"CD4\",\"CD8\",\"CD8\",\"CD8\",\"CD8\",\"CD4\",\"CD4\",\"CD4\",\"CD8\",\"CD4\",\"CD8\"],\"x0\":\" \",\"xaxis\":\"x\",\"y\":[251.60994224618463,26.423988500701103,256.24115070578074,15.11568200344015,291.0066386925005,18.667900439217103,19.8759913269455,263.3237406751024,14.65765291860492,267.23945136442256,312.47592569918254,12.809361650511116,315.36369088434225,20.10504172788563,332.70097743734016,19.488571255286463,20.31409679919817,266.97638837830203,21.27381118087737,304.6396194759581,19.181939855791025,305.9314199463801,308.053359338457,236.6367523635633,16.275507616773883,13.07895006673922,13.587364772526914,19.413240271107423,330.34229376516384,260.8649622398635,320.6302998413485,22.53173110431722,269.31538271494816,15.870002526373476],\"y0\":\" \",\"yaxis\":\"y\",\"type\":\"box\"},{\"alignmentgroup\":\"True\",\"boxpoints\":\"all\",\"fillcolor\":\"rgba(255,255,255,0)\",\"hoveron\":\"points\",\"hovertemplate\":\"<b>%{hovertext}</b><br><br>condition=patient<br>Cell Type=%{x}<br>Accessibility Level=%{y}<extra></extra>\",\"hovertext\":[\"PSA4920CD4\",\"PSA4945CD8\",\"PSA4948CD8\",\"PSA4953CD8\",\"PSA4960CD8\",\"PSA4944CD4\",\"PSA4947CD8\",\"PSA4949CD4\",\"PSA4954CD8\",\"PSA4963CD8\",\"PSA4950CD4\",\"PSA4961CD8\",\"PSA4964CD8\",\"PSA5012CD4\",\"PSA4920CD8\",\"PSA4952CD8\",\"PSA4963CD4\",\"PSA5008CD4\",\"PSA5012CD8\",\"PSA4941CD8\",\"PSA4944CD8\",\"PSA4946CD8\",\"PSA4952CD4\",\"PSA4954CD4\",\"PSA4962CD8\",\"PSA4964CD4\",\"PSA4965CD8\",\"PSA4969CD8\",\"PSA5008CD8\",\"PSA5014CD4\",\"PSA5014CD8\",\"PSA5019CD8\",\"PSA4950CD8\",\"PSA4958CD4\",\"PSA4958CD8\",\"PSA5009CD4\",\"PSA5010CD4\",\"PSA5010CD8\",\"PSA5018CD4\",\"PSA5018CD8\",\"PSA5023CD8\",\"PSA5026CD4\",\"PSA5026CD8\",\"PSA4956CD4\",\"PSA4956CD8\",\"PSA4968CD8\",\"PSA5007CD8\",\"PSA5009CD8\",\"PSA5013CD8\",\"PSA5013CD4\",\"PSA5015CD8\",\"PSA5020CD8\",\"PSA5021CD8\",\"PSA5022CD8\",\"PSA5024CD8\",\"PSA5036CD4\",\"PSA5036CD8\",\"PSA4947CD4\",\"PSA4957CD4\",\"PSA4959CD4\",\"PSA5006CD8\",\"PSA5019CD4\",\"PSA5021CD4\",\"PSA5040CD8\",\"PSA4945CD4\",\"PSA4949CD8\",\"PSA4951CD4\",\"PSA4951CD8\",\"PSA4959CD8\",\"PSA5017CD4\",\"PSA5017CD8\",\"PSA5037CD4\",\"PSA5039CD8\",\"PSA4967CD4\",\"PSA4968CD4\",\"PSA5006CD4\",\"PSA5007CD4\",\"PSA4955CD8\",\"PSA4962CD4\",\"PSA4966CD8\",\"PSA5037CD8\",\"PSA5040CD4\"],\"legendgroup\":\"patient\",\"line\":{\"color\":\"rgba(255,255,255,0)\"},\"marker\":{\"color\":\"#ab63fa\",\"line\":{\"color\":\"DarkSlateGrey\",\"width\":1},\"opacity\":0.8,\"size\":8},\"name\":\"patient\",\"offsetgroup\":\"patient\",\"orientation\":\"v\",\"pointpos\":0,\"showlegend\":true,\"x\":[\"CD4\",\"CD8\",\"CD8\",\"CD8\",\"CD8\",\"CD4\",\"CD8\",\"CD4\",\"CD8\",\"CD8\",\"CD4\",\"CD8\",\"CD8\",\"CD4\",\"CD8\",\"CD8\",\"CD4\",\"CD4\",\"CD8\",\"CD8\",\"CD8\",\"CD8\",\"CD4\",\"CD4\",\"CD8\",\"CD4\",\"CD8\",\"CD8\",\"CD8\",\"CD4\",\"CD8\",\"CD8\",\"CD8\",\"CD4\",\"CD8\",\"CD4\",\"CD4\",\"CD8\",\"CD4\",\"CD8\",\"CD8\",\"CD4\",\"CD8\",\"CD4\",\"CD8\",\"CD8\",\"CD8\",\"CD8\",\"CD8\",\"CD4\",\"CD8\",\"CD8\",\"CD8\",\"CD8\",\"CD8\",\"CD4\",\"CD8\",\"CD4\",\"CD4\",\"CD4\",\"CD8\",\"CD4\",\"CD4\",\"CD8\",\"CD4\",\"CD8\",\"CD4\",\"CD8\",\"CD8\",\"CD4\",\"CD8\",\"CD4\",\"CD8\",\"CD4\",\"CD4\",\"CD4\",\"CD4\",\"CD8\",\"CD4\",\"CD8\",\"CD8\",\"CD4\"],\"x0\":\" \",\"xaxis\":\"x\",\"y\":[282.85849730667815,3.0526263950477794,10.723735819662355,14.171354094753536,22.62205876871212,306.37878487473955,24.85409025353154,271.2075838006864,17.2622393895922,9.55895568382112,315.7118593884944,13.55822949587527,11.939568288311731,287.1743486407826,10.69324873903648,9.977993747220834,283.4828711063188,279.2062349390727,42.26880140070425,16.665915334816585,14.720423853765322,12.026172747660942,229.5104671774968,315.39376714577566,24.02466274978424,281.6070927597869,24.33028743084721,13.05179079657776,23.91313227151675,318.94653862709725,34.26767813043128,19.53105576673571,30.09403526782984,248.58807039148616,12.716853485002927,282.0851041249108,313.6900647270849,24.19627478564607,293.2652680869164,30.17285938030233,11.41610127857606,308.1288424150215,13.733442488678683,326.0417082908735,24.08992467640143,30.642652293874665,7.724563598863393,23.723384821019675,30.402135827788072,326.0592600784093,35.43072573153864,15.388780792554464,13.190244884950024,21.129612642651445,23.93689712676999,316.65487080581664,21.61613108077255,260.67532963046204,290.26300329580664,247.912857960984,14.118339074562469,336.1074443506816,330.8052932163765,24.972660872756613,285.7531348724534,1.4901685850066126,301.7358428833216,12.869846612462496,91.17151520785409,310.33860525885416,9.914439712445422,319.4269447014963,30.479182668395275,229.54356073867407,341.53291069007554,313.3703983257945,291.524215983878,17.11034618240589,304.8815606590849,24.940404368958777,27.63460675704322,272.651228403516],\"y0\":\" \",\"yaxis\":\"y\",\"type\":\"box\"},{\"alignmentgroup\":\"True\",\"boxpoints\":\"all\",\"fillcolor\":\"rgba(255,255,255,0)\",\"hoveron\":\"points\",\"hovertemplate\":\"<b>%{hovertext}</b><br><br>condition=synovium<br>Cell Type=%{x}<br>Accessibility Level=%{y}<extra></extra>\",\"hovertext\":[\"PSA4969CD8_SF\",\"PSA5040CD8_SF\",\"PSA5025CD8_SF\",\"PSA4917CD4_SF\",\"PSA4917CD8_SF\",\"PSA4918CD8_SF\",\"PSA4951CD4_SF\",\"PSA4958CD8_SF\",\"PSA4942CD8_SF\",\"PSA4958CD4_SF\"],\"legendgroup\":\"synovium\",\"line\":{\"color\":\"rgba(255,255,255,0)\"},\"marker\":{\"color\":\"#FFA15A\",\"line\":{\"color\":\"DarkSlateGrey\",\"width\":1},\"opacity\":0.8,\"size\":8},\"name\":\"synovium\",\"offsetgroup\":\"synovium\",\"orientation\":\"v\",\"pointpos\":0,\"showlegend\":true,\"x\":[\"CD8\",\"CD8\",\"CD8\",\"CD4\",\"CD8\",\"CD8\",\"CD4\",\"CD8\",\"CD8\",\"CD4\"],\"x0\":\" \",\"xaxis\":\"x\",\"y\":[32.04068344542374,13.44105229693575,5.875544556208189,297.4908482488958,28.39647812618189,9.0720188748336,279.9319750375337,35.27809560008871,35.544508517570264,267.0395384123341],\"y0\":\" \",\"yaxis\":\"y\",\"type\":\"box\"}],                        {\"template\":{\"data\":{\"bar\":[{\"error_x\":{\"color\":\"#2a3f5f\"},\"error_y\":{\"color\":\"#2a3f5f\"},\"marker\":{\"line\":{\"color\":\"#E5ECF6\",\"width\":0.5},\"pattern\":{\"fillmode\":\"overlay\",\"size\":10,\"solidity\":0.2}},\"type\":\"bar\"}],\"barpolar\":[{\"marker\":{\"line\":{\"color\":\"#E5ECF6\",\"width\":0.5},\"pattern\":{\"fillmode\":\"overlay\",\"size\":10,\"solidity\":0.2}},\"type\":\"barpolar\"}],\"carpet\":[{\"aaxis\":{\"endlinecolor\":\"#2a3f5f\",\"gridcolor\":\"white\",\"linecolor\":\"white\",\"minorgridcolor\":\"white\",\"startlinecolor\":\"#2a3f5f\"},\"baxis\":{\"endlinecolor\":\"#2a3f5f\",\"gridcolor\":\"white\",\"linecolor\":\"white\",\"minorgridcolor\":\"white\",\"startlinecolor\":\"#2a3f5f\"},\"type\":\"carpet\"}],\"choropleth\":[{\"colorbar\":{\"outlinewidth\":0,\"ticks\":\"\"},\"type\":\"choropleth\"}],\"contour\":[{\"colorbar\":{\"outlinewidth\":0,\"ticks\":\"\"},\"colorscale\":[[0.0,\"#0d0887\"],[0.1111111111111111,\"#46039f\"],[0.2222222222222222,\"#7201a8\"],[0.3333333333333333,\"#9c179e\"],[0.4444444444444444,\"#bd3786\"],[0.5555555555555556,\"#d8576b\"],[0.6666666666666666,\"#ed7953\"],[0.7777777777777778,\"#fb9f3a\"],[0.8888888888888888,\"#fdca26\"],[1.0,\"#f0f921\"]],\"type\":\"contour\"}],\"contourcarpet\":[{\"colorbar\":{\"outlinewidth\":0,\"ticks\":\"\"},\"type\":\"contourcarpet\"}],\"heatmap\":[{\"colorbar\":{\"outlinewidth\":0,\"ticks\":\"\"},\"colorscale\":[[0.0,\"#0d0887\"],[0.1111111111111111,\"#46039f\"],[0.2222222222222222,\"#7201a8\"],[0.3333333333333333,\"#9c179e\"],[0.4444444444444444,\"#bd3786\"],[0.5555555555555556,\"#d8576b\"],[0.6666666666666666,\"#ed7953\"],[0.7777777777777778,\"#fb9f3a\"],[0.8888888888888888,\"#fdca26\"],[1.0,\"#f0f921\"]],\"type\":\"heatmap\"}],\"heatmapgl\":[{\"colorbar\":{\"outlinewidth\":0,\"ticks\":\"\"},\"colorscale\":[[0.0,\"#0d0887\"],[0.1111111111111111,\"#46039f\"],[0.2222222222222222,\"#7201a8\"],[0.3333333333333333,\"#9c179e\"],[0.4444444444444444,\"#bd3786\"],[0.5555555555555556,\"#d8576b\"],[0.6666666666666666,\"#ed7953\"],[0.7777777777777778,\"#fb9f3a\"],[0.8888888888888888,\"#fdca26\"],[1.0,\"#f0f921\"]],\"type\":\"heatmapgl\"}],\"histogram\":[{\"marker\":{\"pattern\":{\"fillmode\":\"overlay\",\"size\":10,\"solidity\":0.2}},\"type\":\"histogram\"}],\"histogram2d\":[{\"colorbar\":{\"outlinewidth\":0,\"ticks\":\"\"},\"colorscale\":[[0.0,\"#0d0887\"],[0.1111111111111111,\"#46039f\"],[0.2222222222222222,\"#7201a8\"],[0.3333333333333333,\"#9c179e\"],[0.4444444444444444,\"#bd3786\"],[0.5555555555555556,\"#d8576b\"],[0.6666666666666666,\"#ed7953\"],[0.7777777777777778,\"#fb9f3a\"],[0.8888888888888888,\"#fdca26\"],[1.0,\"#f0f921\"]],\"type\":\"histogram2d\"}],\"histogram2dcontour\":[{\"colorbar\":{\"outlinewidth\":0,\"ticks\":\"\"},\"colorscale\":[[0.0,\"#0d0887\"],[0.1111111111111111,\"#46039f\"],[0.2222222222222222,\"#7201a8\"],[0.3333333333333333,\"#9c179e\"],[0.4444444444444444,\"#bd3786\"],[0.5555555555555556,\"#d8576b\"],[0.6666666666666666,\"#ed7953\"],[0.7777777777777778,\"#fb9f3a\"],[0.8888888888888888,\"#fdca26\"],[1.0,\"#f0f921\"]],\"type\":\"histogram2dcontour\"}],\"mesh3d\":[{\"colorbar\":{\"outlinewidth\":0,\"ticks\":\"\"},\"type\":\"mesh3d\"}],\"parcoords\":[{\"line\":{\"colorbar\":{\"outlinewidth\":0,\"ticks\":\"\"}},\"type\":\"parcoords\"}],\"pie\":[{\"automargin\":true,\"type\":\"pie\"}],\"scatter\":[{\"marker\":{\"colorbar\":{\"outlinewidth\":0,\"ticks\":\"\"}},\"type\":\"scatter\"}],\"scatter3d\":[{\"line\":{\"colorbar\":{\"outlinewidth\":0,\"ticks\":\"\"}},\"marker\":{\"colorbar\":{\"outlinewidth\":0,\"ticks\":\"\"}},\"type\":\"scatter3d\"}],\"scattercarpet\":[{\"marker\":{\"colorbar\":{\"outlinewidth\":0,\"ticks\":\"\"}},\"type\":\"scattercarpet\"}],\"scattergeo\":[{\"marker\":{\"colorbar\":{\"outlinewidth\":0,\"ticks\":\"\"}},\"type\":\"scattergeo\"}],\"scattergl\":[{\"marker\":{\"colorbar\":{\"outlinewidth\":0,\"ticks\":\"\"}},\"type\":\"scattergl\"}],\"scattermapbox\":[{\"marker\":{\"colorbar\":{\"outlinewidth\":0,\"ticks\":\"\"}},\"type\":\"scattermapbox\"}],\"scatterpolar\":[{\"marker\":{\"colorbar\":{\"outlinewidth\":0,\"ticks\":\"\"}},\"type\":\"scatterpolar\"}],\"scatterpolargl\":[{\"marker\":{\"colorbar\":{\"outlinewidth\":0,\"ticks\":\"\"}},\"type\":\"scatterpolargl\"}],\"scatterternary\":[{\"marker\":{\"colorbar\":{\"outlinewidth\":0,\"ticks\":\"\"}},\"type\":\"scatterternary\"}],\"surface\":[{\"colorbar\":{\"outlinewidth\":0,\"ticks\":\"\"},\"colorscale\":[[0.0,\"#0d0887\"],[0.1111111111111111,\"#46039f\"],[0.2222222222222222,\"#7201a8\"],[0.3333333333333333,\"#9c179e\"],[0.4444444444444444,\"#bd3786\"],[0.5555555555555556,\"#d8576b\"],[0.6666666666666666,\"#ed7953\"],[0.7777777777777778,\"#fb9f3a\"],[0.8888888888888888,\"#fdca26\"],[1.0,\"#f0f921\"]],\"type\":\"surface\"}],\"table\":[{\"cells\":{\"fill\":{\"color\":\"#EBF0F8\"},\"line\":{\"color\":\"white\"}},\"header\":{\"fill\":{\"color\":\"#C8D4E3\"},\"line\":{\"color\":\"white\"}},\"type\":\"table\"}]},\"layout\":{\"annotationdefaults\":{\"arrowcolor\":\"#2a3f5f\",\"arrowhead\":0,\"arrowwidth\":1},\"autotypenumbers\":\"strict\",\"coloraxis\":{\"colorbar\":{\"outlinewidth\":0,\"ticks\":\"\"}},\"colorscale\":{\"diverging\":[[0,\"#8e0152\"],[0.1,\"#c51b7d\"],[0.2,\"#de77ae\"],[0.3,\"#f1b6da\"],[0.4,\"#fde0ef\"],[0.5,\"#f7f7f7\"],[0.6,\"#e6f5d0\"],[0.7,\"#b8e186\"],[0.8,\"#7fbc41\"],[0.9,\"#4d9221\"],[1,\"#276419\"]],\"sequential\":[[0.0,\"#0d0887\"],[0.1111111111111111,\"#46039f\"],[0.2222222222222222,\"#7201a8\"],[0.3333333333333333,\"#9c179e\"],[0.4444444444444444,\"#bd3786\"],[0.5555555555555556,\"#d8576b\"],[0.6666666666666666,\"#ed7953\"],[0.7777777777777778,\"#fb9f3a\"],[0.8888888888888888,\"#fdca26\"],[1.0,\"#f0f921\"]],\"sequentialminus\":[[0.0,\"#0d0887\"],[0.1111111111111111,\"#46039f\"],[0.2222222222222222,\"#7201a8\"],[0.3333333333333333,\"#9c179e\"],[0.4444444444444444,\"#bd3786\"],[0.5555555555555556,\"#d8576b\"],[0.6666666666666666,\"#ed7953\"],[0.7777777777777778,\"#fb9f3a\"],[0.8888888888888888,\"#fdca26\"],[1.0,\"#f0f921\"]]},\"colorway\":[\"#636efa\",\"#EF553B\",\"#00cc96\",\"#ab63fa\",\"#FFA15A\",\"#19d3f3\",\"#FF6692\",\"#B6E880\",\"#FF97FF\",\"#FECB52\"],\"font\":{\"color\":\"#2a3f5f\"},\"geo\":{\"bgcolor\":\"white\",\"lakecolor\":\"white\",\"landcolor\":\"#E5ECF6\",\"showlakes\":true,\"showland\":true,\"subunitcolor\":\"white\"},\"hoverlabel\":{\"align\":\"left\"},\"hovermode\":\"closest\",\"mapbox\":{\"style\":\"light\"},\"paper_bgcolor\":\"white\",\"plot_bgcolor\":\"#E5ECF6\",\"polar\":{\"angularaxis\":{\"gridcolor\":\"white\",\"linecolor\":\"white\",\"ticks\":\"\"},\"bgcolor\":\"#E5ECF6\",\"radialaxis\":{\"gridcolor\":\"white\",\"linecolor\":\"white\",\"ticks\":\"\"}},\"scene\":{\"xaxis\":{\"backgroundcolor\":\"#E5ECF6\",\"gridcolor\":\"white\",\"gridwidth\":2,\"linecolor\":\"white\",\"showbackground\":true,\"ticks\":\"\",\"zerolinecolor\":\"white\"},\"yaxis\":{\"backgroundcolor\":\"#E5ECF6\",\"gridcolor\":\"white\",\"gridwidth\":2,\"linecolor\":\"white\",\"showbackground\":true,\"ticks\":\"\",\"zerolinecolor\":\"white\"},\"zaxis\":{\"backgroundcolor\":\"#E5ECF6\",\"gridcolor\":\"white\",\"gridwidth\":2,\"linecolor\":\"white\",\"showbackground\":true,\"ticks\":\"\",\"zerolinecolor\":\"white\"}},\"shapedefaults\":{\"line\":{\"color\":\"#2a3f5f\"}},\"ternary\":{\"aaxis\":{\"gridcolor\":\"white\",\"linecolor\":\"white\",\"ticks\":\"\"},\"baxis\":{\"gridcolor\":\"white\",\"linecolor\":\"white\",\"ticks\":\"\"},\"bgcolor\":\"#E5ECF6\",\"caxis\":{\"gridcolor\":\"white\",\"linecolor\":\"white\",\"ticks\":\"\"}},\"title\":{\"x\":0.05},\"xaxis\":{\"automargin\":true,\"gridcolor\":\"white\",\"linecolor\":\"white\",\"ticks\":\"\",\"title\":{\"standoff\":15},\"zerolinecolor\":\"white\",\"zerolinewidth\":2},\"yaxis\":{\"automargin\":true,\"gridcolor\":\"white\",\"linecolor\":\"white\",\"ticks\":\"\",\"title\":{\"standoff\":15},\"zerolinecolor\":\"white\",\"zerolinewidth\":2}}},\"xaxis\":{\"anchor\":\"y\",\"domain\":[0.0,1.0],\"title\":{\"text\":\"Cell Type\"}},\"yaxis\":{\"anchor\":\"x\",\"domain\":[0.0,1.0],\"title\":{\"text\":\"Accessibility Level\"}},\"legend\":{\"title\":{\"text\":\"Condition\"},\"tracegroupgap\":0,\"orientation\":\"h\",\"yanchor\":\"bottom\",\"y\":1.02,\"xanchor\":\"right\",\"x\":1},\"title\":{\"text\":\"Chromatin accessibility Levels of CD4 promoter Across Cell Types\",\"y\":0.95,\"x\":0.5,\"xanchor\":\"center\",\"yanchor\":\"top\"},\"boxmode\":\"group\",\"width\":600,\"height\":700,\"font\":{\"family\":\"Arial, sans-serif\",\"size\":16}},                        {\"responsive\": true}                    ).then(function(){\n",
       "                            \n",
       "var gd = document.getElementById('fcbab441-b123-41b7-bbb7-93ed69c5f42d');\n",
       "var x = new MutationObserver(function (mutations, observer) {{\n",
       "        var display = window.getComputedStyle(gd).display;\n",
       "        if (!display || display === 'none') {{\n",
       "            console.log([gd, 'removed!']);\n",
       "            Plotly.purge(gd);\n",
       "            observer.disconnect();\n",
       "        }}\n",
       "}});\n",
       "\n",
       "// Listen for the removal of the full notebook cells\n",
       "var notebookContainer = gd.closest('#notebook-container');\n",
       "if (notebookContainer) {{\n",
       "    x.observe(notebookContainer, {childList: true});\n",
       "}}\n",
       "\n",
       "// Listen for the clearing of the current output cell\n",
       "var outputEl = gd.closest('.output');\n",
       "if (outputEl) {{\n",
       "    x.observe(outputEl, {childList: true});\n",
       "}}\n",
       "\n",
       "                        })                };                });            </script>        </div>"
      ]
     },
     "metadata": {},
     "output_type": "display_data"
    }
   ],
   "source": [
    "counts = counts_table.loc[\"chr12:6789245-6789745\"].T\n",
    "df = pd.DataFrame(counts).merge(metadata_ATAC[[\"id\", \"cell_type\", 'condition','proper_name']], left_index = True, right_on = \"id\")\n",
    "df.columns = [\"gene\", \"id\", \"cell_type\",'condition','proper_name']\n",
    "df = df.replace([\"CD4_SF\", \"CD8_SF\"], [\"CD4\", \"CD8\"])\n",
    "# Create the strip plot\n",
    "fig = px.strip(df, x=\"cell_type\", y=\"gene\", color=\"condition\",\n",
    "               hover_name=\"proper_name\",\n",
    "               color_discrete_map={\"Healthy\": \"blue\", \"Diseased\": \"red\"},\n",
    "               title=f'Chromatin accessibility Levels of CD4 promoter Across Cell Types',\n",
    "               labels={\"cell_type\": \"Cell Type\", \"gene\": \"Accessibility Level\"})\n",
    "\n",
    "# Customizing the marker appearance\n",
    "fig.update_traces(marker=dict(size=8, opacity=0.8, line=dict(width=1, color='DarkSlateGrey')))\n",
    "fig.update_layout(\n",
    "    width=600,  # Set the width of the figure in pixels\n",
    "    height=700  # Set the height of the figure in pixels\n",
    ")\n",
    "# Enhancing layout\n",
    "fig.update_layout(\n",
    "    title={'text': f'Chromatin accessibility Levels of CD4 promoter Across Cell Types', 'y':0.95, 'x':0.5, 'xanchor': 'center', 'yanchor': 'top'},\n",
    "    xaxis_title=\"Cell Type\",\n",
    "    yaxis_title=\"Accessibility Level\",\n",
    "    legend_title=\"Condition\",\n",
    "    font=dict(family=\"Arial, sans-serif\", size=16),\n",
    "    legend=dict(orientation=\"h\", yanchor=\"bottom\", y=1.02, xanchor=\"right\", x=1)\n",
    ")\n",
    "\n",
    "# Show the plot\n",
    "fig.show()\n",
    "fig.write_image(f\"/mnt/iusers01/jw01/mdefscs4/psa_functional_genomics/PsA_reviewers_analysis/other_figs/expression_ATAC_CD4.svg\")"
   ]
  },
  {
   "cell_type": "code",
   "execution_count": 10,
   "metadata": {},
   "outputs": [
    {
     "data": {
      "application/vnd.plotly.v1+json": {
       "config": {
        "plotlyServerURL": "https://plot.ly"
       },
       "data": [
        {
         "alignmentgroup": "True",
         "boxpoints": "all",
         "fillcolor": "rgba(255,255,255,0)",
         "hoveron": "points",
         "hovertemplate": "<b>%{hovertext}</b><br><br>condition=healthy<br>Cell Type=%{x}<br>Accessibility Level=%{y}<extra></extra>",
         "hovertext": [
          "NRHV151CD4",
          "NRHV151CD8",
          "NRHV321CD4",
          "NRHV321CD8",
          "NRHV238CD4",
          "NRHV238CD8",
          "NRHV326CD8",
          "NRHV171CD4",
          "NRHV171CD8",
          "NRHV324CD4",
          "NRHV086CD4",
          "NRHV086CD8",
          "NRHV121CD4",
          "NRHV121CD8",
          "NRHV322CD4",
          "NRHV322CD8",
          "NRHV324CD8",
          "NRHV073CD4",
          "NRHV073CD8",
          "NRHV079CD4",
          "NRHV079CD8",
          "NRHV168CD4",
          "NRHV290CD4",
          "NRHV295CD4",
          "NRHV295CD8",
          "NRHV332CD8",
          "NRHV168CD8",
          "NRHV290CD8",
          "NRHV326CD4",
          "NRHV332CD4",
          "NRHV014XCD4",
          "NRHV014XCD8",
          "NRHV325CD4",
          "NRHV325CD8"
         ],
         "legendgroup": "healthy",
         "line": {
          "color": "rgba(255,255,255,0)"
         },
         "marker": {
          "color": "#00cc96",
          "line": {
           "color": "DarkSlateGrey",
           "width": 1
          },
          "opacity": 0.8,
          "size": 8
         },
         "name": "healthy",
         "offsetgroup": "healthy",
         "orientation": "v",
         "pointpos": 0,
         "showlegend": true,
         "type": "box",
         "x": [
          "CD4",
          "CD8",
          "CD4",
          "CD8",
          "CD4",
          "CD8",
          "CD8",
          "CD4",
          "CD8",
          "CD4",
          "CD4",
          "CD8",
          "CD4",
          "CD8",
          "CD4",
          "CD8",
          "CD8",
          "CD4",
          "CD8",
          "CD4",
          "CD8",
          "CD4",
          "CD4",
          "CD4",
          "CD8",
          "CD8",
          "CD8",
          "CD8",
          "CD4",
          "CD4",
          "CD4",
          "CD8",
          "CD4",
          "CD8"
         ],
         "x0": " ",
         "xaxis": "x",
         "y": [
          53.26190559401842,
          729.1181917558753,
          57.05257453265169,
          548.2152293923261,
          43.23468031085607,
          647.4899560254441,
          973.3392524159476,
          78.37981013046536,
          921.3180550290874,
          51.63826822944939,
          62.41709964487484,
          919.8786669582272,
          43.97353456535826,
          758.3051176439418,
          58.70229139694422,
          802.3001823339937,
          834.7689495289787,
          40.01588169154515,
          596.3516221213446,
          35.535243479108075,
          818.6213859385111,
          38.10232402612014,
          42.47671681076653,
          223.2059956187369,
          905.4526306322318,
          684.7347142144135,
          736.861414077121,
          753.2242020812733,
          52.56671499485445,
          65.19608072597532,
          54.94861710218295,
          844.3446102553522,
          51.651772900350814,
          763.0489968764714
         ],
         "y0": " ",
         "yaxis": "y"
        },
        {
         "alignmentgroup": "True",
         "boxpoints": "all",
         "fillcolor": "rgba(255,255,255,0)",
         "hoveron": "points",
         "hovertemplate": "<b>%{hovertext}</b><br><br>condition=patient<br>Cell Type=%{x}<br>Accessibility Level=%{y}<extra></extra>",
         "hovertext": [
          "PSA4920CD4",
          "PSA4945CD8",
          "PSA4948CD8",
          "PSA4953CD8",
          "PSA4960CD8",
          "PSA4944CD4",
          "PSA4947CD8",
          "PSA4949CD4",
          "PSA4954CD8",
          "PSA4963CD8",
          "PSA4950CD4",
          "PSA4961CD8",
          "PSA4964CD8",
          "PSA5012CD4",
          "PSA4920CD8",
          "PSA4952CD8",
          "PSA4963CD4",
          "PSA5008CD4",
          "PSA5012CD8",
          "PSA4941CD8",
          "PSA4944CD8",
          "PSA4946CD8",
          "PSA4952CD4",
          "PSA4954CD4",
          "PSA4962CD8",
          "PSA4964CD4",
          "PSA4965CD8",
          "PSA4969CD8",
          "PSA5008CD8",
          "PSA5014CD4",
          "PSA5014CD8",
          "PSA5019CD8",
          "PSA4950CD8",
          "PSA4958CD4",
          "PSA4958CD8",
          "PSA5009CD4",
          "PSA5010CD4",
          "PSA5010CD8",
          "PSA5018CD4",
          "PSA5018CD8",
          "PSA5023CD8",
          "PSA5026CD4",
          "PSA5026CD8",
          "PSA4956CD4",
          "PSA4956CD8",
          "PSA4968CD8",
          "PSA5007CD8",
          "PSA5009CD8",
          "PSA5013CD8",
          "PSA5013CD4",
          "PSA5015CD8",
          "PSA5020CD8",
          "PSA5021CD8",
          "PSA5022CD8",
          "PSA5024CD8",
          "PSA5036CD4",
          "PSA5036CD8",
          "PSA4947CD4",
          "PSA4957CD4",
          "PSA4959CD4",
          "PSA5006CD8",
          "PSA5019CD4",
          "PSA5021CD4",
          "PSA5040CD8",
          "PSA4945CD4",
          "PSA4949CD8",
          "PSA4951CD4",
          "PSA4951CD8",
          "PSA4959CD8",
          "PSA5017CD4",
          "PSA5017CD8",
          "PSA5037CD4",
          "PSA5039CD8",
          "PSA4967CD4",
          "PSA4968CD4",
          "PSA5006CD4",
          "PSA5007CD4",
          "PSA4955CD8",
          "PSA4962CD4",
          "PSA4966CD8",
          "PSA5037CD8",
          "PSA5040CD4"
         ],
         "legendgroup": "patient",
         "line": {
          "color": "rgba(255,255,255,0)"
         },
         "marker": {
          "color": "#ab63fa",
          "line": {
           "color": "DarkSlateGrey",
           "width": 1
          },
          "opacity": 0.8,
          "size": 8
         },
         "name": "patient",
         "offsetgroup": "patient",
         "orientation": "v",
         "pointpos": 0,
         "showlegend": true,
         "type": "box",
         "x": [
          "CD4",
          "CD8",
          "CD8",
          "CD8",
          "CD8",
          "CD4",
          "CD8",
          "CD4",
          "CD8",
          "CD8",
          "CD4",
          "CD8",
          "CD8",
          "CD4",
          "CD8",
          "CD8",
          "CD4",
          "CD4",
          "CD8",
          "CD8",
          "CD8",
          "CD8",
          "CD4",
          "CD4",
          "CD8",
          "CD4",
          "CD8",
          "CD8",
          "CD8",
          "CD4",
          "CD8",
          "CD8",
          "CD8",
          "CD4",
          "CD8",
          "CD4",
          "CD4",
          "CD8",
          "CD4",
          "CD8",
          "CD8",
          "CD4",
          "CD8",
          "CD4",
          "CD8",
          "CD8",
          "CD8",
          "CD8",
          "CD8",
          "CD4",
          "CD8",
          "CD8",
          "CD8",
          "CD8",
          "CD8",
          "CD4",
          "CD8",
          "CD4",
          "CD4",
          "CD4",
          "CD8",
          "CD4",
          "CD4",
          "CD8",
          "CD4",
          "CD8",
          "CD4",
          "CD8",
          "CD8",
          "CD4",
          "CD8",
          "CD4",
          "CD8",
          "CD4",
          "CD4",
          "CD4",
          "CD4",
          "CD8",
          "CD4",
          "CD8",
          "CD8",
          "CD4"
         ],
         "x0": " ",
         "xaxis": "x",
         "y": [
          52.98777075484235,
          853.7401394807544,
          758.6531051838932,
          677.9024714528257,
          723.0229308729721,
          53.9828126312867,
          560.4142484063984,
          71.05849278566276,
          797.4569817696225,
          750.4060397405009,
          55.17173461638627,
          1017.472503113578,
          833.3157685936377,
          62.1822575953512,
          828.7568233354759,
          749.2929726528624,
          37.127995339219176,
          56.828804638977246,
          707.1359490965618,
          826.9721821187082,
          963.4516257979374,
          831.9389111799775,
          50.34692755668191,
          63.49941615737728,
          759.0337651205144,
          50.23767479631817,
          732.6584428947423,
          703.4461095712412,
          844.5768388656177,
          72.8695587296502,
          832.9890864217878,
          770.1932458774089,
          690.6044309471191,
          72.03070286187906,
          766.694108253258,
          55.742264663187285,
          47.96980981977949,
          698.7676619757476,
          53.7482599381303,
          727.2862097973948,
          898.3064920923111,
          51.62033948587765,
          696.7623691250632,
          44.17608837913011,
          673.797461684638,
          738.159188962842,
          861.9442870604195,
          852.5343440521091,
          709.8614389367274,
          52.76098437160344,
          662.8081504550092,
          816.6936180957476,
          978.3647895309664,
          758.4029198685993,
          716.3222413588435,
          63.092880634622034,
          975.8719063064582,
          56.3448098676987,
          45.82468539373182,
          61.99215102471504,
          945.8901098641664,
          40.614829970801466,
          33.7568833578803,
          546.5103859069344,
          124.47270733998384,
          775.1926255437468,
          43.93661400561905,
          841.9478645405424,
          647.6096932836429,
          44.722703358924505,
          801.3160229320201,
          64.17159830006223,
          654.3638959695804,
          54.58067179603269,
          53.156797954696366,
          42.11853965656304,
          41.82365694585677,
          503.5992079574114,
          79.49128125758311,
          652.0246522543916,
          820.7358180882192,
          46.31907771076601
         ],
         "y0": " ",
         "yaxis": "y"
        },
        {
         "alignmentgroup": "True",
         "boxpoints": "all",
         "fillcolor": "rgba(255,255,255,0)",
         "hoveron": "points",
         "hovertemplate": "<b>%{hovertext}</b><br><br>condition=synovium<br>Cell Type=%{x}<br>Accessibility Level=%{y}<extra></extra>",
         "hovertext": [
          "PSA4969CD8_SF",
          "PSA5040CD8_SF",
          "PSA5025CD8_SF",
          "PSA4917CD4_SF",
          "PSA4917CD8_SF",
          "PSA4918CD8_SF",
          "PSA4951CD4_SF",
          "PSA4958CD8_SF",
          "PSA4942CD8_SF",
          "PSA4958CD4_SF"
         ],
         "legendgroup": "synovium",
         "line": {
          "color": "rgba(255,255,255,0)"
         },
         "marker": {
          "color": "#FFA15A",
          "line": {
           "color": "DarkSlateGrey",
           "width": 1
          },
          "opacity": 0.8,
          "size": 8
         },
         "name": "synovium",
         "offsetgroup": "synovium",
         "orientation": "v",
         "pointpos": 0,
         "showlegend": true,
         "type": "box",
         "x": [
          "CD8",
          "CD8",
          "CD8",
          "CD4",
          "CD8",
          "CD8",
          "CD4",
          "CD8",
          "CD8",
          "CD4"
         ],
         "x0": " ",
         "xaxis": "x",
         "y": [
          813.6173423876492,
          868.5298904760585,
          755.5977273236797,
          40.27007682598758,
          743.0629784198499,
          817.5130214606718,
          40.27619327144004,
          597.7676598500248,
          609.5509145415715,
          59.05878798284435
         ],
         "y0": " ",
         "yaxis": "y"
        }
       ],
       "layout": {
        "boxmode": "group",
        "font": {
         "family": "Arial, sans-serif",
         "size": 16
        },
        "height": 700,
        "legend": {
         "orientation": "h",
         "title": {
          "text": "Condition"
         },
         "tracegroupgap": 0,
         "x": 1,
         "xanchor": "right",
         "y": 1.02,
         "yanchor": "bottom"
        },
        "template": {
         "data": {
          "bar": [
           {
            "error_x": {
             "color": "#2a3f5f"
            },
            "error_y": {
             "color": "#2a3f5f"
            },
            "marker": {
             "line": {
              "color": "#E5ECF6",
              "width": 0.5
             },
             "pattern": {
              "fillmode": "overlay",
              "size": 10,
              "solidity": 0.2
             }
            },
            "type": "bar"
           }
          ],
          "barpolar": [
           {
            "marker": {
             "line": {
              "color": "#E5ECF6",
              "width": 0.5
             },
             "pattern": {
              "fillmode": "overlay",
              "size": 10,
              "solidity": 0.2
             }
            },
            "type": "barpolar"
           }
          ],
          "carpet": [
           {
            "aaxis": {
             "endlinecolor": "#2a3f5f",
             "gridcolor": "white",
             "linecolor": "white",
             "minorgridcolor": "white",
             "startlinecolor": "#2a3f5f"
            },
            "baxis": {
             "endlinecolor": "#2a3f5f",
             "gridcolor": "white",
             "linecolor": "white",
             "minorgridcolor": "white",
             "startlinecolor": "#2a3f5f"
            },
            "type": "carpet"
           }
          ],
          "choropleth": [
           {
            "colorbar": {
             "outlinewidth": 0,
             "ticks": ""
            },
            "type": "choropleth"
           }
          ],
          "contour": [
           {
            "colorbar": {
             "outlinewidth": 0,
             "ticks": ""
            },
            "colorscale": [
             [
              0,
              "#0d0887"
             ],
             [
              0.1111111111111111,
              "#46039f"
             ],
             [
              0.2222222222222222,
              "#7201a8"
             ],
             [
              0.3333333333333333,
              "#9c179e"
             ],
             [
              0.4444444444444444,
              "#bd3786"
             ],
             [
              0.5555555555555556,
              "#d8576b"
             ],
             [
              0.6666666666666666,
              "#ed7953"
             ],
             [
              0.7777777777777778,
              "#fb9f3a"
             ],
             [
              0.8888888888888888,
              "#fdca26"
             ],
             [
              1,
              "#f0f921"
             ]
            ],
            "type": "contour"
           }
          ],
          "contourcarpet": [
           {
            "colorbar": {
             "outlinewidth": 0,
             "ticks": ""
            },
            "type": "contourcarpet"
           }
          ],
          "heatmap": [
           {
            "colorbar": {
             "outlinewidth": 0,
             "ticks": ""
            },
            "colorscale": [
             [
              0,
              "#0d0887"
             ],
             [
              0.1111111111111111,
              "#46039f"
             ],
             [
              0.2222222222222222,
              "#7201a8"
             ],
             [
              0.3333333333333333,
              "#9c179e"
             ],
             [
              0.4444444444444444,
              "#bd3786"
             ],
             [
              0.5555555555555556,
              "#d8576b"
             ],
             [
              0.6666666666666666,
              "#ed7953"
             ],
             [
              0.7777777777777778,
              "#fb9f3a"
             ],
             [
              0.8888888888888888,
              "#fdca26"
             ],
             [
              1,
              "#f0f921"
             ]
            ],
            "type": "heatmap"
           }
          ],
          "heatmapgl": [
           {
            "colorbar": {
             "outlinewidth": 0,
             "ticks": ""
            },
            "colorscale": [
             [
              0,
              "#0d0887"
             ],
             [
              0.1111111111111111,
              "#46039f"
             ],
             [
              0.2222222222222222,
              "#7201a8"
             ],
             [
              0.3333333333333333,
              "#9c179e"
             ],
             [
              0.4444444444444444,
              "#bd3786"
             ],
             [
              0.5555555555555556,
              "#d8576b"
             ],
             [
              0.6666666666666666,
              "#ed7953"
             ],
             [
              0.7777777777777778,
              "#fb9f3a"
             ],
             [
              0.8888888888888888,
              "#fdca26"
             ],
             [
              1,
              "#f0f921"
             ]
            ],
            "type": "heatmapgl"
           }
          ],
          "histogram": [
           {
            "marker": {
             "pattern": {
              "fillmode": "overlay",
              "size": 10,
              "solidity": 0.2
             }
            },
            "type": "histogram"
           }
          ],
          "histogram2d": [
           {
            "colorbar": {
             "outlinewidth": 0,
             "ticks": ""
            },
            "colorscale": [
             [
              0,
              "#0d0887"
             ],
             [
              0.1111111111111111,
              "#46039f"
             ],
             [
              0.2222222222222222,
              "#7201a8"
             ],
             [
              0.3333333333333333,
              "#9c179e"
             ],
             [
              0.4444444444444444,
              "#bd3786"
             ],
             [
              0.5555555555555556,
              "#d8576b"
             ],
             [
              0.6666666666666666,
              "#ed7953"
             ],
             [
              0.7777777777777778,
              "#fb9f3a"
             ],
             [
              0.8888888888888888,
              "#fdca26"
             ],
             [
              1,
              "#f0f921"
             ]
            ],
            "type": "histogram2d"
           }
          ],
          "histogram2dcontour": [
           {
            "colorbar": {
             "outlinewidth": 0,
             "ticks": ""
            },
            "colorscale": [
             [
              0,
              "#0d0887"
             ],
             [
              0.1111111111111111,
              "#46039f"
             ],
             [
              0.2222222222222222,
              "#7201a8"
             ],
             [
              0.3333333333333333,
              "#9c179e"
             ],
             [
              0.4444444444444444,
              "#bd3786"
             ],
             [
              0.5555555555555556,
              "#d8576b"
             ],
             [
              0.6666666666666666,
              "#ed7953"
             ],
             [
              0.7777777777777778,
              "#fb9f3a"
             ],
             [
              0.8888888888888888,
              "#fdca26"
             ],
             [
              1,
              "#f0f921"
             ]
            ],
            "type": "histogram2dcontour"
           }
          ],
          "mesh3d": [
           {
            "colorbar": {
             "outlinewidth": 0,
             "ticks": ""
            },
            "type": "mesh3d"
           }
          ],
          "parcoords": [
           {
            "line": {
             "colorbar": {
              "outlinewidth": 0,
              "ticks": ""
             }
            },
            "type": "parcoords"
           }
          ],
          "pie": [
           {
            "automargin": true,
            "type": "pie"
           }
          ],
          "scatter": [
           {
            "marker": {
             "colorbar": {
              "outlinewidth": 0,
              "ticks": ""
             }
            },
            "type": "scatter"
           }
          ],
          "scatter3d": [
           {
            "line": {
             "colorbar": {
              "outlinewidth": 0,
              "ticks": ""
             }
            },
            "marker": {
             "colorbar": {
              "outlinewidth": 0,
              "ticks": ""
             }
            },
            "type": "scatter3d"
           }
          ],
          "scattercarpet": [
           {
            "marker": {
             "colorbar": {
              "outlinewidth": 0,
              "ticks": ""
             }
            },
            "type": "scattercarpet"
           }
          ],
          "scattergeo": [
           {
            "marker": {
             "colorbar": {
              "outlinewidth": 0,
              "ticks": ""
             }
            },
            "type": "scattergeo"
           }
          ],
          "scattergl": [
           {
            "marker": {
             "colorbar": {
              "outlinewidth": 0,
              "ticks": ""
             }
            },
            "type": "scattergl"
           }
          ],
          "scattermapbox": [
           {
            "marker": {
             "colorbar": {
              "outlinewidth": 0,
              "ticks": ""
             }
            },
            "type": "scattermapbox"
           }
          ],
          "scatterpolar": [
           {
            "marker": {
             "colorbar": {
              "outlinewidth": 0,
              "ticks": ""
             }
            },
            "type": "scatterpolar"
           }
          ],
          "scatterpolargl": [
           {
            "marker": {
             "colorbar": {
              "outlinewidth": 0,
              "ticks": ""
             }
            },
            "type": "scatterpolargl"
           }
          ],
          "scatterternary": [
           {
            "marker": {
             "colorbar": {
              "outlinewidth": 0,
              "ticks": ""
             }
            },
            "type": "scatterternary"
           }
          ],
          "surface": [
           {
            "colorbar": {
             "outlinewidth": 0,
             "ticks": ""
            },
            "colorscale": [
             [
              0,
              "#0d0887"
             ],
             [
              0.1111111111111111,
              "#46039f"
             ],
             [
              0.2222222222222222,
              "#7201a8"
             ],
             [
              0.3333333333333333,
              "#9c179e"
             ],
             [
              0.4444444444444444,
              "#bd3786"
             ],
             [
              0.5555555555555556,
              "#d8576b"
             ],
             [
              0.6666666666666666,
              "#ed7953"
             ],
             [
              0.7777777777777778,
              "#fb9f3a"
             ],
             [
              0.8888888888888888,
              "#fdca26"
             ],
             [
              1,
              "#f0f921"
             ]
            ],
            "type": "surface"
           }
          ],
          "table": [
           {
            "cells": {
             "fill": {
              "color": "#EBF0F8"
             },
             "line": {
              "color": "white"
             }
            },
            "header": {
             "fill": {
              "color": "#C8D4E3"
             },
             "line": {
              "color": "white"
             }
            },
            "type": "table"
           }
          ]
         },
         "layout": {
          "annotationdefaults": {
           "arrowcolor": "#2a3f5f",
           "arrowhead": 0,
           "arrowwidth": 1
          },
          "autotypenumbers": "strict",
          "coloraxis": {
           "colorbar": {
            "outlinewidth": 0,
            "ticks": ""
           }
          },
          "colorscale": {
           "diverging": [
            [
             0,
             "#8e0152"
            ],
            [
             0.1,
             "#c51b7d"
            ],
            [
             0.2,
             "#de77ae"
            ],
            [
             0.3,
             "#f1b6da"
            ],
            [
             0.4,
             "#fde0ef"
            ],
            [
             0.5,
             "#f7f7f7"
            ],
            [
             0.6,
             "#e6f5d0"
            ],
            [
             0.7,
             "#b8e186"
            ],
            [
             0.8,
             "#7fbc41"
            ],
            [
             0.9,
             "#4d9221"
            ],
            [
             1,
             "#276419"
            ]
           ],
           "sequential": [
            [
             0,
             "#0d0887"
            ],
            [
             0.1111111111111111,
             "#46039f"
            ],
            [
             0.2222222222222222,
             "#7201a8"
            ],
            [
             0.3333333333333333,
             "#9c179e"
            ],
            [
             0.4444444444444444,
             "#bd3786"
            ],
            [
             0.5555555555555556,
             "#d8576b"
            ],
            [
             0.6666666666666666,
             "#ed7953"
            ],
            [
             0.7777777777777778,
             "#fb9f3a"
            ],
            [
             0.8888888888888888,
             "#fdca26"
            ],
            [
             1,
             "#f0f921"
            ]
           ],
           "sequentialminus": [
            [
             0,
             "#0d0887"
            ],
            [
             0.1111111111111111,
             "#46039f"
            ],
            [
             0.2222222222222222,
             "#7201a8"
            ],
            [
             0.3333333333333333,
             "#9c179e"
            ],
            [
             0.4444444444444444,
             "#bd3786"
            ],
            [
             0.5555555555555556,
             "#d8576b"
            ],
            [
             0.6666666666666666,
             "#ed7953"
            ],
            [
             0.7777777777777778,
             "#fb9f3a"
            ],
            [
             0.8888888888888888,
             "#fdca26"
            ],
            [
             1,
             "#f0f921"
            ]
           ]
          },
          "colorway": [
           "#636efa",
           "#EF553B",
           "#00cc96",
           "#ab63fa",
           "#FFA15A",
           "#19d3f3",
           "#FF6692",
           "#B6E880",
           "#FF97FF",
           "#FECB52"
          ],
          "font": {
           "color": "#2a3f5f"
          },
          "geo": {
           "bgcolor": "white",
           "lakecolor": "white",
           "landcolor": "#E5ECF6",
           "showlakes": true,
           "showland": true,
           "subunitcolor": "white"
          },
          "hoverlabel": {
           "align": "left"
          },
          "hovermode": "closest",
          "mapbox": {
           "style": "light"
          },
          "paper_bgcolor": "white",
          "plot_bgcolor": "#E5ECF6",
          "polar": {
           "angularaxis": {
            "gridcolor": "white",
            "linecolor": "white",
            "ticks": ""
           },
           "bgcolor": "#E5ECF6",
           "radialaxis": {
            "gridcolor": "white",
            "linecolor": "white",
            "ticks": ""
           }
          },
          "scene": {
           "xaxis": {
            "backgroundcolor": "#E5ECF6",
            "gridcolor": "white",
            "gridwidth": 2,
            "linecolor": "white",
            "showbackground": true,
            "ticks": "",
            "zerolinecolor": "white"
           },
           "yaxis": {
            "backgroundcolor": "#E5ECF6",
            "gridcolor": "white",
            "gridwidth": 2,
            "linecolor": "white",
            "showbackground": true,
            "ticks": "",
            "zerolinecolor": "white"
           },
           "zaxis": {
            "backgroundcolor": "#E5ECF6",
            "gridcolor": "white",
            "gridwidth": 2,
            "linecolor": "white",
            "showbackground": true,
            "ticks": "",
            "zerolinecolor": "white"
           }
          },
          "shapedefaults": {
           "line": {
            "color": "#2a3f5f"
           }
          },
          "ternary": {
           "aaxis": {
            "gridcolor": "white",
            "linecolor": "white",
            "ticks": ""
           },
           "baxis": {
            "gridcolor": "white",
            "linecolor": "white",
            "ticks": ""
           },
           "bgcolor": "#E5ECF6",
           "caxis": {
            "gridcolor": "white",
            "linecolor": "white",
            "ticks": ""
           }
          },
          "title": {
           "x": 0.05
          },
          "xaxis": {
           "automargin": true,
           "gridcolor": "white",
           "linecolor": "white",
           "ticks": "",
           "title": {
            "standoff": 15
           },
           "zerolinecolor": "white",
           "zerolinewidth": 2
          },
          "yaxis": {
           "automargin": true,
           "gridcolor": "white",
           "linecolor": "white",
           "ticks": "",
           "title": {
            "standoff": 15
           },
           "zerolinecolor": "white",
           "zerolinewidth": 2
          }
         }
        },
        "title": {
         "text": "Chromatin accessibility Levels of CD8A promoter Across Cell Types",
         "x": 0.5,
         "xanchor": "center",
         "y": 0.95,
         "yanchor": "top"
        },
        "width": 600,
        "xaxis": {
         "anchor": "y",
         "domain": [
          0,
          1
         ],
         "title": {
          "text": "Cell Type"
         }
        },
        "yaxis": {
         "anchor": "x",
         "domain": [
          0,
          1
         ],
         "title": {
          "text": "Accessibility Level"
         }
        }
       }
      },
      "text/html": [
       "<div>                            <div id=\"2f610cda-eeff-4e8c-bf96-e1694e53ee90\" class=\"plotly-graph-div\" style=\"height:700px; width:600px;\"></div>            <script type=\"text/javascript\">                require([\"plotly\"], function(Plotly) {                    window.PLOTLYENV=window.PLOTLYENV || {};                                    if (document.getElementById(\"2f610cda-eeff-4e8c-bf96-e1694e53ee90\")) {                    Plotly.newPlot(                        \"2f610cda-eeff-4e8c-bf96-e1694e53ee90\",                        [{\"alignmentgroup\":\"True\",\"boxpoints\":\"all\",\"fillcolor\":\"rgba(255,255,255,0)\",\"hoveron\":\"points\",\"hovertemplate\":\"<b>%{hovertext}</b><br><br>condition=healthy<br>Cell Type=%{x}<br>Accessibility Level=%{y}<extra></extra>\",\"hovertext\":[\"NRHV151CD4\",\"NRHV151CD8\",\"NRHV321CD4\",\"NRHV321CD8\",\"NRHV238CD4\",\"NRHV238CD8\",\"NRHV326CD8\",\"NRHV171CD4\",\"NRHV171CD8\",\"NRHV324CD4\",\"NRHV086CD4\",\"NRHV086CD8\",\"NRHV121CD4\",\"NRHV121CD8\",\"NRHV322CD4\",\"NRHV322CD8\",\"NRHV324CD8\",\"NRHV073CD4\",\"NRHV073CD8\",\"NRHV079CD4\",\"NRHV079CD8\",\"NRHV168CD4\",\"NRHV290CD4\",\"NRHV295CD4\",\"NRHV295CD8\",\"NRHV332CD8\",\"NRHV168CD8\",\"NRHV290CD8\",\"NRHV326CD4\",\"NRHV332CD4\",\"NRHV014XCD4\",\"NRHV014XCD8\",\"NRHV325CD4\",\"NRHV325CD8\"],\"legendgroup\":\"healthy\",\"line\":{\"color\":\"rgba(255,255,255,0)\"},\"marker\":{\"color\":\"#00cc96\",\"line\":{\"color\":\"DarkSlateGrey\",\"width\":1},\"opacity\":0.8,\"size\":8},\"name\":\"healthy\",\"offsetgroup\":\"healthy\",\"orientation\":\"v\",\"pointpos\":0,\"showlegend\":true,\"x\":[\"CD4\",\"CD8\",\"CD4\",\"CD8\",\"CD4\",\"CD8\",\"CD8\",\"CD4\",\"CD8\",\"CD4\",\"CD4\",\"CD8\",\"CD4\",\"CD8\",\"CD4\",\"CD8\",\"CD8\",\"CD4\",\"CD8\",\"CD4\",\"CD8\",\"CD4\",\"CD4\",\"CD4\",\"CD8\",\"CD8\",\"CD8\",\"CD8\",\"CD4\",\"CD4\",\"CD4\",\"CD8\",\"CD4\",\"CD8\"],\"x0\":\" \",\"xaxis\":\"x\",\"y\":[53.26190559401842,729.1181917558753,57.05257453265169,548.2152293923261,43.23468031085607,647.4899560254441,973.3392524159476,78.37981013046536,921.3180550290874,51.63826822944939,62.41709964487484,919.8786669582272,43.97353456535826,758.3051176439418,58.70229139694422,802.3001823339937,834.7689495289787,40.01588169154515,596.3516221213446,35.535243479108075,818.6213859385111,38.10232402612014,42.47671681076653,223.2059956187369,905.4526306322318,684.7347142144135,736.861414077121,753.2242020812733,52.56671499485445,65.19608072597532,54.94861710218295,844.3446102553522,51.651772900350814,763.0489968764714],\"y0\":\" \",\"yaxis\":\"y\",\"type\":\"box\"},{\"alignmentgroup\":\"True\",\"boxpoints\":\"all\",\"fillcolor\":\"rgba(255,255,255,0)\",\"hoveron\":\"points\",\"hovertemplate\":\"<b>%{hovertext}</b><br><br>condition=patient<br>Cell Type=%{x}<br>Accessibility Level=%{y}<extra></extra>\",\"hovertext\":[\"PSA4920CD4\",\"PSA4945CD8\",\"PSA4948CD8\",\"PSA4953CD8\",\"PSA4960CD8\",\"PSA4944CD4\",\"PSA4947CD8\",\"PSA4949CD4\",\"PSA4954CD8\",\"PSA4963CD8\",\"PSA4950CD4\",\"PSA4961CD8\",\"PSA4964CD8\",\"PSA5012CD4\",\"PSA4920CD8\",\"PSA4952CD8\",\"PSA4963CD4\",\"PSA5008CD4\",\"PSA5012CD8\",\"PSA4941CD8\",\"PSA4944CD8\",\"PSA4946CD8\",\"PSA4952CD4\",\"PSA4954CD4\",\"PSA4962CD8\",\"PSA4964CD4\",\"PSA4965CD8\",\"PSA4969CD8\",\"PSA5008CD8\",\"PSA5014CD4\",\"PSA5014CD8\",\"PSA5019CD8\",\"PSA4950CD8\",\"PSA4958CD4\",\"PSA4958CD8\",\"PSA5009CD4\",\"PSA5010CD4\",\"PSA5010CD8\",\"PSA5018CD4\",\"PSA5018CD8\",\"PSA5023CD8\",\"PSA5026CD4\",\"PSA5026CD8\",\"PSA4956CD4\",\"PSA4956CD8\",\"PSA4968CD8\",\"PSA5007CD8\",\"PSA5009CD8\",\"PSA5013CD8\",\"PSA5013CD4\",\"PSA5015CD8\",\"PSA5020CD8\",\"PSA5021CD8\",\"PSA5022CD8\",\"PSA5024CD8\",\"PSA5036CD4\",\"PSA5036CD8\",\"PSA4947CD4\",\"PSA4957CD4\",\"PSA4959CD4\",\"PSA5006CD8\",\"PSA5019CD4\",\"PSA5021CD4\",\"PSA5040CD8\",\"PSA4945CD4\",\"PSA4949CD8\",\"PSA4951CD4\",\"PSA4951CD8\",\"PSA4959CD8\",\"PSA5017CD4\",\"PSA5017CD8\",\"PSA5037CD4\",\"PSA5039CD8\",\"PSA4967CD4\",\"PSA4968CD4\",\"PSA5006CD4\",\"PSA5007CD4\",\"PSA4955CD8\",\"PSA4962CD4\",\"PSA4966CD8\",\"PSA5037CD8\",\"PSA5040CD4\"],\"legendgroup\":\"patient\",\"line\":{\"color\":\"rgba(255,255,255,0)\"},\"marker\":{\"color\":\"#ab63fa\",\"line\":{\"color\":\"DarkSlateGrey\",\"width\":1},\"opacity\":0.8,\"size\":8},\"name\":\"patient\",\"offsetgroup\":\"patient\",\"orientation\":\"v\",\"pointpos\":0,\"showlegend\":true,\"x\":[\"CD4\",\"CD8\",\"CD8\",\"CD8\",\"CD8\",\"CD4\",\"CD8\",\"CD4\",\"CD8\",\"CD8\",\"CD4\",\"CD8\",\"CD8\",\"CD4\",\"CD8\",\"CD8\",\"CD4\",\"CD4\",\"CD8\",\"CD8\",\"CD8\",\"CD8\",\"CD4\",\"CD4\",\"CD8\",\"CD4\",\"CD8\",\"CD8\",\"CD8\",\"CD4\",\"CD8\",\"CD8\",\"CD8\",\"CD4\",\"CD8\",\"CD4\",\"CD4\",\"CD8\",\"CD4\",\"CD8\",\"CD8\",\"CD4\",\"CD8\",\"CD4\",\"CD8\",\"CD8\",\"CD8\",\"CD8\",\"CD8\",\"CD4\",\"CD8\",\"CD8\",\"CD8\",\"CD8\",\"CD8\",\"CD4\",\"CD8\",\"CD4\",\"CD4\",\"CD4\",\"CD8\",\"CD4\",\"CD4\",\"CD8\",\"CD4\",\"CD8\",\"CD4\",\"CD8\",\"CD8\",\"CD4\",\"CD8\",\"CD4\",\"CD8\",\"CD4\",\"CD4\",\"CD4\",\"CD4\",\"CD8\",\"CD4\",\"CD8\",\"CD8\",\"CD4\"],\"x0\":\" \",\"xaxis\":\"x\",\"y\":[52.98777075484235,853.7401394807544,758.6531051838932,677.9024714528257,723.0229308729721,53.9828126312867,560.4142484063984,71.05849278566276,797.4569817696225,750.4060397405009,55.17173461638627,1017.472503113578,833.3157685936377,62.1822575953512,828.7568233354759,749.2929726528624,37.127995339219176,56.828804638977246,707.1359490965618,826.9721821187082,963.4516257979374,831.9389111799775,50.34692755668191,63.49941615737728,759.0337651205144,50.23767479631817,732.6584428947423,703.4461095712412,844.5768388656177,72.8695587296502,832.9890864217878,770.1932458774089,690.6044309471191,72.03070286187906,766.694108253258,55.742264663187285,47.96980981977949,698.7676619757476,53.7482599381303,727.2862097973948,898.3064920923111,51.62033948587765,696.7623691250632,44.17608837913011,673.797461684638,738.159188962842,861.9442870604195,852.5343440521091,709.8614389367274,52.76098437160344,662.8081504550092,816.6936180957476,978.3647895309664,758.4029198685993,716.3222413588435,63.092880634622034,975.8719063064582,56.3448098676987,45.82468539373182,61.99215102471504,945.8901098641664,40.614829970801466,33.7568833578803,546.5103859069344,124.47270733998384,775.1926255437468,43.93661400561905,841.9478645405424,647.6096932836429,44.722703358924505,801.3160229320201,64.17159830006223,654.3638959695804,54.58067179603269,53.156797954696366,42.11853965656304,41.82365694585677,503.5992079574114,79.49128125758311,652.0246522543916,820.7358180882192,46.31907771076601],\"y0\":\" \",\"yaxis\":\"y\",\"type\":\"box\"},{\"alignmentgroup\":\"True\",\"boxpoints\":\"all\",\"fillcolor\":\"rgba(255,255,255,0)\",\"hoveron\":\"points\",\"hovertemplate\":\"<b>%{hovertext}</b><br><br>condition=synovium<br>Cell Type=%{x}<br>Accessibility Level=%{y}<extra></extra>\",\"hovertext\":[\"PSA4969CD8_SF\",\"PSA5040CD8_SF\",\"PSA5025CD8_SF\",\"PSA4917CD4_SF\",\"PSA4917CD8_SF\",\"PSA4918CD8_SF\",\"PSA4951CD4_SF\",\"PSA4958CD8_SF\",\"PSA4942CD8_SF\",\"PSA4958CD4_SF\"],\"legendgroup\":\"synovium\",\"line\":{\"color\":\"rgba(255,255,255,0)\"},\"marker\":{\"color\":\"#FFA15A\",\"line\":{\"color\":\"DarkSlateGrey\",\"width\":1},\"opacity\":0.8,\"size\":8},\"name\":\"synovium\",\"offsetgroup\":\"synovium\",\"orientation\":\"v\",\"pointpos\":0,\"showlegend\":true,\"x\":[\"CD8\",\"CD8\",\"CD8\",\"CD4\",\"CD8\",\"CD8\",\"CD4\",\"CD8\",\"CD8\",\"CD4\"],\"x0\":\" \",\"xaxis\":\"x\",\"y\":[813.6173423876492,868.5298904760585,755.5977273236797,40.27007682598758,743.0629784198499,817.5130214606718,40.27619327144004,597.7676598500248,609.5509145415715,59.05878798284435],\"y0\":\" \",\"yaxis\":\"y\",\"type\":\"box\"}],                        {\"template\":{\"data\":{\"bar\":[{\"error_x\":{\"color\":\"#2a3f5f\"},\"error_y\":{\"color\":\"#2a3f5f\"},\"marker\":{\"line\":{\"color\":\"#E5ECF6\",\"width\":0.5},\"pattern\":{\"fillmode\":\"overlay\",\"size\":10,\"solidity\":0.2}},\"type\":\"bar\"}],\"barpolar\":[{\"marker\":{\"line\":{\"color\":\"#E5ECF6\",\"width\":0.5},\"pattern\":{\"fillmode\":\"overlay\",\"size\":10,\"solidity\":0.2}},\"type\":\"barpolar\"}],\"carpet\":[{\"aaxis\":{\"endlinecolor\":\"#2a3f5f\",\"gridcolor\":\"white\",\"linecolor\":\"white\",\"minorgridcolor\":\"white\",\"startlinecolor\":\"#2a3f5f\"},\"baxis\":{\"endlinecolor\":\"#2a3f5f\",\"gridcolor\":\"white\",\"linecolor\":\"white\",\"minorgridcolor\":\"white\",\"startlinecolor\":\"#2a3f5f\"},\"type\":\"carpet\"}],\"choropleth\":[{\"colorbar\":{\"outlinewidth\":0,\"ticks\":\"\"},\"type\":\"choropleth\"}],\"contour\":[{\"colorbar\":{\"outlinewidth\":0,\"ticks\":\"\"},\"colorscale\":[[0.0,\"#0d0887\"],[0.1111111111111111,\"#46039f\"],[0.2222222222222222,\"#7201a8\"],[0.3333333333333333,\"#9c179e\"],[0.4444444444444444,\"#bd3786\"],[0.5555555555555556,\"#d8576b\"],[0.6666666666666666,\"#ed7953\"],[0.7777777777777778,\"#fb9f3a\"],[0.8888888888888888,\"#fdca26\"],[1.0,\"#f0f921\"]],\"type\":\"contour\"}],\"contourcarpet\":[{\"colorbar\":{\"outlinewidth\":0,\"ticks\":\"\"},\"type\":\"contourcarpet\"}],\"heatmap\":[{\"colorbar\":{\"outlinewidth\":0,\"ticks\":\"\"},\"colorscale\":[[0.0,\"#0d0887\"],[0.1111111111111111,\"#46039f\"],[0.2222222222222222,\"#7201a8\"],[0.3333333333333333,\"#9c179e\"],[0.4444444444444444,\"#bd3786\"],[0.5555555555555556,\"#d8576b\"],[0.6666666666666666,\"#ed7953\"],[0.7777777777777778,\"#fb9f3a\"],[0.8888888888888888,\"#fdca26\"],[1.0,\"#f0f921\"]],\"type\":\"heatmap\"}],\"heatmapgl\":[{\"colorbar\":{\"outlinewidth\":0,\"ticks\":\"\"},\"colorscale\":[[0.0,\"#0d0887\"],[0.1111111111111111,\"#46039f\"],[0.2222222222222222,\"#7201a8\"],[0.3333333333333333,\"#9c179e\"],[0.4444444444444444,\"#bd3786\"],[0.5555555555555556,\"#d8576b\"],[0.6666666666666666,\"#ed7953\"],[0.7777777777777778,\"#fb9f3a\"],[0.8888888888888888,\"#fdca26\"],[1.0,\"#f0f921\"]],\"type\":\"heatmapgl\"}],\"histogram\":[{\"marker\":{\"pattern\":{\"fillmode\":\"overlay\",\"size\":10,\"solidity\":0.2}},\"type\":\"histogram\"}],\"histogram2d\":[{\"colorbar\":{\"outlinewidth\":0,\"ticks\":\"\"},\"colorscale\":[[0.0,\"#0d0887\"],[0.1111111111111111,\"#46039f\"],[0.2222222222222222,\"#7201a8\"],[0.3333333333333333,\"#9c179e\"],[0.4444444444444444,\"#bd3786\"],[0.5555555555555556,\"#d8576b\"],[0.6666666666666666,\"#ed7953\"],[0.7777777777777778,\"#fb9f3a\"],[0.8888888888888888,\"#fdca26\"],[1.0,\"#f0f921\"]],\"type\":\"histogram2d\"}],\"histogram2dcontour\":[{\"colorbar\":{\"outlinewidth\":0,\"ticks\":\"\"},\"colorscale\":[[0.0,\"#0d0887\"],[0.1111111111111111,\"#46039f\"],[0.2222222222222222,\"#7201a8\"],[0.3333333333333333,\"#9c179e\"],[0.4444444444444444,\"#bd3786\"],[0.5555555555555556,\"#d8576b\"],[0.6666666666666666,\"#ed7953\"],[0.7777777777777778,\"#fb9f3a\"],[0.8888888888888888,\"#fdca26\"],[1.0,\"#f0f921\"]],\"type\":\"histogram2dcontour\"}],\"mesh3d\":[{\"colorbar\":{\"outlinewidth\":0,\"ticks\":\"\"},\"type\":\"mesh3d\"}],\"parcoords\":[{\"line\":{\"colorbar\":{\"outlinewidth\":0,\"ticks\":\"\"}},\"type\":\"parcoords\"}],\"pie\":[{\"automargin\":true,\"type\":\"pie\"}],\"scatter\":[{\"marker\":{\"colorbar\":{\"outlinewidth\":0,\"ticks\":\"\"}},\"type\":\"scatter\"}],\"scatter3d\":[{\"line\":{\"colorbar\":{\"outlinewidth\":0,\"ticks\":\"\"}},\"marker\":{\"colorbar\":{\"outlinewidth\":0,\"ticks\":\"\"}},\"type\":\"scatter3d\"}],\"scattercarpet\":[{\"marker\":{\"colorbar\":{\"outlinewidth\":0,\"ticks\":\"\"}},\"type\":\"scattercarpet\"}],\"scattergeo\":[{\"marker\":{\"colorbar\":{\"outlinewidth\":0,\"ticks\":\"\"}},\"type\":\"scattergeo\"}],\"scattergl\":[{\"marker\":{\"colorbar\":{\"outlinewidth\":0,\"ticks\":\"\"}},\"type\":\"scattergl\"}],\"scattermapbox\":[{\"marker\":{\"colorbar\":{\"outlinewidth\":0,\"ticks\":\"\"}},\"type\":\"scattermapbox\"}],\"scatterpolar\":[{\"marker\":{\"colorbar\":{\"outlinewidth\":0,\"ticks\":\"\"}},\"type\":\"scatterpolar\"}],\"scatterpolargl\":[{\"marker\":{\"colorbar\":{\"outlinewidth\":0,\"ticks\":\"\"}},\"type\":\"scatterpolargl\"}],\"scatterternary\":[{\"marker\":{\"colorbar\":{\"outlinewidth\":0,\"ticks\":\"\"}},\"type\":\"scatterternary\"}],\"surface\":[{\"colorbar\":{\"outlinewidth\":0,\"ticks\":\"\"},\"colorscale\":[[0.0,\"#0d0887\"],[0.1111111111111111,\"#46039f\"],[0.2222222222222222,\"#7201a8\"],[0.3333333333333333,\"#9c179e\"],[0.4444444444444444,\"#bd3786\"],[0.5555555555555556,\"#d8576b\"],[0.6666666666666666,\"#ed7953\"],[0.7777777777777778,\"#fb9f3a\"],[0.8888888888888888,\"#fdca26\"],[1.0,\"#f0f921\"]],\"type\":\"surface\"}],\"table\":[{\"cells\":{\"fill\":{\"color\":\"#EBF0F8\"},\"line\":{\"color\":\"white\"}},\"header\":{\"fill\":{\"color\":\"#C8D4E3\"},\"line\":{\"color\":\"white\"}},\"type\":\"table\"}]},\"layout\":{\"annotationdefaults\":{\"arrowcolor\":\"#2a3f5f\",\"arrowhead\":0,\"arrowwidth\":1},\"autotypenumbers\":\"strict\",\"coloraxis\":{\"colorbar\":{\"outlinewidth\":0,\"ticks\":\"\"}},\"colorscale\":{\"diverging\":[[0,\"#8e0152\"],[0.1,\"#c51b7d\"],[0.2,\"#de77ae\"],[0.3,\"#f1b6da\"],[0.4,\"#fde0ef\"],[0.5,\"#f7f7f7\"],[0.6,\"#e6f5d0\"],[0.7,\"#b8e186\"],[0.8,\"#7fbc41\"],[0.9,\"#4d9221\"],[1,\"#276419\"]],\"sequential\":[[0.0,\"#0d0887\"],[0.1111111111111111,\"#46039f\"],[0.2222222222222222,\"#7201a8\"],[0.3333333333333333,\"#9c179e\"],[0.4444444444444444,\"#bd3786\"],[0.5555555555555556,\"#d8576b\"],[0.6666666666666666,\"#ed7953\"],[0.7777777777777778,\"#fb9f3a\"],[0.8888888888888888,\"#fdca26\"],[1.0,\"#f0f921\"]],\"sequentialminus\":[[0.0,\"#0d0887\"],[0.1111111111111111,\"#46039f\"],[0.2222222222222222,\"#7201a8\"],[0.3333333333333333,\"#9c179e\"],[0.4444444444444444,\"#bd3786\"],[0.5555555555555556,\"#d8576b\"],[0.6666666666666666,\"#ed7953\"],[0.7777777777777778,\"#fb9f3a\"],[0.8888888888888888,\"#fdca26\"],[1.0,\"#f0f921\"]]},\"colorway\":[\"#636efa\",\"#EF553B\",\"#00cc96\",\"#ab63fa\",\"#FFA15A\",\"#19d3f3\",\"#FF6692\",\"#B6E880\",\"#FF97FF\",\"#FECB52\"],\"font\":{\"color\":\"#2a3f5f\"},\"geo\":{\"bgcolor\":\"white\",\"lakecolor\":\"white\",\"landcolor\":\"#E5ECF6\",\"showlakes\":true,\"showland\":true,\"subunitcolor\":\"white\"},\"hoverlabel\":{\"align\":\"left\"},\"hovermode\":\"closest\",\"mapbox\":{\"style\":\"light\"},\"paper_bgcolor\":\"white\",\"plot_bgcolor\":\"#E5ECF6\",\"polar\":{\"angularaxis\":{\"gridcolor\":\"white\",\"linecolor\":\"white\",\"ticks\":\"\"},\"bgcolor\":\"#E5ECF6\",\"radialaxis\":{\"gridcolor\":\"white\",\"linecolor\":\"white\",\"ticks\":\"\"}},\"scene\":{\"xaxis\":{\"backgroundcolor\":\"#E5ECF6\",\"gridcolor\":\"white\",\"gridwidth\":2,\"linecolor\":\"white\",\"showbackground\":true,\"ticks\":\"\",\"zerolinecolor\":\"white\"},\"yaxis\":{\"backgroundcolor\":\"#E5ECF6\",\"gridcolor\":\"white\",\"gridwidth\":2,\"linecolor\":\"white\",\"showbackground\":true,\"ticks\":\"\",\"zerolinecolor\":\"white\"},\"zaxis\":{\"backgroundcolor\":\"#E5ECF6\",\"gridcolor\":\"white\",\"gridwidth\":2,\"linecolor\":\"white\",\"showbackground\":true,\"ticks\":\"\",\"zerolinecolor\":\"white\"}},\"shapedefaults\":{\"line\":{\"color\":\"#2a3f5f\"}},\"ternary\":{\"aaxis\":{\"gridcolor\":\"white\",\"linecolor\":\"white\",\"ticks\":\"\"},\"baxis\":{\"gridcolor\":\"white\",\"linecolor\":\"white\",\"ticks\":\"\"},\"bgcolor\":\"#E5ECF6\",\"caxis\":{\"gridcolor\":\"white\",\"linecolor\":\"white\",\"ticks\":\"\"}},\"title\":{\"x\":0.05},\"xaxis\":{\"automargin\":true,\"gridcolor\":\"white\",\"linecolor\":\"white\",\"ticks\":\"\",\"title\":{\"standoff\":15},\"zerolinecolor\":\"white\",\"zerolinewidth\":2},\"yaxis\":{\"automargin\":true,\"gridcolor\":\"white\",\"linecolor\":\"white\",\"ticks\":\"\",\"title\":{\"standoff\":15},\"zerolinecolor\":\"white\",\"zerolinewidth\":2}}},\"xaxis\":{\"anchor\":\"y\",\"domain\":[0.0,1.0],\"title\":{\"text\":\"Cell Type\"}},\"yaxis\":{\"anchor\":\"x\",\"domain\":[0.0,1.0],\"title\":{\"text\":\"Accessibility Level\"}},\"legend\":{\"title\":{\"text\":\"Condition\"},\"tracegroupgap\":0,\"orientation\":\"h\",\"yanchor\":\"bottom\",\"y\":1.02,\"xanchor\":\"right\",\"x\":1},\"title\":{\"text\":\"Chromatin accessibility Levels of CD8A promoter Across Cell Types\",\"y\":0.95,\"x\":0.5,\"xanchor\":\"center\",\"yanchor\":\"top\"},\"boxmode\":\"group\",\"width\":600,\"height\":700,\"font\":{\"family\":\"Arial, sans-serif\",\"size\":16}},                        {\"responsive\": true}                    ).then(function(){\n",
       "                            \n",
       "var gd = document.getElementById('2f610cda-eeff-4e8c-bf96-e1694e53ee90');\n",
       "var x = new MutationObserver(function (mutations, observer) {{\n",
       "        var display = window.getComputedStyle(gd).display;\n",
       "        if (!display || display === 'none') {{\n",
       "            console.log([gd, 'removed!']);\n",
       "            Plotly.purge(gd);\n",
       "            observer.disconnect();\n",
       "        }}\n",
       "}});\n",
       "\n",
       "// Listen for the removal of the full notebook cells\n",
       "var notebookContainer = gd.closest('#notebook-container');\n",
       "if (notebookContainer) {{\n",
       "    x.observe(notebookContainer, {childList: true});\n",
       "}}\n",
       "\n",
       "// Listen for the clearing of the current output cell\n",
       "var outputEl = gd.closest('.output');\n",
       "if (outputEl) {{\n",
       "    x.observe(outputEl, {childList: true});\n",
       "}}\n",
       "\n",
       "                        })                };                });            </script>        </div>"
      ]
     },
     "metadata": {},
     "output_type": "display_data"
    }
   ],
   "source": [
    "counts = counts_table.loc[\"chr2:86790705-86791205\"].T\n",
    "df = pd.DataFrame(counts).merge(metadata_ATAC[[\"id\", \"cell_type\", 'condition','proper_name']], left_index = True, right_on = \"id\")\n",
    "df.columns = [\"gene\", \"id\", \"cell_type\",'condition','proper_name']\n",
    "df = df.replace([\"CD4_SF\", \"CD8_SF\"], [\"CD4\", \"CD8\"])\n",
    "# Create the strip plot\n",
    "fig = px.strip(df, x=\"cell_type\", y=\"gene\", color=\"condition\",\n",
    "               hover_name=\"proper_name\",\n",
    "               color_discrete_map={\"Healthy\": \"blue\", \"Diseased\": \"red\"},\n",
    "               title=f'Chromatin accessibility Levels of CD8A promoter Across Cell Types',\n",
    "               labels={\"cell_type\": \"Cell Type\", \"gene\": \"Accessibility Level\"})\n",
    "\n",
    "# Customizing the marker appearance\n",
    "fig.update_traces(marker=dict(size=8, opacity=0.8, line=dict(width=1, color='DarkSlateGrey')))\n",
    "fig.update_layout(\n",
    "    width=600,  # Set the width of the figure in pixels\n",
    "    height=700  # Set the height of the figure in pixels\n",
    ")\n",
    "# Enhancing layout\n",
    "fig.update_layout(\n",
    "    title={'text': f'Chromatin accessibility Levels of CD8A promoter Across Cell Types', 'y':0.95, 'x':0.5, 'xanchor': 'center', 'yanchor': 'top'},\n",
    "    xaxis_title=\"Cell Type\",\n",
    "    yaxis_title=\"Accessibility Level\",\n",
    "    legend_title=\"Condition\",\n",
    "    font=dict(family=\"Arial, sans-serif\", size=16),\n",
    "    legend=dict(orientation=\"h\", yanchor=\"bottom\", y=1.02, xanchor=\"right\", x=1)\n",
    ")\n",
    "\n",
    "# Show the plot\n",
    "fig.show()\n",
    "fig.write_image(f\"/mnt/iusers01/jw01/mdefscs4/psa_functional_genomics/PsA_reviewers_analysis/other_figs/expression_ATAC_CD8A.svg\")"
   ]
  },
  {
   "cell_type": "code",
   "execution_count": 4,
   "metadata": {},
   "outputs": [],
   "source": [
    "import umap\n",
    "reducer = umap.UMAP(n_components = 2)\n",
    "latent_rep = reducer.fit_transform(ATAC_normalised_counts.iloc[:,3:].T)"
   ]
  },
  {
   "cell_type": "code",
   "execution_count": 10,
   "metadata": {},
   "outputs": [],
   "source": [
    "rep = metadata_ATAC.copy()\n",
    "rep[\"X\"] = latent_rep[:,0]\n",
    "rep[\"Y\"] = latent_rep[:,1]"
   ]
  },
  {
   "cell_type": "code",
   "execution_count": 13,
   "metadata": {},
   "outputs": [
    {
     "data": {
      "application/vnd.plotly.v1+json": {
       "config": {
        "plotlyServerURL": "https://plot.ly"
       },
       "data": [
        {
         "hovertemplate": "<b>%{hovertext}</b><br><br>cell_type=CD4<br>female_sex=1.0<br>X=%{x}<br>Y=%{y}<extra></extra>",
         "hovertext": [
          "NRHV151CD4",
          "PSA5019CD4",
          "PSA4957CD4",
          "PSA4947CD4",
          "NRHV322CD4",
          "NRHV121CD4",
          "PSA5026CD4",
          "PSA5018CD4",
          "PSA5010CD4",
          "PSA5009CD4",
          "NRHV073CD4",
          "PSA4962CD4",
          "PSA4967CD4",
          "NRHV325CD4",
          "NRHV014XCD4",
          "PSA5017CD4",
          "PSA4951CD4",
          "NRHV326CD4",
          "NRHV290CD4",
          "PSA5040CD4",
          "PSA4944CD4",
          "PSA4950CD4",
          "NRHV238CD4",
          "PSA5008CD4",
          "PSA4954CD4",
          "PSA5014CD4",
          "NRHV321CD4",
          "PSA4964CD4"
         ],
         "legendgroup": "CD4, 1.0",
         "marker": {
          "color": "#636efa",
          "opacity": 0.8,
          "size": 10,
          "symbol": "circle"
         },
         "mode": "markers",
         "name": "CD4, 1.0",
         "orientation": "v",
         "showlegend": true,
         "type": "scatter",
         "x": [
          7.219717502593994,
          7.754815101623535,
          7.498604774475098,
          7.111443519592285,
          7.524206638336182,
          7.398902416229248,
          7.2187066078186035,
          5.747987747192383,
          6.988607406616211,
          6.065436363220215,
          5.697813510894775,
          6.605010986328125,
          6.819356441497803,
          7.366659164428711,
          7.042436122894287,
          7.583159923553467,
          6.9350786209106445,
          7.844392776489258,
          6.94417142868042,
          7.399082183837891,
          7.499905586242676,
          7.202083110809326,
          6.11347770690918,
          6.580287456512451,
          6.587561130523682,
          6.192488193511963,
          7.981259822845459,
          7.5777363777160645
         ],
         "xaxis": "x",
         "y": [
          14.139142990112305,
          15.223503112792969,
          16.308197021484375,
          15.708732604980469,
          15.574299812316895,
          16.0862979888916,
          15.272744178771973,
          14.9181489944458,
          16.02448272705078,
          14.951852798461914,
          15.02092456817627,
          15.973065376281738,
          16.43796730041504,
          16.4986515045166,
          16.45700454711914,
          15.135615348815918,
          15.053681373596191,
          16.187898635864258,
          15.976922988891602,
          16.547544479370117,
          13.76279354095459,
          14.898670196533203,
          14.786967277526855,
          14.457756996154785,
          14.751859664916992,
          14.482873916625977,
          15.78864860534668,
          15.701069831848145
         ],
         "yaxis": "y"
        },
        {
         "hovertemplate": "<b>%{hovertext}</b><br><br>cell_type=CD4<br>female_sex=0.0<br>X=%{x}<br>Y=%{y}<extra></extra>",
         "hovertext": [
          "PSA4959CD4",
          "NRHV086CD4",
          "PSA5036CD4",
          "PSA5013CD4",
          "PSA4956CD4",
          "PSA4958CD4",
          "PSA5021CD4",
          "NRHV324CD4",
          "NRHV168CD4",
          "PSA5007CD4",
          "PSA5006CD4",
          "PSA4968CD4",
          "PSA5037CD4",
          "PSA4945CD4",
          "NRHV332CD4",
          "NRHV295CD4",
          "NRHV079CD4",
          "NRHV171CD4",
          "PSA4963CD4",
          "PSA4949CD4",
          "PSA5012CD4",
          "PSA4952CD4",
          "PSA4920CD4"
         ],
         "legendgroup": "CD4, 0.0",
         "marker": {
          "color": "#636efa",
          "opacity": 0.8,
          "size": 10,
          "symbol": "diamond"
         },
         "mode": "markers",
         "name": "CD4, 0.0",
         "orientation": "v",
         "showlegend": true,
         "type": "scatter",
         "x": [
          5.832574844360352,
          7.95525598526001,
          7.80629301071167,
          7.343874454498291,
          7.7704596519470215,
          7.013383388519287,
          6.922044277191162,
          6.00696325302124,
          7.5630364418029785,
          7.657275199890137,
          7.973723888397217,
          7.246236324310303,
          6.159890651702881,
          6.633013725280762,
          5.951247215270996,
          5.645654678344727,
          7.845489978790283,
          6.42543888092041,
          6.712643623352051,
          7.302513122558594,
          5.9782819747924805,
          6.839463233947754,
          7.182394504547119
         ],
         "xaxis": "x",
         "y": [
          14.112441062927246,
          16.342605590820312,
          16.125301361083984,
          15.447799682617188,
          16.22724151611328,
          14.391937255859375,
          15.515652656555176,
          14.653741836547852,
          16.728944778442383,
          16.10719108581543,
          15.532525062561035,
          16.564502716064453,
          15.109390258789062,
          15.834181785583496,
          15.209197998046875,
          14.620773315429688,
          16.55385398864746,
          14.909684181213379,
          14.875350952148438,
          14.248299598693848,
          14.056303977966309,
          15.102863311767578,
          14.121667861938477
         ],
         "yaxis": "y"
        },
        {
         "hovertemplate": "<b>%{hovertext}</b><br><br>cell_type=CD4_SF<br>female_sex=1.0<br>X=%{x}<br>Y=%{y}<extra></extra>",
         "hovertext": [
          "PSA4951CD4_SF",
          "PSA4917CD4_SF"
         ],
         "legendgroup": "CD4_SF, 1.0",
         "marker": {
          "color": "#EF553B",
          "opacity": 0.8,
          "size": 10,
          "symbol": "circle"
         },
         "mode": "markers",
         "name": "CD4_SF, 1.0",
         "orientation": "v",
         "showlegend": true,
         "type": "scatter",
         "x": [
          5.2425127029418945,
          5.167625904083252
         ],
         "xaxis": "x",
         "y": [
          8.808999061584473,
          8.75786304473877
         ],
         "yaxis": "y"
        },
        {
         "hovertemplate": "<b>%{hovertext}</b><br><br>cell_type=CD4_SF<br>female_sex=0.0<br>X=%{x}<br>Y=%{y}<extra></extra>",
         "hovertext": [
          "PSA4958CD4_SF"
         ],
         "legendgroup": "CD4_SF, 0.0",
         "marker": {
          "color": "#EF553B",
          "opacity": 0.8,
          "size": 10,
          "symbol": "diamond"
         },
         "mode": "markers",
         "name": "CD4_SF, 0.0",
         "orientation": "v",
         "showlegend": true,
         "type": "scatter",
         "x": [
          5.374983787536621
         ],
         "xaxis": "x",
         "y": [
          8.974884986877441
         ],
         "yaxis": "y"
        },
        {
         "hovertemplate": "<b>%{hovertext}</b><br><br>cell_type=CD8<br>female_sex=1.0<br>X=%{x}<br>Y=%{y}<extra></extra>",
         "hovertext": [
          "NRHV014XCD8",
          "NRHV073CD8",
          "PSA4961CD8",
          "PSA4966CD8",
          "NRHV151CD8",
          "NRHV238CD8",
          "PSA5040CD8",
          "PSA4948CD8",
          "NRHV290CD8",
          "PSA4954CD8",
          "NRHV325CD8",
          "PSA4947CD8",
          "PSA4951CD8",
          "PSA4953CD8",
          "PSA5017CD8",
          "NRHV321CD8",
          "PSA5014CD8",
          "PSA4964CD8",
          "NRHV326CD8",
          "PSA5026CD8",
          "PSA5018CD8",
          "PSA4962CD8",
          "PSA5010CD8",
          "PSA4965CD8",
          "PSA4969CD8",
          "PSA4950CD8",
          "PSA5008CD8",
          "PSA5019CD8",
          "PSA5009CD8",
          "NRHV322CD8",
          "NRHV121CD8",
          "PSA4944CD8"
         ],
         "legendgroup": "CD8, 1.0",
         "marker": {
          "color": "#00cc96",
          "opacity": 0.8,
          "size": 10,
          "symbol": "circle"
         },
         "mode": "markers",
         "name": "CD8, 1.0",
         "orientation": "v",
         "showlegend": true,
         "type": "scatter",
         "x": [
          6.994023323059082,
          7.828481674194336,
          5.966220378875732,
          7.4238996505737305,
          7.332784175872803,
          8.79733657836914,
          8.6134614944458,
          6.321918964385986,
          8.769427299499512,
          7.202895641326904,
          7.264702796936035,
          7.7552361488342285,
          6.800767421722412,
          7.0528082847595215,
          6.68628454208374,
          7.186005592346191,
          8.618304252624512,
          6.175295829772949,
          6.87949800491333,
          7.290140151977539,
          6.074800491333008,
          8.331927299499512,
          8.638717651367188,
          7.857966899871826,
          7.080313205718994,
          7.9538679122924805,
          7.993773460388184,
          7.406443119049072,
          7.764169692993164,
          7.215287685394287,
          7.466093063354492,
          6.081033229827881
         ],
         "xaxis": "x",
         "y": [
          6.691989421844482,
          7.441386699676514,
          7.049161434173584,
          7.182342529296875,
          8.811813354492188,
          7.178267955780029,
          7.071188449859619,
          8.22365665435791,
          7.107056617736816,
          8.608927726745605,
          6.561291217803955,
          8.985620498657227,
          7.630095481872559,
          8.62828254699707,
          7.68427038192749,
          6.052402496337891,
          7.6721391677856445,
          7.011682510375977,
          6.994961261749268,
          8.225751876831055,
          8.75267219543457,
          6.732944488525391,
          6.588652610778809,
          7.659814357757568,
          8.151104927062988,
          8.546784400939941,
          8.187283515930176,
          8.080338478088379,
          6.355015277862549,
          7.752882480621338,
          6.828068733215332,
          7.621832370758057
         ],
         "yaxis": "y"
        },
        {
         "hovertemplate": "<b>%{hovertext}</b><br><br>cell_type=CD8<br>female_sex=0.0<br>X=%{x}<br>Y=%{y}<extra></extra>",
         "hovertext": [
          "NRHV079CD8",
          "PSA4955CD8",
          "NRHV295CD8",
          "NRHV332CD8",
          "NRHV168CD8",
          "PSA4949CD8",
          "PSA4959CD8",
          "PSA5039CD8",
          "PSA4960CD8",
          "PSA4945CD8",
          "PSA4963CD8",
          "PSA5006CD8",
          "PSA4968CD8",
          "PSA4956CD8",
          "PSA5023CD8",
          "PSA4958CD8",
          "NRHV171CD8",
          "PSA5013CD8",
          "PSA5007CD8",
          "PSA5015CD8",
          "PSA4920CD8",
          "PSA4952CD8",
          "NRHV324CD8",
          "PSA5012CD8",
          "NRHV086CD8",
          "PSA4946CD8",
          "PSA5020CD8",
          "PSA4941CD8",
          "PSA5036CD8",
          "PSA5024CD8",
          "PSA5022CD8",
          "PSA5021CD8",
          "PSA5037CD8"
         ],
         "legendgroup": "CD8, 0.0",
         "marker": {
          "color": "#00cc96",
          "opacity": 0.8,
          "size": 10,
          "symbol": "diamond"
         },
         "mode": "markers",
         "name": "CD8, 0.0",
         "orientation": "v",
         "showlegend": true,
         "type": "scatter",
         "x": [
          6.70794153213501,
          8.00991153717041,
          6.565033435821533,
          8.289521217346191,
          7.7493133544921875,
          7.220194339752197,
          6.036145210266113,
          8.95639419555664,
          6.803814888000488,
          6.270698547363281,
          6.410192012786865,
          6.484753131866455,
          8.721919059753418,
          8.585341453552246,
          5.7043023109436035,
          7.935891151428223,
          6.059429168701172,
          8.357589721679688,
          6.532550811767578,
          8.858041763305664,
          6.01293420791626,
          6.959028720855713,
          7.074124813079834,
          6.253100395202637,
          6.401494979858398,
          6.339732646942139,
          6.718094348907471,
          6.689237117767334,
          6.798853397369385,
          6.248233318328857,
          8.08800983428955,
          5.84438943862915,
          7.915349006652832
         ],
         "xaxis": "x",
         "y": [
          6.449391841888428,
          7.498458385467529,
          6.358615875244141,
          7.30618953704834,
          6.508628845214844,
          7.3828020095825195,
          9.32276725769043,
          6.787907600402832,
          6.010465145111084,
          8.289691925048828,
          6.369255065917969,
          6.703678607940674,
          6.753533840179443,
          6.954622268676758,
          7.414188861846924,
          8.565343856811523,
          7.084979057312012,
          6.944504737854004,
          7.308721542358398,
          7.38868522644043,
          7.28458309173584,
          8.16688346862793,
          6.534283638000488,
          9.530216217041016,
          6.4424238204956055,
          7.863366603851318,
          7.932843208312988,
          8.14808177947998,
          6.597742080688477,
          9.024701118469238,
          8.130718231201172,
          6.972352504730225,
          6.928250789642334
         ],
         "yaxis": "y"
        },
        {
         "hovertemplate": "<b>%{hovertext}</b><br><br>cell_type=CD8_SF<br>female_sex=1.0<br>X=%{x}<br>Y=%{y}<extra></extra>",
         "hovertext": [
          "PSA4969CD8_SF",
          "PSA5025CD8_SF",
          "PSA4917CD8_SF",
          "PSA5040CD8_SF"
         ],
         "legendgroup": "CD8_SF, 1.0",
         "marker": {
          "color": "#ab63fa",
          "opacity": 0.8,
          "size": 10,
          "symbol": "circle"
         },
         "mode": "markers",
         "name": "CD8_SF, 1.0",
         "orientation": "v",
         "showlegend": true,
         "type": "scatter",
         "x": [
          5.179503917694092,
          5.079334259033203,
          5.1727824211120605,
          5.026020050048828
         ],
         "xaxis": "x",
         "y": [
          8.006037712097168,
          7.945234298706055,
          8.412924766540527,
          7.9802565574646
         ],
         "yaxis": "y"
        },
        {
         "hovertemplate": "<b>%{hovertext}</b><br><br>cell_type=CD8_SF<br>female_sex=0.0<br>X=%{x}<br>Y=%{y}<extra></extra>",
         "hovertext": [
          "PSA4918CD8_SF",
          "PSA4958CD8_SF",
          "PSA4942CD8_SF"
         ],
         "legendgroup": "CD8_SF, 0.0",
         "marker": {
          "color": "#ab63fa",
          "opacity": 0.8,
          "size": 10,
          "symbol": "diamond"
         },
         "mode": "markers",
         "name": "CD8_SF, 0.0",
         "orientation": "v",
         "showlegend": true,
         "type": "scatter",
         "x": [
          4.993105888366699,
          5.400890827178955,
          5.29770040512085
         ],
         "xaxis": "x",
         "y": [
          8.085145950317383,
          8.53148365020752,
          8.266138076782227
         ],
         "yaxis": "y"
        }
       ],
       "layout": {
        "height": 600,
        "legend": {
         "title": {
          "text": "cell_type, female_sex"
         },
         "tracegroupgap": 0
        },
        "margin": {
         "t": 60
        },
        "template": {
         "data": {
          "bar": [
           {
            "error_x": {
             "color": "#2a3f5f"
            },
            "error_y": {
             "color": "#2a3f5f"
            },
            "marker": {
             "line": {
              "color": "white",
              "width": 0.5
             },
             "pattern": {
              "fillmode": "overlay",
              "size": 10,
              "solidity": 0.2
             }
            },
            "type": "bar"
           }
          ],
          "barpolar": [
           {
            "marker": {
             "line": {
              "color": "white",
              "width": 0.5
             },
             "pattern": {
              "fillmode": "overlay",
              "size": 10,
              "solidity": 0.2
             }
            },
            "type": "barpolar"
           }
          ],
          "carpet": [
           {
            "aaxis": {
             "endlinecolor": "#2a3f5f",
             "gridcolor": "#C8D4E3",
             "linecolor": "#C8D4E3",
             "minorgridcolor": "#C8D4E3",
             "startlinecolor": "#2a3f5f"
            },
            "baxis": {
             "endlinecolor": "#2a3f5f",
             "gridcolor": "#C8D4E3",
             "linecolor": "#C8D4E3",
             "minorgridcolor": "#C8D4E3",
             "startlinecolor": "#2a3f5f"
            },
            "type": "carpet"
           }
          ],
          "choropleth": [
           {
            "colorbar": {
             "outlinewidth": 0,
             "ticks": ""
            },
            "type": "choropleth"
           }
          ],
          "contour": [
           {
            "colorbar": {
             "outlinewidth": 0,
             "ticks": ""
            },
            "colorscale": [
             [
              0,
              "#0d0887"
             ],
             [
              0.1111111111111111,
              "#46039f"
             ],
             [
              0.2222222222222222,
              "#7201a8"
             ],
             [
              0.3333333333333333,
              "#9c179e"
             ],
             [
              0.4444444444444444,
              "#bd3786"
             ],
             [
              0.5555555555555556,
              "#d8576b"
             ],
             [
              0.6666666666666666,
              "#ed7953"
             ],
             [
              0.7777777777777778,
              "#fb9f3a"
             ],
             [
              0.8888888888888888,
              "#fdca26"
             ],
             [
              1,
              "#f0f921"
             ]
            ],
            "type": "contour"
           }
          ],
          "contourcarpet": [
           {
            "colorbar": {
             "outlinewidth": 0,
             "ticks": ""
            },
            "type": "contourcarpet"
           }
          ],
          "heatmap": [
           {
            "colorbar": {
             "outlinewidth": 0,
             "ticks": ""
            },
            "colorscale": [
             [
              0,
              "#0d0887"
             ],
             [
              0.1111111111111111,
              "#46039f"
             ],
             [
              0.2222222222222222,
              "#7201a8"
             ],
             [
              0.3333333333333333,
              "#9c179e"
             ],
             [
              0.4444444444444444,
              "#bd3786"
             ],
             [
              0.5555555555555556,
              "#d8576b"
             ],
             [
              0.6666666666666666,
              "#ed7953"
             ],
             [
              0.7777777777777778,
              "#fb9f3a"
             ],
             [
              0.8888888888888888,
              "#fdca26"
             ],
             [
              1,
              "#f0f921"
             ]
            ],
            "type": "heatmap"
           }
          ],
          "heatmapgl": [
           {
            "colorbar": {
             "outlinewidth": 0,
             "ticks": ""
            },
            "colorscale": [
             [
              0,
              "#0d0887"
             ],
             [
              0.1111111111111111,
              "#46039f"
             ],
             [
              0.2222222222222222,
              "#7201a8"
             ],
             [
              0.3333333333333333,
              "#9c179e"
             ],
             [
              0.4444444444444444,
              "#bd3786"
             ],
             [
              0.5555555555555556,
              "#d8576b"
             ],
             [
              0.6666666666666666,
              "#ed7953"
             ],
             [
              0.7777777777777778,
              "#fb9f3a"
             ],
             [
              0.8888888888888888,
              "#fdca26"
             ],
             [
              1,
              "#f0f921"
             ]
            ],
            "type": "heatmapgl"
           }
          ],
          "histogram": [
           {
            "marker": {
             "pattern": {
              "fillmode": "overlay",
              "size": 10,
              "solidity": 0.2
             }
            },
            "type": "histogram"
           }
          ],
          "histogram2d": [
           {
            "colorbar": {
             "outlinewidth": 0,
             "ticks": ""
            },
            "colorscale": [
             [
              0,
              "#0d0887"
             ],
             [
              0.1111111111111111,
              "#46039f"
             ],
             [
              0.2222222222222222,
              "#7201a8"
             ],
             [
              0.3333333333333333,
              "#9c179e"
             ],
             [
              0.4444444444444444,
              "#bd3786"
             ],
             [
              0.5555555555555556,
              "#d8576b"
             ],
             [
              0.6666666666666666,
              "#ed7953"
             ],
             [
              0.7777777777777778,
              "#fb9f3a"
             ],
             [
              0.8888888888888888,
              "#fdca26"
             ],
             [
              1,
              "#f0f921"
             ]
            ],
            "type": "histogram2d"
           }
          ],
          "histogram2dcontour": [
           {
            "colorbar": {
             "outlinewidth": 0,
             "ticks": ""
            },
            "colorscale": [
             [
              0,
              "#0d0887"
             ],
             [
              0.1111111111111111,
              "#46039f"
             ],
             [
              0.2222222222222222,
              "#7201a8"
             ],
             [
              0.3333333333333333,
              "#9c179e"
             ],
             [
              0.4444444444444444,
              "#bd3786"
             ],
             [
              0.5555555555555556,
              "#d8576b"
             ],
             [
              0.6666666666666666,
              "#ed7953"
             ],
             [
              0.7777777777777778,
              "#fb9f3a"
             ],
             [
              0.8888888888888888,
              "#fdca26"
             ],
             [
              1,
              "#f0f921"
             ]
            ],
            "type": "histogram2dcontour"
           }
          ],
          "mesh3d": [
           {
            "colorbar": {
             "outlinewidth": 0,
             "ticks": ""
            },
            "type": "mesh3d"
           }
          ],
          "parcoords": [
           {
            "line": {
             "colorbar": {
              "outlinewidth": 0,
              "ticks": ""
             }
            },
            "type": "parcoords"
           }
          ],
          "pie": [
           {
            "automargin": true,
            "type": "pie"
           }
          ],
          "scatter": [
           {
            "marker": {
             "colorbar": {
              "outlinewidth": 0,
              "ticks": ""
             }
            },
            "type": "scatter"
           }
          ],
          "scatter3d": [
           {
            "line": {
             "colorbar": {
              "outlinewidth": 0,
              "ticks": ""
             }
            },
            "marker": {
             "colorbar": {
              "outlinewidth": 0,
              "ticks": ""
             }
            },
            "type": "scatter3d"
           }
          ],
          "scattercarpet": [
           {
            "marker": {
             "colorbar": {
              "outlinewidth": 0,
              "ticks": ""
             }
            },
            "type": "scattercarpet"
           }
          ],
          "scattergeo": [
           {
            "marker": {
             "colorbar": {
              "outlinewidth": 0,
              "ticks": ""
             }
            },
            "type": "scattergeo"
           }
          ],
          "scattergl": [
           {
            "marker": {
             "colorbar": {
              "outlinewidth": 0,
              "ticks": ""
             }
            },
            "type": "scattergl"
           }
          ],
          "scattermapbox": [
           {
            "marker": {
             "colorbar": {
              "outlinewidth": 0,
              "ticks": ""
             }
            },
            "type": "scattermapbox"
           }
          ],
          "scatterpolar": [
           {
            "marker": {
             "colorbar": {
              "outlinewidth": 0,
              "ticks": ""
             }
            },
            "type": "scatterpolar"
           }
          ],
          "scatterpolargl": [
           {
            "marker": {
             "colorbar": {
              "outlinewidth": 0,
              "ticks": ""
             }
            },
            "type": "scatterpolargl"
           }
          ],
          "scatterternary": [
           {
            "marker": {
             "colorbar": {
              "outlinewidth": 0,
              "ticks": ""
             }
            },
            "type": "scatterternary"
           }
          ],
          "surface": [
           {
            "colorbar": {
             "outlinewidth": 0,
             "ticks": ""
            },
            "colorscale": [
             [
              0,
              "#0d0887"
             ],
             [
              0.1111111111111111,
              "#46039f"
             ],
             [
              0.2222222222222222,
              "#7201a8"
             ],
             [
              0.3333333333333333,
              "#9c179e"
             ],
             [
              0.4444444444444444,
              "#bd3786"
             ],
             [
              0.5555555555555556,
              "#d8576b"
             ],
             [
              0.6666666666666666,
              "#ed7953"
             ],
             [
              0.7777777777777778,
              "#fb9f3a"
             ],
             [
              0.8888888888888888,
              "#fdca26"
             ],
             [
              1,
              "#f0f921"
             ]
            ],
            "type": "surface"
           }
          ],
          "table": [
           {
            "cells": {
             "fill": {
              "color": "#EBF0F8"
             },
             "line": {
              "color": "white"
             }
            },
            "header": {
             "fill": {
              "color": "#C8D4E3"
             },
             "line": {
              "color": "white"
             }
            },
            "type": "table"
           }
          ]
         },
         "layout": {
          "annotationdefaults": {
           "arrowcolor": "#2a3f5f",
           "arrowhead": 0,
           "arrowwidth": 1
          },
          "autotypenumbers": "strict",
          "coloraxis": {
           "colorbar": {
            "outlinewidth": 0,
            "ticks": ""
           }
          },
          "colorscale": {
           "diverging": [
            [
             0,
             "#8e0152"
            ],
            [
             0.1,
             "#c51b7d"
            ],
            [
             0.2,
             "#de77ae"
            ],
            [
             0.3,
             "#f1b6da"
            ],
            [
             0.4,
             "#fde0ef"
            ],
            [
             0.5,
             "#f7f7f7"
            ],
            [
             0.6,
             "#e6f5d0"
            ],
            [
             0.7,
             "#b8e186"
            ],
            [
             0.8,
             "#7fbc41"
            ],
            [
             0.9,
             "#4d9221"
            ],
            [
             1,
             "#276419"
            ]
           ],
           "sequential": [
            [
             0,
             "#0d0887"
            ],
            [
             0.1111111111111111,
             "#46039f"
            ],
            [
             0.2222222222222222,
             "#7201a8"
            ],
            [
             0.3333333333333333,
             "#9c179e"
            ],
            [
             0.4444444444444444,
             "#bd3786"
            ],
            [
             0.5555555555555556,
             "#d8576b"
            ],
            [
             0.6666666666666666,
             "#ed7953"
            ],
            [
             0.7777777777777778,
             "#fb9f3a"
            ],
            [
             0.8888888888888888,
             "#fdca26"
            ],
            [
             1,
             "#f0f921"
            ]
           ],
           "sequentialminus": [
            [
             0,
             "#0d0887"
            ],
            [
             0.1111111111111111,
             "#46039f"
            ],
            [
             0.2222222222222222,
             "#7201a8"
            ],
            [
             0.3333333333333333,
             "#9c179e"
            ],
            [
             0.4444444444444444,
             "#bd3786"
            ],
            [
             0.5555555555555556,
             "#d8576b"
            ],
            [
             0.6666666666666666,
             "#ed7953"
            ],
            [
             0.7777777777777778,
             "#fb9f3a"
            ],
            [
             0.8888888888888888,
             "#fdca26"
            ],
            [
             1,
             "#f0f921"
            ]
           ]
          },
          "colorway": [
           "#636efa",
           "#EF553B",
           "#00cc96",
           "#ab63fa",
           "#FFA15A",
           "#19d3f3",
           "#FF6692",
           "#B6E880",
           "#FF97FF",
           "#FECB52"
          ],
          "font": {
           "color": "#2a3f5f"
          },
          "geo": {
           "bgcolor": "white",
           "lakecolor": "white",
           "landcolor": "white",
           "showlakes": true,
           "showland": true,
           "subunitcolor": "#C8D4E3"
          },
          "hoverlabel": {
           "align": "left"
          },
          "hovermode": "closest",
          "mapbox": {
           "style": "light"
          },
          "paper_bgcolor": "white",
          "plot_bgcolor": "white",
          "polar": {
           "angularaxis": {
            "gridcolor": "#EBF0F8",
            "linecolor": "#EBF0F8",
            "ticks": ""
           },
           "bgcolor": "white",
           "radialaxis": {
            "gridcolor": "#EBF0F8",
            "linecolor": "#EBF0F8",
            "ticks": ""
           }
          },
          "scene": {
           "xaxis": {
            "backgroundcolor": "white",
            "gridcolor": "#DFE8F3",
            "gridwidth": 2,
            "linecolor": "#EBF0F8",
            "showbackground": true,
            "ticks": "",
            "zerolinecolor": "#EBF0F8"
           },
           "yaxis": {
            "backgroundcolor": "white",
            "gridcolor": "#DFE8F3",
            "gridwidth": 2,
            "linecolor": "#EBF0F8",
            "showbackground": true,
            "ticks": "",
            "zerolinecolor": "#EBF0F8"
           },
           "zaxis": {
            "backgroundcolor": "white",
            "gridcolor": "#DFE8F3",
            "gridwidth": 2,
            "linecolor": "#EBF0F8",
            "showbackground": true,
            "ticks": "",
            "zerolinecolor": "#EBF0F8"
           }
          },
          "shapedefaults": {
           "line": {
            "color": "#2a3f5f"
           }
          },
          "ternary": {
           "aaxis": {
            "gridcolor": "#DFE8F3",
            "linecolor": "#A2B1C6",
            "ticks": ""
           },
           "baxis": {
            "gridcolor": "#DFE8F3",
            "linecolor": "#A2B1C6",
            "ticks": ""
           },
           "bgcolor": "white",
           "caxis": {
            "gridcolor": "#DFE8F3",
            "linecolor": "#A2B1C6",
            "ticks": ""
           }
          },
          "title": {
           "x": 0.05
          },
          "xaxis": {
           "automargin": true,
           "gridcolor": "#EBF0F8",
           "linecolor": "#EBF0F8",
           "ticks": "",
           "title": {
            "standoff": 15
           },
           "zerolinecolor": "#EBF0F8",
           "zerolinewidth": 2
          },
          "yaxis": {
           "automargin": true,
           "gridcolor": "#EBF0F8",
           "linecolor": "#EBF0F8",
           "ticks": "",
           "title": {
            "standoff": 15
           },
           "zerolinecolor": "#EBF0F8",
           "zerolinewidth": 2
          }
         }
        },
        "width": 700,
        "xaxis": {
         "anchor": "y",
         "domain": [
          0,
          1
         ],
         "title": {
          "text": "X"
         }
        },
        "yaxis": {
         "anchor": "x",
         "domain": [
          0,
          1
         ],
         "title": {
          "text": "Y"
         }
        }
       }
      },
      "text/html": [
       "<div>                            <div id=\"fd5fe176-926e-497a-9139-7a305161b5c6\" class=\"plotly-graph-div\" style=\"height:600px; width:700px;\"></div>            <script type=\"text/javascript\">                require([\"plotly\"], function(Plotly) {                    window.PLOTLYENV=window.PLOTLYENV || {};                                    if (document.getElementById(\"fd5fe176-926e-497a-9139-7a305161b5c6\")) {                    Plotly.newPlot(                        \"fd5fe176-926e-497a-9139-7a305161b5c6\",                        [{\"hovertemplate\":\"<b>%{hovertext}</b><br><br>cell_type=CD4<br>female_sex=1.0<br>X=%{x}<br>Y=%{y}<extra></extra>\",\"hovertext\":[\"NRHV151CD4\",\"PSA5019CD4\",\"PSA4957CD4\",\"PSA4947CD4\",\"NRHV322CD4\",\"NRHV121CD4\",\"PSA5026CD4\",\"PSA5018CD4\",\"PSA5010CD4\",\"PSA5009CD4\",\"NRHV073CD4\",\"PSA4962CD4\",\"PSA4967CD4\",\"NRHV325CD4\",\"NRHV014XCD4\",\"PSA5017CD4\",\"PSA4951CD4\",\"NRHV326CD4\",\"NRHV290CD4\",\"PSA5040CD4\",\"PSA4944CD4\",\"PSA4950CD4\",\"NRHV238CD4\",\"PSA5008CD4\",\"PSA4954CD4\",\"PSA5014CD4\",\"NRHV321CD4\",\"PSA4964CD4\"],\"legendgroup\":\"CD4, 1.0\",\"marker\":{\"color\":\"#636efa\",\"opacity\":0.8,\"symbol\":\"circle\",\"size\":10},\"mode\":\"markers\",\"name\":\"CD4, 1.0\",\"orientation\":\"v\",\"showlegend\":true,\"x\":[7.219717502593994,7.754815101623535,7.498604774475098,7.111443519592285,7.524206638336182,7.398902416229248,7.2187066078186035,5.747987747192383,6.988607406616211,6.065436363220215,5.697813510894775,6.605010986328125,6.819356441497803,7.366659164428711,7.042436122894287,7.583159923553467,6.9350786209106445,7.844392776489258,6.94417142868042,7.399082183837891,7.499905586242676,7.202083110809326,6.11347770690918,6.580287456512451,6.587561130523682,6.192488193511963,7.981259822845459,7.5777363777160645],\"xaxis\":\"x\",\"y\":[14.139142990112305,15.223503112792969,16.308197021484375,15.708732604980469,15.574299812316895,16.0862979888916,15.272744178771973,14.9181489944458,16.02448272705078,14.951852798461914,15.02092456817627,15.973065376281738,16.43796730041504,16.4986515045166,16.45700454711914,15.135615348815918,15.053681373596191,16.187898635864258,15.976922988891602,16.547544479370117,13.76279354095459,14.898670196533203,14.786967277526855,14.457756996154785,14.751859664916992,14.482873916625977,15.78864860534668,15.701069831848145],\"yaxis\":\"y\",\"type\":\"scatter\"},{\"hovertemplate\":\"<b>%{hovertext}</b><br><br>cell_type=CD4<br>female_sex=0.0<br>X=%{x}<br>Y=%{y}<extra></extra>\",\"hovertext\":[\"PSA4959CD4\",\"NRHV086CD4\",\"PSA5036CD4\",\"PSA5013CD4\",\"PSA4956CD4\",\"PSA4958CD4\",\"PSA5021CD4\",\"NRHV324CD4\",\"NRHV168CD4\",\"PSA5007CD4\",\"PSA5006CD4\",\"PSA4968CD4\",\"PSA5037CD4\",\"PSA4945CD4\",\"NRHV332CD4\",\"NRHV295CD4\",\"NRHV079CD4\",\"NRHV171CD4\",\"PSA4963CD4\",\"PSA4949CD4\",\"PSA5012CD4\",\"PSA4952CD4\",\"PSA4920CD4\"],\"legendgroup\":\"CD4, 0.0\",\"marker\":{\"color\":\"#636efa\",\"opacity\":0.8,\"symbol\":\"diamond\",\"size\":10},\"mode\":\"markers\",\"name\":\"CD4, 0.0\",\"orientation\":\"v\",\"showlegend\":true,\"x\":[5.832574844360352,7.95525598526001,7.80629301071167,7.343874454498291,7.7704596519470215,7.013383388519287,6.922044277191162,6.00696325302124,7.5630364418029785,7.657275199890137,7.973723888397217,7.246236324310303,6.159890651702881,6.633013725280762,5.951247215270996,5.645654678344727,7.845489978790283,6.42543888092041,6.712643623352051,7.302513122558594,5.9782819747924805,6.839463233947754,7.182394504547119],\"xaxis\":\"x\",\"y\":[14.112441062927246,16.342605590820312,16.125301361083984,15.447799682617188,16.22724151611328,14.391937255859375,15.515652656555176,14.653741836547852,16.728944778442383,16.10719108581543,15.532525062561035,16.564502716064453,15.109390258789062,15.834181785583496,15.209197998046875,14.620773315429688,16.55385398864746,14.909684181213379,14.875350952148438,14.248299598693848,14.056303977966309,15.102863311767578,14.121667861938477],\"yaxis\":\"y\",\"type\":\"scatter\"},{\"hovertemplate\":\"<b>%{hovertext}</b><br><br>cell_type=CD4_SF<br>female_sex=1.0<br>X=%{x}<br>Y=%{y}<extra></extra>\",\"hovertext\":[\"PSA4951CD4_SF\",\"PSA4917CD4_SF\"],\"legendgroup\":\"CD4_SF, 1.0\",\"marker\":{\"color\":\"#EF553B\",\"opacity\":0.8,\"symbol\":\"circle\",\"size\":10},\"mode\":\"markers\",\"name\":\"CD4_SF, 1.0\",\"orientation\":\"v\",\"showlegend\":true,\"x\":[5.2425127029418945,5.167625904083252],\"xaxis\":\"x\",\"y\":[8.808999061584473,8.75786304473877],\"yaxis\":\"y\",\"type\":\"scatter\"},{\"hovertemplate\":\"<b>%{hovertext}</b><br><br>cell_type=CD4_SF<br>female_sex=0.0<br>X=%{x}<br>Y=%{y}<extra></extra>\",\"hovertext\":[\"PSA4958CD4_SF\"],\"legendgroup\":\"CD4_SF, 0.0\",\"marker\":{\"color\":\"#EF553B\",\"opacity\":0.8,\"symbol\":\"diamond\",\"size\":10},\"mode\":\"markers\",\"name\":\"CD4_SF, 0.0\",\"orientation\":\"v\",\"showlegend\":true,\"x\":[5.374983787536621],\"xaxis\":\"x\",\"y\":[8.974884986877441],\"yaxis\":\"y\",\"type\":\"scatter\"},{\"hovertemplate\":\"<b>%{hovertext}</b><br><br>cell_type=CD8<br>female_sex=1.0<br>X=%{x}<br>Y=%{y}<extra></extra>\",\"hovertext\":[\"NRHV014XCD8\",\"NRHV073CD8\",\"PSA4961CD8\",\"PSA4966CD8\",\"NRHV151CD8\",\"NRHV238CD8\",\"PSA5040CD8\",\"PSA4948CD8\",\"NRHV290CD8\",\"PSA4954CD8\",\"NRHV325CD8\",\"PSA4947CD8\",\"PSA4951CD8\",\"PSA4953CD8\",\"PSA5017CD8\",\"NRHV321CD8\",\"PSA5014CD8\",\"PSA4964CD8\",\"NRHV326CD8\",\"PSA5026CD8\",\"PSA5018CD8\",\"PSA4962CD8\",\"PSA5010CD8\",\"PSA4965CD8\",\"PSA4969CD8\",\"PSA4950CD8\",\"PSA5008CD8\",\"PSA5019CD8\",\"PSA5009CD8\",\"NRHV322CD8\",\"NRHV121CD8\",\"PSA4944CD8\"],\"legendgroup\":\"CD8, 1.0\",\"marker\":{\"color\":\"#00cc96\",\"opacity\":0.8,\"symbol\":\"circle\",\"size\":10},\"mode\":\"markers\",\"name\":\"CD8, 1.0\",\"orientation\":\"v\",\"showlegend\":true,\"x\":[6.994023323059082,7.828481674194336,5.966220378875732,7.4238996505737305,7.332784175872803,8.79733657836914,8.6134614944458,6.321918964385986,8.769427299499512,7.202895641326904,7.264702796936035,7.7552361488342285,6.800767421722412,7.0528082847595215,6.68628454208374,7.186005592346191,8.618304252624512,6.175295829772949,6.87949800491333,7.290140151977539,6.074800491333008,8.331927299499512,8.638717651367188,7.857966899871826,7.080313205718994,7.9538679122924805,7.993773460388184,7.406443119049072,7.764169692993164,7.215287685394287,7.466093063354492,6.081033229827881],\"xaxis\":\"x\",\"y\":[6.691989421844482,7.441386699676514,7.049161434173584,7.182342529296875,8.811813354492188,7.178267955780029,7.071188449859619,8.22365665435791,7.107056617736816,8.608927726745605,6.561291217803955,8.985620498657227,7.630095481872559,8.62828254699707,7.68427038192749,6.052402496337891,7.6721391677856445,7.011682510375977,6.994961261749268,8.225751876831055,8.75267219543457,6.732944488525391,6.588652610778809,7.659814357757568,8.151104927062988,8.546784400939941,8.187283515930176,8.080338478088379,6.355015277862549,7.752882480621338,6.828068733215332,7.621832370758057],\"yaxis\":\"y\",\"type\":\"scatter\"},{\"hovertemplate\":\"<b>%{hovertext}</b><br><br>cell_type=CD8<br>female_sex=0.0<br>X=%{x}<br>Y=%{y}<extra></extra>\",\"hovertext\":[\"NRHV079CD8\",\"PSA4955CD8\",\"NRHV295CD8\",\"NRHV332CD8\",\"NRHV168CD8\",\"PSA4949CD8\",\"PSA4959CD8\",\"PSA5039CD8\",\"PSA4960CD8\",\"PSA4945CD8\",\"PSA4963CD8\",\"PSA5006CD8\",\"PSA4968CD8\",\"PSA4956CD8\",\"PSA5023CD8\",\"PSA4958CD8\",\"NRHV171CD8\",\"PSA5013CD8\",\"PSA5007CD8\",\"PSA5015CD8\",\"PSA4920CD8\",\"PSA4952CD8\",\"NRHV324CD8\",\"PSA5012CD8\",\"NRHV086CD8\",\"PSA4946CD8\",\"PSA5020CD8\",\"PSA4941CD8\",\"PSA5036CD8\",\"PSA5024CD8\",\"PSA5022CD8\",\"PSA5021CD8\",\"PSA5037CD8\"],\"legendgroup\":\"CD8, 0.0\",\"marker\":{\"color\":\"#00cc96\",\"opacity\":0.8,\"symbol\":\"diamond\",\"size\":10},\"mode\":\"markers\",\"name\":\"CD8, 0.0\",\"orientation\":\"v\",\"showlegend\":true,\"x\":[6.70794153213501,8.00991153717041,6.565033435821533,8.289521217346191,7.7493133544921875,7.220194339752197,6.036145210266113,8.95639419555664,6.803814888000488,6.270698547363281,6.410192012786865,6.484753131866455,8.721919059753418,8.585341453552246,5.7043023109436035,7.935891151428223,6.059429168701172,8.357589721679688,6.532550811767578,8.858041763305664,6.01293420791626,6.959028720855713,7.074124813079834,6.253100395202637,6.401494979858398,6.339732646942139,6.718094348907471,6.689237117767334,6.798853397369385,6.248233318328857,8.08800983428955,5.84438943862915,7.915349006652832],\"xaxis\":\"x\",\"y\":[6.449391841888428,7.498458385467529,6.358615875244141,7.30618953704834,6.508628845214844,7.3828020095825195,9.32276725769043,6.787907600402832,6.010465145111084,8.289691925048828,6.369255065917969,6.703678607940674,6.753533840179443,6.954622268676758,7.414188861846924,8.565343856811523,7.084979057312012,6.944504737854004,7.308721542358398,7.38868522644043,7.28458309173584,8.16688346862793,6.534283638000488,9.530216217041016,6.4424238204956055,7.863366603851318,7.932843208312988,8.14808177947998,6.597742080688477,9.024701118469238,8.130718231201172,6.972352504730225,6.928250789642334],\"yaxis\":\"y\",\"type\":\"scatter\"},{\"hovertemplate\":\"<b>%{hovertext}</b><br><br>cell_type=CD8_SF<br>female_sex=1.0<br>X=%{x}<br>Y=%{y}<extra></extra>\",\"hovertext\":[\"PSA4969CD8_SF\",\"PSA5025CD8_SF\",\"PSA4917CD8_SF\",\"PSA5040CD8_SF\"],\"legendgroup\":\"CD8_SF, 1.0\",\"marker\":{\"color\":\"#ab63fa\",\"opacity\":0.8,\"symbol\":\"circle\",\"size\":10},\"mode\":\"markers\",\"name\":\"CD8_SF, 1.0\",\"orientation\":\"v\",\"showlegend\":true,\"x\":[5.179503917694092,5.079334259033203,5.1727824211120605,5.026020050048828],\"xaxis\":\"x\",\"y\":[8.006037712097168,7.945234298706055,8.412924766540527,7.9802565574646],\"yaxis\":\"y\",\"type\":\"scatter\"},{\"hovertemplate\":\"<b>%{hovertext}</b><br><br>cell_type=CD8_SF<br>female_sex=0.0<br>X=%{x}<br>Y=%{y}<extra></extra>\",\"hovertext\":[\"PSA4918CD8_SF\",\"PSA4958CD8_SF\",\"PSA4942CD8_SF\"],\"legendgroup\":\"CD8_SF, 0.0\",\"marker\":{\"color\":\"#ab63fa\",\"opacity\":0.8,\"symbol\":\"diamond\",\"size\":10},\"mode\":\"markers\",\"name\":\"CD8_SF, 0.0\",\"orientation\":\"v\",\"showlegend\":true,\"x\":[4.993105888366699,5.400890827178955,5.29770040512085],\"xaxis\":\"x\",\"y\":[8.085145950317383,8.53148365020752,8.266138076782227],\"yaxis\":\"y\",\"type\":\"scatter\"}],                        {\"template\":{\"data\":{\"barpolar\":[{\"marker\":{\"line\":{\"color\":\"white\",\"width\":0.5},\"pattern\":{\"fillmode\":\"overlay\",\"size\":10,\"solidity\":0.2}},\"type\":\"barpolar\"}],\"bar\":[{\"error_x\":{\"color\":\"#2a3f5f\"},\"error_y\":{\"color\":\"#2a3f5f\"},\"marker\":{\"line\":{\"color\":\"white\",\"width\":0.5},\"pattern\":{\"fillmode\":\"overlay\",\"size\":10,\"solidity\":0.2}},\"type\":\"bar\"}],\"carpet\":[{\"aaxis\":{\"endlinecolor\":\"#2a3f5f\",\"gridcolor\":\"#C8D4E3\",\"linecolor\":\"#C8D4E3\",\"minorgridcolor\":\"#C8D4E3\",\"startlinecolor\":\"#2a3f5f\"},\"baxis\":{\"endlinecolor\":\"#2a3f5f\",\"gridcolor\":\"#C8D4E3\",\"linecolor\":\"#C8D4E3\",\"minorgridcolor\":\"#C8D4E3\",\"startlinecolor\":\"#2a3f5f\"},\"type\":\"carpet\"}],\"choropleth\":[{\"colorbar\":{\"outlinewidth\":0,\"ticks\":\"\"},\"type\":\"choropleth\"}],\"contourcarpet\":[{\"colorbar\":{\"outlinewidth\":0,\"ticks\":\"\"},\"type\":\"contourcarpet\"}],\"contour\":[{\"colorbar\":{\"outlinewidth\":0,\"ticks\":\"\"},\"colorscale\":[[0.0,\"#0d0887\"],[0.1111111111111111,\"#46039f\"],[0.2222222222222222,\"#7201a8\"],[0.3333333333333333,\"#9c179e\"],[0.4444444444444444,\"#bd3786\"],[0.5555555555555556,\"#d8576b\"],[0.6666666666666666,\"#ed7953\"],[0.7777777777777778,\"#fb9f3a\"],[0.8888888888888888,\"#fdca26\"],[1.0,\"#f0f921\"]],\"type\":\"contour\"}],\"heatmapgl\":[{\"colorbar\":{\"outlinewidth\":0,\"ticks\":\"\"},\"colorscale\":[[0.0,\"#0d0887\"],[0.1111111111111111,\"#46039f\"],[0.2222222222222222,\"#7201a8\"],[0.3333333333333333,\"#9c179e\"],[0.4444444444444444,\"#bd3786\"],[0.5555555555555556,\"#d8576b\"],[0.6666666666666666,\"#ed7953\"],[0.7777777777777778,\"#fb9f3a\"],[0.8888888888888888,\"#fdca26\"],[1.0,\"#f0f921\"]],\"type\":\"heatmapgl\"}],\"heatmap\":[{\"colorbar\":{\"outlinewidth\":0,\"ticks\":\"\"},\"colorscale\":[[0.0,\"#0d0887\"],[0.1111111111111111,\"#46039f\"],[0.2222222222222222,\"#7201a8\"],[0.3333333333333333,\"#9c179e\"],[0.4444444444444444,\"#bd3786\"],[0.5555555555555556,\"#d8576b\"],[0.6666666666666666,\"#ed7953\"],[0.7777777777777778,\"#fb9f3a\"],[0.8888888888888888,\"#fdca26\"],[1.0,\"#f0f921\"]],\"type\":\"heatmap\"}],\"histogram2dcontour\":[{\"colorbar\":{\"outlinewidth\":0,\"ticks\":\"\"},\"colorscale\":[[0.0,\"#0d0887\"],[0.1111111111111111,\"#46039f\"],[0.2222222222222222,\"#7201a8\"],[0.3333333333333333,\"#9c179e\"],[0.4444444444444444,\"#bd3786\"],[0.5555555555555556,\"#d8576b\"],[0.6666666666666666,\"#ed7953\"],[0.7777777777777778,\"#fb9f3a\"],[0.8888888888888888,\"#fdca26\"],[1.0,\"#f0f921\"]],\"type\":\"histogram2dcontour\"}],\"histogram2d\":[{\"colorbar\":{\"outlinewidth\":0,\"ticks\":\"\"},\"colorscale\":[[0.0,\"#0d0887\"],[0.1111111111111111,\"#46039f\"],[0.2222222222222222,\"#7201a8\"],[0.3333333333333333,\"#9c179e\"],[0.4444444444444444,\"#bd3786\"],[0.5555555555555556,\"#d8576b\"],[0.6666666666666666,\"#ed7953\"],[0.7777777777777778,\"#fb9f3a\"],[0.8888888888888888,\"#fdca26\"],[1.0,\"#f0f921\"]],\"type\":\"histogram2d\"}],\"histogram\":[{\"marker\":{\"pattern\":{\"fillmode\":\"overlay\",\"size\":10,\"solidity\":0.2}},\"type\":\"histogram\"}],\"mesh3d\":[{\"colorbar\":{\"outlinewidth\":0,\"ticks\":\"\"},\"type\":\"mesh3d\"}],\"parcoords\":[{\"line\":{\"colorbar\":{\"outlinewidth\":0,\"ticks\":\"\"}},\"type\":\"parcoords\"}],\"pie\":[{\"automargin\":true,\"type\":\"pie\"}],\"scatter3d\":[{\"line\":{\"colorbar\":{\"outlinewidth\":0,\"ticks\":\"\"}},\"marker\":{\"colorbar\":{\"outlinewidth\":0,\"ticks\":\"\"}},\"type\":\"scatter3d\"}],\"scattercarpet\":[{\"marker\":{\"colorbar\":{\"outlinewidth\":0,\"ticks\":\"\"}},\"type\":\"scattercarpet\"}],\"scattergeo\":[{\"marker\":{\"colorbar\":{\"outlinewidth\":0,\"ticks\":\"\"}},\"type\":\"scattergeo\"}],\"scattergl\":[{\"marker\":{\"colorbar\":{\"outlinewidth\":0,\"ticks\":\"\"}},\"type\":\"scattergl\"}],\"scattermapbox\":[{\"marker\":{\"colorbar\":{\"outlinewidth\":0,\"ticks\":\"\"}},\"type\":\"scattermapbox\"}],\"scatterpolargl\":[{\"marker\":{\"colorbar\":{\"outlinewidth\":0,\"ticks\":\"\"}},\"type\":\"scatterpolargl\"}],\"scatterpolar\":[{\"marker\":{\"colorbar\":{\"outlinewidth\":0,\"ticks\":\"\"}},\"type\":\"scatterpolar\"}],\"scatter\":[{\"marker\":{\"colorbar\":{\"outlinewidth\":0,\"ticks\":\"\"}},\"type\":\"scatter\"}],\"scatterternary\":[{\"marker\":{\"colorbar\":{\"outlinewidth\":0,\"ticks\":\"\"}},\"type\":\"scatterternary\"}],\"surface\":[{\"colorbar\":{\"outlinewidth\":0,\"ticks\":\"\"},\"colorscale\":[[0.0,\"#0d0887\"],[0.1111111111111111,\"#46039f\"],[0.2222222222222222,\"#7201a8\"],[0.3333333333333333,\"#9c179e\"],[0.4444444444444444,\"#bd3786\"],[0.5555555555555556,\"#d8576b\"],[0.6666666666666666,\"#ed7953\"],[0.7777777777777778,\"#fb9f3a\"],[0.8888888888888888,\"#fdca26\"],[1.0,\"#f0f921\"]],\"type\":\"surface\"}],\"table\":[{\"cells\":{\"fill\":{\"color\":\"#EBF0F8\"},\"line\":{\"color\":\"white\"}},\"header\":{\"fill\":{\"color\":\"#C8D4E3\"},\"line\":{\"color\":\"white\"}},\"type\":\"table\"}]},\"layout\":{\"annotationdefaults\":{\"arrowcolor\":\"#2a3f5f\",\"arrowhead\":0,\"arrowwidth\":1},\"autotypenumbers\":\"strict\",\"coloraxis\":{\"colorbar\":{\"outlinewidth\":0,\"ticks\":\"\"}},\"colorscale\":{\"diverging\":[[0,\"#8e0152\"],[0.1,\"#c51b7d\"],[0.2,\"#de77ae\"],[0.3,\"#f1b6da\"],[0.4,\"#fde0ef\"],[0.5,\"#f7f7f7\"],[0.6,\"#e6f5d0\"],[0.7,\"#b8e186\"],[0.8,\"#7fbc41\"],[0.9,\"#4d9221\"],[1,\"#276419\"]],\"sequential\":[[0.0,\"#0d0887\"],[0.1111111111111111,\"#46039f\"],[0.2222222222222222,\"#7201a8\"],[0.3333333333333333,\"#9c179e\"],[0.4444444444444444,\"#bd3786\"],[0.5555555555555556,\"#d8576b\"],[0.6666666666666666,\"#ed7953\"],[0.7777777777777778,\"#fb9f3a\"],[0.8888888888888888,\"#fdca26\"],[1.0,\"#f0f921\"]],\"sequentialminus\":[[0.0,\"#0d0887\"],[0.1111111111111111,\"#46039f\"],[0.2222222222222222,\"#7201a8\"],[0.3333333333333333,\"#9c179e\"],[0.4444444444444444,\"#bd3786\"],[0.5555555555555556,\"#d8576b\"],[0.6666666666666666,\"#ed7953\"],[0.7777777777777778,\"#fb9f3a\"],[0.8888888888888888,\"#fdca26\"],[1.0,\"#f0f921\"]]},\"colorway\":[\"#636efa\",\"#EF553B\",\"#00cc96\",\"#ab63fa\",\"#FFA15A\",\"#19d3f3\",\"#FF6692\",\"#B6E880\",\"#FF97FF\",\"#FECB52\"],\"font\":{\"color\":\"#2a3f5f\"},\"geo\":{\"bgcolor\":\"white\",\"lakecolor\":\"white\",\"landcolor\":\"white\",\"showlakes\":true,\"showland\":true,\"subunitcolor\":\"#C8D4E3\"},\"hoverlabel\":{\"align\":\"left\"},\"hovermode\":\"closest\",\"mapbox\":{\"style\":\"light\"},\"paper_bgcolor\":\"white\",\"plot_bgcolor\":\"white\",\"polar\":{\"angularaxis\":{\"gridcolor\":\"#EBF0F8\",\"linecolor\":\"#EBF0F8\",\"ticks\":\"\"},\"bgcolor\":\"white\",\"radialaxis\":{\"gridcolor\":\"#EBF0F8\",\"linecolor\":\"#EBF0F8\",\"ticks\":\"\"}},\"scene\":{\"xaxis\":{\"backgroundcolor\":\"white\",\"gridcolor\":\"#DFE8F3\",\"gridwidth\":2,\"linecolor\":\"#EBF0F8\",\"showbackground\":true,\"ticks\":\"\",\"zerolinecolor\":\"#EBF0F8\"},\"yaxis\":{\"backgroundcolor\":\"white\",\"gridcolor\":\"#DFE8F3\",\"gridwidth\":2,\"linecolor\":\"#EBF0F8\",\"showbackground\":true,\"ticks\":\"\",\"zerolinecolor\":\"#EBF0F8\"},\"zaxis\":{\"backgroundcolor\":\"white\",\"gridcolor\":\"#DFE8F3\",\"gridwidth\":2,\"linecolor\":\"#EBF0F8\",\"showbackground\":true,\"ticks\":\"\",\"zerolinecolor\":\"#EBF0F8\"}},\"shapedefaults\":{\"line\":{\"color\":\"#2a3f5f\"}},\"ternary\":{\"aaxis\":{\"gridcolor\":\"#DFE8F3\",\"linecolor\":\"#A2B1C6\",\"ticks\":\"\"},\"baxis\":{\"gridcolor\":\"#DFE8F3\",\"linecolor\":\"#A2B1C6\",\"ticks\":\"\"},\"bgcolor\":\"white\",\"caxis\":{\"gridcolor\":\"#DFE8F3\",\"linecolor\":\"#A2B1C6\",\"ticks\":\"\"}},\"title\":{\"x\":0.05},\"xaxis\":{\"automargin\":true,\"gridcolor\":\"#EBF0F8\",\"linecolor\":\"#EBF0F8\",\"ticks\":\"\",\"title\":{\"standoff\":15},\"zerolinecolor\":\"#EBF0F8\",\"zerolinewidth\":2},\"yaxis\":{\"automargin\":true,\"gridcolor\":\"#EBF0F8\",\"linecolor\":\"#EBF0F8\",\"ticks\":\"\",\"title\":{\"standoff\":15},\"zerolinecolor\":\"#EBF0F8\",\"zerolinewidth\":2}}},\"xaxis\":{\"anchor\":\"y\",\"domain\":[0.0,1.0],\"title\":{\"text\":\"X\"}},\"yaxis\":{\"anchor\":\"x\",\"domain\":[0.0,1.0],\"title\":{\"text\":\"Y\"}},\"legend\":{\"title\":{\"text\":\"cell_type, female_sex\"},\"tracegroupgap\":0},\"margin\":{\"t\":60},\"height\":600,\"width\":700},                        {\"responsive\": true}                    ).then(function(){\n",
       "                            \n",
       "var gd = document.getElementById('fd5fe176-926e-497a-9139-7a305161b5c6');\n",
       "var x = new MutationObserver(function (mutations, observer) {{\n",
       "        var display = window.getComputedStyle(gd).display;\n",
       "        if (!display || display === 'none') {{\n",
       "            console.log([gd, 'removed!']);\n",
       "            Plotly.purge(gd);\n",
       "            observer.disconnect();\n",
       "        }}\n",
       "}});\n",
       "\n",
       "// Listen for the removal of the full notebook cells\n",
       "var notebookContainer = gd.closest('#notebook-container');\n",
       "if (notebookContainer) {{\n",
       "    x.observe(notebookContainer, {childList: true});\n",
       "}}\n",
       "\n",
       "// Listen for the clearing of the current output cell\n",
       "var outputEl = gd.closest('.output');\n",
       "if (outputEl) {{\n",
       "    x.observe(outputEl, {childList: true});\n",
       "}}\n",
       "\n",
       "                        })                };                });            </script>        </div>"
      ]
     },
     "metadata": {},
     "output_type": "display_data"
    }
   ],
   "source": [
    "rep = rep.sort_values(by=\"cell_type\")\n",
    "fig = px.scatter(rep, x = \"X\", y = \"Y\", color = \"cell_type\", hover_name = \"proper_name\", template = \"plotly_white\", symbol = \"female_sex\", opacity = 0.8,\n",
    "height = 600, width = 700)\n",
    "fig.update_traces(marker={'size': 10})\n",
    "fig.show()\n",
    "fig.write_image(f\"{base_dir}/ATAC_seq_analysis/figures/ATAC_UMAP_sex.svg\")"
   ]
  },
  {
   "cell_type": "code",
   "execution_count": 14,
   "metadata": {},
   "outputs": [
    {
     "data": {
      "application/vnd.plotly.v1+json": {
       "config": {
        "plotlyServerURL": "https://plot.ly"
       },
       "data": [
        {
         "hovertemplate": "<b>%{hovertext}</b><br><br>cell_type=CD4<br>condition=healthy<br>X=%{x}<br>Y=%{y}<extra></extra>",
         "hovertext": [
          "NRHV151CD4",
          "NRHV322CD4",
          "NRHV121CD4",
          "NRHV086CD4",
          "NRHV324CD4",
          "NRHV073CD4",
          "NRHV168CD4",
          "NRHV325CD4",
          "NRHV014XCD4",
          "NRHV332CD4",
          "NRHV326CD4",
          "NRHV295CD4",
          "NRHV290CD4",
          "NRHV079CD4",
          "NRHV171CD4",
          "NRHV238CD4",
          "NRHV321CD4"
         ],
         "legendgroup": "CD4, healthy",
         "marker": {
          "color": "#636efa",
          "opacity": 0.8,
          "size": 10,
          "symbol": "circle"
         },
         "mode": "markers",
         "name": "CD4, healthy",
         "orientation": "v",
         "showlegend": true,
         "type": "scatter",
         "x": [
          7.219717502593994,
          7.524206638336182,
          7.398902416229248,
          7.95525598526001,
          6.00696325302124,
          5.697813510894775,
          7.5630364418029785,
          7.366659164428711,
          7.042436122894287,
          5.951247215270996,
          7.844392776489258,
          5.645654678344727,
          6.94417142868042,
          7.845489978790283,
          6.42543888092041,
          6.11347770690918,
          7.981259822845459
         ],
         "xaxis": "x",
         "y": [
          14.139142990112305,
          15.574299812316895,
          16.0862979888916,
          16.342605590820312,
          14.653741836547852,
          15.02092456817627,
          16.728944778442383,
          16.4986515045166,
          16.45700454711914,
          15.209197998046875,
          16.187898635864258,
          14.620773315429688,
          15.976922988891602,
          16.55385398864746,
          14.909684181213379,
          14.786967277526855,
          15.78864860534668
         ],
         "yaxis": "y"
        },
        {
         "hovertemplate": "<b>%{hovertext}</b><br><br>cell_type=CD4<br>condition=patient<br>X=%{x}<br>Y=%{y}<extra></extra>",
         "hovertext": [
          "PSA5019CD4",
          "PSA4959CD4",
          "PSA4957CD4",
          "PSA4947CD4",
          "PSA5036CD4",
          "PSA5013CD4",
          "PSA4956CD4",
          "PSA5026CD4",
          "PSA5018CD4",
          "PSA5010CD4",
          "PSA5009CD4",
          "PSA4958CD4",
          "PSA5021CD4",
          "PSA4962CD4",
          "PSA5007CD4",
          "PSA5006CD4",
          "PSA4968CD4",
          "PSA4967CD4",
          "PSA5037CD4",
          "PSA5017CD4",
          "PSA4951CD4",
          "PSA4945CD4",
          "PSA5040CD4",
          "PSA4944CD4",
          "PSA4950CD4",
          "PSA4963CD4",
          "PSA5008CD4",
          "PSA4949CD4",
          "PSA5012CD4",
          "PSA4952CD4",
          "PSA4954CD4",
          "PSA5014CD4",
          "PSA4964CD4",
          "PSA4920CD4"
         ],
         "legendgroup": "CD4, patient",
         "marker": {
          "color": "#636efa",
          "opacity": 0.8,
          "size": 10,
          "symbol": "diamond"
         },
         "mode": "markers",
         "name": "CD4, patient",
         "orientation": "v",
         "showlegend": true,
         "type": "scatter",
         "x": [
          7.754815101623535,
          5.832574844360352,
          7.498604774475098,
          7.111443519592285,
          7.80629301071167,
          7.343874454498291,
          7.7704596519470215,
          7.2187066078186035,
          5.747987747192383,
          6.988607406616211,
          6.065436363220215,
          7.013383388519287,
          6.922044277191162,
          6.605010986328125,
          7.657275199890137,
          7.973723888397217,
          7.246236324310303,
          6.819356441497803,
          6.159890651702881,
          7.583159923553467,
          6.9350786209106445,
          6.633013725280762,
          7.399082183837891,
          7.499905586242676,
          7.202083110809326,
          6.712643623352051,
          6.580287456512451,
          7.302513122558594,
          5.9782819747924805,
          6.839463233947754,
          6.587561130523682,
          6.192488193511963,
          7.5777363777160645,
          7.182394504547119
         ],
         "xaxis": "x",
         "y": [
          15.223503112792969,
          14.112441062927246,
          16.308197021484375,
          15.708732604980469,
          16.125301361083984,
          15.447799682617188,
          16.22724151611328,
          15.272744178771973,
          14.9181489944458,
          16.02448272705078,
          14.951852798461914,
          14.391937255859375,
          15.515652656555176,
          15.973065376281738,
          16.10719108581543,
          15.532525062561035,
          16.564502716064453,
          16.43796730041504,
          15.109390258789062,
          15.135615348815918,
          15.053681373596191,
          15.834181785583496,
          16.547544479370117,
          13.76279354095459,
          14.898670196533203,
          14.875350952148438,
          14.457756996154785,
          14.248299598693848,
          14.056303977966309,
          15.102863311767578,
          14.751859664916992,
          14.482873916625977,
          15.701069831848145,
          14.121667861938477
         ],
         "yaxis": "y"
        },
        {
         "hovertemplate": "<b>%{hovertext}</b><br><br>cell_type=CD4_SF<br>condition=synovium<br>X=%{x}<br>Y=%{y}<extra></extra>",
         "hovertext": [
          "PSA4958CD4_SF",
          "PSA4951CD4_SF",
          "PSA4917CD4_SF"
         ],
         "legendgroup": "CD4_SF, synovium",
         "marker": {
          "color": "#EF553B",
          "opacity": 0.8,
          "size": 10,
          "symbol": "square"
         },
         "mode": "markers",
         "name": "CD4_SF, synovium",
         "orientation": "v",
         "showlegend": true,
         "type": "scatter",
         "x": [
          5.374983787536621,
          5.2425127029418945,
          5.167625904083252
         ],
         "xaxis": "x",
         "y": [
          8.974884986877441,
          8.808999061584473,
          8.75786304473877
         ],
         "yaxis": "y"
        },
        {
         "hovertemplate": "<b>%{hovertext}</b><br><br>cell_type=CD8<br>condition=healthy<br>X=%{x}<br>Y=%{y}<extra></extra>",
         "hovertext": [
          "NRHV014XCD8",
          "NRHV073CD8",
          "NRHV079CD8",
          "NRHV151CD8",
          "NRHV238CD8",
          "NRHV295CD8",
          "NRHV332CD8",
          "NRHV168CD8",
          "NRHV290CD8",
          "NRHV325CD8",
          "NRHV321CD8",
          "NRHV326CD8",
          "NRHV171CD8",
          "NRHV324CD8",
          "NRHV322CD8",
          "NRHV121CD8",
          "NRHV086CD8"
         ],
         "legendgroup": "CD8, healthy",
         "marker": {
          "color": "#00cc96",
          "opacity": 0.8,
          "size": 10,
          "symbol": "circle"
         },
         "mode": "markers",
         "name": "CD8, healthy",
         "orientation": "v",
         "showlegend": true,
         "type": "scatter",
         "x": [
          6.994023323059082,
          7.828481674194336,
          6.70794153213501,
          7.332784175872803,
          8.79733657836914,
          6.565033435821533,
          8.289521217346191,
          7.7493133544921875,
          8.769427299499512,
          7.264702796936035,
          7.186005592346191,
          6.87949800491333,
          6.059429168701172,
          7.074124813079834,
          7.215287685394287,
          7.466093063354492,
          6.401494979858398
         ],
         "xaxis": "x",
         "y": [
          6.691989421844482,
          7.441386699676514,
          6.449391841888428,
          8.811813354492188,
          7.178267955780029,
          6.358615875244141,
          7.30618953704834,
          6.508628845214844,
          7.107056617736816,
          6.561291217803955,
          6.052402496337891,
          6.994961261749268,
          7.084979057312012,
          6.534283638000488,
          7.752882480621338,
          6.828068733215332,
          6.4424238204956055
         ],
         "yaxis": "y"
        },
        {
         "hovertemplate": "<b>%{hovertext}</b><br><br>cell_type=CD8<br>condition=patient<br>X=%{x}<br>Y=%{y}<extra></extra>",
         "hovertext": [
          "PSA4961CD8",
          "PSA4966CD8",
          "PSA4955CD8",
          "PSA5040CD8",
          "PSA4948CD8",
          "PSA4954CD8",
          "PSA4949CD8",
          "PSA4947CD8",
          "PSA4951CD8",
          "PSA4959CD8",
          "PSA4953CD8",
          "PSA5017CD8",
          "PSA5039CD8",
          "PSA4960CD8",
          "PSA4945CD8",
          "PSA4963CD8",
          "PSA5014CD8",
          "PSA4964CD8",
          "PSA5006CD8",
          "PSA4968CD8",
          "PSA4956CD8",
          "PSA5026CD8",
          "PSA5023CD8",
          "PSA5018CD8",
          "PSA4962CD8",
          "PSA5010CD8",
          "PSA4965CD8",
          "PSA4958CD8",
          "PSA4969CD8",
          "PSA4950CD8",
          "PSA5008CD8",
          "PSA5019CD8",
          "PSA5009CD8",
          "PSA5013CD8",
          "PSA5007CD8",
          "PSA5015CD8",
          "PSA4920CD8",
          "PSA4952CD8",
          "PSA5012CD8",
          "PSA4946CD8",
          "PSA5020CD8",
          "PSA4941CD8",
          "PSA5036CD8",
          "PSA4944CD8",
          "PSA5024CD8",
          "PSA5022CD8",
          "PSA5021CD8",
          "PSA5037CD8"
         ],
         "legendgroup": "CD8, patient",
         "marker": {
          "color": "#00cc96",
          "opacity": 0.8,
          "size": 10,
          "symbol": "diamond"
         },
         "mode": "markers",
         "name": "CD8, patient",
         "orientation": "v",
         "showlegend": true,
         "type": "scatter",
         "x": [
          5.966220378875732,
          7.4238996505737305,
          8.00991153717041,
          8.6134614944458,
          6.321918964385986,
          7.202895641326904,
          7.220194339752197,
          7.7552361488342285,
          6.800767421722412,
          6.036145210266113,
          7.0528082847595215,
          6.68628454208374,
          8.95639419555664,
          6.803814888000488,
          6.270698547363281,
          6.410192012786865,
          8.618304252624512,
          6.175295829772949,
          6.484753131866455,
          8.721919059753418,
          8.585341453552246,
          7.290140151977539,
          5.7043023109436035,
          6.074800491333008,
          8.331927299499512,
          8.638717651367188,
          7.857966899871826,
          7.935891151428223,
          7.080313205718994,
          7.9538679122924805,
          7.993773460388184,
          7.406443119049072,
          7.764169692993164,
          8.357589721679688,
          6.532550811767578,
          8.858041763305664,
          6.01293420791626,
          6.959028720855713,
          6.253100395202637,
          6.339732646942139,
          6.718094348907471,
          6.689237117767334,
          6.798853397369385,
          6.081033229827881,
          6.248233318328857,
          8.08800983428955,
          5.84438943862915,
          7.915349006652832
         ],
         "xaxis": "x",
         "y": [
          7.049161434173584,
          7.182342529296875,
          7.498458385467529,
          7.071188449859619,
          8.22365665435791,
          8.608927726745605,
          7.3828020095825195,
          8.985620498657227,
          7.630095481872559,
          9.32276725769043,
          8.62828254699707,
          7.68427038192749,
          6.787907600402832,
          6.010465145111084,
          8.289691925048828,
          6.369255065917969,
          7.6721391677856445,
          7.011682510375977,
          6.703678607940674,
          6.753533840179443,
          6.954622268676758,
          8.225751876831055,
          7.414188861846924,
          8.75267219543457,
          6.732944488525391,
          6.588652610778809,
          7.659814357757568,
          8.565343856811523,
          8.151104927062988,
          8.546784400939941,
          8.187283515930176,
          8.080338478088379,
          6.355015277862549,
          6.944504737854004,
          7.308721542358398,
          7.38868522644043,
          7.28458309173584,
          8.16688346862793,
          9.530216217041016,
          7.863366603851318,
          7.932843208312988,
          8.14808177947998,
          6.597742080688477,
          7.621832370758057,
          9.024701118469238,
          8.130718231201172,
          6.972352504730225,
          6.928250789642334
         ],
         "yaxis": "y"
        },
        {
         "hovertemplate": "<b>%{hovertext}</b><br><br>cell_type=CD8_SF<br>condition=synovium<br>X=%{x}<br>Y=%{y}<extra></extra>",
         "hovertext": [
          "PSA4918CD8_SF",
          "PSA4958CD8_SF",
          "PSA4942CD8_SF",
          "PSA4969CD8_SF",
          "PSA5025CD8_SF",
          "PSA4917CD8_SF",
          "PSA5040CD8_SF"
         ],
         "legendgroup": "CD8_SF, synovium",
         "marker": {
          "color": "#ab63fa",
          "opacity": 0.8,
          "size": 10,
          "symbol": "square"
         },
         "mode": "markers",
         "name": "CD8_SF, synovium",
         "orientation": "v",
         "showlegend": true,
         "type": "scatter",
         "x": [
          4.993105888366699,
          5.400890827178955,
          5.29770040512085,
          5.179503917694092,
          5.079334259033203,
          5.1727824211120605,
          5.026020050048828
         ],
         "xaxis": "x",
         "y": [
          8.085145950317383,
          8.53148365020752,
          8.266138076782227,
          8.006037712097168,
          7.945234298706055,
          8.412924766540527,
          7.9802565574646
         ],
         "yaxis": "y"
        }
       ],
       "layout": {
        "height": 600,
        "legend": {
         "title": {
          "text": "cell_type, condition"
         },
         "tracegroupgap": 0
        },
        "margin": {
         "t": 60
        },
        "template": {
         "data": {
          "bar": [
           {
            "error_x": {
             "color": "#2a3f5f"
            },
            "error_y": {
             "color": "#2a3f5f"
            },
            "marker": {
             "line": {
              "color": "white",
              "width": 0.5
             },
             "pattern": {
              "fillmode": "overlay",
              "size": 10,
              "solidity": 0.2
             }
            },
            "type": "bar"
           }
          ],
          "barpolar": [
           {
            "marker": {
             "line": {
              "color": "white",
              "width": 0.5
             },
             "pattern": {
              "fillmode": "overlay",
              "size": 10,
              "solidity": 0.2
             }
            },
            "type": "barpolar"
           }
          ],
          "carpet": [
           {
            "aaxis": {
             "endlinecolor": "#2a3f5f",
             "gridcolor": "#C8D4E3",
             "linecolor": "#C8D4E3",
             "minorgridcolor": "#C8D4E3",
             "startlinecolor": "#2a3f5f"
            },
            "baxis": {
             "endlinecolor": "#2a3f5f",
             "gridcolor": "#C8D4E3",
             "linecolor": "#C8D4E3",
             "minorgridcolor": "#C8D4E3",
             "startlinecolor": "#2a3f5f"
            },
            "type": "carpet"
           }
          ],
          "choropleth": [
           {
            "colorbar": {
             "outlinewidth": 0,
             "ticks": ""
            },
            "type": "choropleth"
           }
          ],
          "contour": [
           {
            "colorbar": {
             "outlinewidth": 0,
             "ticks": ""
            },
            "colorscale": [
             [
              0,
              "#0d0887"
             ],
             [
              0.1111111111111111,
              "#46039f"
             ],
             [
              0.2222222222222222,
              "#7201a8"
             ],
             [
              0.3333333333333333,
              "#9c179e"
             ],
             [
              0.4444444444444444,
              "#bd3786"
             ],
             [
              0.5555555555555556,
              "#d8576b"
             ],
             [
              0.6666666666666666,
              "#ed7953"
             ],
             [
              0.7777777777777778,
              "#fb9f3a"
             ],
             [
              0.8888888888888888,
              "#fdca26"
             ],
             [
              1,
              "#f0f921"
             ]
            ],
            "type": "contour"
           }
          ],
          "contourcarpet": [
           {
            "colorbar": {
             "outlinewidth": 0,
             "ticks": ""
            },
            "type": "contourcarpet"
           }
          ],
          "heatmap": [
           {
            "colorbar": {
             "outlinewidth": 0,
             "ticks": ""
            },
            "colorscale": [
             [
              0,
              "#0d0887"
             ],
             [
              0.1111111111111111,
              "#46039f"
             ],
             [
              0.2222222222222222,
              "#7201a8"
             ],
             [
              0.3333333333333333,
              "#9c179e"
             ],
             [
              0.4444444444444444,
              "#bd3786"
             ],
             [
              0.5555555555555556,
              "#d8576b"
             ],
             [
              0.6666666666666666,
              "#ed7953"
             ],
             [
              0.7777777777777778,
              "#fb9f3a"
             ],
             [
              0.8888888888888888,
              "#fdca26"
             ],
             [
              1,
              "#f0f921"
             ]
            ],
            "type": "heatmap"
           }
          ],
          "heatmapgl": [
           {
            "colorbar": {
             "outlinewidth": 0,
             "ticks": ""
            },
            "colorscale": [
             [
              0,
              "#0d0887"
             ],
             [
              0.1111111111111111,
              "#46039f"
             ],
             [
              0.2222222222222222,
              "#7201a8"
             ],
             [
              0.3333333333333333,
              "#9c179e"
             ],
             [
              0.4444444444444444,
              "#bd3786"
             ],
             [
              0.5555555555555556,
              "#d8576b"
             ],
             [
              0.6666666666666666,
              "#ed7953"
             ],
             [
              0.7777777777777778,
              "#fb9f3a"
             ],
             [
              0.8888888888888888,
              "#fdca26"
             ],
             [
              1,
              "#f0f921"
             ]
            ],
            "type": "heatmapgl"
           }
          ],
          "histogram": [
           {
            "marker": {
             "pattern": {
              "fillmode": "overlay",
              "size": 10,
              "solidity": 0.2
             }
            },
            "type": "histogram"
           }
          ],
          "histogram2d": [
           {
            "colorbar": {
             "outlinewidth": 0,
             "ticks": ""
            },
            "colorscale": [
             [
              0,
              "#0d0887"
             ],
             [
              0.1111111111111111,
              "#46039f"
             ],
             [
              0.2222222222222222,
              "#7201a8"
             ],
             [
              0.3333333333333333,
              "#9c179e"
             ],
             [
              0.4444444444444444,
              "#bd3786"
             ],
             [
              0.5555555555555556,
              "#d8576b"
             ],
             [
              0.6666666666666666,
              "#ed7953"
             ],
             [
              0.7777777777777778,
              "#fb9f3a"
             ],
             [
              0.8888888888888888,
              "#fdca26"
             ],
             [
              1,
              "#f0f921"
             ]
            ],
            "type": "histogram2d"
           }
          ],
          "histogram2dcontour": [
           {
            "colorbar": {
             "outlinewidth": 0,
             "ticks": ""
            },
            "colorscale": [
             [
              0,
              "#0d0887"
             ],
             [
              0.1111111111111111,
              "#46039f"
             ],
             [
              0.2222222222222222,
              "#7201a8"
             ],
             [
              0.3333333333333333,
              "#9c179e"
             ],
             [
              0.4444444444444444,
              "#bd3786"
             ],
             [
              0.5555555555555556,
              "#d8576b"
             ],
             [
              0.6666666666666666,
              "#ed7953"
             ],
             [
              0.7777777777777778,
              "#fb9f3a"
             ],
             [
              0.8888888888888888,
              "#fdca26"
             ],
             [
              1,
              "#f0f921"
             ]
            ],
            "type": "histogram2dcontour"
           }
          ],
          "mesh3d": [
           {
            "colorbar": {
             "outlinewidth": 0,
             "ticks": ""
            },
            "type": "mesh3d"
           }
          ],
          "parcoords": [
           {
            "line": {
             "colorbar": {
              "outlinewidth": 0,
              "ticks": ""
             }
            },
            "type": "parcoords"
           }
          ],
          "pie": [
           {
            "automargin": true,
            "type": "pie"
           }
          ],
          "scatter": [
           {
            "marker": {
             "colorbar": {
              "outlinewidth": 0,
              "ticks": ""
             }
            },
            "type": "scatter"
           }
          ],
          "scatter3d": [
           {
            "line": {
             "colorbar": {
              "outlinewidth": 0,
              "ticks": ""
             }
            },
            "marker": {
             "colorbar": {
              "outlinewidth": 0,
              "ticks": ""
             }
            },
            "type": "scatter3d"
           }
          ],
          "scattercarpet": [
           {
            "marker": {
             "colorbar": {
              "outlinewidth": 0,
              "ticks": ""
             }
            },
            "type": "scattercarpet"
           }
          ],
          "scattergeo": [
           {
            "marker": {
             "colorbar": {
              "outlinewidth": 0,
              "ticks": ""
             }
            },
            "type": "scattergeo"
           }
          ],
          "scattergl": [
           {
            "marker": {
             "colorbar": {
              "outlinewidth": 0,
              "ticks": ""
             }
            },
            "type": "scattergl"
           }
          ],
          "scattermapbox": [
           {
            "marker": {
             "colorbar": {
              "outlinewidth": 0,
              "ticks": ""
             }
            },
            "type": "scattermapbox"
           }
          ],
          "scatterpolar": [
           {
            "marker": {
             "colorbar": {
              "outlinewidth": 0,
              "ticks": ""
             }
            },
            "type": "scatterpolar"
           }
          ],
          "scatterpolargl": [
           {
            "marker": {
             "colorbar": {
              "outlinewidth": 0,
              "ticks": ""
             }
            },
            "type": "scatterpolargl"
           }
          ],
          "scatterternary": [
           {
            "marker": {
             "colorbar": {
              "outlinewidth": 0,
              "ticks": ""
             }
            },
            "type": "scatterternary"
           }
          ],
          "surface": [
           {
            "colorbar": {
             "outlinewidth": 0,
             "ticks": ""
            },
            "colorscale": [
             [
              0,
              "#0d0887"
             ],
             [
              0.1111111111111111,
              "#46039f"
             ],
             [
              0.2222222222222222,
              "#7201a8"
             ],
             [
              0.3333333333333333,
              "#9c179e"
             ],
             [
              0.4444444444444444,
              "#bd3786"
             ],
             [
              0.5555555555555556,
              "#d8576b"
             ],
             [
              0.6666666666666666,
              "#ed7953"
             ],
             [
              0.7777777777777778,
              "#fb9f3a"
             ],
             [
              0.8888888888888888,
              "#fdca26"
             ],
             [
              1,
              "#f0f921"
             ]
            ],
            "type": "surface"
           }
          ],
          "table": [
           {
            "cells": {
             "fill": {
              "color": "#EBF0F8"
             },
             "line": {
              "color": "white"
             }
            },
            "header": {
             "fill": {
              "color": "#C8D4E3"
             },
             "line": {
              "color": "white"
             }
            },
            "type": "table"
           }
          ]
         },
         "layout": {
          "annotationdefaults": {
           "arrowcolor": "#2a3f5f",
           "arrowhead": 0,
           "arrowwidth": 1
          },
          "autotypenumbers": "strict",
          "coloraxis": {
           "colorbar": {
            "outlinewidth": 0,
            "ticks": ""
           }
          },
          "colorscale": {
           "diverging": [
            [
             0,
             "#8e0152"
            ],
            [
             0.1,
             "#c51b7d"
            ],
            [
             0.2,
             "#de77ae"
            ],
            [
             0.3,
             "#f1b6da"
            ],
            [
             0.4,
             "#fde0ef"
            ],
            [
             0.5,
             "#f7f7f7"
            ],
            [
             0.6,
             "#e6f5d0"
            ],
            [
             0.7,
             "#b8e186"
            ],
            [
             0.8,
             "#7fbc41"
            ],
            [
             0.9,
             "#4d9221"
            ],
            [
             1,
             "#276419"
            ]
           ],
           "sequential": [
            [
             0,
             "#0d0887"
            ],
            [
             0.1111111111111111,
             "#46039f"
            ],
            [
             0.2222222222222222,
             "#7201a8"
            ],
            [
             0.3333333333333333,
             "#9c179e"
            ],
            [
             0.4444444444444444,
             "#bd3786"
            ],
            [
             0.5555555555555556,
             "#d8576b"
            ],
            [
             0.6666666666666666,
             "#ed7953"
            ],
            [
             0.7777777777777778,
             "#fb9f3a"
            ],
            [
             0.8888888888888888,
             "#fdca26"
            ],
            [
             1,
             "#f0f921"
            ]
           ],
           "sequentialminus": [
            [
             0,
             "#0d0887"
            ],
            [
             0.1111111111111111,
             "#46039f"
            ],
            [
             0.2222222222222222,
             "#7201a8"
            ],
            [
             0.3333333333333333,
             "#9c179e"
            ],
            [
             0.4444444444444444,
             "#bd3786"
            ],
            [
             0.5555555555555556,
             "#d8576b"
            ],
            [
             0.6666666666666666,
             "#ed7953"
            ],
            [
             0.7777777777777778,
             "#fb9f3a"
            ],
            [
             0.8888888888888888,
             "#fdca26"
            ],
            [
             1,
             "#f0f921"
            ]
           ]
          },
          "colorway": [
           "#636efa",
           "#EF553B",
           "#00cc96",
           "#ab63fa",
           "#FFA15A",
           "#19d3f3",
           "#FF6692",
           "#B6E880",
           "#FF97FF",
           "#FECB52"
          ],
          "font": {
           "color": "#2a3f5f"
          },
          "geo": {
           "bgcolor": "white",
           "lakecolor": "white",
           "landcolor": "white",
           "showlakes": true,
           "showland": true,
           "subunitcolor": "#C8D4E3"
          },
          "hoverlabel": {
           "align": "left"
          },
          "hovermode": "closest",
          "mapbox": {
           "style": "light"
          },
          "paper_bgcolor": "white",
          "plot_bgcolor": "white",
          "polar": {
           "angularaxis": {
            "gridcolor": "#EBF0F8",
            "linecolor": "#EBF0F8",
            "ticks": ""
           },
           "bgcolor": "white",
           "radialaxis": {
            "gridcolor": "#EBF0F8",
            "linecolor": "#EBF0F8",
            "ticks": ""
           }
          },
          "scene": {
           "xaxis": {
            "backgroundcolor": "white",
            "gridcolor": "#DFE8F3",
            "gridwidth": 2,
            "linecolor": "#EBF0F8",
            "showbackground": true,
            "ticks": "",
            "zerolinecolor": "#EBF0F8"
           },
           "yaxis": {
            "backgroundcolor": "white",
            "gridcolor": "#DFE8F3",
            "gridwidth": 2,
            "linecolor": "#EBF0F8",
            "showbackground": true,
            "ticks": "",
            "zerolinecolor": "#EBF0F8"
           },
           "zaxis": {
            "backgroundcolor": "white",
            "gridcolor": "#DFE8F3",
            "gridwidth": 2,
            "linecolor": "#EBF0F8",
            "showbackground": true,
            "ticks": "",
            "zerolinecolor": "#EBF0F8"
           }
          },
          "shapedefaults": {
           "line": {
            "color": "#2a3f5f"
           }
          },
          "ternary": {
           "aaxis": {
            "gridcolor": "#DFE8F3",
            "linecolor": "#A2B1C6",
            "ticks": ""
           },
           "baxis": {
            "gridcolor": "#DFE8F3",
            "linecolor": "#A2B1C6",
            "ticks": ""
           },
           "bgcolor": "white",
           "caxis": {
            "gridcolor": "#DFE8F3",
            "linecolor": "#A2B1C6",
            "ticks": ""
           }
          },
          "title": {
           "x": 0.05
          },
          "xaxis": {
           "automargin": true,
           "gridcolor": "#EBF0F8",
           "linecolor": "#EBF0F8",
           "ticks": "",
           "title": {
            "standoff": 15
           },
           "zerolinecolor": "#EBF0F8",
           "zerolinewidth": 2
          },
          "yaxis": {
           "automargin": true,
           "gridcolor": "#EBF0F8",
           "linecolor": "#EBF0F8",
           "ticks": "",
           "title": {
            "standoff": 15
           },
           "zerolinecolor": "#EBF0F8",
           "zerolinewidth": 2
          }
         }
        },
        "width": 700,
        "xaxis": {
         "anchor": "y",
         "domain": [
          0,
          1
         ],
         "title": {
          "text": "X"
         }
        },
        "yaxis": {
         "anchor": "x",
         "domain": [
          0,
          1
         ],
         "title": {
          "text": "Y"
         }
        }
       }
      },
      "text/html": [
       "<div>                            <div id=\"f9879cf1-16ba-4e54-a4b6-e4979effaf88\" class=\"plotly-graph-div\" style=\"height:600px; width:700px;\"></div>            <script type=\"text/javascript\">                require([\"plotly\"], function(Plotly) {                    window.PLOTLYENV=window.PLOTLYENV || {};                                    if (document.getElementById(\"f9879cf1-16ba-4e54-a4b6-e4979effaf88\")) {                    Plotly.newPlot(                        \"f9879cf1-16ba-4e54-a4b6-e4979effaf88\",                        [{\"hovertemplate\":\"<b>%{hovertext}</b><br><br>cell_type=CD4<br>condition=healthy<br>X=%{x}<br>Y=%{y}<extra></extra>\",\"hovertext\":[\"NRHV151CD4\",\"NRHV322CD4\",\"NRHV121CD4\",\"NRHV086CD4\",\"NRHV324CD4\",\"NRHV073CD4\",\"NRHV168CD4\",\"NRHV325CD4\",\"NRHV014XCD4\",\"NRHV332CD4\",\"NRHV326CD4\",\"NRHV295CD4\",\"NRHV290CD4\",\"NRHV079CD4\",\"NRHV171CD4\",\"NRHV238CD4\",\"NRHV321CD4\"],\"legendgroup\":\"CD4, healthy\",\"marker\":{\"color\":\"#636efa\",\"opacity\":0.8,\"symbol\":\"circle\",\"size\":10},\"mode\":\"markers\",\"name\":\"CD4, healthy\",\"orientation\":\"v\",\"showlegend\":true,\"x\":[7.219717502593994,7.524206638336182,7.398902416229248,7.95525598526001,6.00696325302124,5.697813510894775,7.5630364418029785,7.366659164428711,7.042436122894287,5.951247215270996,7.844392776489258,5.645654678344727,6.94417142868042,7.845489978790283,6.42543888092041,6.11347770690918,7.981259822845459],\"xaxis\":\"x\",\"y\":[14.139142990112305,15.574299812316895,16.0862979888916,16.342605590820312,14.653741836547852,15.02092456817627,16.728944778442383,16.4986515045166,16.45700454711914,15.209197998046875,16.187898635864258,14.620773315429688,15.976922988891602,16.55385398864746,14.909684181213379,14.786967277526855,15.78864860534668],\"yaxis\":\"y\",\"type\":\"scatter\"},{\"hovertemplate\":\"<b>%{hovertext}</b><br><br>cell_type=CD4<br>condition=patient<br>X=%{x}<br>Y=%{y}<extra></extra>\",\"hovertext\":[\"PSA5019CD4\",\"PSA4959CD4\",\"PSA4957CD4\",\"PSA4947CD4\",\"PSA5036CD4\",\"PSA5013CD4\",\"PSA4956CD4\",\"PSA5026CD4\",\"PSA5018CD4\",\"PSA5010CD4\",\"PSA5009CD4\",\"PSA4958CD4\",\"PSA5021CD4\",\"PSA4962CD4\",\"PSA5007CD4\",\"PSA5006CD4\",\"PSA4968CD4\",\"PSA4967CD4\",\"PSA5037CD4\",\"PSA5017CD4\",\"PSA4951CD4\",\"PSA4945CD4\",\"PSA5040CD4\",\"PSA4944CD4\",\"PSA4950CD4\",\"PSA4963CD4\",\"PSA5008CD4\",\"PSA4949CD4\",\"PSA5012CD4\",\"PSA4952CD4\",\"PSA4954CD4\",\"PSA5014CD4\",\"PSA4964CD4\",\"PSA4920CD4\"],\"legendgroup\":\"CD4, patient\",\"marker\":{\"color\":\"#636efa\",\"opacity\":0.8,\"symbol\":\"diamond\",\"size\":10},\"mode\":\"markers\",\"name\":\"CD4, patient\",\"orientation\":\"v\",\"showlegend\":true,\"x\":[7.754815101623535,5.832574844360352,7.498604774475098,7.111443519592285,7.80629301071167,7.343874454498291,7.7704596519470215,7.2187066078186035,5.747987747192383,6.988607406616211,6.065436363220215,7.013383388519287,6.922044277191162,6.605010986328125,7.657275199890137,7.973723888397217,7.246236324310303,6.819356441497803,6.159890651702881,7.583159923553467,6.9350786209106445,6.633013725280762,7.399082183837891,7.499905586242676,7.202083110809326,6.712643623352051,6.580287456512451,7.302513122558594,5.9782819747924805,6.839463233947754,6.587561130523682,6.192488193511963,7.5777363777160645,7.182394504547119],\"xaxis\":\"x\",\"y\":[15.223503112792969,14.112441062927246,16.308197021484375,15.708732604980469,16.125301361083984,15.447799682617188,16.22724151611328,15.272744178771973,14.9181489944458,16.02448272705078,14.951852798461914,14.391937255859375,15.515652656555176,15.973065376281738,16.10719108581543,15.532525062561035,16.564502716064453,16.43796730041504,15.109390258789062,15.135615348815918,15.053681373596191,15.834181785583496,16.547544479370117,13.76279354095459,14.898670196533203,14.875350952148438,14.457756996154785,14.248299598693848,14.056303977966309,15.102863311767578,14.751859664916992,14.482873916625977,15.701069831848145,14.121667861938477],\"yaxis\":\"y\",\"type\":\"scatter\"},{\"hovertemplate\":\"<b>%{hovertext}</b><br><br>cell_type=CD4_SF<br>condition=synovium<br>X=%{x}<br>Y=%{y}<extra></extra>\",\"hovertext\":[\"PSA4958CD4_SF\",\"PSA4951CD4_SF\",\"PSA4917CD4_SF\"],\"legendgroup\":\"CD4_SF, synovium\",\"marker\":{\"color\":\"#EF553B\",\"opacity\":0.8,\"symbol\":\"square\",\"size\":10},\"mode\":\"markers\",\"name\":\"CD4_SF, synovium\",\"orientation\":\"v\",\"showlegend\":true,\"x\":[5.374983787536621,5.2425127029418945,5.167625904083252],\"xaxis\":\"x\",\"y\":[8.974884986877441,8.808999061584473,8.75786304473877],\"yaxis\":\"y\",\"type\":\"scatter\"},{\"hovertemplate\":\"<b>%{hovertext}</b><br><br>cell_type=CD8<br>condition=healthy<br>X=%{x}<br>Y=%{y}<extra></extra>\",\"hovertext\":[\"NRHV014XCD8\",\"NRHV073CD8\",\"NRHV079CD8\",\"NRHV151CD8\",\"NRHV238CD8\",\"NRHV295CD8\",\"NRHV332CD8\",\"NRHV168CD8\",\"NRHV290CD8\",\"NRHV325CD8\",\"NRHV321CD8\",\"NRHV326CD8\",\"NRHV171CD8\",\"NRHV324CD8\",\"NRHV322CD8\",\"NRHV121CD8\",\"NRHV086CD8\"],\"legendgroup\":\"CD8, healthy\",\"marker\":{\"color\":\"#00cc96\",\"opacity\":0.8,\"symbol\":\"circle\",\"size\":10},\"mode\":\"markers\",\"name\":\"CD8, healthy\",\"orientation\":\"v\",\"showlegend\":true,\"x\":[6.994023323059082,7.828481674194336,6.70794153213501,7.332784175872803,8.79733657836914,6.565033435821533,8.289521217346191,7.7493133544921875,8.769427299499512,7.264702796936035,7.186005592346191,6.87949800491333,6.059429168701172,7.074124813079834,7.215287685394287,7.466093063354492,6.401494979858398],\"xaxis\":\"x\",\"y\":[6.691989421844482,7.441386699676514,6.449391841888428,8.811813354492188,7.178267955780029,6.358615875244141,7.30618953704834,6.508628845214844,7.107056617736816,6.561291217803955,6.052402496337891,6.994961261749268,7.084979057312012,6.534283638000488,7.752882480621338,6.828068733215332,6.4424238204956055],\"yaxis\":\"y\",\"type\":\"scatter\"},{\"hovertemplate\":\"<b>%{hovertext}</b><br><br>cell_type=CD8<br>condition=patient<br>X=%{x}<br>Y=%{y}<extra></extra>\",\"hovertext\":[\"PSA4961CD8\",\"PSA4966CD8\",\"PSA4955CD8\",\"PSA5040CD8\",\"PSA4948CD8\",\"PSA4954CD8\",\"PSA4949CD8\",\"PSA4947CD8\",\"PSA4951CD8\",\"PSA4959CD8\",\"PSA4953CD8\",\"PSA5017CD8\",\"PSA5039CD8\",\"PSA4960CD8\",\"PSA4945CD8\",\"PSA4963CD8\",\"PSA5014CD8\",\"PSA4964CD8\",\"PSA5006CD8\",\"PSA4968CD8\",\"PSA4956CD8\",\"PSA5026CD8\",\"PSA5023CD8\",\"PSA5018CD8\",\"PSA4962CD8\",\"PSA5010CD8\",\"PSA4965CD8\",\"PSA4958CD8\",\"PSA4969CD8\",\"PSA4950CD8\",\"PSA5008CD8\",\"PSA5019CD8\",\"PSA5009CD8\",\"PSA5013CD8\",\"PSA5007CD8\",\"PSA5015CD8\",\"PSA4920CD8\",\"PSA4952CD8\",\"PSA5012CD8\",\"PSA4946CD8\",\"PSA5020CD8\",\"PSA4941CD8\",\"PSA5036CD8\",\"PSA4944CD8\",\"PSA5024CD8\",\"PSA5022CD8\",\"PSA5021CD8\",\"PSA5037CD8\"],\"legendgroup\":\"CD8, patient\",\"marker\":{\"color\":\"#00cc96\",\"opacity\":0.8,\"symbol\":\"diamond\",\"size\":10},\"mode\":\"markers\",\"name\":\"CD8, patient\",\"orientation\":\"v\",\"showlegend\":true,\"x\":[5.966220378875732,7.4238996505737305,8.00991153717041,8.6134614944458,6.321918964385986,7.202895641326904,7.220194339752197,7.7552361488342285,6.800767421722412,6.036145210266113,7.0528082847595215,6.68628454208374,8.95639419555664,6.803814888000488,6.270698547363281,6.410192012786865,8.618304252624512,6.175295829772949,6.484753131866455,8.721919059753418,8.585341453552246,7.290140151977539,5.7043023109436035,6.074800491333008,8.331927299499512,8.638717651367188,7.857966899871826,7.935891151428223,7.080313205718994,7.9538679122924805,7.993773460388184,7.406443119049072,7.764169692993164,8.357589721679688,6.532550811767578,8.858041763305664,6.01293420791626,6.959028720855713,6.253100395202637,6.339732646942139,6.718094348907471,6.689237117767334,6.798853397369385,6.081033229827881,6.248233318328857,8.08800983428955,5.84438943862915,7.915349006652832],\"xaxis\":\"x\",\"y\":[7.049161434173584,7.182342529296875,7.498458385467529,7.071188449859619,8.22365665435791,8.608927726745605,7.3828020095825195,8.985620498657227,7.630095481872559,9.32276725769043,8.62828254699707,7.68427038192749,6.787907600402832,6.010465145111084,8.289691925048828,6.369255065917969,7.6721391677856445,7.011682510375977,6.703678607940674,6.753533840179443,6.954622268676758,8.225751876831055,7.414188861846924,8.75267219543457,6.732944488525391,6.588652610778809,7.659814357757568,8.565343856811523,8.151104927062988,8.546784400939941,8.187283515930176,8.080338478088379,6.355015277862549,6.944504737854004,7.308721542358398,7.38868522644043,7.28458309173584,8.16688346862793,9.530216217041016,7.863366603851318,7.932843208312988,8.14808177947998,6.597742080688477,7.621832370758057,9.024701118469238,8.130718231201172,6.972352504730225,6.928250789642334],\"yaxis\":\"y\",\"type\":\"scatter\"},{\"hovertemplate\":\"<b>%{hovertext}</b><br><br>cell_type=CD8_SF<br>condition=synovium<br>X=%{x}<br>Y=%{y}<extra></extra>\",\"hovertext\":[\"PSA4918CD8_SF\",\"PSA4958CD8_SF\",\"PSA4942CD8_SF\",\"PSA4969CD8_SF\",\"PSA5025CD8_SF\",\"PSA4917CD8_SF\",\"PSA5040CD8_SF\"],\"legendgroup\":\"CD8_SF, synovium\",\"marker\":{\"color\":\"#ab63fa\",\"opacity\":0.8,\"symbol\":\"square\",\"size\":10},\"mode\":\"markers\",\"name\":\"CD8_SF, synovium\",\"orientation\":\"v\",\"showlegend\":true,\"x\":[4.993105888366699,5.400890827178955,5.29770040512085,5.179503917694092,5.079334259033203,5.1727824211120605,5.026020050048828],\"xaxis\":\"x\",\"y\":[8.085145950317383,8.53148365020752,8.266138076782227,8.006037712097168,7.945234298706055,8.412924766540527,7.9802565574646],\"yaxis\":\"y\",\"type\":\"scatter\"}],                        {\"template\":{\"data\":{\"barpolar\":[{\"marker\":{\"line\":{\"color\":\"white\",\"width\":0.5},\"pattern\":{\"fillmode\":\"overlay\",\"size\":10,\"solidity\":0.2}},\"type\":\"barpolar\"}],\"bar\":[{\"error_x\":{\"color\":\"#2a3f5f\"},\"error_y\":{\"color\":\"#2a3f5f\"},\"marker\":{\"line\":{\"color\":\"white\",\"width\":0.5},\"pattern\":{\"fillmode\":\"overlay\",\"size\":10,\"solidity\":0.2}},\"type\":\"bar\"}],\"carpet\":[{\"aaxis\":{\"endlinecolor\":\"#2a3f5f\",\"gridcolor\":\"#C8D4E3\",\"linecolor\":\"#C8D4E3\",\"minorgridcolor\":\"#C8D4E3\",\"startlinecolor\":\"#2a3f5f\"},\"baxis\":{\"endlinecolor\":\"#2a3f5f\",\"gridcolor\":\"#C8D4E3\",\"linecolor\":\"#C8D4E3\",\"minorgridcolor\":\"#C8D4E3\",\"startlinecolor\":\"#2a3f5f\"},\"type\":\"carpet\"}],\"choropleth\":[{\"colorbar\":{\"outlinewidth\":0,\"ticks\":\"\"},\"type\":\"choropleth\"}],\"contourcarpet\":[{\"colorbar\":{\"outlinewidth\":0,\"ticks\":\"\"},\"type\":\"contourcarpet\"}],\"contour\":[{\"colorbar\":{\"outlinewidth\":0,\"ticks\":\"\"},\"colorscale\":[[0.0,\"#0d0887\"],[0.1111111111111111,\"#46039f\"],[0.2222222222222222,\"#7201a8\"],[0.3333333333333333,\"#9c179e\"],[0.4444444444444444,\"#bd3786\"],[0.5555555555555556,\"#d8576b\"],[0.6666666666666666,\"#ed7953\"],[0.7777777777777778,\"#fb9f3a\"],[0.8888888888888888,\"#fdca26\"],[1.0,\"#f0f921\"]],\"type\":\"contour\"}],\"heatmapgl\":[{\"colorbar\":{\"outlinewidth\":0,\"ticks\":\"\"},\"colorscale\":[[0.0,\"#0d0887\"],[0.1111111111111111,\"#46039f\"],[0.2222222222222222,\"#7201a8\"],[0.3333333333333333,\"#9c179e\"],[0.4444444444444444,\"#bd3786\"],[0.5555555555555556,\"#d8576b\"],[0.6666666666666666,\"#ed7953\"],[0.7777777777777778,\"#fb9f3a\"],[0.8888888888888888,\"#fdca26\"],[1.0,\"#f0f921\"]],\"type\":\"heatmapgl\"}],\"heatmap\":[{\"colorbar\":{\"outlinewidth\":0,\"ticks\":\"\"},\"colorscale\":[[0.0,\"#0d0887\"],[0.1111111111111111,\"#46039f\"],[0.2222222222222222,\"#7201a8\"],[0.3333333333333333,\"#9c179e\"],[0.4444444444444444,\"#bd3786\"],[0.5555555555555556,\"#d8576b\"],[0.6666666666666666,\"#ed7953\"],[0.7777777777777778,\"#fb9f3a\"],[0.8888888888888888,\"#fdca26\"],[1.0,\"#f0f921\"]],\"type\":\"heatmap\"}],\"histogram2dcontour\":[{\"colorbar\":{\"outlinewidth\":0,\"ticks\":\"\"},\"colorscale\":[[0.0,\"#0d0887\"],[0.1111111111111111,\"#46039f\"],[0.2222222222222222,\"#7201a8\"],[0.3333333333333333,\"#9c179e\"],[0.4444444444444444,\"#bd3786\"],[0.5555555555555556,\"#d8576b\"],[0.6666666666666666,\"#ed7953\"],[0.7777777777777778,\"#fb9f3a\"],[0.8888888888888888,\"#fdca26\"],[1.0,\"#f0f921\"]],\"type\":\"histogram2dcontour\"}],\"histogram2d\":[{\"colorbar\":{\"outlinewidth\":0,\"ticks\":\"\"},\"colorscale\":[[0.0,\"#0d0887\"],[0.1111111111111111,\"#46039f\"],[0.2222222222222222,\"#7201a8\"],[0.3333333333333333,\"#9c179e\"],[0.4444444444444444,\"#bd3786\"],[0.5555555555555556,\"#d8576b\"],[0.6666666666666666,\"#ed7953\"],[0.7777777777777778,\"#fb9f3a\"],[0.8888888888888888,\"#fdca26\"],[1.0,\"#f0f921\"]],\"type\":\"histogram2d\"}],\"histogram\":[{\"marker\":{\"pattern\":{\"fillmode\":\"overlay\",\"size\":10,\"solidity\":0.2}},\"type\":\"histogram\"}],\"mesh3d\":[{\"colorbar\":{\"outlinewidth\":0,\"ticks\":\"\"},\"type\":\"mesh3d\"}],\"parcoords\":[{\"line\":{\"colorbar\":{\"outlinewidth\":0,\"ticks\":\"\"}},\"type\":\"parcoords\"}],\"pie\":[{\"automargin\":true,\"type\":\"pie\"}],\"scatter3d\":[{\"line\":{\"colorbar\":{\"outlinewidth\":0,\"ticks\":\"\"}},\"marker\":{\"colorbar\":{\"outlinewidth\":0,\"ticks\":\"\"}},\"type\":\"scatter3d\"}],\"scattercarpet\":[{\"marker\":{\"colorbar\":{\"outlinewidth\":0,\"ticks\":\"\"}},\"type\":\"scattercarpet\"}],\"scattergeo\":[{\"marker\":{\"colorbar\":{\"outlinewidth\":0,\"ticks\":\"\"}},\"type\":\"scattergeo\"}],\"scattergl\":[{\"marker\":{\"colorbar\":{\"outlinewidth\":0,\"ticks\":\"\"}},\"type\":\"scattergl\"}],\"scattermapbox\":[{\"marker\":{\"colorbar\":{\"outlinewidth\":0,\"ticks\":\"\"}},\"type\":\"scattermapbox\"}],\"scatterpolargl\":[{\"marker\":{\"colorbar\":{\"outlinewidth\":0,\"ticks\":\"\"}},\"type\":\"scatterpolargl\"}],\"scatterpolar\":[{\"marker\":{\"colorbar\":{\"outlinewidth\":0,\"ticks\":\"\"}},\"type\":\"scatterpolar\"}],\"scatter\":[{\"marker\":{\"colorbar\":{\"outlinewidth\":0,\"ticks\":\"\"}},\"type\":\"scatter\"}],\"scatterternary\":[{\"marker\":{\"colorbar\":{\"outlinewidth\":0,\"ticks\":\"\"}},\"type\":\"scatterternary\"}],\"surface\":[{\"colorbar\":{\"outlinewidth\":0,\"ticks\":\"\"},\"colorscale\":[[0.0,\"#0d0887\"],[0.1111111111111111,\"#46039f\"],[0.2222222222222222,\"#7201a8\"],[0.3333333333333333,\"#9c179e\"],[0.4444444444444444,\"#bd3786\"],[0.5555555555555556,\"#d8576b\"],[0.6666666666666666,\"#ed7953\"],[0.7777777777777778,\"#fb9f3a\"],[0.8888888888888888,\"#fdca26\"],[1.0,\"#f0f921\"]],\"type\":\"surface\"}],\"table\":[{\"cells\":{\"fill\":{\"color\":\"#EBF0F8\"},\"line\":{\"color\":\"white\"}},\"header\":{\"fill\":{\"color\":\"#C8D4E3\"},\"line\":{\"color\":\"white\"}},\"type\":\"table\"}]},\"layout\":{\"annotationdefaults\":{\"arrowcolor\":\"#2a3f5f\",\"arrowhead\":0,\"arrowwidth\":1},\"autotypenumbers\":\"strict\",\"coloraxis\":{\"colorbar\":{\"outlinewidth\":0,\"ticks\":\"\"}},\"colorscale\":{\"diverging\":[[0,\"#8e0152\"],[0.1,\"#c51b7d\"],[0.2,\"#de77ae\"],[0.3,\"#f1b6da\"],[0.4,\"#fde0ef\"],[0.5,\"#f7f7f7\"],[0.6,\"#e6f5d0\"],[0.7,\"#b8e186\"],[0.8,\"#7fbc41\"],[0.9,\"#4d9221\"],[1,\"#276419\"]],\"sequential\":[[0.0,\"#0d0887\"],[0.1111111111111111,\"#46039f\"],[0.2222222222222222,\"#7201a8\"],[0.3333333333333333,\"#9c179e\"],[0.4444444444444444,\"#bd3786\"],[0.5555555555555556,\"#d8576b\"],[0.6666666666666666,\"#ed7953\"],[0.7777777777777778,\"#fb9f3a\"],[0.8888888888888888,\"#fdca26\"],[1.0,\"#f0f921\"]],\"sequentialminus\":[[0.0,\"#0d0887\"],[0.1111111111111111,\"#46039f\"],[0.2222222222222222,\"#7201a8\"],[0.3333333333333333,\"#9c179e\"],[0.4444444444444444,\"#bd3786\"],[0.5555555555555556,\"#d8576b\"],[0.6666666666666666,\"#ed7953\"],[0.7777777777777778,\"#fb9f3a\"],[0.8888888888888888,\"#fdca26\"],[1.0,\"#f0f921\"]]},\"colorway\":[\"#636efa\",\"#EF553B\",\"#00cc96\",\"#ab63fa\",\"#FFA15A\",\"#19d3f3\",\"#FF6692\",\"#B6E880\",\"#FF97FF\",\"#FECB52\"],\"font\":{\"color\":\"#2a3f5f\"},\"geo\":{\"bgcolor\":\"white\",\"lakecolor\":\"white\",\"landcolor\":\"white\",\"showlakes\":true,\"showland\":true,\"subunitcolor\":\"#C8D4E3\"},\"hoverlabel\":{\"align\":\"left\"},\"hovermode\":\"closest\",\"mapbox\":{\"style\":\"light\"},\"paper_bgcolor\":\"white\",\"plot_bgcolor\":\"white\",\"polar\":{\"angularaxis\":{\"gridcolor\":\"#EBF0F8\",\"linecolor\":\"#EBF0F8\",\"ticks\":\"\"},\"bgcolor\":\"white\",\"radialaxis\":{\"gridcolor\":\"#EBF0F8\",\"linecolor\":\"#EBF0F8\",\"ticks\":\"\"}},\"scene\":{\"xaxis\":{\"backgroundcolor\":\"white\",\"gridcolor\":\"#DFE8F3\",\"gridwidth\":2,\"linecolor\":\"#EBF0F8\",\"showbackground\":true,\"ticks\":\"\",\"zerolinecolor\":\"#EBF0F8\"},\"yaxis\":{\"backgroundcolor\":\"white\",\"gridcolor\":\"#DFE8F3\",\"gridwidth\":2,\"linecolor\":\"#EBF0F8\",\"showbackground\":true,\"ticks\":\"\",\"zerolinecolor\":\"#EBF0F8\"},\"zaxis\":{\"backgroundcolor\":\"white\",\"gridcolor\":\"#DFE8F3\",\"gridwidth\":2,\"linecolor\":\"#EBF0F8\",\"showbackground\":true,\"ticks\":\"\",\"zerolinecolor\":\"#EBF0F8\"}},\"shapedefaults\":{\"line\":{\"color\":\"#2a3f5f\"}},\"ternary\":{\"aaxis\":{\"gridcolor\":\"#DFE8F3\",\"linecolor\":\"#A2B1C6\",\"ticks\":\"\"},\"baxis\":{\"gridcolor\":\"#DFE8F3\",\"linecolor\":\"#A2B1C6\",\"ticks\":\"\"},\"bgcolor\":\"white\",\"caxis\":{\"gridcolor\":\"#DFE8F3\",\"linecolor\":\"#A2B1C6\",\"ticks\":\"\"}},\"title\":{\"x\":0.05},\"xaxis\":{\"automargin\":true,\"gridcolor\":\"#EBF0F8\",\"linecolor\":\"#EBF0F8\",\"ticks\":\"\",\"title\":{\"standoff\":15},\"zerolinecolor\":\"#EBF0F8\",\"zerolinewidth\":2},\"yaxis\":{\"automargin\":true,\"gridcolor\":\"#EBF0F8\",\"linecolor\":\"#EBF0F8\",\"ticks\":\"\",\"title\":{\"standoff\":15},\"zerolinecolor\":\"#EBF0F8\",\"zerolinewidth\":2}}},\"xaxis\":{\"anchor\":\"y\",\"domain\":[0.0,1.0],\"title\":{\"text\":\"X\"}},\"yaxis\":{\"anchor\":\"x\",\"domain\":[0.0,1.0],\"title\":{\"text\":\"Y\"}},\"legend\":{\"title\":{\"text\":\"cell_type, condition\"},\"tracegroupgap\":0},\"margin\":{\"t\":60},\"height\":600,\"width\":700},                        {\"responsive\": true}                    ).then(function(){\n",
       "                            \n",
       "var gd = document.getElementById('f9879cf1-16ba-4e54-a4b6-e4979effaf88');\n",
       "var x = new MutationObserver(function (mutations, observer) {{\n",
       "        var display = window.getComputedStyle(gd).display;\n",
       "        if (!display || display === 'none') {{\n",
       "            console.log([gd, 'removed!']);\n",
       "            Plotly.purge(gd);\n",
       "            observer.disconnect();\n",
       "        }}\n",
       "}});\n",
       "\n",
       "// Listen for the removal of the full notebook cells\n",
       "var notebookContainer = gd.closest('#notebook-container');\n",
       "if (notebookContainer) {{\n",
       "    x.observe(notebookContainer, {childList: true});\n",
       "}}\n",
       "\n",
       "// Listen for the clearing of the current output cell\n",
       "var outputEl = gd.closest('.output');\n",
       "if (outputEl) {{\n",
       "    x.observe(outputEl, {childList: true});\n",
       "}}\n",
       "\n",
       "                        })                };                });            </script>        </div>"
      ]
     },
     "metadata": {},
     "output_type": "display_data"
    }
   ],
   "source": [
    "fig = px.scatter(rep, x = \"X\", y = \"Y\", color = \"cell_type\", hover_name = \"proper_name\", template = \"plotly_white\", symbol = \"condition\", opacity = 0.8,\n",
    "height = 600, width = 700)\n",
    "fig.update_traces(marker={'size': 10})\n",
    "fig.show()\n",
    "fig.write_image(f\"{base_dir}/ATAC_seq_analysis/figures/ATAC_UMAP.svg\")"
   ]
  },
  {
   "cell_type": "code",
   "execution_count": null,
   "metadata": {},
   "outputs": [],
   "source": []
  }
 ],
 "metadata": {
  "kernelspec": {
   "display_name": "Python 3",
   "language": "python",
   "name": "python3"
  },
  "language_info": {
   "codemirror_mode": {
    "name": "ipython",
    "version": 3
   },
   "file_extension": ".py",
   "mimetype": "text/x-python",
   "name": "python",
   "nbconvert_exporter": "python",
   "pygments_lexer": "ipython3",
   "version": "3.9.10"
  },
  "orig_nbformat": 4
 },
 "nbformat": 4,
 "nbformat_minor": 2
}
