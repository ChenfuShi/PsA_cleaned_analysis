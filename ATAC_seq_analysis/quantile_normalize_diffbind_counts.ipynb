{
 "cells": [
  {
   "attachments": {},
   "cell_type": "markdown",
   "metadata": {},
   "source": [
    "# apply quantile normalization to ATAC-seq counts for further analysis"
   ]
  },
  {
   "cell_type": "code",
   "execution_count": 1,
   "metadata": {},
   "outputs": [
    {
     "name": "stdout",
     "output_type": "stream",
     "text": [
      "INFO: Pandarallel will run on 28 workers.\n",
      "INFO: Pandarallel will use Memory file system to transfer data between the main process and workers.\n"
     ]
    }
   ],
   "source": [
    "import pandas as pd\n",
    "import numpy as np\n",
    "import hicstraw \n",
    "from multiprocessing import Pool\n",
    "from functools import partial\n",
    "import glob\n",
    "import os\n",
    "import plotly.express as px\n",
    "import math\n",
    "import matplotlib.pyplot as plt\n",
    "from matplotlib import colors\n",
    "from pandarallel import pandarallel\n",
    "import cooler\n",
    "import cooltools\n",
    "import pybedtools as pbed\n",
    "pandarallel.initialize()\n",
    "from scipy import stats, special\n",
    "from statsmodels.stats import multitest\n",
    "import statsmodels.api as sm\n",
    "import statsmodels.formula.api as smf\n",
    "import plotly.io as pio\n",
    "import seaborn as sns\n",
    "os.makedirs(\"/mnt/iusers01/jw01/mdefscs4/scratch/temp_pybedtools/\", exist_ok = True)\n",
    "pbed.helpers.set_tempdir(\"/mnt/iusers01/jw01/mdefscs4/scratch/temp_pybedtools/\")\n",
    "bed_genome_file = \"/mnt/iusers01/jw01/mdefscs4/hg38.genome\"\n",
    "\n",
    "plt.rcParams['svg.fonttype'] = 'none'\n",
    "\n",
    "base_dir = \"/mnt/jw01-aruk-home01/projects/psa_functional_genomics/PsA_cleaned_analysis\""
   ]
  },
  {
   "cell_type": "code",
   "execution_count": 2,
   "metadata": {},
   "outputs": [],
   "source": [
    "import sys\n",
    "sys.path.append(f\"{base_dir}/data_functions\")\n",
    "from quantile_norm import quantile_normalize"
   ]
  },
  {
   "cell_type": "code",
   "execution_count": 4,
   "metadata": {},
   "outputs": [],
   "source": [
    "ATAC_normalised_counts = pd.read_csv(\"/mnt/jw01-aruk-home01/projects/psa_functional_genomics/PsA_cleaned_analysis/ATAC_seq_analysis/ATAC_DESeq2_normalized_counts.csv\", index_col = 0)\n"
   ]
  },
  {
   "cell_type": "code",
   "execution_count": 5,
   "metadata": {},
   "outputs": [],
   "source": [
    "ATAC_normalised_counts.iloc[:,3:] = quantile_normalize(ATAC_normalised_counts.iloc[:,3:])\n",
    "ATAC_normalised_counts.to_csv(\"/mnt/jw01-aruk-home01/projects/psa_functional_genomics/PsA_cleaned_analysis/ATAC_seq_analysis/ATAC_DESeq2_quantile_normalized_counts.csv\")"
   ]
  },
  {
   "cell_type": "code",
   "execution_count": null,
   "metadata": {},
   "outputs": [],
   "source": []
  }
 ],
 "metadata": {
  "kernelspec": {
   "display_name": "Python 3",
   "language": "python",
   "name": "python3"
  },
  "language_info": {
   "codemirror_mode": {
    "name": "ipython",
    "version": 3
   },
   "file_extension": ".py",
   "mimetype": "text/x-python",
   "name": "python",
   "nbconvert_exporter": "python",
   "pygments_lexer": "ipython3",
   "version": "3.9.10"
  },
  "orig_nbformat": 4
 },
 "nbformat": 4,
 "nbformat_minor": 2
}
