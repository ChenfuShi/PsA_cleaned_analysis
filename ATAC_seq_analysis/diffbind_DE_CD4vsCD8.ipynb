{
 "cells": [
  {
   "attachments": {},
   "cell_type": "markdown",
   "metadata": {},
   "source": [
    "# Diffbind analysis to identify differential peaks between the different cell types\n",
    "\n",
    "requires precomputed diffbind dataset"
   ]
  },
  {
   "cell_type": "code",
   "execution_count": 1,
   "metadata": {
    "vscode": {
     "languageId": "r"
    }
   },
   "outputs": [
    {
     "name": "stderr",
     "output_type": "stream",
     "text": [
      "── \u001b[1mAttaching packages\u001b[22m ─────────────────────────────────────── tidyverse 1.3.1 ──\n",
      "\n",
      "\u001b[32m✔\u001b[39m \u001b[34mggplot2\u001b[39m 3.4.0     \u001b[32m✔\u001b[39m \u001b[34mpurrr  \u001b[39m 0.3.4\n",
      "\u001b[32m✔\u001b[39m \u001b[34mtibble \u001b[39m 3.1.6     \u001b[32m✔\u001b[39m \u001b[34mdplyr  \u001b[39m 1.1.0\n",
      "\u001b[32m✔\u001b[39m \u001b[34mtidyr  \u001b[39m 1.1.4     \u001b[32m✔\u001b[39m \u001b[34mstringr\u001b[39m 1.4.1\n",
      "\u001b[32m✔\u001b[39m \u001b[34mreadr  \u001b[39m 2.1.1     \u001b[32m✔\u001b[39m \u001b[34mforcats\u001b[39m 0.5.1\n",
      "\n",
      "── \u001b[1mConflicts\u001b[22m ────────────────────────────────────────── tidyverse_conflicts() ──\n",
      "\u001b[31m✖\u001b[39m \u001b[34mdplyr\u001b[39m::\u001b[32mfilter()\u001b[39m masks \u001b[34mstats\u001b[39m::filter()\n",
      "\u001b[31m✖\u001b[39m \u001b[34mdplyr\u001b[39m::\u001b[32mlag()\u001b[39m    masks \u001b[34mstats\u001b[39m::lag()\n",
      "\n",
      "Loading required package: GenomicRanges\n",
      "\n",
      "Loading required package: stats4\n",
      "\n",
      "Loading required package: BiocGenerics\n",
      "\n",
      "\n",
      "Attaching package: ‘BiocGenerics’\n",
      "\n",
      "\n",
      "The following objects are masked from ‘package:dplyr’:\n",
      "\n",
      "    combine, intersect, setdiff, union\n",
      "\n",
      "\n",
      "The following objects are masked from ‘package:stats’:\n",
      "\n",
      "    IQR, mad, sd, var, xtabs\n",
      "\n",
      "\n",
      "The following objects are masked from ‘package:base’:\n",
      "\n",
      "    anyDuplicated, append, as.data.frame, basename, cbind, colnames,\n",
      "    dirname, do.call, duplicated, eval, evalq, Filter, Find, get, grep,\n",
      "    grepl, intersect, is.unsorted, lapply, Map, mapply, match, mget,\n",
      "    order, paste, pmax, pmax.int, pmin, pmin.int, Position, rank,\n",
      "    rbind, Reduce, rownames, sapply, setdiff, sort, table, tapply,\n",
      "    union, unique, unsplit, which.max, which.min\n",
      "\n",
      "\n",
      "Loading required package: S4Vectors\n",
      "\n",
      "\n",
      "Attaching package: ‘S4Vectors’\n",
      "\n",
      "\n",
      "The following objects are masked from ‘package:dplyr’:\n",
      "\n",
      "    first, rename\n",
      "\n",
      "\n",
      "The following object is masked from ‘package:tidyr’:\n",
      "\n",
      "    expand\n",
      "\n",
      "\n",
      "The following objects are masked from ‘package:base’:\n",
      "\n",
      "    expand.grid, I, unname\n",
      "\n",
      "\n",
      "Loading required package: IRanges\n",
      "\n",
      "\n",
      "Attaching package: ‘IRanges’\n",
      "\n",
      "\n",
      "The following objects are masked from ‘package:dplyr’:\n",
      "\n",
      "    collapse, desc, slice\n",
      "\n",
      "\n",
      "The following object is masked from ‘package:purrr’:\n",
      "\n",
      "    reduce\n",
      "\n",
      "\n",
      "Loading required package: GenomeInfoDb\n",
      "\n",
      "Loading required package: SummarizedExperiment\n",
      "\n",
      "Loading required package: MatrixGenerics\n",
      "\n",
      "Loading required package: matrixStats\n",
      "\n",
      "\n",
      "Attaching package: ‘matrixStats’\n",
      "\n",
      "\n",
      "The following object is masked from ‘package:dplyr’:\n",
      "\n",
      "    count\n",
      "\n",
      "\n",
      "\n",
      "Attaching package: ‘MatrixGenerics’\n",
      "\n",
      "\n",
      "The following objects are masked from ‘package:matrixStats’:\n",
      "\n",
      "    colAlls, colAnyNAs, colAnys, colAvgsPerRowSet, colCollapse,\n",
      "    colCounts, colCummaxs, colCummins, colCumprods, colCumsums,\n",
      "    colDiffs, colIQRDiffs, colIQRs, colLogSumExps, colMadDiffs,\n",
      "    colMads, colMaxs, colMeans2, colMedians, colMins, colOrderStats,\n",
      "    colProds, colQuantiles, colRanges, colRanks, colSdDiffs, colSds,\n",
      "    colSums2, colTabulates, colVarDiffs, colVars, colWeightedMads,\n",
      "    colWeightedMeans, colWeightedMedians, colWeightedSds,\n",
      "    colWeightedVars, rowAlls, rowAnyNAs, rowAnys, rowAvgsPerColSet,\n",
      "    rowCollapse, rowCounts, rowCummaxs, rowCummins, rowCumprods,\n",
      "    rowCumsums, rowDiffs, rowIQRDiffs, rowIQRs, rowLogSumExps,\n",
      "    rowMadDiffs, rowMads, rowMaxs, rowMeans2, rowMedians, rowMins,\n",
      "    rowOrderStats, rowProds, rowQuantiles, rowRanges, rowRanks,\n",
      "    rowSdDiffs, rowSds, rowSums2, rowTabulates, rowVarDiffs, rowVars,\n",
      "    rowWeightedMads, rowWeightedMeans, rowWeightedMedians,\n",
      "    rowWeightedSds, rowWeightedVars\n",
      "\n",
      "\n",
      "Loading required package: Biobase\n",
      "\n",
      "Welcome to Bioconductor\n",
      "\n",
      "    Vignettes contain introductory material; view with\n",
      "    'browseVignettes()'. To cite Bioconductor, see\n",
      "    'citation(\"Biobase\")', and for packages 'citation(\"pkgname\")'.\n",
      "\n",
      "\n",
      "\n",
      "Attaching package: ‘Biobase’\n",
      "\n",
      "\n",
      "The following object is masked from ‘package:MatrixGenerics’:\n",
      "\n",
      "    rowMedians\n",
      "\n",
      "\n",
      "The following objects are masked from ‘package:matrixStats’:\n",
      "\n",
      "    anyMissing, rowMedians\n",
      "\n",
      "\n",
      " >>> DiffBind 3.4\n",
      "\n"
     ]
    }
   ],
   "source": [
    "library(\"tidyverse\")\n",
    "library(\"DiffBind\")\n",
    "library(\"readxl\")\n",
    "library(\"pheatmap\")\n",
    "options(bitmapType=\"cairo\")\n",
    "\n",
    "setwd(\"/mnt/jw01-aruk-home01/projects/psa_functional_genomics/PsA_cleaned_analysis/ATAC_seq_analysis\")\n"
   ]
  },
  {
   "cell_type": "code",
   "execution_count": 2,
   "metadata": {
    "vscode": {
     "languageId": "r"
    }
   },
   "outputs": [],
   "source": [
    "dataset_info_file = \"../metadata/cleaned_ATAC_metadata.csv\"\n",
    "dataset_info = read.csv(dataset_info_file)\n",
    "dataset_peaks_location = \"/mnt/jw01-aruk-home01/projects/psa_functional_genomics/master_ATAC_ChIP_analyzer/macs2\"\n",
    "dataset_alignment_location = \"/mnt/jw01-aruk-home01/projects/psa_functional_genomics/master_ATAC_ChIP_analyzer/clean_alignments\"\n",
    "\n",
    "dataset_info <- dataset_info %>% filter(condition %in% c(\"healthy\", \"patient\", \"synovium\"))\n",
    "\n",
    "data_for_diffbind <- dataset_info %>% select(id, patient, cell_type, condition, active_disease, female_sex, on_bDMARD_tsDMARD,\n",
    "on_csDMARD, on_steroid, On_MTX, group, age, disease_duration, cell_type) %>% mutate(folder = paste0(id, \"_ATAC\"))\n",
    "data_for_diffbind <- data_for_diffbind %>% mutate(Peaks = paste0(dataset_peaks_location, \"/\", folder, \"/\", folder, \"_peaks_nosex.narrowPeak\"), \n",
    "bamReads = paste0(dataset_alignment_location, \"/\", folder, \"/\", folder, \"_align_filtered_macs2.bam\"), PeakCaller = \"narrow\")\n",
    "\n",
    "load(\".local/diffbind_object.Rdata\")\n",
    "\n",
    "data_object$class[DBA_TISSUE, ] = data_for_diffbind$cell_type\n",
    "data_object$class[DBA_FACTOR, ] = data_for_diffbind$female_sex\n",
    "\n",
    "norm_dba_object <- dba.normalize(data_object, normalize=DBA_NORM_NATIVE,\n",
    "library=DBA_LIBSIZE_PEAKREADS,background=FALSE)"
   ]
  },
  {
   "cell_type": "markdown",
   "metadata": {},
   "source": [
    "## running individual contrasts for the results we want"
   ]
  },
  {
   "cell_type": "code",
   "execution_count": 4,
   "metadata": {
    "vscode": {
     "languageId": "r"
    }
   },
   "outputs": [
    {
     "name": "stderr",
     "output_type": "stream",
     "text": [
      "Computing results names...\n",
      "\n",
      "Normalize DESeq2 with defaults...\n",
      "\n",
      "Analyzing...\n",
      "\n",
      "gene-wise dispersion estimates\n",
      "\n",
      "mean-dispersion relationship\n",
      "\n",
      "final dispersion estimates\n",
      "\n"
     ]
    }
   ],
   "source": [
    "# Differences between CD8 and CD4 T cells\n",
    "\n",
    "res_condition <- dba(norm_dba_object,data_for_diffbind$condition != \"synovium\")\n",
    "res_condition = dba.contrast(res_condition, design = \"~ Tissue + Factor\",\n",
    "    contrast = c(\"Tissue\", \"CD8\", \"CD4\"))\n",
    "\n",
    "res_condition = dba.analyze(res_condition)\n",
    "differential_peaks <- dba.report(res_condition, th = 1)\n",
    "write.csv(differential_peaks, file=\".local/diffbind_result/DE_CD8_vs_CD4_all.csv\")"
   ]
  },
  {
   "cell_type": "code",
   "execution_count": 5,
   "metadata": {
    "vscode": {
     "languageId": "r"
    }
   },
   "outputs": [
    {
     "name": "stderr",
     "output_type": "stream",
     "text": [
      "Computing results names...\n",
      "\n",
      "Normalize DESeq2 with defaults...\n",
      "\n",
      "Analyzing...\n",
      "\n",
      "gene-wise dispersion estimates\n",
      "\n",
      "mean-dispersion relationship\n",
      "\n",
      "final dispersion estimates\n",
      "\n"
     ]
    }
   ],
   "source": [
    "# Differences between CD4 SF with CD4\n",
    "## including all\n",
    "\n",
    "res_condition <- dba(norm_dba_object,data_for_diffbind$cell_type %in% c(\"CD4\", \"CD4_SF\"))\n",
    "res_condition = dba.contrast(res_condition, design = \"~ Tissue + Factor\",\n",
    "    contrast = c(\"Tissue\", \"CD4_SF\", \"CD4\"))\n",
    "\n",
    "res_condition = dba.analyze(res_condition)\n",
    "differential_peaks <- dba.report(res_condition, th = 1)\n",
    "write.csv(differential_peaks, file=\".local/diffbind_result/DE_CD4SF_vs_CD4_all.csv\")"
   ]
  },
  {
   "cell_type": "code",
   "execution_count": 6,
   "metadata": {
    "vscode": {
     "languageId": "r"
    }
   },
   "outputs": [
    {
     "name": "stderr",
     "output_type": "stream",
     "text": [
      "Computing results names...\n",
      "\n",
      "Normalize DESeq2 with defaults...\n",
      "\n",
      "Analyzing...\n",
      "\n",
      "gene-wise dispersion estimates\n",
      "\n",
      "mean-dispersion relationship\n",
      "\n",
      "final dispersion estimates\n",
      "\n"
     ]
    }
   ],
   "source": [
    "## looking only at high disease activity\n",
    "\n",
    "res_condition <- dba(norm_dba_object,data_for_diffbind$cell_type %in% c(\"CD4\", \"CD4_SF\") & data_for_diffbind$active_disease == \"1\")\n",
    "res_condition = dba.contrast(res_condition, design = \"~ Tissue + Factor\",\n",
    "    contrast = c(\"Tissue\", \"CD4_SF\", \"CD4\"))\n",
    "\n",
    "res_condition = dba.analyze(res_condition)\n",
    "differential_peaks <- dba.report(res_condition, th = 1)\n",
    "write.csv(differential_peaks, file=\".local/diffbind_result/DE_CD4SF_vs_CD4_high_activity.csv\")"
   ]
  },
  {
   "cell_type": "code",
   "execution_count": 7,
   "metadata": {
    "vscode": {
     "languageId": "r"
    }
   },
   "outputs": [
    {
     "name": "stderr",
     "output_type": "stream",
     "text": [
      "Computing results names...\n",
      "\n",
      "Normalize DESeq2 with defaults...\n",
      "\n",
      "Analyzing...\n",
      "\n",
      "gene-wise dispersion estimates\n",
      "\n",
      "mean-dispersion relationship\n",
      "\n",
      "final dispersion estimates\n",
      "\n"
     ]
    }
   ],
   "source": [
    "# Differences between CD8 SF with CD8\n",
    "## including all\n",
    "\n",
    "res_condition <- dba(norm_dba_object,data_for_diffbind$cell_type %in% c(\"CD8\", \"CD8_SF\"))\n",
    "res_condition = dba.contrast(res_condition, design = \"~ Tissue + Factor\",\n",
    "    contrast = c(\"Tissue\", \"CD8_SF\", \"CD8\"))\n",
    "\n",
    "res_condition = dba.analyze(res_condition)\n",
    "differential_peaks <- dba.report(res_condition, th = 1)\n",
    "write.csv(differential_peaks, file=\".local/diffbind_result/DE_CD8SF_vs_CD8_all.csv\")"
   ]
  },
  {
   "cell_type": "code",
   "execution_count": 8,
   "metadata": {
    "vscode": {
     "languageId": "r"
    }
   },
   "outputs": [
    {
     "name": "stderr",
     "output_type": "stream",
     "text": [
      "Computing results names...\n",
      "\n",
      "Normalize DESeq2 with defaults...\n",
      "\n",
      "Analyzing...\n",
      "\n",
      "gene-wise dispersion estimates\n",
      "\n",
      "mean-dispersion relationship\n",
      "\n",
      "final dispersion estimates\n",
      "\n"
     ]
    }
   ],
   "source": [
    "## looking only at high disease activity\n",
    "\n",
    "res_condition <- dba(norm_dba_object,data_for_diffbind$cell_type %in% c(\"CD8\", \"CD8_SF\") & data_for_diffbind$active_disease == \"1\")\n",
    "res_condition = dba.contrast(res_condition, design = \"~ Tissue + Factor\",\n",
    "    contrast = c(\"Tissue\", \"CD8_SF\", \"CD8\"))\n",
    "\n",
    "res_condition = dba.analyze(res_condition)\n",
    "differential_peaks <- dba.report(res_condition, th = 1)\n",
    "write.csv(differential_peaks, file=\".local/diffbind_result/DE_CD8SF_vs_CD8_high_activity.csv\")"
   ]
  },
  {
   "cell_type": "code",
   "execution_count": 9,
   "metadata": {
    "vscode": {
     "languageId": "r"
    }
   },
   "outputs": [
    {
     "data": {
      "text/plain": [
       "R version 4.1.2 (2021-11-01)\n",
       "Platform: x86_64-pc-linux-gnu (64-bit)\n",
       "Running under: Scientific Linux 7.4 (Nitrogen)\n",
       "\n",
       "Matrix products: default\n",
       "BLAS:   /opt/gridware/el7/apps/gcc/R/4.1.2/lib64/R/lib/libRblas.so\n",
       "LAPACK: /opt/gridware/el7/apps/gcc/R/4.1.2/lib64/R/lib/libRlapack.so\n",
       "\n",
       "locale:\n",
       " [1] LC_CTYPE=en_GB.UTF-8       LC_NUMERIC=C              \n",
       " [3] LC_TIME=en_GB.UTF-8        LC_COLLATE=en_GB.UTF-8    \n",
       " [5] LC_MONETARY=en_GB.UTF-8    LC_MESSAGES=en_GB.UTF-8   \n",
       " [7] LC_PAPER=en_GB.UTF-8       LC_NAME=C                 \n",
       " [9] LC_ADDRESS=C               LC_TELEPHONE=C            \n",
       "[11] LC_MEASUREMENT=en_GB.UTF-8 LC_IDENTIFICATION=C       \n",
       "\n",
       "attached base packages:\n",
       "[1] stats4    stats     graphics  grDevices utils     datasets  methods  \n",
       "[8] base     \n",
       "\n",
       "other attached packages:\n",
       " [1] pheatmap_1.0.12             readxl_1.3.1               \n",
       " [3] DiffBind_3.4.7              SummarizedExperiment_1.24.0\n",
       " [5] Biobase_2.54.0              MatrixGenerics_1.6.0       \n",
       " [7] matrixStats_0.61.0          GenomicRanges_1.46.1       \n",
       " [9] GenomeInfoDb_1.30.0         IRanges_2.28.0             \n",
       "[11] S4Vectors_0.32.4            BiocGenerics_0.40.0        \n",
       "[13] forcats_0.5.1               stringr_1.4.1              \n",
       "[15] dplyr_1.1.0                 purrr_0.3.4                \n",
       "[17] readr_2.1.1                 tidyr_1.1.4                \n",
       "[19] tibble_3.1.6                ggplot2_3.4.0              \n",
       "[21] tidyverse_1.3.1            \n",
       "\n",
       "loaded via a namespace (and not attached):\n",
       "  [1] uuid_1.0-4               backports_1.4.1          plyr_1.8.6              \n",
       "  [4] repr_1.1.4               splines_4.1.2            BiocParallel_1.28.3     \n",
       "  [7] amap_0.8-18              digest_0.6.29            invgamma_1.1            \n",
       " [10] htmltools_0.5.4          SQUAREM_2021.1           fansi_1.0.2             \n",
       " [13] magrittr_2.0.3           memoise_2.0.1            BSgenome_1.62.0         \n",
       " [16] tzdb_0.2.0               limma_3.50.0             Biostrings_2.62.0       \n",
       " [19] annotate_1.72.0          modelr_0.1.8             systemPipeR_2.0.5       \n",
       " [22] bdsmatrix_1.3-4          jpeg_0.1-9               colorspace_2.0-3        \n",
       " [25] blob_1.2.2               rvest_1.0.2              apeglm_1.16.0           \n",
       " [28] ggrepel_0.9.1            haven_2.4.3              crayon_1.5.0            \n",
       " [31] RCurl_1.98-1.5           jsonlite_1.8.0           genefilter_1.76.0       \n",
       " [34] survival_3.2-13          glue_1.6.2               gtable_0.3.0            \n",
       " [37] zlibbioc_1.40.0          XVector_0.34.0           DelayedArray_0.20.0     \n",
       " [40] scales_1.2.1             mvtnorm_1.1-3            DBI_1.1.2               \n",
       " [43] edgeR_3.36.0             Rcpp_1.0.8.3             xtable_1.8-4            \n",
       " [46] emdbook_1.3.12           bit_4.0.4                truncnorm_1.0-8         \n",
       " [49] htmlwidgets_1.6.1        httr_1.4.2               gplots_3.1.1            \n",
       " [52] RColorBrewer_1.1-3       ellipsis_0.3.2           pkgconfig_2.0.3         \n",
       " [55] XML_3.99-0.8             dbplyr_2.1.1             locfit_1.5-9.4          \n",
       " [58] utf8_1.2.2               tidyselect_1.2.0         rlang_1.0.6             \n",
       " [61] AnnotationDbi_1.56.2     munsell_0.5.0            cellranger_1.1.0        \n",
       " [64] tools_4.1.2              cachem_1.0.6             cli_3.3.0               \n",
       " [67] generics_0.1.1           RSQLite_2.2.9            broom_0.7.12            \n",
       " [70] evaluate_0.16            fastmap_1.1.0            yaml_2.3.5              \n",
       " [73] bit64_4.0.5              fs_1.5.2                 caTools_1.18.2          \n",
       " [76] KEGGREST_1.34.0          xml2_1.3.3               compiler_4.1.2          \n",
       " [79] rstudioapi_0.14          png_0.1-7                reprex_2.0.1            \n",
       " [82] geneplotter_1.72.0       stringi_1.7.8            lattice_0.20-45         \n",
       " [85] IRdisplay_1.1            Matrix_1.5-3             vctrs_0.5.2             \n",
       " [88] pillar_1.8.1             lifecycle_1.0.3          bitops_1.0-7            \n",
       " [91] irlba_2.3.5              rtracklayer_1.54.0       R6_2.5.1                \n",
       " [94] BiocIO_1.4.0             latticeExtra_0.6-29      hwriter_1.3.2           \n",
       " [97] ShortRead_1.52.0         KernSmooth_2.23-20       MASS_7.3-55             \n",
       "[100] gtools_3.9.2             assertthat_0.2.1         DESeq2_1.34.0           \n",
       "[103] rjson_0.2.21             withr_2.5.0              GenomicAlignments_1.30.0\n",
       "[106] Rsamtools_2.10.0         GenomeInfoDbData_1.2.7   parallel_4.1.2          \n",
       "[109] hms_1.1.1                grid_4.1.2               IRkernel_1.3            \n",
       "[112] coda_0.19-4              GreyListChIP_1.26.0      ashr_2.2-47             \n",
       "[115] mixsqp_0.3-43            pbdZMQ_0.3-7             bbmle_1.0.24            \n",
       "[118] numDeriv_2016.8-1.1      lubridate_1.8.0          base64enc_0.1-3         \n",
       "[121] restfulr_0.0.13         "
      ]
     },
     "metadata": {},
     "output_type": "display_data"
    }
   ],
   "source": [
    "sessionInfo()"
   ]
  },
  {
   "cell_type": "code",
   "execution_count": null,
   "metadata": {
    "vscode": {
     "languageId": "r"
    }
   },
   "outputs": [],
   "source": []
  }
 ],
 "metadata": {
  "kernelspec": {
   "display_name": "R_4.1.2_incline",
   "language": "R",
   "name": "r_4.1.2_incline"
  },
  "language_info": {
   "codemirror_mode": "r",
   "file_extension": ".r",
   "mimetype": "text/x-r-source",
   "name": "R",
   "pygments_lexer": "r",
   "version": "4.1.2"
  },
  "orig_nbformat": 4
 },
 "nbformat": 4,
 "nbformat_minor": 2
}
