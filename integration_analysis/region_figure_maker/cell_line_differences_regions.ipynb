{
 "cells": [
  {
   "attachments": {},
   "cell_type": "markdown",
   "metadata": {},
   "source": [
    "# this requires a specific modified version of coolbox\n",
    "The code is presented here for reference"
   ]
  },
  {
   "cell_type": "code",
   "execution_count": 2,
   "metadata": {},
   "outputs": [],
   "source": [
    "from coolbox.api import *\n",
    "import matplotlib.pyplot as plt\n",
    "import pandas as pd\n",
    "base_dir = \"/mnt/jw01-aruk-home01/projects/psa_functional_genomics/PsA_cleaned_analysis\"\n",
    "\n",
    "plt.rcParams['figure.facecolor'] = \"white\""
   ]
  },
  {
   "attachments": {},
   "cell_type": "markdown",
   "metadata": {},
   "source": [
    "# prepare data"
   ]
  },
  {
   "cell_type": "code",
   "execution_count": 8,
   "metadata": {},
   "outputs": [],
   "source": [
    "genes_gtf = \"/mnt/jw01-aruk-home01/projects/psa_functional_genomics/NEW_references/genes/gencode.v29.primary_assembly.annotation.gtf\"\n",
    "hic_CD4 = \"/mnt/jw01-aruk-home01/projects/psa_functional_genomics/master_HiC_analyzer/juiceboxes/big_merger_all_CD4_oct22.hic\"\n",
    "hic_jurkat = \"/mnt/jw01-aruk-home01/projects/psa_functional_genomics/master_HiC_analyzer/juiceboxes/all_jurkat/all_jurkat.allValidPairs.hic\""
   ]
  },
  {
   "cell_type": "code",
   "execution_count": 15,
   "metadata": {},
   "outputs": [],
   "source": [
    "frame = XAxis() + GTF(genes_gtf, row_filter = 'feature == \"gene\" ; gene_type == \"protein_coding\"')  # input a file path\n",
    "frame = frame + HiCMat(hic_CD4, resolution = 10000, balance=\"SCALE\", max_value = \"percentile_97\", height = 7, _mod_rasterized=\"yes\") + Title(\"Primary CD4+ T cells\") \n",
    "frame = frame + HiCMat(hic_jurkat, resolution = 10000, balance=\"SCALE\", max_value = \"percentile_97\", height = 7, _mod_rasterized=\"yes\") + Title(\"Jurkat CD4+ T cells\") \n",
    "fig = frame.plot(\"chr2:196587093-197730715\")  # input a genome range\n",
    "fig\n",
    "fig.savefig(f\"{base_dir}/integration_analysis/region_figure_maker/region_figures/ANKRD44.svg\",dpi = 600)"
   ]
  },
  {
   "cell_type": "code",
   "execution_count": 16,
   "metadata": {},
   "outputs": [],
   "source": [
    "frame = XAxis() + GTF(genes_gtf, row_filter = 'feature == \"gene\" ; gene_type == \"protein_coding\"')  # input a file path\n",
    "frame = frame + HiCMat(hic_CD4, resolution = 5000, balance=\"SCALE\", max_value = \"percentile_98\", height = 7, _mod_rasterized=\"yes\") + Title(\"Primary CD4+ T cells\") \n",
    "frame = frame + HiCMat(hic_jurkat, resolution = 5000, balance=\"SCALE\", max_value = \"percentile_98\", height = 7, _mod_rasterized=\"yes\") + Title(\"Jurkat CD4+ T cells\") \n",
    "fig = frame.plot(\"chr12:9561441-10084738\")  # input a genome range\n",
    "fig\n",
    "fig.savefig(f\"{base_dir}/integration_analysis/region_figure_maker/region_figures/KLRF1.svg\",dpi = 600)"
   ]
  },
  {
   "cell_type": "code",
   "execution_count": 18,
   "metadata": {},
   "outputs": [],
   "source": [
    "frame = XAxis() + GTF(genes_gtf, row_filter = 'feature == \"gene\" ; gene_type == \"protein_coding\"')  # input a file path\n",
    "frame = frame + HiCMat(hic_CD4, resolution = 5000, balance=\"SCALE\", max_value = \"percentile_98\", height = 7, _mod_rasterized=\"yes\") + Title(\"Primary CD4+ T cells\") \n",
    "frame = frame + HiCMat(hic_jurkat, resolution = 5000, balance=\"SCALE\", max_value = \"percentile_98\", height = 7, _mod_rasterized=\"yes\") + Title(\"Jurkat CD4+ T cells\") \n",
    "fig = frame.plot(\"chr5:157000000-157400000\")  # input a genome range\n",
    "\n",
    "fig.savefig(f\"{base_dir}/integration_analysis/region_figure_maker/region_figures/ITK.svg\",dpi = 600)"
   ]
  },
  {
   "cell_type": "code",
   "execution_count": 19,
   "metadata": {},
   "outputs": [],
   "source": [
    "frame = XAxis() + GTF(genes_gtf, row_filter = 'feature == \"gene\" ; gene_type == \"protein_coding\"')  # input a file path\n",
    "frame = frame + HiCMat(hic_CD4, resolution = 5000, balance=\"SCALE\", max_value = \"percentile_98\", height = 7, _mod_rasterized=\"yes\") + Title(\"Primary CD4+ T cells\") \n",
    "frame = frame + HiCMat(hic_jurkat, resolution = 5000, balance=\"SCALE\", max_value = \"percentile_98\", height = 7, _mod_rasterized=\"yes\") + Title(\"Jurkat CD4+ T cells\") \n",
    "fig = frame.plot(\"chr6:111197387-112161165\")  # input a genome range\n",
    "fig.savefig(f\"{base_dir}/integration_analysis/region_figure_maker/region_figures/FYN.svg\",dpi = 600)"
   ]
  },
  {
   "cell_type": "code",
   "execution_count": 29,
   "metadata": {},
   "outputs": [],
   "source": [
    "hic_CD8 = \"/mnt/jw01-aruk-home01/projects/psa_functional_genomics/master_HiC_analyzer/juiceboxes/big_merger_all_CD8_oct22.hic\"\n",
    "hic_myla = \"/mnt/jw01-aruk-home01/projects/psa_functional_genomics/master_HiC_analyzer/juiceboxes/MyLa_all_old_ARIMA/MyLa_all_old_ARIMA.allValidPairs.hic\""
   ]
  },
  {
   "cell_type": "code",
   "execution_count": 34,
   "metadata": {},
   "outputs": [],
   "source": [
    "frame = XAxis() + GTF(genes_gtf, row_filter = 'feature == \"gene\" ; gene_type == \"protein_coding\"')  # input a file path\n",
    "frame = frame + HiCMat(hic_CD8, resolution = 10000, balance=\"SCALE\", max_value = \"percentile_98\", height = 7, _mod_rasterized=\"yes\") + Title(\"Primary CD8+ T cells\") \n",
    "frame = frame + HiCMat(hic_myla, resolution = 10000, balance=\"SCALE\", max_value = \"percentile_98\", height = 7, _mod_rasterized=\"yes\") + Title(\"MyLa CD8+ T cells\") \n",
    "fig = frame.plot(\"chr5:132058837-132706486\")  # input a genome range\n",
    "fig\n",
    "fig.savefig(f\"{base_dir}/integration_analysis/region_figure_maker/region_figures/SLC22A5.svg\",dpi = 600)\n"
   ]
  },
  {
   "cell_type": "code",
   "execution_count": 35,
   "metadata": {},
   "outputs": [],
   "source": [
    "frame = XAxis() + GTF(genes_gtf, row_filter = 'feature == \"gene\" ; gene_type == \"protein_coding\"')  # input a file path\n",
    "frame = frame + HiCMat(hic_CD8, resolution = 5000, balance=\"SCALE\", max_value = \"percentile_97\", height = 7, _mod_rasterized=\"yes\") + Title(\"Primary CD8+ T cells\") \n",
    "frame = frame + HiCMat(hic_myla, resolution = 5000, balance=\"SCALE\", max_value = \"percentile_97\", height = 7, _mod_rasterized=\"yes\") + Title(\"MyLa CD8+ T cells\") \n",
    "fig = frame.plot(\"chr14:24425488-24839737\")  # input a genome range\n",
    "fig.savefig(f\"{base_dir}/integration_analysis/region_figure_maker/region_figures/GZMB.svg\",dpi = 600)\n"
   ]
  },
  {
   "cell_type": "code",
   "execution_count": null,
   "metadata": {},
   "outputs": [],
   "source": []
  }
 ],
 "metadata": {
  "kernelspec": {
   "display_name": "Python 3",
   "language": "python",
   "name": "python3"
  },
  "language_info": {
   "codemirror_mode": {
    "name": "ipython",
    "version": 3
   },
   "file_extension": ".py",
   "mimetype": "text/x-python",
   "name": "python",
   "nbconvert_exporter": "python",
   "pygments_lexer": "ipython3",
   "version": "3.9.10"
  },
  "orig_nbformat": 4
 },
 "nbformat": 4,
 "nbformat_minor": 2
}
