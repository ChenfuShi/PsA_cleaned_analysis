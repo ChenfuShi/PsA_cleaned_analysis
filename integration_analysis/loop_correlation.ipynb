{
 "cells": [
  {
   "attachments": {},
   "cell_type": "markdown",
   "metadata": {},
   "source": [
    "# script that quantifies how loops correlate with gene expression and chromatin accessibility"
   ]
  },
  {
   "cell_type": "code",
   "execution_count": 1,
   "metadata": {},
   "outputs": [
    {
     "name": "stdout",
     "output_type": "stream",
     "text": [
      "INFO: Pandarallel will run on 16 workers.\n",
      "INFO: Pandarallel will use Memory file system to transfer data between the main process and workers.\n"
     ]
    }
   ],
   "source": [
    "import pandas as pd\n",
    "import numpy as np\n",
    "import hicstraw \n",
    "from multiprocessing import Pool\n",
    "from functools import partial\n",
    "import glob\n",
    "import os\n",
    "import plotly.express as px\n",
    "import math\n",
    "import matplotlib.pyplot as plt\n",
    "from matplotlib import colors\n",
    "from pandarallel import pandarallel\n",
    "import cooler\n",
    "import cooltools\n",
    "import pybedtools as pbed\n",
    "pandarallel.initialize()\n",
    "from scipy import stats, special\n",
    "from statsmodels.stats import multitest\n",
    "import statsmodels.api as sm\n",
    "import statsmodels.formula.api as smf\n",
    "import plotly.io as pio\n",
    "import seaborn as sns\n",
    "os.makedirs(\"/mnt/iusers01/jw01/mdefscs4/scratch/temp_pybedtools/\", exist_ok = True)\n",
    "pbed.helpers.set_tempdir(\"/mnt/iusers01/jw01/mdefscs4/scratch/temp_pybedtools/\")\n",
    "bed_genome_file = \"/mnt/iusers01/jw01/mdefscs4/hg38.genome\"\n",
    "\n",
    "plt.rcParams['svg.fonttype'] = 'none'\n",
    "\n",
    "base_dir = \"/mnt/jw01-aruk-home01/projects/psa_functional_genomics/PsA_cleaned_analysis\""
   ]
  },
  {
   "cell_type": "code",
   "execution_count": 2,
   "metadata": {},
   "outputs": [],
   "source": [
    "gtf_annotation_df = pd.read_pickle(f\"{base_dir}/gencode_gtf.pickle\")\n",
    "gtf_transcripts = gtf_annotation_df[(gtf_annotation_df[\"feature\"] == \"transcript\") & (gtf_annotation_df[\"transcript_type\"] == \"protein_coding\")].dropna(axis=1, how='all')\n",
    "gtf_transcripts[\"gene_id\"] = gtf_transcripts[\"gene_id\"].str.split(\".\").str[0]\n",
    "gtf_transcripts[\"transcript_id\"] = gtf_transcripts[\"transcript_id\"].str.split(\".\").str[0]\n",
    "gtf_transcripts[\"TSS_start\"] = gtf_transcripts.apply(lambda x: int(x[\"start\"]) if x[\"strand\"] == \"+\" else int(x[\"end\"]) ,axis = 1)"
   ]
  },
  {
   "cell_type": "code",
   "execution_count": 3,
   "metadata": {},
   "outputs": [],
   "source": [
    "RNA_normalized_counts = pd.read_csv(f\"{base_dir}/RNA_seq_analysis/RNA_normalized_counts.csv\")\n",
    "metadata_RNA = pd.read_csv(f\"{base_dir}/metadata/cleaned_RNA_metadata.csv\", index_col=0)\n",
    "column_name_dict = dict(zip(metadata_RNA['sample'], metadata_RNA['proper_name']))\n",
    "RNA_normalized_counts = RNA_normalized_counts.rename(columns=column_name_dict)\n",
    "RNA_normalized_counts_melted = pd.melt(RNA_normalized_counts, id_vars=[\"ensembl\",\"ENSG\",\"symbol\",\"genename\",\"entrez\"], \n",
    "        value_vars=RNA_normalized_counts.columns.difference([\"ensembl\",\"ENSG\",\"symbol\",\"genename\",\"entrez\"]),\n",
    "        var_name=\"proper_name\",value_name=\"expression\")\n",
    "RNA_normalized_counts_melted = RNA_normalized_counts_melted.merge(metadata_RNA[[\"patient\",\"cell_type\",\"condition\",\"proper_name\"]], on = \"proper_name\")\n",
    "\n",
    "# RNA_normalized_counts_melted = RNA_normalized_counts_melted[RNA_normalized_counts_melted[\"cell_type\"].isin([\"CD4\",\"CD8\"])]"
   ]
  },
  {
   "cell_type": "code",
   "execution_count": 4,
   "metadata": {},
   "outputs": [],
   "source": [
    "RNA_diff = pd.read_csv(f\"{base_dir}/RNA_seq_analysis/DEseq2_result/DE_CD8_vs_CD4_all.csv\", index_col = 0)"
   ]
  },
  {
   "cell_type": "code",
   "execution_count": 5,
   "metadata": {},
   "outputs": [],
   "source": [
    "ATAC_normalised_counts = pd.read_csv(f\"{base_dir}/ATAC_seq_analysis/ATAC_DESeq2_quantile_normalized_counts.csv\", index_col = 0)\n",
    "metadata_ATAC = pd.read_csv(f\"{base_dir}/metadata/cleaned_ATAC_metadata.csv\", index_col=0)\n",
    "\n",
    "column_name_dict = dict(zip(metadata_ATAC['id'], metadata_ATAC['proper_name']))\n",
    "ATAC_normalised_counts = ATAC_normalised_counts.rename(columns=column_name_dict)\n",
    "ATAC_normalised_counts_melted = pd.melt(ATAC_normalised_counts, id_vars=[\"CHR\",\"START\",\"END\"], \n",
    "        value_vars=ATAC_normalised_counts.columns.difference([\"CHR\",\"START\",\"END\"]),\n",
    "        var_name=\"proper_name\",value_name=\"peak_height\")\n",
    "ATAC_normalised_counts_melted = ATAC_normalised_counts_melted.merge(metadata_ATAC[[\"patient\",\"cell_type\",\"condition\",\"proper_name\"]], on=\"proper_name\", suffixes = [\"\", \"_y\"])\n",
    "\n",
    "# ATAC_normalised_counts_melted = ATAC_normalised_counts_melted[ATAC_normalised_counts_melted[\"cell_type\"].isin([\"CD4\",\"CD8\"])]"
   ]
  },
  {
   "cell_type": "code",
   "execution_count": 6,
   "metadata": {},
   "outputs": [],
   "source": [
    "ATAC_diff = pd.read_csv(f\"{base_dir}/ATAC_seq_analysis/diffbind_result/DE_CD8_vs_CD4_all.csv\", index_col = 0)"
   ]
  },
  {
   "attachments": {},
   "cell_type": "markdown",
   "metadata": {},
   "source": [
    "## show if it matters if loop overlaps gene promoter"
   ]
  },
  {
   "attachments": {},
   "cell_type": "markdown",
   "metadata": {},
   "source": [
    "### annotate the loops with the genes that overlap it"
   ]
  },
  {
   "cell_type": "code",
   "execution_count": 7,
   "metadata": {},
   "outputs": [],
   "source": [
    "loops_analysed = pd.read_pickle(f\"{base_dir}/HiC_analysis/extracting_loop_counts/aggregated_counts/aggregated_normalized_loops_CD4_CD8.pk\")\n",
    "metadata_hic = pd.read_csv(f\"{base_dir}/metadata/cleaned_HiC_metadata.csv\", index_col = 0)\n",
    "column_name_dict = dict(zip(metadata_hic['folder_name'], metadata_hic['proper_name']))\n",
    "loops_analysed = loops_analysed.rename(columns=column_name_dict)\n",
    "# only do chr1 to save time\n",
    "\n",
    "loops_analysed = loops_analysed[loops_analysed[\"chrA\"] == \"1\"]\n",
    "\n",
    "loops_counts_melted = pd.melt(loops_analysed, id_vars=['chrA', 'A_start', 'A_end', 'chrB', 'B_start', 'B_end', 'FDR', 'DETECTION_SCALE', 'distance_bin'], \n",
    "        value_vars=loops_analysed.columns.difference(['chrA', 'A_start', 'A_end', 'chrB', 'B_start', 'B_end', 'FDR', 'DETECTION_SCALE', 'distance_bin']),\n",
    "        var_name=\"proper_name\",value_name=\"interaction_strength\")\n",
    "\n",
    "loops_counts_melted = loops_counts_melted.merge(metadata_hic[[\"patient\",\"cell_type\",\"condition\",\"proper_name\"]], on = \"proper_name\")"
   ]
  },
  {
   "attachments": {},
   "cell_type": "markdown",
   "metadata": {},
   "source": [
    "only annotate the genes that are expressed in our cells"
   ]
  },
  {
   "cell_type": "code",
   "execution_count": 8,
   "metadata": {},
   "outputs": [],
   "source": [
    "gtf_transcripts_expressed = gtf_transcripts[gtf_transcripts[\"gene_id\"].isin(RNA_normalized_counts[\"ENSG\"].to_list())]"
   ]
  },
  {
   "cell_type": "code",
   "execution_count": 9,
   "metadata": {},
   "outputs": [],
   "source": [
    "def retrieve_genes(chr,start,end):\n",
    "    if not chr.startswith(\"chr\"):\n",
    "        chr = \"chr\" + chr\n",
    "    genes = gtf_transcripts_expressed[(gtf_transcripts_expressed[\"seqname\"] == chr) & (gtf_transcripts_expressed[\"TSS_start\"] > start) & (gtf_transcripts_expressed[\"TSS_start\"] < end)]\n",
    "    return genes[\"gene_id\"].drop_duplicates().to_list()\n",
    "\n",
    "def retrieve_genes_overlapping(row):\n",
    "    genes_A = retrieve_genes(row[\"chrA\"],row[\"A_start\"],row[\"A_end\"])\n",
    "    genes_B = retrieve_genes(row[\"chrB\"],row[\"B_start\"],row[\"B_end\"])\n",
    "    return list(set(genes_A + genes_B))\n",
    "\n",
    "def retrieve_containing(row):\n",
    "    return retrieve_genes(row[\"chrA\"],row[\"A_start\"],row[\"B_end\"])\n",
    "\n",
    "def retrieve_surrounding(row):\n",
    "    return retrieve_genes(row[\"chrA\"],row[\"A_start\"] - 4000000, row[\"B_end\"] + 4000000)"
   ]
  },
  {
   "cell_type": "code",
   "execution_count": 10,
   "metadata": {},
   "outputs": [],
   "source": [
    "loops_analysed[\"genes_overlapping\"] = loops_analysed.parallel_apply(retrieve_genes_overlapping, axis = 1)\n",
    "loops_analysed[\"genes_contained\"] = loops_analysed.parallel_apply(retrieve_containing, axis = 1)\n",
    "loops_analysed[\"genes_surrounding\"] = loops_analysed.parallel_apply(retrieve_surrounding, axis = 1)"
   ]
  },
  {
   "cell_type": "code",
   "execution_count": 11,
   "metadata": {},
   "outputs": [],
   "source": [
    "def retrieve_gene_corr(row):\n",
    "    def retrieve_p_vals_gene(this_gene):\n",
    "        merged_df = loop_intensities.merge(RNA_normalized_counts_melted[RNA_normalized_counts_melted[\"ENSG\"] == this_gene], on = \"proper_name\")\n",
    "        s = smf.ols(\"interaction_strength~expression\", data = merged_df) # interaction_strength~expression+cell_type+condition_x\n",
    "        r = s.fit()\n",
    "        p = stats.pearsonr(merged_df[\"expression\"], merged_df[\"interaction_strength\"])[0]\n",
    "        return pd.concat((pd.Series({\"p_value\":r.pvalues.T[\"expression\"],\n",
    "            \"beta\":r.params.T[\"expression\"],\n",
    "            \"R_squared\":r.rsquared,\n",
    "            \"R_squared_ajd\":r.rsquared_adj,\n",
    "            \"interaction_mean\": merged_df[\"interaction_strength\"].mean(),\n",
    "            \"expression_mean\":merged_df[\"expression\"].mean(),\"gene\":this_gene, \"pearson\":p}), row))\n",
    "    loop_intensities = loops_counts_melted[(loops_counts_melted[\"chrA\"] == row[\"chrA\"]) & \n",
    "        (loops_counts_melted[\"A_start\"] == row[\"A_start\"]) & \n",
    "        (loops_counts_melted[\"B_start\"] == row[\"B_start\"])]\n",
    "    res = []\n",
    "    for gene in row[\"genes_surrounding\"]:\n",
    "        res.append(retrieve_p_vals_gene(gene))\n",
    "    if len(res) == 1:\n",
    "        return res[0].to_frame().T\n",
    "    else:\n",
    "        return pd.concat(res,axis = 1).T"
   ]
  },
  {
   "cell_type": "code",
   "execution_count": 12,
   "metadata": {},
   "outputs": [],
   "source": [
    "hic_diff = pd.read_csv(f\"{base_dir}/HiC_analysis/output_results/DE_loops_CD8_vs_CD4.csv\", index_col = 0, dtype = {\"chrA\":str,\"chrB\":str})\n",
    "loops_analysed_subset = loops_analysed.merge(hic_diff[(hic_diff[\"FDR\"] < 0.01) & (hic_diff[\"base_mean\"] > 10) & (hic_diff[\"chrA\"] == \"1\")][[\"chrA\",\"A_start\",\"B_start\"]],how=\"inner\")"
   ]
  },
  {
   "cell_type": "code",
   "execution_count": 13,
   "metadata": {},
   "outputs": [],
   "source": [
    "res = loops_analysed_subset[(loops_analysed_subset[\"genes_surrounding\"].map(len) > 0)].parallel_apply(retrieve_gene_corr, axis = 1, result_type = \"reduce\")"
   ]
  },
  {
   "cell_type": "code",
   "execution_count": 14,
   "metadata": {},
   "outputs": [],
   "source": [
    "out = pd.concat(res.to_list())\n",
    "out[\"gene_is_contained\"] = out.apply(lambda x: 1 if x[\"gene\"] in x[\"genes_contained\"] else 0, axis = 1)\n",
    "out[\"gene_is_overlapping\"] = out.apply(lambda x: 1 if x[\"gene\"] in x[\"genes_overlapping\"] else 0, axis = 1)"
   ]
  },
  {
   "cell_type": "code",
   "execution_count": 31,
   "metadata": {},
   "outputs": [
    {
     "data": {
      "image/png": "[encoded data removed]",
      "text/plain": [
       "<Figure size 288x360 with 2 Axes>"
      ]
     },
     "metadata": {
      "needs_background": "light"
     },
     "output_type": "display_data"
    }
   ],
   "source": [
    "sns.set_style(\"whitegrid\")\n",
    "fig, axes = plt.subplots(1,2, figsize = (4,5), sharey = True, facecolor=(0, 0, 0, 0))\n",
    "sns.boxplot(data = out[out[\"gene_is_contained\"] == 1], y = \"pearson\", x = \"gene_is_overlapping\", ax=axes[1], showfliers=False, whis=3)\n",
    "axes[1].set_xlabel(\"gene overlap loop anchor\")\n",
    "axes[1].set_xticklabels([\"no\",\"yes\"])\n",
    "axes[1].set_ylabel(\"Pearson's\")\n",
    "axes[1].set_ylim((-1,1))\n",
    "sns.boxplot(data = out, y = \"pearson\", x = \"gene_is_contained\", ax=axes[0], showfliers=False, whis=3)\n",
    "axes[0].set_xlabel(\"gene inside loop\")\n",
    "axes[0].set_xticklabels([\"no\",\"yes\"])\n",
    "axes[0].set_ylabel(\"Pearson's\")\n",
    "fig.savefig(f\"{base_dir}/integration_analysis/figures/RNA_correlations_loops_pearson.png\", dpi = 600)\n",
    "fig.savefig(f\"{base_dir}/integration_analysis/figures/RNA_correlations_loops_pearson.svg\", dpi = 600)"
   ]
  },
  {
   "cell_type": "code",
   "execution_count": null,
   "metadata": {},
   "outputs": [
    {
     "data": {
      "image/png": "[encoded data removed]",
      "text/plain": [
       "<Figure size 288x288 with 2 Axes>"
      ]
     },
     "metadata": {},
     "output_type": "display_data"
    }
   ],
   "source": [
    "sns.set_style(\"whitegrid\")\n",
    "fig, axes = plt.subplots(1,2, figsize = (4,4), sharey = True, facecolor=(0, 0, 0, 0))\n",
    "sns.boxplot(data = out[out[\"gene_is_contained\"] == 1], y = \"R_squared\", x = \"gene_is_overlapping\", ax=axes[1], showfliers=False)\n",
    "axes[1].set_xlabel(\"gene overlap loop anchor\")\n",
    "axes[1].set_xticklabels([\"no\",\"yes\"])\n",
    "axes[1].set_ylabel(\"R squared\")\n",
    "axes[1].set_ylim((-0.02,0.45))\n",
    "sns.boxplot(data = out, y = \"R_squared\", x = \"gene_is_contained\", ax=axes[0], showfliers=False)\n",
    "axes[0].set_xlabel(\"gene inside loop\")\n",
    "axes[0].set_xticklabels([\"no\",\"yes\"])\n",
    "axes[0].set_ylabel(\"R squared\")\n",
    "axes[0].set_ylim((-0.02,0.45))\n",
    "fig.savefig(f\"{base_dir}/integration_analysis/figures/RNA_correlations_loops.png\", dpi = 600)\n",
    "fig.savefig(f\"{base_dir}/integration_analysis/figures/RNA_correlations_loops.svg\", dpi = 600)"
   ]
  },
  {
   "attachments": {},
   "cell_type": "markdown",
   "metadata": {},
   "source": [
    "## Show the same thing for ATAC-seq peaks"
   ]
  },
  {
   "cell_type": "code",
   "execution_count": 16,
   "metadata": {},
   "outputs": [],
   "source": [
    "def associated_loops(df):\n",
    "    def retrieve_p_vals(this_peak):\n",
    "        this_peak = this_peak.merge(df[[\"proper_name\",\"interaction_strength\"]], on = \"proper_name\")\n",
    "        s = smf.ols(\"interaction_strength~peak_height\", data = this_peak) # interaction_strength~peak_height+cell_type+condition\n",
    "        r = s.fit()\n",
    "        p = stats.pearsonr(this_peak[\"peak_height\"], this_peak[\"interaction_strength\"])[0]\n",
    "        return pd.Series({\"p_value\":r.pvalues.T[\"peak_height\"],\n",
    "                            \"beta\":r.params.T[\"peak_height\"],\n",
    "                            \"R_squared\":r.rsquared,\n",
    "                            \"R_squared_ajd\":r.rsquared_adj,\n",
    "                            \"interaction_mean\": df[\"interaction_strength\"].mean(),\n",
    "                            \"peak_mean\":this_peak[\"peak_height\"].mean(),\n",
    "                            \"pearson\": p})\n",
    "    def overlaps_loop(row):\n",
    "        if row[\"END\"] > df[\"A_start\"].iloc[0] and row[\"START\"] < df[\"A_end\"].iloc[0]:\n",
    "            return 1\n",
    "        elif row[\"END\"] > df[\"B_start\"].iloc[0] and row[\"START\"] < df[\"B_end\"].iloc[0]:\n",
    "            return 1\n",
    "        else:\n",
    "            return 0\n",
    "    df_peaks = ATAC_normalised_counts_melted[(ATAC_normalised_counts_melted[\"CHR\"] == \"chr\" + str(df[\"chrA\"].iloc[0])) & \n",
    "        ((ATAC_normalised_counts_melted[\"START\"] > (df[\"A_start\"].iloc[0] - 4000000)) & \n",
    "        (ATAC_normalised_counts_melted[\"END\"] < (df[\"B_end\"].iloc[0] + 4000000)))]\n",
    "    pvals = df_peaks.groupby(['CHR', 'START', 'END']).apply(retrieve_p_vals).reset_index()\n",
    "    pvals[\"FDR\"] = multitest.fdrcorrection(pvals[\"p_value\"], alpha = 0.1)[1]\n",
    "    pvals[\"inside_loop\"] = pvals.apply(lambda row: 1 if row[\"START\"] > df[\"A_start\"].iloc[0] and row[\"END\"] < df[\"B_end\"].iloc[0] else 0, axis = 1)\n",
    "    pvals[\"overlap_loop\"] = pvals.apply(overlaps_loop, axis = 1)\n",
    "    return pvals"
   ]
  },
  {
   "cell_type": "code",
   "execution_count": 17,
   "metadata": {},
   "outputs": [],
   "source": [
    "loops_counts_melted_filt = loops_counts_melted.merge(hic_diff[(hic_diff[\"FDR\"] < 0.01) & (hic_diff[\"base_mean\"] > 10) & (hic_diff[\"chrA\"] == \"1\")][[\"chrA\",\"A_start\",\"B_start\"]],how=\"inner\")\n",
    "corr_all = loops_counts_melted_filt.groupby([\"chrA\",\"A_start\",\"B_start\"]).parallel_apply(associated_loops)"
   ]
  },
  {
   "cell_type": "code",
   "execution_count": 18,
   "metadata": {},
   "outputs": [],
   "source": [
    "corr_filtered = corr_all[(corr_all[\"interaction_mean\"] > 10) & (corr_all[\"peak_mean\"] > 10)]\n",
    "corr_filtered = corr_filtered.reset_index()\n",
    "corr_filtered[\"far_away\"] = corr_filtered.apply(lambda x: 1 if x[\"END\"] < (x[\"A_start\"] - 250000) or x[\"START\"] > (x[\"B_start\"] + 250000) else 0, axis = 1)"
   ]
  },
  {
   "cell_type": "code",
   "execution_count": 30,
   "metadata": {},
   "outputs": [
    {
     "data": {
      "image/png": "[encoded data removed]",
      "text/plain": [
       "<Figure size 504x360 with 3 Axes>"
      ]
     },
     "metadata": {
      "needs_background": "light"
     },
     "output_type": "display_data"
    }
   ],
   "source": [
    "fig, axes = plt.subplots(1,3, figsize = (7,5), sharey = True, facecolor=(0, 0, 0, 0))\n",
    "sns.boxplot(data = corr_filtered, y = \"pearson\", x = \"inside_loop\", ax=axes[0], showfliers=False, whis=3)\n",
    "axes[0].set_xlabel(\"inside loop\")\n",
    "axes[0].set_xticklabels([\"no\",\"yes\"])\n",
    "axes[0].set_ylabel(\"Pearson's\")\n",
    "axes[0].set_ylim((-1,1))\n",
    "sns.boxplot(data = corr_filtered[corr_filtered[\"inside_loop\"] == 1], y = \"pearson\", x = \"overlap_loop\", ax=axes[1], showfliers=False, whis=3)\n",
    "axes[1].set_xlabel(\"overlap loop anchor\")\n",
    "axes[1].set_xticklabels([\"no\",\"yes\"])\n",
    "axes[1].set_ylabel(\"Pearson's\")\n",
    "sns.boxplot(data = corr_filtered, y = \"pearson\", x = \"far_away\", ax=axes[2], showfliers=False, whis=3)\n",
    "axes[2].set_xlabel(\"more than 250kb away\")\n",
    "axes[2].set_xticklabels([\"no\",\"yes\"])\n",
    "axes[2].set_ylabel(\"Pearson's\")\n",
    "fig.savefig(f\"{base_dir}/integration_analysis/figures/ATAC_correlations_loops_pearson.png\", dpi = 600)\n",
    "fig.savefig(f\"{base_dir}/integration_analysis/figures/ATAC_correlations_loops_pearson.svg\", dpi = 600)"
   ]
  },
  {
   "cell_type": "code",
   "execution_count": null,
   "metadata": {},
   "outputs": [
    {
     "data": {
      "image/png": "[encoded data removed]",
      "text/plain": [
       "<Figure size 504x288 with 3 Axes>"
      ]
     },
     "metadata": {},
     "output_type": "display_data"
    }
   ],
   "source": [
    "fig, axes = plt.subplots(1,3, figsize = (7,4), sharey = True, facecolor=(0, 0, 0, 0))\n",
    "sns.boxplot(data = corr_filtered, y = \"R_squared\", x = \"inside_loop\", ax=axes[0], showfliers=False)\n",
    "axes[0].set_xlabel(\"inside loop\")\n",
    "axes[0].set_xticklabels([\"no\",\"yes\"])\n",
    "axes[0].set_ylabel(\"R squared\")\n",
    "axes[0].set_ylim((-0.02,0.45))\n",
    "sns.boxplot(data = corr_filtered[corr_filtered[\"inside_loop\"] == 1], y = \"R_squared\", x = \"overlap_loop\", ax=axes[1], showfliers=False)\n",
    "axes[1].set_xlabel(\"overlap loop anchor\")\n",
    "axes[1].set_xticklabels([\"no\",\"yes\"])\n",
    "axes[1].set_ylabel(\"R squared\")\n",
    "axes[1].set_ylim((-0.02,0.45))\n",
    "sns.boxplot(data = corr_filtered, y = \"R_squared\", x = \"far_away\", ax=axes[2], showfliers=False)\n",
    "axes[2].set_xlabel(\"more than 250kb away\")\n",
    "axes[2].set_xticklabels([\"no\",\"yes\"])\n",
    "axes[2].set_ylabel(\"R squared\")\n",
    "axes[2].set_ylim((-0.02,0.45))\n",
    "fig.savefig(f\"{base_dir}/integration_analysis/figures/ATAC_correlations_loops.png\", dpi = 600)\n",
    "fig.savefig(f\"{base_dir}/integration_analysis/figures/ATAC_correlations_loops.svg\", dpi = 600)"
   ]
  },
  {
   "cell_type": "code",
   "execution_count": null,
   "metadata": {},
   "outputs": [],
   "source": []
  },
  {
   "cell_type": "code",
   "execution_count": null,
   "metadata": {},
   "outputs": [],
   "source": []
  },
  {
   "cell_type": "code",
   "execution_count": null,
   "metadata": {},
   "outputs": [],
   "source": []
  },
  {
   "cell_type": "code",
   "execution_count": null,
   "metadata": {},
   "outputs": [],
   "source": []
  },
  {
   "cell_type": "code",
   "execution_count": null,
   "metadata": {},
   "outputs": [],
   "source": []
  },
  {
   "cell_type": "code",
   "execution_count": null,
   "metadata": {},
   "outputs": [],
   "source": []
  }
 ],
 "metadata": {
  "kernelspec": {
   "display_name": "Python 3",
   "language": "python",
   "name": "python3"
  },
  "language_info": {
   "codemirror_mode": {
    "name": "ipython",
    "version": 3
   },
   "file_extension": ".py",
   "mimetype": "text/x-python",
   "name": "python",
   "nbconvert_exporter": "python",
   "pygments_lexer": "ipython3",
   "version": "3.9.10"
  },
  "orig_nbformat": 4
 },
 "nbformat": 4,
 "nbformat_minor": 2
}
